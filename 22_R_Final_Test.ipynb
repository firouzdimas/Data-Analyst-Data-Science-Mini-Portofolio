{
  "nbformat": 4,
  "nbformat_minor": 0,
  "metadata": {
    "colab": {
      "provenance": [],
      "collapsed_sections": [],
      "include_colab_link": true
    },
    "kernelspec": {
      "name": "ir",
      "display_name": "R"
    },
    "language_info": {
      "name": "R"
    }
  },
  "cells": [
    {
      "cell_type": "markdown",
      "metadata": {
        "id": "view-in-github",
        "colab_type": "text"
      },
      "source": [
        "<a href=\"https://colab.research.google.com/github/firouzdimas/PunyaDewo/blob/main/22_R_Final_Test.ipynb\" target=\"_parent\"><img src=\"https://colab.research.google.com/assets/colab-badge.svg\" alt=\"Open In Colab\"/></a>"
      ]
    },
    {
      "cell_type": "code",
      "execution_count": null,
      "metadata": {
        "colab": {
          "base_uri": "https://localhost:8080/"
        },
        "collapsed": true,
        "id": "9uV3bIJHQYaK",
        "outputId": "e9ae36a4-2e8e-4e61-ff00-a2a1d6f827ba"
      },
      "outputs": [
        {
          "output_type": "stream",
          "name": "stderr",
          "text": [
            "Installing package into ‘/usr/local/lib/R/site-library’\n",
            "(as ‘lib’ is unspecified)\n",
            "\n",
            "Installing package into ‘/usr/local/lib/R/site-library’\n",
            "(as ‘lib’ is unspecified)\n",
            "\n"
          ]
        }
      ],
      "source": [
        "# Install required packages\n",
        "install.packages(\"palmerpenguins\")\n",
        "install.packages(\"tidyverse\")\n",
        "library(palmerpenguins)\n",
        "library(tidyr)\n",
        "library(dplyr)\n",
        "library(stringr)\n",
        "library(purrr)\n",
        "library(ggplot2)\n",
        "library(readr)"
      ]
    },
    {
      "cell_type": "code",
      "source": [
        "# read dataset\n",
        "bars_df <- read_csv(\"flavors_of_cacao.csv\")"
      ],
      "metadata": {
        "colab": {
          "base_uri": "https://localhost:8080/"
        },
        "collapsed": true,
        "id": "eQ9WlvOCRzuk",
        "outputId": "51d7c1d6-3ce7-4adc-ce73-c4808ecf5889"
      },
      "execution_count": null,
      "outputs": [
        {
          "output_type": "stream",
          "name": "stderr",
          "text": [
            "\u001b[1mRows: \u001b[22m\u001b[34m1795\u001b[39m \u001b[1mColumns: \u001b[22m\u001b[34m9\u001b[39m\n",
            "\u001b[36m──\u001b[39m \u001b[1mColumn specification\u001b[22m \u001b[36m────────────────────────────────────────────────────────\u001b[39m\n",
            "\u001b[1mDelimiter:\u001b[22m \",\"\n",
            "\u001b[31mchr\u001b[39m (6): Company \n",
            "(Maker-if known), Specific Bean Origin\n",
            "or Bar Name, Cocoa\n",
            "...\n",
            "\u001b[32mdbl\u001b[39m (3): REF, Review\n",
            "Date, Rating\n",
            "\n",
            "\u001b[36mℹ\u001b[39m Use `spec()` to retrieve the full column specification for this data.\n",
            "\u001b[36mℹ\u001b[39m Specify the column types or set `show_col_types = FALSE` to quiet this message.\n"
          ]
        }
      ]
    },
    {
      "cell_type": "code",
      "source": [
        "# View dataset\n",
        "glimpse(bars_df)\n",
        "head(bars_df)"
      ],
      "metadata": {
        "colab": {
          "base_uri": "https://localhost:8080/",
          "height": 483
        },
        "collapsed": true,
        "id": "bMJDo3vMfOAe",
        "outputId": "4b03e62a-d135-4608-d912-7d2d4c79d8c0"
      },
      "execution_count": null,
      "outputs": [
        {
          "output_type": "stream",
          "name": "stdout",
          "text": [
            "Rows: 1,795\n",
            "Columns: 9\n",
            "$ `Company \\n(Maker-if known)`        \u001b[3m\u001b[90m<chr>\u001b[39m\u001b[23m \"A. Morin\", \"A. Morin\", \"A. Morin\"…\n",
            "$ `Specific Bean Origin\\nor Bar Name` \u001b[3m\u001b[90m<chr>\u001b[39m\u001b[23m \"Agua Grande\", \"Kpime\", \"Atsane\", …\n",
            "$ REF                                 \u001b[3m\u001b[90m<dbl>\u001b[39m\u001b[23m 1876, 1676, 1676, 1680, 1704, 1315…\n",
            "$ `Review\\nDate`                      \u001b[3m\u001b[90m<dbl>\u001b[39m\u001b[23m 2016, 2015, 2015, 2015, 2015, 2014…\n",
            "$ `Cocoa\\nPercent`                    \u001b[3m\u001b[90m<chr>\u001b[39m\u001b[23m \"63%\", \"70%\", \"70%\", \"70%\", \"70%\",…\n",
            "$ `Company\\nLocation`                 \u001b[3m\u001b[90m<chr>\u001b[39m\u001b[23m \"France\", \"France\", \"France\", \"Fra…\n",
            "$ Rating                              \u001b[3m\u001b[90m<dbl>\u001b[39m\u001b[23m 3.75, 2.75, 3.00, 3.50, 3.50, 2.75…\n",
            "$ `Bean\\nType`                        \u001b[3m\u001b[90m<chr>\u001b[39m\u001b[23m \" \", \" \", \" \", \" \", \" \", \"Criollo\"…\n",
            "$ `Broad Bean\\nOrigin`                \u001b[3m\u001b[90m<chr>\u001b[39m\u001b[23m \"Sao Tome\", \"Togo\", \"Togo\", \"Togo\"…\n"
          ]
        },
        {
          "output_type": "display_data",
          "data": {
            "text/html": [
              "<table class=\"dataframe\">\n",
              "<caption>A tibble: 6 × 9</caption>\n",
              "<thead>\n",
              "\t<tr><th scope=col>Company \n",
              "(Maker-if known)</th><th scope=col>Specific Bean Origin\n",
              "or Bar Name</th><th scope=col>REF</th><th scope=col>Review\n",
              "Date</th><th scope=col>Cocoa\n",
              "Percent</th><th scope=col>Company\n",
              "Location</th><th scope=col>Rating</th><th scope=col>Bean\n",
              "Type</th><th scope=col>Broad Bean\n",
              "Origin</th></tr>\n",
              "\t<tr><th scope=col>&lt;chr&gt;</th><th scope=col>&lt;chr&gt;</th><th scope=col>&lt;dbl&gt;</th><th scope=col>&lt;dbl&gt;</th><th scope=col>&lt;chr&gt;</th><th scope=col>&lt;chr&gt;</th><th scope=col>&lt;dbl&gt;</th><th scope=col>&lt;chr&gt;</th><th scope=col>&lt;chr&gt;</th></tr>\n",
              "</thead>\n",
              "<tbody>\n",
              "\t<tr><td>A. Morin</td><td>Agua Grande</td><td>1876</td><td>2016</td><td>63%</td><td>France</td><td>3.75</td><td>       </td><td>Sao Tome </td></tr>\n",
              "\t<tr><td>A. Morin</td><td>Kpime      </td><td>1676</td><td>2015</td><td>70%</td><td>France</td><td>2.75</td><td>       </td><td>Togo     </td></tr>\n",
              "\t<tr><td>A. Morin</td><td>Atsane     </td><td>1676</td><td>2015</td><td>70%</td><td>France</td><td>3.00</td><td>       </td><td>Togo     </td></tr>\n",
              "\t<tr><td>A. Morin</td><td>Akata      </td><td>1680</td><td>2015</td><td>70%</td><td>France</td><td>3.50</td><td>       </td><td>Togo     </td></tr>\n",
              "\t<tr><td>A. Morin</td><td>Quilla     </td><td>1704</td><td>2015</td><td>70%</td><td>France</td><td>3.50</td><td>       </td><td>Peru     </td></tr>\n",
              "\t<tr><td>A. Morin</td><td>Carenero   </td><td>1315</td><td>2014</td><td>70%</td><td>France</td><td>2.75</td><td>Criollo</td><td>Venezuela</td></tr>\n",
              "</tbody>\n",
              "</table>\n"
            ],
            "text/markdown": "\nA tibble: 6 × 9\n\n| Company \n(Maker-if known) &lt;chr&gt; | Specific Bean Origin\nor Bar Name &lt;chr&gt; | REF &lt;dbl&gt; | Review\nDate &lt;dbl&gt; | Cocoa\nPercent &lt;chr&gt; | Company\nLocation &lt;chr&gt; | Rating &lt;dbl&gt; | Bean\nType &lt;chr&gt; | Broad Bean\nOrigin &lt;chr&gt; |\n|---|---|---|---|---|---|---|---|---|\n| A. Morin | Agua Grande | 1876 | 2016 | 63% | France | 3.75 |         | Sao Tome  |\n| A. Morin | Kpime       | 1676 | 2015 | 70% | France | 2.75 |         | Togo      |\n| A. Morin | Atsane      | 1676 | 2015 | 70% | France | 3.00 |         | Togo      |\n| A. Morin | Akata       | 1680 | 2015 | 70% | France | 3.50 |         | Togo      |\n| A. Morin | Quilla      | 1704 | 2015 | 70% | France | 3.50 |         | Peru      |\n| A. Morin | Carenero    | 1315 | 2014 | 70% | France | 2.75 | Criollo | Venezuela |\n\n",
            "text/latex": "A tibble: 6 × 9\n\\begin{tabular}{lllllllll}\n Company \n(Maker-if known) & Specific Bean Origin\nor Bar Name & REF & Review\nDate & Cocoa\nPercent & Company\nLocation & Rating & Bean\nType & Broad Bean\nOrigin\\\\\n <chr> & <chr> & <dbl> & <dbl> & <chr> & <chr> & <dbl> & <chr> & <chr>\\\\\n\\hline\n\t A. Morin & Agua Grande & 1876 & 2016 & 63\\% & France & 3.75 &         & Sao Tome \\\\\n\t A. Morin & Kpime       & 1676 & 2015 & 70\\% & France & 2.75 &         & Togo     \\\\\n\t A. Morin & Atsane      & 1676 & 2015 & 70\\% & France & 3.00 &         & Togo     \\\\\n\t A. Morin & Akata       & 1680 & 2015 & 70\\% & France & 3.50 &         & Togo     \\\\\n\t A. Morin & Quilla      & 1704 & 2015 & 70\\% & France & 3.50 &         & Peru     \\\\\n\t A. Morin & Carenero    & 1315 & 2014 & 70\\% & France & 2.75 & Criollo & Venezuela\\\\\n\\end{tabular}\n",
            "text/plain": [
              "  Company \\n(Maker-if known) Specific Bean Origin\\nor Bar Name REF \n",
              "1 A. Morin                   Agua Grande                       1876\n",
              "2 A. Morin                   Kpime                             1676\n",
              "3 A. Morin                   Atsane                            1676\n",
              "4 A. Morin                   Akata                             1680\n",
              "5 A. Morin                   Quilla                            1704\n",
              "6 A. Morin                   Carenero                          1315\n",
              "  Review\\nDate Cocoa\\nPercent Company\\nLocation Rating Bean\\nType\n",
              "1 2016         63%            France            3.75             \n",
              "2 2015         70%            France            2.75             \n",
              "3 2015         70%            France            3.00             \n",
              "4 2015         70%            France            3.50             \n",
              "5 2015         70%            France            3.50             \n",
              "6 2014         70%            France            2.75   Criollo   \n",
              "  Broad Bean\\nOrigin\n",
              "1 Sao Tome          \n",
              "2 Togo              \n",
              "3 Togo              \n",
              "4 Togo              \n",
              "5 Peru              \n",
              "6 Venezuela         "
            ]
          },
          "metadata": {}
        }
      ]
    },
    {
      "cell_type": "code",
      "source": [
        "# Rename collumns dataset\n",
        "flavors_df <- bars_df %>%\n",
        "  rename_with(tolower) %>%\n",
        "  rename(review_date='review\\ndate', \n",
        "         brand='company \\n(maker-if known)',\n",
        "         specific_bean_origin_or_bar_name='specific bean origin\\nor bar name',\n",
        "         cocoa_percent='cocoa\\npercent',\n",
        "         company_location='company\\nlocation',\n",
        "         bean_type='bean\\ntype',\n",
        "         broad_bean='broad bean\\norigin') %>% \n",
        "  drop_na()\n",
        "\n",
        "head(flavors_df)"
      ],
      "metadata": {
        "colab": {
          "base_uri": "https://localhost:8080/",
          "height": 286
        },
        "id": "WtOi2Ax8vkuV",
        "outputId": "4504a5ef-e271-44ab-b727-bdb8a592f3c3"
      },
      "execution_count": null,
      "outputs": [
        {
          "output_type": "display_data",
          "data": {
            "text/html": [
              "<table class=\"dataframe\">\n",
              "<caption>A tibble: 6 × 9</caption>\n",
              "<thead>\n",
              "\t<tr><th scope=col>brand</th><th scope=col>specific_bean_origin_or_bar_name</th><th scope=col>ref</th><th scope=col>review_date</th><th scope=col>cocoa_percent</th><th scope=col>company_location</th><th scope=col>rating</th><th scope=col>bean_type</th><th scope=col>broad_bean</th></tr>\n",
              "\t<tr><th scope=col>&lt;chr&gt;</th><th scope=col>&lt;chr&gt;</th><th scope=col>&lt;dbl&gt;</th><th scope=col>&lt;dbl&gt;</th><th scope=col>&lt;chr&gt;</th><th scope=col>&lt;chr&gt;</th><th scope=col>&lt;dbl&gt;</th><th scope=col>&lt;chr&gt;</th><th scope=col>&lt;chr&gt;</th></tr>\n",
              "</thead>\n",
              "<tbody>\n",
              "\t<tr><td>A. Morin</td><td>Agua Grande</td><td>1876</td><td>2016</td><td>63%</td><td>France</td><td>3.75</td><td>       </td><td>Sao Tome </td></tr>\n",
              "\t<tr><td>A. Morin</td><td>Kpime      </td><td>1676</td><td>2015</td><td>70%</td><td>France</td><td>2.75</td><td>       </td><td>Togo     </td></tr>\n",
              "\t<tr><td>A. Morin</td><td>Atsane     </td><td>1676</td><td>2015</td><td>70%</td><td>France</td><td>3.00</td><td>       </td><td>Togo     </td></tr>\n",
              "\t<tr><td>A. Morin</td><td>Akata      </td><td>1680</td><td>2015</td><td>70%</td><td>France</td><td>3.50</td><td>       </td><td>Togo     </td></tr>\n",
              "\t<tr><td>A. Morin</td><td>Quilla     </td><td>1704</td><td>2015</td><td>70%</td><td>France</td><td>3.50</td><td>       </td><td>Peru     </td></tr>\n",
              "\t<tr><td>A. Morin</td><td>Carenero   </td><td>1315</td><td>2014</td><td>70%</td><td>France</td><td>2.75</td><td>Criollo</td><td>Venezuela</td></tr>\n",
              "</tbody>\n",
              "</table>\n"
            ],
            "text/markdown": "\nA tibble: 6 × 9\n\n| brand &lt;chr&gt; | specific_bean_origin_or_bar_name &lt;chr&gt; | ref &lt;dbl&gt; | review_date &lt;dbl&gt; | cocoa_percent &lt;chr&gt; | company_location &lt;chr&gt; | rating &lt;dbl&gt; | bean_type &lt;chr&gt; | broad_bean &lt;chr&gt; |\n|---|---|---|---|---|---|---|---|---|\n| A. Morin | Agua Grande | 1876 | 2016 | 63% | France | 3.75 |         | Sao Tome  |\n| A. Morin | Kpime       | 1676 | 2015 | 70% | France | 2.75 |         | Togo      |\n| A. Morin | Atsane      | 1676 | 2015 | 70% | France | 3.00 |         | Togo      |\n| A. Morin | Akata       | 1680 | 2015 | 70% | France | 3.50 |         | Togo      |\n| A. Morin | Quilla      | 1704 | 2015 | 70% | France | 3.50 |         | Peru      |\n| A. Morin | Carenero    | 1315 | 2014 | 70% | France | 2.75 | Criollo | Venezuela |\n\n",
            "text/latex": "A tibble: 6 × 9\n\\begin{tabular}{lllllllll}\n brand & specific\\_bean\\_origin\\_or\\_bar\\_name & ref & review\\_date & cocoa\\_percent & company\\_location & rating & bean\\_type & broad\\_bean\\\\\n <chr> & <chr> & <dbl> & <dbl> & <chr> & <chr> & <dbl> & <chr> & <chr>\\\\\n\\hline\n\t A. Morin & Agua Grande & 1876 & 2016 & 63\\% & France & 3.75 &         & Sao Tome \\\\\n\t A. Morin & Kpime       & 1676 & 2015 & 70\\% & France & 2.75 &         & Togo     \\\\\n\t A. Morin & Atsane      & 1676 & 2015 & 70\\% & France & 3.00 &         & Togo     \\\\\n\t A. Morin & Akata       & 1680 & 2015 & 70\\% & France & 3.50 &         & Togo     \\\\\n\t A. Morin & Quilla      & 1704 & 2015 & 70\\% & France & 3.50 &         & Peru     \\\\\n\t A. Morin & Carenero    & 1315 & 2014 & 70\\% & France & 2.75 & Criollo & Venezuela\\\\\n\\end{tabular}\n",
            "text/plain": [
              "  brand    specific_bean_origin_or_bar_name ref  review_date cocoa_percent\n",
              "1 A. Morin Agua Grande                      1876 2016        63%          \n",
              "2 A. Morin Kpime                            1676 2015        70%          \n",
              "3 A. Morin Atsane                           1676 2015        70%          \n",
              "4 A. Morin Akata                            1680 2015        70%          \n",
              "5 A. Morin Quilla                           1704 2015        70%          \n",
              "6 A. Morin Carenero                         1315 2014        70%          \n",
              "  company_location rating bean_type broad_bean\n",
              "1 France           3.75             Sao Tome  \n",
              "2 France           2.75             Togo      \n",
              "3 France           3.00             Togo      \n",
              "4 France           3.50             Togo      \n",
              "5 France           3.50             Peru      \n",
              "6 France           2.75   Criollo   Venezuela "
            ]
          },
          "metadata": {}
        }
      ]
    },
    {
      "cell_type": "code",
      "source": [
        "# Subset rating , cocoa percent, and bean type collumns\n",
        "trimmed_flavors_df <- flavors_df %>%\n",
        "  select(rating, cocoa_percent, bean_type)\n",
        "head(trimmed_flavors_df)"
      ],
      "metadata": {
        "colab": {
          "base_uri": "https://localhost:8080/",
          "height": 286
        },
        "id": "zh3Whgu7HnlV",
        "outputId": "7514f3ad-2a44-4267-d53a-01eeef19e42b"
      },
      "execution_count": null,
      "outputs": [
        {
          "output_type": "display_data",
          "data": {
            "text/html": [
              "<table class=\"dataframe\">\n",
              "<caption>A tibble: 6 × 3</caption>\n",
              "<thead>\n",
              "\t<tr><th scope=col>rating</th><th scope=col>cocoa_percent</th><th scope=col>bean_type</th></tr>\n",
              "\t<tr><th scope=col>&lt;dbl&gt;</th><th scope=col>&lt;chr&gt;</th><th scope=col>&lt;chr&gt;</th></tr>\n",
              "</thead>\n",
              "<tbody>\n",
              "\t<tr><td>3.75</td><td>63%</td><td>       </td></tr>\n",
              "\t<tr><td>2.75</td><td>70%</td><td>       </td></tr>\n",
              "\t<tr><td>3.00</td><td>70%</td><td>       </td></tr>\n",
              "\t<tr><td>3.50</td><td>70%</td><td>       </td></tr>\n",
              "\t<tr><td>3.50</td><td>70%</td><td>       </td></tr>\n",
              "\t<tr><td>2.75</td><td>70%</td><td>Criollo</td></tr>\n",
              "</tbody>\n",
              "</table>\n"
            ],
            "text/markdown": "\nA tibble: 6 × 3\n\n| rating &lt;dbl&gt; | cocoa_percent &lt;chr&gt; | bean_type &lt;chr&gt; |\n|---|---|---|\n| 3.75 | 63% |         |\n| 2.75 | 70% |         |\n| 3.00 | 70% |         |\n| 3.50 | 70% |         |\n| 3.50 | 70% |         |\n| 2.75 | 70% | Criollo |\n\n",
            "text/latex": "A tibble: 6 × 3\n\\begin{tabular}{lll}\n rating & cocoa\\_percent & bean\\_type\\\\\n <dbl> & <chr> & <chr>\\\\\n\\hline\n\t 3.75 & 63\\% &        \\\\\n\t 2.75 & 70\\% &        \\\\\n\t 3.00 & 70\\% &        \\\\\n\t 3.50 & 70\\% &        \\\\\n\t 3.50 & 70\\% &        \\\\\n\t 2.75 & 70\\% & Criollo\\\\\n\\end{tabular}\n",
            "text/plain": [
              "  rating cocoa_percent bean_type\n",
              "1 3.75   63%                    \n",
              "2 2.75   70%                    \n",
              "3 3.00   70%                    \n",
              "4 3.50   70%                    \n",
              "5 3.50   70%                    \n",
              "6 2.75   70%           Criollo  "
            ]
          },
          "metadata": {}
        }
      ]
    },
    {
      "cell_type": "code",
      "source": [
        "# Calculate standart deviation of rating\n",
        "trimmed_flavors_df %>%\n",
        "  summarise(sd(rating))"
      ],
      "metadata": {
        "colab": {
          "base_uri": "https://localhost:8080/",
          "height": 129
        },
        "id": "0_2dxbLWICRB",
        "outputId": "ecac2860-0f8a-4ac6-8681-edcc0c46331b"
      },
      "execution_count": null,
      "outputs": [
        {
          "output_type": "display_data",
          "data": {
            "text/html": [
              "<table class=\"dataframe\">\n",
              "<caption>A tibble: 1 × 1</caption>\n",
              "<thead>\n",
              "\t<tr><th scope=col>sd(rating)</th></tr>\n",
              "\t<tr><th scope=col>&lt;dbl&gt;</th></tr>\n",
              "</thead>\n",
              "<tbody>\n",
              "\t<tr><td>0.4776676</td></tr>\n",
              "</tbody>\n",
              "</table>\n"
            ],
            "text/markdown": "\nA tibble: 1 × 1\n\n| sd(rating) &lt;dbl&gt; |\n|---|\n| 0.4776676 |\n\n",
            "text/latex": "A tibble: 1 × 1\n\\begin{tabular}{l}\n sd(rating)\\\\\n <dbl>\\\\\n\\hline\n\t 0.4776676\\\\\n\\end{tabular}\n",
            "text/plain": [
              "  sd(rating)\n",
              "1 0.4776676 "
            ]
          },
          "metadata": {}
        }
      ]
    },
    {
      "cell_type": "code",
      "source": [
        "# Filter base rating and cocoa percent\n",
        "best_trimmed_flavors_df <- trimmed_flavors_df %>%\n",
        "  filter(cocoa_percent>=70, rating>=3.5)\n",
        "summary(best_trimmed_flavors_df)\n",
        "head(best_trimmed_flavors_df)"
      ],
      "metadata": {
        "colab": {
          "base_uri": "https://localhost:8080/",
          "height": 411
        },
        "id": "hSMxF1sSImc6",
        "outputId": "3e4f2be9-9aef-4b99-8898-ebdb6b6bc3ab"
      },
      "execution_count": null,
      "outputs": [
        {
          "output_type": "display_data",
          "data": {
            "text/plain": [
              "     rating     cocoa_percent       bean_type        \n",
              " Min.   :3.50   Length:573         Length:573        \n",
              " 1st Qu.:3.50   Class :character   Class :character  \n",
              " Median :3.50   Mode  :character   Mode  :character  \n",
              " Mean   :3.65                                        \n",
              " 3rd Qu.:3.75                                        \n",
              " Max.   :5.00                                        "
            ]
          },
          "metadata": {}
        },
        {
          "output_type": "display_data",
          "data": {
            "text/html": [
              "<table class=\"dataframe\">\n",
              "<caption>A tibble: 6 × 3</caption>\n",
              "<thead>\n",
              "\t<tr><th scope=col>rating</th><th scope=col>cocoa_percent</th><th scope=col>bean_type</th></tr>\n",
              "\t<tr><th scope=col>&lt;dbl&gt;</th><th scope=col>&lt;chr&gt;</th><th scope=col>&lt;chr&gt;</th></tr>\n",
              "</thead>\n",
              "<tbody>\n",
              "\t<tr><td>3.50</td><td>70%</td><td>       </td></tr>\n",
              "\t<tr><td>3.50</td><td>70%</td><td>       </td></tr>\n",
              "\t<tr><td>3.50</td><td>70%</td><td>       </td></tr>\n",
              "\t<tr><td>3.50</td><td>70%</td><td>Criollo</td></tr>\n",
              "\t<tr><td>3.75</td><td>70%</td><td>Criollo</td></tr>\n",
              "\t<tr><td>4.00</td><td>70%</td><td>       </td></tr>\n",
              "</tbody>\n",
              "</table>\n"
            ],
            "text/markdown": "\nA tibble: 6 × 3\n\n| rating &lt;dbl&gt; | cocoa_percent &lt;chr&gt; | bean_type &lt;chr&gt; |\n|---|---|---|\n| 3.50 | 70% |         |\n| 3.50 | 70% |         |\n| 3.50 | 70% |         |\n| 3.50 | 70% | Criollo |\n| 3.75 | 70% | Criollo |\n| 4.00 | 70% |         |\n\n",
            "text/latex": "A tibble: 6 × 3\n\\begin{tabular}{lll}\n rating & cocoa\\_percent & bean\\_type\\\\\n <dbl> & <chr> & <chr>\\\\\n\\hline\n\t 3.50 & 70\\% &        \\\\\n\t 3.50 & 70\\% &        \\\\\n\t 3.50 & 70\\% &        \\\\\n\t 3.50 & 70\\% & Criollo\\\\\n\t 3.75 & 70\\% & Criollo\\\\\n\t 4.00 & 70\\% &        \\\\\n\\end{tabular}\n",
            "text/plain": [
              "  rating cocoa_percent bean_type\n",
              "1 3.50   70%                    \n",
              "2 3.50   70%                    \n",
              "3 3.50   70%                    \n",
              "4 3.50   70%           Criollo  \n",
              "5 3.75   70%           Criollo  \n",
              "6 4.00   70%                    "
            ]
          },
          "metadata": {}
        }
      ]
    },
    {
      "cell_type": "code",
      "source": [
        "# Filtered Dataframe with full collumns\n",
        "full_best_trimmed_flavors_df <- flavors_df %>%\n",
        "  filter(cocoa_percent>=70, rating>=3.5)\n",
        "summary(full_best_trimmed_flavors_df)\n",
        "head(full_best_trimmed_flavors_df)"
      ],
      "metadata": {
        "colab": {
          "base_uri": "https://localhost:8080/",
          "height": 662
        },
        "collapsed": true,
        "id": "javI3eiVO9FK",
        "outputId": "330a220a-ed9a-48ae-dfe8-8183ff30eb9f"
      },
      "execution_count": null,
      "outputs": [
        {
          "output_type": "display_data",
          "data": {
            "text/plain": [
              "    brand           specific_bean_origin_or_bar_name      ref      \n",
              " Length:573         Length:573                       Min.   :   5  \n",
              " Class :character   Class :character                 1st Qu.: 701  \n",
              " Mode  :character   Mode  :character                 Median :1193  \n",
              "                                                     Mean   :1117  \n",
              "                                                     3rd Qu.:1582  \n",
              "                                                     Max.   :1952  \n",
              "  review_date   cocoa_percent      company_location       rating    \n",
              " Min.   :2006   Length:573         Length:573         Min.   :3.50  \n",
              " 1st Qu.:2011   Class :character   Class :character   1st Qu.:3.50  \n",
              " Median :2013   Mode  :character   Mode  :character   Median :3.50  \n",
              " Mean   :2013                                         Mean   :3.65  \n",
              " 3rd Qu.:2015                                         3rd Qu.:3.75  \n",
              " Max.   :2017                                         Max.   :5.00  \n",
              "  bean_type          broad_bean       \n",
              " Length:573         Length:573        \n",
              " Class :character   Class :character  \n",
              " Mode  :character   Mode  :character  \n",
              "                                      \n",
              "                                      \n",
              "                                      "
            ]
          },
          "metadata": {}
        },
        {
          "output_type": "display_data",
          "data": {
            "text/html": [
              "<table class=\"dataframe\">\n",
              "<caption>A tibble: 6 × 9</caption>\n",
              "<thead>\n",
              "\t<tr><th scope=col>brand</th><th scope=col>specific_bean_origin_or_bar_name</th><th scope=col>ref</th><th scope=col>review_date</th><th scope=col>cocoa_percent</th><th scope=col>company_location</th><th scope=col>rating</th><th scope=col>bean_type</th><th scope=col>broad_bean</th></tr>\n",
              "\t<tr><th scope=col>&lt;chr&gt;</th><th scope=col>&lt;chr&gt;</th><th scope=col>&lt;dbl&gt;</th><th scope=col>&lt;dbl&gt;</th><th scope=col>&lt;chr&gt;</th><th scope=col>&lt;chr&gt;</th><th scope=col>&lt;dbl&gt;</th><th scope=col>&lt;chr&gt;</th><th scope=col>&lt;chr&gt;</th></tr>\n",
              "</thead>\n",
              "<tbody>\n",
              "\t<tr><td>A. Morin</td><td>Akata         </td><td>1680</td><td>2015</td><td>70%</td><td>France</td><td>3.50</td><td>       </td><td>Togo     </td></tr>\n",
              "\t<tr><td>A. Morin</td><td>Quilla        </td><td>1704</td><td>2015</td><td>70%</td><td>France</td><td>3.50</td><td>       </td><td>Peru     </td></tr>\n",
              "\t<tr><td>A. Morin</td><td>Cuba          </td><td>1315</td><td>2014</td><td>70%</td><td>France</td><td>3.50</td><td>       </td><td>Cuba     </td></tr>\n",
              "\t<tr><td>A. Morin</td><td>Sur del Lago  </td><td>1315</td><td>2014</td><td>70%</td><td>France</td><td>3.50</td><td>Criollo</td><td>Venezuela</td></tr>\n",
              "\t<tr><td>A. Morin</td><td>Puerto Cabello</td><td>1319</td><td>2014</td><td>70%</td><td>France</td><td>3.75</td><td>Criollo</td><td>Venezuela</td></tr>\n",
              "\t<tr><td>A. Morin</td><td>Pablino       </td><td>1319</td><td>2014</td><td>70%</td><td>France</td><td>4.00</td><td>       </td><td>Peru     </td></tr>\n",
              "</tbody>\n",
              "</table>\n"
            ],
            "text/markdown": "\nA tibble: 6 × 9\n\n| brand &lt;chr&gt; | specific_bean_origin_or_bar_name &lt;chr&gt; | ref &lt;dbl&gt; | review_date &lt;dbl&gt; | cocoa_percent &lt;chr&gt; | company_location &lt;chr&gt; | rating &lt;dbl&gt; | bean_type &lt;chr&gt; | broad_bean &lt;chr&gt; |\n|---|---|---|---|---|---|---|---|---|\n| A. Morin | Akata          | 1680 | 2015 | 70% | France | 3.50 |         | Togo      |\n| A. Morin | Quilla         | 1704 | 2015 | 70% | France | 3.50 |         | Peru      |\n| A. Morin | Cuba           | 1315 | 2014 | 70% | France | 3.50 |         | Cuba      |\n| A. Morin | Sur del Lago   | 1315 | 2014 | 70% | France | 3.50 | Criollo | Venezuela |\n| A. Morin | Puerto Cabello | 1319 | 2014 | 70% | France | 3.75 | Criollo | Venezuela |\n| A. Morin | Pablino        | 1319 | 2014 | 70% | France | 4.00 |         | Peru      |\n\n",
            "text/latex": "A tibble: 6 × 9\n\\begin{tabular}{lllllllll}\n brand & specific\\_bean\\_origin\\_or\\_bar\\_name & ref & review\\_date & cocoa\\_percent & company\\_location & rating & bean\\_type & broad\\_bean\\\\\n <chr> & <chr> & <dbl> & <dbl> & <chr> & <chr> & <dbl> & <chr> & <chr>\\\\\n\\hline\n\t A. Morin & Akata          & 1680 & 2015 & 70\\% & France & 3.50 &         & Togo     \\\\\n\t A. Morin & Quilla         & 1704 & 2015 & 70\\% & France & 3.50 &         & Peru     \\\\\n\t A. Morin & Cuba           & 1315 & 2014 & 70\\% & France & 3.50 &         & Cuba     \\\\\n\t A. Morin & Sur del Lago   & 1315 & 2014 & 70\\% & France & 3.50 & Criollo & Venezuela\\\\\n\t A. Morin & Puerto Cabello & 1319 & 2014 & 70\\% & France & 3.75 & Criollo & Venezuela\\\\\n\t A. Morin & Pablino        & 1319 & 2014 & 70\\% & France & 4.00 &         & Peru     \\\\\n\\end{tabular}\n",
            "text/plain": [
              "  brand    specific_bean_origin_or_bar_name ref  review_date cocoa_percent\n",
              "1 A. Morin Akata                            1680 2015        70%          \n",
              "2 A. Morin Quilla                           1704 2015        70%          \n",
              "3 A. Morin Cuba                             1315 2014        70%          \n",
              "4 A. Morin Sur del Lago                     1315 2014        70%          \n",
              "5 A. Morin Puerto Cabello                   1319 2014        70%          \n",
              "6 A. Morin Pablino                          1319 2014        70%          \n",
              "  company_location rating bean_type broad_bean\n",
              "1 France           3.50             Togo      \n",
              "2 France           3.50             Peru      \n",
              "3 France           3.50             Cuba      \n",
              "4 France           3.50   Criollo   Venezuela \n",
              "5 France           3.75   Criollo   Venezuela \n",
              "6 France           4.00             Peru      "
            ]
          },
          "metadata": {}
        }
      ]
    },
    {
      "cell_type": "code",
      "source": [
        "# Plot base on company location\n",
        "ggplot(full_best_trimmed_flavors_df) +\n",
        "  geom_bar(aes(x=company_location))"
      ],
      "metadata": {
        "colab": {
          "base_uri": "https://localhost:8080/",
          "height": 437
        },
        "id": "4WTNyKH8s76s",
        "outputId": "653762d8-6a8b-4e48-ceb0-5e98bf287d8c"
      },
      "execution_count": null,
      "outputs": [
        {
          "output_type": "display_data",
          "data": {
            "text/plain": [
              "plot without title"
            ],
            "image/png": "[encoded data removed]"
          },
          "metadata": {
            "image/png": {
              "width": 420,
              "height": 420
            }
          }
        }
      ]
    },
    {
      "cell_type": "code",
      "source": [
        "# View with best rating\n",
        "full_best_trimmed_flavors_df %>%\n",
        "  arrange(-rating)"
      ],
      "metadata": {
        "colab": {
          "base_uri": "https://localhost:8080/",
          "height": 1000
        },
        "collapsed": true,
        "id": "q-8nVGtAtsq8",
        "outputId": "cff0f8e9-c0a3-4ab8-b1a7-cda137cbd156"
      },
      "execution_count": null,
      "outputs": [
        {
          "output_type": "display_data",
          "data": {
            "text/html": [
              "<table class=\"dataframe\">\n",
              "<caption>A tibble: 573 × 9</caption>\n",
              "<thead>\n",
              "\t<tr><th scope=col>brand</th><th scope=col>specific_bean_origin_or_bar_name</th><th scope=col>ref</th><th scope=col>review_date</th><th scope=col>cocoa_percent</th><th scope=col>company_location</th><th scope=col>rating</th><th scope=col>bean_type</th><th scope=col>broad_bean</th></tr>\n",
              "\t<tr><th scope=col>&lt;chr&gt;</th><th scope=col>&lt;chr&gt;</th><th scope=col>&lt;dbl&gt;</th><th scope=col>&lt;dbl&gt;</th><th scope=col>&lt;chr&gt;</th><th scope=col>&lt;chr&gt;</th><th scope=col>&lt;dbl&gt;</th><th scope=col>&lt;chr&gt;</th><th scope=col>&lt;chr&gt;</th></tr>\n",
              "</thead>\n",
              "<tbody>\n",
              "\t<tr><td>Amedei                      </td><td>Chuao                                   </td><td> 111</td><td>2007</td><td>70%</td><td>Italy      </td><td>5</td><td>Trinitario              </td><td>Venezuela       </td></tr>\n",
              "\t<tr><td>Amedei                      </td><td>Toscano Black                           </td><td>  40</td><td>2006</td><td>70%</td><td>Italy      </td><td>5</td><td>Blend                   </td><td>                </td></tr>\n",
              "\t<tr><td>A. Morin                    </td><td>Pablino                                 </td><td>1319</td><td>2014</td><td>70%</td><td>France     </td><td>4</td><td>                        </td><td>Peru            </td></tr>\n",
              "\t<tr><td>A. Morin                    </td><td>Chuao                                   </td><td>1015</td><td>2013</td><td>70%</td><td>France     </td><td>4</td><td>Trinitario              </td><td>Venezuela       </td></tr>\n",
              "\t<tr><td>Amano                       </td><td>Morobe                                  </td><td> 725</td><td>2011</td><td>70%</td><td>U.S.A.     </td><td>4</td><td>                        </td><td>Papua New Guinea</td></tr>\n",
              "\t<tr><td>Amano                       </td><td>Guayas                                  </td><td> 470</td><td>2010</td><td>70%</td><td>U.S.A.     </td><td>4</td><td>                        </td><td>Ecuador         </td></tr>\n",
              "\t<tr><td>Amedei                      </td><td>Porcelana                               </td><td> 111</td><td>2007</td><td>70%</td><td>Italy      </td><td>4</td><td>Criollo (Porcelana)     </td><td>Venezuela       </td></tr>\n",
              "\t<tr><td>Amedei                      </td><td>Nine                                    </td><td> 111</td><td>2007</td><td>75%</td><td>Italy      </td><td>4</td><td>Blend                   </td><td>                </td></tr>\n",
              "\t<tr><td>Amedei                      </td><td>Madagascar                              </td><td> 123</td><td>2007</td><td>70%</td><td>Italy      </td><td>4</td><td>Trinitario (85% Criollo)</td><td>Madagascar      </td></tr>\n",
              "\t<tr><td>Arete                       </td><td>Coto Brus, Terciopelo                   </td><td>1908</td><td>2016</td><td>70%</td><td>U.S.A.     </td><td>4</td><td>                        </td><td>Costa Rica      </td></tr>\n",
              "\t<tr><td>Arete                       </td><td>Phantom                                 </td><td>1924</td><td>2016</td><td>70%</td><td>U.S.A.     </td><td>4</td><td>Forastero (Nacional)    </td><td>Peru            </td></tr>\n",
              "\t<tr><td>Arete                       </td><td>Chuno                                   </td><td>1598</td><td>2015</td><td>70%</td><td>U.S.A.     </td><td>4</td><td>Criollo, Trinitario     </td><td>Nicaragua       </td></tr>\n",
              "\t<tr><td>Artisan du Chocolat         </td><td>Haiti                                   </td><td> 729</td><td>2011</td><td>72%</td><td>U.K.       </td><td>4</td><td>                        </td><td>Haiti           </td></tr>\n",
              "\t<tr><td>Bar Au Chocolat             </td><td>Maranon Canyon                          </td><td>1295</td><td>2014</td><td>70%</td><td>U.S.A.     </td><td>4</td><td>Forastero (Nacional)    </td><td>Peru            </td></tr>\n",
              "\t<tr><td>Benoit Nihant               </td><td>Rio Peripa H.                           </td><td>1141</td><td>2013</td><td>73%</td><td>Belgium    </td><td>4</td><td>Trinitario              </td><td>Ecuador         </td></tr>\n",
              "\t<tr><td>Benoit Nihant               </td><td>Bali, Sukrama Bros. Farm, Melaya, 62hr C</td><td> 757</td><td>2011</td><td>72%</td><td>Belgium    </td><td>4</td><td>Trinitario              </td><td>Indonesia       </td></tr>\n",
              "\t<tr><td>Beschle (Felchlin)          </td><td>Ecuador                                 </td><td> 636</td><td>2011</td><td>72%</td><td>Switzerland</td><td>4</td><td>                        </td><td>Ecuador         </td></tr>\n",
              "\t<tr><td>Bonnat                      </td><td>Kaori                                   </td><td>1339</td><td>2014</td><td>75%</td><td>France     </td><td>4</td><td>                        </td><td>Brazil          </td></tr>\n",
              "\t<tr><td>Bonnat                      </td><td>Haiti                                   </td><td> 629</td><td>2011</td><td>75%</td><td>France     </td><td>4</td><td>                        </td><td>Haiti           </td></tr>\n",
              "\t<tr><td>Bonnat                      </td><td>Madagascar, 100% criollo                </td><td> 629</td><td>2011</td><td>75%</td><td>France     </td><td>4</td><td>Criollo                 </td><td>Madagascar      </td></tr>\n",
              "\t<tr><td>Bonnat                      </td><td>Porcelana, Venezuela                    </td><td> 199</td><td>2008</td><td>75%</td><td>France     </td><td>4</td><td>Criollo (Porcelana)     </td><td>Venezuela       </td></tr>\n",
              "\t<tr><td>Bonnat                      </td><td>Ocumare, Puerto Cabello                 </td><td>  32</td><td>2006</td><td>75%</td><td>France     </td><td>4</td><td>                        </td><td>Venezuela       </td></tr>\n",
              "\t<tr><td>Bonnat                      </td><td>Maracaibo, El Rosario                   </td><td>  48</td><td>2006</td><td>75%</td><td>France     </td><td>4</td><td>Criollo                 </td><td>Venezuela       </td></tr>\n",
              "\t<tr><td>Bonnat                      </td><td>Madagascar                              </td><td>  75</td><td>2006</td><td>75%</td><td>France     </td><td>4</td><td>Trinitario              </td><td>Madagascar      </td></tr>\n",
              "\t<tr><td>Bonnat                      </td><td>Chuao                                   </td><td>  81</td><td>2006</td><td>75%</td><td>France     </td><td>4</td><td>Trinitario              </td><td>Venezuela       </td></tr>\n",
              "\t<tr><td>Brasstown aka It's Chocolate</td><td>Chuao                                   </td><td>1355</td><td>2014</td><td>70%</td><td>U.S.A.     </td><td>4</td><td>Trinitario              </td><td>Venezuela       </td></tr>\n",
              "\t<tr><td>Cacao Sampaka               </td><td>Papua                                   </td><td> 523</td><td>2010</td><td>71%</td><td>Spain      </td><td>4</td><td>                        </td><td>Papua New Guinea</td></tr>\n",
              "\t<tr><td>Cacao Sampaka               </td><td>Porcelana, Tabasco, La Joya             </td><td> 336</td><td>2009</td><td>70%</td><td>Spain      </td><td>4</td><td>Criollo                 </td><td>Mexico          </td></tr>\n",
              "\t<tr><td>Cacao Sampaka               </td><td>Xoconusco, Chiapas                      </td><td> 346</td><td>2009</td><td>70%</td><td>Spain      </td><td>4</td><td>Criollo                 </td><td>Mexico          </td></tr>\n",
              "\t<tr><td>Castronovo                  </td><td>Maya Mtn, Batch 454, Heirloom           </td><td>1724</td><td>2016</td><td>72%</td><td>U.S.A.     </td><td>4</td><td>Trinitario              </td><td>Belize          </td></tr>\n",
              "\t<tr><td>⋮</td><td>⋮</td><td>⋮</td><td>⋮</td><td>⋮</td><td>⋮</td><td>⋮</td><td>⋮</td><td>⋮</td></tr>\n",
              "\t<tr><td>Spencer                     </td><td>Ecuador                                    </td><td>1932</td><td>2017</td><td>70%</td><td>U.S.A.     </td><td>3.5</td><td>                     </td><td>Ecuador           </td></tr>\n",
              "\t<tr><td>Spencer                     </td><td>Dominican Republic, lot D82R               </td><td>1792</td><td>2016</td><td>70%</td><td>Australia  </td><td>3.5</td><td>                     </td><td>Domincan Republic </td></tr>\n",
              "\t<tr><td>Stone Grindz                </td><td>Ecuador, Midnight Dark                     </td><td>1291</td><td>2014</td><td>84%</td><td>U.S.A.     </td><td>3.5</td><td>                     </td><td>Ecuador           </td></tr>\n",
              "\t<tr><td>Stone Grindz                </td><td>Ecuador, Twilght Dark                      </td><td>1291</td><td>2014</td><td>70%</td><td>U.S.A.     </td><td>3.5</td><td>                     </td><td>Ecuador           </td></tr>\n",
              "\t<tr><td>Szanto Tibor                </td><td>Fazenda Sempre Firme, Bahia                </td><td>1708</td><td>2015</td><td>70%</td><td>Hungary    </td><td>3.5</td><td>Forastero (Parazinho)</td><td>Brazil            </td></tr>\n",
              "\t<tr><td>Szanto Tibor                </td><td>Porcelana                                  </td><td>1263</td><td>2014</td><td>70%</td><td>Hungary    </td><td>3.5</td><td>Criollo              </td><td>Venezuela         </td></tr>\n",
              "\t<tr><td>Szanto Tibor                </td><td>Autumn, Primary Harvest, 2012              </td><td>1185</td><td>2013</td><td>70%</td><td>Hungary    </td><td>3.5</td><td>Criollo              </td><td>Madagascar        </td></tr>\n",
              "\t<tr><td>Szanto Tibor                </td><td>Spring, Secondary Harvest, 2012            </td><td>1185</td><td>2013</td><td>70%</td><td>Hungary    </td><td>3.5</td><td>Criollo              </td><td>Madagascar        </td></tr>\n",
              "\t<tr><td>Tejas                       </td><td>Presidio                                   </td><td> 805</td><td>2012</td><td>70%</td><td>U.S.A.     </td><td>3.5</td><td>                     </td><td>Dominican Republic</td></tr>\n",
              "\t<tr><td>Tejas                       </td><td>Bahia, Floresta Azul,Good Friends Reserve#3</td><td> 971</td><td>2012</td><td>70%</td><td>U.S.A.     </td><td>3.5</td><td>Forastero (Parazinho)</td><td>Brazil            </td></tr>\n",
              "\t<tr><td>Terroir                     </td><td>Oko Caribe                                 </td><td>1554</td><td>2015</td><td>70%</td><td>U.S.A.     </td><td>3.5</td><td>                     </td><td>Domincan Republic </td></tr>\n",
              "\t<tr><td>Tsara (Cinagra)             </td><td>Ambanja, Tsara Valley                      </td><td> 753</td><td>2011</td><td>72%</td><td>Madagascar </td><td>3.5</td><td>                     </td><td>Madagascar        </td></tr>\n",
              "\t<tr><td>twenty-four blackbirds      </td><td>Cedeno, lot 271                            </td><td>1700</td><td>2015</td><td>75%</td><td>U.S.A.     </td><td>3.5</td><td>                     </td><td>Ecuador           </td></tr>\n",
              "\t<tr><td>twenty-four blackbirds      </td><td>Madagascar                                 </td><td>1235</td><td>2014</td><td>75%</td><td>U.S.A.     </td><td>3.5</td><td>Trinitario           </td><td>Madagascar        </td></tr>\n",
              "\t<tr><td>Valrhona                    </td><td>Andoa, Grand Cru blend                     </td><td>1145</td><td>2013</td><td>70%</td><td>France     </td><td>3.5</td><td>                     </td><td>                  </td></tr>\n",
              "\t<tr><td>Videri                      </td><td>Trinidad                                   </td><td>1211</td><td>2014</td><td>75%</td><td>U.S.A.     </td><td>3.5</td><td>Trinitario           </td><td>Trinidad          </td></tr>\n",
              "\t<tr><td>Videri                      </td><td>Mindo                                      </td><td>1227</td><td>2014</td><td>75%</td><td>U.S.A.     </td><td>3.5</td><td>                     </td><td>Ecuador           </td></tr>\n",
              "\t<tr><td>Vietcacao (A. Morin)        </td><td>Ben Tre, Mekong Delta, MoCay               </td><td> 951</td><td>2012</td><td>70%</td><td>France     </td><td>3.5</td><td>Trinitario           </td><td>Vietnam           </td></tr>\n",
              "\t<tr><td>Wellington Chocolate Factory</td><td>Conacado                                   </td><td>1756</td><td>2016</td><td>70%</td><td>New Zealand</td><td>3.5</td><td>Trinitario           </td><td>Dominican Republic</td></tr>\n",
              "\t<tr><td>Wellington Chocolate Factory</td><td>Piura Blanco, Norandino                    </td><td>1756</td><td>2016</td><td>70%</td><td>New Zealand</td><td>3.5</td><td>                     </td><td>Peru              </td></tr>\n",
              "\t<tr><td>Willie's Cacao              </td><td>Hacienda Las Trincheras                    </td><td> 593</td><td>2010</td><td>72%</td><td>U.K.       </td><td>3.5</td><td>                     </td><td>Venezuela         </td></tr>\n",
              "\t<tr><td>Wm                          </td><td>Wild Beniano, 2016, batch 128, Heirloom    </td><td>1912</td><td>2016</td><td>76%</td><td>U.S.A.     </td><td>3.5</td><td>                     </td><td>Bolivia           </td></tr>\n",
              "\t<tr><td>Woodblock                   </td><td>Gran Couva                                 </td><td>1042</td><td>2013</td><td>70%</td><td>U.S.A.     </td><td>3.5</td><td>Trinitario           </td><td>Trinidad          </td></tr>\n",
              "\t<tr><td>Woodblock                   </td><td>La Red                                     </td><td> 769</td><td>2011</td><td>70%</td><td>U.S.A.     </td><td>3.5</td><td>                     </td><td>Dominican Republic</td></tr>\n",
              "\t<tr><td>Zak's                       </td><td>Belize, Batch 2                            </td><td>1578</td><td>2015</td><td>70%</td><td>U.S.A.     </td><td>3.5</td><td>Trinitario           </td><td>Belize            </td></tr>\n",
              "\t<tr><td>Zart Pralinen               </td><td>Millot P., Ambanja                         </td><td>1820</td><td>2016</td><td>70%</td><td>Austria    </td><td>3.5</td><td>Criollo, Trinitario  </td><td>Madagascar        </td></tr>\n",
              "\t<tr><td>Zart Pralinen               </td><td>Kakao Kamili, Kilombero Valley             </td><td>1824</td><td>2016</td><td>70%</td><td>Austria    </td><td>3.5</td><td>Criollo, Trinitario  </td><td>Tanzania          </td></tr>\n",
              "\t<tr><td>Zart Pralinen               </td><td>San Juan Estate, Gran Couva                </td><td>1880</td><td>2016</td><td>78%</td><td>Austria    </td><td>3.5</td><td>Trinitario           </td><td>Trinidad          </td></tr>\n",
              "\t<tr><td>Zotter                      </td><td>Bocas del Toro, Cocabo Co-op               </td><td> 801</td><td>2012</td><td>72%</td><td>Austria    </td><td>3.5</td><td>                     </td><td>Panama            </td></tr>\n",
              "\t<tr><td>Zotter                      </td><td>Satipo Pangoa region, 20hr conche          </td><td> 875</td><td>2012</td><td>70%</td><td>Austria    </td><td>3.5</td><td>Criollo (Amarru)     </td><td>Peru              </td></tr>\n",
              "</tbody>\n",
              "</table>\n"
            ],
            "text/markdown": "\nA tibble: 573 × 9\n\n| brand &lt;chr&gt; | specific_bean_origin_or_bar_name &lt;chr&gt; | ref &lt;dbl&gt; | review_date &lt;dbl&gt; | cocoa_percent &lt;chr&gt; | company_location &lt;chr&gt; | rating &lt;dbl&gt; | bean_type &lt;chr&gt; | broad_bean &lt;chr&gt; |\n|---|---|---|---|---|---|---|---|---|\n| Amedei                       | Chuao                                    |  111 | 2007 | 70% | Italy       | 5 | Trinitario               | Venezuela        |\n| Amedei                       | Toscano Black                            |   40 | 2006 | 70% | Italy       | 5 | Blend                    |                  |\n| A. Morin                     | Pablino                                  | 1319 | 2014 | 70% | France      | 4 |                          | Peru             |\n| A. Morin                     | Chuao                                    | 1015 | 2013 | 70% | France      | 4 | Trinitario               | Venezuela        |\n| Amano                        | Morobe                                   |  725 | 2011 | 70% | U.S.A.      | 4 |                          | Papua New Guinea |\n| Amano                        | Guayas                                   |  470 | 2010 | 70% | U.S.A.      | 4 |                          | Ecuador          |\n| Amedei                       | Porcelana                                |  111 | 2007 | 70% | Italy       | 4 | Criollo (Porcelana)      | Venezuela        |\n| Amedei                       | Nine                                     |  111 | 2007 | 75% | Italy       | 4 | Blend                    |                  |\n| Amedei                       | Madagascar                               |  123 | 2007 | 70% | Italy       | 4 | Trinitario (85% Criollo) | Madagascar       |\n| Arete                        | Coto Brus, Terciopelo                    | 1908 | 2016 | 70% | U.S.A.      | 4 |                          | Costa Rica       |\n| Arete                        | Phantom                                  | 1924 | 2016 | 70% | U.S.A.      | 4 | Forastero (Nacional)     | Peru             |\n| Arete                        | Chuno                                    | 1598 | 2015 | 70% | U.S.A.      | 4 | Criollo, Trinitario      | Nicaragua        |\n| Artisan du Chocolat          | Haiti                                    |  729 | 2011 | 72% | U.K.        | 4 |                          | Haiti            |\n| Bar Au Chocolat              | Maranon Canyon                           | 1295 | 2014 | 70% | U.S.A.      | 4 | Forastero (Nacional)     | Peru             |\n| Benoit Nihant                | Rio Peripa H.                            | 1141 | 2013 | 73% | Belgium     | 4 | Trinitario               | Ecuador          |\n| Benoit Nihant                | Bali, Sukrama Bros. Farm, Melaya, 62hr C |  757 | 2011 | 72% | Belgium     | 4 | Trinitario               | Indonesia        |\n| Beschle (Felchlin)           | Ecuador                                  |  636 | 2011 | 72% | Switzerland | 4 |                          | Ecuador          |\n| Bonnat                       | Kaori                                    | 1339 | 2014 | 75% | France      | 4 |                          | Brazil           |\n| Bonnat                       | Haiti                                    |  629 | 2011 | 75% | France      | 4 |                          | Haiti            |\n| Bonnat                       | Madagascar, 100% criollo                 |  629 | 2011 | 75% | France      | 4 | Criollo                  | Madagascar       |\n| Bonnat                       | Porcelana, Venezuela                     |  199 | 2008 | 75% | France      | 4 | Criollo (Porcelana)      | Venezuela        |\n| Bonnat                       | Ocumare, Puerto Cabello                  |   32 | 2006 | 75% | France      | 4 |                          | Venezuela        |\n| Bonnat                       | Maracaibo, El Rosario                    |   48 | 2006 | 75% | France      | 4 | Criollo                  | Venezuela        |\n| Bonnat                       | Madagascar                               |   75 | 2006 | 75% | France      | 4 | Trinitario               | Madagascar       |\n| Bonnat                       | Chuao                                    |   81 | 2006 | 75% | France      | 4 | Trinitario               | Venezuela        |\n| Brasstown aka It's Chocolate | Chuao                                    | 1355 | 2014 | 70% | U.S.A.      | 4 | Trinitario               | Venezuela        |\n| Cacao Sampaka                | Papua                                    |  523 | 2010 | 71% | Spain       | 4 |                          | Papua New Guinea |\n| Cacao Sampaka                | Porcelana, Tabasco, La Joya              |  336 | 2009 | 70% | Spain       | 4 | Criollo                  | Mexico           |\n| Cacao Sampaka                | Xoconusco, Chiapas                       |  346 | 2009 | 70% | Spain       | 4 | Criollo                  | Mexico           |\n| Castronovo                   | Maya Mtn, Batch 454, Heirloom            | 1724 | 2016 | 72% | U.S.A.      | 4 | Trinitario               | Belize           |\n| ⋮ | ⋮ | ⋮ | ⋮ | ⋮ | ⋮ | ⋮ | ⋮ | ⋮ |\n| Spencer                      | Ecuador                                     | 1932 | 2017 | 70% | U.S.A.      | 3.5 |                       | Ecuador            |\n| Spencer                      | Dominican Republic, lot D82R                | 1792 | 2016 | 70% | Australia   | 3.5 |                       | Domincan Republic  |\n| Stone Grindz                 | Ecuador, Midnight Dark                      | 1291 | 2014 | 84% | U.S.A.      | 3.5 |                       | Ecuador            |\n| Stone Grindz                 | Ecuador, Twilght Dark                       | 1291 | 2014 | 70% | U.S.A.      | 3.5 |                       | Ecuador            |\n| Szanto Tibor                 | Fazenda Sempre Firme, Bahia                 | 1708 | 2015 | 70% | Hungary     | 3.5 | Forastero (Parazinho) | Brazil             |\n| Szanto Tibor                 | Porcelana                                   | 1263 | 2014 | 70% | Hungary     | 3.5 | Criollo               | Venezuela          |\n| Szanto Tibor                 | Autumn, Primary Harvest, 2012               | 1185 | 2013 | 70% | Hungary     | 3.5 | Criollo               | Madagascar         |\n| Szanto Tibor                 | Spring, Secondary Harvest, 2012             | 1185 | 2013 | 70% | Hungary     | 3.5 | Criollo               | Madagascar         |\n| Tejas                        | Presidio                                    |  805 | 2012 | 70% | U.S.A.      | 3.5 |                       | Dominican Republic |\n| Tejas                        | Bahia, Floresta Azul,Good Friends Reserve#3 |  971 | 2012 | 70% | U.S.A.      | 3.5 | Forastero (Parazinho) | Brazil             |\n| Terroir                      | Oko Caribe                                  | 1554 | 2015 | 70% | U.S.A.      | 3.5 |                       | Domincan Republic  |\n| Tsara (Cinagra)              | Ambanja, Tsara Valley                       |  753 | 2011 | 72% | Madagascar  | 3.5 |                       | Madagascar         |\n| twenty-four blackbirds       | Cedeno, lot 271                             | 1700 | 2015 | 75% | U.S.A.      | 3.5 |                       | Ecuador            |\n| twenty-four blackbirds       | Madagascar                                  | 1235 | 2014 | 75% | U.S.A.      | 3.5 | Trinitario            | Madagascar         |\n| Valrhona                     | Andoa, Grand Cru blend                      | 1145 | 2013 | 70% | France      | 3.5 |                       |                    |\n| Videri                       | Trinidad                                    | 1211 | 2014 | 75% | U.S.A.      | 3.5 | Trinitario            | Trinidad           |\n| Videri                       | Mindo                                       | 1227 | 2014 | 75% | U.S.A.      | 3.5 |                       | Ecuador            |\n| Vietcacao (A. Morin)         | Ben Tre, Mekong Delta, MoCay                |  951 | 2012 | 70% | France      | 3.5 | Trinitario            | Vietnam            |\n| Wellington Chocolate Factory | Conacado                                    | 1756 | 2016 | 70% | New Zealand | 3.5 | Trinitario            | Dominican Republic |\n| Wellington Chocolate Factory | Piura Blanco, Norandino                     | 1756 | 2016 | 70% | New Zealand | 3.5 |                       | Peru               |\n| Willie's Cacao               | Hacienda Las Trincheras                     |  593 | 2010 | 72% | U.K.        | 3.5 |                       | Venezuela          |\n| Wm                           | Wild Beniano, 2016, batch 128, Heirloom     | 1912 | 2016 | 76% | U.S.A.      | 3.5 |                       | Bolivia            |\n| Woodblock                    | Gran Couva                                  | 1042 | 2013 | 70% | U.S.A.      | 3.5 | Trinitario            | Trinidad           |\n| Woodblock                    | La Red                                      |  769 | 2011 | 70% | U.S.A.      | 3.5 |                       | Dominican Republic |\n| Zak's                        | Belize, Batch 2                             | 1578 | 2015 | 70% | U.S.A.      | 3.5 | Trinitario            | Belize             |\n| Zart Pralinen                | Millot P., Ambanja                          | 1820 | 2016 | 70% | Austria     | 3.5 | Criollo, Trinitario   | Madagascar         |\n| Zart Pralinen                | Kakao Kamili, Kilombero Valley              | 1824 | 2016 | 70% | Austria     | 3.5 | Criollo, Trinitario   | Tanzania           |\n| Zart Pralinen                | San Juan Estate, Gran Couva                 | 1880 | 2016 | 78% | Austria     | 3.5 | Trinitario            | Trinidad           |\n| Zotter                       | Bocas del Toro, Cocabo Co-op                |  801 | 2012 | 72% | Austria     | 3.5 |                       | Panama             |\n| Zotter                       | Satipo Pangoa region, 20hr conche           |  875 | 2012 | 70% | Austria     | 3.5 | Criollo (Amarru)      | Peru               |\n\n",
            "text/latex": "A tibble: 573 × 9\n\\begin{tabular}{lllllllll}\n brand & specific\\_bean\\_origin\\_or\\_bar\\_name & ref & review\\_date & cocoa\\_percent & company\\_location & rating & bean\\_type & broad\\_bean\\\\\n <chr> & <chr> & <dbl> & <dbl> & <chr> & <chr> & <dbl> & <chr> & <chr>\\\\\n\\hline\n\t Amedei                       & Chuao                                    &  111 & 2007 & 70\\% & Italy       & 5 & Trinitario               & Venezuela       \\\\\n\t Amedei                       & Toscano Black                            &   40 & 2006 & 70\\% & Italy       & 5 & Blend                    &                 \\\\\n\t A. Morin                     & Pablino                                  & 1319 & 2014 & 70\\% & France      & 4 &                          & Peru            \\\\\n\t A. Morin                     & Chuao                                    & 1015 & 2013 & 70\\% & France      & 4 & Trinitario               & Venezuela       \\\\\n\t Amano                        & Morobe                                   &  725 & 2011 & 70\\% & U.S.A.      & 4 &                          & Papua New Guinea\\\\\n\t Amano                        & Guayas                                   &  470 & 2010 & 70\\% & U.S.A.      & 4 &                          & Ecuador         \\\\\n\t Amedei                       & Porcelana                                &  111 & 2007 & 70\\% & Italy       & 4 & Criollo (Porcelana)      & Venezuela       \\\\\n\t Amedei                       & Nine                                     &  111 & 2007 & 75\\% & Italy       & 4 & Blend                    &                 \\\\\n\t Amedei                       & Madagascar                               &  123 & 2007 & 70\\% & Italy       & 4 & Trinitario (85\\% Criollo) & Madagascar      \\\\\n\t Arete                        & Coto Brus, Terciopelo                    & 1908 & 2016 & 70\\% & U.S.A.      & 4 &                          & Costa Rica      \\\\\n\t Arete                        & Phantom                                  & 1924 & 2016 & 70\\% & U.S.A.      & 4 & Forastero (Nacional)     & Peru            \\\\\n\t Arete                        & Chuno                                    & 1598 & 2015 & 70\\% & U.S.A.      & 4 & Criollo, Trinitario      & Nicaragua       \\\\\n\t Artisan du Chocolat          & Haiti                                    &  729 & 2011 & 72\\% & U.K.        & 4 &                          & Haiti           \\\\\n\t Bar Au Chocolat              & Maranon Canyon                           & 1295 & 2014 & 70\\% & U.S.A.      & 4 & Forastero (Nacional)     & Peru            \\\\\n\t Benoit Nihant                & Rio Peripa H.                            & 1141 & 2013 & 73\\% & Belgium     & 4 & Trinitario               & Ecuador         \\\\\n\t Benoit Nihant                & Bali, Sukrama Bros. Farm, Melaya, 62hr C &  757 & 2011 & 72\\% & Belgium     & 4 & Trinitario               & Indonesia       \\\\\n\t Beschle (Felchlin)           & Ecuador                                  &  636 & 2011 & 72\\% & Switzerland & 4 &                          & Ecuador         \\\\\n\t Bonnat                       & Kaori                                    & 1339 & 2014 & 75\\% & France      & 4 &                          & Brazil          \\\\\n\t Bonnat                       & Haiti                                    &  629 & 2011 & 75\\% & France      & 4 &                          & Haiti           \\\\\n\t Bonnat                       & Madagascar, 100\\% criollo                 &  629 & 2011 & 75\\% & France      & 4 & Criollo                  & Madagascar      \\\\\n\t Bonnat                       & Porcelana, Venezuela                     &  199 & 2008 & 75\\% & France      & 4 & Criollo (Porcelana)      & Venezuela       \\\\\n\t Bonnat                       & Ocumare, Puerto Cabello                  &   32 & 2006 & 75\\% & France      & 4 &                          & Venezuela       \\\\\n\t Bonnat                       & Maracaibo, El Rosario                    &   48 & 2006 & 75\\% & France      & 4 & Criollo                  & Venezuela       \\\\\n\t Bonnat                       & Madagascar                               &   75 & 2006 & 75\\% & France      & 4 & Trinitario               & Madagascar      \\\\\n\t Bonnat                       & Chuao                                    &   81 & 2006 & 75\\% & France      & 4 & Trinitario               & Venezuela       \\\\\n\t Brasstown aka It's Chocolate & Chuao                                    & 1355 & 2014 & 70\\% & U.S.A.      & 4 & Trinitario               & Venezuela       \\\\\n\t Cacao Sampaka                & Papua                                    &  523 & 2010 & 71\\% & Spain       & 4 &                          & Papua New Guinea\\\\\n\t Cacao Sampaka                & Porcelana, Tabasco, La Joya              &  336 & 2009 & 70\\% & Spain       & 4 & Criollo                  & Mexico          \\\\\n\t Cacao Sampaka                & Xoconusco, Chiapas                       &  346 & 2009 & 70\\% & Spain       & 4 & Criollo                  & Mexico          \\\\\n\t Castronovo                   & Maya Mtn, Batch 454, Heirloom            & 1724 & 2016 & 72\\% & U.S.A.      & 4 & Trinitario               & Belize          \\\\\n\t ⋮ & ⋮ & ⋮ & ⋮ & ⋮ & ⋮ & ⋮ & ⋮ & ⋮\\\\\n\t Spencer                      & Ecuador                                     & 1932 & 2017 & 70\\% & U.S.A.      & 3.5 &                       & Ecuador           \\\\\n\t Spencer                      & Dominican Republic, lot D82R                & 1792 & 2016 & 70\\% & Australia   & 3.5 &                       & Domincan Republic \\\\\n\t Stone Grindz                 & Ecuador, Midnight Dark                      & 1291 & 2014 & 84\\% & U.S.A.      & 3.5 &                       & Ecuador           \\\\\n\t Stone Grindz                 & Ecuador, Twilght Dark                       & 1291 & 2014 & 70\\% & U.S.A.      & 3.5 &                       & Ecuador           \\\\\n\t Szanto Tibor                 & Fazenda Sempre Firme, Bahia                 & 1708 & 2015 & 70\\% & Hungary     & 3.5 & Forastero (Parazinho) & Brazil            \\\\\n\t Szanto Tibor                 & Porcelana                                   & 1263 & 2014 & 70\\% & Hungary     & 3.5 & Criollo               & Venezuela         \\\\\n\t Szanto Tibor                 & Autumn, Primary Harvest, 2012               & 1185 & 2013 & 70\\% & Hungary     & 3.5 & Criollo               & Madagascar        \\\\\n\t Szanto Tibor                 & Spring, Secondary Harvest, 2012             & 1185 & 2013 & 70\\% & Hungary     & 3.5 & Criollo               & Madagascar        \\\\\n\t Tejas                        & Presidio                                    &  805 & 2012 & 70\\% & U.S.A.      & 3.5 &                       & Dominican Republic\\\\\n\t Tejas                        & Bahia, Floresta Azul,Good Friends Reserve\\#3 &  971 & 2012 & 70\\% & U.S.A.      & 3.5 & Forastero (Parazinho) & Brazil            \\\\\n\t Terroir                      & Oko Caribe                                  & 1554 & 2015 & 70\\% & U.S.A.      & 3.5 &                       & Domincan Republic \\\\\n\t Tsara (Cinagra)              & Ambanja, Tsara Valley                       &  753 & 2011 & 72\\% & Madagascar  & 3.5 &                       & Madagascar        \\\\\n\t twenty-four blackbirds       & Cedeno, lot 271                             & 1700 & 2015 & 75\\% & U.S.A.      & 3.5 &                       & Ecuador           \\\\\n\t twenty-four blackbirds       & Madagascar                                  & 1235 & 2014 & 75\\% & U.S.A.      & 3.5 & Trinitario            & Madagascar        \\\\\n\t Valrhona                     & Andoa, Grand Cru blend                      & 1145 & 2013 & 70\\% & France      & 3.5 &                       &                   \\\\\n\t Videri                       & Trinidad                                    & 1211 & 2014 & 75\\% & U.S.A.      & 3.5 & Trinitario            & Trinidad          \\\\\n\t Videri                       & Mindo                                       & 1227 & 2014 & 75\\% & U.S.A.      & 3.5 &                       & Ecuador           \\\\\n\t Vietcacao (A. Morin)         & Ben Tre, Mekong Delta, MoCay                &  951 & 2012 & 70\\% & France      & 3.5 & Trinitario            & Vietnam           \\\\\n\t Wellington Chocolate Factory & Conacado                                    & 1756 & 2016 & 70\\% & New Zealand & 3.5 & Trinitario            & Dominican Republic\\\\\n\t Wellington Chocolate Factory & Piura Blanco, Norandino                     & 1756 & 2016 & 70\\% & New Zealand & 3.5 &                       & Peru              \\\\\n\t Willie's Cacao               & Hacienda Las Trincheras                     &  593 & 2010 & 72\\% & U.K.        & 3.5 &                       & Venezuela         \\\\\n\t Wm                           & Wild Beniano, 2016, batch 128, Heirloom     & 1912 & 2016 & 76\\% & U.S.A.      & 3.5 &                       & Bolivia           \\\\\n\t Woodblock                    & Gran Couva                                  & 1042 & 2013 & 70\\% & U.S.A.      & 3.5 & Trinitario            & Trinidad          \\\\\n\t Woodblock                    & La Red                                      &  769 & 2011 & 70\\% & U.S.A.      & 3.5 &                       & Dominican Republic\\\\\n\t Zak's                        & Belize, Batch 2                             & 1578 & 2015 & 70\\% & U.S.A.      & 3.5 & Trinitario            & Belize            \\\\\n\t Zart Pralinen                & Millot P., Ambanja                          & 1820 & 2016 & 70\\% & Austria     & 3.5 & Criollo, Trinitario   & Madagascar        \\\\\n\t Zart Pralinen                & Kakao Kamili, Kilombero Valley              & 1824 & 2016 & 70\\% & Austria     & 3.5 & Criollo, Trinitario   & Tanzania          \\\\\n\t Zart Pralinen                & San Juan Estate, Gran Couva                 & 1880 & 2016 & 78\\% & Austria     & 3.5 & Trinitario            & Trinidad          \\\\\n\t Zotter                       & Bocas del Toro, Cocabo Co-op                &  801 & 2012 & 72\\% & Austria     & 3.5 &                       & Panama            \\\\\n\t Zotter                       & Satipo Pangoa region, 20hr conche           &  875 & 2012 & 70\\% & Austria     & 3.5 & Criollo (Amarru)      & Peru              \\\\\n\\end{tabular}\n",
            "text/plain": [
              "    brand                        specific_bean_origin_or_bar_name           \n",
              "1   Amedei                       Chuao                                      \n",
              "2   Amedei                       Toscano Black                              \n",
              "3   A. Morin                     Pablino                                    \n",
              "4   A. Morin                     Chuao                                      \n",
              "5   Amano                        Morobe                                     \n",
              "6   Amano                        Guayas                                     \n",
              "7   Amedei                       Porcelana                                  \n",
              "8   Amedei                       Nine                                       \n",
              "9   Amedei                       Madagascar                                 \n",
              "10  Arete                        Coto Brus, Terciopelo                      \n",
              "11  Arete                        Phantom                                    \n",
              "12  Arete                        Chuno                                      \n",
              "13  Artisan du Chocolat          Haiti                                      \n",
              "14  Bar Au Chocolat              Maranon Canyon                             \n",
              "15  Benoit Nihant                Rio Peripa H.                              \n",
              "16  Benoit Nihant                Bali, Sukrama Bros. Farm, Melaya, 62hr C   \n",
              "17  Beschle (Felchlin)           Ecuador                                    \n",
              "18  Bonnat                       Kaori                                      \n",
              "19  Bonnat                       Haiti                                      \n",
              "20  Bonnat                       Madagascar, 100% criollo                   \n",
              "21  Bonnat                       Porcelana, Venezuela                       \n",
              "22  Bonnat                       Ocumare, Puerto Cabello                    \n",
              "23  Bonnat                       Maracaibo, El Rosario                      \n",
              "24  Bonnat                       Madagascar                                 \n",
              "25  Bonnat                       Chuao                                      \n",
              "26  Brasstown aka It's Chocolate Chuao                                      \n",
              "27  Cacao Sampaka                Papua                                      \n",
              "28  Cacao Sampaka                Porcelana, Tabasco, La Joya                \n",
              "29  Cacao Sampaka                Xoconusco, Chiapas                         \n",
              "30  Castronovo                   Maya Mtn, Batch 454, Heirloom              \n",
              "⋮   ⋮                            ⋮                                          \n",
              "544 Spencer                      Ecuador                                    \n",
              "545 Spencer                      Dominican Republic, lot D82R               \n",
              "546 Stone Grindz                 Ecuador, Midnight Dark                     \n",
              "547 Stone Grindz                 Ecuador, Twilght Dark                      \n",
              "548 Szanto Tibor                 Fazenda Sempre Firme, Bahia                \n",
              "549 Szanto Tibor                 Porcelana                                  \n",
              "550 Szanto Tibor                 Autumn, Primary Harvest, 2012              \n",
              "551 Szanto Tibor                 Spring, Secondary Harvest, 2012            \n",
              "552 Tejas                        Presidio                                   \n",
              "553 Tejas                        Bahia, Floresta Azul,Good Friends Reserve#3\n",
              "554 Terroir                      Oko Caribe                                 \n",
              "555 Tsara (Cinagra)              Ambanja, Tsara Valley                      \n",
              "556 twenty-four blackbirds       Cedeno, lot 271                            \n",
              "557 twenty-four blackbirds       Madagascar                                 \n",
              "558 Valrhona                     Andoa, Grand Cru blend                     \n",
              "559 Videri                       Trinidad                                   \n",
              "560 Videri                       Mindo                                      \n",
              "561 Vietcacao (A. Morin)         Ben Tre, Mekong Delta, MoCay               \n",
              "562 Wellington Chocolate Factory Conacado                                   \n",
              "563 Wellington Chocolate Factory Piura Blanco, Norandino                    \n",
              "564 Willie's Cacao               Hacienda Las Trincheras                    \n",
              "565 Wm                           Wild Beniano, 2016, batch 128, Heirloom    \n",
              "566 Woodblock                    Gran Couva                                 \n",
              "567 Woodblock                    La Red                                     \n",
              "568 Zak's                        Belize, Batch 2                            \n",
              "569 Zart Pralinen                Millot P., Ambanja                         \n",
              "570 Zart Pralinen                Kakao Kamili, Kilombero Valley             \n",
              "571 Zart Pralinen                San Juan Estate, Gran Couva                \n",
              "572 Zotter                       Bocas del Toro, Cocabo Co-op               \n",
              "573 Zotter                       Satipo Pangoa region, 20hr conche          \n",
              "    ref  review_date cocoa_percent company_location rating\n",
              "1    111 2007        70%           Italy            5     \n",
              "2     40 2006        70%           Italy            5     \n",
              "3   1319 2014        70%           France           4     \n",
              "4   1015 2013        70%           France           4     \n",
              "5    725 2011        70%           U.S.A.           4     \n",
              "6    470 2010        70%           U.S.A.           4     \n",
              "7    111 2007        70%           Italy            4     \n",
              "8    111 2007        75%           Italy            4     \n",
              "9    123 2007        70%           Italy            4     \n",
              "10  1908 2016        70%           U.S.A.           4     \n",
              "11  1924 2016        70%           U.S.A.           4     \n",
              "12  1598 2015        70%           U.S.A.           4     \n",
              "13   729 2011        72%           U.K.             4     \n",
              "14  1295 2014        70%           U.S.A.           4     \n",
              "15  1141 2013        73%           Belgium          4     \n",
              "16   757 2011        72%           Belgium          4     \n",
              "17   636 2011        72%           Switzerland      4     \n",
              "18  1339 2014        75%           France           4     \n",
              "19   629 2011        75%           France           4     \n",
              "20   629 2011        75%           France           4     \n",
              "21   199 2008        75%           France           4     \n",
              "22    32 2006        75%           France           4     \n",
              "23    48 2006        75%           France           4     \n",
              "24    75 2006        75%           France           4     \n",
              "25    81 2006        75%           France           4     \n",
              "26  1355 2014        70%           U.S.A.           4     \n",
              "27   523 2010        71%           Spain            4     \n",
              "28   336 2009        70%           Spain            4     \n",
              "29   346 2009        70%           Spain            4     \n",
              "30  1724 2016        72%           U.S.A.           4     \n",
              "⋮   ⋮    ⋮           ⋮             ⋮                ⋮     \n",
              "544 1932 2017        70%           U.S.A.           3.5   \n",
              "545 1792 2016        70%           Australia        3.5   \n",
              "546 1291 2014        84%           U.S.A.           3.5   \n",
              "547 1291 2014        70%           U.S.A.           3.5   \n",
              "548 1708 2015        70%           Hungary          3.5   \n",
              "549 1263 2014        70%           Hungary          3.5   \n",
              "550 1185 2013        70%           Hungary          3.5   \n",
              "551 1185 2013        70%           Hungary          3.5   \n",
              "552  805 2012        70%           U.S.A.           3.5   \n",
              "553  971 2012        70%           U.S.A.           3.5   \n",
              "554 1554 2015        70%           U.S.A.           3.5   \n",
              "555  753 2011        72%           Madagascar       3.5   \n",
              "556 1700 2015        75%           U.S.A.           3.5   \n",
              "557 1235 2014        75%           U.S.A.           3.5   \n",
              "558 1145 2013        70%           France           3.5   \n",
              "559 1211 2014        75%           U.S.A.           3.5   \n",
              "560 1227 2014        75%           U.S.A.           3.5   \n",
              "561  951 2012        70%           France           3.5   \n",
              "562 1756 2016        70%           New Zealand      3.5   \n",
              "563 1756 2016        70%           New Zealand      3.5   \n",
              "564  593 2010        72%           U.K.             3.5   \n",
              "565 1912 2016        76%           U.S.A.           3.5   \n",
              "566 1042 2013        70%           U.S.A.           3.5   \n",
              "567  769 2011        70%           U.S.A.           3.5   \n",
              "568 1578 2015        70%           U.S.A.           3.5   \n",
              "569 1820 2016        70%           Austria          3.5   \n",
              "570 1824 2016        70%           Austria          3.5   \n",
              "571 1880 2016        78%           Austria          3.5   \n",
              "572  801 2012        72%           Austria          3.5   \n",
              "573  875 2012        70%           Austria          3.5   \n",
              "    bean_type                broad_bean        \n",
              "1   Trinitario               Venezuela         \n",
              "2   Blend                                      \n",
              "3                            Peru              \n",
              "4   Trinitario               Venezuela         \n",
              "5                            Papua New Guinea  \n",
              "6                            Ecuador           \n",
              "7   Criollo (Porcelana)      Venezuela         \n",
              "8   Blend                                      \n",
              "9   Trinitario (85% Criollo) Madagascar        \n",
              "10                           Costa Rica        \n",
              "11  Forastero (Nacional)     Peru              \n",
              "12  Criollo, Trinitario      Nicaragua         \n",
              "13                           Haiti             \n",
              "14  Forastero (Nacional)     Peru              \n",
              "15  Trinitario               Ecuador           \n",
              "16  Trinitario               Indonesia         \n",
              "17                           Ecuador           \n",
              "18                           Brazil            \n",
              "19                           Haiti             \n",
              "20  Criollo                  Madagascar        \n",
              "21  Criollo (Porcelana)      Venezuela         \n",
              "22                           Venezuela         \n",
              "23  Criollo                  Venezuela         \n",
              "24  Trinitario               Madagascar        \n",
              "25  Trinitario               Venezuela         \n",
              "26  Trinitario               Venezuela         \n",
              "27                           Papua New Guinea  \n",
              "28  Criollo                  Mexico            \n",
              "29  Criollo                  Mexico            \n",
              "30  Trinitario               Belize            \n",
              "⋮   ⋮                        ⋮                 \n",
              "544                          Ecuador           \n",
              "545                          Domincan Republic \n",
              "546                          Ecuador           \n",
              "547                          Ecuador           \n",
              "548 Forastero (Parazinho)    Brazil            \n",
              "549 Criollo                  Venezuela         \n",
              "550 Criollo                  Madagascar        \n",
              "551 Criollo                  Madagascar        \n",
              "552                          Dominican Republic\n",
              "553 Forastero (Parazinho)    Brazil            \n",
              "554                          Domincan Republic \n",
              "555                          Madagascar        \n",
              "556                          Ecuador           \n",
              "557 Trinitario               Madagascar        \n",
              "558                                            \n",
              "559 Trinitario               Trinidad          \n",
              "560                          Ecuador           \n",
              "561 Trinitario               Vietnam           \n",
              "562 Trinitario               Dominican Republic\n",
              "563                          Peru              \n",
              "564                          Venezuela         \n",
              "565                          Bolivia           \n",
              "566 Trinitario               Trinidad          \n",
              "567                          Dominican Republic\n",
              "568 Trinitario               Belize            \n",
              "569 Criollo, Trinitario      Madagascar        \n",
              "570 Criollo, Trinitario      Tanzania          \n",
              "571 Trinitario               Trinidad          \n",
              "572                          Panama            \n",
              "573 Criollo (Amarru)         Peru              "
            ]
          },
          "metadata": {}
        }
      ]
    },
    {
      "cell_type": "code",
      "source": [
        "# Subplot by cocoa percent\n",
        "ggplot(full_best_trimmed_flavors_df) +\n",
        "  geom_bar(aes(x=cocoa_percent)) +\n",
        "  facet_wrap(~cocoa_percent)"
      ],
      "metadata": {
        "colab": {
          "base_uri": "https://localhost:8080/",
          "height": 437
        },
        "id": "quBAyeMiRlAN",
        "outputId": "24409ee0-9c35-49d1-9036-8965b96491d1"
      },
      "execution_count": null,
      "outputs": [
        {
          "output_type": "display_data",
          "data": {
            "text/plain": [
              "plot without title"
            ],
            "image/png": "[encoded data removed]"
          },
          "metadata": {
            "image/png": {
              "width": 420,
              "height": 420
            }
          }
        }
      ]
    },
    {
      "cell_type": "code",
      "source": [
        "# Add annotation in plot\n",
        "ggplot(trimmed_flavors_df) +\n",
        "  geom_point(aes(x=cocoa_percent, y=rating)) +\n",
        "  labs(title=\"Suggested Chocolate\")"
      ],
      "metadata": {
        "colab": {
          "base_uri": "https://localhost:8080/",
          "height": 437
        },
        "id": "cbpwfMgNTJGl",
        "outputId": "6714f8b6-2acb-4b24-b3c2-9353ed4c3946"
      },
      "execution_count": null,
      "outputs": [
        {
          "output_type": "display_data",
          "data": {
            "text/plain": [
              "plot without title"
            ],
            "image/png": "[encoded data removed]"
          },
          "metadata": {
            "image/png": {
              "width": 420,
              "height": 420
            }
          }
        }
      ]
    },
    {
      "cell_type": "code",
      "source": [
        "ggsave(\"chocolate.pdf\")"
      ],
      "metadata": {
        "colab": {
          "base_uri": "https://localhost:8080/"
        },
        "id": "ePebi8fVTlrL",
        "outputId": "cb02e5d9-0ab3-4758-b273-115bd80b3a12"
      },
      "execution_count": null,
      "outputs": [
        {
          "output_type": "stream",
          "name": "stderr",
          "text": [
            "Saving 6.67 x 6.67 in image\n",
            "\n"
          ]
        }
      ]
    },
    {
      "cell_type": "code",
      "source": [],
      "metadata": {
        "id": "Dbe9u9rtT3Ai"
      },
      "execution_count": null,
      "outputs": []
    }
  ]
}