{
  "cells": [
    {
      "cell_type": "markdown",
      "metadata": {
        "id": "view-in-github",
        "colab_type": "text"
      },
      "source": [
        "<a href=\"https://colab.research.google.com/github/firouzdimas/Data-Analyst-Data-Science-Mini-Portofolio/blob/main/Finpro_Firouz_Dimas__S_MisstatementPrediction.ipynb\" target=\"_parent\"><img src=\"https://colab.research.google.com/assets/colab-badge.svg\" alt=\"Open In Colab\"/></a>"
      ]
    },
    {
      "cell_type": "markdown",
      "metadata": {
        "id": "skKQm_5j4Ors"
      },
      "source": [
        "# Predicting Accounting Fraud "
      ]
    },
    {
      "cell_type": "markdown",
      "metadata": {
        "id": "d6PVSByx4Orw"
      },
      "source": [
        "### MODELLING\n",
        "\n",
        "Setelah dilakukan Exploratory data, kemudian akan dibangun sistem prediksi kecurangan pada laporan keuangan berdasarkan misstatement"
      ]
    },
    {
      "cell_type": "code",
      "execution_count": null,
      "metadata": {
        "id": "_fS90WTv4Orx"
      },
      "outputs": [],
      "source": [
        "#Import Library\n",
        "\n",
        "import pandas as pd\n",
        "import numpy as np\n",
        "import matplotlib.pyplot as plt\n",
        "import seaborn as sns\n",
        "\n",
        "\n",
        "from sklearn import preprocessing\n",
        "from sklearn.ensemble import RandomForestClassifier\n",
        "from xgboost import XGBRFClassifier\n",
        "from sklearn.naive_bayes import GaussianNB\n",
        "from sklearn.model_selection import train_test_split\n",
        "from sklearn.metrics import accuracy_score, recall_score, precision_score\n",
        "from sklearn.metrics import confusion_matrix, roc_auc_score, f1_score, recall_score\n",
        "from sklearn import metrics\n",
        "from sklearn.model_selection import GridSearchCV\n",
        "\n",
        "from sklearn.preprocessing import MinMaxScaler\n",
        "from sklearn.pipeline import Pipeline\n",
        "from sklearn.base import BaseEstimator, TransformerMixin\n",
        "from feature_engine.selection import DropFeatures\n",
        "from imblearn.pipeline import make_pipeline\n",
        "from imblearn.combine import SMOTETomek\n",
        "from imblearn.over_sampling import SMOTE\n",
        "from sklearn.metrics import confusion_matrix, ConfusionMatrixDisplay\n",
        "\n",
        "import warnings\n",
        "warnings.filterwarnings(\"ignore\")"
      ]
    },
    {
      "cell_type": "code",
      "execution_count": null,
      "metadata": {
        "id": "GWxwDvdt4Ory",
        "outputId": "28afd920-21f9-419d-d8cf-ff153b282da9"
      },
      "outputs": [
        {
          "data": {
            "text/html": [
              "<div>\n",
              "<style scoped>\n",
              "    .dataframe tbody tr th:only-of-type {\n",
              "        vertical-align: middle;\n",
              "    }\n",
              "\n",
              "    .dataframe tbody tr th {\n",
              "        vertical-align: top;\n",
              "    }\n",
              "\n",
              "    .dataframe thead th {\n",
              "        text-align: right;\n",
              "    }\n",
              "</style>\n",
              "<table border=\"1\" class=\"dataframe\">\n",
              "  <thead>\n",
              "    <tr style=\"text-align: right;\">\n",
              "      <th></th>\n",
              "      <th>fyear</th>\n",
              "      <th>gvkey</th>\n",
              "      <th>p_aaer</th>\n",
              "      <th>misstate</th>\n",
              "      <th>act</th>\n",
              "      <th>ap</th>\n",
              "      <th>at</th>\n",
              "      <th>ceq</th>\n",
              "      <th>che</th>\n",
              "      <th>cogs</th>\n",
              "      <th>...</th>\n",
              "      <th>soft_assets</th>\n",
              "      <th>ch_cs</th>\n",
              "      <th>ch_cm</th>\n",
              "      <th>ch_roa</th>\n",
              "      <th>issue</th>\n",
              "      <th>bm</th>\n",
              "      <th>dpi</th>\n",
              "      <th>reoa</th>\n",
              "      <th>EBIT</th>\n",
              "      <th>ch_fcf</th>\n",
              "    </tr>\n",
              "  </thead>\n",
              "  <tbody>\n",
              "    <tr>\n",
              "      <th>0</th>\n",
              "      <td>1990</td>\n",
              "      <td>1009</td>\n",
              "      <td>NaN</td>\n",
              "      <td>0</td>\n",
              "      <td>10.047</td>\n",
              "      <td>3.736</td>\n",
              "      <td>32.335</td>\n",
              "      <td>6.262</td>\n",
              "      <td>0.002</td>\n",
              "      <td>30.633</td>\n",
              "      <td>...</td>\n",
              "      <td>0.312448</td>\n",
              "      <td>0.095082</td>\n",
              "      <td>0.082631</td>\n",
              "      <td>-0.019761</td>\n",
              "      <td>1</td>\n",
              "      <td>0.413170</td>\n",
              "      <td>0.873555</td>\n",
              "      <td>0.167620</td>\n",
              "      <td>0.161961</td>\n",
              "      <td>-0.042140</td>\n",
              "    </tr>\n",
              "    <tr>\n",
              "      <th>1</th>\n",
              "      <td>1990</td>\n",
              "      <td>1011</td>\n",
              "      <td>NaN</td>\n",
              "      <td>0</td>\n",
              "      <td>1.247</td>\n",
              "      <td>0.803</td>\n",
              "      <td>7.784</td>\n",
              "      <td>0.667</td>\n",
              "      <td>0.171</td>\n",
              "      <td>1.125</td>\n",
              "      <td>...</td>\n",
              "      <td>0.315904</td>\n",
              "      <td>0.188832</td>\n",
              "      <td>-0.211389</td>\n",
              "      <td>-0.117832</td>\n",
              "      <td>1</td>\n",
              "      <td>0.157887</td>\n",
              "      <td>0.745139</td>\n",
              "      <td>-0.428957</td>\n",
              "      <td>-0.157888</td>\n",
              "      <td>0.100228</td>\n",
              "    </tr>\n",
              "    <tr>\n",
              "      <th>2</th>\n",
              "      <td>1990</td>\n",
              "      <td>1017</td>\n",
              "      <td>NaN</td>\n",
              "      <td>0</td>\n",
              "      <td>55.040</td>\n",
              "      <td>3.601</td>\n",
              "      <td>118.120</td>\n",
              "      <td>44.393</td>\n",
              "      <td>3.132</td>\n",
              "      <td>107.343</td>\n",
              "      <td>...</td>\n",
              "      <td>0.605342</td>\n",
              "      <td>0.097551</td>\n",
              "      <td>-0.105780</td>\n",
              "      <td>0.091206</td>\n",
              "      <td>1</td>\n",
              "      <td>2.231337</td>\n",
              "      <td>1.015131</td>\n",
              "      <td>0.394768</td>\n",
              "      <td>0.063681</td>\n",
              "      <td>0.066348</td>\n",
              "    </tr>\n",
              "    <tr>\n",
              "      <th>3</th>\n",
              "      <td>1990</td>\n",
              "      <td>1021</td>\n",
              "      <td>NaN</td>\n",
              "      <td>0</td>\n",
              "      <td>24.684</td>\n",
              "      <td>3.948</td>\n",
              "      <td>34.591</td>\n",
              "      <td>7.751</td>\n",
              "      <td>0.411</td>\n",
              "      <td>31.214</td>\n",
              "      <td>...</td>\n",
              "      <td>0.793068</td>\n",
              "      <td>-0.005725</td>\n",
              "      <td>-0.249704</td>\n",
              "      <td>0.017545</td>\n",
              "      <td>1</td>\n",
              "      <td>1.043582</td>\n",
              "      <td>1.026261</td>\n",
              "      <td>0.094822</td>\n",
              "      <td>0.088347</td>\n",
              "      <td>-0.017358</td>\n",
              "    </tr>\n",
              "    <tr>\n",
              "      <th>4</th>\n",
              "      <td>1990</td>\n",
              "      <td>1028</td>\n",
              "      <td>NaN</td>\n",
              "      <td>0</td>\n",
              "      <td>17.325</td>\n",
              "      <td>3.520</td>\n",
              "      <td>27.542</td>\n",
              "      <td>-12.142</td>\n",
              "      <td>1.017</td>\n",
              "      <td>32.662</td>\n",
              "      <td>...</td>\n",
              "      <td>0.869182</td>\n",
              "      <td>-0.231536</td>\n",
              "      <td>-1.674893</td>\n",
              "      <td>-0.466667</td>\n",
              "      <td>0</td>\n",
              "      <td>-1.602508</td>\n",
              "      <td>0.598443</td>\n",
              "      <td>-0.942379</td>\n",
              "      <td>-0.700821</td>\n",
              "      <td>0.130349</td>\n",
              "    </tr>\n",
              "    <tr>\n",
              "      <th>...</th>\n",
              "      <td>...</td>\n",
              "      <td>...</td>\n",
              "      <td>...</td>\n",
              "      <td>...</td>\n",
              "      <td>...</td>\n",
              "      <td>...</td>\n",
              "      <td>...</td>\n",
              "      <td>...</td>\n",
              "      <td>...</td>\n",
              "      <td>...</td>\n",
              "      <td>...</td>\n",
              "      <td>...</td>\n",
              "      <td>...</td>\n",
              "      <td>...</td>\n",
              "      <td>...</td>\n",
              "      <td>...</td>\n",
              "      <td>...</td>\n",
              "      <td>...</td>\n",
              "      <td>...</td>\n",
              "      <td>...</td>\n",
              "      <td>...</td>\n",
              "    </tr>\n",
              "    <tr>\n",
              "      <th>146040</th>\n",
              "      <td>2014</td>\n",
              "      <td>314866</td>\n",
              "      <td>NaN</td>\n",
              "      <td>0</td>\n",
              "      <td>262.600</td>\n",
              "      <td>12.400</td>\n",
              "      <td>1234.800</td>\n",
              "      <td>194.100</td>\n",
              "      <td>166.200</td>\n",
              "      <td>214.400</td>\n",
              "      <td>...</td>\n",
              "      <td>0.751944</td>\n",
              "      <td>0.560406</td>\n",
              "      <td>0.127217</td>\n",
              "      <td>-0.050591</td>\n",
              "      <td>1</td>\n",
              "      <td>0.103693</td>\n",
              "      <td>0.829680</td>\n",
              "      <td>-0.327178</td>\n",
              "      <td>-0.008179</td>\n",
              "      <td>-0.261606</td>\n",
              "    </tr>\n",
              "    <tr>\n",
              "      <th>146041</th>\n",
              "      <td>2014</td>\n",
              "      <td>315318</td>\n",
              "      <td>NaN</td>\n",
              "      <td>0</td>\n",
              "      <td>1578.400</td>\n",
              "      <td>106.700</td>\n",
              "      <td>4557.600</td>\n",
              "      <td>2459.600</td>\n",
              "      <td>997.300</td>\n",
              "      <td>324.400</td>\n",
              "      <td>...</td>\n",
              "      <td>0.742781</td>\n",
              "      <td>-0.118178</td>\n",
              "      <td>0.031360</td>\n",
              "      <td>0.095355</td>\n",
              "      <td>1</td>\n",
              "      <td>0.581796</td>\n",
              "      <td>0.743084</td>\n",
              "      <td>-0.077826</td>\n",
              "      <td>0.000461</td>\n",
              "      <td>-0.296702</td>\n",
              "    </tr>\n",
              "    <tr>\n",
              "      <th>146042</th>\n",
              "      <td>2014</td>\n",
              "      <td>316056</td>\n",
              "      <td>NaN</td>\n",
              "      <td>0</td>\n",
              "      <td>973.800</td>\n",
              "      <td>249.500</td>\n",
              "      <td>2015.900</td>\n",
              "      <td>-4.800</td>\n",
              "      <td>290.500</td>\n",
              "      <td>1185.500</td>\n",
              "      <td>...</td>\n",
              "      <td>0.751129</td>\n",
              "      <td>0.004207</td>\n",
              "      <td>-0.037925</td>\n",
              "      <td>0.072050</td>\n",
              "      <td>1</td>\n",
              "      <td>-0.000903</td>\n",
              "      <td>1.063878</td>\n",
              "      <td>-0.002877</td>\n",
              "      <td>0.153133</td>\n",
              "      <td>0.065569</td>\n",
              "    </tr>\n",
              "    <tr>\n",
              "      <th>146043</th>\n",
              "      <td>2014</td>\n",
              "      <td>317260</td>\n",
              "      <td>NaN</td>\n",
              "      <td>0</td>\n",
              "      <td>51.743</td>\n",
              "      <td>1.555</td>\n",
              "      <td>322.421</td>\n",
              "      <td>319.230</td>\n",
              "      <td>46.398</td>\n",
              "      <td>24.319</td>\n",
              "      <td>...</td>\n",
              "      <td>0.018001</td>\n",
              "      <td>NaN</td>\n",
              "      <td>NaN</td>\n",
              "      <td>NaN</td>\n",
              "      <td>1</td>\n",
              "      <td>1.109467</td>\n",
              "      <td>NaN</td>\n",
              "      <td>0.000000</td>\n",
              "      <td>0.028804</td>\n",
              "      <td>NaN</td>\n",
              "    </tr>\n",
              "    <tr>\n",
              "      <th>146044</th>\n",
              "      <td>2014</td>\n",
              "      <td>317264</td>\n",
              "      <td>NaN</td>\n",
              "      <td>0</td>\n",
              "      <td>233.211</td>\n",
              "      <td>5.224</td>\n",
              "      <td>1099.101</td>\n",
              "      <td>873.214</td>\n",
              "      <td>204.821</td>\n",
              "      <td>43.338</td>\n",
              "      <td>...</td>\n",
              "      <td>0.068841</td>\n",
              "      <td>1.684618</td>\n",
              "      <td>-0.094348</td>\n",
              "      <td>0.020573</td>\n",
              "      <td>1</td>\n",
              "      <td>1.154308</td>\n",
              "      <td>0.745399</td>\n",
              "      <td>0.025562</td>\n",
              "      <td>0.026433</td>\n",
              "      <td>-0.240183</td>\n",
              "    </tr>\n",
              "  </tbody>\n",
              "</table>\n",
              "<p>146045 rows × 46 columns</p>\n",
              "</div>"
            ],
            "text/plain": [
              "        fyear   gvkey  p_aaer  misstate       act       ap        at  \\\n",
              "0        1990    1009     NaN         0    10.047    3.736    32.335   \n",
              "1        1990    1011     NaN         0     1.247    0.803     7.784   \n",
              "2        1990    1017     NaN         0    55.040    3.601   118.120   \n",
              "3        1990    1021     NaN         0    24.684    3.948    34.591   \n",
              "4        1990    1028     NaN         0    17.325    3.520    27.542   \n",
              "...       ...     ...     ...       ...       ...      ...       ...   \n",
              "146040   2014  314866     NaN         0   262.600   12.400  1234.800   \n",
              "146041   2014  315318     NaN         0  1578.400  106.700  4557.600   \n",
              "146042   2014  316056     NaN         0   973.800  249.500  2015.900   \n",
              "146043   2014  317260     NaN         0    51.743    1.555   322.421   \n",
              "146044   2014  317264     NaN         0   233.211    5.224  1099.101   \n",
              "\n",
              "             ceq      che      cogs  ...  soft_assets     ch_cs     ch_cm  \\\n",
              "0          6.262    0.002    30.633  ...     0.312448  0.095082  0.082631   \n",
              "1          0.667    0.171     1.125  ...     0.315904  0.188832 -0.211389   \n",
              "2         44.393    3.132   107.343  ...     0.605342  0.097551 -0.105780   \n",
              "3          7.751    0.411    31.214  ...     0.793068 -0.005725 -0.249704   \n",
              "4        -12.142    1.017    32.662  ...     0.869182 -0.231536 -1.674893   \n",
              "...          ...      ...       ...  ...          ...       ...       ...   \n",
              "146040   194.100  166.200   214.400  ...     0.751944  0.560406  0.127217   \n",
              "146041  2459.600  997.300   324.400  ...     0.742781 -0.118178  0.031360   \n",
              "146042    -4.800  290.500  1185.500  ...     0.751129  0.004207 -0.037925   \n",
              "146043   319.230   46.398    24.319  ...     0.018001       NaN       NaN   \n",
              "146044   873.214  204.821    43.338  ...     0.068841  1.684618 -0.094348   \n",
              "\n",
              "          ch_roa  issue        bm       dpi      reoa      EBIT    ch_fcf  \n",
              "0      -0.019761      1  0.413170  0.873555  0.167620  0.161961 -0.042140  \n",
              "1      -0.117832      1  0.157887  0.745139 -0.428957 -0.157888  0.100228  \n",
              "2       0.091206      1  2.231337  1.015131  0.394768  0.063681  0.066348  \n",
              "3       0.017545      1  1.043582  1.026261  0.094822  0.088347 -0.017358  \n",
              "4      -0.466667      0 -1.602508  0.598443 -0.942379 -0.700821  0.130349  \n",
              "...          ...    ...       ...       ...       ...       ...       ...  \n",
              "146040 -0.050591      1  0.103693  0.829680 -0.327178 -0.008179 -0.261606  \n",
              "146041  0.095355      1  0.581796  0.743084 -0.077826  0.000461 -0.296702  \n",
              "146042  0.072050      1 -0.000903  1.063878 -0.002877  0.153133  0.065569  \n",
              "146043       NaN      1  1.109467       NaN  0.000000  0.028804       NaN  \n",
              "146044  0.020573      1  1.154308  0.745399  0.025562  0.026433 -0.240183  \n",
              "\n",
              "[146045 rows x 46 columns]"
            ]
          },
          "execution_count": 4,
          "metadata": {},
          "output_type": "execute_result"
        }
      ],
      "source": [
        "#Load Data\n",
        "df_misstate = pd.read_csv('data_FraudDetection_JAR2020.csv')\n",
        "df_misstate"
      ]
    },
    {
      "cell_type": "code",
      "execution_count": null,
      "metadata": {
        "id": "8_XlA5F64Orz"
      },
      "outputs": [],
      "source": [
        "df_misstate.columns"
      ]
    },
    {
      "cell_type": "markdown",
      "metadata": {
        "id": "RiAzzCVf4Or0"
      },
      "source": [
        "### Preprocessing"
      ]
    },
    {
      "cell_type": "code",
      "execution_count": null,
      "metadata": {
        "id": "_MGOAmK04Or0"
      },
      "outputs": [],
      "source": [
        "#Tranformer\n",
        "\n",
        "#All\n",
        "#ini untuk drop feature yang unique dan missing value nya banyak\n",
        "#class DropFeature(BaseEstimator, TransformerMixin):\n",
        "#   def __init__(self, var):\n",
        "#   def fit(self, X, y = None):\n",
        "#     return self\n",
        "#   def transform(self, X):\n",
        "#       X.drop(self.var, axis = 1)\n",
        "#       return X\n",
        "\n",
        "#Tapi kemudian memakai dropfeatures\n",
        "\n",
        "\n",
        "#untuk mengisi na dengan median\n",
        "class FillNaa(BaseEstimator, TransformerMixin):\n",
        "    def __init__(self, var=None):\n",
        "        self.var = var\n",
        "    def fit(self, X, y = None):\n",
        "        return self\n",
        "    def transform(self, X):\n",
        "        X = X.fillna(X.median())\n",
        "        return X\n",
        "\n",
        "#class DropNa(BaseEstimator, TransformerMixin):\n",
        " #   def __init__(self, var=None):\n",
        "  #      self.var = var\n",
        "   # def fit(self, X, y = None):\n",
        "    #    return self\n",
        "    #def transform(self, X):\n",
        "     #   X.dropna(inplace = True)\n",
        "      #  return X\n",
        "\n"
      ]
    },
    {
      "cell_type": "code",
      "execution_count": null,
      "metadata": {
        "id": "OE0S5GEv4Or1"
      },
      "outputs": [],
      "source": [
        "#X untuk features dan y untuk label\n",
        "X = df_misstate.drop(['misstate'], axis=1)\n",
        "y = df_misstate['misstate']"
      ]
    },
    {
      "cell_type": "markdown",
      "metadata": {
        "id": "XiAixmXY4Or2"
      },
      "source": [
        "#### Split data train, test, validation"
      ]
    },
    {
      "cell_type": "code",
      "execution_count": null,
      "metadata": {
        "id": "ZmOI922i4Or3"
      },
      "outputs": [],
      "source": [
        "X_train, X_test, y_train, y_test = train_test_split(X, y, test_size=0.15, random_state=42)"
      ]
    },
    {
      "cell_type": "code",
      "execution_count": null,
      "metadata": {
        "id": "tfXMxUNG4Or3"
      },
      "outputs": [],
      "source": [
        "X_train, X_eval, y_train, y_eval = train_test_split(X_train, y_train, test_size=0.20, random_state=42)"
      ]
    },
    {
      "cell_type": "markdown",
      "metadata": {
        "id": "MJBtwzjv4Or3"
      },
      "source": [
        "### Baseline Model"
      ]
    },
    {
      "cell_type": "markdown",
      "metadata": {
        "id": "ctX4qp9B4Or4"
      },
      "source": [
        "Pertama, membangun model menggunakan random forest dengan metode yang sangat dasar"
      ]
    },
    {
      "cell_type": "markdown",
      "metadata": {
        "id": "VkVO0G2y4Or4"
      },
      "source": [
        "### Random Forest"
      ]
    },
    {
      "cell_type": "code",
      "execution_count": null,
      "metadata": {
        "id": "XYghX6N14Or4"
      },
      "outputs": [],
      "source": [
        "model = RandomForestClassifier(random_state=42)"
      ]
    },
    {
      "cell_type": "code",
      "execution_count": null,
      "metadata": {
        "id": "GDlgdTq54Or4"
      },
      "outputs": [],
      "source": [
        "drop_this = ['fyear', 'gvkey', 'p_aaer']\n",
        "\n",
        "transformator_pipe = Pipeline(steps=\n",
        "        [('DropFeature', DropFeatures(drop_this)),\n",
        "        ('Fillna', FillNaa())]\n",
        ")"
      ]
    },
    {
      "cell_type": "code",
      "execution_count": null,
      "metadata": {
        "id": "HY1pfkKX4Or5"
      },
      "outputs": [],
      "source": [
        "RF_base = Pipeline(steps=[\n",
        "    ('transfromator', transformator_pipe),\n",
        "    ('scaler', MinMaxScaler()),\n",
        "    ('modelRFbase', model)\n",
        "]\n",
        ")"
      ]
    },
    {
      "cell_type": "code",
      "execution_count": null,
      "metadata": {
        "id": "aq8ts3tZ4Or5",
        "outputId": "f199022e-7f2c-4514-d552-69adcea3d78b"
      },
      "outputs": [
        {
          "data": {
            "text/html": [
              "<style>#sk-container-id-5 {color: black;background-color: white;}#sk-container-id-5 pre{padding: 0;}#sk-container-id-5 div.sk-toggleable {background-color: white;}#sk-container-id-5 label.sk-toggleable__label {cursor: pointer;display: block;width: 100%;margin-bottom: 0;padding: 0.3em;box-sizing: border-box;text-align: center;}#sk-container-id-5 label.sk-toggleable__label-arrow:before {content: \"▸\";float: left;margin-right: 0.25em;color: #696969;}#sk-container-id-5 label.sk-toggleable__label-arrow:hover:before {color: black;}#sk-container-id-5 div.sk-estimator:hover label.sk-toggleable__label-arrow:before {color: black;}#sk-container-id-5 div.sk-toggleable__content {max-height: 0;max-width: 0;overflow: hidden;text-align: left;background-color: #f0f8ff;}#sk-container-id-5 div.sk-toggleable__content pre {margin: 0.2em;color: black;border-radius: 0.25em;background-color: #f0f8ff;}#sk-container-id-5 input.sk-toggleable__control:checked~div.sk-toggleable__content {max-height: 200px;max-width: 100%;overflow: auto;}#sk-container-id-5 input.sk-toggleable__control:checked~label.sk-toggleable__label-arrow:before {content: \"▾\";}#sk-container-id-5 div.sk-estimator input.sk-toggleable__control:checked~label.sk-toggleable__label {background-color: #d4ebff;}#sk-container-id-5 div.sk-label input.sk-toggleable__control:checked~label.sk-toggleable__label {background-color: #d4ebff;}#sk-container-id-5 input.sk-hidden--visually {border: 0;clip: rect(1px 1px 1px 1px);clip: rect(1px, 1px, 1px, 1px);height: 1px;margin: -1px;overflow: hidden;padding: 0;position: absolute;width: 1px;}#sk-container-id-5 div.sk-estimator {font-family: monospace;background-color: #f0f8ff;border: 1px dotted black;border-radius: 0.25em;box-sizing: border-box;margin-bottom: 0.5em;}#sk-container-id-5 div.sk-estimator:hover {background-color: #d4ebff;}#sk-container-id-5 div.sk-parallel-item::after {content: \"\";width: 100%;border-bottom: 1px solid gray;flex-grow: 1;}#sk-container-id-5 div.sk-label:hover label.sk-toggleable__label {background-color: #d4ebff;}#sk-container-id-5 div.sk-serial::before {content: \"\";position: absolute;border-left: 1px solid gray;box-sizing: border-box;top: 0;bottom: 0;left: 50%;z-index: 0;}#sk-container-id-5 div.sk-serial {display: flex;flex-direction: column;align-items: center;background-color: white;padding-right: 0.2em;padding-left: 0.2em;position: relative;}#sk-container-id-5 div.sk-item {position: relative;z-index: 1;}#sk-container-id-5 div.sk-parallel {display: flex;align-items: stretch;justify-content: center;background-color: white;position: relative;}#sk-container-id-5 div.sk-item::before, #sk-container-id-5 div.sk-parallel-item::before {content: \"\";position: absolute;border-left: 1px solid gray;box-sizing: border-box;top: 0;bottom: 0;left: 50%;z-index: -1;}#sk-container-id-5 div.sk-parallel-item {display: flex;flex-direction: column;z-index: 1;position: relative;background-color: white;}#sk-container-id-5 div.sk-parallel-item:first-child::after {align-self: flex-end;width: 50%;}#sk-container-id-5 div.sk-parallel-item:last-child::after {align-self: flex-start;width: 50%;}#sk-container-id-5 div.sk-parallel-item:only-child::after {width: 0;}#sk-container-id-5 div.sk-dashed-wrapped {border: 1px dashed gray;margin: 0 0.4em 0.5em 0.4em;box-sizing: border-box;padding-bottom: 0.4em;background-color: white;}#sk-container-id-5 div.sk-label label {font-family: monospace;font-weight: bold;display: inline-block;line-height: 1.2em;}#sk-container-id-5 div.sk-label-container {text-align: center;}#sk-container-id-5 div.sk-container {/* jupyter's `normalize.less` sets `[hidden] { display: none; }` but bootstrap.min.css set `[hidden] { display: none !important; }` so we also need the `!important` here to be able to override the default hidden behavior on the sphinx rendered scikit-learn.org. See: https://github.com/scikit-learn/scikit-learn/issues/21755 */display: inline-block !important;position: relative;}#sk-container-id-5 div.sk-text-repr-fallback {display: none;}</style><div id=\"sk-container-id-5\" class=\"sk-top-container\"><div class=\"sk-text-repr-fallback\"><pre>Pipeline(steps=[(&#x27;transfromator&#x27;,\n",
              "                 Pipeline(steps=[(&#x27;DropFeature&#x27;,\n",
              "                                  DropFeatures(features_to_drop=[&#x27;fyear&#x27;,\n",
              "                                                                 &#x27;gvkey&#x27;,\n",
              "                                                                 &#x27;p_aaer&#x27;])),\n",
              "                                 (&#x27;Fillna&#x27;, FillNaa())])),\n",
              "                (&#x27;scaler&#x27;, MinMaxScaler()),\n",
              "                (&#x27;modelRFbase&#x27;, RandomForestClassifier(random_state=42))])</pre><b>In a Jupyter environment, please rerun this cell to show the HTML representation or trust the notebook. <br />On GitHub, the HTML representation is unable to render, please try loading this page with nbviewer.org.</b></div><div class=\"sk-container\" hidden><div class=\"sk-item sk-dashed-wrapped\"><div class=\"sk-label-container\"><div class=\"sk-label sk-toggleable\"><input class=\"sk-toggleable__control sk-hidden--visually\" id=\"sk-estimator-id-25\" type=\"checkbox\" ><label for=\"sk-estimator-id-25\" class=\"sk-toggleable__label sk-toggleable__label-arrow\">Pipeline</label><div class=\"sk-toggleable__content\"><pre>Pipeline(steps=[(&#x27;transfromator&#x27;,\n",
              "                 Pipeline(steps=[(&#x27;DropFeature&#x27;,\n",
              "                                  DropFeatures(features_to_drop=[&#x27;fyear&#x27;,\n",
              "                                                                 &#x27;gvkey&#x27;,\n",
              "                                                                 &#x27;p_aaer&#x27;])),\n",
              "                                 (&#x27;Fillna&#x27;, FillNaa())])),\n",
              "                (&#x27;scaler&#x27;, MinMaxScaler()),\n",
              "                (&#x27;modelRFbase&#x27;, RandomForestClassifier(random_state=42))])</pre></div></div></div><div class=\"sk-serial\"><div class=\"sk-item\"><div class=\"sk-label-container\"><div class=\"sk-label sk-toggleable\"><input class=\"sk-toggleable__control sk-hidden--visually\" id=\"sk-estimator-id-26\" type=\"checkbox\" ><label for=\"sk-estimator-id-26\" class=\"sk-toggleable__label sk-toggleable__label-arrow\">transfromator: Pipeline</label><div class=\"sk-toggleable__content\"><pre>Pipeline(steps=[(&#x27;DropFeature&#x27;,\n",
              "                 DropFeatures(features_to_drop=[&#x27;fyear&#x27;, &#x27;gvkey&#x27;, &#x27;p_aaer&#x27;])),\n",
              "                (&#x27;Fillna&#x27;, FillNaa())])</pre></div></div></div><div class=\"sk-serial\"><div class=\"sk-item\"><div class=\"sk-estimator sk-toggleable\"><input class=\"sk-toggleable__control sk-hidden--visually\" id=\"sk-estimator-id-27\" type=\"checkbox\" ><label for=\"sk-estimator-id-27\" class=\"sk-toggleable__label sk-toggleable__label-arrow\">DropFeatures</label><div class=\"sk-toggleable__content\"><pre>DropFeatures(features_to_drop=[&#x27;fyear&#x27;, &#x27;gvkey&#x27;, &#x27;p_aaer&#x27;])</pre></div></div></div><div class=\"sk-item\"><div class=\"sk-estimator sk-toggleable\"><input class=\"sk-toggleable__control sk-hidden--visually\" id=\"sk-estimator-id-28\" type=\"checkbox\" ><label for=\"sk-estimator-id-28\" class=\"sk-toggleable__label sk-toggleable__label-arrow\">FillNaa</label><div class=\"sk-toggleable__content\"><pre>FillNaa()</pre></div></div></div></div></div><div class=\"sk-item\"><div class=\"sk-estimator sk-toggleable\"><input class=\"sk-toggleable__control sk-hidden--visually\" id=\"sk-estimator-id-29\" type=\"checkbox\" ><label for=\"sk-estimator-id-29\" class=\"sk-toggleable__label sk-toggleable__label-arrow\">MinMaxScaler</label><div class=\"sk-toggleable__content\"><pre>MinMaxScaler()</pre></div></div></div><div class=\"sk-item\"><div class=\"sk-estimator sk-toggleable\"><input class=\"sk-toggleable__control sk-hidden--visually\" id=\"sk-estimator-id-30\" type=\"checkbox\" ><label for=\"sk-estimator-id-30\" class=\"sk-toggleable__label sk-toggleable__label-arrow\">RandomForestClassifier</label><div class=\"sk-toggleable__content\"><pre>RandomForestClassifier(random_state=42)</pre></div></div></div></div></div></div></div>"
            ],
            "text/plain": [
              "Pipeline(steps=[('transfromator',\n",
              "                 Pipeline(steps=[('DropFeature',\n",
              "                                  DropFeatures(features_to_drop=['fyear',\n",
              "                                                                 'gvkey',\n",
              "                                                                 'p_aaer'])),\n",
              "                                 ('Fillna', FillNaa())])),\n",
              "                ('scaler', MinMaxScaler()),\n",
              "                ('modelRFbase', RandomForestClassifier(random_state=42))])"
            ]
          },
          "execution_count": 41,
          "metadata": {},
          "output_type": "execute_result"
        }
      ],
      "source": [
        "RF_base.fit(X_train,y_train)"
      ]
    },
    {
      "cell_type": "code",
      "execution_count": null,
      "metadata": {
        "id": "uQswC0bb4Or6"
      },
      "outputs": [],
      "source": [
        "preds = RF_base.predict(X_eval)"
      ]
    },
    {
      "cell_type": "code",
      "execution_count": null,
      "metadata": {
        "id": "7UoOp3vF4Or6",
        "outputId": "2d0dd62d-b801-4b1f-c7b6-881b3bd86b4d"
      },
      "outputs": [
        {
          "name": "stdout",
          "output_type": "stream",
          "text": [
            "recall 0.0\n"
          ]
        }
      ],
      "source": [
        "print('recall', recall_score(y_eval, preds))"
      ]
    },
    {
      "cell_type": "code",
      "execution_count": null,
      "metadata": {
        "id": "nW5Lva2-4Or6",
        "outputId": "269f22e5-a512-4aef-b589-f346bc30f559"
      },
      "outputs": [
        {
          "name": "stdout",
          "output_type": "stream",
          "text": [
            "f1_score 0.0\n"
          ]
        }
      ],
      "source": [
        "print('f1_score', f1_score(y_eval, preds))"
      ]
    },
    {
      "cell_type": "code",
      "execution_count": null,
      "metadata": {
        "id": "Km_JUxeh4Or6"
      },
      "outputs": [],
      "source": [
        "preds = RF_base.predict(X_test)"
      ]
    },
    {
      "cell_type": "code",
      "execution_count": null,
      "metadata": {
        "id": "5eBMSA034Or7",
        "outputId": "f5f47558-f18b-4e72-af4e-867d29a64b8a"
      },
      "outputs": [
        {
          "name": "stdout",
          "output_type": "stream",
          "text": [
            "recall 0.07857142857142857\n"
          ]
        }
      ],
      "source": [
        "print('recall', recall_score(y_test, preds))"
      ]
    },
    {
      "cell_type": "code",
      "execution_count": null,
      "metadata": {
        "id": "CPdjuxsM4Or7",
        "outputId": "ee0eee61-3291-4a3a-e9a3-737b6e90ed31"
      },
      "outputs": [
        {
          "name": "stdout",
          "output_type": "stream",
          "text": [
            "f1_score 0.09734513274336283\n"
          ]
        }
      ],
      "source": [
        "print('f1_score', f1_score(y_test, preds))"
      ]
    },
    {
      "cell_type": "markdown",
      "metadata": {
        "id": "Wz9YmNEx4Or7"
      },
      "source": [
        "Hasil yang diperoleh untuk baseline tidak bagus. saya mengidentifikasi bahwa data yang saya gunakan tidak balance."
      ]
    },
    {
      "cell_type": "markdown",
      "metadata": {
        "id": "zQ0bB6Rx4Or7"
      },
      "source": [
        "#### Xgboost"
      ]
    },
    {
      "cell_type": "code",
      "execution_count": null,
      "metadata": {
        "id": "gPimG29E4Or8"
      },
      "outputs": [],
      "source": [
        "####\n",
        "modelxg = XGBRFClassifier()"
      ]
    },
    {
      "cell_type": "code",
      "execution_count": null,
      "metadata": {
        "id": "9RF1NIcx4Or8"
      },
      "outputs": [],
      "source": [
        "XG_base = Pipeline(steps=[\n",
        "    ('transfromator', transformator_pipe),\n",
        "    ('scaler', MinMaxScaler()),\n",
        "    ('modelXG', modelxg)\n",
        "]\n",
        ")"
      ]
    },
    {
      "cell_type": "code",
      "execution_count": null,
      "metadata": {
        "id": "x5jvbTk94Or8",
        "outputId": "35f94946-f4a2-4bed-aac3-4ba2d0601b8d"
      },
      "outputs": [
        {
          "data": {
            "text/html": [
              "<style>#sk-container-id-6 {color: black;background-color: white;}#sk-container-id-6 pre{padding: 0;}#sk-container-id-6 div.sk-toggleable {background-color: white;}#sk-container-id-6 label.sk-toggleable__label {cursor: pointer;display: block;width: 100%;margin-bottom: 0;padding: 0.3em;box-sizing: border-box;text-align: center;}#sk-container-id-6 label.sk-toggleable__label-arrow:before {content: \"▸\";float: left;margin-right: 0.25em;color: #696969;}#sk-container-id-6 label.sk-toggleable__label-arrow:hover:before {color: black;}#sk-container-id-6 div.sk-estimator:hover label.sk-toggleable__label-arrow:before {color: black;}#sk-container-id-6 div.sk-toggleable__content {max-height: 0;max-width: 0;overflow: hidden;text-align: left;background-color: #f0f8ff;}#sk-container-id-6 div.sk-toggleable__content pre {margin: 0.2em;color: black;border-radius: 0.25em;background-color: #f0f8ff;}#sk-container-id-6 input.sk-toggleable__control:checked~div.sk-toggleable__content {max-height: 200px;max-width: 100%;overflow: auto;}#sk-container-id-6 input.sk-toggleable__control:checked~label.sk-toggleable__label-arrow:before {content: \"▾\";}#sk-container-id-6 div.sk-estimator input.sk-toggleable__control:checked~label.sk-toggleable__label {background-color: #d4ebff;}#sk-container-id-6 div.sk-label input.sk-toggleable__control:checked~label.sk-toggleable__label {background-color: #d4ebff;}#sk-container-id-6 input.sk-hidden--visually {border: 0;clip: rect(1px 1px 1px 1px);clip: rect(1px, 1px, 1px, 1px);height: 1px;margin: -1px;overflow: hidden;padding: 0;position: absolute;width: 1px;}#sk-container-id-6 div.sk-estimator {font-family: monospace;background-color: #f0f8ff;border: 1px dotted black;border-radius: 0.25em;box-sizing: border-box;margin-bottom: 0.5em;}#sk-container-id-6 div.sk-estimator:hover {background-color: #d4ebff;}#sk-container-id-6 div.sk-parallel-item::after {content: \"\";width: 100%;border-bottom: 1px solid gray;flex-grow: 1;}#sk-container-id-6 div.sk-label:hover label.sk-toggleable__label {background-color: #d4ebff;}#sk-container-id-6 div.sk-serial::before {content: \"\";position: absolute;border-left: 1px solid gray;box-sizing: border-box;top: 0;bottom: 0;left: 50%;z-index: 0;}#sk-container-id-6 div.sk-serial {display: flex;flex-direction: column;align-items: center;background-color: white;padding-right: 0.2em;padding-left: 0.2em;position: relative;}#sk-container-id-6 div.sk-item {position: relative;z-index: 1;}#sk-container-id-6 div.sk-parallel {display: flex;align-items: stretch;justify-content: center;background-color: white;position: relative;}#sk-container-id-6 div.sk-item::before, #sk-container-id-6 div.sk-parallel-item::before {content: \"\";position: absolute;border-left: 1px solid gray;box-sizing: border-box;top: 0;bottom: 0;left: 50%;z-index: -1;}#sk-container-id-6 div.sk-parallel-item {display: flex;flex-direction: column;z-index: 1;position: relative;background-color: white;}#sk-container-id-6 div.sk-parallel-item:first-child::after {align-self: flex-end;width: 50%;}#sk-container-id-6 div.sk-parallel-item:last-child::after {align-self: flex-start;width: 50%;}#sk-container-id-6 div.sk-parallel-item:only-child::after {width: 0;}#sk-container-id-6 div.sk-dashed-wrapped {border: 1px dashed gray;margin: 0 0.4em 0.5em 0.4em;box-sizing: border-box;padding-bottom: 0.4em;background-color: white;}#sk-container-id-6 div.sk-label label {font-family: monospace;font-weight: bold;display: inline-block;line-height: 1.2em;}#sk-container-id-6 div.sk-label-container {text-align: center;}#sk-container-id-6 div.sk-container {/* jupyter's `normalize.less` sets `[hidden] { display: none; }` but bootstrap.min.css set `[hidden] { display: none !important; }` so we also need the `!important` here to be able to override the default hidden behavior on the sphinx rendered scikit-learn.org. See: https://github.com/scikit-learn/scikit-learn/issues/21755 */display: inline-block !important;position: relative;}#sk-container-id-6 div.sk-text-repr-fallback {display: none;}</style><div id=\"sk-container-id-6\" class=\"sk-top-container\"><div class=\"sk-text-repr-fallback\"><pre>Pipeline(steps=[(&#x27;transfromator&#x27;,\n",
              "                 Pipeline(steps=[(&#x27;DropFeature&#x27;,\n",
              "                                  DropFeatures(features_to_drop=[&#x27;fyear&#x27;,\n",
              "                                                                 &#x27;gvkey&#x27;,\n",
              "                                                                 &#x27;p_aaer&#x27;])),\n",
              "                                 (&#x27;Fillna&#x27;, FillNaa())])),\n",
              "                (&#x27;scaler&#x27;, MinMaxScaler()),\n",
              "                (&#x27;modelXG&#x27;,\n",
              "                 XGBRFClassifier(base_score=0.5, booster=&#x27;gbtree&#x27;,\n",
              "                                 callbacks=None, colsample_bylevel=1,\n",
              "                                 colsample_bytree=1, early_stopping_rounds=None,\n",
              "                                 enable_categorical=False, eval_metric=...\n",
              "                                 grow_policy=&#x27;depthwise&#x27;, importance_type=None,\n",
              "                                 interaction_constraints=&#x27;&#x27;, max_bin=256,\n",
              "                                 max_cat_threshold=64, max_cat_to_onehot=4,\n",
              "                                 max_delta_step=0, max_depth=6, max_leaves=0,\n",
              "                                 min_child_weight=1, missing=nan,\n",
              "                                 monotone_constraints=&#x27;()&#x27;, n_estimators=100,\n",
              "                                 n_jobs=0, num_parallel_tree=100,\n",
              "                                 objective=&#x27;binary:logistic&#x27;, predictor=&#x27;auto&#x27;,\n",
              "                                 random_state=0, reg_alpha=0, ...))])</pre><b>In a Jupyter environment, please rerun this cell to show the HTML representation or trust the notebook. <br />On GitHub, the HTML representation is unable to render, please try loading this page with nbviewer.org.</b></div><div class=\"sk-container\" hidden><div class=\"sk-item sk-dashed-wrapped\"><div class=\"sk-label-container\"><div class=\"sk-label sk-toggleable\"><input class=\"sk-toggleable__control sk-hidden--visually\" id=\"sk-estimator-id-31\" type=\"checkbox\" ><label for=\"sk-estimator-id-31\" class=\"sk-toggleable__label sk-toggleable__label-arrow\">Pipeline</label><div class=\"sk-toggleable__content\"><pre>Pipeline(steps=[(&#x27;transfromator&#x27;,\n",
              "                 Pipeline(steps=[(&#x27;DropFeature&#x27;,\n",
              "                                  DropFeatures(features_to_drop=[&#x27;fyear&#x27;,\n",
              "                                                                 &#x27;gvkey&#x27;,\n",
              "                                                                 &#x27;p_aaer&#x27;])),\n",
              "                                 (&#x27;Fillna&#x27;, FillNaa())])),\n",
              "                (&#x27;scaler&#x27;, MinMaxScaler()),\n",
              "                (&#x27;modelXG&#x27;,\n",
              "                 XGBRFClassifier(base_score=0.5, booster=&#x27;gbtree&#x27;,\n",
              "                                 callbacks=None, colsample_bylevel=1,\n",
              "                                 colsample_bytree=1, early_stopping_rounds=None,\n",
              "                                 enable_categorical=False, eval_metric=...\n",
              "                                 grow_policy=&#x27;depthwise&#x27;, importance_type=None,\n",
              "                                 interaction_constraints=&#x27;&#x27;, max_bin=256,\n",
              "                                 max_cat_threshold=64, max_cat_to_onehot=4,\n",
              "                                 max_delta_step=0, max_depth=6, max_leaves=0,\n",
              "                                 min_child_weight=1, missing=nan,\n",
              "                                 monotone_constraints=&#x27;()&#x27;, n_estimators=100,\n",
              "                                 n_jobs=0, num_parallel_tree=100,\n",
              "                                 objective=&#x27;binary:logistic&#x27;, predictor=&#x27;auto&#x27;,\n",
              "                                 random_state=0, reg_alpha=0, ...))])</pre></div></div></div><div class=\"sk-serial\"><div class=\"sk-item\"><div class=\"sk-label-container\"><div class=\"sk-label sk-toggleable\"><input class=\"sk-toggleable__control sk-hidden--visually\" id=\"sk-estimator-id-32\" type=\"checkbox\" ><label for=\"sk-estimator-id-32\" class=\"sk-toggleable__label sk-toggleable__label-arrow\">transfromator: Pipeline</label><div class=\"sk-toggleable__content\"><pre>Pipeline(steps=[(&#x27;DropFeature&#x27;,\n",
              "                 DropFeatures(features_to_drop=[&#x27;fyear&#x27;, &#x27;gvkey&#x27;, &#x27;p_aaer&#x27;])),\n",
              "                (&#x27;Fillna&#x27;, FillNaa())])</pre></div></div></div><div class=\"sk-serial\"><div class=\"sk-item\"><div class=\"sk-estimator sk-toggleable\"><input class=\"sk-toggleable__control sk-hidden--visually\" id=\"sk-estimator-id-33\" type=\"checkbox\" ><label for=\"sk-estimator-id-33\" class=\"sk-toggleable__label sk-toggleable__label-arrow\">DropFeatures</label><div class=\"sk-toggleable__content\"><pre>DropFeatures(features_to_drop=[&#x27;fyear&#x27;, &#x27;gvkey&#x27;, &#x27;p_aaer&#x27;])</pre></div></div></div><div class=\"sk-item\"><div class=\"sk-estimator sk-toggleable\"><input class=\"sk-toggleable__control sk-hidden--visually\" id=\"sk-estimator-id-34\" type=\"checkbox\" ><label for=\"sk-estimator-id-34\" class=\"sk-toggleable__label sk-toggleable__label-arrow\">FillNaa</label><div class=\"sk-toggleable__content\"><pre>FillNaa()</pre></div></div></div></div></div><div class=\"sk-item\"><div class=\"sk-estimator sk-toggleable\"><input class=\"sk-toggleable__control sk-hidden--visually\" id=\"sk-estimator-id-35\" type=\"checkbox\" ><label for=\"sk-estimator-id-35\" class=\"sk-toggleable__label sk-toggleable__label-arrow\">MinMaxScaler</label><div class=\"sk-toggleable__content\"><pre>MinMaxScaler()</pre></div></div></div><div class=\"sk-item\"><div class=\"sk-estimator sk-toggleable\"><input class=\"sk-toggleable__control sk-hidden--visually\" id=\"sk-estimator-id-36\" type=\"checkbox\" ><label for=\"sk-estimator-id-36\" class=\"sk-toggleable__label sk-toggleable__label-arrow\">XGBRFClassifier</label><div class=\"sk-toggleable__content\"><pre>XGBRFClassifier(base_score=0.5, booster=&#x27;gbtree&#x27;, callbacks=None,\n",
              "                colsample_bylevel=1, colsample_bytree=1,\n",
              "                early_stopping_rounds=None, enable_categorical=False,\n",
              "                eval_metric=None, feature_types=None, gamma=0, gpu_id=-1,\n",
              "                grow_policy=&#x27;depthwise&#x27;, importance_type=None,\n",
              "                interaction_constraints=&#x27;&#x27;, max_bin=256, max_cat_threshold=64,\n",
              "                max_cat_to_onehot=4, max_delta_step=0, max_depth=6,\n",
              "                max_leaves=0, min_child_weight=1, missing=nan,\n",
              "                monotone_constraints=&#x27;()&#x27;, n_estimators=100, n_jobs=0,\n",
              "                num_parallel_tree=100, objective=&#x27;binary:logistic&#x27;,\n",
              "                predictor=&#x27;auto&#x27;, random_state=0, reg_alpha=0, ...)</pre></div></div></div></div></div></div></div>"
            ],
            "text/plain": [
              "Pipeline(steps=[('transfromator',\n",
              "                 Pipeline(steps=[('DropFeature',\n",
              "                                  DropFeatures(features_to_drop=['fyear',\n",
              "                                                                 'gvkey',\n",
              "                                                                 'p_aaer'])),\n",
              "                                 ('Fillna', FillNaa())])),\n",
              "                ('scaler', MinMaxScaler()),\n",
              "                ('modelXG',\n",
              "                 XGBRFClassifier(base_score=0.5, booster='gbtree',\n",
              "                                 callbacks=None, colsample_bylevel=1,\n",
              "                                 colsample_bytree=1, early_stopping_rounds=None,\n",
              "                                 enable_categorical=False, eval_metric=...\n",
              "                                 grow_policy='depthwise', importance_type=None,\n",
              "                                 interaction_constraints='', max_bin=256,\n",
              "                                 max_cat_threshold=64, max_cat_to_onehot=4,\n",
              "                                 max_delta_step=0, max_depth=6, max_leaves=0,\n",
              "                                 min_child_weight=1, missing=nan,\n",
              "                                 monotone_constraints='()', n_estimators=100,\n",
              "                                 n_jobs=0, num_parallel_tree=100,\n",
              "                                 objective='binary:logistic', predictor='auto',\n",
              "                                 random_state=0, reg_alpha=0, ...))])"
            ]
          },
          "execution_count": 47,
          "metadata": {},
          "output_type": "execute_result"
        }
      ],
      "source": [
        "XG_base.fit(X_train,y_train)"
      ]
    },
    {
      "cell_type": "code",
      "execution_count": null,
      "metadata": {
        "id": "o32Ij9a04Or8"
      },
      "outputs": [],
      "source": [
        "predsxg = XG_base.predict(X_eval)"
      ]
    },
    {
      "cell_type": "code",
      "execution_count": null,
      "metadata": {
        "id": "2_mNxPb84Or8",
        "outputId": "670254c4-5f5e-4f4a-ffd5-1c4b57628da0"
      },
      "outputs": [
        {
          "name": "stdout",
          "output_type": "stream",
          "text": [
            "recall 0.0\n"
          ]
        }
      ],
      "source": [
        "print('recall', recall_score(y_eval, predsxg))"
      ]
    },
    {
      "cell_type": "code",
      "execution_count": null,
      "metadata": {
        "id": "kZgdDocI4Or9",
        "outputId": "84e11454-b029-4cb8-e5e4-f8feb91ae38a"
      },
      "outputs": [
        {
          "name": "stdout",
          "output_type": "stream",
          "text": [
            "f1-score 0.0\n"
          ]
        }
      ],
      "source": [
        "print('f1-score', f1_score(y_eval, predsxg))"
      ]
    },
    {
      "cell_type": "code",
      "execution_count": null,
      "metadata": {
        "id": "KG24nee34Or9"
      },
      "outputs": [],
      "source": [
        "predsxg = XG_base.predict(X_test)"
      ]
    },
    {
      "cell_type": "code",
      "execution_count": null,
      "metadata": {
        "id": "7IMxMmqN4Or9",
        "outputId": "d8a5397e-8b85-413a-f1f3-69b86a364d01"
      },
      "outputs": [
        {
          "name": "stdout",
          "output_type": "stream",
          "text": [
            "recall 0.5071428571428571\n"
          ]
        }
      ],
      "source": [
        "print('recall', recall_score(y_test, predsxg))"
      ]
    },
    {
      "cell_type": "code",
      "execution_count": null,
      "metadata": {
        "id": "pmC0YZaf4Or9",
        "outputId": "33bfe13f-7869-4951-f0ce-e520fd908377"
      },
      "outputs": [
        {
          "name": "stdout",
          "output_type": "stream",
          "text": [
            "f1-score 0.02871587462082912\n"
          ]
        }
      ],
      "source": [
        "print('f1-score', f1_score(y_test, predsxg))"
      ]
    },
    {
      "cell_type": "markdown",
      "metadata": {
        "id": "qkctqYXU4Or-"
      },
      "source": [
        "### Naive Bayes"
      ]
    },
    {
      "cell_type": "code",
      "execution_count": null,
      "metadata": {
        "id": "nxpYhITt4Or-"
      },
      "outputs": [],
      "source": [
        "modelgaus = GaussianNB()"
      ]
    },
    {
      "cell_type": "code",
      "execution_count": null,
      "metadata": {
        "id": "xJm3qSSt4Or-"
      },
      "outputs": [],
      "source": [
        "NB_base = Pipeline(steps=[\n",
        "    ('transfromator', transformator_pipe),\n",
        "    ('scaler', MinMaxScaler()),\n",
        "    ('modelNB', modelgaus)\n",
        "]\n",
        ")"
      ]
    },
    {
      "cell_type": "code",
      "execution_count": null,
      "metadata": {
        "id": "U6kD6raM4Or-",
        "outputId": "fffa0726-7614-47d8-8995-637f3b926077"
      },
      "outputs": [
        {
          "data": {
            "text/html": [
              "<style>#sk-container-id-11 {color: black;background-color: white;}#sk-container-id-11 pre{padding: 0;}#sk-container-id-11 div.sk-toggleable {background-color: white;}#sk-container-id-11 label.sk-toggleable__label {cursor: pointer;display: block;width: 100%;margin-bottom: 0;padding: 0.3em;box-sizing: border-box;text-align: center;}#sk-container-id-11 label.sk-toggleable__label-arrow:before {content: \"▸\";float: left;margin-right: 0.25em;color: #696969;}#sk-container-id-11 label.sk-toggleable__label-arrow:hover:before {color: black;}#sk-container-id-11 div.sk-estimator:hover label.sk-toggleable__label-arrow:before {color: black;}#sk-container-id-11 div.sk-toggleable__content {max-height: 0;max-width: 0;overflow: hidden;text-align: left;background-color: #f0f8ff;}#sk-container-id-11 div.sk-toggleable__content pre {margin: 0.2em;color: black;border-radius: 0.25em;background-color: #f0f8ff;}#sk-container-id-11 input.sk-toggleable__control:checked~div.sk-toggleable__content {max-height: 200px;max-width: 100%;overflow: auto;}#sk-container-id-11 input.sk-toggleable__control:checked~label.sk-toggleable__label-arrow:before {content: \"▾\";}#sk-container-id-11 div.sk-estimator input.sk-toggleable__control:checked~label.sk-toggleable__label {background-color: #d4ebff;}#sk-container-id-11 div.sk-label input.sk-toggleable__control:checked~label.sk-toggleable__label {background-color: #d4ebff;}#sk-container-id-11 input.sk-hidden--visually {border: 0;clip: rect(1px 1px 1px 1px);clip: rect(1px, 1px, 1px, 1px);height: 1px;margin: -1px;overflow: hidden;padding: 0;position: absolute;width: 1px;}#sk-container-id-11 div.sk-estimator {font-family: monospace;background-color: #f0f8ff;border: 1px dotted black;border-radius: 0.25em;box-sizing: border-box;margin-bottom: 0.5em;}#sk-container-id-11 div.sk-estimator:hover {background-color: #d4ebff;}#sk-container-id-11 div.sk-parallel-item::after {content: \"\";width: 100%;border-bottom: 1px solid gray;flex-grow: 1;}#sk-container-id-11 div.sk-label:hover label.sk-toggleable__label {background-color: #d4ebff;}#sk-container-id-11 div.sk-serial::before {content: \"\";position: absolute;border-left: 1px solid gray;box-sizing: border-box;top: 0;bottom: 0;left: 50%;z-index: 0;}#sk-container-id-11 div.sk-serial {display: flex;flex-direction: column;align-items: center;background-color: white;padding-right: 0.2em;padding-left: 0.2em;position: relative;}#sk-container-id-11 div.sk-item {position: relative;z-index: 1;}#sk-container-id-11 div.sk-parallel {display: flex;align-items: stretch;justify-content: center;background-color: white;position: relative;}#sk-container-id-11 div.sk-item::before, #sk-container-id-11 div.sk-parallel-item::before {content: \"\";position: absolute;border-left: 1px solid gray;box-sizing: border-box;top: 0;bottom: 0;left: 50%;z-index: -1;}#sk-container-id-11 div.sk-parallel-item {display: flex;flex-direction: column;z-index: 1;position: relative;background-color: white;}#sk-container-id-11 div.sk-parallel-item:first-child::after {align-self: flex-end;width: 50%;}#sk-container-id-11 div.sk-parallel-item:last-child::after {align-self: flex-start;width: 50%;}#sk-container-id-11 div.sk-parallel-item:only-child::after {width: 0;}#sk-container-id-11 div.sk-dashed-wrapped {border: 1px dashed gray;margin: 0 0.4em 0.5em 0.4em;box-sizing: border-box;padding-bottom: 0.4em;background-color: white;}#sk-container-id-11 div.sk-label label {font-family: monospace;font-weight: bold;display: inline-block;line-height: 1.2em;}#sk-container-id-11 div.sk-label-container {text-align: center;}#sk-container-id-11 div.sk-container {/* jupyter's `normalize.less` sets `[hidden] { display: none; }` but bootstrap.min.css set `[hidden] { display: none !important; }` so we also need the `!important` here to be able to override the default hidden behavior on the sphinx rendered scikit-learn.org. See: https://github.com/scikit-learn/scikit-learn/issues/21755 */display: inline-block !important;position: relative;}#sk-container-id-11 div.sk-text-repr-fallback {display: none;}</style><div id=\"sk-container-id-11\" class=\"sk-top-container\"><div class=\"sk-text-repr-fallback\"><pre>Pipeline(steps=[(&#x27;transfromator&#x27;,\n",
              "                 Pipeline(steps=[(&#x27;DropFeature&#x27;,\n",
              "                                  DropFeatures(features_to_drop=[&#x27;fyear&#x27;,\n",
              "                                                                 &#x27;gvkey&#x27;,\n",
              "                                                                 &#x27;p_aaer&#x27;])),\n",
              "                                 (&#x27;Fillna&#x27;, FillNaa())])),\n",
              "                (&#x27;scaler&#x27;, MinMaxScaler()), (&#x27;modelNB&#x27;, GaussianNB())])</pre><b>In a Jupyter environment, please rerun this cell to show the HTML representation or trust the notebook. <br />On GitHub, the HTML representation is unable to render, please try loading this page with nbviewer.org.</b></div><div class=\"sk-container\" hidden><div class=\"sk-item sk-dashed-wrapped\"><div class=\"sk-label-container\"><div class=\"sk-label sk-toggleable\"><input class=\"sk-toggleable__control sk-hidden--visually\" id=\"sk-estimator-id-63\" type=\"checkbox\" ><label for=\"sk-estimator-id-63\" class=\"sk-toggleable__label sk-toggleable__label-arrow\">Pipeline</label><div class=\"sk-toggleable__content\"><pre>Pipeline(steps=[(&#x27;transfromator&#x27;,\n",
              "                 Pipeline(steps=[(&#x27;DropFeature&#x27;,\n",
              "                                  DropFeatures(features_to_drop=[&#x27;fyear&#x27;,\n",
              "                                                                 &#x27;gvkey&#x27;,\n",
              "                                                                 &#x27;p_aaer&#x27;])),\n",
              "                                 (&#x27;Fillna&#x27;, FillNaa())])),\n",
              "                (&#x27;scaler&#x27;, MinMaxScaler()), (&#x27;modelNB&#x27;, GaussianNB())])</pre></div></div></div><div class=\"sk-serial\"><div class=\"sk-item\"><div class=\"sk-label-container\"><div class=\"sk-label sk-toggleable\"><input class=\"sk-toggleable__control sk-hidden--visually\" id=\"sk-estimator-id-64\" type=\"checkbox\" ><label for=\"sk-estimator-id-64\" class=\"sk-toggleable__label sk-toggleable__label-arrow\">transfromator: Pipeline</label><div class=\"sk-toggleable__content\"><pre>Pipeline(steps=[(&#x27;DropFeature&#x27;,\n",
              "                 DropFeatures(features_to_drop=[&#x27;fyear&#x27;, &#x27;gvkey&#x27;, &#x27;p_aaer&#x27;])),\n",
              "                (&#x27;Fillna&#x27;, FillNaa())])</pre></div></div></div><div class=\"sk-serial\"><div class=\"sk-item\"><div class=\"sk-estimator sk-toggleable\"><input class=\"sk-toggleable__control sk-hidden--visually\" id=\"sk-estimator-id-65\" type=\"checkbox\" ><label for=\"sk-estimator-id-65\" class=\"sk-toggleable__label sk-toggleable__label-arrow\">DropFeatures</label><div class=\"sk-toggleable__content\"><pre>DropFeatures(features_to_drop=[&#x27;fyear&#x27;, &#x27;gvkey&#x27;, &#x27;p_aaer&#x27;])</pre></div></div></div><div class=\"sk-item\"><div class=\"sk-estimator sk-toggleable\"><input class=\"sk-toggleable__control sk-hidden--visually\" id=\"sk-estimator-id-66\" type=\"checkbox\" ><label for=\"sk-estimator-id-66\" class=\"sk-toggleable__label sk-toggleable__label-arrow\">FillNaa</label><div class=\"sk-toggleable__content\"><pre>FillNaa()</pre></div></div></div></div></div><div class=\"sk-item\"><div class=\"sk-estimator sk-toggleable\"><input class=\"sk-toggleable__control sk-hidden--visually\" id=\"sk-estimator-id-67\" type=\"checkbox\" ><label for=\"sk-estimator-id-67\" class=\"sk-toggleable__label sk-toggleable__label-arrow\">MinMaxScaler</label><div class=\"sk-toggleable__content\"><pre>MinMaxScaler()</pre></div></div></div><div class=\"sk-item\"><div class=\"sk-estimator sk-toggleable\"><input class=\"sk-toggleable__control sk-hidden--visually\" id=\"sk-estimator-id-68\" type=\"checkbox\" ><label for=\"sk-estimator-id-68\" class=\"sk-toggleable__label sk-toggleable__label-arrow\">GaussianNB</label><div class=\"sk-toggleable__content\"><pre>GaussianNB()</pre></div></div></div></div></div></div></div>"
            ],
            "text/plain": [
              "Pipeline(steps=[('transfromator',\n",
              "                 Pipeline(steps=[('DropFeature',\n",
              "                                  DropFeatures(features_to_drop=['fyear',\n",
              "                                                                 'gvkey',\n",
              "                                                                 'p_aaer'])),\n",
              "                                 ('Fillna', FillNaa())])),\n",
              "                ('scaler', MinMaxScaler()), ('modelNB', GaussianNB())])"
            ]
          },
          "execution_count": 84,
          "metadata": {},
          "output_type": "execute_result"
        }
      ],
      "source": [
        "NB_base.fit(X_train,y_train)"
      ]
    },
    {
      "cell_type": "code",
      "execution_count": null,
      "metadata": {
        "id": "495DmaOD4Or_"
      },
      "outputs": [],
      "source": [
        "predsnb = NB_base.predict(X_eval)"
      ]
    },
    {
      "cell_type": "code",
      "execution_count": null,
      "metadata": {
        "id": "75j1Kurs4Or_",
        "outputId": "7c62b7b1-b6cb-43ac-b735-b9665693fb6c"
      },
      "outputs": [
        {
          "name": "stdout",
          "output_type": "stream",
          "text": [
            "recall 0.10897435897435898\n"
          ]
        }
      ],
      "source": [
        "print('recall', recall_score(y_eval, predsnb))"
      ]
    },
    {
      "cell_type": "code",
      "execution_count": null,
      "metadata": {
        "id": "YhBbg-gu4Or_",
        "outputId": "441b7f5d-cd2f-46b1-9f24-651796d2d09d"
      },
      "outputs": [
        {
          "name": "stdout",
          "output_type": "stream",
          "text": [
            "F1-score 0.03567681007345226\n"
          ]
        }
      ],
      "source": [
        "print('F1-score', f1_score(y_eval, predsnb))"
      ]
    },
    {
      "cell_type": "code",
      "execution_count": null,
      "metadata": {
        "id": "WVRtB9414Or_"
      },
      "outputs": [],
      "source": [
        "predsnb = NB_base.predict(X_test)"
      ]
    },
    {
      "cell_type": "code",
      "execution_count": null,
      "metadata": {
        "id": "PpnLfLsr4Or_",
        "outputId": "bec63971-35a7-4e92-dde2-f0a153accd52"
      },
      "outputs": [
        {
          "name": "stdout",
          "output_type": "stream",
          "text": [
            "recall 0.17857142857142858\n"
          ]
        }
      ],
      "source": [
        "print('recall', recall_score(y_test, predsnb))"
      ]
    },
    {
      "cell_type": "markdown",
      "metadata": {
        "id": "lAaIB-CK4Or_"
      },
      "source": [
        "#### Check Imbalanced"
      ]
    },
    {
      "cell_type": "code",
      "execution_count": null,
      "metadata": {
        "id": "j5EQVZ1r4OsA",
        "outputId": "6b86793a-7835-4d6a-9850-b8906599d454"
      },
      "outputs": [
        {
          "data": {
            "text/html": [
              "<div>\n",
              "<style scoped>\n",
              "    .dataframe tbody tr th:only-of-type {\n",
              "        vertical-align: middle;\n",
              "    }\n",
              "\n",
              "    .dataframe tbody tr th {\n",
              "        vertical-align: top;\n",
              "    }\n",
              "\n",
              "    .dataframe thead th {\n",
              "        text-align: right;\n",
              "    }\n",
              "</style>\n",
              "<table border=\"1\" class=\"dataframe\">\n",
              "  <thead>\n",
              "    <tr style=\"text-align: right;\">\n",
              "      <th></th>\n",
              "      <th>misstate</th>\n",
              "      <th>freq</th>\n",
              "      <th>percentage</th>\n",
              "    </tr>\n",
              "  </thead>\n",
              "  <tbody>\n",
              "    <tr>\n",
              "      <th>0</th>\n",
              "      <td>0</td>\n",
              "      <td>145081</td>\n",
              "      <td>99.34</td>\n",
              "    </tr>\n",
              "    <tr>\n",
              "      <th>1</th>\n",
              "      <td>1</td>\n",
              "      <td>964</td>\n",
              "      <td>0.66</td>\n",
              "    </tr>\n",
              "  </tbody>\n",
              "</table>\n",
              "</div>"
            ],
            "text/plain": [
              "   misstate    freq  percentage\n",
              "0         0  145081       99.34\n",
              "1         1     964        0.66"
            ]
          },
          "execution_count": 51,
          "metadata": {},
          "output_type": "execute_result"
        }
      ],
      "source": [
        "target = df_misstate['misstate'].value_counts().reset_index()\n",
        "target.rename(columns={'index':'misstate','misstate':'freq'}, inplace=True)\n",
        "target['percentage'] = round((target['freq']/target['freq'].sum())*100,2)\n",
        "target"
      ]
    },
    {
      "cell_type": "markdown",
      "metadata": {
        "id": "uha6ODQO4OsA"
      },
      "source": [
        "Terlihat diatas bahwa data ini tidak balance, dengan perbandinganyang sangat tinggi. Sehingga perlu dilakukan balancing data"
      ]
    },
    {
      "cell_type": "code",
      "execution_count": null,
      "metadata": {
        "id": "ocZLMwU64OsA"
      },
      "outputs": [],
      "source": [
        "smote = SMOTE()\n",
        "smote_enn = make_pipeline(FillNaa(), SMOTETomek(smote=smote))\n",
        "X_res, y_res = smote_enn.fit_resample(X_train, y_train)"
      ]
    },
    {
      "cell_type": "code",
      "execution_count": null,
      "metadata": {
        "id": "7u1ATojI4OsA",
        "outputId": "e0298fc0-efd7-45f0-bc9f-3241c4629649"
      },
      "outputs": [
        {
          "name": "stdout",
          "output_type": "stream",
          "text": [
            "Shape of X before SMOTE: (99310, 45)\n",
            "Shape of X after SMOTE: (197282, 45)\n",
            "\n",
            "Balance of positive and negative classes (%):\n"
          ]
        },
        {
          "data": {
            "text/plain": [
              "0    50.0\n",
              "1    50.0\n",
              "Name: misstate, dtype: float64"
            ]
          },
          "execution_count": 53,
          "metadata": {},
          "output_type": "execute_result"
        }
      ],
      "source": [
        "print(f'''Shape of X before SMOTE: {X_train.shape}\n",
        "Shape of X after SMOTE: {X_res.shape}''')\n",
        "\n",
        "print('\\nBalance of positive and negative classes (%):')\n",
        "y_res.value_counts(normalize=True) * 100"
      ]
    },
    {
      "cell_type": "markdown",
      "metadata": {
        "id": "AIug1g5E4OsA"
      },
      "source": [
        "### Random Forest menggunakan Balanced data"
      ]
    },
    {
      "cell_type": "code",
      "execution_count": null,
      "metadata": {
        "id": "9PEjgOQN4OsA",
        "outputId": "ea1f126f-4261-43b6-fdab-599224d15ce6"
      },
      "outputs": [
        {
          "data": {
            "text/html": [
              "<style>#sk-container-id-7 {color: black;background-color: white;}#sk-container-id-7 pre{padding: 0;}#sk-container-id-7 div.sk-toggleable {background-color: white;}#sk-container-id-7 label.sk-toggleable__label {cursor: pointer;display: block;width: 100%;margin-bottom: 0;padding: 0.3em;box-sizing: border-box;text-align: center;}#sk-container-id-7 label.sk-toggleable__label-arrow:before {content: \"▸\";float: left;margin-right: 0.25em;color: #696969;}#sk-container-id-7 label.sk-toggleable__label-arrow:hover:before {color: black;}#sk-container-id-7 div.sk-estimator:hover label.sk-toggleable__label-arrow:before {color: black;}#sk-container-id-7 div.sk-toggleable__content {max-height: 0;max-width: 0;overflow: hidden;text-align: left;background-color: #f0f8ff;}#sk-container-id-7 div.sk-toggleable__content pre {margin: 0.2em;color: black;border-radius: 0.25em;background-color: #f0f8ff;}#sk-container-id-7 input.sk-toggleable__control:checked~div.sk-toggleable__content {max-height: 200px;max-width: 100%;overflow: auto;}#sk-container-id-7 input.sk-toggleable__control:checked~label.sk-toggleable__label-arrow:before {content: \"▾\";}#sk-container-id-7 div.sk-estimator input.sk-toggleable__control:checked~label.sk-toggleable__label {background-color: #d4ebff;}#sk-container-id-7 div.sk-label input.sk-toggleable__control:checked~label.sk-toggleable__label {background-color: #d4ebff;}#sk-container-id-7 input.sk-hidden--visually {border: 0;clip: rect(1px 1px 1px 1px);clip: rect(1px, 1px, 1px, 1px);height: 1px;margin: -1px;overflow: hidden;padding: 0;position: absolute;width: 1px;}#sk-container-id-7 div.sk-estimator {font-family: monospace;background-color: #f0f8ff;border: 1px dotted black;border-radius: 0.25em;box-sizing: border-box;margin-bottom: 0.5em;}#sk-container-id-7 div.sk-estimator:hover {background-color: #d4ebff;}#sk-container-id-7 div.sk-parallel-item::after {content: \"\";width: 100%;border-bottom: 1px solid gray;flex-grow: 1;}#sk-container-id-7 div.sk-label:hover label.sk-toggleable__label {background-color: #d4ebff;}#sk-container-id-7 div.sk-serial::before {content: \"\";position: absolute;border-left: 1px solid gray;box-sizing: border-box;top: 0;bottom: 0;left: 50%;z-index: 0;}#sk-container-id-7 div.sk-serial {display: flex;flex-direction: column;align-items: center;background-color: white;padding-right: 0.2em;padding-left: 0.2em;position: relative;}#sk-container-id-7 div.sk-item {position: relative;z-index: 1;}#sk-container-id-7 div.sk-parallel {display: flex;align-items: stretch;justify-content: center;background-color: white;position: relative;}#sk-container-id-7 div.sk-item::before, #sk-container-id-7 div.sk-parallel-item::before {content: \"\";position: absolute;border-left: 1px solid gray;box-sizing: border-box;top: 0;bottom: 0;left: 50%;z-index: -1;}#sk-container-id-7 div.sk-parallel-item {display: flex;flex-direction: column;z-index: 1;position: relative;background-color: white;}#sk-container-id-7 div.sk-parallel-item:first-child::after {align-self: flex-end;width: 50%;}#sk-container-id-7 div.sk-parallel-item:last-child::after {align-self: flex-start;width: 50%;}#sk-container-id-7 div.sk-parallel-item:only-child::after {width: 0;}#sk-container-id-7 div.sk-dashed-wrapped {border: 1px dashed gray;margin: 0 0.4em 0.5em 0.4em;box-sizing: border-box;padding-bottom: 0.4em;background-color: white;}#sk-container-id-7 div.sk-label label {font-family: monospace;font-weight: bold;display: inline-block;line-height: 1.2em;}#sk-container-id-7 div.sk-label-container {text-align: center;}#sk-container-id-7 div.sk-container {/* jupyter's `normalize.less` sets `[hidden] { display: none; }` but bootstrap.min.css set `[hidden] { display: none !important; }` so we also need the `!important` here to be able to override the default hidden behavior on the sphinx rendered scikit-learn.org. See: https://github.com/scikit-learn/scikit-learn/issues/21755 */display: inline-block !important;position: relative;}#sk-container-id-7 div.sk-text-repr-fallback {display: none;}</style><div id=\"sk-container-id-7\" class=\"sk-top-container\"><div class=\"sk-text-repr-fallback\"><pre>Pipeline(steps=[(&#x27;transfromator&#x27;,\n",
              "                 Pipeline(steps=[(&#x27;DropFeature&#x27;,\n",
              "                                  DropFeatures(features_to_drop=[&#x27;fyear&#x27;,\n",
              "                                                                 &#x27;gvkey&#x27;,\n",
              "                                                                 &#x27;p_aaer&#x27;])),\n",
              "                                 (&#x27;Fillna&#x27;, FillNaa())])),\n",
              "                (&#x27;scaler&#x27;, MinMaxScaler()),\n",
              "                (&#x27;modelRFbase&#x27;, RandomForestClassifier(random_state=42))])</pre><b>In a Jupyter environment, please rerun this cell to show the HTML representation or trust the notebook. <br />On GitHub, the HTML representation is unable to render, please try loading this page with nbviewer.org.</b></div><div class=\"sk-container\" hidden><div class=\"sk-item sk-dashed-wrapped\"><div class=\"sk-label-container\"><div class=\"sk-label sk-toggleable\"><input class=\"sk-toggleable__control sk-hidden--visually\" id=\"sk-estimator-id-37\" type=\"checkbox\" ><label for=\"sk-estimator-id-37\" class=\"sk-toggleable__label sk-toggleable__label-arrow\">Pipeline</label><div class=\"sk-toggleable__content\"><pre>Pipeline(steps=[(&#x27;transfromator&#x27;,\n",
              "                 Pipeline(steps=[(&#x27;DropFeature&#x27;,\n",
              "                                  DropFeatures(features_to_drop=[&#x27;fyear&#x27;,\n",
              "                                                                 &#x27;gvkey&#x27;,\n",
              "                                                                 &#x27;p_aaer&#x27;])),\n",
              "                                 (&#x27;Fillna&#x27;, FillNaa())])),\n",
              "                (&#x27;scaler&#x27;, MinMaxScaler()),\n",
              "                (&#x27;modelRFbase&#x27;, RandomForestClassifier(random_state=42))])</pre></div></div></div><div class=\"sk-serial\"><div class=\"sk-item\"><div class=\"sk-label-container\"><div class=\"sk-label sk-toggleable\"><input class=\"sk-toggleable__control sk-hidden--visually\" id=\"sk-estimator-id-38\" type=\"checkbox\" ><label for=\"sk-estimator-id-38\" class=\"sk-toggleable__label sk-toggleable__label-arrow\">transfromator: Pipeline</label><div class=\"sk-toggleable__content\"><pre>Pipeline(steps=[(&#x27;DropFeature&#x27;,\n",
              "                 DropFeatures(features_to_drop=[&#x27;fyear&#x27;, &#x27;gvkey&#x27;, &#x27;p_aaer&#x27;])),\n",
              "                (&#x27;Fillna&#x27;, FillNaa())])</pre></div></div></div><div class=\"sk-serial\"><div class=\"sk-item\"><div class=\"sk-estimator sk-toggleable\"><input class=\"sk-toggleable__control sk-hidden--visually\" id=\"sk-estimator-id-39\" type=\"checkbox\" ><label for=\"sk-estimator-id-39\" class=\"sk-toggleable__label sk-toggleable__label-arrow\">DropFeatures</label><div class=\"sk-toggleable__content\"><pre>DropFeatures(features_to_drop=[&#x27;fyear&#x27;, &#x27;gvkey&#x27;, &#x27;p_aaer&#x27;])</pre></div></div></div><div class=\"sk-item\"><div class=\"sk-estimator sk-toggleable\"><input class=\"sk-toggleable__control sk-hidden--visually\" id=\"sk-estimator-id-40\" type=\"checkbox\" ><label for=\"sk-estimator-id-40\" class=\"sk-toggleable__label sk-toggleable__label-arrow\">FillNaa</label><div class=\"sk-toggleable__content\"><pre>FillNaa()</pre></div></div></div></div></div><div class=\"sk-item\"><div class=\"sk-estimator sk-toggleable\"><input class=\"sk-toggleable__control sk-hidden--visually\" id=\"sk-estimator-id-41\" type=\"checkbox\" ><label for=\"sk-estimator-id-41\" class=\"sk-toggleable__label sk-toggleable__label-arrow\">MinMaxScaler</label><div class=\"sk-toggleable__content\"><pre>MinMaxScaler()</pre></div></div></div><div class=\"sk-item\"><div class=\"sk-estimator sk-toggleable\"><input class=\"sk-toggleable__control sk-hidden--visually\" id=\"sk-estimator-id-42\" type=\"checkbox\" ><label for=\"sk-estimator-id-42\" class=\"sk-toggleable__label sk-toggleable__label-arrow\">RandomForestClassifier</label><div class=\"sk-toggleable__content\"><pre>RandomForestClassifier(random_state=42)</pre></div></div></div></div></div></div></div>"
            ],
            "text/plain": [
              "Pipeline(steps=[('transfromator',\n",
              "                 Pipeline(steps=[('DropFeature',\n",
              "                                  DropFeatures(features_to_drop=['fyear',\n",
              "                                                                 'gvkey',\n",
              "                                                                 'p_aaer'])),\n",
              "                                 ('Fillna', FillNaa())])),\n",
              "                ('scaler', MinMaxScaler()),\n",
              "                ('modelRFbase', RandomForestClassifier(random_state=42))])"
            ]
          },
          "execution_count": 54,
          "metadata": {},
          "output_type": "execute_result"
        }
      ],
      "source": [
        "RF_base.fit(X_res,y_res)"
      ]
    },
    {
      "cell_type": "code",
      "execution_count": null,
      "metadata": {
        "id": "HXLb77OU4OsB"
      },
      "outputs": [],
      "source": [
        "preds1 = RF_base.predict(X_eval)"
      ]
    },
    {
      "cell_type": "code",
      "execution_count": null,
      "metadata": {
        "id": "6RGwIG8j4OsB",
        "outputId": "28f4aa44-3aac-41ed-ba71-ac7e2cedaa1f"
      },
      "outputs": [
        {
          "name": "stdout",
          "output_type": "stream",
          "text": [
            "recall 0.08333333333333333\n"
          ]
        }
      ],
      "source": [
        "print('recall', recall_score(y_eval, preds1))"
      ]
    },
    {
      "cell_type": "code",
      "execution_count": null,
      "metadata": {
        "id": "IpDfMAf94OsB",
        "outputId": "8ab489ef-8fee-41a0-d4d0-26831e6865ff"
      },
      "outputs": [
        {
          "name": "stdout",
          "output_type": "stream",
          "text": [
            "f1_score 0.10317460317460315\n"
          ]
        }
      ],
      "source": [
        "print('f1_score', f1_score(y_eval, preds1))"
      ]
    },
    {
      "cell_type": "code",
      "execution_count": null,
      "metadata": {
        "id": "xgQDyqa24OsB",
        "outputId": "97d44267-46da-4611-b3a3-9d61e2f0e29d"
      },
      "outputs": [
        {
          "name": "stdout",
          "output_type": "stream",
          "text": [
            "recall 0.07857142857142857\n"
          ]
        }
      ],
      "source": [
        "preds1 = RF_base.predict(X_test)\n",
        "print('recall', recall_score(y_test, preds1))"
      ]
    },
    {
      "cell_type": "markdown",
      "metadata": {
        "id": "2u47_zXF4OsB"
      },
      "source": [
        "Nilai recall yang diperoleh masih kecil meskipun sudah dilakukan balancing data, tetapi nilai yang diperoleh lebih baik daripada baseline"
      ]
    },
    {
      "cell_type": "markdown",
      "metadata": {
        "id": "Cn6zx8pv4OsB"
      },
      "source": [
        "### XgBoost menggunakan Balanced data"
      ]
    },
    {
      "cell_type": "code",
      "execution_count": null,
      "metadata": {
        "id": "bggev3VQ4OsC",
        "outputId": "f5de2db1-7db9-4cff-9283-0fca826d0ada"
      },
      "outputs": [
        {
          "data": {
            "text/html": [
              "<style>#sk-container-id-8 {color: black;background-color: white;}#sk-container-id-8 pre{padding: 0;}#sk-container-id-8 div.sk-toggleable {background-color: white;}#sk-container-id-8 label.sk-toggleable__label {cursor: pointer;display: block;width: 100%;margin-bottom: 0;padding: 0.3em;box-sizing: border-box;text-align: center;}#sk-container-id-8 label.sk-toggleable__label-arrow:before {content: \"▸\";float: left;margin-right: 0.25em;color: #696969;}#sk-container-id-8 label.sk-toggleable__label-arrow:hover:before {color: black;}#sk-container-id-8 div.sk-estimator:hover label.sk-toggleable__label-arrow:before {color: black;}#sk-container-id-8 div.sk-toggleable__content {max-height: 0;max-width: 0;overflow: hidden;text-align: left;background-color: #f0f8ff;}#sk-container-id-8 div.sk-toggleable__content pre {margin: 0.2em;color: black;border-radius: 0.25em;background-color: #f0f8ff;}#sk-container-id-8 input.sk-toggleable__control:checked~div.sk-toggleable__content {max-height: 200px;max-width: 100%;overflow: auto;}#sk-container-id-8 input.sk-toggleable__control:checked~label.sk-toggleable__label-arrow:before {content: \"▾\";}#sk-container-id-8 div.sk-estimator input.sk-toggleable__control:checked~label.sk-toggleable__label {background-color: #d4ebff;}#sk-container-id-8 div.sk-label input.sk-toggleable__control:checked~label.sk-toggleable__label {background-color: #d4ebff;}#sk-container-id-8 input.sk-hidden--visually {border: 0;clip: rect(1px 1px 1px 1px);clip: rect(1px, 1px, 1px, 1px);height: 1px;margin: -1px;overflow: hidden;padding: 0;position: absolute;width: 1px;}#sk-container-id-8 div.sk-estimator {font-family: monospace;background-color: #f0f8ff;border: 1px dotted black;border-radius: 0.25em;box-sizing: border-box;margin-bottom: 0.5em;}#sk-container-id-8 div.sk-estimator:hover {background-color: #d4ebff;}#sk-container-id-8 div.sk-parallel-item::after {content: \"\";width: 100%;border-bottom: 1px solid gray;flex-grow: 1;}#sk-container-id-8 div.sk-label:hover label.sk-toggleable__label {background-color: #d4ebff;}#sk-container-id-8 div.sk-serial::before {content: \"\";position: absolute;border-left: 1px solid gray;box-sizing: border-box;top: 0;bottom: 0;left: 50%;z-index: 0;}#sk-container-id-8 div.sk-serial {display: flex;flex-direction: column;align-items: center;background-color: white;padding-right: 0.2em;padding-left: 0.2em;position: relative;}#sk-container-id-8 div.sk-item {position: relative;z-index: 1;}#sk-container-id-8 div.sk-parallel {display: flex;align-items: stretch;justify-content: center;background-color: white;position: relative;}#sk-container-id-8 div.sk-item::before, #sk-container-id-8 div.sk-parallel-item::before {content: \"\";position: absolute;border-left: 1px solid gray;box-sizing: border-box;top: 0;bottom: 0;left: 50%;z-index: -1;}#sk-container-id-8 div.sk-parallel-item {display: flex;flex-direction: column;z-index: 1;position: relative;background-color: white;}#sk-container-id-8 div.sk-parallel-item:first-child::after {align-self: flex-end;width: 50%;}#sk-container-id-8 div.sk-parallel-item:last-child::after {align-self: flex-start;width: 50%;}#sk-container-id-8 div.sk-parallel-item:only-child::after {width: 0;}#sk-container-id-8 div.sk-dashed-wrapped {border: 1px dashed gray;margin: 0 0.4em 0.5em 0.4em;box-sizing: border-box;padding-bottom: 0.4em;background-color: white;}#sk-container-id-8 div.sk-label label {font-family: monospace;font-weight: bold;display: inline-block;line-height: 1.2em;}#sk-container-id-8 div.sk-label-container {text-align: center;}#sk-container-id-8 div.sk-container {/* jupyter's `normalize.less` sets `[hidden] { display: none; }` but bootstrap.min.css set `[hidden] { display: none !important; }` so we also need the `!important` here to be able to override the default hidden behavior on the sphinx rendered scikit-learn.org. See: https://github.com/scikit-learn/scikit-learn/issues/21755 */display: inline-block !important;position: relative;}#sk-container-id-8 div.sk-text-repr-fallback {display: none;}</style><div id=\"sk-container-id-8\" class=\"sk-top-container\"><div class=\"sk-text-repr-fallback\"><pre>Pipeline(steps=[(&#x27;transfromator&#x27;,\n",
              "                 Pipeline(steps=[(&#x27;DropFeature&#x27;,\n",
              "                                  DropFeatures(features_to_drop=[&#x27;fyear&#x27;,\n",
              "                                                                 &#x27;gvkey&#x27;,\n",
              "                                                                 &#x27;p_aaer&#x27;])),\n",
              "                                 (&#x27;Fillna&#x27;, FillNaa())])),\n",
              "                (&#x27;scaler&#x27;, MinMaxScaler()),\n",
              "                (&#x27;modelXG&#x27;,\n",
              "                 XGBRFClassifier(base_score=0.5, booster=&#x27;gbtree&#x27;,\n",
              "                                 callbacks=None, colsample_bylevel=1,\n",
              "                                 colsample_bytree=1, early_stopping_rounds=None,\n",
              "                                 enable_categorical=False, eval_metric=...\n",
              "                                 grow_policy=&#x27;depthwise&#x27;, importance_type=None,\n",
              "                                 interaction_constraints=&#x27;&#x27;, max_bin=256,\n",
              "                                 max_cat_threshold=64, max_cat_to_onehot=4,\n",
              "                                 max_delta_step=0, max_depth=6, max_leaves=0,\n",
              "                                 min_child_weight=1, missing=nan,\n",
              "                                 monotone_constraints=&#x27;()&#x27;, n_estimators=100,\n",
              "                                 n_jobs=0, num_parallel_tree=100,\n",
              "                                 objective=&#x27;binary:logistic&#x27;, predictor=&#x27;auto&#x27;,\n",
              "                                 random_state=0, reg_alpha=0, ...))])</pre><b>In a Jupyter environment, please rerun this cell to show the HTML representation or trust the notebook. <br />On GitHub, the HTML representation is unable to render, please try loading this page with nbviewer.org.</b></div><div class=\"sk-container\" hidden><div class=\"sk-item sk-dashed-wrapped\"><div class=\"sk-label-container\"><div class=\"sk-label sk-toggleable\"><input class=\"sk-toggleable__control sk-hidden--visually\" id=\"sk-estimator-id-43\" type=\"checkbox\" ><label for=\"sk-estimator-id-43\" class=\"sk-toggleable__label sk-toggleable__label-arrow\">Pipeline</label><div class=\"sk-toggleable__content\"><pre>Pipeline(steps=[(&#x27;transfromator&#x27;,\n",
              "                 Pipeline(steps=[(&#x27;DropFeature&#x27;,\n",
              "                                  DropFeatures(features_to_drop=[&#x27;fyear&#x27;,\n",
              "                                                                 &#x27;gvkey&#x27;,\n",
              "                                                                 &#x27;p_aaer&#x27;])),\n",
              "                                 (&#x27;Fillna&#x27;, FillNaa())])),\n",
              "                (&#x27;scaler&#x27;, MinMaxScaler()),\n",
              "                (&#x27;modelXG&#x27;,\n",
              "                 XGBRFClassifier(base_score=0.5, booster=&#x27;gbtree&#x27;,\n",
              "                                 callbacks=None, colsample_bylevel=1,\n",
              "                                 colsample_bytree=1, early_stopping_rounds=None,\n",
              "                                 enable_categorical=False, eval_metric=...\n",
              "                                 grow_policy=&#x27;depthwise&#x27;, importance_type=None,\n",
              "                                 interaction_constraints=&#x27;&#x27;, max_bin=256,\n",
              "                                 max_cat_threshold=64, max_cat_to_onehot=4,\n",
              "                                 max_delta_step=0, max_depth=6, max_leaves=0,\n",
              "                                 min_child_weight=1, missing=nan,\n",
              "                                 monotone_constraints=&#x27;()&#x27;, n_estimators=100,\n",
              "                                 n_jobs=0, num_parallel_tree=100,\n",
              "                                 objective=&#x27;binary:logistic&#x27;, predictor=&#x27;auto&#x27;,\n",
              "                                 random_state=0, reg_alpha=0, ...))])</pre></div></div></div><div class=\"sk-serial\"><div class=\"sk-item\"><div class=\"sk-label-container\"><div class=\"sk-label sk-toggleable\"><input class=\"sk-toggleable__control sk-hidden--visually\" id=\"sk-estimator-id-44\" type=\"checkbox\" ><label for=\"sk-estimator-id-44\" class=\"sk-toggleable__label sk-toggleable__label-arrow\">transfromator: Pipeline</label><div class=\"sk-toggleable__content\"><pre>Pipeline(steps=[(&#x27;DropFeature&#x27;,\n",
              "                 DropFeatures(features_to_drop=[&#x27;fyear&#x27;, &#x27;gvkey&#x27;, &#x27;p_aaer&#x27;])),\n",
              "                (&#x27;Fillna&#x27;, FillNaa())])</pre></div></div></div><div class=\"sk-serial\"><div class=\"sk-item\"><div class=\"sk-estimator sk-toggleable\"><input class=\"sk-toggleable__control sk-hidden--visually\" id=\"sk-estimator-id-45\" type=\"checkbox\" ><label for=\"sk-estimator-id-45\" class=\"sk-toggleable__label sk-toggleable__label-arrow\">DropFeatures</label><div class=\"sk-toggleable__content\"><pre>DropFeatures(features_to_drop=[&#x27;fyear&#x27;, &#x27;gvkey&#x27;, &#x27;p_aaer&#x27;])</pre></div></div></div><div class=\"sk-item\"><div class=\"sk-estimator sk-toggleable\"><input class=\"sk-toggleable__control sk-hidden--visually\" id=\"sk-estimator-id-46\" type=\"checkbox\" ><label for=\"sk-estimator-id-46\" class=\"sk-toggleable__label sk-toggleable__label-arrow\">FillNaa</label><div class=\"sk-toggleable__content\"><pre>FillNaa()</pre></div></div></div></div></div><div class=\"sk-item\"><div class=\"sk-estimator sk-toggleable\"><input class=\"sk-toggleable__control sk-hidden--visually\" id=\"sk-estimator-id-47\" type=\"checkbox\" ><label for=\"sk-estimator-id-47\" class=\"sk-toggleable__label sk-toggleable__label-arrow\">MinMaxScaler</label><div class=\"sk-toggleable__content\"><pre>MinMaxScaler()</pre></div></div></div><div class=\"sk-item\"><div class=\"sk-estimator sk-toggleable\"><input class=\"sk-toggleable__control sk-hidden--visually\" id=\"sk-estimator-id-48\" type=\"checkbox\" ><label for=\"sk-estimator-id-48\" class=\"sk-toggleable__label sk-toggleable__label-arrow\">XGBRFClassifier</label><div class=\"sk-toggleable__content\"><pre>XGBRFClassifier(base_score=0.5, booster=&#x27;gbtree&#x27;, callbacks=None,\n",
              "                colsample_bylevel=1, colsample_bytree=1,\n",
              "                early_stopping_rounds=None, enable_categorical=False,\n",
              "                eval_metric=None, feature_types=None, gamma=0, gpu_id=-1,\n",
              "                grow_policy=&#x27;depthwise&#x27;, importance_type=None,\n",
              "                interaction_constraints=&#x27;&#x27;, max_bin=256, max_cat_threshold=64,\n",
              "                max_cat_to_onehot=4, max_delta_step=0, max_depth=6,\n",
              "                max_leaves=0, min_child_weight=1, missing=nan,\n",
              "                monotone_constraints=&#x27;()&#x27;, n_estimators=100, n_jobs=0,\n",
              "                num_parallel_tree=100, objective=&#x27;binary:logistic&#x27;,\n",
              "                predictor=&#x27;auto&#x27;, random_state=0, reg_alpha=0, ...)</pre></div></div></div></div></div></div></div>"
            ],
            "text/plain": [
              "Pipeline(steps=[('transfromator',\n",
              "                 Pipeline(steps=[('DropFeature',\n",
              "                                  DropFeatures(features_to_drop=['fyear',\n",
              "                                                                 'gvkey',\n",
              "                                                                 'p_aaer'])),\n",
              "                                 ('Fillna', FillNaa())])),\n",
              "                ('scaler', MinMaxScaler()),\n",
              "                ('modelXG',\n",
              "                 XGBRFClassifier(base_score=0.5, booster='gbtree',\n",
              "                                 callbacks=None, colsample_bylevel=1,\n",
              "                                 colsample_bytree=1, early_stopping_rounds=None,\n",
              "                                 enable_categorical=False, eval_metric=...\n",
              "                                 grow_policy='depthwise', importance_type=None,\n",
              "                                 interaction_constraints='', max_bin=256,\n",
              "                                 max_cat_threshold=64, max_cat_to_onehot=4,\n",
              "                                 max_delta_step=0, max_depth=6, max_leaves=0,\n",
              "                                 min_child_weight=1, missing=nan,\n",
              "                                 monotone_constraints='()', n_estimators=100,\n",
              "                                 n_jobs=0, num_parallel_tree=100,\n",
              "                                 objective='binary:logistic', predictor='auto',\n",
              "                                 random_state=0, reg_alpha=0, ...))])"
            ]
          },
          "execution_count": 58,
          "metadata": {},
          "output_type": "execute_result"
        }
      ],
      "source": [
        "XG_base.fit(X_res,y_res)"
      ]
    },
    {
      "cell_type": "code",
      "execution_count": null,
      "metadata": {
        "id": "lXaBBnsz4OsC"
      },
      "outputs": [],
      "source": [
        "predsxg1 = XG_base.predict(X_eval)"
      ]
    },
    {
      "cell_type": "code",
      "execution_count": null,
      "metadata": {
        "id": "zDY07Yi04OsC",
        "outputId": "aadb2215-bc61-4c6a-cc61-0f3edbc677c5"
      },
      "outputs": [
        {
          "name": "stdout",
          "output_type": "stream",
          "text": [
            "recall 0.532051282051282\n"
          ]
        }
      ],
      "source": [
        "print('recall', recall_score(y_eval, predsxg1))"
      ]
    },
    {
      "cell_type": "code",
      "execution_count": null,
      "metadata": {
        "id": "FSXn9mPh4OsC",
        "outputId": "1db11944-e816-452c-ce82-969807facf02"
      },
      "outputs": [
        {
          "name": "stdout",
          "output_type": "stream",
          "text": [
            "f1-score 0.02988836874324811\n"
          ]
        }
      ],
      "source": [
        "print('f1-score', f1_score(y_eval, predsxg1))"
      ]
    },
    {
      "cell_type": "code",
      "execution_count": null,
      "metadata": {
        "id": "Sok_jwPK4OsC",
        "outputId": "ee06d5d5-4c67-4d8c-fe78-7efd49f67cd2"
      },
      "outputs": [
        {
          "name": "stdout",
          "output_type": "stream",
          "text": [
            "recall 0.5071428571428571\n"
          ]
        }
      ],
      "source": [
        "predsxg1 = XG_base.predict(X_test)\n",
        "print('recall', recall_score(y_test, predsxg1))"
      ]
    },
    {
      "cell_type": "markdown",
      "metadata": {
        "id": "u4vEt98q4OsD"
      },
      "source": [
        "### Naive Bayes menggunakan Balanced data"
      ]
    },
    {
      "cell_type": "code",
      "execution_count": null,
      "metadata": {
        "id": "G2TdQhl54OsD",
        "outputId": "aba2717c-c070-429b-eb1e-37f8961feff0"
      },
      "outputs": [
        {
          "data": {
            "text/html": [
              "<style>#sk-container-id-12 {color: black;background-color: white;}#sk-container-id-12 pre{padding: 0;}#sk-container-id-12 div.sk-toggleable {background-color: white;}#sk-container-id-12 label.sk-toggleable__label {cursor: pointer;display: block;width: 100%;margin-bottom: 0;padding: 0.3em;box-sizing: border-box;text-align: center;}#sk-container-id-12 label.sk-toggleable__label-arrow:before {content: \"▸\";float: left;margin-right: 0.25em;color: #696969;}#sk-container-id-12 label.sk-toggleable__label-arrow:hover:before {color: black;}#sk-container-id-12 div.sk-estimator:hover label.sk-toggleable__label-arrow:before {color: black;}#sk-container-id-12 div.sk-toggleable__content {max-height: 0;max-width: 0;overflow: hidden;text-align: left;background-color: #f0f8ff;}#sk-container-id-12 div.sk-toggleable__content pre {margin: 0.2em;color: black;border-radius: 0.25em;background-color: #f0f8ff;}#sk-container-id-12 input.sk-toggleable__control:checked~div.sk-toggleable__content {max-height: 200px;max-width: 100%;overflow: auto;}#sk-container-id-12 input.sk-toggleable__control:checked~label.sk-toggleable__label-arrow:before {content: \"▾\";}#sk-container-id-12 div.sk-estimator input.sk-toggleable__control:checked~label.sk-toggleable__label {background-color: #d4ebff;}#sk-container-id-12 div.sk-label input.sk-toggleable__control:checked~label.sk-toggleable__label {background-color: #d4ebff;}#sk-container-id-12 input.sk-hidden--visually {border: 0;clip: rect(1px 1px 1px 1px);clip: rect(1px, 1px, 1px, 1px);height: 1px;margin: -1px;overflow: hidden;padding: 0;position: absolute;width: 1px;}#sk-container-id-12 div.sk-estimator {font-family: monospace;background-color: #f0f8ff;border: 1px dotted black;border-radius: 0.25em;box-sizing: border-box;margin-bottom: 0.5em;}#sk-container-id-12 div.sk-estimator:hover {background-color: #d4ebff;}#sk-container-id-12 div.sk-parallel-item::after {content: \"\";width: 100%;border-bottom: 1px solid gray;flex-grow: 1;}#sk-container-id-12 div.sk-label:hover label.sk-toggleable__label {background-color: #d4ebff;}#sk-container-id-12 div.sk-serial::before {content: \"\";position: absolute;border-left: 1px solid gray;box-sizing: border-box;top: 0;bottom: 0;left: 50%;z-index: 0;}#sk-container-id-12 div.sk-serial {display: flex;flex-direction: column;align-items: center;background-color: white;padding-right: 0.2em;padding-left: 0.2em;position: relative;}#sk-container-id-12 div.sk-item {position: relative;z-index: 1;}#sk-container-id-12 div.sk-parallel {display: flex;align-items: stretch;justify-content: center;background-color: white;position: relative;}#sk-container-id-12 div.sk-item::before, #sk-container-id-12 div.sk-parallel-item::before {content: \"\";position: absolute;border-left: 1px solid gray;box-sizing: border-box;top: 0;bottom: 0;left: 50%;z-index: -1;}#sk-container-id-12 div.sk-parallel-item {display: flex;flex-direction: column;z-index: 1;position: relative;background-color: white;}#sk-container-id-12 div.sk-parallel-item:first-child::after {align-self: flex-end;width: 50%;}#sk-container-id-12 div.sk-parallel-item:last-child::after {align-self: flex-start;width: 50%;}#sk-container-id-12 div.sk-parallel-item:only-child::after {width: 0;}#sk-container-id-12 div.sk-dashed-wrapped {border: 1px dashed gray;margin: 0 0.4em 0.5em 0.4em;box-sizing: border-box;padding-bottom: 0.4em;background-color: white;}#sk-container-id-12 div.sk-label label {font-family: monospace;font-weight: bold;display: inline-block;line-height: 1.2em;}#sk-container-id-12 div.sk-label-container {text-align: center;}#sk-container-id-12 div.sk-container {/* jupyter's `normalize.less` sets `[hidden] { display: none; }` but bootstrap.min.css set `[hidden] { display: none !important; }` so we also need the `!important` here to be able to override the default hidden behavior on the sphinx rendered scikit-learn.org. See: https://github.com/scikit-learn/scikit-learn/issues/21755 */display: inline-block !important;position: relative;}#sk-container-id-12 div.sk-text-repr-fallback {display: none;}</style><div id=\"sk-container-id-12\" class=\"sk-top-container\"><div class=\"sk-text-repr-fallback\"><pre>Pipeline(steps=[(&#x27;transfromator&#x27;,\n",
              "                 Pipeline(steps=[(&#x27;DropFeature&#x27;,\n",
              "                                  DropFeatures(features_to_drop=[&#x27;fyear&#x27;,\n",
              "                                                                 &#x27;gvkey&#x27;,\n",
              "                                                                 &#x27;p_aaer&#x27;])),\n",
              "                                 (&#x27;Fillna&#x27;, FillNaa())])),\n",
              "                (&#x27;scaler&#x27;, MinMaxScaler()), (&#x27;modelNB&#x27;, GaussianNB())])</pre><b>In a Jupyter environment, please rerun this cell to show the HTML representation or trust the notebook. <br />On GitHub, the HTML representation is unable to render, please try loading this page with nbviewer.org.</b></div><div class=\"sk-container\" hidden><div class=\"sk-item sk-dashed-wrapped\"><div class=\"sk-label-container\"><div class=\"sk-label sk-toggleable\"><input class=\"sk-toggleable__control sk-hidden--visually\" id=\"sk-estimator-id-69\" type=\"checkbox\" ><label for=\"sk-estimator-id-69\" class=\"sk-toggleable__label sk-toggleable__label-arrow\">Pipeline</label><div class=\"sk-toggleable__content\"><pre>Pipeline(steps=[(&#x27;transfromator&#x27;,\n",
              "                 Pipeline(steps=[(&#x27;DropFeature&#x27;,\n",
              "                                  DropFeatures(features_to_drop=[&#x27;fyear&#x27;,\n",
              "                                                                 &#x27;gvkey&#x27;,\n",
              "                                                                 &#x27;p_aaer&#x27;])),\n",
              "                                 (&#x27;Fillna&#x27;, FillNaa())])),\n",
              "                (&#x27;scaler&#x27;, MinMaxScaler()), (&#x27;modelNB&#x27;, GaussianNB())])</pre></div></div></div><div class=\"sk-serial\"><div class=\"sk-item\"><div class=\"sk-label-container\"><div class=\"sk-label sk-toggleable\"><input class=\"sk-toggleable__control sk-hidden--visually\" id=\"sk-estimator-id-70\" type=\"checkbox\" ><label for=\"sk-estimator-id-70\" class=\"sk-toggleable__label sk-toggleable__label-arrow\">transfromator: Pipeline</label><div class=\"sk-toggleable__content\"><pre>Pipeline(steps=[(&#x27;DropFeature&#x27;,\n",
              "                 DropFeatures(features_to_drop=[&#x27;fyear&#x27;, &#x27;gvkey&#x27;, &#x27;p_aaer&#x27;])),\n",
              "                (&#x27;Fillna&#x27;, FillNaa())])</pre></div></div></div><div class=\"sk-serial\"><div class=\"sk-item\"><div class=\"sk-estimator sk-toggleable\"><input class=\"sk-toggleable__control sk-hidden--visually\" id=\"sk-estimator-id-71\" type=\"checkbox\" ><label for=\"sk-estimator-id-71\" class=\"sk-toggleable__label sk-toggleable__label-arrow\">DropFeatures</label><div class=\"sk-toggleable__content\"><pre>DropFeatures(features_to_drop=[&#x27;fyear&#x27;, &#x27;gvkey&#x27;, &#x27;p_aaer&#x27;])</pre></div></div></div><div class=\"sk-item\"><div class=\"sk-estimator sk-toggleable\"><input class=\"sk-toggleable__control sk-hidden--visually\" id=\"sk-estimator-id-72\" type=\"checkbox\" ><label for=\"sk-estimator-id-72\" class=\"sk-toggleable__label sk-toggleable__label-arrow\">FillNaa</label><div class=\"sk-toggleable__content\"><pre>FillNaa()</pre></div></div></div></div></div><div class=\"sk-item\"><div class=\"sk-estimator sk-toggleable\"><input class=\"sk-toggleable__control sk-hidden--visually\" id=\"sk-estimator-id-73\" type=\"checkbox\" ><label for=\"sk-estimator-id-73\" class=\"sk-toggleable__label sk-toggleable__label-arrow\">MinMaxScaler</label><div class=\"sk-toggleable__content\"><pre>MinMaxScaler()</pre></div></div></div><div class=\"sk-item\"><div class=\"sk-estimator sk-toggleable\"><input class=\"sk-toggleable__control sk-hidden--visually\" id=\"sk-estimator-id-74\" type=\"checkbox\" ><label for=\"sk-estimator-id-74\" class=\"sk-toggleable__label sk-toggleable__label-arrow\">GaussianNB</label><div class=\"sk-toggleable__content\"><pre>GaussianNB()</pre></div></div></div></div></div></div></div>"
            ],
            "text/plain": [
              "Pipeline(steps=[('transfromator',\n",
              "                 Pipeline(steps=[('DropFeature',\n",
              "                                  DropFeatures(features_to_drop=['fyear',\n",
              "                                                                 'gvkey',\n",
              "                                                                 'p_aaer'])),\n",
              "                                 ('Fillna', FillNaa())])),\n",
              "                ('scaler', MinMaxScaler()), ('modelNB', GaussianNB())])"
            ]
          },
          "execution_count": 88,
          "metadata": {},
          "output_type": "execute_result"
        }
      ],
      "source": [
        "NB_base.fit(X_res,y_res)"
      ]
    },
    {
      "cell_type": "code",
      "execution_count": null,
      "metadata": {
        "id": "npqABNAj4OsD"
      },
      "outputs": [],
      "source": [
        "predsnb1 = NB_base.predict(X_eval)"
      ]
    },
    {
      "cell_type": "code",
      "execution_count": null,
      "metadata": {
        "id": "ntH31avv4OsD",
        "outputId": "4a877bdd-1ae9-4a7a-dade-a12d49060089"
      },
      "outputs": [
        {
          "name": "stdout",
          "output_type": "stream",
          "text": [
            "recall 0.22435897435897437\n"
          ]
        }
      ],
      "source": [
        "print('recall', recall_score(y_eval, predsnb1))"
      ]
    },
    {
      "cell_type": "code",
      "execution_count": null,
      "metadata": {
        "id": "wp3d5_Pr4OsD",
        "outputId": "cbe00639-0dc1-46f8-cd4b-f042a822a91f"
      },
      "outputs": [
        {
          "name": "stdout",
          "output_type": "stream",
          "text": [
            "F1_score 0.032302722658052604\n"
          ]
        }
      ],
      "source": [
        "print('F1_score', f1_score(y_eval, predsnb1))"
      ]
    },
    {
      "cell_type": "code",
      "execution_count": null,
      "metadata": {
        "id": "RIWafaUw4OsD",
        "outputId": "292b62c8-60a6-4494-8f89-d34e2e80f7f6"
      },
      "outputs": [
        {
          "name": "stdout",
          "output_type": "stream",
          "text": [
            "recall 0.17857142857142858\n"
          ]
        }
      ],
      "source": [
        "predsnb1 = NB_base.predict(X_test)\n",
        "print('recall', recall_score(y_test, predsnb1))"
      ]
    },
    {
      "cell_type": "markdown",
      "metadata": {
        "id": "mg5DD3oZ4OsE"
      },
      "source": [
        "### Random Forest menggunakan Balanced data & hyperparameter Tunning"
      ]
    },
    {
      "cell_type": "code",
      "execution_count": null,
      "metadata": {
        "id": "Radt6OtG4OsE",
        "outputId": "e26aa25f-a68e-4d11-8b5e-eaa0e26672db"
      },
      "outputs": [
        {
          "data": {
            "text/html": [
              "<style>#sk-container-id-9 {color: black;background-color: white;}#sk-container-id-9 pre{padding: 0;}#sk-container-id-9 div.sk-toggleable {background-color: white;}#sk-container-id-9 label.sk-toggleable__label {cursor: pointer;display: block;width: 100%;margin-bottom: 0;padding: 0.3em;box-sizing: border-box;text-align: center;}#sk-container-id-9 label.sk-toggleable__label-arrow:before {content: \"▸\";float: left;margin-right: 0.25em;color: #696969;}#sk-container-id-9 label.sk-toggleable__label-arrow:hover:before {color: black;}#sk-container-id-9 div.sk-estimator:hover label.sk-toggleable__label-arrow:before {color: black;}#sk-container-id-9 div.sk-toggleable__content {max-height: 0;max-width: 0;overflow: hidden;text-align: left;background-color: #f0f8ff;}#sk-container-id-9 div.sk-toggleable__content pre {margin: 0.2em;color: black;border-radius: 0.25em;background-color: #f0f8ff;}#sk-container-id-9 input.sk-toggleable__control:checked~div.sk-toggleable__content {max-height: 200px;max-width: 100%;overflow: auto;}#sk-container-id-9 input.sk-toggleable__control:checked~label.sk-toggleable__label-arrow:before {content: \"▾\";}#sk-container-id-9 div.sk-estimator input.sk-toggleable__control:checked~label.sk-toggleable__label {background-color: #d4ebff;}#sk-container-id-9 div.sk-label input.sk-toggleable__control:checked~label.sk-toggleable__label {background-color: #d4ebff;}#sk-container-id-9 input.sk-hidden--visually {border: 0;clip: rect(1px 1px 1px 1px);clip: rect(1px, 1px, 1px, 1px);height: 1px;margin: -1px;overflow: hidden;padding: 0;position: absolute;width: 1px;}#sk-container-id-9 div.sk-estimator {font-family: monospace;background-color: #f0f8ff;border: 1px dotted black;border-radius: 0.25em;box-sizing: border-box;margin-bottom: 0.5em;}#sk-container-id-9 div.sk-estimator:hover {background-color: #d4ebff;}#sk-container-id-9 div.sk-parallel-item::after {content: \"\";width: 100%;border-bottom: 1px solid gray;flex-grow: 1;}#sk-container-id-9 div.sk-label:hover label.sk-toggleable__label {background-color: #d4ebff;}#sk-container-id-9 div.sk-serial::before {content: \"\";position: absolute;border-left: 1px solid gray;box-sizing: border-box;top: 0;bottom: 0;left: 50%;z-index: 0;}#sk-container-id-9 div.sk-serial {display: flex;flex-direction: column;align-items: center;background-color: white;padding-right: 0.2em;padding-left: 0.2em;position: relative;}#sk-container-id-9 div.sk-item {position: relative;z-index: 1;}#sk-container-id-9 div.sk-parallel {display: flex;align-items: stretch;justify-content: center;background-color: white;position: relative;}#sk-container-id-9 div.sk-item::before, #sk-container-id-9 div.sk-parallel-item::before {content: \"\";position: absolute;border-left: 1px solid gray;box-sizing: border-box;top: 0;bottom: 0;left: 50%;z-index: -1;}#sk-container-id-9 div.sk-parallel-item {display: flex;flex-direction: column;z-index: 1;position: relative;background-color: white;}#sk-container-id-9 div.sk-parallel-item:first-child::after {align-self: flex-end;width: 50%;}#sk-container-id-9 div.sk-parallel-item:last-child::after {align-self: flex-start;width: 50%;}#sk-container-id-9 div.sk-parallel-item:only-child::after {width: 0;}#sk-container-id-9 div.sk-dashed-wrapped {border: 1px dashed gray;margin: 0 0.4em 0.5em 0.4em;box-sizing: border-box;padding-bottom: 0.4em;background-color: white;}#sk-container-id-9 div.sk-label label {font-family: monospace;font-weight: bold;display: inline-block;line-height: 1.2em;}#sk-container-id-9 div.sk-label-container {text-align: center;}#sk-container-id-9 div.sk-container {/* jupyter's `normalize.less` sets `[hidden] { display: none; }` but bootstrap.min.css set `[hidden] { display: none !important; }` so we also need the `!important` here to be able to override the default hidden behavior on the sphinx rendered scikit-learn.org. See: https://github.com/scikit-learn/scikit-learn/issues/21755 */display: inline-block !important;position: relative;}#sk-container-id-9 div.sk-text-repr-fallback {display: none;}</style><div id=\"sk-container-id-9\" class=\"sk-top-container\"><div class=\"sk-text-repr-fallback\"><pre>GridSearchCV(cv=4,\n",
              "             estimator=Pipeline(steps=[(&#x27;transfromator&#x27;,\n",
              "                                        Pipeline(steps=[(&#x27;DropFeature&#x27;,\n",
              "                                                         DropFeatures(features_to_drop=[&#x27;fyear&#x27;,\n",
              "                                                                                        &#x27;gvkey&#x27;,\n",
              "                                                                                        &#x27;p_aaer&#x27;])),\n",
              "                                                        (&#x27;Fillna&#x27;,\n",
              "                                                         FillNaa())])),\n",
              "                                       (&#x27;scaler&#x27;, MinMaxScaler()),\n",
              "                                       (&#x27;modelRFbase&#x27;,\n",
              "                                        RandomForestClassifier(random_state=42))]),\n",
              "             param_grid={&#x27;modelRFbase__max_depth&#x27;: (1, 2, 3, 4, 5),\n",
              "                         &#x27;modelRFbase__n_estimators&#x27;: (10, 20, 30, 40, 50)},\n",
              "             scoring=&#x27;recall&#x27;)</pre><b>In a Jupyter environment, please rerun this cell to show the HTML representation or trust the notebook. <br />On GitHub, the HTML representation is unable to render, please try loading this page with nbviewer.org.</b></div><div class=\"sk-container\" hidden><div class=\"sk-item sk-dashed-wrapped\"><div class=\"sk-label-container\"><div class=\"sk-label sk-toggleable\"><input class=\"sk-toggleable__control sk-hidden--visually\" id=\"sk-estimator-id-49\" type=\"checkbox\" ><label for=\"sk-estimator-id-49\" class=\"sk-toggleable__label sk-toggleable__label-arrow\">GridSearchCV</label><div class=\"sk-toggleable__content\"><pre>GridSearchCV(cv=4,\n",
              "             estimator=Pipeline(steps=[(&#x27;transfromator&#x27;,\n",
              "                                        Pipeline(steps=[(&#x27;DropFeature&#x27;,\n",
              "                                                         DropFeatures(features_to_drop=[&#x27;fyear&#x27;,\n",
              "                                                                                        &#x27;gvkey&#x27;,\n",
              "                                                                                        &#x27;p_aaer&#x27;])),\n",
              "                                                        (&#x27;Fillna&#x27;,\n",
              "                                                         FillNaa())])),\n",
              "                                       (&#x27;scaler&#x27;, MinMaxScaler()),\n",
              "                                       (&#x27;modelRFbase&#x27;,\n",
              "                                        RandomForestClassifier(random_state=42))]),\n",
              "             param_grid={&#x27;modelRFbase__max_depth&#x27;: (1, 2, 3, 4, 5),\n",
              "                         &#x27;modelRFbase__n_estimators&#x27;: (10, 20, 30, 40, 50)},\n",
              "             scoring=&#x27;recall&#x27;)</pre></div></div></div><div class=\"sk-parallel\"><div class=\"sk-parallel-item\"><div class=\"sk-item\"><div class=\"sk-label-container\"><div class=\"sk-label sk-toggleable\"><input class=\"sk-toggleable__control sk-hidden--visually\" id=\"sk-estimator-id-50\" type=\"checkbox\" ><label for=\"sk-estimator-id-50\" class=\"sk-toggleable__label sk-toggleable__label-arrow\">estimator: Pipeline</label><div class=\"sk-toggleable__content\"><pre>Pipeline(steps=[(&#x27;transfromator&#x27;,\n",
              "                 Pipeline(steps=[(&#x27;DropFeature&#x27;,\n",
              "                                  DropFeatures(features_to_drop=[&#x27;fyear&#x27;,\n",
              "                                                                 &#x27;gvkey&#x27;,\n",
              "                                                                 &#x27;p_aaer&#x27;])),\n",
              "                                 (&#x27;Fillna&#x27;, FillNaa())])),\n",
              "                (&#x27;scaler&#x27;, MinMaxScaler()),\n",
              "                (&#x27;modelRFbase&#x27;, RandomForestClassifier(random_state=42))])</pre></div></div></div><div class=\"sk-serial\"><div class=\"sk-item\"><div class=\"sk-serial\"><div class=\"sk-item\"><div class=\"sk-label-container\"><div class=\"sk-label sk-toggleable\"><input class=\"sk-toggleable__control sk-hidden--visually\" id=\"sk-estimator-id-51\" type=\"checkbox\" ><label for=\"sk-estimator-id-51\" class=\"sk-toggleable__label sk-toggleable__label-arrow\">transfromator: Pipeline</label><div class=\"sk-toggleable__content\"><pre>Pipeline(steps=[(&#x27;DropFeature&#x27;,\n",
              "                 DropFeatures(features_to_drop=[&#x27;fyear&#x27;, &#x27;gvkey&#x27;, &#x27;p_aaer&#x27;])),\n",
              "                (&#x27;Fillna&#x27;, FillNaa())])</pre></div></div></div><div class=\"sk-serial\"><div class=\"sk-item\"><div class=\"sk-estimator sk-toggleable\"><input class=\"sk-toggleable__control sk-hidden--visually\" id=\"sk-estimator-id-52\" type=\"checkbox\" ><label for=\"sk-estimator-id-52\" class=\"sk-toggleable__label sk-toggleable__label-arrow\">DropFeatures</label><div class=\"sk-toggleable__content\"><pre>DropFeatures(features_to_drop=[&#x27;fyear&#x27;, &#x27;gvkey&#x27;, &#x27;p_aaer&#x27;])</pre></div></div></div><div class=\"sk-item\"><div class=\"sk-estimator sk-toggleable\"><input class=\"sk-toggleable__control sk-hidden--visually\" id=\"sk-estimator-id-53\" type=\"checkbox\" ><label for=\"sk-estimator-id-53\" class=\"sk-toggleable__label sk-toggleable__label-arrow\">FillNaa</label><div class=\"sk-toggleable__content\"><pre>FillNaa()</pre></div></div></div></div></div><div class=\"sk-item\"><div class=\"sk-estimator sk-toggleable\"><input class=\"sk-toggleable__control sk-hidden--visually\" id=\"sk-estimator-id-54\" type=\"checkbox\" ><label for=\"sk-estimator-id-54\" class=\"sk-toggleable__label sk-toggleable__label-arrow\">MinMaxScaler</label><div class=\"sk-toggleable__content\"><pre>MinMaxScaler()</pre></div></div></div><div class=\"sk-item\"><div class=\"sk-estimator sk-toggleable\"><input class=\"sk-toggleable__control sk-hidden--visually\" id=\"sk-estimator-id-55\" type=\"checkbox\" ><label for=\"sk-estimator-id-55\" class=\"sk-toggleable__label sk-toggleable__label-arrow\">RandomForestClassifier</label><div class=\"sk-toggleable__content\"><pre>RandomForestClassifier(random_state=42)</pre></div></div></div></div></div></div></div></div></div></div></div></div>"
            ],
            "text/plain": [
              "GridSearchCV(cv=4,\n",
              "             estimator=Pipeline(steps=[('transfromator',\n",
              "                                        Pipeline(steps=[('DropFeature',\n",
              "                                                         DropFeatures(features_to_drop=['fyear',\n",
              "                                                                                        'gvkey',\n",
              "                                                                                        'p_aaer'])),\n",
              "                                                        ('Fillna',\n",
              "                                                         FillNaa())])),\n",
              "                                       ('scaler', MinMaxScaler()),\n",
              "                                       ('modelRFbase',\n",
              "                                        RandomForestClassifier(random_state=42))]),\n",
              "             param_grid={'modelRFbase__max_depth': (1, 2, 3, 4, 5),\n",
              "                         'modelRFbase__n_estimators': (10, 20, 30, 40, 50)},\n",
              "             scoring='recall')"
            ]
          },
          "execution_count": 65,
          "metadata": {},
          "output_type": "execute_result"
        }
      ],
      "source": [
        "parameters = {\n",
        "    'modelRFbase__n_estimators': (10,20,30,40,50),\n",
        "    'modelRFbase__max_depth':(1,2,3,4,5)\n",
        "}\n",
        "\n",
        "model_gridcv = GridSearchCV(estimator = RF_base, param_grid = parameters, cv=4, scoring='recall')\n",
        "model_gridcv.fit(X_res, y_res)"
      ]
    },
    {
      "cell_type": "code",
      "execution_count": null,
      "metadata": {
        "id": "pCMhb3VI4OsE",
        "outputId": "fcb00a18-2cc2-4553-ee72-fd4d7e165574"
      },
      "outputs": [
        {
          "data": {
            "text/html": [
              "<div>\n",
              "<style scoped>\n",
              "    .dataframe tbody tr th:only-of-type {\n",
              "        vertical-align: middle;\n",
              "    }\n",
              "\n",
              "    .dataframe tbody tr th {\n",
              "        vertical-align: top;\n",
              "    }\n",
              "\n",
              "    .dataframe thead th {\n",
              "        text-align: right;\n",
              "    }\n",
              "</style>\n",
              "<table border=\"1\" class=\"dataframe\">\n",
              "  <thead>\n",
              "    <tr style=\"text-align: right;\">\n",
              "      <th></th>\n",
              "      <th>params</th>\n",
              "      <th>mean_test_score</th>\n",
              "      <th>rank_test_score</th>\n",
              "    </tr>\n",
              "  </thead>\n",
              "  <tbody>\n",
              "    <tr>\n",
              "      <th>21</th>\n",
              "      <td>{'modelRFbase__max_depth': 5, 'modelRFbase__n_...</td>\n",
              "      <td>0.849140</td>\n",
              "      <td>1</td>\n",
              "    </tr>\n",
              "    <tr>\n",
              "      <th>23</th>\n",
              "      <td>{'modelRFbase__max_depth': 5, 'modelRFbase__n_...</td>\n",
              "      <td>0.844821</td>\n",
              "      <td>2</td>\n",
              "    </tr>\n",
              "    <tr>\n",
              "      <th>24</th>\n",
              "      <td>{'modelRFbase__max_depth': 5, 'modelRFbase__n_...</td>\n",
              "      <td>0.844760</td>\n",
              "      <td>3</td>\n",
              "    </tr>\n",
              "    <tr>\n",
              "      <th>20</th>\n",
              "      <td>{'modelRFbase__max_depth': 5, 'modelRFbase__n_...</td>\n",
              "      <td>0.839387</td>\n",
              "      <td>4</td>\n",
              "    </tr>\n",
              "    <tr>\n",
              "      <th>22</th>\n",
              "      <td>{'modelRFbase__max_depth': 5, 'modelRFbase__n_...</td>\n",
              "      <td>0.839276</td>\n",
              "      <td>5</td>\n",
              "    </tr>\n",
              "    <tr>\n",
              "      <th>14</th>\n",
              "      <td>{'modelRFbase__max_depth': 3, 'modelRFbase__n_...</td>\n",
              "      <td>0.808508</td>\n",
              "      <td>6</td>\n",
              "    </tr>\n",
              "    <tr>\n",
              "      <th>19</th>\n",
              "      <td>{'modelRFbase__max_depth': 4, 'modelRFbase__n_...</td>\n",
              "      <td>0.808376</td>\n",
              "      <td>7</td>\n",
              "    </tr>\n",
              "    <tr>\n",
              "      <th>16</th>\n",
              "      <td>{'modelRFbase__max_depth': 4, 'modelRFbase__n_...</td>\n",
              "      <td>0.804746</td>\n",
              "      <td>8</td>\n",
              "    </tr>\n",
              "    <tr>\n",
              "      <th>11</th>\n",
              "      <td>{'modelRFbase__max_depth': 3, 'modelRFbase__n_...</td>\n",
              "      <td>0.804229</td>\n",
              "      <td>9</td>\n",
              "    </tr>\n",
              "    <tr>\n",
              "      <th>10</th>\n",
              "      <td>{'modelRFbase__max_depth': 3, 'modelRFbase__n_...</td>\n",
              "      <td>0.801827</td>\n",
              "      <td>10</td>\n",
              "    </tr>\n",
              "    <tr>\n",
              "      <th>6</th>\n",
              "      <td>{'modelRFbase__max_depth': 2, 'modelRFbase__n_...</td>\n",
              "      <td>0.799586</td>\n",
              "      <td>11</td>\n",
              "    </tr>\n",
              "    <tr>\n",
              "      <th>13</th>\n",
              "      <td>{'modelRFbase__max_depth': 3, 'modelRFbase__n_...</td>\n",
              "      <td>0.798441</td>\n",
              "      <td>12</td>\n",
              "    </tr>\n",
              "    <tr>\n",
              "      <th>15</th>\n",
              "      <td>{'modelRFbase__max_depth': 4, 'modelRFbase__n_...</td>\n",
              "      <td>0.797985</td>\n",
              "      <td>13</td>\n",
              "    </tr>\n",
              "    <tr>\n",
              "      <th>18</th>\n",
              "      <td>{'modelRFbase__max_depth': 4, 'modelRFbase__n_...</td>\n",
              "      <td>0.797052</td>\n",
              "      <td>14</td>\n",
              "    </tr>\n",
              "    <tr>\n",
              "      <th>8</th>\n",
              "      <td>{'modelRFbase__max_depth': 2, 'modelRFbase__n_...</td>\n",
              "      <td>0.795389</td>\n",
              "      <td>15</td>\n",
              "    </tr>\n",
              "    <tr>\n",
              "      <th>17</th>\n",
              "      <td>{'modelRFbase__max_depth': 4, 'modelRFbase__n_...</td>\n",
              "      <td>0.792743</td>\n",
              "      <td>16</td>\n",
              "    </tr>\n",
              "    <tr>\n",
              "      <th>12</th>\n",
              "      <td>{'modelRFbase__max_depth': 3, 'modelRFbase__n_...</td>\n",
              "      <td>0.792105</td>\n",
              "      <td>17</td>\n",
              "    </tr>\n",
              "    <tr>\n",
              "      <th>9</th>\n",
              "      <td>{'modelRFbase__max_depth': 2, 'modelRFbase__n_...</td>\n",
              "      <td>0.791405</td>\n",
              "      <td>18</td>\n",
              "    </tr>\n",
              "    <tr>\n",
              "      <th>7</th>\n",
              "      <td>{'modelRFbase__max_depth': 2, 'modelRFbase__n_...</td>\n",
              "      <td>0.787776</td>\n",
              "      <td>19</td>\n",
              "    </tr>\n",
              "    <tr>\n",
              "      <th>5</th>\n",
              "      <td>{'modelRFbase__max_depth': 2, 'modelRFbase__n_...</td>\n",
              "      <td>0.787289</td>\n",
              "      <td>20</td>\n",
              "    </tr>\n",
              "    <tr>\n",
              "      <th>1</th>\n",
              "      <td>{'modelRFbase__max_depth': 1, 'modelRFbase__n_...</td>\n",
              "      <td>0.780690</td>\n",
              "      <td>21</td>\n",
              "    </tr>\n",
              "    <tr>\n",
              "      <th>0</th>\n",
              "      <td>{'modelRFbase__max_depth': 1, 'modelRFbase__n_...</td>\n",
              "      <td>0.773674</td>\n",
              "      <td>22</td>\n",
              "    </tr>\n",
              "    <tr>\n",
              "      <th>3</th>\n",
              "      <td>{'modelRFbase__max_depth': 1, 'modelRFbase__n_...</td>\n",
              "      <td>0.773563</td>\n",
              "      <td>23</td>\n",
              "    </tr>\n",
              "    <tr>\n",
              "      <th>2</th>\n",
              "      <td>{'modelRFbase__max_depth': 1, 'modelRFbase__n_...</td>\n",
              "      <td>0.769771</td>\n",
              "      <td>24</td>\n",
              "    </tr>\n",
              "    <tr>\n",
              "      <th>4</th>\n",
              "      <td>{'modelRFbase__max_depth': 1, 'modelRFbase__n_...</td>\n",
              "      <td>0.761154</td>\n",
              "      <td>25</td>\n",
              "    </tr>\n",
              "  </tbody>\n",
              "</table>\n",
              "</div>"
            ],
            "text/plain": [
              "                                               params  mean_test_score  \\\n",
              "21  {'modelRFbase__max_depth': 5, 'modelRFbase__n_...         0.849140   \n",
              "23  {'modelRFbase__max_depth': 5, 'modelRFbase__n_...         0.844821   \n",
              "24  {'modelRFbase__max_depth': 5, 'modelRFbase__n_...         0.844760   \n",
              "20  {'modelRFbase__max_depth': 5, 'modelRFbase__n_...         0.839387   \n",
              "22  {'modelRFbase__max_depth': 5, 'modelRFbase__n_...         0.839276   \n",
              "14  {'modelRFbase__max_depth': 3, 'modelRFbase__n_...         0.808508   \n",
              "19  {'modelRFbase__max_depth': 4, 'modelRFbase__n_...         0.808376   \n",
              "16  {'modelRFbase__max_depth': 4, 'modelRFbase__n_...         0.804746   \n",
              "11  {'modelRFbase__max_depth': 3, 'modelRFbase__n_...         0.804229   \n",
              "10  {'modelRFbase__max_depth': 3, 'modelRFbase__n_...         0.801827   \n",
              "6   {'modelRFbase__max_depth': 2, 'modelRFbase__n_...         0.799586   \n",
              "13  {'modelRFbase__max_depth': 3, 'modelRFbase__n_...         0.798441   \n",
              "15  {'modelRFbase__max_depth': 4, 'modelRFbase__n_...         0.797985   \n",
              "18  {'modelRFbase__max_depth': 4, 'modelRFbase__n_...         0.797052   \n",
              "8   {'modelRFbase__max_depth': 2, 'modelRFbase__n_...         0.795389   \n",
              "17  {'modelRFbase__max_depth': 4, 'modelRFbase__n_...         0.792743   \n",
              "12  {'modelRFbase__max_depth': 3, 'modelRFbase__n_...         0.792105   \n",
              "9   {'modelRFbase__max_depth': 2, 'modelRFbase__n_...         0.791405   \n",
              "7   {'modelRFbase__max_depth': 2, 'modelRFbase__n_...         0.787776   \n",
              "5   {'modelRFbase__max_depth': 2, 'modelRFbase__n_...         0.787289   \n",
              "1   {'modelRFbase__max_depth': 1, 'modelRFbase__n_...         0.780690   \n",
              "0   {'modelRFbase__max_depth': 1, 'modelRFbase__n_...         0.773674   \n",
              "3   {'modelRFbase__max_depth': 1, 'modelRFbase__n_...         0.773563   \n",
              "2   {'modelRFbase__max_depth': 1, 'modelRFbase__n_...         0.769771   \n",
              "4   {'modelRFbase__max_depth': 1, 'modelRFbase__n_...         0.761154   \n",
              "\n",
              "    rank_test_score  \n",
              "21                1  \n",
              "23                2  \n",
              "24                3  \n",
              "20                4  \n",
              "22                5  \n",
              "14                6  \n",
              "19                7  \n",
              "16                8  \n",
              "11                9  \n",
              "10               10  \n",
              "6                11  \n",
              "13               12  \n",
              "15               13  \n",
              "18               14  \n",
              "8                15  \n",
              "17               16  \n",
              "12               17  \n",
              "9                18  \n",
              "7                19  \n",
              "5                20  \n",
              "1                21  \n",
              "0                22  \n",
              "3                23  \n",
              "2                24  \n",
              "4                25  "
            ]
          },
          "execution_count": 66,
          "metadata": {},
          "output_type": "execute_result"
        }
      ],
      "source": [
        "# the results\n",
        "cv_result = pd.DataFrame(model_gridcv.cv_results_)\n",
        "retain_cols = ['params','mean_test_score','rank_test_score']\n",
        "cv_result[retain_cols].sort_values('rank_test_score')"
      ]
    },
    {
      "cell_type": "code",
      "execution_count": null,
      "metadata": {
        "id": "7e7oosUU4OsE",
        "outputId": "20380c9f-2730-4c93-88e2-ab582f1c37f5"
      },
      "outputs": [
        {
          "data": {
            "image/png": "[encoded data removed]",
            "text/plain": [
              "<Figure size 720x504 with 2 Axes>"
            ]
          },
          "metadata": {
            "needs_background": "light"
          },
          "output_type": "display_data"
        }
      ],
      "source": [
        "# the confusion matrix\n",
        "from sklearn.metrics import confusion_matrix, ConfusionMatrixDisplay\n",
        "\n",
        "fig, ax = plt.subplots(figsize=(10,7))\n",
        "y_pred = model_gridcv.best_estimator_.predict(X_eval)\n",
        "\n",
        "cm = confusion_matrix(y_eval, y_pred, labels=model_gridcv.best_estimator_.classes_)\n",
        "disp = ConfusionMatrixDisplay(confusion_matrix=cm,\n",
        "                             display_labels=model_gridcv.best_estimator_.classes_)\n",
        "disp.plot(ax=ax)\n",
        "plt.show()"
      ]
    },
    {
      "cell_type": "code",
      "execution_count": null,
      "metadata": {
        "id": "WRUpMcIr4OsE",
        "outputId": "94964cd8-aae3-4ebe-8b0f-bce4a3a976f9"
      },
      "outputs": [
        {
          "name": "stdout",
          "output_type": "stream",
          "text": [
            "              precision    recall  f1-score   support\n",
            "\n",
            "           0       1.00      0.70      0.82     21767\n",
            "           1       0.01      0.66      0.03       140\n",
            "\n",
            "    accuracy                           0.70     21907\n",
            "   macro avg       0.51      0.68      0.42     21907\n",
            "weighted avg       0.99      0.70      0.82     21907\n",
            "\n"
          ]
        }
      ],
      "source": [
        "# classification report\n",
        "from sklearn.metrics import classification_report\n",
        "y_pred = model_gridcv.best_estimator_.predict(X_test)\n",
        "print(classification_report(y_test, y_pred))"
      ]
    },
    {
      "cell_type": "markdown",
      "metadata": {
        "id": "LqmZt5Pm4OsF"
      },
      "source": [
        "### Xgboost menggunakan Balanced data & hyperparameter Tunning"
      ]
    },
    {
      "cell_type": "code",
      "execution_count": null,
      "metadata": {
        "id": "97wkrVZh4OsF",
        "outputId": "0e8ce137-c019-4465-fd27-ccef2ec802b6"
      },
      "outputs": [
        {
          "data": {
            "text/html": [
              "<style>#sk-container-id-10 {color: black;background-color: white;}#sk-container-id-10 pre{padding: 0;}#sk-container-id-10 div.sk-toggleable {background-color: white;}#sk-container-id-10 label.sk-toggleable__label {cursor: pointer;display: block;width: 100%;margin-bottom: 0;padding: 0.3em;box-sizing: border-box;text-align: center;}#sk-container-id-10 label.sk-toggleable__label-arrow:before {content: \"▸\";float: left;margin-right: 0.25em;color: #696969;}#sk-container-id-10 label.sk-toggleable__label-arrow:hover:before {color: black;}#sk-container-id-10 div.sk-estimator:hover label.sk-toggleable__label-arrow:before {color: black;}#sk-container-id-10 div.sk-toggleable__content {max-height: 0;max-width: 0;overflow: hidden;text-align: left;background-color: #f0f8ff;}#sk-container-id-10 div.sk-toggleable__content pre {margin: 0.2em;color: black;border-radius: 0.25em;background-color: #f0f8ff;}#sk-container-id-10 input.sk-toggleable__control:checked~div.sk-toggleable__content {max-height: 200px;max-width: 100%;overflow: auto;}#sk-container-id-10 input.sk-toggleable__control:checked~label.sk-toggleable__label-arrow:before {content: \"▾\";}#sk-container-id-10 div.sk-estimator input.sk-toggleable__control:checked~label.sk-toggleable__label {background-color: #d4ebff;}#sk-container-id-10 div.sk-label input.sk-toggleable__control:checked~label.sk-toggleable__label {background-color: #d4ebff;}#sk-container-id-10 input.sk-hidden--visually {border: 0;clip: rect(1px 1px 1px 1px);clip: rect(1px, 1px, 1px, 1px);height: 1px;margin: -1px;overflow: hidden;padding: 0;position: absolute;width: 1px;}#sk-container-id-10 div.sk-estimator {font-family: monospace;background-color: #f0f8ff;border: 1px dotted black;border-radius: 0.25em;box-sizing: border-box;margin-bottom: 0.5em;}#sk-container-id-10 div.sk-estimator:hover {background-color: #d4ebff;}#sk-container-id-10 div.sk-parallel-item::after {content: \"\";width: 100%;border-bottom: 1px solid gray;flex-grow: 1;}#sk-container-id-10 div.sk-label:hover label.sk-toggleable__label {background-color: #d4ebff;}#sk-container-id-10 div.sk-serial::before {content: \"\";position: absolute;border-left: 1px solid gray;box-sizing: border-box;top: 0;bottom: 0;left: 50%;z-index: 0;}#sk-container-id-10 div.sk-serial {display: flex;flex-direction: column;align-items: center;background-color: white;padding-right: 0.2em;padding-left: 0.2em;position: relative;}#sk-container-id-10 div.sk-item {position: relative;z-index: 1;}#sk-container-id-10 div.sk-parallel {display: flex;align-items: stretch;justify-content: center;background-color: white;position: relative;}#sk-container-id-10 div.sk-item::before, #sk-container-id-10 div.sk-parallel-item::before {content: \"\";position: absolute;border-left: 1px solid gray;box-sizing: border-box;top: 0;bottom: 0;left: 50%;z-index: -1;}#sk-container-id-10 div.sk-parallel-item {display: flex;flex-direction: column;z-index: 1;position: relative;background-color: white;}#sk-container-id-10 div.sk-parallel-item:first-child::after {align-self: flex-end;width: 50%;}#sk-container-id-10 div.sk-parallel-item:last-child::after {align-self: flex-start;width: 50%;}#sk-container-id-10 div.sk-parallel-item:only-child::after {width: 0;}#sk-container-id-10 div.sk-dashed-wrapped {border: 1px dashed gray;margin: 0 0.4em 0.5em 0.4em;box-sizing: border-box;padding-bottom: 0.4em;background-color: white;}#sk-container-id-10 div.sk-label label {font-family: monospace;font-weight: bold;display: inline-block;line-height: 1.2em;}#sk-container-id-10 div.sk-label-container {text-align: center;}#sk-container-id-10 div.sk-container {/* jupyter's `normalize.less` sets `[hidden] { display: none; }` but bootstrap.min.css set `[hidden] { display: none !important; }` so we also need the `!important` here to be able to override the default hidden behavior on the sphinx rendered scikit-learn.org. See: https://github.com/scikit-learn/scikit-learn/issues/21755 */display: inline-block !important;position: relative;}#sk-container-id-10 div.sk-text-repr-fallback {display: none;}</style><div id=\"sk-container-id-10\" class=\"sk-top-container\"><div class=\"sk-text-repr-fallback\"><pre>GridSearchCV(cv=4,\n",
              "             estimator=Pipeline(steps=[(&#x27;transfromator&#x27;,\n",
              "                                        Pipeline(steps=[(&#x27;DropFeature&#x27;,\n",
              "                                                         DropFeatures(features_to_drop=[&#x27;fyear&#x27;,\n",
              "                                                                                        &#x27;gvkey&#x27;,\n",
              "                                                                                        &#x27;p_aaer&#x27;])),\n",
              "                                                        (&#x27;Fillna&#x27;,\n",
              "                                                         FillNaa())])),\n",
              "                                       (&#x27;scaler&#x27;, MinMaxScaler()),\n",
              "                                       (&#x27;modelXG&#x27;,\n",
              "                                        XGBRFClassifier(base_score=0.5,\n",
              "                                                        booster=&#x27;gbtree&#x27;,\n",
              "                                                        callbacks=None,\n",
              "                                                        colsample_bylevel=1,\n",
              "                                                        colsample_bytree=1,\n",
              "                                                        early_stopping_rounds=None,\n",
              "                                                        enable_ca...\n",
              "                                                        max_cat_to_onehot=4,\n",
              "                                                        max_delta_step=0,\n",
              "                                                        max_depth=6,\n",
              "                                                        max_leaves=0,\n",
              "                                                        min_child_weight=1,\n",
              "                                                        missing=nan,\n",
              "                                                        monotone_constraints=&#x27;()&#x27;,\n",
              "                                                        n_estimators=100,\n",
              "                                                        n_jobs=0,\n",
              "                                                        num_parallel_tree=100,\n",
              "                                                        objective=&#x27;binary:logistic&#x27;,\n",
              "                                                        predictor=&#x27;auto&#x27;,\n",
              "                                                        random_state=0,\n",
              "                                                        reg_alpha=0, ...))]),\n",
              "             param_grid={&#x27;modelXG__max_depth&#x27;: (1, 2, 3, 4, 5),\n",
              "                         &#x27;modelXG__n_estimators&#x27;: (10, 20, 30, 40, 50)},\n",
              "             scoring=&#x27;recall&#x27;)</pre><b>In a Jupyter environment, please rerun this cell to show the HTML representation or trust the notebook. <br />On GitHub, the HTML representation is unable to render, please try loading this page with nbviewer.org.</b></div><div class=\"sk-container\" hidden><div class=\"sk-item sk-dashed-wrapped\"><div class=\"sk-label-container\"><div class=\"sk-label sk-toggleable\"><input class=\"sk-toggleable__control sk-hidden--visually\" id=\"sk-estimator-id-56\" type=\"checkbox\" ><label for=\"sk-estimator-id-56\" class=\"sk-toggleable__label sk-toggleable__label-arrow\">GridSearchCV</label><div class=\"sk-toggleable__content\"><pre>GridSearchCV(cv=4,\n",
              "             estimator=Pipeline(steps=[(&#x27;transfromator&#x27;,\n",
              "                                        Pipeline(steps=[(&#x27;DropFeature&#x27;,\n",
              "                                                         DropFeatures(features_to_drop=[&#x27;fyear&#x27;,\n",
              "                                                                                        &#x27;gvkey&#x27;,\n",
              "                                                                                        &#x27;p_aaer&#x27;])),\n",
              "                                                        (&#x27;Fillna&#x27;,\n",
              "                                                         FillNaa())])),\n",
              "                                       (&#x27;scaler&#x27;, MinMaxScaler()),\n",
              "                                       (&#x27;modelXG&#x27;,\n",
              "                                        XGBRFClassifier(base_score=0.5,\n",
              "                                                        booster=&#x27;gbtree&#x27;,\n",
              "                                                        callbacks=None,\n",
              "                                                        colsample_bylevel=1,\n",
              "                                                        colsample_bytree=1,\n",
              "                                                        early_stopping_rounds=None,\n",
              "                                                        enable_ca...\n",
              "                                                        max_cat_to_onehot=4,\n",
              "                                                        max_delta_step=0,\n",
              "                                                        max_depth=6,\n",
              "                                                        max_leaves=0,\n",
              "                                                        min_child_weight=1,\n",
              "                                                        missing=nan,\n",
              "                                                        monotone_constraints=&#x27;()&#x27;,\n",
              "                                                        n_estimators=100,\n",
              "                                                        n_jobs=0,\n",
              "                                                        num_parallel_tree=100,\n",
              "                                                        objective=&#x27;binary:logistic&#x27;,\n",
              "                                                        predictor=&#x27;auto&#x27;,\n",
              "                                                        random_state=0,\n",
              "                                                        reg_alpha=0, ...))]),\n",
              "             param_grid={&#x27;modelXG__max_depth&#x27;: (1, 2, 3, 4, 5),\n",
              "                         &#x27;modelXG__n_estimators&#x27;: (10, 20, 30, 40, 50)},\n",
              "             scoring=&#x27;recall&#x27;)</pre></div></div></div><div class=\"sk-parallel\"><div class=\"sk-parallel-item\"><div class=\"sk-item\"><div class=\"sk-label-container\"><div class=\"sk-label sk-toggleable\"><input class=\"sk-toggleable__control sk-hidden--visually\" id=\"sk-estimator-id-57\" type=\"checkbox\" ><label for=\"sk-estimator-id-57\" class=\"sk-toggleable__label sk-toggleable__label-arrow\">estimator: Pipeline</label><div class=\"sk-toggleable__content\"><pre>Pipeline(steps=[(&#x27;transfromator&#x27;,\n",
              "                 Pipeline(steps=[(&#x27;DropFeature&#x27;,\n",
              "                                  DropFeatures(features_to_drop=[&#x27;fyear&#x27;,\n",
              "                                                                 &#x27;gvkey&#x27;,\n",
              "                                                                 &#x27;p_aaer&#x27;])),\n",
              "                                 (&#x27;Fillna&#x27;, FillNaa())])),\n",
              "                (&#x27;scaler&#x27;, MinMaxScaler()),\n",
              "                (&#x27;modelXG&#x27;,\n",
              "                 XGBRFClassifier(base_score=0.5, booster=&#x27;gbtree&#x27;,\n",
              "                                 callbacks=None, colsample_bylevel=1,\n",
              "                                 colsample_bytree=1, early_stopping_rounds=None,\n",
              "                                 enable_categorical=False, eval_metric=...\n",
              "                                 grow_policy=&#x27;depthwise&#x27;, importance_type=None,\n",
              "                                 interaction_constraints=&#x27;&#x27;, max_bin=256,\n",
              "                                 max_cat_threshold=64, max_cat_to_onehot=4,\n",
              "                                 max_delta_step=0, max_depth=6, max_leaves=0,\n",
              "                                 min_child_weight=1, missing=nan,\n",
              "                                 monotone_constraints=&#x27;()&#x27;, n_estimators=100,\n",
              "                                 n_jobs=0, num_parallel_tree=100,\n",
              "                                 objective=&#x27;binary:logistic&#x27;, predictor=&#x27;auto&#x27;,\n",
              "                                 random_state=0, reg_alpha=0, ...))])</pre></div></div></div><div class=\"sk-serial\"><div class=\"sk-item\"><div class=\"sk-serial\"><div class=\"sk-item\"><div class=\"sk-label-container\"><div class=\"sk-label sk-toggleable\"><input class=\"sk-toggleable__control sk-hidden--visually\" id=\"sk-estimator-id-58\" type=\"checkbox\" ><label for=\"sk-estimator-id-58\" class=\"sk-toggleable__label sk-toggleable__label-arrow\">transfromator: Pipeline</label><div class=\"sk-toggleable__content\"><pre>Pipeline(steps=[(&#x27;DropFeature&#x27;,\n",
              "                 DropFeatures(features_to_drop=[&#x27;fyear&#x27;, &#x27;gvkey&#x27;, &#x27;p_aaer&#x27;])),\n",
              "                (&#x27;Fillna&#x27;, FillNaa())])</pre></div></div></div><div class=\"sk-serial\"><div class=\"sk-item\"><div class=\"sk-estimator sk-toggleable\"><input class=\"sk-toggleable__control sk-hidden--visually\" id=\"sk-estimator-id-59\" type=\"checkbox\" ><label for=\"sk-estimator-id-59\" class=\"sk-toggleable__label sk-toggleable__label-arrow\">DropFeatures</label><div class=\"sk-toggleable__content\"><pre>DropFeatures(features_to_drop=[&#x27;fyear&#x27;, &#x27;gvkey&#x27;, &#x27;p_aaer&#x27;])</pre></div></div></div><div class=\"sk-item\"><div class=\"sk-estimator sk-toggleable\"><input class=\"sk-toggleable__control sk-hidden--visually\" id=\"sk-estimator-id-60\" type=\"checkbox\" ><label for=\"sk-estimator-id-60\" class=\"sk-toggleable__label sk-toggleable__label-arrow\">FillNaa</label><div class=\"sk-toggleable__content\"><pre>FillNaa()</pre></div></div></div></div></div><div class=\"sk-item\"><div class=\"sk-estimator sk-toggleable\"><input class=\"sk-toggleable__control sk-hidden--visually\" id=\"sk-estimator-id-61\" type=\"checkbox\" ><label for=\"sk-estimator-id-61\" class=\"sk-toggleable__label sk-toggleable__label-arrow\">MinMaxScaler</label><div class=\"sk-toggleable__content\"><pre>MinMaxScaler()</pre></div></div></div><div class=\"sk-item\"><div class=\"sk-estimator sk-toggleable\"><input class=\"sk-toggleable__control sk-hidden--visually\" id=\"sk-estimator-id-62\" type=\"checkbox\" ><label for=\"sk-estimator-id-62\" class=\"sk-toggleable__label sk-toggleable__label-arrow\">XGBRFClassifier</label><div class=\"sk-toggleable__content\"><pre>XGBRFClassifier(base_score=0.5, booster=&#x27;gbtree&#x27;, callbacks=None,\n",
              "                colsample_bylevel=1, colsample_bytree=1,\n",
              "                early_stopping_rounds=None, enable_categorical=False,\n",
              "                eval_metric=None, feature_types=None, gamma=0, gpu_id=-1,\n",
              "                grow_policy=&#x27;depthwise&#x27;, importance_type=None,\n",
              "                interaction_constraints=&#x27;&#x27;, max_bin=256, max_cat_threshold=64,\n",
              "                max_cat_to_onehot=4, max_delta_step=0, max_depth=6,\n",
              "                max_leaves=0, min_child_weight=1, missing=nan,\n",
              "                monotone_constraints=&#x27;()&#x27;, n_estimators=100, n_jobs=0,\n",
              "                num_parallel_tree=100, objective=&#x27;binary:logistic&#x27;,\n",
              "                predictor=&#x27;auto&#x27;, random_state=0, reg_alpha=0, ...)</pre></div></div></div></div></div></div></div></div></div></div></div></div>"
            ],
            "text/plain": [
              "GridSearchCV(cv=4,\n",
              "             estimator=Pipeline(steps=[('transfromator',\n",
              "                                        Pipeline(steps=[('DropFeature',\n",
              "                                                         DropFeatures(features_to_drop=['fyear',\n",
              "                                                                                        'gvkey',\n",
              "                                                                                        'p_aaer'])),\n",
              "                                                        ('Fillna',\n",
              "                                                         FillNaa())])),\n",
              "                                       ('scaler', MinMaxScaler()),\n",
              "                                       ('modelXG',\n",
              "                                        XGBRFClassifier(base_score=0.5,\n",
              "                                                        booster='gbtree',\n",
              "                                                        callbacks=None,\n",
              "                                                        colsample_bylevel=1,\n",
              "                                                        colsample_bytree=1,\n",
              "                                                        early_stopping_rounds=None,\n",
              "                                                        enable_ca...\n",
              "                                                        max_cat_to_onehot=4,\n",
              "                                                        max_delta_step=0,\n",
              "                                                        max_depth=6,\n",
              "                                                        max_leaves=0,\n",
              "                                                        min_child_weight=1,\n",
              "                                                        missing=nan,\n",
              "                                                        monotone_constraints='()',\n",
              "                                                        n_estimators=100,\n",
              "                                                        n_jobs=0,\n",
              "                                                        num_parallel_tree=100,\n",
              "                                                        objective='binary:logistic',\n",
              "                                                        predictor='auto',\n",
              "                                                        random_state=0,\n",
              "                                                        reg_alpha=0, ...))]),\n",
              "             param_grid={'modelXG__max_depth': (1, 2, 3, 4, 5),\n",
              "                         'modelXG__n_estimators': (10, 20, 30, 40, 50)},\n",
              "             scoring='recall')"
            ]
          },
          "execution_count": 70,
          "metadata": {},
          "output_type": "execute_result"
        }
      ],
      "source": [
        "parameters = {\n",
        "    'modelXG__n_estimators': (10,20,30,40,50),\n",
        "    'modelXG__max_depth':(1,2,3,4,5)\n",
        "}\n",
        "\n",
        "model_gridcvxg = GridSearchCV(estimator = XG_base, param_grid = parameters, cv=4, scoring='recall')\n",
        "model_gridcvxg.fit(X_res, y_res)"
      ]
    },
    {
      "cell_type": "code",
      "execution_count": null,
      "metadata": {
        "id": "iShDEvAT4OsF",
        "outputId": "df4573e8-40a6-44a1-c5af-a3251a7bdd98"
      },
      "outputs": [
        {
          "data": {
            "text/html": [
              "<div>\n",
              "<style scoped>\n",
              "    .dataframe tbody tr th:only-of-type {\n",
              "        vertical-align: middle;\n",
              "    }\n",
              "\n",
              "    .dataframe tbody tr th {\n",
              "        vertical-align: top;\n",
              "    }\n",
              "\n",
              "    .dataframe thead th {\n",
              "        text-align: right;\n",
              "    }\n",
              "</style>\n",
              "<table border=\"1\" class=\"dataframe\">\n",
              "  <thead>\n",
              "    <tr style=\"text-align: right;\">\n",
              "      <th></th>\n",
              "      <th>params</th>\n",
              "      <th>mean_test_score</th>\n",
              "      <th>rank_test_score</th>\n",
              "    </tr>\n",
              "  </thead>\n",
              "  <tbody>\n",
              "    <tr>\n",
              "      <th>1</th>\n",
              "      <td>{'modelXG__max_depth': 1, 'modelXG__n_estimato...</td>\n",
              "      <td>0.857828</td>\n",
              "      <td>1</td>\n",
              "    </tr>\n",
              "    <tr>\n",
              "      <th>2</th>\n",
              "      <td>{'modelXG__max_depth': 1, 'modelXG__n_estimato...</td>\n",
              "      <td>0.857808</td>\n",
              "      <td>2</td>\n",
              "    </tr>\n",
              "    <tr>\n",
              "      <th>3</th>\n",
              "      <td>{'modelXG__max_depth': 1, 'modelXG__n_estimato...</td>\n",
              "      <td>0.857797</td>\n",
              "      <td>3</td>\n",
              "    </tr>\n",
              "    <tr>\n",
              "      <th>4</th>\n",
              "      <td>{'modelXG__max_depth': 1, 'modelXG__n_estimato...</td>\n",
              "      <td>0.857787</td>\n",
              "      <td>4</td>\n",
              "    </tr>\n",
              "    <tr>\n",
              "      <th>0</th>\n",
              "      <td>{'modelXG__max_depth': 1, 'modelXG__n_estimato...</td>\n",
              "      <td>0.853195</td>\n",
              "      <td>5</td>\n",
              "    </tr>\n",
              "    <tr>\n",
              "      <th>22</th>\n",
              "      <td>{'modelXG__max_depth': 5, 'modelXG__n_estimato...</td>\n",
              "      <td>0.841030</td>\n",
              "      <td>6</td>\n",
              "    </tr>\n",
              "    <tr>\n",
              "      <th>24</th>\n",
              "      <td>{'modelXG__max_depth': 5, 'modelXG__n_estimato...</td>\n",
              "      <td>0.840330</td>\n",
              "      <td>7</td>\n",
              "    </tr>\n",
              "    <tr>\n",
              "      <th>21</th>\n",
              "      <td>{'modelXG__max_depth': 5, 'modelXG__n_estimato...</td>\n",
              "      <td>0.840107</td>\n",
              "      <td>8</td>\n",
              "    </tr>\n",
              "    <tr>\n",
              "      <th>23</th>\n",
              "      <td>{'modelXG__max_depth': 5, 'modelXG__n_estimato...</td>\n",
              "      <td>0.839985</td>\n",
              "      <td>9</td>\n",
              "    </tr>\n",
              "    <tr>\n",
              "      <th>20</th>\n",
              "      <td>{'modelXG__max_depth': 5, 'modelXG__n_estimato...</td>\n",
              "      <td>0.838698</td>\n",
              "      <td>10</td>\n",
              "    </tr>\n",
              "    <tr>\n",
              "      <th>18</th>\n",
              "      <td>{'modelXG__max_depth': 4, 'modelXG__n_estimato...</td>\n",
              "      <td>0.774941</td>\n",
              "      <td>11</td>\n",
              "    </tr>\n",
              "    <tr>\n",
              "      <th>19</th>\n",
              "      <td>{'modelXG__max_depth': 4, 'modelXG__n_estimato...</td>\n",
              "      <td>0.774526</td>\n",
              "      <td>12</td>\n",
              "    </tr>\n",
              "    <tr>\n",
              "      <th>17</th>\n",
              "      <td>{'modelXG__max_depth': 4, 'modelXG__n_estimato...</td>\n",
              "      <td>0.774272</td>\n",
              "      <td>13</td>\n",
              "    </tr>\n",
              "    <tr>\n",
              "      <th>16</th>\n",
              "      <td>{'modelXG__max_depth': 4, 'modelXG__n_estimato...</td>\n",
              "      <td>0.773056</td>\n",
              "      <td>14</td>\n",
              "    </tr>\n",
              "    <tr>\n",
              "      <th>15</th>\n",
              "      <td>{'modelXG__max_depth': 4, 'modelXG__n_estimato...</td>\n",
              "      <td>0.765736</td>\n",
              "      <td>15</td>\n",
              "    </tr>\n",
              "    <tr>\n",
              "      <th>10</th>\n",
              "      <td>{'modelXG__max_depth': 3, 'modelXG__n_estimato...</td>\n",
              "      <td>0.730670</td>\n",
              "      <td>16</td>\n",
              "    </tr>\n",
              "    <tr>\n",
              "      <th>7</th>\n",
              "      <td>{'modelXG__max_depth': 2, 'modelXG__n_estimato...</td>\n",
              "      <td>0.727852</td>\n",
              "      <td>17</td>\n",
              "    </tr>\n",
              "    <tr>\n",
              "      <th>6</th>\n",
              "      <td>{'modelXG__max_depth': 2, 'modelXG__n_estimato...</td>\n",
              "      <td>0.727760</td>\n",
              "      <td>18</td>\n",
              "    </tr>\n",
              "    <tr>\n",
              "      <th>9</th>\n",
              "      <td>{'modelXG__max_depth': 2, 'modelXG__n_estimato...</td>\n",
              "      <td>0.727608</td>\n",
              "      <td>19</td>\n",
              "    </tr>\n",
              "    <tr>\n",
              "      <th>8</th>\n",
              "      <td>{'modelXG__max_depth': 2, 'modelXG__n_estimato...</td>\n",
              "      <td>0.727558</td>\n",
              "      <td>20</td>\n",
              "    </tr>\n",
              "    <tr>\n",
              "      <th>5</th>\n",
              "      <td>{'modelXG__max_depth': 2, 'modelXG__n_estimato...</td>\n",
              "      <td>0.727172</td>\n",
              "      <td>21</td>\n",
              "    </tr>\n",
              "    <tr>\n",
              "      <th>12</th>\n",
              "      <td>{'modelXG__max_depth': 3, 'modelXG__n_estimato...</td>\n",
              "      <td>0.719417</td>\n",
              "      <td>22</td>\n",
              "    </tr>\n",
              "    <tr>\n",
              "      <th>11</th>\n",
              "      <td>{'modelXG__max_depth': 3, 'modelXG__n_estimato...</td>\n",
              "      <td>0.718383</td>\n",
              "      <td>23</td>\n",
              "    </tr>\n",
              "    <tr>\n",
              "      <th>13</th>\n",
              "      <td>{'modelXG__max_depth': 3, 'modelXG__n_estimato...</td>\n",
              "      <td>0.714814</td>\n",
              "      <td>24</td>\n",
              "    </tr>\n",
              "    <tr>\n",
              "      <th>14</th>\n",
              "      <td>{'modelXG__max_depth': 3, 'modelXG__n_estimato...</td>\n",
              "      <td>0.713213</td>\n",
              "      <td>25</td>\n",
              "    </tr>\n",
              "  </tbody>\n",
              "</table>\n",
              "</div>"
            ],
            "text/plain": [
              "                                               params  mean_test_score  \\\n",
              "1   {'modelXG__max_depth': 1, 'modelXG__n_estimato...         0.857828   \n",
              "2   {'modelXG__max_depth': 1, 'modelXG__n_estimato...         0.857808   \n",
              "3   {'modelXG__max_depth': 1, 'modelXG__n_estimato...         0.857797   \n",
              "4   {'modelXG__max_depth': 1, 'modelXG__n_estimato...         0.857787   \n",
              "0   {'modelXG__max_depth': 1, 'modelXG__n_estimato...         0.853195   \n",
              "22  {'modelXG__max_depth': 5, 'modelXG__n_estimato...         0.841030   \n",
              "24  {'modelXG__max_depth': 5, 'modelXG__n_estimato...         0.840330   \n",
              "21  {'modelXG__max_depth': 5, 'modelXG__n_estimato...         0.840107   \n",
              "23  {'modelXG__max_depth': 5, 'modelXG__n_estimato...         0.839985   \n",
              "20  {'modelXG__max_depth': 5, 'modelXG__n_estimato...         0.838698   \n",
              "18  {'modelXG__max_depth': 4, 'modelXG__n_estimato...         0.774941   \n",
              "19  {'modelXG__max_depth': 4, 'modelXG__n_estimato...         0.774526   \n",
              "17  {'modelXG__max_depth': 4, 'modelXG__n_estimato...         0.774272   \n",
              "16  {'modelXG__max_depth': 4, 'modelXG__n_estimato...         0.773056   \n",
              "15  {'modelXG__max_depth': 4, 'modelXG__n_estimato...         0.765736   \n",
              "10  {'modelXG__max_depth': 3, 'modelXG__n_estimato...         0.730670   \n",
              "7   {'modelXG__max_depth': 2, 'modelXG__n_estimato...         0.727852   \n",
              "6   {'modelXG__max_depth': 2, 'modelXG__n_estimato...         0.727760   \n",
              "9   {'modelXG__max_depth': 2, 'modelXG__n_estimato...         0.727608   \n",
              "8   {'modelXG__max_depth': 2, 'modelXG__n_estimato...         0.727558   \n",
              "5   {'modelXG__max_depth': 2, 'modelXG__n_estimato...         0.727172   \n",
              "12  {'modelXG__max_depth': 3, 'modelXG__n_estimato...         0.719417   \n",
              "11  {'modelXG__max_depth': 3, 'modelXG__n_estimato...         0.718383   \n",
              "13  {'modelXG__max_depth': 3, 'modelXG__n_estimato...         0.714814   \n",
              "14  {'modelXG__max_depth': 3, 'modelXG__n_estimato...         0.713213   \n",
              "\n",
              "    rank_test_score  \n",
              "1                 1  \n",
              "2                 2  \n",
              "3                 3  \n",
              "4                 4  \n",
              "0                 5  \n",
              "22                6  \n",
              "24                7  \n",
              "21                8  \n",
              "23                9  \n",
              "20               10  \n",
              "18               11  \n",
              "19               12  \n",
              "17               13  \n",
              "16               14  \n",
              "15               15  \n",
              "10               16  \n",
              "7                17  \n",
              "6                18  \n",
              "9                19  \n",
              "8                20  \n",
              "5                21  \n",
              "12               22  \n",
              "11               23  \n",
              "13               24  \n",
              "14               25  "
            ]
          },
          "execution_count": 76,
          "metadata": {},
          "output_type": "execute_result"
        }
      ],
      "source": [
        "# the results\n",
        "cv_result = pd.DataFrame(model_gridcvxg.cv_results_)\n",
        "retain_cols = ['params','mean_test_score','rank_test_score']\n",
        "cv_result[retain_cols].sort_values('rank_test_score')"
      ]
    },
    {
      "cell_type": "code",
      "execution_count": null,
      "metadata": {
        "id": "XEL3ukfX4OsF",
        "outputId": "6a8ec61a-aa55-40b3-b748-eadd21c12af5"
      },
      "outputs": [
        {
          "data": {
            "image/png": "[encoded data removed]",
            "text/plain": [
              "<Figure size 720x504 with 2 Axes>"
            ]
          },
          "metadata": {
            "needs_background": "light"
          },
          "output_type": "display_data"
        }
      ],
      "source": [
        "# the confusion matrix\n",
        "from sklearn.metrics import confusion_matrix, ConfusionMatrixDisplay\n",
        "\n",
        "fig, ax = plt.subplots(figsize=(10,7))\n",
        "y_pred = model_gridcvxg.best_estimator_.predict(X_eval)\n",
        "\n",
        "cm = confusion_matrix(y_eval, y_pred, labels=model_gridcvxg.best_estimator_.classes_)\n",
        "disp = ConfusionMatrixDisplay(confusion_matrix=cm,\n",
        "                             display_labels=model_gridcvxg.best_estimator_.classes_)\n",
        "disp.plot(ax=ax)\n",
        "plt.show()"
      ]
    },
    {
      "cell_type": "code",
      "execution_count": null,
      "metadata": {
        "id": "hwA_PHhe4OsF",
        "outputId": "d4ce68d6-bf2c-4782-836f-675af121a55a"
      },
      "outputs": [
        {
          "name": "stdout",
          "output_type": "stream",
          "text": [
            "              precision    recall  f1-score   support\n",
            "\n",
            "           0       1.00      0.50      0.66     21767\n",
            "           1       0.01      0.75      0.02       140\n",
            "\n",
            "    accuracy                           0.50     21907\n",
            "   macro avg       0.50      0.62      0.34     21907\n",
            "weighted avg       0.99      0.50      0.66     21907\n",
            "\n"
          ]
        }
      ],
      "source": [
        "# classification report\n",
        "from sklearn.metrics import classification_report\n",
        "y_pred = model_gridcvxg.best_estimator_.predict(X_test)\n",
        "print(classification_report(y_test, y_pred))"
      ]
    },
    {
      "cell_type": "markdown",
      "metadata": {
        "id": "D-ZUfzO_4OsF"
      },
      "source": [
        "### Naive Bayes menggunakan Balanced data & hyperparameter Tunning"
      ]
    },
    {
      "cell_type": "code",
      "execution_count": null,
      "metadata": {
        "id": "O-z0Y59N4OsG",
        "outputId": "47bf2223-38b3-4bcb-caae-d040182dddd9"
      },
      "outputs": [
        {
          "data": {
            "text/html": [
              "<style>#sk-container-id-13 {color: black;background-color: white;}#sk-container-id-13 pre{padding: 0;}#sk-container-id-13 div.sk-toggleable {background-color: white;}#sk-container-id-13 label.sk-toggleable__label {cursor: pointer;display: block;width: 100%;margin-bottom: 0;padding: 0.3em;box-sizing: border-box;text-align: center;}#sk-container-id-13 label.sk-toggleable__label-arrow:before {content: \"▸\";float: left;margin-right: 0.25em;color: #696969;}#sk-container-id-13 label.sk-toggleable__label-arrow:hover:before {color: black;}#sk-container-id-13 div.sk-estimator:hover label.sk-toggleable__label-arrow:before {color: black;}#sk-container-id-13 div.sk-toggleable__content {max-height: 0;max-width: 0;overflow: hidden;text-align: left;background-color: #f0f8ff;}#sk-container-id-13 div.sk-toggleable__content pre {margin: 0.2em;color: black;border-radius: 0.25em;background-color: #f0f8ff;}#sk-container-id-13 input.sk-toggleable__control:checked~div.sk-toggleable__content {max-height: 200px;max-width: 100%;overflow: auto;}#sk-container-id-13 input.sk-toggleable__control:checked~label.sk-toggleable__label-arrow:before {content: \"▾\";}#sk-container-id-13 div.sk-estimator input.sk-toggleable__control:checked~label.sk-toggleable__label {background-color: #d4ebff;}#sk-container-id-13 div.sk-label input.sk-toggleable__control:checked~label.sk-toggleable__label {background-color: #d4ebff;}#sk-container-id-13 input.sk-hidden--visually {border: 0;clip: rect(1px 1px 1px 1px);clip: rect(1px, 1px, 1px, 1px);height: 1px;margin: -1px;overflow: hidden;padding: 0;position: absolute;width: 1px;}#sk-container-id-13 div.sk-estimator {font-family: monospace;background-color: #f0f8ff;border: 1px dotted black;border-radius: 0.25em;box-sizing: border-box;margin-bottom: 0.5em;}#sk-container-id-13 div.sk-estimator:hover {background-color: #d4ebff;}#sk-container-id-13 div.sk-parallel-item::after {content: \"\";width: 100%;border-bottom: 1px solid gray;flex-grow: 1;}#sk-container-id-13 div.sk-label:hover label.sk-toggleable__label {background-color: #d4ebff;}#sk-container-id-13 div.sk-serial::before {content: \"\";position: absolute;border-left: 1px solid gray;box-sizing: border-box;top: 0;bottom: 0;left: 50%;z-index: 0;}#sk-container-id-13 div.sk-serial {display: flex;flex-direction: column;align-items: center;background-color: white;padding-right: 0.2em;padding-left: 0.2em;position: relative;}#sk-container-id-13 div.sk-item {position: relative;z-index: 1;}#sk-container-id-13 div.sk-parallel {display: flex;align-items: stretch;justify-content: center;background-color: white;position: relative;}#sk-container-id-13 div.sk-item::before, #sk-container-id-13 div.sk-parallel-item::before {content: \"\";position: absolute;border-left: 1px solid gray;box-sizing: border-box;top: 0;bottom: 0;left: 50%;z-index: -1;}#sk-container-id-13 div.sk-parallel-item {display: flex;flex-direction: column;z-index: 1;position: relative;background-color: white;}#sk-container-id-13 div.sk-parallel-item:first-child::after {align-self: flex-end;width: 50%;}#sk-container-id-13 div.sk-parallel-item:last-child::after {align-self: flex-start;width: 50%;}#sk-container-id-13 div.sk-parallel-item:only-child::after {width: 0;}#sk-container-id-13 div.sk-dashed-wrapped {border: 1px dashed gray;margin: 0 0.4em 0.5em 0.4em;box-sizing: border-box;padding-bottom: 0.4em;background-color: white;}#sk-container-id-13 div.sk-label label {font-family: monospace;font-weight: bold;display: inline-block;line-height: 1.2em;}#sk-container-id-13 div.sk-label-container {text-align: center;}#sk-container-id-13 div.sk-container {/* jupyter's `normalize.less` sets `[hidden] { display: none; }` but bootstrap.min.css set `[hidden] { display: none !important; }` so we also need the `!important` here to be able to override the default hidden behavior on the sphinx rendered scikit-learn.org. See: https://github.com/scikit-learn/scikit-learn/issues/21755 */display: inline-block !important;position: relative;}#sk-container-id-13 div.sk-text-repr-fallback {display: none;}</style><div id=\"sk-container-id-13\" class=\"sk-top-container\"><div class=\"sk-text-repr-fallback\"><pre>GridSearchCV(cv=4,\n",
              "             estimator=Pipeline(steps=[(&#x27;transfromator&#x27;,\n",
              "                                        Pipeline(steps=[(&#x27;DropFeature&#x27;,\n",
              "                                                         DropFeatures(features_to_drop=[&#x27;fyear&#x27;,\n",
              "                                                                                        &#x27;gvkey&#x27;,\n",
              "                                                                                        &#x27;p_aaer&#x27;])),\n",
              "                                                        (&#x27;Fillna&#x27;,\n",
              "                                                         FillNaa())])),\n",
              "                                       (&#x27;scaler&#x27;, MinMaxScaler()),\n",
              "                                       (&#x27;modelNB&#x27;, GaussianNB())]),\n",
              "             param_grid={&#x27;modelNB__var_smoothing&#x27;: array([1.00000000e+00, 8.11130831e-01, 6.57933225e-01, 5.33669923e-01,\n",
              "       4.32876128e-01, 3.5...\n",
              "       1.23284674e-07, 1.00000000e-07, 8.11130831e-08, 6.57933225e-08,\n",
              "       5.33669923e-08, 4.32876128e-08, 3.51119173e-08, 2.84803587e-08,\n",
              "       2.31012970e-08, 1.87381742e-08, 1.51991108e-08, 1.23284674e-08,\n",
              "       1.00000000e-08, 8.11130831e-09, 6.57933225e-09, 5.33669923e-09,\n",
              "       4.32876128e-09, 3.51119173e-09, 2.84803587e-09, 2.31012970e-09,\n",
              "       1.87381742e-09, 1.51991108e-09, 1.23284674e-09, 1.00000000e-09])},\n",
              "             scoring=&#x27;recall&#x27;)</pre><b>In a Jupyter environment, please rerun this cell to show the HTML representation or trust the notebook. <br />On GitHub, the HTML representation is unable to render, please try loading this page with nbviewer.org.</b></div><div class=\"sk-container\" hidden><div class=\"sk-item sk-dashed-wrapped\"><div class=\"sk-label-container\"><div class=\"sk-label sk-toggleable\"><input class=\"sk-toggleable__control sk-hidden--visually\" id=\"sk-estimator-id-75\" type=\"checkbox\" ><label for=\"sk-estimator-id-75\" class=\"sk-toggleable__label sk-toggleable__label-arrow\">GridSearchCV</label><div class=\"sk-toggleable__content\"><pre>GridSearchCV(cv=4,\n",
              "             estimator=Pipeline(steps=[(&#x27;transfromator&#x27;,\n",
              "                                        Pipeline(steps=[(&#x27;DropFeature&#x27;,\n",
              "                                                         DropFeatures(features_to_drop=[&#x27;fyear&#x27;,\n",
              "                                                                                        &#x27;gvkey&#x27;,\n",
              "                                                                                        &#x27;p_aaer&#x27;])),\n",
              "                                                        (&#x27;Fillna&#x27;,\n",
              "                                                         FillNaa())])),\n",
              "                                       (&#x27;scaler&#x27;, MinMaxScaler()),\n",
              "                                       (&#x27;modelNB&#x27;, GaussianNB())]),\n",
              "             param_grid={&#x27;modelNB__var_smoothing&#x27;: array([1.00000000e+00, 8.11130831e-01, 6.57933225e-01, 5.33669923e-01,\n",
              "       4.32876128e-01, 3.5...\n",
              "       1.23284674e-07, 1.00000000e-07, 8.11130831e-08, 6.57933225e-08,\n",
              "       5.33669923e-08, 4.32876128e-08, 3.51119173e-08, 2.84803587e-08,\n",
              "       2.31012970e-08, 1.87381742e-08, 1.51991108e-08, 1.23284674e-08,\n",
              "       1.00000000e-08, 8.11130831e-09, 6.57933225e-09, 5.33669923e-09,\n",
              "       4.32876128e-09, 3.51119173e-09, 2.84803587e-09, 2.31012970e-09,\n",
              "       1.87381742e-09, 1.51991108e-09, 1.23284674e-09, 1.00000000e-09])},\n",
              "             scoring=&#x27;recall&#x27;)</pre></div></div></div><div class=\"sk-parallel\"><div class=\"sk-parallel-item\"><div class=\"sk-item\"><div class=\"sk-label-container\"><div class=\"sk-label sk-toggleable\"><input class=\"sk-toggleable__control sk-hidden--visually\" id=\"sk-estimator-id-76\" type=\"checkbox\" ><label for=\"sk-estimator-id-76\" class=\"sk-toggleable__label sk-toggleable__label-arrow\">estimator: Pipeline</label><div class=\"sk-toggleable__content\"><pre>Pipeline(steps=[(&#x27;transfromator&#x27;,\n",
              "                 Pipeline(steps=[(&#x27;DropFeature&#x27;,\n",
              "                                  DropFeatures(features_to_drop=[&#x27;fyear&#x27;,\n",
              "                                                                 &#x27;gvkey&#x27;,\n",
              "                                                                 &#x27;p_aaer&#x27;])),\n",
              "                                 (&#x27;Fillna&#x27;, FillNaa())])),\n",
              "                (&#x27;scaler&#x27;, MinMaxScaler()), (&#x27;modelNB&#x27;, GaussianNB())])</pre></div></div></div><div class=\"sk-serial\"><div class=\"sk-item\"><div class=\"sk-serial\"><div class=\"sk-item\"><div class=\"sk-label-container\"><div class=\"sk-label sk-toggleable\"><input class=\"sk-toggleable__control sk-hidden--visually\" id=\"sk-estimator-id-77\" type=\"checkbox\" ><label for=\"sk-estimator-id-77\" class=\"sk-toggleable__label sk-toggleable__label-arrow\">transfromator: Pipeline</label><div class=\"sk-toggleable__content\"><pre>Pipeline(steps=[(&#x27;DropFeature&#x27;,\n",
              "                 DropFeatures(features_to_drop=[&#x27;fyear&#x27;, &#x27;gvkey&#x27;, &#x27;p_aaer&#x27;])),\n",
              "                (&#x27;Fillna&#x27;, FillNaa())])</pre></div></div></div><div class=\"sk-serial\"><div class=\"sk-item\"><div class=\"sk-estimator sk-toggleable\"><input class=\"sk-toggleable__control sk-hidden--visually\" id=\"sk-estimator-id-78\" type=\"checkbox\" ><label for=\"sk-estimator-id-78\" class=\"sk-toggleable__label sk-toggleable__label-arrow\">DropFeatures</label><div class=\"sk-toggleable__content\"><pre>DropFeatures(features_to_drop=[&#x27;fyear&#x27;, &#x27;gvkey&#x27;, &#x27;p_aaer&#x27;])</pre></div></div></div><div class=\"sk-item\"><div class=\"sk-estimator sk-toggleable\"><input class=\"sk-toggleable__control sk-hidden--visually\" id=\"sk-estimator-id-79\" type=\"checkbox\" ><label for=\"sk-estimator-id-79\" class=\"sk-toggleable__label sk-toggleable__label-arrow\">FillNaa</label><div class=\"sk-toggleable__content\"><pre>FillNaa()</pre></div></div></div></div></div><div class=\"sk-item\"><div class=\"sk-estimator sk-toggleable\"><input class=\"sk-toggleable__control sk-hidden--visually\" id=\"sk-estimator-id-80\" type=\"checkbox\" ><label for=\"sk-estimator-id-80\" class=\"sk-toggleable__label sk-toggleable__label-arrow\">MinMaxScaler</label><div class=\"sk-toggleable__content\"><pre>MinMaxScaler()</pre></div></div></div><div class=\"sk-item\"><div class=\"sk-estimator sk-toggleable\"><input class=\"sk-toggleable__control sk-hidden--visually\" id=\"sk-estimator-id-81\" type=\"checkbox\" ><label for=\"sk-estimator-id-81\" class=\"sk-toggleable__label sk-toggleable__label-arrow\">GaussianNB</label><div class=\"sk-toggleable__content\"><pre>GaussianNB()</pre></div></div></div></div></div></div></div></div></div></div></div></div>"
            ],
            "text/plain": [
              "GridSearchCV(cv=4,\n",
              "             estimator=Pipeline(steps=[('transfromator',\n",
              "                                        Pipeline(steps=[('DropFeature',\n",
              "                                                         DropFeatures(features_to_drop=['fyear',\n",
              "                                                                                        'gvkey',\n",
              "                                                                                        'p_aaer'])),\n",
              "                                                        ('Fillna',\n",
              "                                                         FillNaa())])),\n",
              "                                       ('scaler', MinMaxScaler()),\n",
              "                                       ('modelNB', GaussianNB())]),\n",
              "             param_grid={'modelNB__var_smoothing': array([1.00000000e+00, 8.11130831e-01, 6.57933225e-01, 5.33669923e-01,\n",
              "       4.32876128e-01, 3.5...\n",
              "       1.23284674e-07, 1.00000000e-07, 8.11130831e-08, 6.57933225e-08,\n",
              "       5.33669923e-08, 4.32876128e-08, 3.51119173e-08, 2.84803587e-08,\n",
              "       2.31012970e-08, 1.87381742e-08, 1.51991108e-08, 1.23284674e-08,\n",
              "       1.00000000e-08, 8.11130831e-09, 6.57933225e-09, 5.33669923e-09,\n",
              "       4.32876128e-09, 3.51119173e-09, 2.84803587e-09, 2.31012970e-09,\n",
              "       1.87381742e-09, 1.51991108e-09, 1.23284674e-09, 1.00000000e-09])},\n",
              "             scoring='recall')"
            ]
          },
          "execution_count": 95,
          "metadata": {},
          "output_type": "execute_result"
        }
      ],
      "source": [
        "parameters = {\n",
        "    'modelNB__var_smoothing': np.logspace(0,-9, num=100)\n",
        "}\n",
        "\n",
        "model_gridcvnb = GridSearchCV(estimator = NB_base, param_grid = parameters, cv=4, scoring='recall')\n",
        "model_gridcvnb.fit(X_res, y_res)"
      ]
    },
    {
      "cell_type": "code",
      "execution_count": null,
      "metadata": {
        "id": "U-0XgtR84OsG",
        "outputId": "95a0b75b-9e2b-4b44-d426-2614d093bd7e"
      },
      "outputs": [
        {
          "data": {
            "text/html": [
              "<div>\n",
              "<style scoped>\n",
              "    .dataframe tbody tr th:only-of-type {\n",
              "        vertical-align: middle;\n",
              "    }\n",
              "\n",
              "    .dataframe tbody tr th {\n",
              "        vertical-align: top;\n",
              "    }\n",
              "\n",
              "    .dataframe thead th {\n",
              "        text-align: right;\n",
              "    }\n",
              "</style>\n",
              "<table border=\"1\" class=\"dataframe\">\n",
              "  <thead>\n",
              "    <tr style=\"text-align: right;\">\n",
              "      <th></th>\n",
              "      <th>params</th>\n",
              "      <th>mean_test_score</th>\n",
              "      <th>rank_test_score</th>\n",
              "    </tr>\n",
              "  </thead>\n",
              "  <tbody>\n",
              "    <tr>\n",
              "      <th>0</th>\n",
              "      <td>{'modelNB__var_smoothing': 1.0}</td>\n",
              "      <td>0.928113</td>\n",
              "      <td>1</td>\n",
              "    </tr>\n",
              "    <tr>\n",
              "      <th>10</th>\n",
              "      <td>{'modelNB__var_smoothing': 0.12328467394420659}</td>\n",
              "      <td>0.926643</td>\n",
              "      <td>2</td>\n",
              "    </tr>\n",
              "    <tr>\n",
              "      <th>9</th>\n",
              "      <td>{'modelNB__var_smoothing': 0.15199110829529336}</td>\n",
              "      <td>0.926298</td>\n",
              "      <td>3</td>\n",
              "    </tr>\n",
              "    <tr>\n",
              "      <th>11</th>\n",
              "      <td>{'modelNB__var_smoothing': 0.1}</td>\n",
              "      <td>0.925964</td>\n",
              "      <td>4</td>\n",
              "    </tr>\n",
              "    <tr>\n",
              "      <th>8</th>\n",
              "      <td>{'modelNB__var_smoothing': 0.1873817422860384}</td>\n",
              "      <td>0.925761</td>\n",
              "      <td>5</td>\n",
              "    </tr>\n",
              "    <tr>\n",
              "      <th>...</th>\n",
              "      <td>...</td>\n",
              "      <td>...</td>\n",
              "      <td>...</td>\n",
              "    </tr>\n",
              "    <tr>\n",
              "      <th>81</th>\n",
              "      <td>{'modelNB__var_smoothing': 4.3287612810830526e...</td>\n",
              "      <td>0.258389</td>\n",
              "      <td>80</td>\n",
              "    </tr>\n",
              "    <tr>\n",
              "      <th>80</th>\n",
              "      <td>{'modelNB__var_smoothing': 5.336699231206302e-08}</td>\n",
              "      <td>0.258389</td>\n",
              "      <td>80</td>\n",
              "    </tr>\n",
              "    <tr>\n",
              "      <th>79</th>\n",
              "      <td>{'modelNB__var_smoothing': 6.579332246575682e-08}</td>\n",
              "      <td>0.258389</td>\n",
              "      <td>80</td>\n",
              "    </tr>\n",
              "    <tr>\n",
              "      <th>88</th>\n",
              "      <td>{'modelNB__var_smoothing': 1e-08}</td>\n",
              "      <td>0.258389</td>\n",
              "      <td>80</td>\n",
              "    </tr>\n",
              "    <tr>\n",
              "      <th>99</th>\n",
              "      <td>{'modelNB__var_smoothing': 1e-09}</td>\n",
              "      <td>0.258389</td>\n",
              "      <td>80</td>\n",
              "    </tr>\n",
              "  </tbody>\n",
              "</table>\n",
              "<p>100 rows × 3 columns</p>\n",
              "</div>"
            ],
            "text/plain": [
              "                                               params  mean_test_score  \\\n",
              "0                     {'modelNB__var_smoothing': 1.0}         0.928113   \n",
              "10    {'modelNB__var_smoothing': 0.12328467394420659}         0.926643   \n",
              "9     {'modelNB__var_smoothing': 0.15199110829529336}         0.926298   \n",
              "11                    {'modelNB__var_smoothing': 0.1}         0.925964   \n",
              "8      {'modelNB__var_smoothing': 0.1873817422860384}         0.925761   \n",
              "..                                                ...              ...   \n",
              "81  {'modelNB__var_smoothing': 4.3287612810830526e...         0.258389   \n",
              "80  {'modelNB__var_smoothing': 5.336699231206302e-08}         0.258389   \n",
              "79  {'modelNB__var_smoothing': 6.579332246575682e-08}         0.258389   \n",
              "88                  {'modelNB__var_smoothing': 1e-08}         0.258389   \n",
              "99                  {'modelNB__var_smoothing': 1e-09}         0.258389   \n",
              "\n",
              "    rank_test_score  \n",
              "0                 1  \n",
              "10                2  \n",
              "9                 3  \n",
              "11                4  \n",
              "8                 5  \n",
              "..              ...  \n",
              "81               80  \n",
              "80               80  \n",
              "79               80  \n",
              "88               80  \n",
              "99               80  \n",
              "\n",
              "[100 rows x 3 columns]"
            ]
          },
          "execution_count": 96,
          "metadata": {},
          "output_type": "execute_result"
        }
      ],
      "source": [
        "# the results\n",
        "cv_result = pd.DataFrame(model_gridcvnb.cv_results_)\n",
        "retain_cols = ['params','mean_test_score','rank_test_score']\n",
        "cv_result[retain_cols].sort_values('rank_test_score')"
      ]
    },
    {
      "cell_type": "code",
      "execution_count": null,
      "metadata": {
        "id": "3ZxcAnRx4OsG",
        "outputId": "c7af64fd-23cf-45ec-e97f-e7cc6c671f2b"
      },
      "outputs": [
        {
          "data": {
            "image/png": "[encoded data removed]",
            "text/plain": [
              "<Figure size 720x504 with 2 Axes>"
            ]
          },
          "metadata": {
            "needs_background": "light"
          },
          "output_type": "display_data"
        }
      ],
      "source": [
        "# the confusion matrix\n",
        "from sklearn.metrics import confusion_matrix, ConfusionMatrixDisplay\n",
        "\n",
        "fig, ax = plt.subplots(figsize=(10,7))\n",
        "y_pred = model_gridcvnb.best_estimator_.predict(X_eval)\n",
        "\n",
        "cm = confusion_matrix(y_eval, y_pred, labels=model_gridcvnb.best_estimator_.classes_)\n",
        "disp = ConfusionMatrixDisplay(confusion_matrix=cm,\n",
        "                             display_labels=model_gridcvnb.best_estimator_.classes_)\n",
        "disp.plot(ax=ax)\n",
        "plt.show()"
      ]
    },
    {
      "cell_type": "code",
      "execution_count": null,
      "metadata": {
        "id": "CQrw_20d4OsG",
        "outputId": "17defd45-ca85-45d6-e524-f96c234eadad"
      },
      "outputs": [
        {
          "name": "stdout",
          "output_type": "stream",
          "text": [
            "              precision    recall  f1-score   support\n",
            "\n",
            "           0       1.00      0.24      0.39     21767\n",
            "           1       0.01      0.96      0.02       140\n",
            "\n",
            "    accuracy                           0.24     21907\n",
            "   macro avg       0.50      0.60      0.20     21907\n",
            "weighted avg       0.99      0.24      0.38     21907\n",
            "\n"
          ]
        }
      ],
      "source": [
        "# classification report\n",
        "from sklearn.metrics import classification_report\n",
        "y_pred = model_gridcvnb.best_estimator_.predict(X_test)\n",
        "print(classification_report(y_test, y_pred))"
      ]
    },
    {
      "cell_type": "code",
      "execution_count": null,
      "metadata": {
        "id": "kX0ALmQQ4OsG"
      },
      "outputs": [],
      "source": []
    }
  ],
  "metadata": {
    "kernelspec": {
      "display_name": "Python 3.10.5 ('venv')",
      "language": "python",
      "name": "python3"
    },
    "language_info": {
      "codemirror_mode": {
        "name": "ipython",
        "version": 3
      },
      "file_extension": ".py",
      "mimetype": "text/x-python",
      "name": "python",
      "nbconvert_exporter": "python",
      "pygments_lexer": "ipython3",
      "version": "3.10.5"
    },
    "orig_nbformat": 4,
    "vscode": {
      "interpreter": {
        "hash": "3fee6e91fcbcd8efc6d11e8f57761fc355d4733cf1a53714965191c3aba72cff"
      }
    },
    "colab": {
      "provenance": [],
      "include_colab_link": true
    }
  },
  "nbformat": 4,
  "nbformat_minor": 0
}