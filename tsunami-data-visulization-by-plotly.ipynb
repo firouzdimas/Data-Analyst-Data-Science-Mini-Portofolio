{
 "cells": [
  {
   "cell_type": "markdown",
   "id": "b0381373",
   "metadata": {
    "papermill": {
     "duration": 0.014458,
     "end_time": "2023-04-17T15:44:27.136949",
     "exception": false,
     "start_time": "2023-04-17T15:44:27.122491",
     "status": "completed"
    },
    "tags": []
   },
   "source": [
    "\n",
    "This notebook presents a detailed analysis for different kinds of data visualization in `Plotly` package, a dynamic plot tool.    \n",
    "We could put the mouse on the figure to develop information about the data point from dataframe.   \n",
    "\n",
    "If you like this notebook or have other idea about data visulization for Tsunamis, please upvote and let me know your great idea!   \n",
    "    \n",
    "Thanks in advance!🙂\n",
    "\n",
    "<img src=\"http://1721181113.rsc.cdn77.org/data/images/full/27154/tsunami.jpg\" width=\"1000\">\n",
    "\n",
    "--- \n",
    "# First of all, a preliminary understanding of the meaning of each data:   \n",
    "\n",
    "### Tsunami Cause Code\n",
    "\n",
    "Valid values: 0 to 11\n",
    "The source of the tsunami:\n",
    "0\tUnknown  \n",
    "1\tEarthquake  \n",
    "2\tQuestionable Earthquake  \n",
    "3\tEarthquake and Landslide  \n",
    "4\tVolcano and Earthquake  \n",
    "5\tVolcano, Earthquake, and Landslide  \n",
    "6\tVolcano  \n",
    "7\tVolcano and Landslide  \n",
    "8\tLandslide  \n",
    "9\tMeteorological  \n",
    "10\tExplosion  \n",
    "11\tAstronomical Tide  \n",
    "---\n",
    "### Tsunami Validity Number\n",
    "\n",
    "Valid values: -1 to 4   \n",
    "Validity of the actual tsunami occurrence is indicated by a numerical rating of the reports of that event:   \n",
    "-1\terroneous entry   \n",
    "0\tevent that only caused a seiche or disturbance in an inland river   \n",
    "1\tvery doubtful tsunami   \n",
    "2\tquestionable tsunami   \n",
    "3\tprobable tsunami   \n",
    "4\tdefinite tsunami   \n",
    "---\n",
    "### Number of Deposits  \n",
    "The total number of deposits link will display the deposits associated with a particular tsunami event.\n",
    "\n",
    "---\n",
    "### Number Of Runups\n",
    "The total number of runups link will display the runup locations associated with a particular tsunami event.\n",
    ">The tsunami database may also include errors that are unique to that database. One of the most important measurements associated with a tsunami event is the maximum runup height or water height reached above sea level in meters. Unfortunately, it is not always clear which reference level was used. The tsunami database also includes locations where the tsunami was observed, called runup locations. The same problem that occurs when identifying earthquake epicenters can occur when assigning runup locations, where the names of localities were incorrectly transcribed or where some localities had identical or very similar names. In addition, names of locations can change over time adding to the possibility of errors. If tsunami arrival and travel times are available for specific runup locations, they are included in the database. These data are valuable in verifying tsunami travel time models. The definition used in this database is the arrival or travel time of the first wave that arrives at a runup location. The first wave may not have been the largest wave, therefore the travel time reported in the original source may have been the second or third wave.   \n",
    "Source: NOAA (https://www.ngdc.noaa.gov/hazard/tsunami-db-intro.html#intro)"
   ]
  },
  {
   "cell_type": "markdown",
   "id": "1d50ff35",
   "metadata": {
    "papermill": {
     "duration": 0.014693,
     "end_time": "2023-04-17T15:44:27.164711",
     "exception": false,
     "start_time": "2023-04-17T15:44:27.150018",
     "status": "completed"
    },
    "tags": []
   },
   "source": [
    "# Import packages and load data"
   ]
  },
  {
   "cell_type": "code",
   "execution_count": 1,
   "id": "56ea08f2",
   "metadata": {
    "execution": {
     "iopub.execute_input": "2023-04-17T15:44:27.192868Z",
     "iopub.status.busy": "2023-04-17T15:44:27.192018Z",
     "iopub.status.idle": "2023-04-17T15:44:28.693672Z",
     "shell.execute_reply": "2023-04-17T15:44:28.692311Z"
    },
    "papermill": {
     "duration": 1.519272,
     "end_time": "2023-04-17T15:44:28.696720",
     "exception": false,
     "start_time": "2023-04-17T15:44:27.177448",
     "status": "completed"
    },
    "tags": []
   },
   "outputs": [],
   "source": [
    "import numpy as np\n",
    "import pandas as pd\n",
    "import matplotlib.pyplot as plt\n",
    "#sns.set_style(\"whitegrid\")\n",
    "import plotly.express as px\n",
    "import plotly.graph_objects as go\n",
    "from plotly.subplots import make_subplots\n",
    "\n",
    "import warnings\n",
    "warnings.filterwarnings(\"ignore\")"
   ]
  },
  {
   "cell_type": "code",
   "execution_count": 2,
   "id": "fdb1cdee",
   "metadata": {
    "execution": {
     "iopub.execute_input": "2023-04-17T15:44:28.725186Z",
     "iopub.status.busy": "2023-04-17T15:44:28.724423Z",
     "iopub.status.idle": "2023-04-17T15:44:28.735149Z",
     "shell.execute_reply": "2023-04-17T15:44:28.733973Z"
    },
    "papermill": {
     "duration": 0.027844,
     "end_time": "2023-04-17T15:44:28.737677",
     "exception": false,
     "start_time": "2023-04-17T15:44:28.709833",
     "status": "completed"
    },
    "tags": []
   },
   "outputs": [
    {
     "name": "stdout",
     "output_type": "stream",
     "text": [
      "/kaggle/input/historical-data-of-tsunamis18002021/tsunami historical data from 1800 to 2021.csv\n"
     ]
    }
   ],
   "source": [
    "import os\n",
    "for dirname, _, filenames in os.walk('/kaggle/input'):\n",
    "    for filename in filenames:\n",
    "        print(os.path.join(dirname, filename))"
   ]
  },
  {
   "cell_type": "code",
   "execution_count": 3,
   "id": "32863e00",
   "metadata": {
    "execution": {
     "iopub.execute_input": "2023-04-17T15:44:28.766365Z",
     "iopub.status.busy": "2023-04-17T15:44:28.765563Z",
     "iopub.status.idle": "2023-04-17T15:44:28.790858Z",
     "shell.execute_reply": "2023-04-17T15:44:28.789740Z"
    },
    "papermill": {
     "duration": 0.042251,
     "end_time": "2023-04-17T15:44:28.793503",
     "exception": false,
     "start_time": "2023-04-17T15:44:28.751252",
     "status": "completed"
    },
    "tags": []
   },
   "outputs": [],
   "source": [
    "df = pd.read_csv('/kaggle/input/historical-data-of-tsunamis18002021/tsunami historical data from 1800 to 2021.csv')"
   ]
  },
  {
   "cell_type": "code",
   "execution_count": 4,
   "id": "502336a8",
   "metadata": {
    "execution": {
     "iopub.execute_input": "2023-04-17T15:44:28.821862Z",
     "iopub.status.busy": "2023-04-17T15:44:28.821075Z",
     "iopub.status.idle": "2023-04-17T15:44:28.849514Z",
     "shell.execute_reply": "2023-04-17T15:44:28.848061Z"
    },
    "papermill": {
     "duration": 0.045524,
     "end_time": "2023-04-17T15:44:28.852208",
     "exception": false,
     "start_time": "2023-04-17T15:44:28.806684",
     "status": "completed"
    },
    "tags": []
   },
   "outputs": [
    {
     "name": "stdout",
     "output_type": "stream",
     "text": [
      "<class 'pandas.core.frame.DataFrame'>\n",
      "RangeIndex: 2162 entries, 0 to 2161\n",
      "Data columns (total 26 columns):\n",
      " #   Column                     Non-Null Count  Dtype  \n",
      "---  ------                     --------------  -----  \n",
      " 0   Year                       2161 non-null   float64\n",
      " 1   Mo                         2112 non-null   float64\n",
      " 2   Dy                         2054 non-null   float64\n",
      " 3   Hr                         1338 non-null   float64\n",
      " 4   Mn                         1289 non-null   float64\n",
      " 5   Sec                        941 non-null    float64\n",
      " 6   Tsunami Event Validity     2161 non-null   float64\n",
      " 7   Tsunami Cause Code         2158 non-null   float64\n",
      " 8   Earthquake Magnitude       1293 non-null   float64\n",
      " 9   Deposits                   2161 non-null   float64\n",
      " 10  Country                    2161 non-null   object \n",
      " 11  Location Name              2159 non-null   object \n",
      " 12  Latitude                   1892 non-null   float64\n",
      " 13  Longitude                  1892 non-null   float64\n",
      " 14  Maximum Water Height (m)   1109 non-null   float64\n",
      " 15  Number of Runups           2161 non-null   float64\n",
      " 16  Tsunami Magnitude (Iida)   576 non-null    float64\n",
      " 17  Tsunami Intensity          897 non-null    float64\n",
      " 18  Total Deaths               492 non-null    float64\n",
      " 19  Total Missing              11 non-null     float64\n",
      " 20  Total Missing Description  13 non-null     float64\n",
      " 21  Total Injuries             281 non-null    float64\n",
      " 22  Total Damage ($Mil)        143 non-null    float64\n",
      " 23  Total Damage Description   907 non-null    float64\n",
      " 24  Total Houses Destroyed     197 non-null    float64\n",
      " 25  Total Houses Damaged       77 non-null     float64\n",
      "dtypes: float64(24), object(2)\n",
      "memory usage: 439.3+ KB\n"
     ]
    }
   ],
   "source": [
    "df.info()"
   ]
  },
  {
   "cell_type": "markdown",
   "id": "d938c830",
   "metadata": {
    "papermill": {
     "duration": 0.012649,
     "end_time": "2023-04-17T15:44:28.878005",
     "exception": false,
     "start_time": "2023-04-17T15:44:28.865356",
     "status": "completed"
    },
    "tags": []
   },
   "source": [
    "There are many useful things in this dataset, however, in this notebook, we only choose the following columns for futher analysis:"
   ]
  },
  {
   "cell_type": "code",
   "execution_count": 5,
   "id": "ee6e8dd8",
   "metadata": {
    "execution": {
     "iopub.execute_input": "2023-04-17T15:44:28.906210Z",
     "iopub.status.busy": "2023-04-17T15:44:28.905442Z",
     "iopub.status.idle": "2023-04-17T15:44:28.923594Z",
     "shell.execute_reply": "2023-04-17T15:44:28.922238Z"
    },
    "papermill": {
     "duration": 0.035218,
     "end_time": "2023-04-17T15:44:28.926134",
     "exception": false,
     "start_time": "2023-04-17T15:44:28.890916",
     "status": "completed"
    },
    "tags": []
   },
   "outputs": [
    {
     "data": {
      "text/plain": [
       "Year            0\n",
       "Mo             49\n",
       "Dy            107\n",
       "Latitude      269\n",
       "Longitude     269\n",
       "Validity        0\n",
       "Code            3\n",
       "Deposits        0\n",
       "Country         0\n",
       "Location        2\n",
       "Runups          0\n",
       "Death        1669\n",
       "dtype: int64"
      ]
     },
     "execution_count": 5,
     "metadata": {},
     "output_type": "execute_result"
    }
   ],
   "source": [
    "data = df[['Year','Mo','Dy','Latitude','Longitude','Tsunami Event Validity','Tsunami Cause Code',\n",
    "           'Deposits','Country','Location Name','Number of Runups','Total Deaths']]\n",
    "\n",
    "# Rename the columns and drop nan\n",
    "data.rename(columns = {'Tsunami Event Validity':'Validity',\n",
    "                       'Tsunami Cause Code':'Code',\n",
    "                       'Location Name':'Location',\n",
    "                       'Number of Runups':'Runups',\n",
    "                       'Total Deaths':'Death'}, inplace = True)\n",
    "data = data.drop([0])\n",
    "data.isnull().sum()"
   ]
  },
  {
   "cell_type": "code",
   "execution_count": 6,
   "id": "5628766a",
   "metadata": {
    "execution": {
     "iopub.execute_input": "2023-04-17T15:44:28.954948Z",
     "iopub.status.busy": "2023-04-17T15:44:28.954155Z",
     "iopub.status.idle": "2023-04-17T15:44:28.968365Z",
     "shell.execute_reply": "2023-04-17T15:44:28.966824Z"
    },
    "papermill": {
     "duration": 0.031615,
     "end_time": "2023-04-17T15:44:28.970902",
     "exception": false,
     "start_time": "2023-04-17T15:44:28.939287",
     "status": "completed"
    },
    "tags": []
   },
   "outputs": [
    {
     "data": {
      "text/plain": [
       "1.0     1522\n",
       "0.0      210\n",
       "8.0      104\n",
       "3.0       96\n",
       "6.0       91\n",
       "9.0       90\n",
       "2.0       16\n",
       "4.0       14\n",
       "7.0       11\n",
       "11.0       2\n",
       "10.0       1\n",
       "5.0        1\n",
       "Name: Code, dtype: int64"
      ]
     },
     "execution_count": 6,
     "metadata": {},
     "output_type": "execute_result"
    }
   ],
   "source": [
    "data['Code'].value_counts()"
   ]
  },
  {
   "cell_type": "markdown",
   "id": "aaf5bba0",
   "metadata": {
    "papermill": {
     "duration": 0.012932,
     "end_time": "2023-04-17T15:44:28.997021",
     "exception": false,
     "start_time": "2023-04-17T15:44:28.984089",
     "status": "completed"
    },
    "tags": []
   },
   "source": [
    "Most of Tsunamis are caused by 'Earthquake'"
   ]
  },
  {
   "cell_type": "code",
   "execution_count": 7,
   "id": "a744fd42",
   "metadata": {
    "execution": {
     "iopub.execute_input": "2023-04-17T15:44:29.025869Z",
     "iopub.status.busy": "2023-04-17T15:44:29.025074Z",
     "iopub.status.idle": "2023-04-17T15:44:29.035239Z",
     "shell.execute_reply": "2023-04-17T15:44:29.034169Z"
    },
    "papermill": {
     "duration": 0.02748,
     "end_time": "2023-04-17T15:44:29.037719",
     "exception": false,
     "start_time": "2023-04-17T15:44:29.010239",
     "status": "completed"
    },
    "tags": []
   },
   "outputs": [
    {
     "data": {
      "text/plain": [
       "0.0      2021\n",
       "1.0        91\n",
       "2.0        13\n",
       "3.0        10\n",
       "4.0         6\n",
       "8.0         4\n",
       "6.0         3\n",
       "20.0        2\n",
       "10.0        2\n",
       "5.0         2\n",
       "11.0        1\n",
       "26.0        1\n",
       "14.0        1\n",
       "9.0         1\n",
       "19.0        1\n",
       "144.0       1\n",
       "7.0         1\n",
       "Name: Deposits, dtype: int64"
      ]
     },
     "execution_count": 7,
     "metadata": {},
     "output_type": "execute_result"
    }
   ],
   "source": [
    "data['Deposits'].value_counts(ascending=False)"
   ]
  },
  {
   "cell_type": "markdown",
   "id": "6fbd25a2",
   "metadata": {
    "papermill": {
     "duration": 0.012955,
     "end_time": "2023-04-17T15:44:29.063997",
     "exception": false,
     "start_time": "2023-04-17T15:44:29.051042",
     "status": "completed"
    },
    "tags": []
   },
   "source": [
    "Most of Tsunamis are not considered as 'Dangerous', as they do not have any deposit (Do not effect inland properties)."
   ]
  },
  {
   "cell_type": "markdown",
   "id": "e512cb73",
   "metadata": {
    "papermill": {
     "duration": 0.012807,
     "end_time": "2023-04-17T15:44:29.089997",
     "exception": false,
     "start_time": "2023-04-17T15:44:29.077190",
     "status": "completed"
    },
    "tags": []
   },
   "source": [
    "# Part 1: General EDA\n",
    "\n",
    "According to the above data, questions like the folloing are easy to think of: \n",
    "- Which country is most threatened by the tsunami? \n",
    "- Are there more and more tsunamis?\n",
    "- ...   \n"
   ]
  },
  {
   "cell_type": "code",
   "execution_count": 8,
   "id": "0e22a715",
   "metadata": {
    "execution": {
     "iopub.execute_input": "2023-04-17T15:44:29.118842Z",
     "iopub.status.busy": "2023-04-17T15:44:29.118117Z",
     "iopub.status.idle": "2023-04-17T15:44:29.142270Z",
     "shell.execute_reply": "2023-04-17T15:44:29.140985Z"
    },
    "papermill": {
     "duration": 0.041695,
     "end_time": "2023-04-17T15:44:29.144998",
     "exception": false,
     "start_time": "2023-04-17T15:44:29.103303",
     "status": "completed"
    },
    "tags": []
   },
   "outputs": [
    {
     "data": {
      "text/html": [
       "<div>\n",
       "<style scoped>\n",
       "    .dataframe tbody tr th:only-of-type {\n",
       "        vertical-align: middle;\n",
       "    }\n",
       "\n",
       "    .dataframe tbody tr th {\n",
       "        vertical-align: top;\n",
       "    }\n",
       "\n",
       "    .dataframe thead th {\n",
       "        text-align: right;\n",
       "    }\n",
       "</style>\n",
       "<table border=\"1\" class=\"dataframe\">\n",
       "  <thead>\n",
       "    <tr style=\"text-align: right;\">\n",
       "      <th></th>\n",
       "      <th>Year</th>\n",
       "      <th>Mo</th>\n",
       "      <th>Dy</th>\n",
       "      <th>Latitude</th>\n",
       "      <th>Longitude</th>\n",
       "      <th>Validity</th>\n",
       "      <th>Code</th>\n",
       "      <th>Deposits</th>\n",
       "      <th>Country</th>\n",
       "      <th>Location</th>\n",
       "      <th>Runups</th>\n",
       "      <th>Death</th>\n",
       "    </tr>\n",
       "  </thead>\n",
       "  <tbody>\n",
       "    <tr>\n",
       "      <th>1</th>\n",
       "      <td>1800.0</td>\n",
       "      <td>6.0</td>\n",
       "      <td>2.0</td>\n",
       "      <td>NaN</td>\n",
       "      <td>NaN</td>\n",
       "      <td>2.0</td>\n",
       "      <td>1.0</td>\n",
       "      <td>0.0</td>\n",
       "      <td>PORTUGAL</td>\n",
       "      <td>AZORES</td>\n",
       "      <td>1.0</td>\n",
       "      <td>NaN</td>\n",
       "    </tr>\n",
       "    <tr>\n",
       "      <th>2</th>\n",
       "      <td>1802.0</td>\n",
       "      <td>1.0</td>\n",
       "      <td>4.0</td>\n",
       "      <td>45.3</td>\n",
       "      <td>14.4</td>\n",
       "      <td>2.0</td>\n",
       "      <td>1.0</td>\n",
       "      <td>0.0</td>\n",
       "      <td>CROATIA</td>\n",
       "      <td>BAKAR</td>\n",
       "      <td>3.0</td>\n",
       "      <td>NaN</td>\n",
       "    </tr>\n",
       "    <tr>\n",
       "      <th>3</th>\n",
       "      <td>1802.0</td>\n",
       "      <td>3.0</td>\n",
       "      <td>19.0</td>\n",
       "      <td>17.2</td>\n",
       "      <td>-62.4</td>\n",
       "      <td>2.0</td>\n",
       "      <td>1.0</td>\n",
       "      <td>0.0</td>\n",
       "      <td>ANTIGUA AND BARBUDA</td>\n",
       "      <td>ANTIGUA ISLAND &amp; ST. CHRISTOPHER</td>\n",
       "      <td>2.0</td>\n",
       "      <td>NaN</td>\n",
       "    </tr>\n",
       "  </tbody>\n",
       "</table>\n",
       "</div>"
      ],
      "text/plain": [
       "     Year   Mo    Dy  Latitude  Longitude  Validity  Code  Deposits  \\\n",
       "1  1800.0  6.0   2.0       NaN        NaN       2.0   1.0       0.0   \n",
       "2  1802.0  1.0   4.0      45.3       14.4       2.0   1.0       0.0   \n",
       "3  1802.0  3.0  19.0      17.2      -62.4       2.0   1.0       0.0   \n",
       "\n",
       "               Country                          Location  Runups  Death  \n",
       "1             PORTUGAL                            AZORES     1.0    NaN  \n",
       "2              CROATIA                             BAKAR     3.0    NaN  \n",
       "3  ANTIGUA AND BARBUDA  ANTIGUA ISLAND & ST. CHRISTOPHER     2.0    NaN  "
      ]
     },
     "execution_count": 8,
     "metadata": {},
     "output_type": "execute_result"
    }
   ],
   "source": [
    "data.head(3)"
   ]
  },
  {
   "cell_type": "code",
   "execution_count": 9,
   "id": "f95e40f8",
   "metadata": {
    "execution": {
     "iopub.execute_input": "2023-04-17T15:44:29.175169Z",
     "iopub.status.busy": "2023-04-17T15:44:29.174679Z",
     "iopub.status.idle": "2023-04-17T15:44:29.190124Z",
     "shell.execute_reply": "2023-04-17T15:44:29.188865Z"
    },
    "papermill": {
     "duration": 0.033479,
     "end_time": "2023-04-17T15:44:29.192625",
     "exception": false,
     "start_time": "2023-04-17T15:44:29.159146",
     "status": "completed"
    },
    "tags": []
   },
   "outputs": [],
   "source": [
    "data.loc[(data['Year']>=1800)&(data['Year']<1850), 'Century'] = 'Early_19'\n",
    "data.loc[(data['Year']>=1850)&(data['Year']<1900), 'Century'] = 'Late_19'\n",
    "data.loc[(data['Year']>=1900)&(data['Year']<1950), 'Century'] = 'Early_20'\n",
    "data.loc[(data['Year']>=1950)&(data['Year']<2000), 'Century'] = 'Late_20'\n",
    "data.loc[data['Year']>=2000, 'Century'] = 'Early_21'"
   ]
  },
  {
   "cell_type": "code",
   "execution_count": 10,
   "id": "206a3db2",
   "metadata": {
    "execution": {
     "iopub.execute_input": "2023-04-17T15:44:29.221883Z",
     "iopub.status.busy": "2023-04-17T15:44:29.221444Z",
     "iopub.status.idle": "2023-04-17T15:44:29.243215Z",
     "shell.execute_reply": "2023-04-17T15:44:29.241904Z"
    },
    "papermill": {
     "duration": 0.039815,
     "end_time": "2023-04-17T15:44:29.246067",
     "exception": false,
     "start_time": "2023-04-17T15:44:29.206252",
     "status": "completed"
    },
    "tags": []
   },
   "outputs": [],
   "source": [
    "data_dd = pd.DataFrame({\n",
    "                        'Year': data.Year.value_counts().sort_index().index,\n",
    "                        'Count': data.Year.value_counts().sort_index(),\n",
    "                        }).reset_index(drop=True)\n",
    "\n",
    "data_dd = data_dd.merge(data[['Year', 'Century']].drop_duplicates('Year'),\n",
    "                        how='left',\n",
    "                        on='Year')"
   ]
  },
  {
   "cell_type": "markdown",
   "id": "00f3aac8",
   "metadata": {
    "papermill": {
     "duration": 0.013931,
     "end_time": "2023-04-17T15:44:29.274741",
     "exception": false,
     "start_time": "2023-04-17T15:44:29.260810",
     "status": "completed"
    },
    "tags": []
   },
   "source": [
    "# BarPlot: General Tsunami Analysis"
   ]
  },
  {
   "cell_type": "code",
   "execution_count": 11,
   "id": "cbb92732",
   "metadata": {
    "execution": {
     "iopub.execute_input": "2023-04-17T15:44:29.305307Z",
     "iopub.status.busy": "2023-04-17T15:44:29.304491Z",
     "iopub.status.idle": "2023-04-17T15:44:29.665384Z",
     "shell.execute_reply": "2023-04-17T15:44:29.664153Z"
    },
    "papermill": {
     "duration": 0.379132,
     "end_time": "2023-04-17T15:44:29.668097",
     "exception": false,
     "start_time": "2023-04-17T15:44:29.288965",
     "status": "completed"
    },
    "tags": []
   },
   "outputs": [
    {
     "data": {
      "text/html": [
       "        <script type=\"text/javascript\">\n",
       "        window.PlotlyConfig = {MathJaxConfig: 'local'};\n",
       "        if (window.MathJax && window.MathJax.Hub && window.MathJax.Hub.Config) {window.MathJax.Hub.Config({SVG: {font: \"STIX-Web\"}});}\n",
       "        if (typeof require !== 'undefined') {\n",
       "        require.undef(\"plotly\");\n",
       "        requirejs.config({\n",
       "            paths: {\n",
       "                'plotly': ['https://cdn.plot.ly/plotly-2.14.0.min']\n",
       "            }\n",
       "        });\n",
       "        require(['plotly'], function(Plotly) {\n",
       "            window._Plotly = Plotly;\n",
       "        });\n",
       "        }\n",
       "        </script>\n",
       "        "
      ]
     },
     "metadata": {},
     "output_type": "display_data"
    },
    {
     "data": {
      "text/html": [
       "<div>                            <div id=\"c019162b-9318-4c52-97c0-56e20e6dca2d\" class=\"plotly-graph-div\" style=\"height:525px; width:100%;\"></div>            <script type=\"text/javascript\">                require([\"plotly\"], function(Plotly) {                    window.PLOTLYENV=window.PLOTLYENV || {};                                    if (document.getElementById(\"c019162b-9318-4c52-97c0-56e20e6dca2d\")) {                    Plotly.newPlot(                        \"c019162b-9318-4c52-97c0-56e20e6dca2d\",                        [{\"alignmentgroup\":\"True\",\"hovertemplate\":\"Year=%{x}<br>Count=%{y}<extra></extra>\",\"legendgroup\":\"\",\"marker\":{\"color\":\"rgb(141,211,199)\",\"pattern\":{\"shape\":\"\"}},\"name\":\"\",\"offsetgroup\":\"\",\"orientation\":\"v\",\"showlegend\":false,\"textposition\":\"auto\",\"x\":[1800.0,1802.0,1804.0,1805.0,1806.0,1808.0,1809.0,1810.0,1811.0,1812.0,1813.0,1814.0,1815.0,1816.0,1817.0,1818.0,1819.0,1820.0,1821.0,1822.0,1823.0,1824.0,1825.0,1826.0,1827.0,1828.0,1829.0,1830.0,1831.0,1832.0,1833.0,1834.0,1835.0,1836.0,1837.0,1838.0,1839.0,1840.0,1841.0,1842.0,1843.0,1844.0,1845.0,1846.0,1847.0,1848.0,1849.0,1850.0,1851.0,1852.0,1853.0,1854.0,1855.0,1856.0,1857.0,1858.0,1859.0,1860.0,1861.0,1862.0,1863.0,1864.0,1865.0,1866.0,1867.0,1868.0,1869.0,1870.0,1871.0,1872.0,1873.0,1874.0,1875.0,1876.0,1877.0,1878.0,1879.0,1880.0,1881.0,1882.0,1883.0,1884.0,1885.0,1886.0,1887.0,1888.0,1889.0,1890.0,1891.0,1892.0,1893.0,1894.0,1895.0,1896.0,1897.0,1898.0,1899.0,1900.0,1901.0,1902.0,1903.0,1904.0,1905.0,1906.0,1907.0,1908.0,1909.0,1910.0,1911.0,1912.0,1913.0,1914.0,1915.0,1916.0,1917.0,1918.0,1919.0,1920.0,1921.0,1922.0,1923.0,1924.0,1925.0,1926.0,1927.0,1928.0,1929.0,1930.0,1931.0,1932.0,1933.0,1934.0,1935.0,1936.0,1937.0,1938.0,1939.0,1940.0,1941.0,1942.0,1943.0,1944.0,1945.0,1946.0,1947.0,1948.0,1949.0,1950.0,1951.0,1952.0,1953.0,1954.0,1955.0,1956.0,1957.0,1958.0,1959.0,1960.0,1961.0,1962.0,1963.0,1964.0,1965.0,1966.0,1967.0,1968.0,1969.0,1970.0,1971.0,1972.0,1973.0,1974.0,1975.0,1976.0,1977.0,1978.0,1979.0,1980.0,1981.0,1982.0,1983.0,1984.0,1985.0,1986.0,1987.0,1988.0,1989.0,1990.0,1991.0,1992.0,1993.0,1994.0,1995.0,1996.0,1997.0,1998.0,1999.0,2000.0,2001.0,2002.0,2003.0,2004.0,2005.0,2006.0,2007.0,2008.0,2009.0,2010.0,2011.0,2012.0,2013.0,2014.0,2015.0,2016.0,2017.0,2018.0,2019.0,2020.0,2021.0],\"xaxis\":\"x\",\"y\":[1,7,5,3,4,3,4,5,3,7,2,1,3,3,4,6,5,8,5,5,6,3,6,4,5,6,2,3,4,1,6,2,4,6,8,2,4,9,4,3,9,4,8,16,9,6,3,5,12,20,9,21,16,13,8,8,16,7,13,8,6,4,10,15,13,23,20,12,18,14,6,5,6,4,14,23,7,10,11,9,9,11,9,7,8,7,9,1,9,11,10,9,13,8,15,5,14,6,11,14,14,11,19,18,14,9,11,7,9,6,8,11,9,6,16,11,16,7,5,14,19,12,12,14,15,25,10,17,13,11,10,11,11,10,6,23,14,6,10,3,2,6,3,9,5,9,15,13,7,16,17,7,7,9,8,10,9,11,16,9,12,10,17,10,11,16,13,13,15,11,8,9,10,5,9,16,15,7,8,8,13,8,6,5,15,9,8,9,8,9,8,21,18,16,10,6,4,11,4,10,12,11,8,13,20,12,16,18,17,15,13,18,17,15,20,20,8,14,13],\"yaxis\":\"y\",\"type\":\"bar\"}],                        {\"template\":{\"data\":{\"pie\":[{\"automargin\":true,\"type\":\"pie\"}]},\"layout\":{\"xaxis\":{\"showgrid\":true,\"title\":{\"standoff\":15}},\"yaxis\":{\"showgrid\":true,\"title\":{\"standoff\":15}}}},\"xaxis\":{\"anchor\":\"y\",\"domain\":[0.0,1.0],\"title\":{\"text\":\"Year\"}},\"yaxis\":{\"anchor\":\"x\",\"domain\":[0.0,1.0],\"title\":{\"text\":\"Count\"}},\"legend\":{\"tracegroupgap\":0},\"title\":{\"text\":\"<b> Fig.1 Tsunami Counts in Different Years\"},\"barmode\":\"relative\"},                        {\"responsive\": true}                    ).then(function(){\n",
       "                            \n",
       "var gd = document.getElementById('c019162b-9318-4c52-97c0-56e20e6dca2d');\n",
       "var x = new MutationObserver(function (mutations, observer) {{\n",
       "        var display = window.getComputedStyle(gd).display;\n",
       "        if (!display || display === 'none') {{\n",
       "            console.log([gd, 'removed!']);\n",
       "            Plotly.purge(gd);\n",
       "            observer.disconnect();\n",
       "        }}\n",
       "}});\n",
       "\n",
       "// Listen for the removal of the full notebook cells\n",
       "var notebookContainer = gd.closest('#notebook-container');\n",
       "if (notebookContainer) {{\n",
       "    x.observe(notebookContainer, {childList: true});\n",
       "}}\n",
       "\n",
       "// Listen for the clearing of the current output cell\n",
       "var outputEl = gd.closest('.output');\n",
       "if (outputEl) {{\n",
       "    x.observe(outputEl, {childList: true});\n",
       "}}\n",
       "\n",
       "                        })                };                });            </script>        </div>"
      ]
     },
     "metadata": {},
     "output_type": "display_data"
    }
   ],
   "source": [
    "fig = px.bar(\n",
    "             data_dd,\n",
    "             x='Year',\n",
    "             y='Count',\n",
    "             template='gridon',\n",
    "             color_discrete_sequence =px.colors.qualitative.Set3,\n",
    "             title='<b> Fig.1 Tsunami Counts in Different Years'\n",
    "             )\n",
    "\n",
    "fig.show()"
   ]
  },
  {
   "cell_type": "markdown",
   "id": "1187f100",
   "metadata": {
    "papermill": {
     "duration": 0.014827,
     "end_time": "2023-04-17T15:44:29.697931",
     "exception": false,
     "start_time": "2023-04-17T15:44:29.683104",
     "status": "completed"
    },
    "tags": []
   },
   "source": [
    "**It is not difficult to see from the `Fig.1` that there is a small peak about once every ten years.**   \n",
    "**Every 50 years or so, there is a frequent occurrence of tsunamis around the world.**   "
   ]
  },
  {
   "cell_type": "code",
   "execution_count": 12,
   "id": "f305e974",
   "metadata": {
    "execution": {
     "iopub.execute_input": "2023-04-17T15:44:29.730598Z",
     "iopub.status.busy": "2023-04-17T15:44:29.729398Z",
     "iopub.status.idle": "2023-04-17T15:44:29.741629Z",
     "shell.execute_reply": "2023-04-17T15:44:29.740661Z"
    },
    "papermill": {
     "duration": 0.031509,
     "end_time": "2023-04-17T15:44:29.744325",
     "exception": false,
     "start_time": "2023-04-17T15:44:29.712816",
     "status": "completed"
    },
    "tags": []
   },
   "outputs": [],
   "source": [
    "df_count = pd.DataFrame(data[['Code','Validity']].groupby(['Validity'])['Code'].value_counts())\n",
    "df_count = df_count.rename({'Code': 'Count'}, axis=1)\n",
    "df_count.reset_index(inplace=True)"
   ]
  },
  {
   "cell_type": "code",
   "execution_count": 13,
   "id": "8af4d4d6",
   "metadata": {
    "execution": {
     "iopub.execute_input": "2023-04-17T15:44:29.774953Z",
     "iopub.status.busy": "2023-04-17T15:44:29.774035Z",
     "iopub.status.idle": "2023-04-17T15:44:29.840123Z",
     "shell.execute_reply": "2023-04-17T15:44:29.838906Z"
    },
    "papermill": {
     "duration": 0.08461,
     "end_time": "2023-04-17T15:44:29.842918",
     "exception": false,
     "start_time": "2023-04-17T15:44:29.758308",
     "status": "completed"
    },
    "tags": []
   },
   "outputs": [
    {
     "data": {
      "text/html": [
       "<div>                            <div id=\"058a069a-f0af-4112-9cda-285161d42450\" class=\"plotly-graph-div\" style=\"height:500px; width:1000px;\"></div>            <script type=\"text/javascript\">                require([\"plotly\"], function(Plotly) {                    window.PLOTLYENV=window.PLOTLYENV || {};                                    if (document.getElementById(\"058a069a-f0af-4112-9cda-285161d42450\")) {                    Plotly.newPlot(                        \"058a069a-f0af-4112-9cda-285161d42450\",                        [{\"alignmentgroup\":\"True\",\"hovertemplate\":\"Validity=%{x}<br>Count=%{y}<br>Code=%{marker.color}<extra></extra>\",\"legendgroup\":\"\",\"marker\":{\"color\":[1.0,9.0,0.0,6.0,4.0,8.0,11.0,3.0,1.0,8.0,9.0,0.0,4.0,6.0,2.0,3.0,7.0,1.0,0.0,9.0,6.0,2.0,3.0,8.0,4.0,1.0,0.0,6.0,3.0,8.0,2.0,9.0,4.0,1.0,0.0,3.0,8.0,9.0,6.0,7.0,4.0,5.0,1.0,3.0,8.0,6.0,9.0,7.0,0.0,4.0,10.0],\"coloraxis\":\"coloraxis\",\"pattern\":{\"shape\":\"\"}},\"name\":\"\",\"offsetgroup\":\"\",\"orientation\":\"v\",\"showlegend\":false,\"textposition\":\"auto\",\"x\":[-1.0,-1.0,-1.0,-1.0,-1.0,-1.0,-1.0,-1.0,0.0,0.0,0.0,0.0,0.0,0.0,0.0,0.0,0.0,1.0,1.0,1.0,1.0,1.0,1.0,1.0,1.0,2.0,2.0,2.0,2.0,2.0,2.0,2.0,2.0,3.0,3.0,3.0,3.0,3.0,3.0,3.0,3.0,3.0,4.0,4.0,4.0,4.0,4.0,4.0,4.0,4.0,4.0],\"xaxis\":\"x\",\"y\":[52,33,28,4,3,2,2,1,53,27,6,2,2,2,1,1,1,214,80,23,21,8,8,4,3,292,67,21,9,9,7,7,3,233,31,25,19,10,8,2,1,1,678,52,43,35,11,8,2,2,1],\"yaxis\":\"y\",\"type\":\"bar\"}],                        {\"template\":{\"data\":{\"pie\":[{\"automargin\":true,\"type\":\"pie\"}]},\"layout\":{\"xaxis\":{\"showgrid\":true,\"title\":{\"standoff\":15}},\"yaxis\":{\"showgrid\":true,\"title\":{\"standoff\":15}}}},\"xaxis\":{\"anchor\":\"y\",\"domain\":[0.0,1.0],\"title\":{\"text\":\"Validity\"}},\"yaxis\":{\"anchor\":\"x\",\"domain\":[0.0,1.0],\"title\":{\"text\":\"Count\"}},\"coloraxis\":{\"colorbar\":{\"title\":{\"text\":\"Code\"}},\"colorscale\":[[0.0,\"rgb(209, 238, 234)\"],[0.16666666666666666,\"rgb(168, 219, 217)\"],[0.3333333333333333,\"rgb(133, 196, 201)\"],[0.5,\"rgb(104, 171, 184)\"],[0.6666666666666666,\"rgb(79, 144, 166)\"],[0.8333333333333334,\"rgb(59, 115, 143)\"],[1.0,\"rgb(42, 86, 116)\"]]},\"legend\":{\"tracegroupgap\":0},\"title\":{\"text\":\"<b> Fig.2 Tsunami Code Count in Different Validity\"},\"barmode\":\"relative\",\"height\":500,\"width\":1000},                        {\"responsive\": true}                    ).then(function(){\n",
       "                            \n",
       "var gd = document.getElementById('058a069a-f0af-4112-9cda-285161d42450');\n",
       "var x = new MutationObserver(function (mutations, observer) {{\n",
       "        var display = window.getComputedStyle(gd).display;\n",
       "        if (!display || display === 'none') {{\n",
       "            console.log([gd, 'removed!']);\n",
       "            Plotly.purge(gd);\n",
       "            observer.disconnect();\n",
       "        }}\n",
       "}});\n",
       "\n",
       "// Listen for the removal of the full notebook cells\n",
       "var notebookContainer = gd.closest('#notebook-container');\n",
       "if (notebookContainer) {{\n",
       "    x.observe(notebookContainer, {childList: true});\n",
       "}}\n",
       "\n",
       "// Listen for the clearing of the current output cell\n",
       "var outputEl = gd.closest('.output');\n",
       "if (outputEl) {{\n",
       "    x.observe(outputEl, {childList: true});\n",
       "}}\n",
       "\n",
       "                        })                };                });            </script>        </div>"
      ]
     },
     "metadata": {},
     "output_type": "display_data"
    }
   ],
   "source": [
    "fig = px.bar(\n",
    "             df_count,\n",
    "             x='Validity',\n",
    "             y='Count',\n",
    "             color='Code',\n",
    "             template='gridon',\n",
    "             color_continuous_scale = 'teal',\n",
    "             width=1000,\n",
    "             height=500,\n",
    "             title='<b> Fig.2 Tsunami Code Count in Different Validity'\n",
    "            )\n",
    "\n",
    "fig.show()"
   ]
  },
  {
   "cell_type": "markdown",
   "id": "00894d45",
   "metadata": {
    "papermill": {
     "duration": 0.013616,
     "end_time": "2023-04-17T15:44:29.870768",
     "exception": false,
     "start_time": "2023-04-17T15:44:29.857152",
     "status": "completed"
    },
    "tags": []
   },
   "source": [
    "**From `Fig.2`, most of recorded Tsunamis were turly happened and caused by earthquake.**       \n",
    "**Small fraction of misreported tsunamis due to meteorological factors.**"
   ]
  },
  {
   "cell_type": "code",
   "execution_count": 14,
   "id": "d3003ed8",
   "metadata": {
    "execution": {
     "iopub.execute_input": "2023-04-17T15:44:29.905544Z",
     "iopub.status.busy": "2023-04-17T15:44:29.904662Z",
     "iopub.status.idle": "2023-04-17T15:44:29.959514Z",
     "shell.execute_reply": "2023-04-17T15:44:29.958394Z"
    },
    "papermill": {
     "duration": 0.083272,
     "end_time": "2023-04-17T15:44:29.968319",
     "exception": false,
     "start_time": "2023-04-17T15:44:29.885047",
     "status": "completed"
    },
    "tags": []
   },
   "outputs": [
    {
     "data": {
      "text/html": [
       "<div>                            <div id=\"58e3e790-4b59-404d-8454-00841fc37f52\" class=\"plotly-graph-div\" style=\"height:500px; width:1000px;\"></div>            <script type=\"text/javascript\">                require([\"plotly\"], function(Plotly) {                    window.PLOTLYENV=window.PLOTLYENV || {};                                    if (document.getElementById(\"58e3e790-4b59-404d-8454-00841fc37f52\")) {                    Plotly.newPlot(                        \"58e3e790-4b59-404d-8454-00841fc37f52\",                        [{\"alignmentgroup\":\"True\",\"hovertemplate\":\"Code=%{x}<br>Count=%{y}<br>Validity=%{marker.color}<extra></extra>\",\"legendgroup\":\"\",\"marker\":{\"color\":[-1.0,-1.0,-1.0,-1.0,-1.0,-1.0,-1.0,-1.0,0.0,0.0,0.0,0.0,0.0,0.0,0.0,0.0,0.0,1.0,1.0,1.0,1.0,1.0,1.0,1.0,1.0,2.0,2.0,2.0,2.0,2.0,2.0,2.0,2.0,3.0,3.0,3.0,3.0,3.0,3.0,3.0,3.0,3.0,4.0,4.0,4.0,4.0,4.0,4.0,4.0,4.0,4.0],\"coloraxis\":\"coloraxis\",\"pattern\":{\"shape\":\"\"}},\"name\":\"\",\"offsetgroup\":\"\",\"orientation\":\"v\",\"showlegend\":false,\"textposition\":\"auto\",\"x\":[1.0,9.0,0.0,6.0,4.0,8.0,11.0,3.0,1.0,8.0,9.0,0.0,4.0,6.0,2.0,3.0,7.0,1.0,0.0,9.0,6.0,2.0,3.0,8.0,4.0,1.0,0.0,6.0,3.0,8.0,2.0,9.0,4.0,1.0,0.0,3.0,8.0,9.0,6.0,7.0,4.0,5.0,1.0,3.0,8.0,6.0,9.0,7.0,0.0,4.0,10.0],\"xaxis\":\"x\",\"y\":[52,33,28,4,3,2,2,1,53,27,6,2,2,2,1,1,1,214,80,23,21,8,8,4,3,292,67,21,9,9,7,7,3,233,31,25,19,10,8,2,1,1,678,52,43,35,11,8,2,2,1],\"yaxis\":\"y\",\"type\":\"bar\"}],                        {\"template\":{\"data\":{\"pie\":[{\"automargin\":true,\"type\":\"pie\"}]},\"layout\":{\"xaxis\":{\"showgrid\":true,\"title\":{\"standoff\":15}},\"yaxis\":{\"showgrid\":true,\"title\":{\"standoff\":15}}}},\"xaxis\":{\"anchor\":\"y\",\"domain\":[0.0,1.0],\"title\":{\"text\":\"Code\"}},\"yaxis\":{\"anchor\":\"x\",\"domain\":[0.0,1.0],\"title\":{\"text\":\"Count\"}},\"coloraxis\":{\"colorbar\":{\"title\":{\"text\":\"Validity\"}},\"colorscale\":[[0.0,\"rgb(209, 238, 234)\"],[0.16666666666666666,\"rgb(168, 219, 217)\"],[0.3333333333333333,\"rgb(133, 196, 201)\"],[0.5,\"rgb(104, 171, 184)\"],[0.6666666666666666,\"rgb(79, 144, 166)\"],[0.8333333333333334,\"rgb(59, 115, 143)\"],[1.0,\"rgb(42, 86, 116)\"]]},\"legend\":{\"tracegroupgap\":0},\"title\":{\"text\":\"<b>Fig.3 Tsunami Count in Different Code\"},\"barmode\":\"relative\",\"height\":500,\"width\":1000},                        {\"responsive\": true}                    ).then(function(){\n",
       "                            \n",
       "var gd = document.getElementById('58e3e790-4b59-404d-8454-00841fc37f52');\n",
       "var x = new MutationObserver(function (mutations, observer) {{\n",
       "        var display = window.getComputedStyle(gd).display;\n",
       "        if (!display || display === 'none') {{\n",
       "            console.log([gd, 'removed!']);\n",
       "            Plotly.purge(gd);\n",
       "            observer.disconnect();\n",
       "        }}\n",
       "}});\n",
       "\n",
       "// Listen for the removal of the full notebook cells\n",
       "var notebookContainer = gd.closest('#notebook-container');\n",
       "if (notebookContainer) {{\n",
       "    x.observe(notebookContainer, {childList: true});\n",
       "}}\n",
       "\n",
       "// Listen for the clearing of the current output cell\n",
       "var outputEl = gd.closest('.output');\n",
       "if (outputEl) {{\n",
       "    x.observe(outputEl, {childList: true});\n",
       "}}\n",
       "\n",
       "                        })                };                });            </script>        </div>"
      ]
     },
     "metadata": {},
     "output_type": "display_data"
    }
   ],
   "source": [
    "fig = px.bar(\n",
    "             df_count,\n",
    "             x='Code',\n",
    "             y='Count',\n",
    "             color='Validity',\n",
    "             template='gridon',\n",
    "             color_continuous_scale = px.colors.carto.Teal,\n",
    "             log_y=False,\n",
    "             width=1000,\n",
    "             height=500,\n",
    "             title='<b>Fig.3 Tsunami Count in Different Code'\n",
    "            )\n",
    "\n",
    "fig.show()"
   ]
  },
  {
   "cell_type": "markdown",
   "id": "520986a5",
   "metadata": {
    "papermill": {
     "duration": 0.013926,
     "end_time": "2023-04-17T15:44:29.998968",
     "exception": false,
     "start_time": "2023-04-17T15:44:29.985042",
     "status": "completed"
    },
    "tags": []
   },
   "source": [
    "**From `Fig.3`, the vast majority of recorded tsunamis in the world are triggered by earthquakes.**   \n",
    "**Other factors such as volcanic eruptions account for only a few.**"
   ]
  },
  {
   "cell_type": "markdown",
   "id": "e55c9925",
   "metadata": {
    "papermill": {
     "duration": 0.013814,
     "end_time": "2023-04-17T15:44:30.027041",
     "exception": false,
     "start_time": "2023-04-17T15:44:30.013227",
     "status": "completed"
    },
    "tags": []
   },
   "source": [
    "# PiePlot: Country Analysis"
   ]
  },
  {
   "cell_type": "code",
   "execution_count": 15,
   "id": "4559cbee",
   "metadata": {
    "execution": {
     "iopub.execute_input": "2023-04-17T15:44:30.057183Z",
     "iopub.status.busy": "2023-04-17T15:44:30.056767Z",
     "iopub.status.idle": "2023-04-17T15:44:30.070684Z",
     "shell.execute_reply": "2023-04-17T15:44:30.069447Z"
    },
    "papermill": {
     "duration": 0.032319,
     "end_time": "2023-04-17T15:44:30.073581",
     "exception": false,
     "start_time": "2023-04-17T15:44:30.041262",
     "status": "completed"
    },
    "tags": []
   },
   "outputs": [],
   "source": [
    "country = pd.DataFrame(data[['Country']].value_counts()).reset_index()\n",
    "country = country.rename(columns={0: \"Count\"})\n",
    "\n",
    "# Represent only countries suffered from tsunamis over 20 times\n",
    "country.loc[country['Count'] < 20, 'Country'] = 'Other countries' "
   ]
  },
  {
   "cell_type": "code",
   "execution_count": 16,
   "id": "9a8abfdd",
   "metadata": {
    "execution": {
     "iopub.execute_input": "2023-04-17T15:44:30.113842Z",
     "iopub.status.busy": "2023-04-17T15:44:30.112688Z",
     "iopub.status.idle": "2023-04-17T15:44:30.164423Z",
     "shell.execute_reply": "2023-04-17T15:44:30.163537Z"
    },
    "papermill": {
     "duration": 0.07047,
     "end_time": "2023-04-17T15:44:30.167367",
     "exception": false,
     "start_time": "2023-04-17T15:44:30.096897",
     "status": "completed"
    },
    "tags": []
   },
   "outputs": [
    {
     "data": {
      "text/html": [
       "<div>                            <div id=\"43c90efc-8d02-4fa6-a4cd-80467ce56370\" class=\"plotly-graph-div\" style=\"height:500px; width:1000px;\"></div>            <script type=\"text/javascript\">                require([\"plotly\"], function(Plotly) {                    window.PLOTLYENV=window.PLOTLYENV || {};                                    if (document.getElementById(\"43c90efc-8d02-4fa6-a4cd-80467ce56370\")) {                    Plotly.newPlot(                        \"43c90efc-8d02-4fa6-a4cd-80467ce56370\",                        [{\"domain\":{\"x\":[0.0,1.0],\"y\":[0.0,1.0]},\"hovertemplate\":\"Country=%{label}<br>Count=%{value}<extra></extra>\",\"labels\":[\"USA\",\"INDONESIA\",\"JAPAN\",\"CHILE\",\"GREECE\",\"ITALY\",\"RUSSIA\",\"NEW ZEALAND\",\"PHILIPPINES\",\"PAPUA NEW GUINEA\",\"MEXICO\",\"PERU\",\"SOLOMON ISLANDS\",\"VANUATU\",\"CANADA\",\"TURKEY\",\"NORWAY\",\"CHINA\",\"USA TERRITORY\",\"AUSTRALIA\",\"TAIWAN\",\"VENEZUELA\",\"Other countries\",\"Other countries\",\"Other countries\",\"Other countries\",\"Other countries\",\"Other countries\",\"Other countries\",\"Other countries\",\"Other countries\",\"Other countries\",\"Other countries\",\"Other countries\",\"Other countries\",\"Other countries\",\"Other countries\",\"Other countries\",\"Other countries\",\"Other countries\",\"Other countries\",\"Other countries\",\"Other countries\",\"Other countries\",\"Other countries\",\"Other countries\",\"Other countries\",\"Other countries\",\"Other countries\",\"Other countries\",\"Other countries\",\"Other countries\",\"Other countries\",\"Other countries\",\"Other countries\",\"Other countries\",\"Other countries\",\"Other countries\",\"Other countries\",\"Other countries\",\"Other countries\",\"Other countries\",\"Other countries\",\"Other countries\",\"Other countries\",\"Other countries\",\"Other countries\",\"Other countries\",\"Other countries\",\"Other countries\",\"Other countries\",\"Other countries\",\"Other countries\",\"Other countries\",\"Other countries\",\"Other countries\",\"Other countries\",\"Other countries\",\"Other countries\",\"Other countries\",\"Other countries\",\"Other countries\",\"Other countries\",\"Other countries\",\"Other countries\",\"Other countries\",\"Other countries\",\"Other countries\",\"Other countries\",\"Other countries\",\"Other countries\",\"Other countries\",\"Other countries\",\"Other countries\",\"Other countries\",\"Other countries\",\"Other countries\",\"Other countries\",\"Other countries\",\"Other countries\",\"Other countries\",\"Other countries\",\"Other countries\",\"Other countries\"],\"legendgroup\":\"\",\"name\":\"\",\"showlegend\":true,\"values\":[260,228,225,151,113,91,90,86,79,75,59,53,46,36,25,25,24,23,23,21,21,20,19,19,16,16,15,13,12,12,10,10,9,9,8,8,8,8,7,7,6,6,6,6,6,6,6,5,5,5,5,5,5,5,5,4,4,4,4,4,4,4,4,4,3,3,3,3,3,3,2,2,2,2,2,2,2,2,2,2,2,1,1,1,1,1,1,1,1,1,1,1,1,1,1,1,1,1,1,1,1,1,1,1],\"type\":\"pie\",\"textinfo\":\"percent+label\",\"textposition\":\"inside\"}],                        {\"template\":{\"data\":{\"pie\":[{\"automargin\":true,\"type\":\"pie\"}]},\"layout\":{\"xaxis\":{\"showgrid\":true,\"title\":{\"standoff\":15}},\"yaxis\":{\"showgrid\":true,\"title\":{\"standoff\":15}}}},\"legend\":{\"tracegroupgap\":0},\"title\":{\"text\":\"<b>Fig.4 Tsunami Count for Different Country\"},\"piecolorway\":[\"rgb(209, 238, 234)\",\"rgb(168, 219, 217)\",\"rgb(133, 196, 201)\",\"rgb(104, 171, 184)\",\"rgb(79, 144, 166)\",\"rgb(59, 115, 143)\",\"rgb(42, 86, 116)\"],\"height\":500,\"width\":1000},                        {\"responsive\": true}                    ).then(function(){\n",
       "                            \n",
       "var gd = document.getElementById('43c90efc-8d02-4fa6-a4cd-80467ce56370');\n",
       "var x = new MutationObserver(function (mutations, observer) {{\n",
       "        var display = window.getComputedStyle(gd).display;\n",
       "        if (!display || display === 'none') {{\n",
       "            console.log([gd, 'removed!']);\n",
       "            Plotly.purge(gd);\n",
       "            observer.disconnect();\n",
       "        }}\n",
       "}});\n",
       "\n",
       "// Listen for the removal of the full notebook cells\n",
       "var notebookContainer = gd.closest('#notebook-container');\n",
       "if (notebookContainer) {{\n",
       "    x.observe(notebookContainer, {childList: true});\n",
       "}}\n",
       "\n",
       "// Listen for the clearing of the current output cell\n",
       "var outputEl = gd.closest('.output');\n",
       "if (outputEl) {{\n",
       "    x.observe(outputEl, {childList: true});\n",
       "}}\n",
       "\n",
       "                        })                };                });            </script>        </div>"
      ]
     },
     "metadata": {},
     "output_type": "display_data"
    }
   ],
   "source": [
    "fig = px.pie(\n",
    "             country,\n",
    "             names='Country',\n",
    "             values='Count',\n",
    "             template='gridon',\n",
    "             color_discrete_sequence=px.colors.carto.Teal,\n",
    "             width=1000, \n",
    "             height=500,\n",
    "             title='<b>Fig.4 Tsunami Count for Different Country'\n",
    "            )\n",
    "\n",
    "fig.update_traces(\n",
    "                  textposition='inside',\n",
    "                  textinfo='percent+label'\n",
    "                  )\n",
    "\n",
    "fig.show()"
   ]
  },
  {
   "cell_type": "markdown",
   "id": "c32d67a1",
   "metadata": {
    "papermill": {
     "duration": 0.014102,
     "end_time": "2023-04-17T15:44:30.199967",
     "exception": false,
     "start_time": "2023-04-17T15:44:30.185865",
     "status": "completed"
    },
    "tags": []
   },
   "source": [
    "**From `Fig.4`, the top five countries with the most tsunami records (including erroneous entry) in the world are:**\n",
    "- USA\n",
    "- Indonesia\n",
    "- Japan\n",
    "- Chile\n",
    "- Greece"
   ]
  },
  {
   "cell_type": "markdown",
   "id": "525909d0",
   "metadata": {
    "papermill": {
     "duration": 0.014147,
     "end_time": "2023-04-17T15:44:30.228544",
     "exception": false,
     "start_time": "2023-04-17T15:44:30.214397",
     "status": "completed"
    },
    "tags": []
   },
   "source": [
    "# GeoPlot: Worldwide Tsunami Densisty"
   ]
  },
  {
   "cell_type": "code",
   "execution_count": 17,
   "id": "93592a3e",
   "metadata": {
    "execution": {
     "iopub.execute_input": "2023-04-17T15:44:30.263800Z",
     "iopub.status.busy": "2023-04-17T15:44:30.262831Z",
     "iopub.status.idle": "2023-04-17T15:44:30.279834Z",
     "shell.execute_reply": "2023-04-17T15:44:30.278473Z"
    },
    "papermill": {
     "duration": 0.036529,
     "end_time": "2023-04-17T15:44:30.282564",
     "exception": false,
     "start_time": "2023-04-17T15:44:30.246035",
     "status": "completed"
    },
    "tags": []
   },
   "outputs": [],
   "source": [
    "# Set a feature named 'Century'\n",
    "\n",
    "map = pd.DataFrame(df[['Country','Year','Latitude','Longitude']])\n",
    "map = map.dropna()\n",
    "map.loc[(map['Year']>=1800)&(map['Year']<1900), 'Century'] = 19\n",
    "map.loc[(map['Year']>=1900)&(map['Year']<2000), 'Century'] = 20\n",
    "map.loc[map['Year']>=2000, 'Century'] = 21"
   ]
  },
  {
   "cell_type": "code",
   "execution_count": 18,
   "id": "9e6adf39",
   "metadata": {
    "execution": {
     "iopub.execute_input": "2023-04-17T15:44:30.317637Z",
     "iopub.status.busy": "2023-04-17T15:44:30.316782Z",
     "iopub.status.idle": "2023-04-17T15:44:31.096270Z",
     "shell.execute_reply": "2023-04-17T15:44:31.094913Z"
    },
    "papermill": {
     "duration": 0.801242,
     "end_time": "2023-04-17T15:44:31.099817",
     "exception": false,
     "start_time": "2023-04-17T15:44:30.298575",
     "status": "completed"
    },
    "tags": []
   },
   "outputs": [
    {
     "data": {
      "text/html": [
       "<div>                            <div id=\"df8d2360-d9ec-430f-879b-d6179aac5d41\" class=\"plotly-graph-div\" style=\"height:500px; width:1000px;\"></div>            <script type=\"text/javascript\">                require([\"plotly\"], function(Plotly) {                    window.PLOTLYENV=window.PLOTLYENV || {};                                    if (document.getElementById(\"df8d2360-d9ec-430f-879b-d6179aac5d41\")) {                    Plotly.newPlot(                        \"df8d2360-d9ec-430f-879b-d6179aac5d41\",                        [{\"coloraxis\":\"coloraxis\",\"hovertemplate\":\"<b>%{hovertext}</b><br><br>Latitude=%{lat}<br>Longitude=%{lon}<extra></extra>\",\"hovertext\":[\"CROATIA\",\"ANTIGUA AND BARBUDA\",\"VENEZUELA\",\"INDONESIA\",\"ALGERIA\",\"JAPAN\",\"GREECE\",\"SPAIN\",\"GREECE\",\"JAPAN\",\"AUSTRALIA\",\"ITALY\",\"USA\",\"ITALY\",\"PERU\",\"FRENCH POLYNESIA\",\"ITALY\",\"JAPAN\",\"ITALY\",\"SOUTH AFRICA\",\"USA TERRITORY\",\"GREECE\",\"MEXICO\",\"JAPAN\",\"NORWAY\",\"CHILE\",\"USA\",\"USA\",\"USA\",\"USA\",\"VENEZUELA\",\"FRANCE\",\"JAMAICA\",\"USA\",\"ITALY\",\"INDONESIA\",\"INDONESIA\",\"INDONESIA\",\"INDONESIA\",\"INDONESIA\",\"USA\",\"ITALY\",\"GREECE\",\"ITALY\",\"ITALY\",\"INDONESIA\",\"INDONESIA\",\"ITALY\",\"ITALY\",\"CHILE\",\"INDIA\",\"NORWAY\",\"USA TERRITORY\",\"USA\",\"GREECE\",\"MEXICO\",\"GREECE\",\"INDONESIA\",\"USA\",\"CONGO\",\"GREECE\",\"COSTA RICA\",\"UK TERRITORY\",\"USA\",\"INDONESIA\",\"ITALY\",\"COSTA RICA\",\"TURKEY\",\"CHILE\",\"ITALY\",\"USA\",\"INDONESIA\",\"MARTINIQUE (FRENCH TERRITORY)\",\"GUADELOUPE (FRENCH TERRITORY)\",\"PHILIPPINES\",\"MARTINIQUE (FRENCH TERRITORY)\",\"GREECE\",\"COLOMBIA\",\"USA\",\"USA TERRITORY\",\"TRINIDAD AND TOBAGO\",\"JAPAN\",\"ITALY\",\"USA\",\"NEW ZEALAND\",\"RUSSIA\",\"ECUADOR\",\"JAPAN\",\"ITALY\",\"PHILIPPINES\",\"TURKEY\",\"PHILIPPINES\",\"PHILIPPINES\",\"ITALY\",\"ITALY\",\"TRINIDAD AND TOBAGO\",\"NEW ZEALAND\",\"ITALY\",\"ALBANIA\",\"MEXICO\",\"CHINA\",\"PERU\",\"INDONESIA\",\"JAPAN\",\"JAPAN\",\"MEXICO\",\"CHILE\",\"JAPAN\",\"AUSTRALIA\",\"INDONESIA\",\"ITALY\",\"CHILE\",\"JAPAN\",\"INDONESIA\",\"ISRAEL\",\"NETHERLANDS\",\"MEXICO\",\"INDONESIA\",\"MEXICO\",\"MICRONESIA, FED. STATES OF\",\"CHILE\",\"CHILE\",\"CROATIA\",\"CHILE\",\"JAPAN\",\"NEW ZEALAND\",\"INDONESIA\",\"PERU\",\"INDONESIA\",\"PHILIPPINES\",\"NEW ZEALAND\",\"NEW ZEALAND\",\"USA\",\"RUSSIA\",\"INDONESIA\",\"INDONESIA\",\"HAITI\",\"BANGLADESH\",\"INDONESIA\",\"INDONESIA\",\"GUADELOUPE (FRENCH TERRITORY)\",\"GUADELOUPE (FRENCH TERRITORY)\",\"JAPAN\",\"NEW ZEALAND\",\"CROATIA\",\"GREECE\",\"CROATIA\",\"NICARAGUA\",\"INDONESIA\",\"MEXICO\",\"ITALY\",\"INDIA\",\"NEW ZEALAND\",\"INDONESIA\",\"JAPAN\",\"NEW ZEALAND\",\"ITALY\",\"ITALY\",\"ITALY\",\"PERU\",\"PORTUGAL\",\"CHILE\",\"INDIA\",\"FRENCH POLYNESIA\",\"CANADA\",\"NEW ZEALAND\",\"USA TERRITORY\",\"RUSSIA\",\"CHILE\",\"JAPAN\",\"NORTHWEST PACIFIC OCEAN\",\"GREECE\",\"TURKEY\",\"INDONESIA\",\"USA\",\"CHILE\",\"ITALY\",\"ALBANIA\",\"INDONESIA\",\"CUBA\",\"PHILIPPINES\",\"INDONESIA\",\"INDONESIA\",\"INDONESIA\",\"PERU\",\"MEXICO\",\"MEXICO\",\"INDONESIA\",\"VENEZUELA\",\"GREECE\",\"JAPAN\",\"TAIWAN\",\"RUSSIA\",\"TONGA\",\"USA\",\"INDONESIA\",\"NORTHWEST PACIFIC OCEAN\",\"USA\",\"USA\",\"RUSSIA\",\"RUSSIA\",\"COSTA RICA\",\"COSTA RICA\",\"INDONESIA\",\"USA\",\"MEXICO\",\"JAPAN\",\"JAPAN\",\"FRANCE\",\"NEW ZEALAND\",\"NEW ZEALAND\",\"NEW ZEALAND\",\"USA\",\"INDONESIA\",\"USA\",\"CHILE\",\"HONDURAS\",\"USA\",\"JAPAN\",\"JAPAN\",\"JAPAN\",\"CHINA\",\"USA\",\"INDONESIA\",\"NEW ZEALAND\",\"INDONESIA\",\"USA\",\"HONDURAS\",\"ALGERIA\",\"ALGERIA\",\"JAPAN\",\"JAPAN\",\"GREECE\",\"GREECE\",\"SUDAN\",\"PAPUA NEW GUINEA\",\"INDONESIA\",\"ALGERIA\",\"JAPAN\",\"TURKEY\",\"INDONESIA\",\"INDONESIA\",\"GREECE\",\"CHILE\",\"UK\",\"JAPAN\",\"INDONESIA\",\"INDONESIA\",\"INDONESIA\",\"INDONESIA\",\"TURKEY\",\"EL SALVADOR\",\"INDONESIA\",\"CHILE\",\"INDONESIA\",\"AUSTRALIA\",\"EL SALVADOR\",\"INDONESIA\",\"INDONESIA\",\"MEXICO\",\"HAITI\",\"PERU\",\"INDONESIA\",\"INDONESIA\",\"INDONESIA\",\"INDONESIA\",\"INDONESIA\",\"INDONESIA\",\"INDONESIA\",\"INDONESIA\",\"INDONESIA\",\"JAPAN\",\"GREECE\",\"GREECE\",\"PHILIPPINES\",\"INDONESIA\",\"USA\",\"GHANA\",\"INDONESIA\",\"GREECE\",\"PHILIPPINES\",\"VANUATU\",\"JAPAN\",\"HAITI\",\"INDONESIA\",\"CANADA\",\"PERU\",\"JAPAN\",\"USA\",\"USA\",\"USA\",\"PHILIPPINES\",\"TONGA\",\"PERU\",\"ALBANIA\",\"GREECE\",\"GREECE\",\"GREECE\",\"GREECE\",\"ALBANIA\",\"ALBANIA\",\"ALBANIA\",\"AUSTRALIA\",\"AUSTRALIA\",\"USA\",\"USA TERRITORY\",\"GREECE\",\"GREECE\",\"ITALY\",\"NORWAY\",\"INDONESIA\",\"AUSTRALIA\",\"GREECE\",\"VENEZUELA\",\"USA TERRITORY\",\"TAIWAN\",\"USA TERRITORY\",\"USA\",\"USA\",\"ITALY\",\"MEXICO\",\"MEXICO\",\"CHILE\",\"VENEZUELA\",\"CHILE\",\"INDIA\",\"ITALY\",\"CHILE\",\"PERU\",\"CHILE\",\"NEW ZEALAND\",\"USA\",\"NEW ZEALAND\",\"CHILE\",\"CHILE\",\"NEW ZEALAND\",\"NEW ZEALAND\",\"PERU\",\"CHILE\",\"USA\",\"CHILE\",\"AUSTRALIA\",\"PHILIPPINES\",\"CHILE\",\"CHILE\",\"UKRAINE\",\"GREECE\",\"NEW ZEALAND\",\"NEW ZEALAND\",\"MEXICO\",\"EGYPT\",\"CROATIA\",\"GREECE\",\"AUSTRALIA\",\"CANADA\",\"ITALY\",\"PERU\",\"MEXICO\",\"USA\",\"INDONESIA\",\"CHILE\",\"NEW ZEALAND\",\"PHILIPPINES\",\"USA\",\"CHILE\",\"PERU\",\"INDONESIA\",\"NEW ZEALAND\",\"FRANCE\",\"CHILE\",\"PERU\",\"PHILIPPINES\",\"JAPAN\",\"USA\",\"TURKEY\",\"USA\",\"USA\",\"USA\",\"JAPAN\",\"PANAMA\",\"CHILE\",\"USA\",\"PAPUA NEW GUINEA\",\"USA TERRITORY\",\"BANGLADESH\",\"USA\",\"AUSTRALIA\",\"MEXICO\",\"ITALY\",\"NEW CALEDONIA\",\"VANUATU\",\"PAPUA NEW GUINEA\",\"INDONESIA\",\"USA\",\"USA\",\"USA\",\"CHILE\",\"PERU\",\"CHILE\",\"CHILE\",\"CHILE\",\"CHILE\",\"VIETNAM\",\"CHILE\",\"COLOMBIA\",\"NEW ZEALAND\",\"VANUATU\",\"CHILE\",\"PERU\",\"CHILE\",\"CHILE\",\"PAPUA NEW GUINEA\",\"PERU\",\"VANUATU\",\"CHILE\",\"CHILE\",\"CHILE\",\"TURKEY\",\"CHILE\",\"CHILE\",\"USA\",\"VANUATU\",\"CHILE\",\"USA\",\"CHILE\",\"ITALY\",\"NEW ZEALAND\",\"EGYPT\",\"CHILE\",\"USA\",\"USA\",\"NORWAY\",\"ITALY\",\"PHILIPPINES\",\"CHILE\",\"NEW ZEALAND\",\"AUSTRALIA\",\"USA\",\"USA\",\"JAPAN\",\"GREECE\",\"GREECE\",\"NEW ZEALAND\",\"FIJI\",\"CHILE\",\"JAMAICA\",\"JAPAN\",\"CHILE\",\"GREECE\",\"INDIA\",\"SRI LANKA\",\"CHILE\",\"NEW ZEALAND\",\"VIETNAM\",\"PANAMA\",\"CHILE\",\"INDONESIA\",\"TAIWAN\",\"INDONESIA\",\"INDONESIA\",\"GREECE\",\"INDONESIA\",\"USA\",\"INDONESIA\",\"USA\",\"URUGUAY\",\"USA\",\"FIJI\",\"INDONESIA\",\"ERITREA\",\"USA\",\"USA\",\"PANAMA\",\"USA\",\"USA\",\"ALGERIA\",\"INDONESIA\",\"INDONESIA\",\"INDONESIA\",\"CHILE\",\"INDONESIA\",\"INDONESIA\",\"NEW ZEALAND\",\"GREECE\",\"USA\",\"NEW ZEALAND\",\"PHILIPPINES\",\"USA\",\"ITALY\",\"MEXICO\",\"INDONESIA\",\"HAITI\",\"GREECE\",\"PAPUA NEW GUINEA\",\"INDONESIA\",\"NORWAY\",\"URUGUAY\",\"CHINA\",\"GREECE\",\"PHILIPPINES\",\"INDONESIA\",\"INDONESIA\",\"INDONESIA\",\"ITALY\",\"IRAN\",\"ALGERIA\",\"INDONESIA\",\"INDONESIA\",\"INDONESIA\",\"NEW ZEALAND\",\"MEXICO\",\"NEW ZEALAND\",\"INDONESIA\",\"USA\",\"CHILE\",\"URUGUAY\",\"USA TERRITORY\",\"INDONESIA\",\"INDONESIA\",\"TONGA\",\"VANUATU\",\"ITALY\",\"INDONESIA\",\"JAPAN\",\"GREECE\",\"JAMAICA\",\"GREECE\",\"RUSSIA\",\"JAPAN\",\"ALBANIA\",\"PHILIPPINES\",\"VANUATU\",\"VANUATU\",\"JAPAN\",\"GREECE\",\"MEXICO\",\"TURKEY\",\"JAPAN\",\"ITALY\",\"ATLANTIC OCEAN\",\"USA\",\"PAPUA NEW GUINEA\",\"JAPAN\",\"CHILE\",\"TURKMENISTAN\",\"NEW ZEALAND\",\"NEW ZEALAND\",\"USA\",\"USA\",\"ITALY\",\"JAPAN\",\"JAMAICA\",\"JAPAN\",\"INDONESIA\",\"ITALY\",\"JAPAN\",\"INDONESIA\",\"SOLOMON ISLANDS\",\"NEW ZEALAND\",\"INDIA\",\"MEXICO\",\"JAPAN\",\"PHILIPPINES\",\"PHILIPPINES\",\"NEW ZEALAND\",\"PHILIPPINES\",\"DOMINICAN REPUBLIC\",\"MONTSERRAT\",\"USA\",\"JAPAN\",\"GREECE\",\"CHILE\",\"GREECE\",\"PAPUA NEW GUINEA\",\"GREECE\",\"AUSTRALIA\",\"PORTUGAL\",\"CHILE\",\"USA\",\"USA\",\"INDONESIA\",\"JAPAN\",\"PAPUA NEW GUINEA\",\"JAPAN\",\"JAPAN\",\"USA\",\"VIETNAM\",\"INDONESIA\",\"USA\",\"PAPUA NEW GUINEA\",\"PAPUA NEW GUINEA\",\"INDONESIA\",\"VENEZUELA\",\"USA\",\"BULGARIA\",\"JAPAN\",\"JAPAN\",\"JAPAN\",\"NEW CALEDONIA\",\"JAPAN\",\"JAPAN\",\"PHILIPPINES\",\"NICARAGUA\",\"USA\",\"GUATEMALA\",\"EL SALVADOR\",\"GUATEMALA\",\"MARTINIQUE (FRENCH TERRITORY)\",\"SAINT VINCENT AND THE GRENADINES\",\"MARTINIQUE (FRENCH TERRITORY)\",\"MARTINIQUE (FRENCH TERRITORY)\",\"MARTINIQUE (FRENCH TERRITORY)\",\"GREECE\",\"MARTINIQUE (FRENCH TERRITORY)\",\"MEXICO\",\"PHILIPPINES\",\"MARTINIQUE (FRENCH TERRITORY)\",\"GUATEMALA\",\"USA TERRITORY\",\"INDONESIA\",\"ITALY\",\"MEXICO\",\"CHILE\",\"CANADA\",\"CHILE\",\"COLOMBIA\",\"INDONESIA\",\"RUSSIA\",\"RUSSIA\",\"INDONESIA\",\"NEW ZEALAND\",\"NEW ZEALAND\",\"INDONESIA\",\"PANAMA\",\"NORWAY\",\"GREECE\",\"COSTA RICA\",\"MEXICO\",\"NEW ZEALAND\",\"INDIA\",\"USA\",\"JAPAN\",\"SAMOA\",\"ITALY\",\"RUSSIA\",\"GEORGIA\",\"GREECE\",\"VANUATU\",\"VANUATU\",\"PHILIPPINES\",\"TUNISIA\",\"ECUADOR\",\"VENEZUELA\",\"ECUADOR\",\"COLOMBIA\",\"ITALY\",\"USA\",\"CHILE\",\"EL SALVADOR\",\"USA\",\"CHILE\",\"PAPUA NEW GUINEA\",\"PAPUA NEW GUINEA\",\"GHANA\",\"SAMOA\",\"PERU\",\"VENEZUELA\",\"INDONESIA\",\"JAMAICA\",\"INDONESIA\",\"MEXICO\",\"SAMOA\",\"SAMOA\",\"SAMOA\",\"SAMOA\",\"SAMOA\",\"TONGA\",\"USA\",\"SAMOA\",\"ITALY\",\"PAPUA NEW GUINEA\",\"INDONESIA\",\"USA\",\"INDONESIA\",\"CANADA\",\"UKRAINE\",\"CANADA\",\"USA\",\"PERU\",\"ITALY\",\"COOK ISLANDS\",\"JAPAN\",\"JAPAN\",\"INDONESIA\",\"CHILE\",\"VANUATU\",\"MEXICO\",\"JAPAN\",\"USA\",\"USA TERRITORY\",\"PAPUA NEW GUINEA\",\"USA\",\"VANUATU\",\"INDONESIA\",\"PHILIPPINES\",\"PHILIPPINES\",\"ALBANIA\",\"PAPUA NEW GUINEA\",\"TOGO\",\"JAPAN\",\"PHILIPPINES\",\"CHILE\",\"USA\",\"TRINIDAD AND TOBAGO\",\"GREECE\",\"USA\",\"JAPAN\",\"TURKEY\",\"MICRONESIA, FED. STATES OF\",\"NEW ZEALAND\",\"INDONESIA\",\"USA\",\"PERU\",\"PERU\",\"PANAMA\",\"PAPUA NEW GUINEA\",\"JAPAN\",\"PERU\",\"ITALY\",\"PERU\",\"INDONESIA\",\"CANADA\",\"INDONESIA\",\"NEW ZEALAND\",\"GREECE\",\"INDONESIA\",\"GREECE\",\"USA TERRITORY\",\"INDONESIA\",\"GREECE\",\"EL SALVADOR\",\"JAPAN\",\"INDONESIA\",\"PHILIPPINES\",\"PAPUA NEW GUINEA\",\"PANAMA\",\"ITALY\",\"ITALY\",\"VENEZUELA\",\"INDONESIA\",\"INDONESIA\",\"CHINA\",\"RUSSIA\",\"PHILIPPINES\",\"INDONESIA\",\"INDONESIA\",\"NEW ZEALAND\",\"TAIWAN\",\"SAMOA\",\"PAPUA NEW GUINEA\",\"USA\",\"INDONESIA\",\"NEW ZEALAND\",\"CANADA\",\"CHINA\",\"CHILE\",\"INDONESIA\",\"CHINA\",\"PHILIPPINES\",\"RUSSIA\",\"USA TERRITORY\",\"USA TERRITORY\",\"RUSSIA\",\"CHILE\",\"ICELAND\",\"PHILIPPINES\",\"TONGA\",\"INDONESIA\",\"INDONESIA\",\"TONGA\",\"TONGA\",\"PAPUA NEW GUINEA\",\"ITALY\",\"NICARAGUA\",\"VENEZUELA\",\"USA\",\"ITALY\",\"INDONESIA\",\"UKRAINE\",\"INDONESIA\",\"PAPUA NEW GUINEA\",\"CHILE\",\"USA TERRITORY\",\"VANUATU\",\"CHINA\",\"ALBANIA\",\"INDONESIA\",\"CHINA\",\"INDONESIA\",\"PHILIPPINES\",\"PERU\",\"PAPUA NEW GUINEA\",\"INDONESIA\",\"PHILIPPINES\",\"PHILIPPINES\",\"INDONESIA\",\"INDONESIA\",\"GREECE\",\"TAIWAN\",\"CHILE\",\"CHILE\",\"NEW ZEALAND\",\"USA\",\"RUSSIA\",\"CHILE\",\"PHILIPPINES\",\"CHILE\",\"RUSSIA\",\"CHILE\",\"JAPAN\",\"PHILIPPINES\",\"USA\",\"CHILE\",\"JAPAN\",\"JAPAN\",\"PAPUA NEW GUINEA\",\"PAPUA NEW GUINEA\",\"VIETNAM\",\"RUSSIA\",\"PHILIPPINES\",\"PHILIPPINES\",\"AUSTRALIA\",\"NEW ZEALAND\",\"USA\",\"ICELAND\",\"PHILIPPINES\",\"INDONESIA\",\"USA\",\"MEXICO\",\"PHILIPPINES\",\"CHILE\",\"PHILIPPINES\",\"PHILIPPINES\",\"MEXICO\",\"MICRONESIA, FED. STATES OF\",\"USA\",\"SOLOMON ISLANDS\",\"USA\",\"INDONESIA\",\"UK\",\"SOUTH KOREA\",\"ITALY\",\"GREECE\",\"PORTUGAL\",\"SOLOMON ISLANDS\",\"CHILE\",\"PORTUGAL\",\"NEW ZEALAND\",\"USA\",\"NORWAY\",\"JAPAN\",\"UKRAINE\",\"ISRAEL\",\"JAPAN\",\"JAPAN\",\"MEXICO\",\"UKRAINE\",\"USA\",\"USA\",\"CHILE\",\"INDONESIA\",\"RUSSIA\",\"CANADA\",\"MEXICO\",\"INDONESIA\",\"GREECE\",\"CHILE\",\"PERU\",\"GREECE\",\"GREECE\",\"GREECE\",\"PERU\",\"GREECE\",\"TURKEY\",\"TONGA\",\"JAPAN\",\"JAPAN\",\"PHILIPPINES\",\"MEXICO\",\"PERU\",\"INDONESIA\",\"CHILE\",\"CHILE\",\"PHILIPPINES\",\"CANADA\",\"VENEZUELA\",\"USA\",\"JAPAN\",\"CANADA\",\"PHILIPPINES\",\"NEW ZEALAND\",\"CHILE\",\"USA\",\"INDONESIA\",\"CANADA\",\"CHINA\",\"SPAIN\",\"PORTUGAL\",\"INDONESIA\",\"NORWAY\",\"MYANMAR (BURMA)\",\"INDONESIA\",\"INDONESIA\",\"USA\",\"ITALY\",\"INDONESIA\",\"PAPUA NEW GUINEA\",\"ITALY\",\"KENYA\",\"PAPUA NEW GUINEA\",\"CHILE\",\"NEW ZEALAND\",\"NEW ZEALAND\",\"NEW ZEALAND\",\"JAPAN\",\"CHILE\",\"UK\",\"PAPUA NEW GUINEA\",\"USA\",\"PORTUGAL\",\"INDONESIA\",\"SOLOMON ISLANDS\",\"JAPAN\",\"CUBA\",\"CUBA\",\"MEXICO\",\"MEXICO\",\"MEXICO\",\"INDONESIA\",\"NEW ZEALAND\",\"GREECE\",\"VENEZUELA\",\"RUSSIA\",\"CHILE\",\"JAPAN\",\"USA\",\"GREECE\",\"TOGO\",\"JAPAN\",\"ECUADOR\",\"PAPUA NEW GUINEA\",\"PHILIPPINES\",\"NEPAL\",\"PHILIPPINES\",\"NORWAY\",\"ICELAND\",\"PANAMA\",\"SOLOMON ISLANDS\",\"SOLOMON ISLANDS\",\"USA\",\"MEXICO\",\"CHILE\",\"PAPUA NEW GUINEA\",\"TURKEY\",\"PAKISTAN\",\"JAPAN\",\"PAPUA NEW GUINEA\",\"JAPAN\",\"JAPAN\",\"USA\",\"INDONESIA\",\"CHINA\",\"INDONESIA\",\"NAURU\",\"INDONESIA\",\"CHILE\",\"INDONESIA\",\"NORWAY\",\"USA\",\"JAPAN\",\"RUSSIA\",\"NEW CALEDONIA\",\"PAPUA NEW GUINEA\",\"PHILIPPINES\",\"RUSSIA\",\"USA\",\"RUSSIA\",\"INDONESIA\",\"CONGO\",\"INDONESIA\",\"INDONESIA\",\"PAPUA NEW GUINEA\",\"CANADA\",\"NORWAY\",\"PAPUA NEW GUINEA\",\"INDONESIA\",\"JAPAN\",\"JAPAN\",\"JAPAN\",\"USA\",\"JAPAN\",\"JAPAN\",\"JAPAN\",\"JAPAN\",\"JAPAN\",\"USA\",\"JAPAN\",\"JAPAN\",\"JAPAN\",\"JAPAN\",\"CHILE\",\"ITALY\",\"PAPUA NEW GUINEA\",\"JAPAN\",\"CHILE\",\"SOLOMON ISLANDS\",\"JAPAN\",\"PHILIPPINES\",\"PORTUGAL\",\"GHANA\",\"GRENADA\",\"CUBA\",\"INDONESIA\",\"TURKEY\",\"ITALY\",\"PERU\",\"JAPAN\",\"NORWAY\",\"CHILE\",\"CHILE\",\"PAPUA NEW GUINEA\",\"CYPRUS\",\"USA\",\"ITALY\",\"INDIA\",\"SPAIN\",\"JAPAN\",\"ATLANTIC OCEAN\",\"COSTA RICA\",\"COSTA RICA\",\"COLOMBIA\",\"NEW CALEDONIA\",\"PERU\",\"CHILE\",\"JAPAN\",\"ITALY\",\"USA\",\"TURKEY\",\"JAPAN\",\"USA\",\"JAPAN\",\"JAPAN\",\"PAKISTAN\",\"USA\",\"CANADA\",\"CHILE\",\"DOMINICAN REPUBLIC\",\"DOMINICAN REPUBLIC\",\"PERU\",\"USA\",\"RUSSIA\",\"JAPAN\",\"NEW ZEALAND\",\"NEW ZEALAND\",\"GREECE\",\"JAPAN\",\"PHILIPPINES\",\"GREECE\",\"JAPAN\",\"GREECE\",\"CHINA\",\"INDONESIA\",\"TONGA\",\"MEXICO\",\"CHILE\",\"RUSSIA\",\"GREECE\",\"USA\",\"CHILE\",\"INDONESIA\",\"GREECE\",\"CANADA\",\"PHILIPPINES\",\"USA\",\"PAPUA NEW GUINEA\",\"CHILE\",\"CHILE\",\"PHILIPPINES\",\"CHILE\",\"NEW ZEALAND\",\"PANAMA\",\"VENEZUELA\",\"INDIA\",\"COSTA RICA\",\"INDONESIA\",\"NORWAY\",\"GUATEMALA\",\"SOLOMON ISLANDS\",\"VANUATU\",\"PERU\",\"MEXICO\",\"PAPUA NEW GUINEA\",\"NICARAGUA\",\"USA\",\"TAIWAN\",\"CHINA\",\"SOLOMON ISLANDS\",\"NORWAY\",\"JAPAN\",\"JAPAN\",\"USA\",\"PHILIPPINES\",\"USA\",\"COSTA RICA\",\"VANUATU\",\"JAPAN\",\"JAPAN\",\"JAPAN\",\"JAPAN\",\"RUSSIA\",\"GREENLAND\",\"PERU\",\"JAPAN\",\"RUSSIA\",\"JAPAN\",\"PAPUA NEW GUINEA\",\"CHILE\",\"DOMINICAN REPUBLIC\",\"PAPUA NEW GUINEA\",\"GREECE\",\"CYPRUS\",\"FIJI\",\"AUSTRALIA\",\"JAPAN\",\"PERU\",\"ARGENTINA\",\"ITALY\",\"USA\",\"ALGERIA\",\"GREENLAND\",\"JAPAN\",\"VENEZUELA\",\"GREECE\",\"CHILE\",\"INDIA\",\"PAPUA NEW GUINEA\",\"CHINA\",\"PAPUA NEW GUINEA\",\"CHILE\",\"NEW ZEALAND\",\"JAPAN\",\"RUSSIA\",\"GREECE\",\"GREECE\",\"JAPAN\",\"GREECE\",\"CHILE\",\"USA\",\"INDONESIA\",\"MEXICO\",\"CHILE\",\"INDONESIA\",\"INDONESIA\",\"SOLOMON ISLANDS\",\"ECUADOR\",\"CHINA\",\"INDONESIA\",\"USA\",\"RUSSIA\",\"VANUATU\",\"PACIFIC OCEAN\",\"RUSSIA\",\"RUSSIA\",\"JAPAN\",\"PERU\",\"GREECE\",\"RUSSIA\",\"RUSSIA\",\"NORWAY\",\"SOLOMON ISLANDS\",\"USA\",\"JAPAN\",\"PERU\",\"MOROCCO\",\"JAPAN\",\"JAPAN\",\"CHILE\",\"CHILE\",\"PAPUA NEW GUINEA\",\"JAPAN\",\"CHILE\",\"PERU\",\"JAPAN\",\"JAPAN\",\"JAPAN\",\"RUSSIA\",\"JAPAN\",\"SOLOMON ISLANDS\",\"TURKEY\",\"COLOMBIA\",\"JAPAN\",\"VANUATU\",\"SOLOMON ISLANDS\",\"JAPAN\",\"CHILE\",\"CHILE\",\"JAPAN\",\"CROATIA\",\"PANAMA\",\"JAPAN\",\"JAPAN\",\"MEXICO\",\"MEXICO\",\"JAPAN\",\"GREECE\",\"USA\",\"GREECE\",\"TAIWAN\",\"CANADA\",\"INDONESIA\",\"TURKEY\",\"PERU\",\"ITALY\",\"RUSSIA\",\"RUSSIA\",\"RUSSIA\",\"INDONESIA\",\"TONGA\",\"USA\",\"INDONESIA\",\"JAPAN\",\"JAPAN\",\"USA\",\"JAPAN\",\"RUSSIA\",\"PAPUA NEW GUINEA\",\"JAPAN\",\"INDONESIA\",\"USA\",\"CHILE\",\"CHILE\",\"GREECE\",\"CHILE\",\"USA\",\"JAPAN\",\"RUSSIA\",\"USA\",\"GREECE\",\"VANUATU\",\"VANUATU\",\"MEXICO\",\"PHILIPPINES\",\"CHILE\",\"GRENADA\",\"TAIWAN\",\"NORWAY\",\"SOLOMON ISLANDS\",\"RUSSIA\",\"PERU\",\"SOLOMON ISLANDS\",\"CHILE\",\"SOLOMON ISLANDS\",\"SOLOMON ISLANDS\",\"SOLOMON ISLANDS\",\"RUSSIA\",\"INDONESIA\",\"INDONESIA\",\"VENEZUELA\",\"PAPUA NEW GUINEA\",\"PERU\",\"USA\",\"CHILE\",\"ANTARCTICA\",\"CHILE\",\"RUSSIA\",\"GREECE\",\"JAPAN\",\"ITALY\",\"CHILE\",\"JAPAN\",\"JAPAN\",\"JAPAN\",\"NEW ZEALAND\",\"PHILIPPINES\",\"JAPAN\",\"INDONESIA\",\"INDONESIA\",\"TURKEY\",\"VENEZUELA\",\"MEXICO\",\"INDONESIA\",\"PORTUGAL\",\"PHILIPPINES\",\"EGYPT\",\"SWEDEN\",\"JAPAN\",\"ATLANTIC OCEAN\",\"CHINA\",\"PAPUA NEW GUINEA\",\"RUSSIA\",\"RUSSIA\",\"GUADELOUPE (FRENCH TERRITORY)\",\"PHILIPPINES\",\"USA\",\"PHILIPPINES\",\"RUSSIA\",\"PERU\",\"CHILE\",\"CHILE\",\"JAPAN\",\"NEW ZEALAND\",\"PHILIPPINES\",\"PAPUA NEW GUINEA\",\"CHILE\",\"RUSSIA\",\"PERU\",\"USA\",\"CHILE\",\"PAPUA NEW GUINEA\",\"PAPUA NEW GUINEA\",\"JAPAN\",\"RUSSIA\",\"RUSSIA\",\"SOLOMON ISLANDS\",\"RUSSIA\",\"RUSSIA\",\"PAPUA NEW GUINEA\",\"RUSSIA\",\"USA\",\"RUSSIA\",\"TAIWAN\",\"JAPAN\",\"CHILE\",\"USA\",\"PAPUA NEW GUINEA\",\"PAPUA NEW GUINEA\",\"JAPAN\",\"PAPUA NEW GUINEA\",\"PHILIPPINES\",\"JAPAN\",\"CHILE\",\"MEXICO\",\"RUSSIA\",\"PHILIPPINES\",\"JAPAN\",\"RUSSIA\",\"RUSSIA\",\"CHILE\",\"INDONESIA\",\"SOLOMON ISLANDS\",\"SOLOMON ISLANDS\",\"JAPAN\",\"CHILE\",\"RUSSIA\",\"PERU\",\"CANADA\",\"PAPUA NEW GUINEA\",\"PAKISTAN\",\"INDONESIA\",\"CHILE\",\"CANADA\",\"ATLANTIC OCEAN\",\"RUSSIA\",\"PAPUA NEW GUINEA\",\"PHILIPPINES\",\"USA\",\"FIJI\",\"SAMOA\",\"NEW ZEALAND\",\"RUSSIA\",\"GUATEMALA\",\"PANAMA\",\"PHILIPPINES\",\"SAMOA\",\"SOLOMON ISLANDS\",\"SOLOMON ISLANDS\",\"SOLOMON ISLANDS\",\"TONGA\",\"INDONESIA\",\"PAPUA NEW GUINEA\",\"PAPUA NEW GUINEA\",\"TONGA\",\"JAPAN\",\"RUSSIA\",\"RUSSIA\",\"RUSSIA\",\"RUSSIA\",\"RUSSIA\",\"JAPAN\",\"PHILIPPINES\",\"GREECE\",\"ITALY\",\"TAIWAN\",\"SPAIN\",\"NEW ZEALAND\",\"MEXICO\",\"VIETNAM\",\"JAPAN\",\"USA\",\"MEXICO\",\"MONTENEGRO\",\"MONTENEGRO\",\"GREECE\",\"INDONESIA\",\"INDONESIA\",\"VENEZUELA\",\"INDONESIA\",\"NORWAY\",\"FRANCE\",\"FIJI\",\"COLOMBIA\",\"PORTUGAL\",\"RUSSIA\",\"USA\",\"PORTUGAL\",\"JAPAN\",\"SOLOMON ISLANDS\",\"ALGERIA\",\"JAPAN\",\"GREECE\",\"GREECE\",\"SOUTH AFRICA\",\"NEW ZEALAND\",\"SAMOA\",\"INDONESIA\",\"MEXICO\",\"PHILIPPINES\",\"INDONESIA\",\"INDONESIA\",\"JAPAN\",\"JAPAN\",\"TONGA\",\"INDONESIA\",\"JAPAN\",\"GREECE\",\"INDONESIA\",\"PAPUA NEW GUINEA\",\"JAPAN\",\"JAPAN\",\"JAPAN\",\"GREECE\",\"RUSSIA\",\"PHILIPPINES\",\"INDONESIA\",\"NORWAY\",\"CHILE\",\"UK TERRITORY\",\"INDONESIA\",\"GREECE\",\"RUSSIA\",\"JAPAN\",\"JAPAN\",\"CAMEROON\",\"JAPAN\",\"RUSSIA\",\"CHILE\",\"GUADELOUPE (FRENCH TERRITORY)\",\"INDONESIA\",\"PAPUA NEW GUINEA\",\"MEXICO\",\"MEXICO\",\"USA\",\"USA\",\"CAMEROON\",\"NEW ZEALAND\",\"TAIWAN\",\"JAPAN\",\"PAPUA NEW GUINEA\",\"NORWAY\",\"CHILE\",\"JAPAN\",\"JAPAN\",\"NEW ZEALAND\",\"SOLOMON ISLANDS\",\"VANUATU\",\"TONGA\",\"PAPUA NEW GUINEA\",\"PAPUA NEW GUINEA\",\"USA\",\"INDONESIA\",\"USA\",\"CHILE\",\"USA\",\"ITALY\",\"PHILIPPINES\",\"PAPUA NEW GUINEA\",\"BANGLADESH\",\"SOLOMON ISLANDS\",\"BANGLADESH\",\"AUSTRALIA\",\"USA\",\"USA\",\"USA\",\"JAPAN\",\"ALGERIA\",\"USA TERRITORY\",\"JAPAN\",\"PHILIPPINES\",\"JAPAN\",\"COSTA RICA\",\"USA TERRITORY\",\"PHILIPPINES\",\"IRAN\",\"JAPAN\",\"ITALY\",\"TAIWAN\",\"GREECE\",\"SOLOMON ISLANDS\",\"RUSSIA\",\"USA\",\"COSTA RICA\",\"GREECE\",\"SOLOMON ISLANDS\",\"RUSSIA\",\"CHINA\",\"USA\",\"PHILIPPINES\",\"SOLOMON ISLANDS\",\"JAPAN\",\"JAPAN\",\"NICARAGUA\",\"INDONESIA\",\"JAPAN\",\"WALLIS AND FUTUNA (FRENCH TERRITORY)\",\"RUSSIA\",\"NEW ZEALAND\",\"JAPAN\",\"JAPAN\",\"USA TERRITORY\",\"RUSSIA\",\"USA\",\"USA\",\"INDONESIA\",\"INDONESIA\",\"JAPAN\",\"NORWAY\",\"TAIWAN\",\"INDONESIA\",\"INDONESIA\",\"INDONESIA\",\"INDONESIA\",\"USA\",\"TAIWAN\",\"PAPUA NEW GUINEA\",\"RUSSIA\",\"INDONESIA\",\"RUSSIA\",\"USA\",\"PHILIPPINES\",\"JAPAN\",\"RUSSIA\",\"JAPAN\",\"SAMOA\",\"PHILIPPINES\",\"PHILIPPINES\",\"GREECE\",\"INDONESIA\",\"NEW CALEDONIA\",\"RUSSIA\",\"GREECE\",\"CHILE\",\"PAPUA NEW GUINEA\",\"MEXICO\",\"MEXICO\",\"JAPAN\",\"JAPAN\",\"CHILE\",\"EGYPT\",\"RUSSIA\",\"INDONESIA\",\"GREECE\",\"RUSSIA\",\"INDONESIA\",\"PERU\",\"MEXICO\",\"SWITZERLAND\",\"USA\",\"USA\",\"JAPAN\",\"CHILE\",\"TAIWAN\",\"JAPAN\",\"JAPAN\",\"PERU\",\"JAPAN\",\"NEW CALEDONIA\",\"HONDURAS\",\"SOLOMON ISLANDS\",\"VENEZUELA\",\"JAPAN\",\"TONGA\",\"RUSSIA\",\"RUSSIA\",\"MONTSERRAT\",\"NORWAY\",\"ANTARCTICA\",\"TAIWAN\",\"JAPAN\",\"PAPUA NEW GUINEA\",\"INDONESIA\",\"MONTSERRAT\",\"TURKEY\",\"FRENCH POLYNESIA\",\"VANUATU\",\"PHILIPPINES\",\"GREECE\",\"INDONESIA\",\"AUSTRALIA\",\"JAPAN\",\"JAPAN\",\"JAPAN\",\"USA\",\"PAPUA NEW GUINEA\",\"GREENLAND\",\"RUSSIA\",\"EL SALVADOR\",\"PERU\",\"CANADA\",\"TAIWAN\",\"VANUATU\",\"PHILIPPINES\",\"GREECE\",\"JAPAN\",\"TAIWAN\",\"PAPUA NEW GUINEA\",\"INDIA\",\"INDONESIA\",\"NEW ZEALAND\",\"ITALY\",\"SOLOMON ISLANDS\",\"MEXICO\",\"ALGERIA\",\"ALGERIA\",\"MONTSERRAT\",\"ANTARCTICA\",\"GREECE\",\"NEW ZEALAND\",\"JAPAN\",\"JAPAN\",\"USA\",\"NEW CALEDONIA\",\"INDONESIA\",\"JORDAN\",\"JAPAN\",\"JAPAN\",\"CANADA\",\"INDONESIA\",\"GUADELOUPE (FRENCH TERRITORY)\",\"NEW ZEALAND\",\"JAPAN\",\"AUSTRALIA\",\"INDONESIA\",\"JAPAN\",\"GUADELOUPE (FRENCH TERRITORY)\",\"INDONESIA\",\"INDONESIA\",\"USA\",\"JAPAN\",\"JAPAN\",\"JAPAN\",\"INDONESIA\",\"TONGA\",\"MONTSERRAT\",\"SPAIN\",\"INDONESIA\",\"SAMOA\",\"USA\",\"TAIWAN\",\"RUSSIA\",\"TAIWAN\",\"RUSSIA\",\"VANUATU\",\"JAPAN\",\"SOLOMON ISLANDS\",\"CHILE\",\"BULGARIA\",\"PAPUA NEW GUINEA\",\"CHINA\",\"JAPAN\",\"RUSSIA\",\"USA\",\"PERU\",\"SOLOMON ISLANDS\",\"INDONESIA\",\"NEW ZEALAND\",\"CHILE\",\"MARTINIQUE (FRENCH TERRITORY)\",\"CANADA\",\"KERMADEC ISLANDS\",\"INDONESIA\",\"NEW CALEDONIA\",\"VANUATU\",\"CHINA\",\"JAPAN\",\"USA\",\"SOUTH AFRICA\",\"JAPAN\",\"USA\",\"INDONESIA\",\"CHINA\",\"INDONESIA\",\"INDONESIA\",\"RUSSIA\",\"INDONESIA\",\"TONGA\",\"HONDURAS\",\"GREECE\",\"NEW ZEALAND\",\"INDIA\",\"JAPAN\",\"INDONESIA\",\"INDONESIA\",\"SAMOA\",\"INDONESIA\",\"VANUATU\",\"SOLOMON ISLANDS\",\"SOLOMON ISLANDS\",\"SOLOMON ISLANDS\",\"HAITI\",\"JAPAN\",\"CHILE\",\"CHILE\",\"INDONESIA\",\"PERU\",\"COOK ISLANDS\",\"USA TERRITORY\",\"INDIA\",\"VANUATU\",\"USA TERRITORY\",\"INDONESIA\",\"JAPAN\",\"VANUATU\",\"VANUATU\",\"CHILE\",\"NEW ZEALAND\",\"JAPAN\",\"JAPAN\",\"JAPAN\",\"NEW CALEDONIA\",\"USA\",\"UK\",\"NEW ZEALAND\",\"JAPAN\",\"NORWAY\",\"NORWAY\",\"VANUATU\",\"VANUATU\",\"USA\",\"NEW ZEALAND\",\"VANUATU\",\"VANUATU\",\"JAPAN\",\"MEXICO\",\"INDONESIA\",\"INDONESIA\",\"VANUATU\",\"GREENLAND\",\"EL SALVADOR\",\"PHILIPPINES\",\"COSTA RICA\",\"CANADA\",\"GUATEMALA\",\"JAPAN\",\"CHINA\",\"USA\",\"SOLOMON ISLANDS\",\"SOLOMON ISLANDS\",\"RUSSIA\",\"MEXICO\",\"GREECE\",\"NEW ZEALAND\",\"NEW ZEALAND\",\"PAKISTAN\",\"GREECE\",\"JAPAN\",\"ANTARCTICA\",\"CHILE\",\"CHILE\",\"CHILE\",\"SOLOMON ISLANDS\",\"SOLOMON ISLANDS\",\"MEXICO\",\"PAPUA NEW GUINEA\",\"GREECE\",\"NEW ZEALAND\",\"USA\",\"UKRAINE\",\"JAPAN\",\"ICELAND\",\"USA\",\"CHILE\",\"EL SALVADOR\",\"INDONESIA\",\"JAPAN\",\"VANUATU\",\"PAPUA NEW GUINEA\",\"JAPAN\",\"PAPUA NEW GUINEA\",\"NORWAY\",\"CHINA\",\"SOLOMON ISLANDS\",\"SOLOMON ISLANDS\",\"USA\",\"CHILE\",\"USA\",\"CHILE\",\"JAPAN\",\"GREECE\",\"SOLOMON ISLANDS\",\"MOROCCO\",\"INDONESIA\",\"ECUADOR\",\"VANUATU\",\"NEW CALEDONIA\",\"UK TERRITORY\",\"JAPAN\",\"NEW ZEALAND\",\"NEW ZEALAND\",\"JAPAN\",\"NICARAGUA\",\"SOLOMON ISLANDS\",\"SOLOMON ISLANDS\",\"PAPUA NEW GUINEA\",\"CHILE\",\"FIJI\",\"PAPUA NEW GUINEA\",\"IRAN\",\"CHILE\",\"PHILIPPINES\",\"USA\",\"GREECE\",\"GREENLAND\",\"RUSSIA\",\"COLOMBIA\",\"TURKEY\",\"MEXICO\",\"NEW CALEDONIA\",\"NEW CALEDONIA\",\"VIETNAM\",\"NEW CALEDONIA\",\"NEW CALEDONIA\",\"NEW CALEDONIA\",\"KERMADEC ISLANDS\",\"HONDURAS\",\"PERU\",\"USA\",\"PAPUA NEW GUINEA\",\"USA\",\"JAPAN\",\"INDONESIA\",\"INDONESIA\",\"FIJI\",\"INDONESIA\",\"VENEZUELA\",\"NEW CALEDONIA\",\"INDONESIA\",\"NEW CALEDONIA\",\"GREECE\",\"NEW CALEDONIA\",\"RUSSIA\",\"INDONESIA\",\"PAPUA NEW GUINEA\",\"CHILE\",\"NEW ZEALAND\",\"JAPAN\",\"ITALY\",\"INDONESIA\",\"USA TERRITORY\",\"CUBA\",\"RUSSIA\",\"GREECE\",\"INDONESIA\",\"NEW ZEALAND\",\"MEXICO\",\"USA\",\"USA\",\"TURKEY\",\"SPAIN\",\"CHILE\",\"ANTARCTICA\",\"NEW CALEDONIA\",\"NEW ZEALAND\",\"NEW ZEALAND\",\"NEW ZEALAND\",\"ALGERIA\",\"INDONESIA\",\"USA\",\"PHILIPPINES\",\"UK TERRITORY\",\"HAITI\",\"MEXICO\",\"GREECE\"],\"lat\":[45.3,17.2,10.3,-3.7,36.5,37.7,38.2,36.833,38.3,39.05,-29.06,41.5,34.4,41.7,-12.1,-9.0,44.833,33.9,44.8,-33.88,14.0,35.5,26.0,39.9,69.433,-33.0,35.6,35.6,36.3,36.5,10.6,43.3,18.0,34.2,40.817,-10.217,-8.2,-3.7,-8.0,5.0,39.95,37.5,38.3,37.6,43.917,-4.0,-7.0,44.75,43.7,-27.0,23.0,66.416,19.67,54.52,38.8,17.2,37.75,-7.0,48.06,-4.5,37.8,10.1,-15.95,38.083,-8.456,37.45,10.1,36.0,-33.0,38.3,42.7,-6.5,14.4,16.7,14.25,14.4,38.8,11.1,54.77,14.0,10.4,27.07,43.8,55.0,-45.78,53.0,-1.8,32.6,44.8,14.55,41.1,14.55,14.55,43.8,37.05,12.4,-38.7,39.0,40.4,16.8,25.2,-18.251,-2.5,38.9,43.3,16.8,-36.83,37.9,-43.3,-8.3,39.6,-22.6,37.7,-8.3,33.0,51.44,16.86,5.5,19.45,7.5,-42.5,-36.7,45.3,-33.62,42.5,-46.627,-8.0,-12.3,0.8,12.9,-36.836,-37.61,39.8,52.0,-5.0,-4.0,19.75,24.0,1.5,-7.2,16.5,15.933,42.0,-39.9,42.6,36.3,43.4,11.2,1.5,17.0,36.4,23.583,-39.93,2.0,39.5,-38.96,43.4,43.5,43.3,-12.1,39.483,-31.61,7.333,-17.9,52.616,-41.9,14.0,55.0,-29.95,39.5,20.6,36.5,35.5,-5.0,37.8,-27.35,43.75,40.5,-6.5,20.0,14.0,1.5,-3.7,-5.25,-12.1,32.5,17.0,-5.0,10.5,38.25,26.2,24.0,47.0,-21.167,58.63,-3.5,20.9,57.0,34.4,51.0,50.9,8.5,8.5,0.8,37.8,16.8,34.0,33.1,43.8,-41.25,-41.93,-39.2,40.75,-9.0,34.1,-33.0,15.91,37.8,34.5,35.65,32.5,29.2,37.5,3.67,-44.0,-8.5,54.6,16.0,37.1,37.1,40.5,35.6,35.5,38.5,4.9,-5.5,-8.0,36.5,34.8,40.2,1.35,1.35,37.9,-30.0,51.03,26.2,1.0,1.0,-4.6,0.009,40.2,13.33,-5.5,-27.35,-9.0,-40.85,13.7,0.9,1.37,16.7,18.52,-12.1,1.3,-1.25,-1.0,0.009,-3.7,1.0,-6.3,1.0,-1.5,38.5,38.2,38.25,14.5,-6.7,32.7,7.0,-6.1,36.5,14.5,-19.0,44.6,18.2,-1.0,46.5,-12.0,26.2,54.0,37.0,37.2,13.25,-19.5,-12.08,40.3,38.25,36.4,38.4,36.0,40.4,40.4,40.5,-33.8,-33.8,58.0,-14.214,38.39,39.2,46.0,58.667,-7.8,-33.8,36.4,10.9,18.1,25.34,18.1,19.0,55.0,45.7,16.8,16.8,-18.6,10.7,-18.6,11.67,37.6,-36.7,-17.0,-33.1,-40.2,37.7,-39.05,-36.6,-39.9,-42.719,-45.09,-12.1,-19.6,20.0,-30.0,-33.8,12.5,-21.0,-19.6,44.75,38.8,-41.29,-41.75,15.4,36.0,43.03,38.5,-33.8,47.4,39.28,-13.65,18.2,20.7,2.28,-35.0,-41.75,9.203,40.5,-33.1,-13.0,0.5,-42.72,48.7,-41.5,-16.4,16.0,34.9,36.7,36.2,43.5,52.2,44.183,27.07,8.96,-23.6,42.0,-5.5,18.1,22.0,58.64,-43.328,20.0,44.2,-20.0,-18.5,-6.0,-3.0,19.475,35.0,19.475,-21.5,-12.07,-21.2,-19.6,-20.2,-33.0,10.8,-24.0,3.88,-38.02,-19.0,-19.92,-12.0,-33.0,-20.2,-4.25,-12.0,-19.0,-36.8,-20.2,-20.2,40.7,-23.7,-18.3,54.0,-19.0,-20.2,35.18,-33.0,38.789,-42.45,29.0,-33.0,34.227,41.28,62.083,37.27,16.0,-31.62,-38.85,-33.8,55.8,57.0,36.7,38.2,38.2,-43.69,-16.0,-20.2,17.97,43.3,-19.6,38.4,8.52,8.567,-33.58,-41.32,10.8,10.0,-19.6,-4.5,24.5,-6.004,-2.25,39.5,-6.102,59.4,-6.102,19.133,-34.917,38.0,-16.0,-6.102,15.7,40.6,42.35,7.5,40.0,41.31,36.85,-2.5,0.0,1.1,-20.2,5.55,5.6,-38.18,37.1,32.9,-43.957,10.7,19.0,43.7,30.8,5.4,19.7,38.3,-5.52,5.8,63.433,-34.5,38.5,38.2,13.5,-6.05,1.0,-7.0,42.05,36.6,36.5,5.4,-0.5,-4.0,-37.4,25.5,-43.51,-9.0,48.0,-18.5,-34.917,14.0,2.5,3.67,-19.75,-15.25,40.54,-3.0,37.0,40.5,17.97,37.7,43.3,42.5,40.2,6.9,-17.75,-17.75,42.5,38.7,25.4,40.6,38.9,38.3,49.0,47.286,-8.4,33.0,-18.0,39.5,-43.688,-38.8,40.667,37.0,41.7,36.5,17.6,39.5,-3.5,43.7,38.1,-6.8,-10.38,-43.6,26.0,16.0,38.0,6.0,6.0,-41.3,12.0,18.5,16.72,38.2,38.6,37.6,-36.83,37.75,-3.0,37.2,-12.4,38.64,-33.0,60.0,60.0,-3.0,35.1,-5.0,31.9,32.7,33.8,19.0,1.82,58.6,-4.0,-5.0,-4.0,11.0,36.0,43.4,39.0,28.0,40.5,-22.0,40.6,40.5,14.0,11.0,51.45,14.71,13.5,14.0,14.82,13.33,14.82,14.82,14.602,40.75,14.553,24.6,7.5,14.82,14.0,14.0,-3.0,38.1,16.7,-20.2,64.98,-28.5,7.0,1.5,52.0,52.0,-3.6,-40.4,-39.12,-7.7,9.2,61.866,39.66,9.85,19.0,-40.5,33.0,60.0,37.4,-13.612,38.67,44.5,42.0,40.092,-17.7,-17.7,11.0,37.3,1.0,10.5,1.0,3.9,40.821,37.7,-18.5,13.25,33.9,-33.0,-7.0,-4.0,6.5,-13.612,-18.0,10.6,2.681,18.667,3.0,17.0,-13.612,-13.612,-13.612,-13.612,-13.612,-21.38,59.5,-13.612,38.133,-3.1,-2.0,61.0,-10.0,45.77,44.0,48.958,19.0,-14.0,38.17,-21.0,34.5,34.5,-2.0,-26.5,-15.5,16.8,35.4,41.8,12.5,-4.25,64.0,-14.0,4.0,9.0,14.002,40.9,-4.25,6.1,28.0,9.0,-20.0,60.5,10.5,38.12,42.0,40.5,40.444,7.0,-41.8,5.354,39.314,-16.6,-17.0,7.1,-7.0,31.58,-12.0,43.5,-17.0,-1.829,48.958,-3.924,-37.8,38.8,-3.7,38.4,-14.18,-3.644,38.5,14.0,38.3,-1.0,18.0,-4.739,9.6,38.817,43.967,10.46,1.57,-7.0,24.47,56.5,6.0,-0.25,-3.7,-29.2,23.2,-15.5,-3.705,58.204,-3.6,-29.0,44.633,23.5,-28.5,3.138,26.9,5.5,45.5,18.7,18.441,44.5,-26.0,63.63,8.0,-19.6,-9.0,3.138,-19.0,-18.352,-4.806,38.789,12.33,10.6,19.23,41.4,-2.55,44.0,0.87,-6.5,-38.0,-15.0,-19.919,36.7,40.5,0.7,40.13,-11.0,8.0,-16.5,-7.111,-3.3,10.2,9.0,-1.0,5.5,37.5,24.5,-28.0,-28.553,-43.0,40.8,54.0,-35.33,6.5,-26.3,56.5,-28.75,35.4,9.3,40.6,-18.5,35.1,34.9,-4.653,-4.539,10.158,49.179,6.5,16.0,-56.0,-43.95,40.567,64.15,8.5,-8.0,60.0,14.583,9.3,-26.0,12.2,13.0,18.5,10.0,44.233,-10.061,20.5,-0.7,49.21,35.0,38.567,36.5,37.973,-9.674,-28.0,38.7,-38.37,32.5,59.0,35.6,44.4,32.0,37.9,34.2,17.0,44.4,57.69,34.813,-44.6,-0.7,55.663,49.0,15.67,-6.102,38.1,-23.7,-13.0,38.0,38.0,38.0,-13.0,39.6,40.8,-19.83,40.0,43.062,12.4,16.028,-5.5,-8.32,-22.5,-35.0,7.0,48.967,10.6,50.88,31.7,51.0,8.5,-41.75,-23.7,42.9,4.633,44.69,32.2,36.0,32.617,-6.102,63.317,17.3,-5.6,-9.3,34.03,38.789,1.2,-4.423,43.667,-4.05,-1.3,-28.5,-39.772,-39.5,-39.5,41.2,-32.5,54.0,-3.417,39.35,38.4,-5.0,-10.932,32.2,22.8,20.0,19.623,19.081,19.242,-3.57,-39.0,40.5,10.5,49.12,-20.0,39.224,33.616,36.759,6.9,38.1,-2.0,-5.0,12.77,26.773,17.5,62.27,66.0,8.0,-11.907,-11.139,33.7,18.5,-19.5,-4.2,40.62,29.5,36.6,-3.824,39.9,40.7,19.5,5.5,28.7,0.001,-0.5,4.5,-24.5,6.1,61.87,58.6,38.2,55.2,-20.5,-4.271,14.5,56.0,58.0,58.0,-3.0,-1.408,-5.25,-3.0,-5.1,52.2,62.333,-6.0,-1.0,36.7,43.6,25.321,39.95,37.1,37.2,37.5,37.0,37.6,55.48,37.0,37.4,36.7,37.0,-36.25,38.5,-7.08,32.3,-27.0,-9.295,40.1,13.5,37.198,5.568,12.3,22.2,0.0,39.77,38.067,-10.5,44.2,65.883,-22.0,-41.5,-4.175,35.221,40.5,38.3,11.94,28.48,32.0,37.301,8.7,8.5,4.6,-20.6,-15.0,-30.75,41.2,38.789,38.933,39.509,34.0,40.3,34.7,40.9,24.5,53.492,49.87,-26.5,19.25,19.5,-14.0,51.5,48.092,33.0,-38.85,-38.42,37.0,43.8,10.5,35.64,33.1,38.532,37.2,6.0,-21.0,22.0,-22.5,54.6,38.2,47.167,-38.0,5.0,38.718,53.6,17.0,59.75,-5.5,-54.0,-54.0,17.0,-53.5,-37.8,6.5,9.71,28.5,11.0,-3.8,63.433,14.31,-10.0,-18.25,-14.25,16.48,-3.252,13.0,19.5,23.8,26.7,-9.02,64.883,42.15,41.7,19.1,9.5,43.1,10.3,-18.5,32.1,32.1,32.1,32.1,52.755,70.3,-12.0,32.1,50.0,32.1,-4.449,-36.5,19.8,-2.4,38.3,34.741,-18.3,-41.0,34.0,-3.4,-38.0,38.789,41.7,36.283,67.47,38.9,11.46,39.4,-30.0,6.5,-6.9,26.6,-5.1,-19.0,-38.9,44.3,55.978,36.664,36.8,33.8,39.5,-25.5,51.292,-1.5,16.5,-23.5,-8.2,-2.0,-8.57,1.5,31.5,-4.5,58.37,48.6,-16.829,-50.0,44.53,44.2,37.5,-4.0,40.63,44.3,52.5,69.817,-7.5,44.712,37.5,-15.75,30.5,39.8,39.4,-37.872,-38.143,-9.4,40.3,-38.5,-6.8,36.0,36.0,36.2,43.2,31.6,-9.43,36.693,8.9,29.6,-18.421,-9.849,42.9,-36.7,-36.7,42.7,43.3,8.008,38.073,42.2,17.2,17.2,41.8,39.8,52.47,38.31,24.4,54.0,-8.342,40.698,-10.385,46.267,44.426,44.772,44.772,-6.4,-24.8,61.017,5.8,40.3,40.4,40.8,38.65,47.159,-5.7,40.4,-2.4,51.29,-41.755,-25.67,39.4,-31.81,50.32,34.9,44.7,53.03,38.267,-15.8,-15.9,16.3,14.002,-42.9,12.3,24.1,59.6,-10.343,44.75,-10.748,-10.28,-25.5,-11.893,-12.334,-10.38,45.53,-3.7,5.5,10.559,-4.4,-10.6,59.621,-28.78,-63.0,-21.7,43.586,39.368,32.3,44.08,-27.15,40.8,41.5,39.4,-30.8,16.5,33.3,1.4,0.2,41.8,10.697,15.6,-3.1,36.017,19.077,27.7,59.4,32.2,28.25,38.2,-6.6,43.6,57.7,15.8,6.8,57.5,15.78,43.0,-9.2,-52.0,-22.28,32.2,-44.64,20.6,-4.907,-20.94,43.84,-11.116,51.228,-32.5,-5.5,-4.9,41.4,46.5,46.7,-10.38,46.4,46.3,-6.5,46.4,51.5,56.0,22.5,33.3,-30.5,56.82,-6.0,-6.7,32.9,-5.52,6.5,33.3,-30.6,18.48,50.5,13.4,43.2,43.3,43.2,-32.5,-8.54,-7.5,-7.4,34.6,-38.5,43.2,-12.27,54.0,-5.52,35.1,-5.0,-29.9,53.98,35.962,43.024,-6.59,12.54,19.451,-18.672,-16.265,-28.427,44.915,15.324,7.4,6.292,-16.696,-9.828,-9.89,-9.965,-22.878,-11.085,-1.1,-1.081,-25.856,34.809,44.026,44.14,44.209,44.932,44.244,38.19,8.249,40.739,42.0,22.282,36.37,-43.08,16.01,21.4,40.232,60.691,17.813,41.956,42.096,34.53,-8.6,-8.5,11.517,-1.679,65.117,43.7,-16.76,1.598,38.727,43.53,46.2,39.374,34.808,-12.525,36.195,38.64,38.222,38.209,-35.616,-48.786,-14.96,-6.102,18.084,13.752,4.374,-9.265,42.158,36.194,-24.133,-8.405,33.826,38.026,-4.056,-4.883,40.462,40.249,41.346,40.142,55.867,18.231,-8.54,61.233,-26.535,-6.852,-2.823,38.396,44.117,31.448,32.386,6.25,34.006,56.194,-33.132,17.013,-9.245,-4.439,18.19,17.802,51.52,52.327,6.25,-28.117,23.901,36.988,-6.088,62.2,-24.388,32.034,37.447,-45.46,-10.717,-14.074,-17.94,-7.288,-6.266,58.586,-8.247,58.679,-24.753,57.262,38.4,18.606,-5.964,25.149,-10.258,26.755,-52.341,19.362,55.543,37.036,39.571,36.788,18.986,39.837,9.755,34.706,9.919,15.125,7.0,36.957,33.267,37.3,23.722,37.7,-9.929,48.268,58.427,9.685,37.133,-9.094,45.533,18.0,40.368,7.191,-11.122,39.419,32.536,11.727,-8.48,37.634,-14.385,51.218,-28.886,42.851,41.985,12.982,51.934,44.4,34.213,1.015,-4.967,40.608,61.267,23.959,-10.477,-10.362,-10.777,-10.341,40.402,22.528,-4.238,43.773,-1.258,43.905,59.5,13.525,40.525,45.22,34.583,-15.199,12.059,12.047,40.149,-8.452,-23.008,52.629,38.401,-23.34,-5.799,16.779,19.055,27.929,28.094,-28.906,28.826,44.663,0.729,38.367,54.05,-0.891,-9.593,15.978,46.73,51.564,51.478,31.555,-22.118,21.898,30.568,31.885,-14.993,31.789,-21.7,13.1,-12.584,10.598,31.959,-22.1,54.841,54.841,16.72,61.183,-62.877,22.306,39.027,-2.943,-2.071,16.722,40.76,-10.52,-16.423,5.1,34.22,-1.105,-13.802,34.221,34.319,33.901,34.5,-4.001,70.25,45.12,13.049,-16.265,52.63,23.954,-17.6,6.033,36.45,23.346,24.279,-3.26,13.036,-1.757,-44.7,38.789,-10.491,18.77,36.964,36.939,16.722,-60.532,39.16,-45.104,41.815,37.812,51.146,-22.015,-3.12,31.675,33.07,33.184,49.277,-8.152,15.679,-46.676,43.006,-49.312,3.316,34.064,15.775,2.085,-1.644,41.301,38.276,38.107,31.394,-3.595,-20.187,16.722,40.0,-9.254,-16.592,19.878,20.656,46.592,21.799,46.243,-20.617,37.336,-8.46,-45.285,43.0,-5.52,30.394,37.57,47.116,51.307,-13.386,-11.61,-4.438,-49.418,-22.247,14.944,49.475,-25.996,-2.486,-20.071,-19.941,31.002,37.552,52.18,-28.5,41.892,43.8,1.271,31.065,-0.414,-0.691,46.857,3.884,-23.046,16.72,34.164,-45.762,14.099,34.743,-1.479,-7.782,-15.489,-0.72,-13.006,-8.743,-8.799,-9.019,18.457,25.93,-36.122,-34.29,2.383,-9.282,-21.955,16.708,7.881,-17.541,12.484,-3.487,26.901,-19.702,-19.157,-36.474,-43.583,38.435,38.297,38.276,-20.244,52.05,50.5,-29.539,38.034,59.05,59.05,-18.365,-18.311,52.171,-28.993,-17.827,-19.125,40.887,16.493,2.327,0.802,-18.972,69.2,12.139,10.811,10.085,52.788,13.988,37.89,31.256,55.393,-10.766,-10.928,46.221,18.081,34.4,-41.704,-41.731,25.18,35.514,37.2,-60.274,-19.965,-19.61,-20.571,-11.27,-11.463,17.397,-6.755,40.24,-29.977,51.849,46.32,37.005,65.02,58.306,-32.108,12.526,1.893,39.856,-16.431,-4.729,31.529,-5.462,69.8,31.077,-9.307,-10.401,52.214,-31.573,60.08,-29.46,31.001,38.67,-8.899,35.649,-4.952,0.35,-16.043,-22.477,-55.285,40.394,-37.359,-42.737,37.393,11.96,-10.681,-10.749,-4.505,-43.517,-19.373,-6.246,27.835,-33.038,5.504,59.852,38.93,71.813,54.443,11.0,36.929,14.761,-21.697,-21.648,15.317,-21.638,-21.503,-21.325,-30.0,17.483,-15.982,56.004,-3.608,19.313,31.444,-8.24,-8.258,-18.113,-8.337,10.773,-22.03,-0.256,-21.743,37.52,-21.95,50.559,-6.102,-4.051,-30.056,-30.805,38.646,38.789,1.6,17.916,19.44,48.986,34.205,-8.058,-33.294,16.029,55.03,54.608,37.918,28.08,-39.343,-61.825,-23.054,-37.563,-29.613,-29.74,36.915,-3.593,55.325,6.455,-58.416,18.408,16.982,35.193],\"lon\":[14.4,-62.4,-64.5,128.2,2.9,138.3,21.8,-2.833,21.8,139.95,167.95,14.467,-119.7,12.7,-77.1,-139.0,7.25,134.8,7.2,18.45,143.3,25.0,-111.35,139.9,20.15,-71.4,-90.4,-90.4,-89.6,-89.6,-66.9,5.366,-76.8,-119.9,14.433,123.633,118.0,128.4,115.0,96.5,-75.1,13.0,22.1,15.133,8.033,101.5,117.0,10.4,8.0,-71.5,71.0,12.85,145.4,-164.65,20.8,-99.6,21.25,119.0,-122.36,11.6,21.3,-83.3,-5.7,-75.208,118.723,14.25,-83.3,36.0,-72.0,14.8,-79.0,108.5,-61.0,-62.2,121.25,-61.0,20.7,-74.1,-164.18,143.3,-61.3,142.21,13.0,-165.0,166.48,158.5,-76.4,129.9,9.2,120.9,24.3,120.9,120.9,7.8,12.3,-61.5,178.0,17.0,19.9,-99.9,103.0,-71.01,100.5,139.15,141.4,-99.9,-73.03,141.9,148.9,118.7,16.6,-70.3,142.0,118.7,35.5,3.57,-99.88,96.0,-99.15,146.5,-74.0,-73.1,14.5,-76.83,145.0,169.126,110.5,-77.3,127.325,123.9,175.692,178.35,-75.2,158.0,130.0,127.5,-72.2,89.25,98.0,114.0,-62.2,-61.267,146.0,175.0,18.1,27.6,16.7,-84.8,124.85,-100.6,13.44,68.367,175.05,126.5,142.5,175.73,10.6,10.5,10.7,-77.1,-31.233,-71.18,93.667,-149.9,-55.766,173.6,143.3,166.0,-71.37,142.0,134.8,28.7,28.7,105.0,-122.4,-70.35,10.3,19.7,105.5,-75.8,120.5,98.0,128.2,129.75,-77.1,-115.5,-100.0,130.5,-64.2,23.5,127.6,121.83,152.0,-175.167,-137.57,128.6,134.8,-152.0,-119.7,158.0,155.5,-83.0,-83.0,127.4,-122.4,-99.2,137.9,135.0,7.9,175.0,174.09,177.6,-124.2,121.0,-118.1,-71.7,-85.96,-122.4,137.6,139.8,134.5,108.1,-122.3,125.5,172.0,116.0,-165.0,-88.0,5.7,5.7,143.5,139.7,26.0,26.25,31.7,147.0,115.5,1.3,138.3,29.0,125.2,125.2,22.9,-71.4,1.61,127.5,126.0,126.5,129.9,125.5,25.8,-87.81,130.5,-70.35,111.0,145.32,-89.8,124.9,125.1,-99.2,-73.35,-77.1,121.0,128.5,97.5,98.0,128.2,97.5,107.3,97.5,100.0,142.0,22.2,22.25,121.0,108.57,-117.2,0.4,106.7,28.0,121.0,168.5,141.5,-72.53,135.0,-53.7,-77.1,127.5,-167.0,-122.0,-121.9,123.5,-173.5,-77.0,19.4,26.2,25.3,26.0,23.0,19.5,19.4,19.5,151.3,151.3,-152.0,-169.59,20.52,26.4,8.7,6.167,110.4,151.3,22.2,-64.1,-65.1,121.91,-65.1,-155.5,-161.0,10.7,-99.2,-99.9,-71.0,-63.1,-71.0,92.73,15.133,-73.2,-72.5,-71.7,173.0,-122.1,174.07,-73.0,-73.4,170.961,170.98,-77.1,-70.2,-155.0,-71.4,151.3,123.5,-70.0,-70.23,35.0,20.7,174.78,171.58,-96.3,26.0,16.15,22.5,151.3,-70.5,16.28,-76.4,-94.5,-157.0,125.425,-72.5,171.58,124.673,-73.9,-71.7,-77.0,123.0,170.96,-2.0,-73.0,-71.5,119.0,132.0,-118.1,36.2,-78.0,-168.5,-68.917,142.21,-79.53,-70.4,-124.0,146.0,-65.1,89.0,-137.57,145.9,-105.0,12.4,168.5,168.0,147.0,127.25,-155.608,-120.0,-155.608,-70.5,-77.15,-70.1,-70.2,-70.1,-71.6,108.3,-71.0,-77.08,178.33,168.5,-70.335,-77.0,-71.6,-70.1,152.25,-77.0,168.5,-73.0,-70.1,-70.1,29.7,-70.4,-70.5,-167.0,168.5,-70.2,-120.731,-71.6,15.213,171.21,33.0,-71.6,-118.433,-70.08,7.117,14.68,121.85,-71.18,178.85,151.3,-155.6,-136.0,137.3,26.2,26.2,172.9,179.0,-70.1,-76.8,147.3,-70.2,21.4,92.43,81.233,-71.63,175.84,108.1,-79.0,-70.2,129.9,120.5,106.781,106.0,20.0,105.423,-153.4,105.423,-155.505,-56.167,-122.0,179.0,105.423,39.6,-73.75,-82.95,-79.0,-122.0,-72.92,4.53,127.5,99.5,124.3,-70.1,95.3,95.3,176.43,21.5,-80.0,168.616,122.6,-155.0,8.1,-109.25,96.0,-74.4,22.8,148.121,95.0,10.383,-57.9,119.0,22.1,121.0,105.92,126.25,113.5,15.5,54.6,1.8,96.0,127.5,129.0,174.4,-103.5,172.73,124.0,-123.5,-70.35,-56.167,143.3,99.5,125.5,-175.07,166.83,13.0,127.75,136.8,25.5,-76.8,20.9,147.5,145.5,19.7,125.8,168.3,168.3,146.0,23.1,-108.95,28.7,139.8,15.9,-34.5,-122.445,150.1,130.0,-71.0,53.7,172.9,176.0,-74.883,-89.4,12.2,141.0,-76.7,144.0,102.5,8.1,141.9,120.8,165.8,172.8,91.0,-95.0,143.7,122.0,122.0,174.8,126.0,-69.95,-62.18,-122.4,142.0,22.5,-73.03,21.0,152.0,21.6,130.7,-28.03,-71.5,-142.0,-140.0,128.5,138.75,148.0,132.0,132.3,-118.5,106.0,127.85,-137.5,152.0,148.0,140.0,-66.0,-120.5,28.5,143.0,130.3,142.5,170.0,142.3,142.5,121.6,-86.5,-171.02,-91.59,-89.5,-91.0,-61.17,-61.18,-61.17,-61.17,-61.065,23.25,-61.009,-107.9,123.5,-61.17,-91.0,143.3,127.5,13.4,-99.2,-70.15,-66.2,-71.0,-79.0,120.8,159.0,159.0,128.7,176.4,177.2,109.0,-82.8,6.85,22.83,-84.68,-113.0,175.0,76.0,-139.58,142.6,-172.525,16.07,37.5,42.0,24.627,168.3,168.3,123.5,9.9,-81.5,-66.916,-81.0,-77.033,14.426,-122.5,-70.3,-88.83,-117.0,-72.0,149.0,149.0,0.3,-172.525,-71.0,-66.95,95.53,-76.237,122.0,-100.0,-172.525,-172.525,-172.525,-172.525,-172.525,-175.65,-135.5,-172.525,16.017,142.5,100.0,-146.2,129.0,-75.6,34.0,-62.133,-155.0,-78.0,15.58,-159.0,141.5,141.5,101.0,-70.5,167.2,-99.8,136.3,-112.7,145.0,152.25,-165.0,166.5,127.0,125.5,120.993,20.8,152.25,1.2,130.0,126.0,-72.0,-149.0,-61.2,20.67,-81.0,142.0,26.784,138.0,171.5,126.121,-74.525,-73.3,-74.0,-80.6,148.0,130.67,-76.6,10.2,-72.0,136.943,-62.133,101.82,178.2,20.6,128.2,20.6,-169.66,133.695,20.7,-89.0,142.9,136.0,119.5,152.548,-82.0,15.233,12.667,-67.77,122.72,116.0,118.08,163.0,125.0,104.5,116.6,-177.0,121.6,-173.0,141.729,-134.147,128.7,-177.5,-63.583,117.2,-71.5,125.491,103.0,123.0,151.5,-67.189,-67.214,151.5,-71.0,-19.05,126.0,-176.6,124.85,125.491,-172.6,-172.515,153.859,15.213,-88.291,-71.6,-155.9,12.6,140.75,33.0,122.92,150.0,-73.5,-170.0,168.53,104.9,19.5,117.9,124.38,111.0,127.0,-73.0,143.53,128.9,124.1,123.25,100.35,95.2,23.2,122.0,-72.0,-70.755,173.0,-124.5,161.0,-72.42,124.0,-80.1,162.5,-71.75,141.8,125.0,-73.5,-70.3,139.5,140.2,154.232,153.107,109.014,142.436,126.5,118.0,157.5,-176.567,-73.983,-21.95,126.5,115.0,-146.0,-106.1,122.7,-71.5,122.1,125.0,-107.0,138.0,-68.35,159.215,-155.5,100.6,-2.131,128.0,14.833,23.3,-28.59,159.519,-71.0,-9.2,178.31,-115.5,3.0,135.1,34.4,35.5,142.0,142.0,-104.0,34.5,-136.07,-120.774,-73.0,119.7,160.039,-125.0,-96.1,105.423,27.4,-70.4,-69.6,23.0,23.5,23.0,-69.5,29.1,26.8,-174.36,143.2,141.354,120.9,-97.036,-79.0,121.708,-70.5,-72.0,124.0,-58.0,-65.6,-169.71,132.2,-131.0,127.0,172.25,-70.4,-78.3,95.567,-56.0,119.4,-3.0,-16.967,105.423,9.85,96.5,105.3,114.3,-118.643,15.213,124.57,145.46,13.267,39.667,144.3,-71.0,176.025,177.0,177.0,142.5,-72.0,1.067,142.077,-74.417,-27.1,102.75,161.016,132.1,-80.4,-75.8,-103.919,-103.631,-104.383,128.35,177.5,23.9,-64.2,154.508,-71.0,144.622,-117.966,27.299,0.6,142.4,-81.0,151.0,124.05,86.76,119.0,7.4,-18.25,-82.5,166.731,165.503,-118.2,-105.5,-69.5,152.2,27.451,66.8,141.4,141.416,143.7,144.3,-155.5,94.0,103.6,98.25,166.9,126.5,-70.0,94.7,6.851,-137.1,142.2,164.0,165.0,152.203,121.5,162.5,-165.0,165.0,132.3,29.2,130.5,132.3,153.1,-131.9,6.967,147.8,120.0,141.4,144.3,125.115,-74.12,141.7,141.7,141.8,141.7,141.2,-158.37,141.5,141.6,142.1,142.2,-72.25,14.7,155.386,132.0,-70.5,159.234,139.5,121.25,-24.356,-0.625,-61.63,-79.1,123.0,39.533,13.467,-77.0,139.5,13.167,-71.0,-74.5,152.071,33.751,-125.25,12.2,92.626,-16.25,132.1,-18.966,-83.2,-84.0,-74.5,165.0,-76.0,-72.0,143.3,15.213,-74.9,26.587,137.1,-74.0,137.2,142.1,63.0,-162.832,-124.92,-70.5,-69.0,-69.5,-76.25,-174.5,153.2,135.6,178.87,178.88,22.0,141.0,122.0,27.158,135.6,20.427,121.8,95.0,-174.0,-106.0,-69.0,163.5,20.0,-122.617,-73.5,95.0,26.482,-133.3,121.5,-149.0,154.0,-71.0,-71.0,121.63,-71.5,177.2,-83.0,-69.819,96.5,-85.0,128.3,10.383,-91.917,159.5,167.5,-77.75,-98.22,142.238,-87.5,-156.0,121.7,100.0,157.95,12.417,143.85,143.6,-155.0,127.25,-82.4,-85.3,169.25,139.85,139.85,139.85,139.85,160.057,-53.0,-77.5,139.85,156.5,139.85,152.868,-72.5,-70.7,147.4,20.8,32.335,178.2,147.4,141.7,-80.6,-57.0,15.213,-86.883,1.467,-32.283,142.2,-69.57,23.1,-72.0,94.0,155.7,101.8,152.924,-70.0,175.8,144.1,160.587,25.957,25.5,138.8,23.0,-71.0,-175.629,137.0,-99.1,-71.5,107.3,116.0,160.72,-79.5,105.0,104.0,-136.665,156.1,168.536,-115.0,148.54,148.8,142.2,-81.5,22.97,149.0,159.5,20.917,156.0,-111.215,143.2,-72.75,-9.5,143.4,143.7,-73.243,-73.407,152.3,142.5,-75.1,-80.7,142.3,141.9,141.9,147.9,131.8,159.95,28.594,-73.4,131.8,168.411,160.614,145.6,-73.0,-73.0,145.7,17.1,-82.757,142.741,143.9,-99.6,-99.5,142.4,25.0,-168.54,22.02,122.1,-132.25,115.508,29.159,-78.022,12.329,149.272,149.798,150.563,105.4,-176.6,-147.648,95.4,139.0,139.0,-73.1,139.2,153.876,150.7,138.9,126.1,178.55,-72.396,-70.63,24.0,-71.26,177.93,139.0,148.7,-167.55,22.3,167.2,166.8,-95.8,120.993,-75.13,-61.63,122.6,10.633,160.883,37.0,-78.638,166.23,-70.7,166.445,166.684,165.8,151.11,119.3,97.3,-67.33,152.5,-79.8,-151.106,-71.19,-60.5,-69.5,146.701,24.957,132.5,8.0,-109.45,143.2,142.7,143.1,-178.4,122.2,132.2,126.2,119.8,32.3,-62.748,-92.6,118.9,-10.95,122.202,34.0,13.5,132.1,-16.26,119.4,146.9,147.9,163.6,-59.7,126.7,-153.9,121.71,47.1,-78.8,-73.8,-70.55,131.7,173.62,122.0,145.471,-69.81,39.34,-76.5,-177.173,-71.2,153.9,153.2,143.5,141.2,141.4,165.8,141.1,140.9,146.6,141.1,179.1,163.3,122.3,140.8,-71.8,-135.685,152.9,147.0,130.3,148.121,126.6,140.7,-71.0,-103.0,156.6,122.8,145.8,146.4,146.6,-71.5,123.59,155.9,155.6,138.7,-73.4,146.7,-77.79,-128.7,148.121,72.9,130.0,-71.3,-128.68,-17.576,147.734,155.054,125.993,-155.033,178.464,-172.467,-177.657,149.123,-89.101,-78.1,124.09,-172.095,163.323,160.348,160.731,-175.9,118.464,146.2,146.23,-175.406,139.259,149.002,149.029,148.971,148.439,148.862,142.03,122.403,23.229,16.0,121.512,-6.98,172.97,-96.591,108.0,143.703,-141.671,-101.276,19.023,19.209,24.437,123.5,123.5,-69.5,136.04,12.333,7.25,179.984,-79.358,-27.75,146.753,-122.18,-31.229,139.181,165.916,1.354,142.75,22.934,23.288,20.267,164.357,-173.085,105.423,-102.084,124.358,97.755,118.479,142.361,141.702,-175.864,123.08,139.434,20.228,127.924,153.581,139.102,138.948,139.099,24.766,161.287,120.86,123.59,7.717,-70.563,72.11,118.806,22.094,148.192,140.036,131.945,10.5,141.5,163.46,-71.708,-62.448,114.185,152.828,-102.533,-101.647,-174.776,-174.504,10.5,-176.367,121.574,141.689,147.689,6.65,-70.161,131.837,137.865,167.15,162.33,167.828,-172.225,154.371,149.06,-143.27,124.155,-142.786,-70.433,-142.747,14.967,121.013,148.78,95.127,160.896,86.616,160.568,-155.083,-156.835,-121.883,143.333,2.448,-68.833,142.76,124.694,139.252,-84.808,147.596,126.0,49.409,138.643,15.438,121.627,26.3,159.139,154.328,-175.45,-83.073,26.833,158.442,151.021,108.0,-124.316,126.762,165.239,143.33,141.641,-87.386,121.896,137.245,-178.252,157.829,-176.819,139.197,139.839,144.801,158.647,-67.97,-118.537,127.733,104.302,143.683,6.583,122.448,112.835,112.892,113.366,113.369,-125.68,118.711,152.214,147.321,127.98,147.916,-135.3,121.067,143.419,36.72,135.018,-173.529,125.58,125.92,21.695,125.049,169.9,142.827,22.283,-70.294,154.178,-98.597,-104.205,130.175,130.148,-71.417,34.799,149.3,119.931,22.083,159.43,136.952,-79.587,-98.07,7.97,-177.632,-176.847,139.931,-113.436,121.498,131.093,131.468,-75.675,131.314,168.0,-87.6,166.676,-63.486,141.878,-176.77,162.035,162.035,-62.18,5.267,149.527,125.308,143.441,142.582,124.891,-62.18,29.97,-138.67,168.214,120.15,25.69,123.573,97.453,139.131,139.26,139.376,-120.65,152.327,-52.75,36.7,-88.66,-73.641,-132.2,122.734,167.856,124.249,28.2,124.09,122.179,142.94,93.068,134.297,169.2,15.213,160.77,-104.104,3.634,3.578,-62.18,-43.411,20.605,167.144,143.91,142.619,178.65,169.766,127.4,35.551,136.618,137.071,-128.772,124.868,-61.706,164.721,145.119,161.345,95.854,141.491,-61.744,97.108,99.607,-125.97,142.039,144.896,140.131,127.214,-174.123,-62.18,3.83,107.411,-172.033,-155.935,119.997,153.266,120.547,154.524,169.357,136.588,157.044,-72.606,29.0,148.121,110.16,138.478,141.798,-179.971,-76.603,165.762,101.367,163.954,-69.89,-61.274,-121.847,-177.514,99.972,168.892,168.953,103.322,142.214,-175.5,13.2,143.754,-69.7,122.091,109.92,132.885,133.305,155.154,126.397,-174.659,-86.236,25.471,166.562,92.888,138.264,99.49,107.297,-172.095,99.867,166.51,157.477,157.346,157.551,-72.533,128.425,-72.898,-71.891,97.048,-77.645,-157.92,145.97,91.936,168.069,141.476,100.082,143.698,167.947,168.311,-73.125,172.68,142.842,142.372,141.588,168.226,-171.836,-3.0,-176.34,143.264,6.64,6.64,168.143,168.218,-171.708,-176.238,167.133,169.613,144.944,-98.231,93.063,92.463,168.741,-51.3,-88.59,126.638,-85.315,-132.101,-91.895,143.949,110.733,-134.652,165.114,166.018,150.788,-102.182,25.02,174.337,174.027,62.26,23.252,144.6,-46.401,-70.814,-70.769,-70.493,162.148,162.051,-100.972,155.024,25.33,-177.725,178.735,30.67,142.453,-16.7,-136.96,-110.811,-88.123,126.522,142.881,168.148,152.562,140.213,151.875,20.92,109.896,158.403,165.141,-169.399,-71.674,-141.3,-72.12,128.873,20.6,158.422,-3.682,94.33,-80.16,167.379,173.117,-31.877,143.68,179.146,173.054,141.387,-88.835,161.327,161.132,153.522,-74.391,176.052,155.172,51.94,-72.062,125.066,-136.677,26.365,-52.569,168.857,-74.3,27.414,-94.103,169.149,168.859,108.249,168.673,168.598,168.672,-179.0,-83.52,-74.512,-149.166,144.588,-154.998,140.193,116.508,116.438,-178.153,116.599,-62.902,170.126,119.846,169.522,20.557,169.427,131.472,105.423,152.597,-72.082,-178.095,139.472,15.213,126.416,-66.813,-78.755,157.693,25.712,114.242,-177.838,-95.901,-158.522,-159.655,26.79,-17.325,-74.99,-55.494,171.601,179.444,-177.843,-177.267,5.199,129.503,-157.841,126.742,-25.321,-73.475,-99.773,26.256],\"name\":\"\",\"radius\":8,\"subplot\":\"mapbox\",\"type\":\"densitymapbox\"}],                        {\"template\":{\"data\":{\"histogram2dcontour\":[{\"type\":\"histogram2dcontour\",\"colorbar\":{\"outlinewidth\":0,\"ticks\":\"\"},\"colorscale\":[[0.0,\"#0d0887\"],[0.1111111111111111,\"#46039f\"],[0.2222222222222222,\"#7201a8\"],[0.3333333333333333,\"#9c179e\"],[0.4444444444444444,\"#bd3786\"],[0.5555555555555556,\"#d8576b\"],[0.6666666666666666,\"#ed7953\"],[0.7777777777777778,\"#fb9f3a\"],[0.8888888888888888,\"#fdca26\"],[1.0,\"#f0f921\"]]}],\"choropleth\":[{\"type\":\"choropleth\",\"colorbar\":{\"outlinewidth\":0,\"ticks\":\"\"}}],\"histogram2d\":[{\"type\":\"histogram2d\",\"colorbar\":{\"outlinewidth\":0,\"ticks\":\"\"},\"colorscale\":[[0.0,\"#0d0887\"],[0.1111111111111111,\"#46039f\"],[0.2222222222222222,\"#7201a8\"],[0.3333333333333333,\"#9c179e\"],[0.4444444444444444,\"#bd3786\"],[0.5555555555555556,\"#d8576b\"],[0.6666666666666666,\"#ed7953\"],[0.7777777777777778,\"#fb9f3a\"],[0.8888888888888888,\"#fdca26\"],[1.0,\"#f0f921\"]]}],\"heatmap\":[{\"type\":\"heatmap\",\"colorbar\":{\"outlinewidth\":0,\"ticks\":\"\"},\"colorscale\":[[0.0,\"#0d0887\"],[0.1111111111111111,\"#46039f\"],[0.2222222222222222,\"#7201a8\"],[0.3333333333333333,\"#9c179e\"],[0.4444444444444444,\"#bd3786\"],[0.5555555555555556,\"#d8576b\"],[0.6666666666666666,\"#ed7953\"],[0.7777777777777778,\"#fb9f3a\"],[0.8888888888888888,\"#fdca26\"],[1.0,\"#f0f921\"]]}],\"heatmapgl\":[{\"type\":\"heatmapgl\",\"colorbar\":{\"outlinewidth\":0,\"ticks\":\"\"},\"colorscale\":[[0.0,\"#0d0887\"],[0.1111111111111111,\"#46039f\"],[0.2222222222222222,\"#7201a8\"],[0.3333333333333333,\"#9c179e\"],[0.4444444444444444,\"#bd3786\"],[0.5555555555555556,\"#d8576b\"],[0.6666666666666666,\"#ed7953\"],[0.7777777777777778,\"#fb9f3a\"],[0.8888888888888888,\"#fdca26\"],[1.0,\"#f0f921\"]]}],\"contourcarpet\":[{\"type\":\"contourcarpet\",\"colorbar\":{\"outlinewidth\":0,\"ticks\":\"\"}}],\"contour\":[{\"type\":\"contour\",\"colorbar\":{\"outlinewidth\":0,\"ticks\":\"\"},\"colorscale\":[[0.0,\"#0d0887\"],[0.1111111111111111,\"#46039f\"],[0.2222222222222222,\"#7201a8\"],[0.3333333333333333,\"#9c179e\"],[0.4444444444444444,\"#bd3786\"],[0.5555555555555556,\"#d8576b\"],[0.6666666666666666,\"#ed7953\"],[0.7777777777777778,\"#fb9f3a\"],[0.8888888888888888,\"#fdca26\"],[1.0,\"#f0f921\"]]}],\"surface\":[{\"type\":\"surface\",\"colorbar\":{\"outlinewidth\":0,\"ticks\":\"\"},\"colorscale\":[[0.0,\"#0d0887\"],[0.1111111111111111,\"#46039f\"],[0.2222222222222222,\"#7201a8\"],[0.3333333333333333,\"#9c179e\"],[0.4444444444444444,\"#bd3786\"],[0.5555555555555556,\"#d8576b\"],[0.6666666666666666,\"#ed7953\"],[0.7777777777777778,\"#fb9f3a\"],[0.8888888888888888,\"#fdca26\"],[1.0,\"#f0f921\"]]}],\"mesh3d\":[{\"type\":\"mesh3d\",\"colorbar\":{\"outlinewidth\":0,\"ticks\":\"\"}}],\"scatter\":[{\"fillpattern\":{\"fillmode\":\"overlay\",\"size\":10,\"solidity\":0.2},\"type\":\"scatter\"}],\"parcoords\":[{\"type\":\"parcoords\",\"line\":{\"colorbar\":{\"outlinewidth\":0,\"ticks\":\"\"}}}],\"scatterpolargl\":[{\"type\":\"scatterpolargl\",\"marker\":{\"colorbar\":{\"outlinewidth\":0,\"ticks\":\"\"}}}],\"bar\":[{\"error_x\":{\"color\":\"#2a3f5f\"},\"error_y\":{\"color\":\"#2a3f5f\"},\"marker\":{\"line\":{\"color\":\"#E5ECF6\",\"width\":0.5},\"pattern\":{\"fillmode\":\"overlay\",\"size\":10,\"solidity\":0.2}},\"type\":\"bar\"}],\"scattergeo\":[{\"type\":\"scattergeo\",\"marker\":{\"colorbar\":{\"outlinewidth\":0,\"ticks\":\"\"}}}],\"scatterpolar\":[{\"type\":\"scatterpolar\",\"marker\":{\"colorbar\":{\"outlinewidth\":0,\"ticks\":\"\"}}}],\"histogram\":[{\"marker\":{\"pattern\":{\"fillmode\":\"overlay\",\"size\":10,\"solidity\":0.2}},\"type\":\"histogram\"}],\"scattergl\":[{\"type\":\"scattergl\",\"marker\":{\"colorbar\":{\"outlinewidth\":0,\"ticks\":\"\"}}}],\"scatter3d\":[{\"type\":\"scatter3d\",\"line\":{\"colorbar\":{\"outlinewidth\":0,\"ticks\":\"\"}},\"marker\":{\"colorbar\":{\"outlinewidth\":0,\"ticks\":\"\"}}}],\"scattermapbox\":[{\"type\":\"scattermapbox\",\"marker\":{\"colorbar\":{\"outlinewidth\":0,\"ticks\":\"\"}}}],\"scatterternary\":[{\"type\":\"scatterternary\",\"marker\":{\"colorbar\":{\"outlinewidth\":0,\"ticks\":\"\"}}}],\"scattercarpet\":[{\"type\":\"scattercarpet\",\"marker\":{\"colorbar\":{\"outlinewidth\":0,\"ticks\":\"\"}}}],\"carpet\":[{\"aaxis\":{\"endlinecolor\":\"#2a3f5f\",\"gridcolor\":\"white\",\"linecolor\":\"white\",\"minorgridcolor\":\"white\",\"startlinecolor\":\"#2a3f5f\"},\"baxis\":{\"endlinecolor\":\"#2a3f5f\",\"gridcolor\":\"white\",\"linecolor\":\"white\",\"minorgridcolor\":\"white\",\"startlinecolor\":\"#2a3f5f\"},\"type\":\"carpet\"}],\"table\":[{\"cells\":{\"fill\":{\"color\":\"#EBF0F8\"},\"line\":{\"color\":\"white\"}},\"header\":{\"fill\":{\"color\":\"#C8D4E3\"},\"line\":{\"color\":\"white\"}},\"type\":\"table\"}],\"barpolar\":[{\"marker\":{\"line\":{\"color\":\"#E5ECF6\",\"width\":0.5},\"pattern\":{\"fillmode\":\"overlay\",\"size\":10,\"solidity\":0.2}},\"type\":\"barpolar\"}],\"pie\":[{\"automargin\":true,\"type\":\"pie\"}]},\"layout\":{\"autotypenumbers\":\"strict\",\"colorway\":[\"#636efa\",\"#EF553B\",\"#00cc96\",\"#ab63fa\",\"#FFA15A\",\"#19d3f3\",\"#FF6692\",\"#B6E880\",\"#FF97FF\",\"#FECB52\"],\"font\":{\"color\":\"#2a3f5f\"},\"hovermode\":\"closest\",\"hoverlabel\":{\"align\":\"left\"},\"paper_bgcolor\":\"white\",\"plot_bgcolor\":\"#E5ECF6\",\"polar\":{\"bgcolor\":\"#E5ECF6\",\"angularaxis\":{\"gridcolor\":\"white\",\"linecolor\":\"white\",\"ticks\":\"\"},\"radialaxis\":{\"gridcolor\":\"white\",\"linecolor\":\"white\",\"ticks\":\"\"}},\"ternary\":{\"bgcolor\":\"#E5ECF6\",\"aaxis\":{\"gridcolor\":\"white\",\"linecolor\":\"white\",\"ticks\":\"\"},\"baxis\":{\"gridcolor\":\"white\",\"linecolor\":\"white\",\"ticks\":\"\"},\"caxis\":{\"gridcolor\":\"white\",\"linecolor\":\"white\",\"ticks\":\"\"}},\"coloraxis\":{\"colorbar\":{\"outlinewidth\":0,\"ticks\":\"\"}},\"colorscale\":{\"sequential\":[[0.0,\"#0d0887\"],[0.1111111111111111,\"#46039f\"],[0.2222222222222222,\"#7201a8\"],[0.3333333333333333,\"#9c179e\"],[0.4444444444444444,\"#bd3786\"],[0.5555555555555556,\"#d8576b\"],[0.6666666666666666,\"#ed7953\"],[0.7777777777777778,\"#fb9f3a\"],[0.8888888888888888,\"#fdca26\"],[1.0,\"#f0f921\"]],\"sequentialminus\":[[0.0,\"#0d0887\"],[0.1111111111111111,\"#46039f\"],[0.2222222222222222,\"#7201a8\"],[0.3333333333333333,\"#9c179e\"],[0.4444444444444444,\"#bd3786\"],[0.5555555555555556,\"#d8576b\"],[0.6666666666666666,\"#ed7953\"],[0.7777777777777778,\"#fb9f3a\"],[0.8888888888888888,\"#fdca26\"],[1.0,\"#f0f921\"]],\"diverging\":[[0,\"#8e0152\"],[0.1,\"#c51b7d\"],[0.2,\"#de77ae\"],[0.3,\"#f1b6da\"],[0.4,\"#fde0ef\"],[0.5,\"#f7f7f7\"],[0.6,\"#e6f5d0\"],[0.7,\"#b8e186\"],[0.8,\"#7fbc41\"],[0.9,\"#4d9221\"],[1,\"#276419\"]]},\"xaxis\":{\"gridcolor\":\"white\",\"linecolor\":\"white\",\"ticks\":\"\",\"title\":{\"standoff\":15},\"zerolinecolor\":\"white\",\"automargin\":true,\"zerolinewidth\":2},\"yaxis\":{\"gridcolor\":\"white\",\"linecolor\":\"white\",\"ticks\":\"\",\"title\":{\"standoff\":15},\"zerolinecolor\":\"white\",\"automargin\":true,\"zerolinewidth\":2},\"scene\":{\"xaxis\":{\"backgroundcolor\":\"#E5ECF6\",\"gridcolor\":\"white\",\"linecolor\":\"white\",\"showbackground\":true,\"ticks\":\"\",\"zerolinecolor\":\"white\",\"gridwidth\":2},\"yaxis\":{\"backgroundcolor\":\"#E5ECF6\",\"gridcolor\":\"white\",\"linecolor\":\"white\",\"showbackground\":true,\"ticks\":\"\",\"zerolinecolor\":\"white\",\"gridwidth\":2},\"zaxis\":{\"backgroundcolor\":\"#E5ECF6\",\"gridcolor\":\"white\",\"linecolor\":\"white\",\"showbackground\":true,\"ticks\":\"\",\"zerolinecolor\":\"white\",\"gridwidth\":2}},\"shapedefaults\":{\"line\":{\"color\":\"#2a3f5f\"}},\"annotationdefaults\":{\"arrowcolor\":\"#2a3f5f\",\"arrowhead\":0,\"arrowwidth\":1},\"geo\":{\"bgcolor\":\"white\",\"landcolor\":\"#E5ECF6\",\"subunitcolor\":\"white\",\"showland\":true,\"showlakes\":true,\"lakecolor\":\"white\"},\"title\":{\"x\":0.05},\"mapbox\":{\"style\":\"light\"}}},\"mapbox\":{\"domain\":{\"x\":[0.0,1.0],\"y\":[0.0,1.0]},\"center\":{\"lat\":0,\"lon\":210},\"zoom\":0.5,\"style\":\"carto-positron\"},\"coloraxis\":{\"colorscale\":[[0.0,\"rgb(209, 238, 234)\"],[0.16666666666666666,\"rgb(168, 219, 217)\"],[0.3333333333333333,\"rgb(133, 196, 201)\"],[0.5,\"rgb(104, 171, 184)\"],[0.6666666666666666,\"rgb(79, 144, 166)\"],[0.8333333333333334,\"rgb(59, 115, 143)\"],[1.0,\"rgb(42, 86, 116)\"]]},\"legend\":{\"tracegroupgap\":0},\"margin\":{\"t\":60},\"title\":{\"text\":\"<b>Fig.5 World Tsunami Density\",\"x\":0.5},\"width\":1000,\"height\":500},                        {\"responsive\": true}                    ).then(function(){\n",
       "                            \n",
       "var gd = document.getElementById('df8d2360-d9ec-430f-879b-d6179aac5d41');\n",
       "var x = new MutationObserver(function (mutations, observer) {{\n",
       "        var display = window.getComputedStyle(gd).display;\n",
       "        if (!display || display === 'none') {{\n",
       "            console.log([gd, 'removed!']);\n",
       "            Plotly.purge(gd);\n",
       "            observer.disconnect();\n",
       "        }}\n",
       "}});\n",
       "\n",
       "// Listen for the removal of the full notebook cells\n",
       "var notebookContainer = gd.closest('#notebook-container');\n",
       "if (notebookContainer) {{\n",
       "    x.observe(notebookContainer, {childList: true});\n",
       "}}\n",
       "\n",
       "// Listen for the clearing of the current output cell\n",
       "var outputEl = gd.closest('.output');\n",
       "if (outputEl) {{\n",
       "    x.observe(outputEl, {childList: true});\n",
       "}}\n",
       "\n",
       "                        })                };                });            </script>        </div>"
      ]
     },
     "metadata": {},
     "output_type": "display_data"
    }
   ],
   "source": [
    "fig = px.density_mapbox(\n",
    "                        map,\n",
    "                        lat='Latitude',\n",
    "                        lon='Longitude',\n",
    "                        hover_name='Country',\n",
    "                        radius=8,\n",
    "                        color_continuous_scale=px.colors.carto.Teal,\n",
    "                        #color_continuous_scale = px.colors.diverging.Geyser,\n",
    "                        center=dict(lat=0, lon=210), zoom=0.5,\n",
    "                        )\n",
    "\n",
    "fig.update_layout(\n",
    "                  mapbox_style=\"carto-positron\",\n",
    "                  width=1000, \n",
    "                  height=500,\n",
    "                  title_text=\"<b>Fig.5 World Tsunami Density\",\n",
    "                  title_x=0.5\n",
    "                 )\n",
    "\n",
    "fig.show()"
   ]
  },
  {
   "cell_type": "markdown",
   "id": "b7c1183e",
   "metadata": {
    "papermill": {
     "duration": 0.01522,
     "end_time": "2023-04-17T15:44:31.130872",
     "exception": false,
     "start_time": "2023-04-17T15:44:31.115652",
     "status": "completed"
    },
    "tags": []
   },
   "source": [
    "**From `Fig.5`, the majority of tsunamis are occured around Pacific Ocean and Mediterranean Sea.**"
   ]
  },
  {
   "cell_type": "markdown",
   "id": "a9c6a802",
   "metadata": {
    "papermill": {
     "duration": 0.015068,
     "end_time": "2023-04-17T15:44:31.161523",
     "exception": false,
     "start_time": "2023-04-17T15:44:31.146455",
     "status": "completed"
    },
    "tags": []
   },
   "source": [
    "# Part 2: Further Data Visulization"
   ]
  },
  {
   "cell_type": "code",
   "execution_count": 19,
   "id": "037deeab",
   "metadata": {
    "execution": {
     "iopub.execute_input": "2023-04-17T15:44:31.195421Z",
     "iopub.status.busy": "2023-04-17T15:44:31.194186Z",
     "iopub.status.idle": "2023-04-17T15:44:31.214497Z",
     "shell.execute_reply": "2023-04-17T15:44:31.213192Z"
    },
    "papermill": {
     "duration": 0.03979,
     "end_time": "2023-04-17T15:44:31.216993",
     "exception": false,
     "start_time": "2023-04-17T15:44:31.177203",
     "status": "completed"
    },
    "tags": []
   },
   "outputs": [
    {
     "data": {
      "text/html": [
       "<div>\n",
       "<style scoped>\n",
       "    .dataframe tbody tr th:only-of-type {\n",
       "        vertical-align: middle;\n",
       "    }\n",
       "\n",
       "    .dataframe tbody tr th {\n",
       "        vertical-align: top;\n",
       "    }\n",
       "\n",
       "    .dataframe thead th {\n",
       "        text-align: right;\n",
       "    }\n",
       "</style>\n",
       "<table border=\"1\" class=\"dataframe\">\n",
       "  <thead>\n",
       "    <tr style=\"text-align: right;\">\n",
       "      <th></th>\n",
       "      <th>Year</th>\n",
       "      <th>Mo</th>\n",
       "      <th>Dy</th>\n",
       "      <th>Latitude</th>\n",
       "      <th>Longitude</th>\n",
       "      <th>Validity</th>\n",
       "      <th>Code</th>\n",
       "      <th>Deposits</th>\n",
       "      <th>Country</th>\n",
       "      <th>Location</th>\n",
       "      <th>Runups</th>\n",
       "      <th>Death</th>\n",
       "      <th>Century</th>\n",
       "    </tr>\n",
       "  </thead>\n",
       "  <tbody>\n",
       "    <tr>\n",
       "      <th>1</th>\n",
       "      <td>1800.0</td>\n",
       "      <td>6.0</td>\n",
       "      <td>2.0</td>\n",
       "      <td>NaN</td>\n",
       "      <td>NaN</td>\n",
       "      <td>2.0</td>\n",
       "      <td>1.0</td>\n",
       "      <td>0.0</td>\n",
       "      <td>PORTUGAL</td>\n",
       "      <td>AZORES</td>\n",
       "      <td>1.0</td>\n",
       "      <td>NaN</td>\n",
       "      <td>Early_19</td>\n",
       "    </tr>\n",
       "    <tr>\n",
       "      <th>2</th>\n",
       "      <td>1802.0</td>\n",
       "      <td>1.0</td>\n",
       "      <td>4.0</td>\n",
       "      <td>45.3</td>\n",
       "      <td>14.4</td>\n",
       "      <td>2.0</td>\n",
       "      <td>1.0</td>\n",
       "      <td>0.0</td>\n",
       "      <td>CROATIA</td>\n",
       "      <td>BAKAR</td>\n",
       "      <td>3.0</td>\n",
       "      <td>NaN</td>\n",
       "      <td>Early_19</td>\n",
       "    </tr>\n",
       "    <tr>\n",
       "      <th>3</th>\n",
       "      <td>1802.0</td>\n",
       "      <td>3.0</td>\n",
       "      <td>19.0</td>\n",
       "      <td>17.2</td>\n",
       "      <td>-62.4</td>\n",
       "      <td>2.0</td>\n",
       "      <td>1.0</td>\n",
       "      <td>0.0</td>\n",
       "      <td>ANTIGUA AND BARBUDA</td>\n",
       "      <td>ANTIGUA ISLAND &amp; ST. CHRISTOPHER</td>\n",
       "      <td>2.0</td>\n",
       "      <td>NaN</td>\n",
       "      <td>Early_19</td>\n",
       "    </tr>\n",
       "  </tbody>\n",
       "</table>\n",
       "</div>"
      ],
      "text/plain": [
       "     Year   Mo    Dy  Latitude  Longitude  Validity  Code  Deposits  \\\n",
       "1  1800.0  6.0   2.0       NaN        NaN       2.0   1.0       0.0   \n",
       "2  1802.0  1.0   4.0      45.3       14.4       2.0   1.0       0.0   \n",
       "3  1802.0  3.0  19.0      17.2      -62.4       2.0   1.0       0.0   \n",
       "\n",
       "               Country                          Location  Runups  Death  \\\n",
       "1             PORTUGAL                            AZORES     1.0    NaN   \n",
       "2              CROATIA                             BAKAR     3.0    NaN   \n",
       "3  ANTIGUA AND BARBUDA  ANTIGUA ISLAND & ST. CHRISTOPHER     2.0    NaN   \n",
       "\n",
       "    Century  \n",
       "1  Early_19  \n",
       "2  Early_19  \n",
       "3  Early_19  "
      ]
     },
     "execution_count": 19,
     "metadata": {},
     "output_type": "execute_result"
    }
   ],
   "source": [
    "data.head(3)"
   ]
  },
  {
   "cell_type": "markdown",
   "id": "7636a001",
   "metadata": {
    "papermill": {
     "duration": 0.01556,
     "end_time": "2023-04-17T15:44:31.249778",
     "exception": false,
     "start_time": "2023-04-17T15:44:31.234218",
     "status": "completed"
    },
    "tags": []
   },
   "source": [
    "# BarPlot: Study Reported Tsunami Kind\n",
    "Not all tsunamis that are recorded will actually occur, so if we study tsunamis that are erroneously recorded or less likely to happen, our results will be skewed.   \n",
    "In this part, we will devide tsunamis into 3 kinds:\n",
    "- True tsunamis\n",
    "- Maybe tsunamis\n",
    "- Fake tsunamis"
   ]
  },
  {
   "cell_type": "code",
   "execution_count": 20,
   "id": "be7a6dfd",
   "metadata": {
    "execution": {
     "iopub.execute_input": "2023-04-17T15:44:31.283664Z",
     "iopub.status.busy": "2023-04-17T15:44:31.282937Z",
     "iopub.status.idle": "2023-04-17T15:44:31.292840Z",
     "shell.execute_reply": "2023-04-17T15:44:31.291874Z"
    },
    "papermill": {
     "duration": 0.029769,
     "end_time": "2023-04-17T15:44:31.295299",
     "exception": false,
     "start_time": "2023-04-17T15:44:31.265530",
     "status": "completed"
    },
    "tags": []
   },
   "outputs": [
    {
     "data": {
      "text/plain": [
       "JAPAN        182\n",
       "USA           71\n",
       "INDONESIA     67\n",
       "RUSSIA        63\n",
       "CHILE         42\n",
       "Name: Country, dtype: int64"
      ]
     },
     "execution_count": 20,
     "metadata": {},
     "output_type": "execute_result"
    }
   ],
   "source": [
    "# Check the definite tsunamis' frequency around world\n",
    "\n",
    "data[data['Validity']==4].Country.value_counts().head(5)"
   ]
  },
  {
   "cell_type": "code",
   "execution_count": 21,
   "id": "6cfd4c7e",
   "metadata": {
    "execution": {
     "iopub.execute_input": "2023-04-17T15:44:31.329614Z",
     "iopub.status.busy": "2023-04-17T15:44:31.328848Z",
     "iopub.status.idle": "2023-04-17T15:44:31.430431Z",
     "shell.execute_reply": "2023-04-17T15:44:31.428744Z"
    },
    "papermill": {
     "duration": 0.122143,
     "end_time": "2023-04-17T15:44:31.433707",
     "exception": false,
     "start_time": "2023-04-17T15:44:31.311564",
     "status": "completed"
    },
    "tags": []
   },
   "outputs": [],
   "source": [
    "for i,j in enumerate(data[data['Validity']==4].Country.unique()):\n",
    "    \n",
    "    #Choose the top 5 countries with the most tsunami recorded as 'definite'\n",
    "    if len(data[(data['Country']==j)&(data['Validity']==4)]) >=42:\n",
    "        data.loc[data['Country']==j, 'Country_id'] = i\n",
    "        \n",
    "    else:\n",
    "        data.loc[data['Country']==j, 'Country_id'] = None  "
   ]
  },
  {
   "cell_type": "code",
   "execution_count": 22,
   "id": "453fee0f",
   "metadata": {
    "execution": {
     "iopub.execute_input": "2023-04-17T15:44:31.467457Z",
     "iopub.status.busy": "2023-04-17T15:44:31.467008Z",
     "iopub.status.idle": "2023-04-17T15:44:31.482841Z",
     "shell.execute_reply": "2023-04-17T15:44:31.481675Z"
    },
    "papermill": {
     "duration": 0.036028,
     "end_time": "2023-04-17T15:44:31.485748",
     "exception": false,
     "start_time": "2023-04-17T15:44:31.449720",
     "status": "completed"
    },
    "tags": []
   },
   "outputs": [],
   "source": [
    "# Set a feature to describe the tsunami kind\n",
    "\n",
    "data.loc[data['Validity']==4, 'Kind'] = 'True'\n",
    "data.loc[(data['Validity']>=1)&(data['Validity']<=3), 'Kind'] = 'Maybe'\n",
    "data.loc[(data['Validity']== -1)|(data['Validity']== 0), 'Kind'] = 'Fake'\n",
    "\n",
    "data_2 = data.dropna()\n",
    "data_2['Count'] = 1"
   ]
  },
  {
   "cell_type": "code",
   "execution_count": 23,
   "id": "da8b6396",
   "metadata": {
    "execution": {
     "iopub.execute_input": "2023-04-17T15:44:31.519335Z",
     "iopub.status.busy": "2023-04-17T15:44:31.518920Z",
     "iopub.status.idle": "2023-04-17T15:44:31.524433Z",
     "shell.execute_reply": "2023-04-17T15:44:31.523031Z"
    },
    "jupyter": {
     "source_hidden": true
    },
    "papermill": {
     "duration": 0.025385,
     "end_time": "2023-04-17T15:44:31.526913",
     "exception": false,
     "start_time": "2023-04-17T15:44:31.501528",
     "status": "completed"
    },
    "tags": []
   },
   "outputs": [],
   "source": [
    "#fig = px.violin(data, \n",
    "#                y=\"Year\", \n",
    "#                color=\"Kind\",\n",
    "#                template='gridon',\n",
    "#                color_discrete_sequence=px.colors.qualitative.Pastel,\n",
    "#                #box=True, \n",
    "#                #points=\"suspectedoutliers\", \n",
    "#                width=1000, height=500,\n",
    "#                violinmode='overlay', \n",
    "#                hover_data=data.columns,\n",
    "#                title='<b> Development of Tsunami Detection Technology'\n",
    "#               )\n",
    "#fig.show()\n",
    "\n",
    "#fig = px.violin(data, \n",
    "#                y=\"Year\", \n",
    "#                x='Effect',\n",
    "#                #color=\"Kind\",\n",
    "#                template='gridon',\n",
    "#                color_discrete_sequence=px.colors.qualitative.Set2,\n",
    "#                #box=True, \n",
    "#                #points=\"suspectedoutliers\", \n",
    "#                width=1000, height=500,\n",
    "#                violinmode='overlay', \n",
    "#                hover_data=data.columns,\n",
    "#                title='<b> Development of Tsunami Detection Technology'\n",
    "#               )\n",
    "#fig.show()"
   ]
  },
  {
   "cell_type": "code",
   "execution_count": 24,
   "id": "d84b51f2",
   "metadata": {
    "execution": {
     "iopub.execute_input": "2023-04-17T15:44:31.560179Z",
     "iopub.status.busy": "2023-04-17T15:44:31.559759Z",
     "iopub.status.idle": "2023-04-17T15:44:32.027247Z",
     "shell.execute_reply": "2023-04-17T15:44:32.025774Z"
    },
    "papermill": {
     "duration": 0.487572,
     "end_time": "2023-04-17T15:44:32.030199",
     "exception": false,
     "start_time": "2023-04-17T15:44:31.542627",
     "status": "completed"
    },
    "tags": []
   },
   "outputs": [
    {
     "data": {
      "text/html": [
       "<div>                            <div id=\"2e6de234-1e53-407a-af7e-92b49112205c\" class=\"plotly-graph-div\" style=\"height:600px; width:1000px;\"></div>            <script type=\"text/javascript\">                require([\"plotly\"], function(Plotly) {                    window.PLOTLYENV=window.PLOTLYENV || {};                                    if (document.getElementById(\"2e6de234-1e53-407a-af7e-92b49112205c\")) {                    Plotly.newPlot(                        \"2e6de234-1e53-407a-af7e-92b49112205c\",                        [{\"alignmentgroup\":\"True\",\"hovertemplate\":\"Country=%{x}<br>Kind=True<br>Century=Early_19<br>Count=%{y}<extra></extra>\",\"legendgroup\":\"JAPAN\",\"marker\":{\"color\":\"rgb(0, 128, 128)\",\"pattern\":{\"shape\":\"\"}},\"name\":\"JAPAN\",\"offsetgroup\":\"JAPAN\",\"orientation\":\"v\",\"showlegend\":true,\"textposition\":\"auto\",\"x\":[\"JAPAN\",\"JAPAN\",\"JAPAN\",\"JAPAN\",\"JAPAN\"],\"xaxis\":\"x11\",\"y\":[1,1,1,1,1],\"yaxis\":\"y11\",\"type\":\"bar\"},{\"alignmentgroup\":\"True\",\"hovertemplate\":\"Country=%{x}<br>Kind=True<br>Century=Late_19<br>Count=%{y}<extra></extra>\",\"legendgroup\":\"JAPAN\",\"marker\":{\"color\":\"rgb(0, 128, 128)\",\"pattern\":{\"shape\":\"\"}},\"name\":\"JAPAN\",\"offsetgroup\":\"JAPAN\",\"orientation\":\"v\",\"showlegend\":false,\"textposition\":\"auto\",\"x\":[\"JAPAN\",\"JAPAN\",\"JAPAN\",\"JAPAN\",\"JAPAN\",\"JAPAN\",\"JAPAN\",\"JAPAN\",\"JAPAN\"],\"xaxis\":\"x12\",\"y\":[1,1,1,1,1,1,1,1,1],\"yaxis\":\"y12\",\"type\":\"bar\"},{\"alignmentgroup\":\"True\",\"hovertemplate\":\"Country=%{x}<br>Kind=True<br>Century=Early_20<br>Count=%{y}<extra></extra>\",\"legendgroup\":\"JAPAN\",\"marker\":{\"color\":\"rgb(0, 128, 128)\",\"pattern\":{\"shape\":\"\"}},\"name\":\"JAPAN\",\"offsetgroup\":\"JAPAN\",\"orientation\":\"v\",\"showlegend\":false,\"textposition\":\"auto\",\"x\":[\"JAPAN\",\"JAPAN\",\"JAPAN\",\"JAPAN\",\"JAPAN\",\"JAPAN\",\"JAPAN\",\"JAPAN\",\"JAPAN\",\"JAPAN\",\"JAPAN\",\"JAPAN\",\"JAPAN\",\"JAPAN\",\"JAPAN\",\"JAPAN\",\"JAPAN\",\"JAPAN\"],\"xaxis\":\"x13\",\"y\":[1,1,1,1,1,1,1,1,1,1,1,1,1,1,1,1,1,1],\"yaxis\":\"y13\",\"type\":\"bar\"},{\"alignmentgroup\":\"True\",\"hovertemplate\":\"Country=%{x}<br>Kind=True<br>Century=Late_20<br>Count=%{y}<extra></extra>\",\"legendgroup\":\"JAPAN\",\"marker\":{\"color\":\"rgb(0, 128, 128)\",\"pattern\":{\"shape\":\"\"}},\"name\":\"JAPAN\",\"offsetgroup\":\"JAPAN\",\"orientation\":\"v\",\"showlegend\":false,\"textposition\":\"auto\",\"x\":[\"JAPAN\",\"JAPAN\",\"JAPAN\",\"JAPAN\",\"JAPAN\",\"JAPAN\",\"JAPAN\",\"JAPAN\",\"JAPAN\",\"JAPAN\",\"JAPAN\",\"JAPAN\",\"JAPAN\",\"JAPAN\",\"JAPAN\",\"JAPAN\"],\"xaxis\":\"x14\",\"y\":[1,1,1,1,1,1,1,1,1,1,1,1,1,1,1,1],\"yaxis\":\"y14\",\"type\":\"bar\"},{\"alignmentgroup\":\"True\",\"hovertemplate\":\"Country=%{x}<br>Kind=True<br>Century=Early_21<br>Count=%{y}<extra></extra>\",\"legendgroup\":\"JAPAN\",\"marker\":{\"color\":\"rgb(0, 128, 128)\",\"pattern\":{\"shape\":\"\"}},\"name\":\"JAPAN\",\"offsetgroup\":\"JAPAN\",\"orientation\":\"v\",\"showlegend\":false,\"textposition\":\"auto\",\"x\":[\"JAPAN\",\"JAPAN\",\"JAPAN\",\"JAPAN\",\"JAPAN\",\"JAPAN\",\"JAPAN\",\"JAPAN\"],\"xaxis\":\"x15\",\"y\":[1,1,1,1,1,1,1,1],\"yaxis\":\"y15\",\"type\":\"bar\"},{\"alignmentgroup\":\"True\",\"hovertemplate\":\"Country=%{x}<br>Kind=Maybe<br>Century=Early_20<br>Count=%{y}<extra></extra>\",\"legendgroup\":\"JAPAN\",\"marker\":{\"color\":\"rgb(0, 128, 128)\",\"pattern\":{\"shape\":\"\"}},\"name\":\"JAPAN\",\"offsetgroup\":\"JAPAN\",\"orientation\":\"v\",\"showlegend\":false,\"textposition\":\"auto\",\"x\":[\"JAPAN\"],\"xaxis\":\"x8\",\"y\":[1],\"yaxis\":\"y8\",\"type\":\"bar\"},{\"alignmentgroup\":\"True\",\"hovertemplate\":\"Country=%{x}<br>Kind=True<br>Century=Early_19<br>Count=%{y}<extra></extra>\",\"legendgroup\":\"USA\",\"marker\":{\"color\":\"rgb(112, 164, 148)\",\"pattern\":{\"shape\":\"\"}},\"name\":\"USA\",\"offsetgroup\":\"USA\",\"orientation\":\"v\",\"showlegend\":true,\"textposition\":\"auto\",\"x\":[\"USA\"],\"xaxis\":\"x11\",\"y\":[1],\"yaxis\":\"y11\",\"type\":\"bar\"},{\"alignmentgroup\":\"True\",\"hovertemplate\":\"Country=%{x}<br>Kind=True<br>Century=Late_19<br>Count=%{y}<extra></extra>\",\"legendgroup\":\"USA\",\"marker\":{\"color\":\"rgb(112, 164, 148)\",\"pattern\":{\"shape\":\"\"}},\"name\":\"USA\",\"offsetgroup\":\"USA\",\"orientation\":\"v\",\"showlegend\":false,\"textposition\":\"auto\",\"x\":[\"USA\",\"USA\"],\"xaxis\":\"x12\",\"y\":[1,1],\"yaxis\":\"y12\",\"type\":\"bar\"},{\"alignmentgroup\":\"True\",\"hovertemplate\":\"Country=%{x}<br>Kind=True<br>Century=Early_20<br>Count=%{y}<extra></extra>\",\"legendgroup\":\"USA\",\"marker\":{\"color\":\"rgb(112, 164, 148)\",\"pattern\":{\"shape\":\"\"}},\"name\":\"USA\",\"offsetgroup\":\"USA\",\"orientation\":\"v\",\"showlegend\":false,\"textposition\":\"auto\",\"x\":[\"USA\",\"USA\"],\"xaxis\":\"x13\",\"y\":[1,1],\"yaxis\":\"y13\",\"type\":\"bar\"},{\"alignmentgroup\":\"True\",\"hovertemplate\":\"Country=%{x}<br>Kind=True<br>Century=Late_20<br>Count=%{y}<extra></extra>\",\"legendgroup\":\"USA\",\"marker\":{\"color\":\"rgb(112, 164, 148)\",\"pattern\":{\"shape\":\"\"}},\"name\":\"USA\",\"offsetgroup\":\"USA\",\"orientation\":\"v\",\"showlegend\":false,\"textposition\":\"auto\",\"x\":[\"USA\",\"USA\",\"USA\",\"USA\",\"USA\",\"USA\"],\"xaxis\":\"x14\",\"y\":[1,1,1,1,1,1],\"yaxis\":\"y14\",\"type\":\"bar\"},{\"alignmentgroup\":\"True\",\"hovertemplate\":\"Country=%{x}<br>Kind=Maybe<br>Century=Late_19<br>Count=%{y}<extra></extra>\",\"legendgroup\":\"USA\",\"marker\":{\"color\":\"rgb(112, 164, 148)\",\"pattern\":{\"shape\":\"\"}},\"name\":\"USA\",\"offsetgroup\":\"USA\",\"orientation\":\"v\",\"showlegend\":false,\"textposition\":\"auto\",\"x\":[\"USA\",\"USA\",\"USA\"],\"xaxis\":\"x7\",\"y\":[1,1,1],\"yaxis\":\"y7\",\"type\":\"bar\"},{\"alignmentgroup\":\"True\",\"hovertemplate\":\"Country=%{x}<br>Kind=Maybe<br>Century=Early_20<br>Count=%{y}<extra></extra>\",\"legendgroup\":\"USA\",\"marker\":{\"color\":\"rgb(112, 164, 148)\",\"pattern\":{\"shape\":\"\"}},\"name\":\"USA\",\"offsetgroup\":\"USA\",\"orientation\":\"v\",\"showlegend\":false,\"textposition\":\"auto\",\"x\":[\"USA\",\"USA\",\"USA\",\"USA\",\"USA\",\"USA\",\"USA\"],\"xaxis\":\"x8\",\"y\":[1,1,1,1,1,1,1],\"yaxis\":\"y8\",\"type\":\"bar\"},{\"alignmentgroup\":\"True\",\"hovertemplate\":\"Country=%{x}<br>Kind=Maybe<br>Century=Late_20<br>Count=%{y}<extra></extra>\",\"legendgroup\":\"USA\",\"marker\":{\"color\":\"rgb(112, 164, 148)\",\"pattern\":{\"shape\":\"\"}},\"name\":\"USA\",\"offsetgroup\":\"USA\",\"orientation\":\"v\",\"showlegend\":false,\"textposition\":\"auto\",\"x\":[\"USA\"],\"xaxis\":\"x9\",\"y\":[1],\"yaxis\":\"y9\",\"type\":\"bar\"},{\"alignmentgroup\":\"True\",\"hovertemplate\":\"Country=%{x}<br>Kind=Fake<br>Century=Late_20<br>Count=%{y}<extra></extra>\",\"legendgroup\":\"USA\",\"marker\":{\"color\":\"rgb(112, 164, 148)\",\"pattern\":{\"shape\":\"\"}},\"name\":\"USA\",\"offsetgroup\":\"USA\",\"orientation\":\"v\",\"showlegend\":false,\"textposition\":\"auto\",\"x\":[\"USA\",\"USA\",\"USA\"],\"xaxis\":\"x4\",\"y\":[1,1,1],\"yaxis\":\"y4\",\"type\":\"bar\"},{\"alignmentgroup\":\"True\",\"hovertemplate\":\"Country=%{x}<br>Kind=True<br>Century=Early_19<br>Count=%{y}<extra></extra>\",\"legendgroup\":\"INDONESIA\",\"marker\":{\"color\":\"rgb(180, 200, 168)\",\"pattern\":{\"shape\":\"\"}},\"name\":\"INDONESIA\",\"offsetgroup\":\"INDONESIA\",\"orientation\":\"v\",\"showlegend\":true,\"textposition\":\"auto\",\"x\":[\"INDONESIA\",\"INDONESIA\"],\"xaxis\":\"x11\",\"y\":[1,1],\"yaxis\":\"y11\",\"type\":\"bar\"},{\"alignmentgroup\":\"True\",\"hovertemplate\":\"Country=%{x}<br>Kind=True<br>Century=Late_19<br>Count=%{y}<extra></extra>\",\"legendgroup\":\"INDONESIA\",\"marker\":{\"color\":\"rgb(180, 200, 168)\",\"pattern\":{\"shape\":\"\"}},\"name\":\"INDONESIA\",\"offsetgroup\":\"INDONESIA\",\"orientation\":\"v\",\"showlegend\":false,\"textposition\":\"auto\",\"x\":[\"INDONESIA\",\"INDONESIA\",\"INDONESIA\",\"INDONESIA\",\"INDONESIA\",\"INDONESIA\",\"INDONESIA\",\"INDONESIA\",\"INDONESIA\"],\"xaxis\":\"x12\",\"y\":[1,1,1,1,1,1,1,1,1],\"yaxis\":\"y12\",\"type\":\"bar\"},{\"alignmentgroup\":\"True\",\"hovertemplate\":\"Country=%{x}<br>Kind=True<br>Century=Early_20<br>Count=%{y}<extra></extra>\",\"legendgroup\":\"INDONESIA\",\"marker\":{\"color\":\"rgb(180, 200, 168)\",\"pattern\":{\"shape\":\"\"}},\"name\":\"INDONESIA\",\"offsetgroup\":\"INDONESIA\",\"orientation\":\"v\",\"showlegend\":false,\"textposition\":\"auto\",\"x\":[\"INDONESIA\",\"INDONESIA\",\"INDONESIA\"],\"xaxis\":\"x13\",\"y\":[1,1,1],\"yaxis\":\"y13\",\"type\":\"bar\"},{\"alignmentgroup\":\"True\",\"hovertemplate\":\"Country=%{x}<br>Kind=True<br>Century=Late_20<br>Count=%{y}<extra></extra>\",\"legendgroup\":\"INDONESIA\",\"marker\":{\"color\":\"rgb(180, 200, 168)\",\"pattern\":{\"shape\":\"\"}},\"name\":\"INDONESIA\",\"offsetgroup\":\"INDONESIA\",\"orientation\":\"v\",\"showlegend\":false,\"textposition\":\"auto\",\"x\":[\"INDONESIA\",\"INDONESIA\",\"INDONESIA\",\"INDONESIA\",\"INDONESIA\",\"INDONESIA\",\"INDONESIA\",\"INDONESIA\",\"INDONESIA\",\"INDONESIA\",\"INDONESIA\",\"INDONESIA\",\"INDONESIA\"],\"xaxis\":\"x14\",\"y\":[1,1,1,1,1,1,1,1,1,1,1,1,1],\"yaxis\":\"y14\",\"type\":\"bar\"},{\"alignmentgroup\":\"True\",\"hovertemplate\":\"Country=%{x}<br>Kind=True<br>Century=Early_21<br>Count=%{y}<extra></extra>\",\"legendgroup\":\"INDONESIA\",\"marker\":{\"color\":\"rgb(180, 200, 168)\",\"pattern\":{\"shape\":\"\"}},\"name\":\"INDONESIA\",\"offsetgroup\":\"INDONESIA\",\"orientation\":\"v\",\"showlegend\":false,\"textposition\":\"auto\",\"x\":[\"INDONESIA\",\"INDONESIA\",\"INDONESIA\",\"INDONESIA\",\"INDONESIA\",\"INDONESIA\",\"INDONESIA\",\"INDONESIA\",\"INDONESIA\",\"INDONESIA\",\"INDONESIA\",\"INDONESIA\",\"INDONESIA\",\"INDONESIA\",\"INDONESIA\",\"INDONESIA\",\"INDONESIA\"],\"xaxis\":\"x15\",\"y\":[1,1,1,1,1,1,1,1,1,1,1,1,1,1,1,1,1],\"yaxis\":\"y15\",\"type\":\"bar\"},{\"alignmentgroup\":\"True\",\"hovertemplate\":\"Country=%{x}<br>Kind=Maybe<br>Century=Early_19<br>Count=%{y}<extra></extra>\",\"legendgroup\":\"INDONESIA\",\"marker\":{\"color\":\"rgb(180, 200, 168)\",\"pattern\":{\"shape\":\"\"}},\"name\":\"INDONESIA\",\"offsetgroup\":\"INDONESIA\",\"orientation\":\"v\",\"showlegend\":false,\"textposition\":\"auto\",\"x\":[\"INDONESIA\",\"INDONESIA\"],\"xaxis\":\"x6\",\"y\":[1,1],\"yaxis\":\"y6\",\"type\":\"bar\"},{\"alignmentgroup\":\"True\",\"hovertemplate\":\"Country=%{x}<br>Kind=Maybe<br>Century=Late_19<br>Count=%{y}<extra></extra>\",\"legendgroup\":\"INDONESIA\",\"marker\":{\"color\":\"rgb(180, 200, 168)\",\"pattern\":{\"shape\":\"\"}},\"name\":\"INDONESIA\",\"offsetgroup\":\"INDONESIA\",\"orientation\":\"v\",\"showlegend\":false,\"textposition\":\"auto\",\"x\":[\"INDONESIA\",\"INDONESIA\",\"INDONESIA\"],\"xaxis\":\"x7\",\"y\":[1,1,1],\"yaxis\":\"y7\",\"type\":\"bar\"},{\"alignmentgroup\":\"True\",\"hovertemplate\":\"Country=%{x}<br>Kind=Maybe<br>Century=Early_20<br>Count=%{y}<extra></extra>\",\"legendgroup\":\"INDONESIA\",\"marker\":{\"color\":\"rgb(180, 200, 168)\",\"pattern\":{\"shape\":\"\"}},\"name\":\"INDONESIA\",\"offsetgroup\":\"INDONESIA\",\"orientation\":\"v\",\"showlegend\":false,\"textposition\":\"auto\",\"x\":[\"INDONESIA\",\"INDONESIA\",\"INDONESIA\",\"INDONESIA\",\"INDONESIA\",\"INDONESIA\"],\"xaxis\":\"x8\",\"y\":[1,1,1,1,1,1],\"yaxis\":\"y8\",\"type\":\"bar\"},{\"alignmentgroup\":\"True\",\"hovertemplate\":\"Country=%{x}<br>Kind=Maybe<br>Century=Late_20<br>Count=%{y}<extra></extra>\",\"legendgroup\":\"INDONESIA\",\"marker\":{\"color\":\"rgb(180, 200, 168)\",\"pattern\":{\"shape\":\"\"}},\"name\":\"INDONESIA\",\"offsetgroup\":\"INDONESIA\",\"orientation\":\"v\",\"showlegend\":false,\"textposition\":\"auto\",\"x\":[\"INDONESIA\",\"INDONESIA\",\"INDONESIA\",\"INDONESIA\",\"INDONESIA\",\"INDONESIA\"],\"xaxis\":\"x9\",\"y\":[1,1,1,1,1,1],\"yaxis\":\"y9\",\"type\":\"bar\"},{\"alignmentgroup\":\"True\",\"hovertemplate\":\"Country=%{x}<br>Kind=Maybe<br>Century=Early_21<br>Count=%{y}<extra></extra>\",\"legendgroup\":\"INDONESIA\",\"marker\":{\"color\":\"rgb(180, 200, 168)\",\"pattern\":{\"shape\":\"\"}},\"name\":\"INDONESIA\",\"offsetgroup\":\"INDONESIA\",\"orientation\":\"v\",\"showlegend\":false,\"textposition\":\"auto\",\"x\":[\"INDONESIA\",\"INDONESIA\",\"INDONESIA\"],\"xaxis\":\"x10\",\"y\":[1,1,1],\"yaxis\":\"y10\",\"type\":\"bar\"},{\"alignmentgroup\":\"True\",\"hovertemplate\":\"Country=%{x}<br>Kind=Fake<br>Century=Early_20<br>Count=%{y}<extra></extra>\",\"legendgroup\":\"INDONESIA\",\"marker\":{\"color\":\"rgb(180, 200, 168)\",\"pattern\":{\"shape\":\"\"}},\"name\":\"INDONESIA\",\"offsetgroup\":\"INDONESIA\",\"orientation\":\"v\",\"showlegend\":false,\"textposition\":\"auto\",\"x\":[\"INDONESIA\"],\"xaxis\":\"x3\",\"y\":[1],\"yaxis\":\"y3\",\"type\":\"bar\"},{\"alignmentgroup\":\"True\",\"hovertemplate\":\"Country=%{x}<br>Kind=Fake<br>Century=Late_20<br>Count=%{y}<extra></extra>\",\"legendgroup\":\"INDONESIA\",\"marker\":{\"color\":\"rgb(180, 200, 168)\",\"pattern\":{\"shape\":\"\"}},\"name\":\"INDONESIA\",\"offsetgroup\":\"INDONESIA\",\"orientation\":\"v\",\"showlegend\":false,\"textposition\":\"auto\",\"x\":[\"INDONESIA\"],\"xaxis\":\"x4\",\"y\":[1],\"yaxis\":\"y4\",\"type\":\"bar\"},{\"alignmentgroup\":\"True\",\"hovertemplate\":\"Country=%{x}<br>Kind=Fake<br>Century=Early_21<br>Count=%{y}<extra></extra>\",\"legendgroup\":\"INDONESIA\",\"marker\":{\"color\":\"rgb(180, 200, 168)\",\"pattern\":{\"shape\":\"\"}},\"name\":\"INDONESIA\",\"offsetgroup\":\"INDONESIA\",\"orientation\":\"v\",\"showlegend\":false,\"textposition\":\"auto\",\"x\":[\"INDONESIA\"],\"xaxis\":\"x5\",\"y\":[1],\"yaxis\":\"y5\",\"type\":\"bar\"},{\"alignmentgroup\":\"True\",\"hovertemplate\":\"Country=%{x}<br>Kind=True<br>Century=Early_19<br>Count=%{y}<extra></extra>\",\"legendgroup\":\"CHILE\",\"marker\":{\"color\":\"rgb(246, 237, 189)\",\"pattern\":{\"shape\":\"\"}},\"name\":\"CHILE\",\"offsetgroup\":\"CHILE\",\"orientation\":\"v\",\"showlegend\":true,\"textposition\":\"auto\",\"x\":[\"CHILE\",\"CHILE\",\"CHILE\"],\"xaxis\":\"x11\",\"y\":[1,1,1],\"yaxis\":\"y11\",\"type\":\"bar\"},{\"alignmentgroup\":\"True\",\"hovertemplate\":\"Country=%{x}<br>Kind=True<br>Century=Late_19<br>Count=%{y}<extra></extra>\",\"legendgroup\":\"CHILE\",\"marker\":{\"color\":\"rgb(246, 237, 189)\",\"pattern\":{\"shape\":\"\"}},\"name\":\"CHILE\",\"offsetgroup\":\"CHILE\",\"orientation\":\"v\",\"showlegend\":false,\"textposition\":\"auto\",\"x\":[\"CHILE\",\"CHILE\",\"CHILE\"],\"xaxis\":\"x12\",\"y\":[1,1,1],\"yaxis\":\"y12\",\"type\":\"bar\"},{\"alignmentgroup\":\"True\",\"hovertemplate\":\"Country=%{x}<br>Kind=True<br>Century=Early_20<br>Count=%{y}<extra></extra>\",\"legendgroup\":\"CHILE\",\"marker\":{\"color\":\"rgb(246, 237, 189)\",\"pattern\":{\"shape\":\"\"}},\"name\":\"CHILE\",\"offsetgroup\":\"CHILE\",\"orientation\":\"v\",\"showlegend\":false,\"textposition\":\"auto\",\"x\":[\"CHILE\",\"CHILE\",\"CHILE\"],\"xaxis\":\"x13\",\"y\":[1,1,1],\"yaxis\":\"y13\",\"type\":\"bar\"},{\"alignmentgroup\":\"True\",\"hovertemplate\":\"Country=%{x}<br>Kind=True<br>Century=Late_20<br>Count=%{y}<extra></extra>\",\"legendgroup\":\"CHILE\",\"marker\":{\"color\":\"rgb(246, 237, 189)\",\"pattern\":{\"shape\":\"\"}},\"name\":\"CHILE\",\"offsetgroup\":\"CHILE\",\"orientation\":\"v\",\"showlegend\":false,\"textposition\":\"auto\",\"x\":[\"CHILE\",\"CHILE\",\"CHILE\",\"CHILE\",\"CHILE\",\"CHILE\",\"CHILE\",\"CHILE\"],\"xaxis\":\"x14\",\"y\":[1,1,1,1,1,1,1,1],\"yaxis\":\"y14\",\"type\":\"bar\"},{\"alignmentgroup\":\"True\",\"hovertemplate\":\"Country=%{x}<br>Kind=True<br>Century=Early_21<br>Count=%{y}<extra></extra>\",\"legendgroup\":\"CHILE\",\"marker\":{\"color\":\"rgb(246, 237, 189)\",\"pattern\":{\"shape\":\"\"}},\"name\":\"CHILE\",\"offsetgroup\":\"CHILE\",\"orientation\":\"v\",\"showlegend\":false,\"textposition\":\"auto\",\"x\":[\"CHILE\",\"CHILE\",\"CHILE\",\"CHILE\",\"CHILE\"],\"xaxis\":\"x15\",\"y\":[1,1,1,1,1],\"yaxis\":\"y15\",\"type\":\"bar\"},{\"alignmentgroup\":\"True\",\"hovertemplate\":\"Country=%{x}<br>Kind=Maybe<br>Century=Late_19<br>Count=%{y}<extra></extra>\",\"legendgroup\":\"CHILE\",\"marker\":{\"color\":\"rgb(246, 237, 189)\",\"pattern\":{\"shape\":\"\"}},\"name\":\"CHILE\",\"offsetgroup\":\"CHILE\",\"orientation\":\"v\",\"showlegend\":false,\"textposition\":\"auto\",\"x\":[\"CHILE\",\"CHILE\"],\"xaxis\":\"x7\",\"y\":[1,1],\"yaxis\":\"y7\",\"type\":\"bar\"},{\"alignmentgroup\":\"True\",\"hovertemplate\":\"Country=%{x}<br>Kind=Maybe<br>Century=Early_20<br>Count=%{y}<extra></extra>\",\"legendgroup\":\"CHILE\",\"marker\":{\"color\":\"rgb(246, 237, 189)\",\"pattern\":{\"shape\":\"\"}},\"name\":\"CHILE\",\"offsetgroup\":\"CHILE\",\"orientation\":\"v\",\"showlegend\":false,\"textposition\":\"auto\",\"x\":[\"CHILE\",\"CHILE\",\"CHILE\",\"CHILE\",\"CHILE\",\"CHILE\"],\"xaxis\":\"x8\",\"y\":[1,1,1,1,1,1],\"yaxis\":\"y8\",\"type\":\"bar\"},{\"alignmentgroup\":\"True\",\"hovertemplate\":\"Country=%{x}<br>Kind=Maybe<br>Century=Late_20<br>Count=%{y}<extra></extra>\",\"legendgroup\":\"CHILE\",\"marker\":{\"color\":\"rgb(246, 237, 189)\",\"pattern\":{\"shape\":\"\"}},\"name\":\"CHILE\",\"offsetgroup\":\"CHILE\",\"orientation\":\"v\",\"showlegend\":false,\"textposition\":\"auto\",\"x\":[\"CHILE\",\"CHILE\",\"CHILE\"],\"xaxis\":\"x9\",\"y\":[1,1,1],\"yaxis\":\"y9\",\"type\":\"bar\"},{\"alignmentgroup\":\"True\",\"hovertemplate\":\"Country=%{x}<br>Kind=Fake<br>Century=Late_20<br>Count=%{y}<extra></extra>\",\"legendgroup\":\"CHILE\",\"marker\":{\"color\":\"rgb(246, 237, 189)\",\"pattern\":{\"shape\":\"\"}},\"name\":\"CHILE\",\"offsetgroup\":\"CHILE\",\"orientation\":\"v\",\"showlegend\":false,\"textposition\":\"auto\",\"x\":[\"CHILE\"],\"xaxis\":\"x4\",\"y\":[1],\"yaxis\":\"y4\",\"type\":\"bar\"},{\"alignmentgroup\":\"True\",\"hovertemplate\":\"Country=%{x}<br>Kind=True<br>Century=Early_20<br>Count=%{y}<extra></extra>\",\"legendgroup\":\"RUSSIA\",\"marker\":{\"color\":\"rgb(237, 187, 138)\",\"pattern\":{\"shape\":\"\"}},\"name\":\"RUSSIA\",\"offsetgroup\":\"RUSSIA\",\"orientation\":\"v\",\"showlegend\":true,\"textposition\":\"auto\",\"x\":[\"RUSSIA\",\"RUSSIA\",\"RUSSIA\",\"RUSSIA\"],\"xaxis\":\"x13\",\"y\":[1,1,1,1],\"yaxis\":\"y13\",\"type\":\"bar\"},{\"alignmentgroup\":\"True\",\"hovertemplate\":\"Country=%{x}<br>Kind=True<br>Century=Late_20<br>Count=%{y}<extra></extra>\",\"legendgroup\":\"RUSSIA\",\"marker\":{\"color\":\"rgb(237, 187, 138)\",\"pattern\":{\"shape\":\"\"}},\"name\":\"RUSSIA\",\"offsetgroup\":\"RUSSIA\",\"orientation\":\"v\",\"showlegend\":false,\"textposition\":\"auto\",\"x\":[\"RUSSIA\",\"RUSSIA\",\"RUSSIA\"],\"xaxis\":\"x14\",\"y\":[1,1,1],\"yaxis\":\"y14\",\"type\":\"bar\"},{\"alignmentgroup\":\"True\",\"hovertemplate\":\"Country=%{x}<br>Kind=True<br>Century=Early_21<br>Count=%{y}<extra></extra>\",\"legendgroup\":\"RUSSIA\",\"marker\":{\"color\":\"rgb(237, 187, 138)\",\"pattern\":{\"shape\":\"\"}},\"name\":\"RUSSIA\",\"offsetgroup\":\"RUSSIA\",\"orientation\":\"v\",\"showlegend\":false,\"textposition\":\"auto\",\"x\":[\"RUSSIA\"],\"xaxis\":\"x15\",\"y\":[1],\"yaxis\":\"y15\",\"type\":\"bar\"}],                        {\"template\":{\"data\":{\"pie\":[{\"automargin\":true,\"type\":\"pie\"}]},\"layout\":{\"xaxis\":{\"showgrid\":true,\"title\":{\"standoff\":15}},\"yaxis\":{\"showgrid\":true,\"title\":{\"standoff\":15}}}},\"xaxis\":{\"anchor\":\"y\",\"domain\":[0.0,0.18000000000000002],\"title\":{\"text\":\"Country\"},\"categoryorder\":\"array\",\"categoryarray\":[\"JAPAN\",\"USA\",\"INDONESIA\",\"CHILE\",\"RUSSIA\"],\"tickangle\":45},\"yaxis\":{\"anchor\":\"x\",\"domain\":[0.0,0.3133333333333333],\"title\":{\"text\":\"Count\"}},\"xaxis2\":{\"anchor\":\"y2\",\"domain\":[0.2,0.38],\"matches\":\"x\",\"title\":{\"text\":\"Country\"},\"categoryorder\":\"array\",\"categoryarray\":[\"JAPAN\",\"USA\",\"INDONESIA\",\"CHILE\",\"RUSSIA\"],\"tickangle\":45},\"yaxis2\":{\"anchor\":\"x2\",\"domain\":[0.0,0.3133333333333333],\"matches\":\"y\",\"showticklabels\":false},\"xaxis3\":{\"anchor\":\"y3\",\"domain\":[0.4,0.5800000000000001],\"matches\":\"x\",\"title\":{\"text\":\"Country\"},\"categoryorder\":\"array\",\"categoryarray\":[\"JAPAN\",\"USA\",\"INDONESIA\",\"CHILE\",\"RUSSIA\"],\"tickangle\":45},\"yaxis3\":{\"anchor\":\"x3\",\"domain\":[0.0,0.3133333333333333],\"matches\":\"y\",\"showticklabels\":false},\"xaxis4\":{\"anchor\":\"y4\",\"domain\":[0.6000000000000001,0.7800000000000001],\"matches\":\"x\",\"title\":{\"text\":\"Country\"},\"categoryorder\":\"array\",\"categoryarray\":[\"JAPAN\",\"USA\",\"INDONESIA\",\"CHILE\",\"RUSSIA\"],\"tickangle\":45},\"yaxis4\":{\"anchor\":\"x4\",\"domain\":[0.0,0.3133333333333333],\"matches\":\"y\",\"showticklabels\":false},\"xaxis5\":{\"anchor\":\"y5\",\"domain\":[0.8,0.9800000000000001],\"matches\":\"x\",\"title\":{\"text\":\"Country\"},\"categoryorder\":\"array\",\"categoryarray\":[\"JAPAN\",\"USA\",\"INDONESIA\",\"CHILE\",\"RUSSIA\"],\"tickangle\":45},\"yaxis5\":{\"anchor\":\"x5\",\"domain\":[0.0,0.3133333333333333],\"matches\":\"y\",\"showticklabels\":false},\"xaxis6\":{\"anchor\":\"y6\",\"domain\":[0.0,0.18000000000000002],\"matches\":\"x\",\"showticklabels\":false,\"tickangle\":45},\"yaxis6\":{\"anchor\":\"x6\",\"domain\":[0.34333333333333327,0.6566666666666665],\"matches\":\"y\",\"title\":{\"text\":\"Count\"}},\"xaxis7\":{\"anchor\":\"y7\",\"domain\":[0.2,0.38],\"matches\":\"x\",\"showticklabels\":false,\"tickangle\":45},\"yaxis7\":{\"anchor\":\"x7\",\"domain\":[0.34333333333333327,0.6566666666666665],\"matches\":\"y\",\"showticklabels\":false},\"xaxis8\":{\"anchor\":\"y8\",\"domain\":[0.4,0.5800000000000001],\"matches\":\"x\",\"showticklabels\":false,\"tickangle\":45},\"yaxis8\":{\"anchor\":\"x8\",\"domain\":[0.34333333333333327,0.6566666666666665],\"matches\":\"y\",\"showticklabels\":false},\"xaxis9\":{\"anchor\":\"y9\",\"domain\":[0.6000000000000001,0.7800000000000001],\"matches\":\"x\",\"showticklabels\":false,\"tickangle\":45},\"yaxis9\":{\"anchor\":\"x9\",\"domain\":[0.34333333333333327,0.6566666666666665],\"matches\":\"y\",\"showticklabels\":false},\"xaxis10\":{\"anchor\":\"y10\",\"domain\":[0.8,0.9800000000000001],\"matches\":\"x\",\"showticklabels\":false,\"tickangle\":45},\"yaxis10\":{\"anchor\":\"x10\",\"domain\":[0.34333333333333327,0.6566666666666665],\"matches\":\"y\",\"showticklabels\":false},\"xaxis11\":{\"anchor\":\"y11\",\"domain\":[0.0,0.18000000000000002],\"matches\":\"x\",\"showticklabels\":false,\"tickangle\":45},\"yaxis11\":{\"anchor\":\"x11\",\"domain\":[0.6866666666666665,0.9999999999999998],\"matches\":\"y\",\"title\":{\"text\":\"Count\"}},\"xaxis12\":{\"anchor\":\"y12\",\"domain\":[0.2,0.38],\"matches\":\"x\",\"showticklabels\":false,\"tickangle\":45},\"yaxis12\":{\"anchor\":\"x12\",\"domain\":[0.6866666666666665,0.9999999999999998],\"matches\":\"y\",\"showticklabels\":false},\"xaxis13\":{\"anchor\":\"y13\",\"domain\":[0.4,0.5800000000000001],\"matches\":\"x\",\"showticklabels\":false,\"tickangle\":45},\"yaxis13\":{\"anchor\":\"x13\",\"domain\":[0.6866666666666665,0.9999999999999998],\"matches\":\"y\",\"showticklabels\":false},\"xaxis14\":{\"anchor\":\"y14\",\"domain\":[0.6000000000000001,0.7800000000000001],\"matches\":\"x\",\"showticklabels\":false,\"tickangle\":45},\"yaxis14\":{\"anchor\":\"x14\",\"domain\":[0.6866666666666665,0.9999999999999998],\"matches\":\"y\",\"showticklabels\":false},\"xaxis15\":{\"anchor\":\"y15\",\"domain\":[0.8,0.9800000000000001],\"matches\":\"x\",\"showticklabels\":false,\"tickangle\":45},\"yaxis15\":{\"anchor\":\"x15\",\"domain\":[0.6866666666666665,0.9999999999999998],\"matches\":\"y\",\"showticklabels\":false},\"annotations\":[{\"font\":{},\"showarrow\":false,\"text\":\"Century=Early_19\",\"x\":0.09000000000000001,\"xanchor\":\"center\",\"xref\":\"paper\",\"y\":0.9999999999999998,\"yanchor\":\"bottom\",\"yref\":\"paper\"},{\"font\":{},\"showarrow\":false,\"text\":\"Century=Late_19\",\"x\":0.29000000000000004,\"xanchor\":\"center\",\"xref\":\"paper\",\"y\":0.9999999999999998,\"yanchor\":\"bottom\",\"yref\":\"paper\"},{\"font\":{},\"showarrow\":false,\"text\":\"Century=Early_20\",\"x\":0.49000000000000005,\"xanchor\":\"center\",\"xref\":\"paper\",\"y\":0.9999999999999998,\"yanchor\":\"bottom\",\"yref\":\"paper\"},{\"font\":{},\"showarrow\":false,\"text\":\"Century=Late_20\",\"x\":0.6900000000000002,\"xanchor\":\"center\",\"xref\":\"paper\",\"y\":0.9999999999999998,\"yanchor\":\"bottom\",\"yref\":\"paper\"},{\"font\":{},\"showarrow\":false,\"text\":\"Century=Early_21\",\"x\":0.8900000000000001,\"xanchor\":\"center\",\"xref\":\"paper\",\"y\":0.9999999999999998,\"yanchor\":\"bottom\",\"yref\":\"paper\"},{\"font\":{},\"showarrow\":false,\"text\":\"Kind=Fake\",\"textangle\":90,\"x\":0.9800000000000001,\"xanchor\":\"left\",\"xref\":\"paper\",\"y\":0.15666666666666665,\"yanchor\":\"middle\",\"yref\":\"paper\"},{\"font\":{},\"showarrow\":false,\"text\":\"Kind=Maybe\",\"textangle\":90,\"x\":0.9800000000000001,\"xanchor\":\"left\",\"xref\":\"paper\",\"y\":0.4999999999999999,\"yanchor\":\"middle\",\"yref\":\"paper\"},{\"font\":{},\"showarrow\":false,\"text\":\"Kind=True\",\"textangle\":90,\"x\":0.9800000000000001,\"xanchor\":\"left\",\"xref\":\"paper\",\"y\":0.8433333333333332,\"yanchor\":\"middle\",\"yref\":\"paper\"}],\"legend\":{\"title\":{\"text\":\"Country\"},\"tracegroupgap\":0},\"title\":{\"text\":\"<b>Fig.6 Ture Tsunami or Fake Tsunami? <br> Situation for Top5 Countries in Different Century\"},\"barmode\":\"relative\",\"height\":600,\"width\":1000},                        {\"responsive\": true}                    ).then(function(){\n",
       "                            \n",
       "var gd = document.getElementById('2e6de234-1e53-407a-af7e-92b49112205c');\n",
       "var x = new MutationObserver(function (mutations, observer) {{\n",
       "        var display = window.getComputedStyle(gd).display;\n",
       "        if (!display || display === 'none') {{\n",
       "            console.log([gd, 'removed!']);\n",
       "            Plotly.purge(gd);\n",
       "            observer.disconnect();\n",
       "        }}\n",
       "}});\n",
       "\n",
       "// Listen for the removal of the full notebook cells\n",
       "var notebookContainer = gd.closest('#notebook-container');\n",
       "if (notebookContainer) {{\n",
       "    x.observe(notebookContainer, {childList: true});\n",
       "}}\n",
       "\n",
       "// Listen for the clearing of the current output cell\n",
       "var outputEl = gd.closest('.output');\n",
       "if (outputEl) {{\n",
       "    x.observe(outputEl, {childList: true});\n",
       "}}\n",
       "\n",
       "                        })                };                });            </script>        </div>"
      ]
     },
     "metadata": {},
     "output_type": "display_data"
    }
   ],
   "source": [
    "fig = px.bar(\n",
    "             data_2,\n",
    "             x=\"Country\",\n",
    "             y=\"Count\", \n",
    "             color=\"Country\",\n",
    "             facet_col= 'Century',\n",
    "             facet_row='Kind',\n",
    "             template='gridon',\n",
    "             color_discrete_sequence=px.colors.carto.Geyser,\n",
    "             width=1000,\n",
    "             height=600,\n",
    "             title='<b>Fig.6 Ture Tsunami or Fake Tsunami? <br> Situation for Top5 Countries in Different Century'\n",
    "            )\n",
    "\n",
    "fig.update_xaxes(tickangle=45)\n",
    "\n",
    "fig.show()"
   ]
  },
  {
   "cell_type": "markdown",
   "id": "2aa60b02",
   "metadata": {
    "papermill": {
     "duration": 0.0156,
     "end_time": "2023-04-17T15:44:32.061958",
     "exception": false,
     "start_time": "2023-04-17T15:44:32.046358",
     "status": "completed"
    },
    "tags": []
   },
   "source": [
    "**According to `Fig.6`:**\n",
    "1. **The USA is the country with the most tsunami records. But Japan does record the most tsunamis as 'definite', and tsunamis are getting more and more frequent in recent years.**.  \n",
    "2. **Furthermore, the USA has most fake tsunamis records.**   \n",
    "3. **Fewer and fewer tsunamis are recorded as possible over time.**  \n",
    "4. **Russia experienced an unusually high number of tsunamis in the second half of the twentieth century compared to other times.**"
   ]
  },
  {
   "cell_type": "markdown",
   "id": "af9254f4",
   "metadata": {
    "papermill": {
     "duration": 0.015506,
     "end_time": "2023-04-17T15:44:32.093334",
     "exception": false,
     "start_time": "2023-04-17T15:44:32.077828",
     "status": "completed"
    },
    "tags": []
   },
   "source": [
    "# BarPlot: Study Deposit to Assess Tsunami Risk\n",
    "The total number of deposits link will display the deposits associated with a particular tsunami event.   \n",
    ">Sedimentary deposits left by tsunamis can be used to extend the record of tsunamis to improve risk assessment. The two primary factors in tsunami risk, tsunami frequency and magnitude, can be addressed through field and modeling studies of tsunami deposits.   \n",
    "---- Bruce E Jaffe"
   ]
  },
  {
   "cell_type": "code",
   "execution_count": 25,
   "id": "5314f59d",
   "metadata": {
    "execution": {
     "iopub.execute_input": "2023-04-17T15:44:32.127082Z",
     "iopub.status.busy": "2023-04-17T15:44:32.126651Z",
     "iopub.status.idle": "2023-04-17T15:44:32.137761Z",
     "shell.execute_reply": "2023-04-17T15:44:32.136433Z"
    },
    "papermill": {
     "duration": 0.030788,
     "end_time": "2023-04-17T15:44:32.140113",
     "exception": false,
     "start_time": "2023-04-17T15:44:32.109325",
     "status": "completed"
    },
    "tags": []
   },
   "outputs": [
    {
     "data": {
      "text/plain": [
       "0.0      2021\n",
       "1.0        91\n",
       "2.0        13\n",
       "3.0        10\n",
       "4.0         6\n",
       "8.0         4\n",
       "6.0         3\n",
       "20.0        2\n",
       "10.0        2\n",
       "5.0         2\n",
       "11.0        1\n",
       "26.0        1\n",
       "14.0        1\n",
       "9.0         1\n",
       "19.0        1\n",
       "144.0       1\n",
       "7.0         1\n",
       "Name: Deposits, dtype: int64"
      ]
     },
     "execution_count": 25,
     "metadata": {},
     "output_type": "execute_result"
    }
   ],
   "source": [
    "data.Deposits.value_counts()"
   ]
  },
  {
   "cell_type": "code",
   "execution_count": 26,
   "id": "d1d813b8",
   "metadata": {
    "execution": {
     "iopub.execute_input": "2023-04-17T15:44:32.176646Z",
     "iopub.status.busy": "2023-04-17T15:44:32.176131Z",
     "iopub.status.idle": "2023-04-17T15:44:32.189517Z",
     "shell.execute_reply": "2023-04-17T15:44:32.188508Z"
    },
    "papermill": {
     "duration": 0.034817,
     "end_time": "2023-04-17T15:44:32.191584",
     "exception": false,
     "start_time": "2023-04-17T15:44:32.156767",
     "status": "completed"
    },
    "tags": []
   },
   "outputs": [],
   "source": [
    "# Classify Tsunamis' Effect\n",
    "\n",
    "data.loc[data['Deposits']==0, 'Effect'] = 'None'\n",
    "data.loc[data['Deposits']==1, 'Effect'] = 'Once'\n",
    "data.loc[(data['Deposits']>1)&(data['Deposits']<10), 'Effect'] = 'Several'\n",
    "data.loc[data['Deposits']>=10, 'Effect'] = 'Dozens'\n",
    "data['Count'] = 1"
   ]
  },
  {
   "cell_type": "code",
   "execution_count": 27,
   "id": "558aab3c",
   "metadata": {
    "execution": {
     "iopub.execute_input": "2023-04-17T15:44:32.226970Z",
     "iopub.status.busy": "2023-04-17T15:44:32.226510Z",
     "iopub.status.idle": "2023-04-17T15:44:32.854148Z",
     "shell.execute_reply": "2023-04-17T15:44:32.852761Z"
    },
    "papermill": {
     "duration": 0.649031,
     "end_time": "2023-04-17T15:44:32.857237",
     "exception": false,
     "start_time": "2023-04-17T15:44:32.208206",
     "status": "completed"
    },
    "tags": []
   },
   "outputs": [
    {
     "data": {
      "text/html": [
       "<div>                            <div id=\"35570bb1-accb-4397-b0f5-161759638fb8\" class=\"plotly-graph-div\" style=\"height:600px; width:1000px;\"></div>            <script type=\"text/javascript\">                require([\"plotly\"], function(Plotly) {                    window.PLOTLYENV=window.PLOTLYENV || {};                                    if (document.getElementById(\"35570bb1-accb-4397-b0f5-161759638fb8\")) {                    Plotly.newPlot(                        \"35570bb1-accb-4397-b0f5-161759638fb8\",                        [{\"alignmentgroup\":\"True\",\"hovertemplate\":\"Country=%{x}<br>Effect=None<br>Century=Early_19<br>Count=%{y}<extra></extra>\",\"legendgroup\":\"JAPAN\",\"marker\":{\"color\":\"rgb(0, 128, 128)\",\"pattern\":{\"shape\":\"\"}},\"name\":\"JAPAN\",\"offsetgroup\":\"JAPAN\",\"orientation\":\"v\",\"showlegend\":true,\"textposition\":\"auto\",\"x\":[\"JAPAN\",\"JAPAN\",\"JAPAN\",\"JAPAN\",\"JAPAN\",\"JAPAN\",\"JAPAN\",\"JAPAN\"],\"xaxis\":\"x16\",\"y\":[1,1,1,1,1,1,1,1],\"yaxis\":\"y16\",\"type\":\"bar\"},{\"alignmentgroup\":\"True\",\"hovertemplate\":\"Country=%{x}<br>Effect=None<br>Century=Late_19<br>Count=%{y}<extra></extra>\",\"legendgroup\":\"JAPAN\",\"marker\":{\"color\":\"rgb(0, 128, 128)\",\"pattern\":{\"shape\":\"\"}},\"name\":\"JAPAN\",\"offsetgroup\":\"JAPAN\",\"orientation\":\"v\",\"showlegend\":false,\"textposition\":\"auto\",\"x\":[\"JAPAN\",\"JAPAN\",\"JAPAN\",\"JAPAN\",\"JAPAN\",\"JAPAN\",\"JAPAN\",\"JAPAN\",\"JAPAN\",\"JAPAN\",\"JAPAN\",\"JAPAN\",\"JAPAN\",\"JAPAN\",\"JAPAN\",\"JAPAN\"],\"xaxis\":\"x17\",\"y\":[1,1,1,1,1,1,1,1,1,1,1,1,1,1,1,1],\"yaxis\":\"y17\",\"type\":\"bar\"},{\"alignmentgroup\":\"True\",\"hovertemplate\":\"Country=%{x}<br>Effect=None<br>Century=Early_20<br>Count=%{y}<extra></extra>\",\"legendgroup\":\"JAPAN\",\"marker\":{\"color\":\"rgb(0, 128, 128)\",\"pattern\":{\"shape\":\"\"}},\"name\":\"JAPAN\",\"offsetgroup\":\"JAPAN\",\"orientation\":\"v\",\"showlegend\":false,\"textposition\":\"auto\",\"x\":[\"JAPAN\",\"JAPAN\",\"JAPAN\",\"JAPAN\",\"JAPAN\",\"JAPAN\",\"JAPAN\",\"JAPAN\",\"JAPAN\",\"JAPAN\",\"JAPAN\",\"JAPAN\",\"JAPAN\",\"JAPAN\",\"JAPAN\",\"JAPAN\",\"JAPAN\",\"JAPAN\",\"JAPAN\",\"JAPAN\",\"JAPAN\",\"JAPAN\",\"JAPAN\",\"JAPAN\",\"JAPAN\",\"JAPAN\",\"JAPAN\",\"JAPAN\",\"JAPAN\",\"JAPAN\",\"JAPAN\",\"JAPAN\",\"JAPAN\",\"JAPAN\",\"JAPAN\",\"JAPAN\",\"JAPAN\",\"JAPAN\",\"JAPAN\",\"JAPAN\",\"JAPAN\",\"JAPAN\",\"JAPAN\"],\"xaxis\":\"x18\",\"y\":[1,1,1,1,1,1,1,1,1,1,1,1,1,1,1,1,1,1,1,1,1,1,1,1,1,1,1,1,1,1,1,1,1,1,1,1,1,1,1,1,1,1,1],\"yaxis\":\"y18\",\"type\":\"bar\"},{\"alignmentgroup\":\"True\",\"hovertemplate\":\"Country=%{x}<br>Effect=None<br>Century=Late_20<br>Count=%{y}<extra></extra>\",\"legendgroup\":\"JAPAN\",\"marker\":{\"color\":\"rgb(0, 128, 128)\",\"pattern\":{\"shape\":\"\"}},\"name\":\"JAPAN\",\"offsetgroup\":\"JAPAN\",\"orientation\":\"v\",\"showlegend\":false,\"textposition\":\"auto\",\"x\":[\"JAPAN\",\"JAPAN\",\"JAPAN\",\"JAPAN\",\"JAPAN\",\"JAPAN\",\"JAPAN\",\"JAPAN\",\"JAPAN\",\"JAPAN\",\"JAPAN\",\"JAPAN\",\"JAPAN\",\"JAPAN\",\"JAPAN\",\"JAPAN\",\"JAPAN\",\"JAPAN\",\"JAPAN\",\"JAPAN\",\"JAPAN\",\"JAPAN\",\"JAPAN\",\"JAPAN\",\"JAPAN\",\"JAPAN\",\"JAPAN\",\"JAPAN\",\"JAPAN\",\"JAPAN\",\"JAPAN\",\"JAPAN\",\"JAPAN\",\"JAPAN\",\"JAPAN\",\"JAPAN\",\"JAPAN\",\"JAPAN\",\"JAPAN\",\"JAPAN\",\"JAPAN\",\"JAPAN\",\"JAPAN\",\"JAPAN\",\"JAPAN\",\"JAPAN\",\"JAPAN\",\"JAPAN\",\"JAPAN\",\"JAPAN\",\"JAPAN\",\"JAPAN\",\"JAPAN\",\"JAPAN\",\"JAPAN\",\"JAPAN\",\"JAPAN\",\"JAPAN\",\"JAPAN\",\"JAPAN\",\"JAPAN\",\"JAPAN\",\"JAPAN\",\"JAPAN\"],\"xaxis\":\"x19\",\"y\":[1,1,1,1,1,1,1,1,1,1,1,1,1,1,1,1,1,1,1,1,1,1,1,1,1,1,1,1,1,1,1,1,1,1,1,1,1,1,1,1,1,1,1,1,1,1,1,1,1,1,1,1,1,1,1,1,1,1,1,1,1,1,1,1],\"yaxis\":\"y19\",\"type\":\"bar\"},{\"alignmentgroup\":\"True\",\"hovertemplate\":\"Country=%{x}<br>Effect=None<br>Century=Early_21<br>Count=%{y}<extra></extra>\",\"legendgroup\":\"JAPAN\",\"marker\":{\"color\":\"rgb(0, 128, 128)\",\"pattern\":{\"shape\":\"\"}},\"name\":\"JAPAN\",\"offsetgroup\":\"JAPAN\",\"orientation\":\"v\",\"showlegend\":false,\"textposition\":\"auto\",\"x\":[\"JAPAN\",\"JAPAN\",\"JAPAN\",\"JAPAN\",\"JAPAN\",\"JAPAN\",\"JAPAN\",\"JAPAN\",\"JAPAN\",\"JAPAN\",\"JAPAN\",\"JAPAN\",\"JAPAN\",\"JAPAN\",\"JAPAN\",\"JAPAN\",\"JAPAN\",\"JAPAN\",\"JAPAN\",\"JAPAN\",\"JAPAN\",\"JAPAN\",\"JAPAN\",\"JAPAN\",\"JAPAN\",\"JAPAN\",\"JAPAN\",\"JAPAN\"],\"xaxis\":\"x20\",\"y\":[1,1,1,1,1,1,1,1,1,1,1,1,1,1,1,1,1,1,1,1,1,1,1,1,1,1,1,1],\"yaxis\":\"y20\",\"type\":\"bar\"},{\"alignmentgroup\":\"True\",\"hovertemplate\":\"Country=%{x}<br>Effect=Once<br>Century=Early_19<br>Count=%{y}<extra></extra>\",\"legendgroup\":\"JAPAN\",\"marker\":{\"color\":\"rgb(0, 128, 128)\",\"pattern\":{\"shape\":\"\"}},\"name\":\"JAPAN\",\"offsetgroup\":\"JAPAN\",\"orientation\":\"v\",\"showlegend\":false,\"textposition\":\"auto\",\"x\":[\"JAPAN\"],\"xaxis\":\"x11\",\"y\":[1],\"yaxis\":\"y11\",\"type\":\"bar\"},{\"alignmentgroup\":\"True\",\"hovertemplate\":\"Country=%{x}<br>Effect=Once<br>Century=Late_19<br>Count=%{y}<extra></extra>\",\"legendgroup\":\"JAPAN\",\"marker\":{\"color\":\"rgb(0, 128, 128)\",\"pattern\":{\"shape\":\"\"}},\"name\":\"JAPAN\",\"offsetgroup\":\"JAPAN\",\"orientation\":\"v\",\"showlegend\":false,\"textposition\":\"auto\",\"x\":[\"JAPAN\",\"JAPAN\"],\"xaxis\":\"x12\",\"y\":[1,1],\"yaxis\":\"y12\",\"type\":\"bar\"},{\"alignmentgroup\":\"True\",\"hovertemplate\":\"Country=%{x}<br>Effect=Once<br>Century=Early_20<br>Count=%{y}<extra></extra>\",\"legendgroup\":\"JAPAN\",\"marker\":{\"color\":\"rgb(0, 128, 128)\",\"pattern\":{\"shape\":\"\"}},\"name\":\"JAPAN\",\"offsetgroup\":\"JAPAN\",\"orientation\":\"v\",\"showlegend\":false,\"textposition\":\"auto\",\"x\":[\"JAPAN\",\"JAPAN\",\"JAPAN\"],\"xaxis\":\"x13\",\"y\":[1,1,1],\"yaxis\":\"y13\",\"type\":\"bar\"},{\"alignmentgroup\":\"True\",\"hovertemplate\":\"Country=%{x}<br>Effect=Once<br>Century=Late_20<br>Count=%{y}<extra></extra>\",\"legendgroup\":\"JAPAN\",\"marker\":{\"color\":\"rgb(0, 128, 128)\",\"pattern\":{\"shape\":\"\"}},\"name\":\"JAPAN\",\"offsetgroup\":\"JAPAN\",\"orientation\":\"v\",\"showlegend\":false,\"textposition\":\"auto\",\"x\":[\"JAPAN\",\"JAPAN\",\"JAPAN\",\"JAPAN\",\"JAPAN\",\"JAPAN\",\"JAPAN\"],\"xaxis\":\"x14\",\"y\":[1,1,1,1,1,1,1],\"yaxis\":\"y14\",\"type\":\"bar\"},{\"alignmentgroup\":\"True\",\"hovertemplate\":\"Country=%{x}<br>Effect=Once<br>Century=Early_21<br>Count=%{y}<extra></extra>\",\"legendgroup\":\"JAPAN\",\"marker\":{\"color\":\"rgb(0, 128, 128)\",\"pattern\":{\"shape\":\"\"}},\"name\":\"JAPAN\",\"offsetgroup\":\"JAPAN\",\"orientation\":\"v\",\"showlegend\":false,\"textposition\":\"auto\",\"x\":[\"JAPAN\",\"JAPAN\"],\"xaxis\":\"x15\",\"y\":[1,1],\"yaxis\":\"y15\",\"type\":\"bar\"},{\"alignmentgroup\":\"True\",\"hovertemplate\":\"Country=%{x}<br>Effect=Several<br>Century=Early_19<br>Count=%{y}<extra></extra>\",\"legendgroup\":\"JAPAN\",\"marker\":{\"color\":\"rgb(0, 128, 128)\",\"pattern\":{\"shape\":\"\"}},\"name\":\"JAPAN\",\"offsetgroup\":\"JAPAN\",\"orientation\":\"v\",\"showlegend\":false,\"textposition\":\"auto\",\"x\":[\"JAPAN\"],\"xaxis\":\"x6\",\"y\":[1],\"yaxis\":\"y6\",\"type\":\"bar\"},{\"alignmentgroup\":\"True\",\"hovertemplate\":\"Country=%{x}<br>Effect=Several<br>Century=Late_19<br>Count=%{y}<extra></extra>\",\"legendgroup\":\"JAPAN\",\"marker\":{\"color\":\"rgb(0, 128, 128)\",\"pattern\":{\"shape\":\"\"}},\"name\":\"JAPAN\",\"offsetgroup\":\"JAPAN\",\"orientation\":\"v\",\"showlegend\":false,\"textposition\":\"auto\",\"x\":[\"JAPAN\"],\"xaxis\":\"x7\",\"y\":[1],\"yaxis\":\"y7\",\"type\":\"bar\"},{\"alignmentgroup\":\"True\",\"hovertemplate\":\"Country=%{x}<br>Effect=Several<br>Century=Early_20<br>Count=%{y}<extra></extra>\",\"legendgroup\":\"JAPAN\",\"marker\":{\"color\":\"rgb(0, 128, 128)\",\"pattern\":{\"shape\":\"\"}},\"name\":\"JAPAN\",\"offsetgroup\":\"JAPAN\",\"orientation\":\"v\",\"showlegend\":false,\"textposition\":\"auto\",\"x\":[\"JAPAN\",\"JAPAN\"],\"xaxis\":\"x8\",\"y\":[1,1],\"yaxis\":\"y8\",\"type\":\"bar\"},{\"alignmentgroup\":\"True\",\"hovertemplate\":\"Country=%{x}<br>Effect=Several<br>Century=Late_20<br>Count=%{y}<extra></extra>\",\"legendgroup\":\"JAPAN\",\"marker\":{\"color\":\"rgb(0, 128, 128)\",\"pattern\":{\"shape\":\"\"}},\"name\":\"JAPAN\",\"offsetgroup\":\"JAPAN\",\"orientation\":\"v\",\"showlegend\":false,\"textposition\":\"auto\",\"x\":[\"JAPAN\",\"JAPAN\"],\"xaxis\":\"x9\",\"y\":[1,1],\"yaxis\":\"y9\",\"type\":\"bar\"},{\"alignmentgroup\":\"True\",\"hovertemplate\":\"Country=%{x}<br>Effect=Several<br>Century=Early_21<br>Count=%{y}<extra></extra>\",\"legendgroup\":\"JAPAN\",\"marker\":{\"color\":\"rgb(0, 128, 128)\",\"pattern\":{\"shape\":\"\"}},\"name\":\"JAPAN\",\"offsetgroup\":\"JAPAN\",\"orientation\":\"v\",\"showlegend\":false,\"textposition\":\"auto\",\"x\":[\"JAPAN\"],\"xaxis\":\"x10\",\"y\":[1],\"yaxis\":\"y10\",\"type\":\"bar\"},{\"alignmentgroup\":\"True\",\"hovertemplate\":\"Country=%{x}<br>Effect=Dozens<br>Century=Late_20<br>Count=%{y}<extra></extra>\",\"legendgroup\":\"JAPAN\",\"marker\":{\"color\":\"rgb(0, 128, 128)\",\"pattern\":{\"shape\":\"\"}},\"name\":\"JAPAN\",\"offsetgroup\":\"JAPAN\",\"orientation\":\"v\",\"showlegend\":false,\"textposition\":\"auto\",\"x\":[\"JAPAN\"],\"xaxis\":\"x4\",\"y\":[1],\"yaxis\":\"y4\",\"type\":\"bar\"},{\"alignmentgroup\":\"True\",\"hovertemplate\":\"Country=%{x}<br>Effect=None<br>Century=Early_19<br>Count=%{y}<extra></extra>\",\"legendgroup\":\"USA\",\"marker\":{\"color\":\"rgb(112, 164, 148)\",\"pattern\":{\"shape\":\"\"}},\"name\":\"USA\",\"offsetgroup\":\"USA\",\"orientation\":\"v\",\"showlegend\":true,\"textposition\":\"auto\",\"x\":[\"USA\"],\"xaxis\":\"x16\",\"y\":[1],\"yaxis\":\"y16\",\"type\":\"bar\"},{\"alignmentgroup\":\"True\",\"hovertemplate\":\"Country=%{x}<br>Effect=None<br>Century=Late_19<br>Count=%{y}<extra></extra>\",\"legendgroup\":\"USA\",\"marker\":{\"color\":\"rgb(112, 164, 148)\",\"pattern\":{\"shape\":\"\"}},\"name\":\"USA\",\"offsetgroup\":\"USA\",\"orientation\":\"v\",\"showlegend\":false,\"textposition\":\"auto\",\"x\":[\"USA\",\"USA\",\"USA\",\"USA\",\"USA\"],\"xaxis\":\"x17\",\"y\":[1,1,1,1,1],\"yaxis\":\"y17\",\"type\":\"bar\"},{\"alignmentgroup\":\"True\",\"hovertemplate\":\"Country=%{x}<br>Effect=None<br>Century=Early_20<br>Count=%{y}<extra></extra>\",\"legendgroup\":\"USA\",\"marker\":{\"color\":\"rgb(112, 164, 148)\",\"pattern\":{\"shape\":\"\"}},\"name\":\"USA\",\"offsetgroup\":\"USA\",\"orientation\":\"v\",\"showlegend\":false,\"textposition\":\"auto\",\"x\":[\"USA\",\"USA\",\"USA\",\"USA\",\"USA\",\"USA\",\"USA\",\"USA\",\"USA\",\"USA\",\"USA\",\"USA\"],\"xaxis\":\"x18\",\"y\":[1,1,1,1,1,1,1,1,1,1,1,1],\"yaxis\":\"y18\",\"type\":\"bar\"},{\"alignmentgroup\":\"True\",\"hovertemplate\":\"Country=%{x}<br>Effect=None<br>Century=Late_20<br>Count=%{y}<extra></extra>\",\"legendgroup\":\"USA\",\"marker\":{\"color\":\"rgb(112, 164, 148)\",\"pattern\":{\"shape\":\"\"}},\"name\":\"USA\",\"offsetgroup\":\"USA\",\"orientation\":\"v\",\"showlegend\":false,\"textposition\":\"auto\",\"x\":[\"USA\",\"USA\",\"USA\",\"USA\",\"USA\",\"USA\",\"USA\",\"USA\",\"USA\",\"USA\",\"USA\",\"USA\",\"USA\",\"USA\",\"USA\",\"USA\",\"USA\",\"USA\",\"USA\",\"USA\",\"USA\",\"USA\"],\"xaxis\":\"x19\",\"y\":[1,1,1,1,1,1,1,1,1,1,1,1,1,1,1,1,1,1,1,1,1,1],\"yaxis\":\"y19\",\"type\":\"bar\"},{\"alignmentgroup\":\"True\",\"hovertemplate\":\"Country=%{x}<br>Effect=None<br>Century=Early_21<br>Count=%{y}<extra></extra>\",\"legendgroup\":\"USA\",\"marker\":{\"color\":\"rgb(112, 164, 148)\",\"pattern\":{\"shape\":\"\"}},\"name\":\"USA\",\"offsetgroup\":\"USA\",\"orientation\":\"v\",\"showlegend\":false,\"textposition\":\"auto\",\"x\":[\"USA\",\"USA\",\"USA\",\"USA\",\"USA\",\"USA\",\"USA\",\"USA\",\"USA\",\"USA\",\"USA\",\"USA\",\"USA\",\"USA\",\"USA\",\"USA\",\"USA\",\"USA\",\"USA\",\"USA\",\"USA\",\"USA\"],\"xaxis\":\"x20\",\"y\":[1,1,1,1,1,1,1,1,1,1,1,1,1,1,1,1,1,1,1,1,1,1],\"yaxis\":\"y20\",\"type\":\"bar\"},{\"alignmentgroup\":\"True\",\"hovertemplate\":\"Country=%{x}<br>Effect=Once<br>Century=Late_19<br>Count=%{y}<extra></extra>\",\"legendgroup\":\"USA\",\"marker\":{\"color\":\"rgb(112, 164, 148)\",\"pattern\":{\"shape\":\"\"}},\"name\":\"USA\",\"offsetgroup\":\"USA\",\"orientation\":\"v\",\"showlegend\":false,\"textposition\":\"auto\",\"x\":[\"USA\",\"USA\"],\"xaxis\":\"x12\",\"y\":[1,1],\"yaxis\":\"y12\",\"type\":\"bar\"},{\"alignmentgroup\":\"True\",\"hovertemplate\":\"Country=%{x}<br>Effect=Once<br>Century=Late_20<br>Count=%{y}<extra></extra>\",\"legendgroup\":\"USA\",\"marker\":{\"color\":\"rgb(112, 164, 148)\",\"pattern\":{\"shape\":\"\"}},\"name\":\"USA\",\"offsetgroup\":\"USA\",\"orientation\":\"v\",\"showlegend\":false,\"textposition\":\"auto\",\"x\":[\"USA\"],\"xaxis\":\"x14\",\"y\":[1],\"yaxis\":\"y14\",\"type\":\"bar\"},{\"alignmentgroup\":\"True\",\"hovertemplate\":\"Country=%{x}<br>Effect=Once<br>Century=Early_21<br>Count=%{y}<extra></extra>\",\"legendgroup\":\"USA\",\"marker\":{\"color\":\"rgb(112, 164, 148)\",\"pattern\":{\"shape\":\"\"}},\"name\":\"USA\",\"offsetgroup\":\"USA\",\"orientation\":\"v\",\"showlegend\":false,\"textposition\":\"auto\",\"x\":[\"USA\"],\"xaxis\":\"x15\",\"y\":[1],\"yaxis\":\"y15\",\"type\":\"bar\"},{\"alignmentgroup\":\"True\",\"hovertemplate\":\"Country=%{x}<br>Effect=Several<br>Century=Late_19<br>Count=%{y}<extra></extra>\",\"legendgroup\":\"USA\",\"marker\":{\"color\":\"rgb(112, 164, 148)\",\"pattern\":{\"shape\":\"\"}},\"name\":\"USA\",\"offsetgroup\":\"USA\",\"orientation\":\"v\",\"showlegend\":false,\"textposition\":\"auto\",\"x\":[\"USA\"],\"xaxis\":\"x7\",\"y\":[1],\"yaxis\":\"y7\",\"type\":\"bar\"},{\"alignmentgroup\":\"True\",\"hovertemplate\":\"Country=%{x}<br>Effect=Several<br>Century=Late_20<br>Count=%{y}<extra></extra>\",\"legendgroup\":\"USA\",\"marker\":{\"color\":\"rgb(112, 164, 148)\",\"pattern\":{\"shape\":\"\"}},\"name\":\"USA\",\"offsetgroup\":\"USA\",\"orientation\":\"v\",\"showlegend\":false,\"textposition\":\"auto\",\"x\":[\"USA\",\"USA\"],\"xaxis\":\"x9\",\"y\":[1,1],\"yaxis\":\"y9\",\"type\":\"bar\"},{\"alignmentgroup\":\"True\",\"hovertemplate\":\"Country=%{x}<br>Effect=Dozens<br>Century=Early_20<br>Count=%{y}<extra></extra>\",\"legendgroup\":\"USA\",\"marker\":{\"color\":\"rgb(112, 164, 148)\",\"pattern\":{\"shape\":\"\"}},\"name\":\"USA\",\"offsetgroup\":\"USA\",\"orientation\":\"v\",\"showlegend\":false,\"textposition\":\"auto\",\"x\":[\"USA\"],\"xaxis\":\"x3\",\"y\":[1],\"yaxis\":\"y3\",\"type\":\"bar\"},{\"alignmentgroup\":\"True\",\"hovertemplate\":\"Country=%{x}<br>Effect=Dozens<br>Century=Late_20<br>Count=%{y}<extra></extra>\",\"legendgroup\":\"USA\",\"marker\":{\"color\":\"rgb(112, 164, 148)\",\"pattern\":{\"shape\":\"\"}},\"name\":\"USA\",\"offsetgroup\":\"USA\",\"orientation\":\"v\",\"showlegend\":false,\"textposition\":\"auto\",\"x\":[\"USA\"],\"xaxis\":\"x4\",\"y\":[1],\"yaxis\":\"y4\",\"type\":\"bar\"},{\"alignmentgroup\":\"True\",\"hovertemplate\":\"Country=%{x}<br>Effect=None<br>Century=Early_19<br>Count=%{y}<extra></extra>\",\"legendgroup\":\"INDONESIA\",\"marker\":{\"color\":\"rgb(180, 200, 168)\",\"pattern\":{\"shape\":\"\"}},\"name\":\"INDONESIA\",\"offsetgroup\":\"INDONESIA\",\"orientation\":\"v\",\"showlegend\":true,\"textposition\":\"auto\",\"x\":[\"INDONESIA\",\"INDONESIA\",\"INDONESIA\",\"INDONESIA\"],\"xaxis\":\"x16\",\"y\":[1,1,1,1],\"yaxis\":\"y16\",\"type\":\"bar\"},{\"alignmentgroup\":\"True\",\"hovertemplate\":\"Country=%{x}<br>Effect=None<br>Century=Late_19<br>Count=%{y}<extra></extra>\",\"legendgroup\":\"INDONESIA\",\"marker\":{\"color\":\"rgb(180, 200, 168)\",\"pattern\":{\"shape\":\"\"}},\"name\":\"INDONESIA\",\"offsetgroup\":\"INDONESIA\",\"orientation\":\"v\",\"showlegend\":false,\"textposition\":\"auto\",\"x\":[\"INDONESIA\",\"INDONESIA\",\"INDONESIA\",\"INDONESIA\",\"INDONESIA\",\"INDONESIA\",\"INDONESIA\",\"INDONESIA\",\"INDONESIA\"],\"xaxis\":\"x17\",\"y\":[1,1,1,1,1,1,1,1,1],\"yaxis\":\"y17\",\"type\":\"bar\"},{\"alignmentgroup\":\"True\",\"hovertemplate\":\"Country=%{x}<br>Effect=None<br>Century=Early_20<br>Count=%{y}<extra></extra>\",\"legendgroup\":\"INDONESIA\",\"marker\":{\"color\":\"rgb(180, 200, 168)\",\"pattern\":{\"shape\":\"\"}},\"name\":\"INDONESIA\",\"offsetgroup\":\"INDONESIA\",\"orientation\":\"v\",\"showlegend\":false,\"textposition\":\"auto\",\"x\":[\"INDONESIA\",\"INDONESIA\",\"INDONESIA\",\"INDONESIA\",\"INDONESIA\",\"INDONESIA\"],\"xaxis\":\"x18\",\"y\":[1,1,1,1,1,1],\"yaxis\":\"y18\",\"type\":\"bar\"},{\"alignmentgroup\":\"True\",\"hovertemplate\":\"Country=%{x}<br>Effect=None<br>Century=Late_20<br>Count=%{y}<extra></extra>\",\"legendgroup\":\"INDONESIA\",\"marker\":{\"color\":\"rgb(180, 200, 168)\",\"pattern\":{\"shape\":\"\"}},\"name\":\"INDONESIA\",\"offsetgroup\":\"INDONESIA\",\"orientation\":\"v\",\"showlegend\":false,\"textposition\":\"auto\",\"x\":[\"INDONESIA\",\"INDONESIA\",\"INDONESIA\",\"INDONESIA\",\"INDONESIA\",\"INDONESIA\",\"INDONESIA\",\"INDONESIA\",\"INDONESIA\",\"INDONESIA\",\"INDONESIA\",\"INDONESIA\",\"INDONESIA\"],\"xaxis\":\"x19\",\"y\":[1,1,1,1,1,1,1,1,1,1,1,1,1],\"yaxis\":\"y19\",\"type\":\"bar\"},{\"alignmentgroup\":\"True\",\"hovertemplate\":\"Country=%{x}<br>Effect=None<br>Century=Early_21<br>Count=%{y}<extra></extra>\",\"legendgroup\":\"INDONESIA\",\"marker\":{\"color\":\"rgb(180, 200, 168)\",\"pattern\":{\"shape\":\"\"}},\"name\":\"INDONESIA\",\"offsetgroup\":\"INDONESIA\",\"orientation\":\"v\",\"showlegend\":false,\"textposition\":\"auto\",\"x\":[\"INDONESIA\",\"INDONESIA\",\"INDONESIA\",\"INDONESIA\",\"INDONESIA\",\"INDONESIA\",\"INDONESIA\",\"INDONESIA\",\"INDONESIA\",\"INDONESIA\",\"INDONESIA\",\"INDONESIA\",\"INDONESIA\",\"INDONESIA\",\"INDONESIA\",\"INDONESIA\",\"INDONESIA\",\"INDONESIA\",\"INDONESIA\",\"INDONESIA\"],\"xaxis\":\"x20\",\"y\":[1,1,1,1,1,1,1,1,1,1,1,1,1,1,1,1,1,1,1,1],\"yaxis\":\"y20\",\"type\":\"bar\"},{\"alignmentgroup\":\"True\",\"hovertemplate\":\"Country=%{x}<br>Effect=Once<br>Century=Early_19<br>Count=%{y}<extra></extra>\",\"legendgroup\":\"INDONESIA\",\"marker\":{\"color\":\"rgb(180, 200, 168)\",\"pattern\":{\"shape\":\"\"}},\"name\":\"INDONESIA\",\"offsetgroup\":\"INDONESIA\",\"orientation\":\"v\",\"showlegend\":false,\"textposition\":\"auto\",\"x\":[\"INDONESIA\"],\"xaxis\":\"x11\",\"y\":[1],\"yaxis\":\"y11\",\"type\":\"bar\"},{\"alignmentgroup\":\"True\",\"hovertemplate\":\"Country=%{x}<br>Effect=Once<br>Century=Late_19<br>Count=%{y}<extra></extra>\",\"legendgroup\":\"INDONESIA\",\"marker\":{\"color\":\"rgb(180, 200, 168)\",\"pattern\":{\"shape\":\"\"}},\"name\":\"INDONESIA\",\"offsetgroup\":\"INDONESIA\",\"orientation\":\"v\",\"showlegend\":false,\"textposition\":\"auto\",\"x\":[\"INDONESIA\",\"INDONESIA\",\"INDONESIA\"],\"xaxis\":\"x12\",\"y\":[1,1,1],\"yaxis\":\"y12\",\"type\":\"bar\"},{\"alignmentgroup\":\"True\",\"hovertemplate\":\"Country=%{x}<br>Effect=Once<br>Century=Early_20<br>Count=%{y}<extra></extra>\",\"legendgroup\":\"INDONESIA\",\"marker\":{\"color\":\"rgb(180, 200, 168)\",\"pattern\":{\"shape\":\"\"}},\"name\":\"INDONESIA\",\"offsetgroup\":\"INDONESIA\",\"orientation\":\"v\",\"showlegend\":false,\"textposition\":\"auto\",\"x\":[\"INDONESIA\"],\"xaxis\":\"x13\",\"y\":[1],\"yaxis\":\"y13\",\"type\":\"bar\"},{\"alignmentgroup\":\"True\",\"hovertemplate\":\"Country=%{x}<br>Effect=Once<br>Century=Late_20<br>Count=%{y}<extra></extra>\",\"legendgroup\":\"INDONESIA\",\"marker\":{\"color\":\"rgb(180, 200, 168)\",\"pattern\":{\"shape\":\"\"}},\"name\":\"INDONESIA\",\"offsetgroup\":\"INDONESIA\",\"orientation\":\"v\",\"showlegend\":false,\"textposition\":\"auto\",\"x\":[\"INDONESIA\",\"INDONESIA\"],\"xaxis\":\"x14\",\"y\":[1,1],\"yaxis\":\"y14\",\"type\":\"bar\"},{\"alignmentgroup\":\"True\",\"hovertemplate\":\"Country=%{x}<br>Effect=Once<br>Century=Early_21<br>Count=%{y}<extra></extra>\",\"legendgroup\":\"INDONESIA\",\"marker\":{\"color\":\"rgb(180, 200, 168)\",\"pattern\":{\"shape\":\"\"}},\"name\":\"INDONESIA\",\"offsetgroup\":\"INDONESIA\",\"orientation\":\"v\",\"showlegend\":false,\"textposition\":\"auto\",\"x\":[\"INDONESIA\",\"INDONESIA\"],\"xaxis\":\"x15\",\"y\":[1,1],\"yaxis\":\"y15\",\"type\":\"bar\"},{\"alignmentgroup\":\"True\",\"hovertemplate\":\"Country=%{x}<br>Effect=Several<br>Century=Late_20<br>Count=%{y}<extra></extra>\",\"legendgroup\":\"INDONESIA\",\"marker\":{\"color\":\"rgb(180, 200, 168)\",\"pattern\":{\"shape\":\"\"}},\"name\":\"INDONESIA\",\"offsetgroup\":\"INDONESIA\",\"orientation\":\"v\",\"showlegend\":false,\"textposition\":\"auto\",\"x\":[\"INDONESIA\",\"INDONESIA\"],\"xaxis\":\"x9\",\"y\":[1,1],\"yaxis\":\"y9\",\"type\":\"bar\"},{\"alignmentgroup\":\"True\",\"hovertemplate\":\"Country=%{x}<br>Effect=Several<br>Century=Early_21<br>Count=%{y}<extra></extra>\",\"legendgroup\":\"INDONESIA\",\"marker\":{\"color\":\"rgb(180, 200, 168)\",\"pattern\":{\"shape\":\"\"}},\"name\":\"INDONESIA\",\"offsetgroup\":\"INDONESIA\",\"orientation\":\"v\",\"showlegend\":false,\"textposition\":\"auto\",\"x\":[\"INDONESIA\",\"INDONESIA\"],\"xaxis\":\"x10\",\"y\":[1,1],\"yaxis\":\"y10\",\"type\":\"bar\"},{\"alignmentgroup\":\"True\",\"hovertemplate\":\"Country=%{x}<br>Effect=Dozens<br>Century=Late_19<br>Count=%{y}<extra></extra>\",\"legendgroup\":\"INDONESIA\",\"marker\":{\"color\":\"rgb(180, 200, 168)\",\"pattern\":{\"shape\":\"\"}},\"name\":\"INDONESIA\",\"offsetgroup\":\"INDONESIA\",\"orientation\":\"v\",\"showlegend\":false,\"textposition\":\"auto\",\"x\":[\"INDONESIA\"],\"xaxis\":\"x2\",\"y\":[1],\"yaxis\":\"y2\",\"type\":\"bar\"},{\"alignmentgroup\":\"True\",\"hovertemplate\":\"Country=%{x}<br>Effect=Dozens<br>Century=Early_21<br>Count=%{y}<extra></extra>\",\"legendgroup\":\"INDONESIA\",\"marker\":{\"color\":\"rgb(180, 200, 168)\",\"pattern\":{\"shape\":\"\"}},\"name\":\"INDONESIA\",\"offsetgroup\":\"INDONESIA\",\"orientation\":\"v\",\"showlegend\":false,\"textposition\":\"auto\",\"x\":[\"INDONESIA\"],\"xaxis\":\"x5\",\"y\":[1],\"yaxis\":\"y5\",\"type\":\"bar\"},{\"alignmentgroup\":\"True\",\"hovertemplate\":\"Country=%{x}<br>Effect=None<br>Century=Early_19<br>Count=%{y}<extra></extra>\",\"legendgroup\":\"CHILE\",\"marker\":{\"color\":\"rgb(246, 237, 189)\",\"pattern\":{\"shape\":\"\"}},\"name\":\"CHILE\",\"offsetgroup\":\"CHILE\",\"orientation\":\"v\",\"showlegend\":true,\"textposition\":\"auto\",\"x\":[\"CHILE\",\"CHILE\",\"CHILE\"],\"xaxis\":\"x16\",\"y\":[1,1,1],\"yaxis\":\"y16\",\"type\":\"bar\"},{\"alignmentgroup\":\"True\",\"hovertemplate\":\"Country=%{x}<br>Effect=None<br>Century=Late_19<br>Count=%{y}<extra></extra>\",\"legendgroup\":\"CHILE\",\"marker\":{\"color\":\"rgb(246, 237, 189)\",\"pattern\":{\"shape\":\"\"}},\"name\":\"CHILE\",\"offsetgroup\":\"CHILE\",\"orientation\":\"v\",\"showlegend\":false,\"textposition\":\"auto\",\"x\":[\"CHILE\",\"CHILE\",\"CHILE\",\"CHILE\"],\"xaxis\":\"x17\",\"y\":[1,1,1,1],\"yaxis\":\"y17\",\"type\":\"bar\"},{\"alignmentgroup\":\"True\",\"hovertemplate\":\"Country=%{x}<br>Effect=None<br>Century=Early_20<br>Count=%{y}<extra></extra>\",\"legendgroup\":\"CHILE\",\"marker\":{\"color\":\"rgb(246, 237, 189)\",\"pattern\":{\"shape\":\"\"}},\"name\":\"CHILE\",\"offsetgroup\":\"CHILE\",\"orientation\":\"v\",\"showlegend\":false,\"textposition\":\"auto\",\"x\":[\"CHILE\",\"CHILE\",\"CHILE\",\"CHILE\"],\"xaxis\":\"x18\",\"y\":[1,1,1,1],\"yaxis\":\"y18\",\"type\":\"bar\"},{\"alignmentgroup\":\"True\",\"hovertemplate\":\"Country=%{x}<br>Effect=None<br>Century=Late_20<br>Count=%{y}<extra></extra>\",\"legendgroup\":\"CHILE\",\"marker\":{\"color\":\"rgb(246, 237, 189)\",\"pattern\":{\"shape\":\"\"}},\"name\":\"CHILE\",\"offsetgroup\":\"CHILE\",\"orientation\":\"v\",\"showlegend\":false,\"textposition\":\"auto\",\"x\":[\"CHILE\",\"CHILE\",\"CHILE\",\"CHILE\",\"CHILE\",\"CHILE\",\"CHILE\",\"CHILE\",\"CHILE\",\"CHILE\",\"CHILE\"],\"xaxis\":\"x19\",\"y\":[1,1,1,1,1,1,1,1,1,1,1],\"yaxis\":\"y19\",\"type\":\"bar\"},{\"alignmentgroup\":\"True\",\"hovertemplate\":\"Country=%{x}<br>Effect=None<br>Century=Early_21<br>Count=%{y}<extra></extra>\",\"legendgroup\":\"CHILE\",\"marker\":{\"color\":\"rgb(246, 237, 189)\",\"pattern\":{\"shape\":\"\"}},\"name\":\"CHILE\",\"offsetgroup\":\"CHILE\",\"orientation\":\"v\",\"showlegend\":false,\"textposition\":\"auto\",\"x\":[\"CHILE\",\"CHILE\",\"CHILE\",\"CHILE\",\"CHILE\",\"CHILE\",\"CHILE\",\"CHILE\",\"CHILE\",\"CHILE\",\"CHILE\",\"CHILE\",\"CHILE\"],\"xaxis\":\"x20\",\"y\":[1,1,1,1,1,1,1,1,1,1,1,1,1],\"yaxis\":\"y20\",\"type\":\"bar\"},{\"alignmentgroup\":\"True\",\"hovertemplate\":\"Country=%{x}<br>Effect=Once<br>Century=Early_19<br>Count=%{y}<extra></extra>\",\"legendgroup\":\"CHILE\",\"marker\":{\"color\":\"rgb(246, 237, 189)\",\"pattern\":{\"shape\":\"\"}},\"name\":\"CHILE\",\"offsetgroup\":\"CHILE\",\"orientation\":\"v\",\"showlegend\":false,\"textposition\":\"auto\",\"x\":[\"CHILE\",\"CHILE\"],\"xaxis\":\"x11\",\"y\":[1,1],\"yaxis\":\"y11\",\"type\":\"bar\"},{\"alignmentgroup\":\"True\",\"hovertemplate\":\"Country=%{x}<br>Effect=Once<br>Century=Late_19<br>Count=%{y}<extra></extra>\",\"legendgroup\":\"CHILE\",\"marker\":{\"color\":\"rgb(246, 237, 189)\",\"pattern\":{\"shape\":\"\"}},\"name\":\"CHILE\",\"offsetgroup\":\"CHILE\",\"orientation\":\"v\",\"showlegend\":false,\"textposition\":\"auto\",\"x\":[\"CHILE\"],\"xaxis\":\"x12\",\"y\":[1],\"yaxis\":\"y12\",\"type\":\"bar\"},{\"alignmentgroup\":\"True\",\"hovertemplate\":\"Country=%{x}<br>Effect=Once<br>Century=Early_21<br>Count=%{y}<extra></extra>\",\"legendgroup\":\"CHILE\",\"marker\":{\"color\":\"rgb(246, 237, 189)\",\"pattern\":{\"shape\":\"\"}},\"name\":\"CHILE\",\"offsetgroup\":\"CHILE\",\"orientation\":\"v\",\"showlegend\":false,\"textposition\":\"auto\",\"x\":[\"CHILE\"],\"xaxis\":\"x15\",\"y\":[1],\"yaxis\":\"y15\",\"type\":\"bar\"},{\"alignmentgroup\":\"True\",\"hovertemplate\":\"Country=%{x}<br>Effect=Several<br>Century=Late_20<br>Count=%{y}<extra></extra>\",\"legendgroup\":\"CHILE\",\"marker\":{\"color\":\"rgb(246, 237, 189)\",\"pattern\":{\"shape\":\"\"}},\"name\":\"CHILE\",\"offsetgroup\":\"CHILE\",\"orientation\":\"v\",\"showlegend\":false,\"textposition\":\"auto\",\"x\":[\"CHILE\"],\"xaxis\":\"x9\",\"y\":[1],\"yaxis\":\"y9\",\"type\":\"bar\"},{\"alignmentgroup\":\"True\",\"hovertemplate\":\"Country=%{x}<br>Effect=Several<br>Century=Early_21<br>Count=%{y}<extra></extra>\",\"legendgroup\":\"CHILE\",\"marker\":{\"color\":\"rgb(246, 237, 189)\",\"pattern\":{\"shape\":\"\"}},\"name\":\"CHILE\",\"offsetgroup\":\"CHILE\",\"orientation\":\"v\",\"showlegend\":false,\"textposition\":\"auto\",\"x\":[\"CHILE\"],\"xaxis\":\"x10\",\"y\":[1],\"yaxis\":\"y10\",\"type\":\"bar\"},{\"alignmentgroup\":\"True\",\"hovertemplate\":\"Country=%{x}<br>Effect=Dozens<br>Century=Late_20<br>Count=%{y}<extra></extra>\",\"legendgroup\":\"CHILE\",\"marker\":{\"color\":\"rgb(246, 237, 189)\",\"pattern\":{\"shape\":\"\"}},\"name\":\"CHILE\",\"offsetgroup\":\"CHILE\",\"orientation\":\"v\",\"showlegend\":false,\"textposition\":\"auto\",\"x\":[\"CHILE\"],\"xaxis\":\"x4\",\"y\":[1],\"yaxis\":\"y4\",\"type\":\"bar\"},{\"alignmentgroup\":\"True\",\"hovertemplate\":\"Country=%{x}<br>Effect=None<br>Century=Early_19<br>Count=%{y}<extra></extra>\",\"legendgroup\":\"RUSSIA\",\"marker\":{\"color\":\"rgb(237, 187, 138)\",\"pattern\":{\"shape\":\"\"}},\"name\":\"RUSSIA\",\"offsetgroup\":\"RUSSIA\",\"orientation\":\"v\",\"showlegend\":true,\"textposition\":\"auto\",\"x\":[\"RUSSIA\"],\"xaxis\":\"x16\",\"y\":[1],\"yaxis\":\"y16\",\"type\":\"bar\"},{\"alignmentgroup\":\"True\",\"hovertemplate\":\"Country=%{x}<br>Effect=None<br>Century=Late_19<br>Count=%{y}<extra></extra>\",\"legendgroup\":\"RUSSIA\",\"marker\":{\"color\":\"rgb(237, 187, 138)\",\"pattern\":{\"shape\":\"\"}},\"name\":\"RUSSIA\",\"offsetgroup\":\"RUSSIA\",\"orientation\":\"v\",\"showlegend\":false,\"textposition\":\"auto\",\"x\":[\"RUSSIA\",\"RUSSIA\"],\"xaxis\":\"x17\",\"y\":[1,1],\"yaxis\":\"y17\",\"type\":\"bar\"},{\"alignmentgroup\":\"True\",\"hovertemplate\":\"Country=%{x}<br>Effect=None<br>Century=Early_20<br>Count=%{y}<extra></extra>\",\"legendgroup\":\"RUSSIA\",\"marker\":{\"color\":\"rgb(237, 187, 138)\",\"pattern\":{\"shape\":\"\"}},\"name\":\"RUSSIA\",\"offsetgroup\":\"RUSSIA\",\"orientation\":\"v\",\"showlegend\":false,\"textposition\":\"auto\",\"x\":[\"RUSSIA\",\"RUSSIA\",\"RUSSIA\",\"RUSSIA\",\"RUSSIA\",\"RUSSIA\"],\"xaxis\":\"x18\",\"y\":[1,1,1,1,1,1],\"yaxis\":\"y18\",\"type\":\"bar\"},{\"alignmentgroup\":\"True\",\"hovertemplate\":\"Country=%{x}<br>Effect=None<br>Century=Late_20<br>Count=%{y}<extra></extra>\",\"legendgroup\":\"RUSSIA\",\"marker\":{\"color\":\"rgb(237, 187, 138)\",\"pattern\":{\"shape\":\"\"}},\"name\":\"RUSSIA\",\"offsetgroup\":\"RUSSIA\",\"orientation\":\"v\",\"showlegend\":false,\"textposition\":\"auto\",\"x\":[\"RUSSIA\",\"RUSSIA\",\"RUSSIA\",\"RUSSIA\",\"RUSSIA\",\"RUSSIA\",\"RUSSIA\",\"RUSSIA\",\"RUSSIA\",\"RUSSIA\",\"RUSSIA\",\"RUSSIA\",\"RUSSIA\",\"RUSSIA\",\"RUSSIA\",\"RUSSIA\",\"RUSSIA\",\"RUSSIA\",\"RUSSIA\",\"RUSSIA\",\"RUSSIA\",\"RUSSIA\",\"RUSSIA\",\"RUSSIA\",\"RUSSIA\",\"RUSSIA\",\"RUSSIA\",\"RUSSIA\",\"RUSSIA\",\"RUSSIA\",\"RUSSIA\",\"RUSSIA\",\"RUSSIA\",\"RUSSIA\",\"RUSSIA\",\"RUSSIA\",\"RUSSIA\",\"RUSSIA\",\"RUSSIA\"],\"xaxis\":\"x19\",\"y\":[1,1,1,1,1,1,1,1,1,1,1,1,1,1,1,1,1,1,1,1,1,1,1,1,1,1,1,1,1,1,1,1,1,1,1,1,1,1,1],\"yaxis\":\"y19\",\"type\":\"bar\"},{\"alignmentgroup\":\"True\",\"hovertemplate\":\"Country=%{x}<br>Effect=None<br>Century=Early_21<br>Count=%{y}<extra></extra>\",\"legendgroup\":\"RUSSIA\",\"marker\":{\"color\":\"rgb(237, 187, 138)\",\"pattern\":{\"shape\":\"\"}},\"name\":\"RUSSIA\",\"offsetgroup\":\"RUSSIA\",\"orientation\":\"v\",\"showlegend\":false,\"textposition\":\"auto\",\"x\":[\"RUSSIA\",\"RUSSIA\",\"RUSSIA\",\"RUSSIA\"],\"xaxis\":\"x20\",\"y\":[1,1,1,1],\"yaxis\":\"y20\",\"type\":\"bar\"},{\"alignmentgroup\":\"True\",\"hovertemplate\":\"Country=%{x}<br>Effect=Once<br>Century=Early_19<br>Count=%{y}<extra></extra>\",\"legendgroup\":\"RUSSIA\",\"marker\":{\"color\":\"rgb(237, 187, 138)\",\"pattern\":{\"shape\":\"\"}},\"name\":\"RUSSIA\",\"offsetgroup\":\"RUSSIA\",\"orientation\":\"v\",\"showlegend\":false,\"textposition\":\"auto\",\"x\":[\"RUSSIA\"],\"xaxis\":\"x11\",\"y\":[1],\"yaxis\":\"y11\",\"type\":\"bar\"},{\"alignmentgroup\":\"True\",\"hovertemplate\":\"Country=%{x}<br>Effect=Once<br>Century=Early_20<br>Count=%{y}<extra></extra>\",\"legendgroup\":\"RUSSIA\",\"marker\":{\"color\":\"rgb(237, 187, 138)\",\"pattern\":{\"shape\":\"\"}},\"name\":\"RUSSIA\",\"offsetgroup\":\"RUSSIA\",\"orientation\":\"v\",\"showlegend\":false,\"textposition\":\"auto\",\"x\":[\"RUSSIA\",\"RUSSIA\",\"RUSSIA\"],\"xaxis\":\"x13\",\"y\":[1,1,1],\"yaxis\":\"y13\",\"type\":\"bar\"},{\"alignmentgroup\":\"True\",\"hovertemplate\":\"Country=%{x}<br>Effect=Once<br>Century=Early_21<br>Count=%{y}<extra></extra>\",\"legendgroup\":\"RUSSIA\",\"marker\":{\"color\":\"rgb(237, 187, 138)\",\"pattern\":{\"shape\":\"\"}},\"name\":\"RUSSIA\",\"offsetgroup\":\"RUSSIA\",\"orientation\":\"v\",\"showlegend\":false,\"textposition\":\"auto\",\"x\":[\"RUSSIA\"],\"xaxis\":\"x15\",\"y\":[1],\"yaxis\":\"y15\",\"type\":\"bar\"},{\"alignmentgroup\":\"True\",\"hovertemplate\":\"Country=%{x}<br>Effect=Several<br>Century=Late_20<br>Count=%{y}<extra></extra>\",\"legendgroup\":\"RUSSIA\",\"marker\":{\"color\":\"rgb(237, 187, 138)\",\"pattern\":{\"shape\":\"\"}},\"name\":\"RUSSIA\",\"offsetgroup\":\"RUSSIA\",\"orientation\":\"v\",\"showlegend\":false,\"textposition\":\"auto\",\"x\":[\"RUSSIA\",\"RUSSIA\",\"RUSSIA\",\"RUSSIA\",\"RUSSIA\"],\"xaxis\":\"x9\",\"y\":[1,1,1,1,1],\"yaxis\":\"y9\",\"type\":\"bar\"},{\"alignmentgroup\":\"True\",\"hovertemplate\":\"Country=%{x}<br>Effect=Several<br>Century=Early_21<br>Count=%{y}<extra></extra>\",\"legendgroup\":\"RUSSIA\",\"marker\":{\"color\":\"rgb(237, 187, 138)\",\"pattern\":{\"shape\":\"\"}},\"name\":\"RUSSIA\",\"offsetgroup\":\"RUSSIA\",\"orientation\":\"v\",\"showlegend\":false,\"textposition\":\"auto\",\"x\":[\"RUSSIA\"],\"xaxis\":\"x10\",\"y\":[1],\"yaxis\":\"y10\",\"type\":\"bar\"}],                        {\"template\":{\"data\":{\"pie\":[{\"automargin\":true,\"type\":\"pie\"}]},\"layout\":{\"xaxis\":{\"showgrid\":true,\"title\":{\"standoff\":15}},\"yaxis\":{\"showgrid\":true,\"title\":{\"standoff\":15}}}},\"xaxis\":{\"anchor\":\"y\",\"domain\":[0.0,0.18000000000000002],\"title\":{\"text\":\"Country\"},\"categoryorder\":\"array\",\"categoryarray\":[\"JAPAN\",\"USA\",\"INDONESIA\",\"CHILE\",\"RUSSIA\"],\"tickangle\":45},\"yaxis\":{\"anchor\":\"x\",\"domain\":[0.0,0.2275],\"title\":{\"text\":\"Count\"},\"type\":\"log\"},\"xaxis2\":{\"anchor\":\"y2\",\"domain\":[0.2,0.38],\"matches\":\"x\",\"title\":{\"text\":\"Country\"},\"categoryorder\":\"array\",\"categoryarray\":[\"JAPAN\",\"USA\",\"INDONESIA\",\"CHILE\",\"RUSSIA\"],\"tickangle\":45},\"yaxis2\":{\"anchor\":\"x2\",\"domain\":[0.0,0.2275],\"matches\":\"y\",\"showticklabels\":false,\"type\":\"log\"},\"xaxis3\":{\"anchor\":\"y3\",\"domain\":[0.4,0.5800000000000001],\"matches\":\"x\",\"title\":{\"text\":\"Country\"},\"categoryorder\":\"array\",\"categoryarray\":[\"JAPAN\",\"USA\",\"INDONESIA\",\"CHILE\",\"RUSSIA\"],\"tickangle\":45},\"yaxis3\":{\"anchor\":\"x3\",\"domain\":[0.0,0.2275],\"matches\":\"y\",\"showticklabels\":false,\"type\":\"log\"},\"xaxis4\":{\"anchor\":\"y4\",\"domain\":[0.6000000000000001,0.7800000000000001],\"matches\":\"x\",\"title\":{\"text\":\"Country\"},\"categoryorder\":\"array\",\"categoryarray\":[\"JAPAN\",\"USA\",\"INDONESIA\",\"CHILE\",\"RUSSIA\"],\"tickangle\":45},\"yaxis4\":{\"anchor\":\"x4\",\"domain\":[0.0,0.2275],\"matches\":\"y\",\"showticklabels\":false,\"type\":\"log\"},\"xaxis5\":{\"anchor\":\"y5\",\"domain\":[0.8,0.9800000000000001],\"matches\":\"x\",\"title\":{\"text\":\"Country\"},\"categoryorder\":\"array\",\"categoryarray\":[\"JAPAN\",\"USA\",\"INDONESIA\",\"CHILE\",\"RUSSIA\"],\"tickangle\":45},\"yaxis5\":{\"anchor\":\"x5\",\"domain\":[0.0,0.2275],\"matches\":\"y\",\"showticklabels\":false,\"type\":\"log\"},\"xaxis6\":{\"anchor\":\"y6\",\"domain\":[0.0,0.18000000000000002],\"matches\":\"x\",\"showticklabels\":false,\"tickangle\":45},\"yaxis6\":{\"anchor\":\"x6\",\"domain\":[0.2575,0.485],\"matches\":\"y\",\"title\":{\"text\":\"Count\"},\"type\":\"log\"},\"xaxis7\":{\"anchor\":\"y7\",\"domain\":[0.2,0.38],\"matches\":\"x\",\"showticklabels\":false,\"tickangle\":45},\"yaxis7\":{\"anchor\":\"x7\",\"domain\":[0.2575,0.485],\"matches\":\"y\",\"showticklabels\":false,\"type\":\"log\"},\"xaxis8\":{\"anchor\":\"y8\",\"domain\":[0.4,0.5800000000000001],\"matches\":\"x\",\"showticklabels\":false,\"tickangle\":45},\"yaxis8\":{\"anchor\":\"x8\",\"domain\":[0.2575,0.485],\"matches\":\"y\",\"showticklabels\":false,\"type\":\"log\"},\"xaxis9\":{\"anchor\":\"y9\",\"domain\":[0.6000000000000001,0.7800000000000001],\"matches\":\"x\",\"showticklabels\":false,\"tickangle\":45},\"yaxis9\":{\"anchor\":\"x9\",\"domain\":[0.2575,0.485],\"matches\":\"y\",\"showticklabels\":false,\"type\":\"log\"},\"xaxis10\":{\"anchor\":\"y10\",\"domain\":[0.8,0.9800000000000001],\"matches\":\"x\",\"showticklabels\":false,\"tickangle\":45},\"yaxis10\":{\"anchor\":\"x10\",\"domain\":[0.2575,0.485],\"matches\":\"y\",\"showticklabels\":false,\"type\":\"log\"},\"xaxis11\":{\"anchor\":\"y11\",\"domain\":[0.0,0.18000000000000002],\"matches\":\"x\",\"showticklabels\":false,\"tickangle\":45},\"yaxis11\":{\"anchor\":\"x11\",\"domain\":[0.515,0.7425],\"matches\":\"y\",\"title\":{\"text\":\"Count\"},\"type\":\"log\"},\"xaxis12\":{\"anchor\":\"y12\",\"domain\":[0.2,0.38],\"matches\":\"x\",\"showticklabels\":false,\"tickangle\":45},\"yaxis12\":{\"anchor\":\"x12\",\"domain\":[0.515,0.7425],\"matches\":\"y\",\"showticklabels\":false,\"type\":\"log\"},\"xaxis13\":{\"anchor\":\"y13\",\"domain\":[0.4,0.5800000000000001],\"matches\":\"x\",\"showticklabels\":false,\"tickangle\":45},\"yaxis13\":{\"anchor\":\"x13\",\"domain\":[0.515,0.7425],\"matches\":\"y\",\"showticklabels\":false,\"type\":\"log\"},\"xaxis14\":{\"anchor\":\"y14\",\"domain\":[0.6000000000000001,0.7800000000000001],\"matches\":\"x\",\"showticklabels\":false,\"tickangle\":45},\"yaxis14\":{\"anchor\":\"x14\",\"domain\":[0.515,0.7425],\"matches\":\"y\",\"showticklabels\":false,\"type\":\"log\"},\"xaxis15\":{\"anchor\":\"y15\",\"domain\":[0.8,0.9800000000000001],\"matches\":\"x\",\"showticklabels\":false,\"tickangle\":45},\"yaxis15\":{\"anchor\":\"x15\",\"domain\":[0.515,0.7425],\"matches\":\"y\",\"showticklabels\":false,\"type\":\"log\"},\"xaxis16\":{\"anchor\":\"y16\",\"domain\":[0.0,0.18000000000000002],\"matches\":\"x\",\"showticklabels\":false,\"tickangle\":45},\"yaxis16\":{\"anchor\":\"x16\",\"domain\":[0.7725,1.0],\"matches\":\"y\",\"title\":{\"text\":\"Count\"},\"type\":\"log\"},\"xaxis17\":{\"anchor\":\"y17\",\"domain\":[0.2,0.38],\"matches\":\"x\",\"showticklabels\":false,\"tickangle\":45},\"yaxis17\":{\"anchor\":\"x17\",\"domain\":[0.7725,1.0],\"matches\":\"y\",\"showticklabels\":false,\"type\":\"log\"},\"xaxis18\":{\"anchor\":\"y18\",\"domain\":[0.4,0.5800000000000001],\"matches\":\"x\",\"showticklabels\":false,\"tickangle\":45},\"yaxis18\":{\"anchor\":\"x18\",\"domain\":[0.7725,1.0],\"matches\":\"y\",\"showticklabels\":false,\"type\":\"log\"},\"xaxis19\":{\"anchor\":\"y19\",\"domain\":[0.6000000000000001,0.7800000000000001],\"matches\":\"x\",\"showticklabels\":false,\"tickangle\":45},\"yaxis19\":{\"anchor\":\"x19\",\"domain\":[0.7725,1.0],\"matches\":\"y\",\"showticklabels\":false,\"type\":\"log\"},\"xaxis20\":{\"anchor\":\"y20\",\"domain\":[0.8,0.9800000000000001],\"matches\":\"x\",\"showticklabels\":false,\"tickangle\":45},\"yaxis20\":{\"anchor\":\"x20\",\"domain\":[0.7725,1.0],\"matches\":\"y\",\"showticklabels\":false,\"type\":\"log\"},\"annotations\":[{\"font\":{},\"showarrow\":false,\"text\":\"Century=Early_19\",\"x\":0.09000000000000001,\"xanchor\":\"center\",\"xref\":\"paper\",\"y\":1.0,\"yanchor\":\"bottom\",\"yref\":\"paper\"},{\"font\":{},\"showarrow\":false,\"text\":\"Century=Late_19\",\"x\":0.29000000000000004,\"xanchor\":\"center\",\"xref\":\"paper\",\"y\":1.0,\"yanchor\":\"bottom\",\"yref\":\"paper\"},{\"font\":{},\"showarrow\":false,\"text\":\"Century=Early_20\",\"x\":0.49000000000000005,\"xanchor\":\"center\",\"xref\":\"paper\",\"y\":1.0,\"yanchor\":\"bottom\",\"yref\":\"paper\"},{\"font\":{},\"showarrow\":false,\"text\":\"Century=Late_20\",\"x\":0.6900000000000002,\"xanchor\":\"center\",\"xref\":\"paper\",\"y\":1.0,\"yanchor\":\"bottom\",\"yref\":\"paper\"},{\"font\":{},\"showarrow\":false,\"text\":\"Century=Early_21\",\"x\":0.8900000000000001,\"xanchor\":\"center\",\"xref\":\"paper\",\"y\":1.0,\"yanchor\":\"bottom\",\"yref\":\"paper\"},{\"font\":{},\"showarrow\":false,\"text\":\"Effect=Dozens\",\"textangle\":90,\"x\":0.9800000000000001,\"xanchor\":\"left\",\"xref\":\"paper\",\"y\":0.11375,\"yanchor\":\"middle\",\"yref\":\"paper\"},{\"font\":{},\"showarrow\":false,\"text\":\"Effect=Several\",\"textangle\":90,\"x\":0.9800000000000001,\"xanchor\":\"left\",\"xref\":\"paper\",\"y\":0.37124999999999997,\"yanchor\":\"middle\",\"yref\":\"paper\"},{\"font\":{},\"showarrow\":false,\"text\":\"Effect=Once\",\"textangle\":90,\"x\":0.9800000000000001,\"xanchor\":\"left\",\"xref\":\"paper\",\"y\":0.62875,\"yanchor\":\"middle\",\"yref\":\"paper\"},{\"font\":{},\"showarrow\":false,\"text\":\"Effect=None\",\"textangle\":90,\"x\":0.9800000000000001,\"xanchor\":\"left\",\"xref\":\"paper\",\"y\":0.88625,\"yanchor\":\"middle\",\"yref\":\"paper\"}],\"legend\":{\"title\":{\"text\":\"Country\"},\"tracegroupgap\":0},\"title\":{\"text\":\"<b>Fig.7 Does the Tsunami Effect Inland Properties? <br> Deposit Study for Top5 Countries in Different Century\"},\"barmode\":\"relative\",\"height\":600,\"width\":1000},                        {\"responsive\": true}                    ).then(function(){\n",
       "                            \n",
       "var gd = document.getElementById('35570bb1-accb-4397-b0f5-161759638fb8');\n",
       "var x = new MutationObserver(function (mutations, observer) {{\n",
       "        var display = window.getComputedStyle(gd).display;\n",
       "        if (!display || display === 'none') {{\n",
       "            console.log([gd, 'removed!']);\n",
       "            Plotly.purge(gd);\n",
       "            observer.disconnect();\n",
       "        }}\n",
       "}});\n",
       "\n",
       "// Listen for the removal of the full notebook cells\n",
       "var notebookContainer = gd.closest('#notebook-container');\n",
       "if (notebookContainer) {{\n",
       "    x.observe(notebookContainer, {childList: true});\n",
       "}}\n",
       "\n",
       "// Listen for the clearing of the current output cell\n",
       "var outputEl = gd.closest('.output');\n",
       "if (outputEl) {{\n",
       "    x.observe(outputEl, {childList: true});\n",
       "}}\n",
       "\n",
       "                        })                };                });            </script>        </div>"
      ]
     },
     "metadata": {},
     "output_type": "display_data"
    }
   ],
   "source": [
    "fig = px.bar(\n",
    "             data[(data['Validity']==4)&(~data['Country_id'].isnull())], \n",
    "             x=\"Country\",\n",
    "             y=\"Count\", \n",
    "             color=\"Country\",\n",
    "             facet_col= 'Century',\n",
    "             facet_row='Effect',\n",
    "             template='gridon',\n",
    "             log_y=True,\n",
    "             color_discrete_sequence=px.colors.carto.Geyser,\n",
    "             width=1000,\n",
    "             height=600,\n",
    "             title='<b>Fig.7 Does the Tsunami Effect Inland Properties? <br> Deposit Study for Top5 Countries in Different Century'\n",
    "            )\n",
    "\n",
    "fig.update_xaxes(tickangle=45)\n",
    "\n",
    "fig.show()"
   ]
  },
  {
   "cell_type": "markdown",
   "id": "cdcddf9c",
   "metadata": {
    "papermill": {
     "duration": 0.016846,
     "end_time": "2023-04-17T15:44:32.891659",
     "exception": false,
     "start_time": "2023-04-17T15:44:32.874813",
     "status": "completed"
    },
    "tags": []
   },
   "source": [
    "**According to `Fig.7`:**\n",
    "1. **The majority of tsunamis do not have any impact on inland areas, as they do not create deposit areas.**\n",
    "2. **Both Indonesia and USA occurred tsunamis that generated dozens of deposits, which were very dangerous tsunamis.**\n",
    "3. **The deposits can be used to assess coastal risk management for future generations.**"
   ]
  },
  {
   "cell_type": "markdown",
   "id": "55bce616",
   "metadata": {
    "papermill": {
     "duration": 0.016687,
     "end_time": "2023-04-17T15:44:32.925655",
     "exception": false,
     "start_time": "2023-04-17T15:44:32.908968",
     "status": "completed"
    },
    "tags": []
   },
   "source": [
    "# ViolinPlot: Combine Tsunami Kind and its Damage\n",
    "Through data visualization, some of our conjectures..."
   ]
  },
  {
   "cell_type": "code",
   "execution_count": 28,
   "id": "8e14f96e",
   "metadata": {
    "execution": {
     "iopub.execute_input": "2023-04-17T15:44:32.961877Z",
     "iopub.status.busy": "2023-04-17T15:44:32.961420Z",
     "iopub.status.idle": "2023-04-17T15:44:33.046729Z",
     "shell.execute_reply": "2023-04-17T15:44:33.045453Z"
    },
    "papermill": {
     "duration": 0.106673,
     "end_time": "2023-04-17T15:44:33.049708",
     "exception": false,
     "start_time": "2023-04-17T15:44:32.943035",
     "status": "completed"
    },
    "tags": []
   },
   "outputs": [
    {
     "data": {
      "text/html": [
       "<div>                            <div id=\"09ba4812-68d3-4b84-8f69-cbbebd8666b4\" class=\"plotly-graph-div\" style=\"height:400px; width:1000px;\"></div>            <script type=\"text/javascript\">                require([\"plotly\"], function(Plotly) {                    window.PLOTLYENV=window.PLOTLYENV || {};                                    if (document.getElementById(\"09ba4812-68d3-4b84-8f69-cbbebd8666b4\")) {                    Plotly.newPlot(                        \"09ba4812-68d3-4b84-8f69-cbbebd8666b4\",                        [{\"marker\":{\"color\":\"teal\",\"opacity\":0.8,\"size\":4},\"name\":\"Kind\",\"x\":[\"Maybe\",\"Maybe\",\"Maybe\",\"Maybe\",\"Maybe\",\"Maybe\",\"Maybe\",\"True\",\"Maybe\",\"True\",\"Maybe\",\"True\",\"Maybe\",\"Maybe\",\"Maybe\",\"True\",\"Maybe\",\"Maybe\",\"Maybe\",\"Maybe\",\"Maybe\",\"True\",\"Maybe\",\"Maybe\",\"Maybe\",\"Maybe\",\"Maybe\",\"Fake\",\"True\",\"True\",\"Maybe\",\"True\",\"Maybe\",\"Fake\",\"Fake\",\"Fake\",\"Fake\",\"Maybe\",\"Maybe\",\"Maybe\",\"True\",\"Maybe\",\"Maybe\",\"Fake\",\"Maybe\",\"True\",\"Maybe\",\"Maybe\",\"Fake\",\"Maybe\",\"Fake\",\"Maybe\",\"Fake\",\"Maybe\",\"Maybe\",\"Maybe\",\"True\",\"Maybe\",\"Maybe\",\"Maybe\",\"Maybe\",\"Maybe\",\"True\",\"Maybe\",\"Maybe\",\"Maybe\",\"Maybe\",\"Fake\",\"True\",\"Maybe\",\"Maybe\",\"True\",\"Maybe\",\"Maybe\",\"True\",\"Maybe\",\"Maybe\",\"Maybe\",\"Fake\",\"Maybe\",\"Maybe\",\"Maybe\",\"Maybe\",\"True\",\"Maybe\",\"Fake\",\"Maybe\",\"Maybe\",\"Fake\",\"True\",\"Fake\",\"Maybe\",\"Maybe\",\"Maybe\",\"Maybe\",\"Maybe\",\"Fake\",\"Maybe\",\"Maybe\",\"Maybe\",\"Maybe\",\"Fake\",\"Maybe\",\"Maybe\",\"Fake\",\"Maybe\",\"Fake\",\"Fake\",\"Fake\",\"True\",\"Maybe\",\"Maybe\",\"Fake\",\"Fake\",\"Maybe\",\"Fake\",\"Maybe\",\"Fake\",\"Fake\",\"Maybe\",\"Maybe\",\"Maybe\",\"Maybe\",\"Maybe\",\"Maybe\",\"Maybe\",\"Fake\",\"Maybe\",\"True\",\"True\",\"True\",\"Maybe\",\"True\",\"Maybe\",\"True\",\"Fake\",\"Maybe\",\"Maybe\",\"Maybe\",\"Maybe\",\"Fake\",\"Maybe\",\"Maybe\",\"Maybe\",\"Fake\",\"Maybe\",\"Maybe\",\"Maybe\",\"Maybe\",\"True\",\"Maybe\",\"Maybe\",\"Maybe\",\"Maybe\",\"Maybe\",\"Maybe\",\"Maybe\",\"Fake\",\"Maybe\",\"Maybe\",\"Maybe\",\"Fake\",\"Maybe\",\"Fake\",\"Fake\",\"True\",\"Maybe\",\"Maybe\",\"Maybe\",\"True\",\"Maybe\",\"Maybe\",\"True\",\"Maybe\",\"True\",\"Maybe\",\"True\",\"Maybe\",\"Maybe\",\"Maybe\",\"Maybe\",\"Maybe\",\"Fake\",\"Maybe\",\"Fake\",\"Maybe\",\"Maybe\",\"Maybe\",\"Maybe\",\"Maybe\",\"Maybe\",\"Fake\",\"Maybe\",\"True\",\"True\",\"True\",\"Maybe\",\"Maybe\",\"Maybe\",\"Maybe\",\"Maybe\",\"Maybe\",\"Maybe\",\"Maybe\",\"Maybe\",\"Maybe\",\"Maybe\",\"Maybe\",\"Maybe\",\"Maybe\",\"Maybe\",\"Maybe\",\"Maybe\",\"True\",\"Maybe\",\"Maybe\",\"Maybe\",\"Maybe\",\"Maybe\",\"Maybe\",\"Maybe\",\"Maybe\",\"Fake\",\"Fake\",\"Maybe\",\"True\",\"True\",\"Maybe\",\"Maybe\",\"Maybe\",\"Maybe\",\"Maybe\",\"Maybe\",\"Maybe\",\"Fake\",\"Maybe\",\"Maybe\",\"Maybe\",\"Maybe\",\"Maybe\",\"Maybe\",\"Maybe\",\"Maybe\",\"Maybe\",\"Maybe\",\"Maybe\",\"Maybe\",\"Maybe\",\"Maybe\",\"Maybe\",\"Maybe\",\"Fake\",\"Maybe\",\"Maybe\",\"Fake\",\"Maybe\",\"Fake\",\"Maybe\",\"True\",\"Maybe\",\"Maybe\",\"Maybe\",\"Maybe\",\"Maybe\",\"Maybe\",\"True\",\"Maybe\",\"Maybe\",\"Maybe\",\"Maybe\",\"Maybe\",\"Maybe\",\"True\",\"Maybe\",\"Maybe\",\"Maybe\",\"Maybe\",\"Maybe\",\"Fake\",\"True\",\"Maybe\",\"Maybe\",\"Maybe\",\"Maybe\",\"Maybe\",\"Maybe\",\"Maybe\",\"Fake\",\"Fake\",\"Fake\",\"Maybe\",\"True\",\"True\",\"Maybe\",\"Maybe\",\"True\",\"Maybe\",\"Maybe\",\"Maybe\",\"Maybe\",\"Maybe\",\"Maybe\",\"Maybe\",\"Maybe\",\"Maybe\",\"Maybe\",\"True\",\"True\",\"Maybe\",\"Fake\",\"Maybe\",\"Maybe\",\"True\",\"Maybe\",\"Maybe\",\"Maybe\",\"True\",\"Maybe\",\"Maybe\",\"True\",\"Maybe\",\"Maybe\",\"Maybe\",\"Fake\",\"True\",\"True\",\"Maybe\",\"True\",\"Fake\",\"Maybe\",\"Maybe\",\"Maybe\",\"Maybe\",\"Maybe\",\"Maybe\",\"Fake\",\"Maybe\",\"Maybe\",\"Maybe\",\"True\",\"Maybe\",\"True\",\"Maybe\",\"Maybe\",\"Maybe\",\"Maybe\",\"True\",\"Fake\",\"Maybe\",\"Maybe\",\"Fake\",\"Maybe\",\"Maybe\",\"Maybe\",\"Maybe\",\"Maybe\",\"Maybe\",\"True\",\"Maybe\",\"Maybe\",\"Maybe\",\"Maybe\",\"True\",\"Fake\",\"True\",\"Fake\",\"Maybe\",\"True\",\"Fake\",\"Fake\",\"Maybe\",\"Maybe\",\"Maybe\",\"True\",\"True\",\"Maybe\",\"Maybe\",\"Maybe\",\"Maybe\",\"Fake\",\"True\",\"Maybe\",\"Maybe\",\"Maybe\",\"Maybe\",\"Maybe\",\"Maybe\",\"Maybe\",\"Maybe\",\"Fake\",\"Maybe\",\"Maybe\",\"Maybe\",\"Maybe\",\"Maybe\",\"Maybe\",\"Maybe\",\"Fake\",\"Maybe\",\"Fake\",\"Maybe\",\"True\",\"Maybe\",\"Maybe\",\"Maybe\",\"Maybe\",\"Maybe\",\"Maybe\",\"Maybe\",\"Maybe\",\"Maybe\",\"Maybe\",\"Maybe\",\"Maybe\",\"Maybe\",\"Maybe\",\"Maybe\",\"Fake\",\"Maybe\",\"Maybe\",\"Fake\",\"Maybe\",\"True\",\"Maybe\",\"Maybe\",\"True\",\"Maybe\",\"Maybe\",\"True\",\"Maybe\",\"True\",\"Maybe\",\"True\",\"Fake\",\"Fake\",\"Fake\",\"Maybe\",\"Maybe\",\"Maybe\",\"Maybe\",\"Fake\",\"Fake\",\"Maybe\",\"True\",\"Maybe\",\"True\",\"Maybe\",\"Maybe\",\"Maybe\",\"Maybe\",\"Maybe\",\"Maybe\",\"True\",\"Maybe\",\"Maybe\",\"Maybe\",\"Maybe\",\"Maybe\",\"Maybe\",\"Maybe\",\"Maybe\",\"Maybe\",\"Maybe\",\"Maybe\",\"Maybe\",\"Maybe\",\"Maybe\",\"Maybe\",\"Fake\",\"Maybe\",\"Maybe\",\"Maybe\",\"Maybe\",\"Maybe\",\"Maybe\",\"Fake\",\"Maybe\",\"Maybe\",\"Maybe\",\"Maybe\",\"Maybe\",\"Maybe\",\"Maybe\",\"Maybe\",\"Maybe\",\"Maybe\",\"Maybe\",\"Maybe\",\"Maybe\",\"Fake\",\"Maybe\",\"True\",\"Maybe\",\"Maybe\",\"Maybe\",\"Maybe\",\"Maybe\",\"Maybe\",\"Maybe\",\"Maybe\",\"Maybe\",\"Fake\",\"Maybe\",\"Maybe\",\"Maybe\",\"Fake\",\"Fake\",\"Maybe\",\"True\",\"Fake\",\"Maybe\",\"Maybe\",\"True\",\"Fake\",\"Maybe\",\"Maybe\",\"True\",\"Maybe\",\"Fake\",\"Maybe\",\"Fake\",\"Maybe\",\"Maybe\",\"Maybe\",\"Maybe\",\"Maybe\",\"Maybe\",\"Fake\",\"Maybe\",\"Maybe\",\"True\",\"Maybe\",\"Maybe\",\"Fake\",\"Maybe\",\"Maybe\",\"Maybe\",\"Maybe\",\"Fake\",\"Fake\",\"Maybe\",\"Maybe\",\"Maybe\",\"True\",\"Maybe\",\"Maybe\",\"Maybe\",\"Maybe\",\"Maybe\",\"Maybe\",\"Maybe\",\"Maybe\",\"Maybe\",\"Maybe\",\"Fake\",\"Maybe\",\"Maybe\",\"Maybe\",\"Maybe\",\"Maybe\",\"Maybe\",\"Maybe\",\"Maybe\",\"Maybe\",\"Maybe\",\"Maybe\",\"Maybe\",\"Maybe\",\"Maybe\",\"Maybe\",\"Maybe\",\"Maybe\",\"Maybe\",\"Maybe\",\"Maybe\",\"Maybe\",\"Maybe\",\"Maybe\",\"Maybe\",\"Fake\",\"Maybe\",\"Maybe\",\"Maybe\",\"Maybe\",\"Maybe\",\"True\",\"Maybe\",\"Maybe\",\"Maybe\",\"Maybe\",\"Maybe\",\"Maybe\",\"Maybe\",\"Maybe\",\"Maybe\",\"Maybe\",\"Maybe\",\"Maybe\",\"Maybe\",\"Maybe\",\"Maybe\",\"Maybe\",\"Maybe\",\"Maybe\",\"Maybe\",\"Maybe\",\"Maybe\",\"Maybe\",\"True\",\"Maybe\",\"Maybe\",\"Fake\",\"Fake\",\"Maybe\",\"Maybe\",\"Maybe\",\"Maybe\",\"Maybe\",\"True\",\"True\",\"Maybe\",\"Maybe\",\"Maybe\",\"Fake\",\"Maybe\",\"Maybe\",\"True\",\"Maybe\",\"Fake\",\"Maybe\",\"Maybe\",\"Fake\",\"Maybe\",\"Maybe\",\"Maybe\",\"Maybe\",\"Maybe\",\"Maybe\",\"Maybe\",\"Maybe\",\"Fake\",\"Maybe\",\"Maybe\",\"Fake\",\"Maybe\",\"Fake\",\"True\",\"True\",\"Maybe\",\"Maybe\",\"Fake\",\"Maybe\",\"Maybe\",\"Maybe\",\"Maybe\",\"True\",\"Maybe\",\"True\",\"Maybe\",\"True\",\"Maybe\",\"Fake\",\"Maybe\",\"True\",\"Maybe\",\"Maybe\",\"Maybe\",\"Maybe\",\"True\",\"Fake\",\"Fake\",\"Maybe\",\"Maybe\",\"Maybe\",\"Maybe\",\"Maybe\",\"Maybe\",\"Maybe\",\"Maybe\",\"Maybe\",\"Maybe\",\"Maybe\",\"Maybe\",\"Fake\",\"Maybe\",\"Maybe\",\"True\",\"Maybe\",\"True\",\"Maybe\",\"Maybe\",\"Maybe\",\"Maybe\",\"True\",\"Maybe\",\"True\",\"Maybe\",\"Maybe\",\"True\",\"True\",\"Maybe\",\"Fake\",\"Maybe\",\"Maybe\",\"True\",\"True\",\"Maybe\",\"True\",\"True\",\"Maybe\",\"Maybe\",\"Maybe\",\"Maybe\",\"Fake\",\"True\",\"Maybe\",\"Maybe\",\"True\",\"Maybe\",\"True\",\"Maybe\",\"True\",\"Maybe\",\"Fake\",\"Fake\",\"Maybe\",\"True\",\"Maybe\",\"True\",\"Maybe\",\"Maybe\",\"Maybe\",\"Fake\",\"True\",\"True\",\"Maybe\",\"Maybe\",\"Maybe\",\"Maybe\",\"Fake\",\"Maybe\",\"True\",\"Maybe\",\"True\",\"Maybe\",\"Maybe\",\"Maybe\",\"Maybe\",\"Maybe\",\"Maybe\",\"True\",\"Maybe\",\"Maybe\",\"Maybe\",\"Maybe\",\"Maybe\",\"Maybe\",\"Maybe\",\"Maybe\",\"True\",\"True\",\"True\",\"Maybe\",\"Maybe\",\"True\",\"True\",\"Maybe\",\"Maybe\",\"Maybe\",\"True\",\"True\",\"Maybe\",\"Maybe\",\"Maybe\",\"Maybe\",\"Maybe\",\"True\",\"True\",\"True\",\"True\",\"True\",\"True\",\"Maybe\",\"Maybe\",\"Maybe\",\"Maybe\",\"Maybe\",\"Fake\",\"True\",\"True\",\"Maybe\",\"Maybe\",\"Maybe\",\"Maybe\",\"Maybe\",\"Maybe\",\"Maybe\",\"True\",\"Maybe\",\"Maybe\",\"Maybe\",\"Maybe\",\"Maybe\",\"Maybe\",\"Maybe\",\"Maybe\",\"Fake\",\"Fake\",\"Maybe\",\"Maybe\",\"True\",\"Fake\",\"Maybe\",\"Maybe\",\"Maybe\",\"Fake\",\"True\",\"Maybe\",\"Maybe\",\"Maybe\",\"Maybe\",\"Maybe\",\"Maybe\",\"Fake\",\"Fake\",\"Maybe\",\"Maybe\",\"Maybe\",\"Maybe\",\"Maybe\",\"Fake\",\"True\",\"Maybe\",\"Maybe\",\"True\",\"True\",\"Maybe\",\"Maybe\",\"Maybe\",\"Maybe\",\"Maybe\",\"Maybe\",\"Maybe\",\"True\",\"True\",\"True\",\"Maybe\",\"True\",\"True\",\"Maybe\",\"Maybe\",\"Maybe\",\"Maybe\",\"Maybe\",\"True\",\"Maybe\",\"Fake\",\"Maybe\",\"Maybe\",\"Maybe\",\"Maybe\",\"True\",\"True\",\"Maybe\",\"Maybe\",\"Maybe\",\"Maybe\",\"Maybe\",\"Maybe\",\"Maybe\",\"Maybe\",\"Maybe\",\"True\",\"True\",\"Maybe\",\"Maybe\",\"Maybe\",\"Fake\",\"Fake\",\"Maybe\",\"Maybe\",\"True\",\"Maybe\",\"True\",\"Maybe\",\"True\",\"True\",\"Maybe\",\"Fake\",\"Maybe\",\"Maybe\",\"True\",\"Fake\",\"Fake\",\"True\",\"Maybe\",\"Fake\",\"Maybe\",\"Maybe\",\"Fake\",\"Maybe\",\"Maybe\",\"True\",\"Maybe\",\"Maybe\",\"Maybe\",\"True\",\"Maybe\",\"Maybe\",\"Maybe\",\"Maybe\",\"Maybe\",\"Fake\",\"Maybe\",\"True\",\"Maybe\",\"Maybe\",\"Maybe\",\"Fake\",\"Maybe\",\"Maybe\",\"Maybe\",\"Maybe\",\"True\",\"Maybe\",\"True\",\"Maybe\",\"Maybe\",\"Maybe\",\"Fake\",\"True\",\"Maybe\",\"Maybe\",\"True\",\"Maybe\",\"Maybe\",\"Maybe\",\"Maybe\",\"Maybe\",\"Maybe\",\"Maybe\",\"Maybe\",\"True\",\"Maybe\",\"Maybe\",\"Maybe\",\"Maybe\",\"True\",\"True\",\"True\",\"Maybe\",\"Maybe\",\"Maybe\",\"Maybe\",\"Maybe\",\"Maybe\",\"Maybe\",\"Maybe\",\"True\",\"True\",\"True\",\"Maybe\",\"Maybe\",\"Maybe\",\"Maybe\",\"Maybe\",\"True\",\"Maybe\",\"Maybe\",\"Maybe\",\"Fake\",\"True\",\"True\",\"True\",\"Maybe\",\"True\",\"True\",\"Maybe\",\"Maybe\",\"Maybe\",\"Fake\",\"Maybe\",\"Maybe\",\"Fake\",\"Fake\",\"True\",\"Maybe\",\"True\",\"Maybe\",\"Fake\",\"True\",\"Fake\",\"Maybe\",\"Maybe\",\"Maybe\",\"Maybe\",\"Maybe\",\"Fake\",\"Maybe\",\"Fake\",\"Maybe\",\"Maybe\",\"Maybe\",\"True\",\"Maybe\",\"Fake\",\"Maybe\",\"Maybe\",\"Maybe\",\"Maybe\",\"Maybe\",\"Maybe\",\"Maybe\",\"Maybe\",\"Maybe\",\"Maybe\",\"Maybe\",\"Maybe\",\"True\",\"Maybe\",\"Fake\",\"True\",\"Maybe\",\"Maybe\",\"Maybe\",\"True\",\"Fake\",\"Fake\",\"True\",\"Maybe\",\"Maybe\",\"Maybe\",\"Maybe\",\"True\",\"True\",\"Fake\",\"Maybe\",\"Maybe\",\"Maybe\",\"Fake\",\"Fake\",\"True\",\"Fake\",\"True\",\"Fake\",\"Fake\",\"Maybe\",\"Maybe\",\"Maybe\",\"Maybe\",\"Maybe\",\"Maybe\",\"Maybe\",\"Maybe\",\"Maybe\",\"Fake\",\"Maybe\",\"Maybe\",\"True\",\"Maybe\",\"Maybe\",\"Fake\",\"Maybe\",\"Maybe\",\"Maybe\",\"Maybe\",\"Fake\",\"Fake\",\"Maybe\",\"Maybe\",\"Maybe\",\"Maybe\",\"Maybe\",\"True\",\"Maybe\",\"Maybe\",\"Maybe\",\"Maybe\",\"Maybe\",\"True\",\"True\",\"Maybe\",\"True\",\"True\",\"Maybe\",\"True\",\"Maybe\",\"Maybe\",\"True\",\"Maybe\",\"Maybe\",\"True\",\"Maybe\",\"True\",\"Maybe\",\"Maybe\",\"Maybe\",\"Maybe\",\"Maybe\",\"Maybe\",\"Maybe\",\"Fake\",\"Maybe\",\"Maybe\",\"Maybe\",\"Maybe\",\"True\",\"Fake\",\"Maybe\",\"True\",\"Maybe\",\"True\",\"Fake\",\"Maybe\",\"Maybe\",\"Maybe\",\"Maybe\",\"True\",\"True\",\"True\",\"Maybe\",\"Maybe\",\"Maybe\",\"Maybe\",\"Fake\",\"Maybe\",\"True\",\"Fake\",\"Maybe\",\"Fake\",\"True\",\"Maybe\",\"True\",\"True\",\"Maybe\",\"Maybe\",\"Maybe\",\"True\",\"Maybe\",\"Maybe\",\"True\",\"Maybe\",\"True\",\"Maybe\",\"True\",\"Maybe\",\"Maybe\",\"True\",\"Maybe\",\"Maybe\",\"Maybe\",\"Maybe\",\"Maybe\",\"Maybe\",\"True\",\"True\",\"Maybe\",\"Maybe\",\"Fake\",\"True\",\"True\",\"True\",\"Maybe\",\"Maybe\",\"Maybe\",\"Maybe\",\"Maybe\",\"Fake\",\"True\",\"Maybe\",\"True\",\"Maybe\",\"Maybe\",\"Maybe\",\"True\",\"Maybe\",\"Maybe\",\"Maybe\",\"Fake\",\"True\",\"True\",\"Maybe\",\"Maybe\",\"Maybe\",\"Maybe\",\"Fake\",\"True\",\"Maybe\",\"Maybe\",\"Maybe\",\"Fake\",\"True\",\"Maybe\",\"Maybe\",\"True\",\"True\",\"Maybe\",\"Maybe\",\"Fake\",\"Maybe\",\"Maybe\",\"Maybe\",\"True\",\"True\",\"Maybe\",\"True\",\"True\",\"True\",\"Maybe\",\"Maybe\",\"True\",\"Maybe\",\"Maybe\",\"Fake\",\"Maybe\",\"Maybe\",\"Fake\",\"True\",\"Maybe\",\"Maybe\",\"Maybe\",\"Fake\",\"True\",\"Maybe\",\"True\",\"True\",\"True\",\"True\",\"Maybe\",\"True\",\"True\",\"True\",\"True\",\"Fake\",\"True\",\"True\",\"Fake\",\"True\",\"True\",\"Maybe\",\"Maybe\",\"Maybe\",\"True\",\"Maybe\",\"Maybe\",\"True\",\"Maybe\",\"True\",\"Maybe\",\"Maybe\",\"Maybe\",\"Maybe\",\"True\",\"Maybe\",\"Maybe\",\"True\",\"True\",\"Maybe\",\"Maybe\",\"True\",\"Maybe\",\"Fake\",\"Maybe\",\"True\",\"Maybe\",\"True\",\"True\",\"True\",\"True\",\"Maybe\",\"Maybe\",\"True\",\"True\",\"True\",\"Fake\",\"True\",\"Maybe\",\"Maybe\",\"True\",\"Maybe\",\"True\",\"True\",\"True\",\"True\",\"True\",\"Maybe\",\"True\",\"True\",\"Maybe\",\"Maybe\",\"Maybe\",\"True\",\"Fake\",\"Maybe\",\"True\",\"Maybe\",\"True\",\"Maybe\",\"True\",\"True\",\"True\",\"Maybe\",\"Maybe\",\"True\",\"Maybe\",\"Maybe\",\"True\",\"Maybe\",\"Maybe\",\"True\",\"Maybe\",\"Maybe\",\"Maybe\",\"Fake\",\"True\",\"Fake\",\"Fake\",\"True\",\"Maybe\",\"Maybe\",\"Maybe\",\"Maybe\",\"Maybe\",\"Fake\",\"Maybe\",\"Fake\",\"True\",\"Maybe\",\"Maybe\",\"True\",\"Maybe\",\"Maybe\",\"Maybe\",\"True\",\"Maybe\",\"Fake\",\"Maybe\",\"True\",\"True\",\"Fake\",\"Maybe\",\"True\",\"True\",\"True\",\"True\",\"True\",\"Fake\",\"Fake\",\"Maybe\",\"Maybe\",\"True\",\"True\",\"True\",\"True\",\"Fake\",\"True\",\"Maybe\",\"Fake\",\"Maybe\",\"Fake\",\"True\",\"Maybe\",\"True\",\"Maybe\",\"Maybe\",\"Maybe\",\"Maybe\",\"Maybe\",\"Fake\",\"Maybe\",\"True\",\"Maybe\",\"True\",\"True\",\"Maybe\",\"Fake\",\"True\",\"Fake\",\"True\",\"Maybe\",\"True\",\"Maybe\",\"Maybe\",\"True\",\"Maybe\",\"Maybe\",\"Fake\",\"Maybe\",\"Maybe\",\"Fake\",\"True\",\"Maybe\",\"True\",\"Maybe\",\"Fake\",\"Maybe\",\"Maybe\",\"True\",\"Maybe\",\"True\",\"Maybe\",\"Maybe\",\"Maybe\",\"Fake\",\"Maybe\",\"True\",\"Fake\",\"Fake\",\"Maybe\",\"True\",\"Maybe\",\"Maybe\",\"Maybe\",\"True\",\"Maybe\",\"True\",\"Maybe\",\"Maybe\",\"Maybe\",\"True\",\"True\",\"True\",\"Fake\",\"True\",\"Maybe\",\"Maybe\",\"True\",\"True\",\"True\",\"True\",\"Fake\",\"Maybe\",\"True\",\"Maybe\",\"Maybe\",\"True\",\"True\",\"True\",\"True\",\"True\",\"Maybe\",\"Maybe\",\"Maybe\",\"Fake\",\"True\",\"Maybe\",\"Maybe\",\"True\",\"Maybe\",\"Maybe\",\"True\",\"Maybe\",\"Maybe\",\"True\",\"True\",\"True\",\"Maybe\",\"Maybe\",\"Maybe\",\"Maybe\",\"True\",\"True\",\"Maybe\",\"Maybe\",\"True\",\"Maybe\",\"Fake\",\"True\",\"True\",\"True\",\"Maybe\",\"Maybe\",\"Maybe\",\"True\",\"Maybe\",\"True\",\"Maybe\",\"Maybe\",\"True\",\"True\",\"Maybe\",\"True\",\"True\",\"True\",\"Fake\",\"Maybe\",\"Maybe\",\"Maybe\",\"True\",\"Fake\",\"True\",\"True\",\"Maybe\",\"True\",\"Maybe\",\"True\",\"True\",\"Maybe\",\"Maybe\",\"Maybe\",\"True\",\"Maybe\",\"True\",\"True\",\"Maybe\",\"True\",\"True\",\"True\",\"Maybe\",\"Maybe\",\"Maybe\",\"Maybe\",\"True\",\"True\",\"Maybe\",\"Fake\",\"Maybe\",\"Maybe\",\"Fake\",\"Maybe\",\"True\",\"True\",\"True\",\"True\",\"Maybe\",\"True\",\"True\",\"True\",\"Maybe\",\"True\",\"Maybe\",\"True\",\"True\",\"True\",\"Maybe\",\"Maybe\",\"True\",\"True\",\"Maybe\",\"Maybe\",\"Fake\",\"True\",\"True\",\"True\",\"True\",\"True\",\"Maybe\",\"True\",\"True\",\"True\",\"True\",\"Maybe\",\"Maybe\",\"True\",\"Maybe\",\"Maybe\",\"True\",\"Maybe\",\"Maybe\",\"True\",\"Maybe\",\"True\",\"Fake\",\"True\",\"True\",\"True\",\"True\",\"True\",\"True\",\"True\",\"True\",\"True\",\"True\",\"Maybe\",\"True\",\"Maybe\",\"True\",\"True\",\"True\",\"Maybe\",\"True\",\"True\",\"Maybe\",\"Fake\",\"Maybe\",\"Maybe\",\"True\",\"Maybe\",\"True\",\"True\",\"True\",\"True\",\"True\",\"True\",\"True\",\"Maybe\",\"True\",\"True\",\"True\",\"Maybe\",\"True\",\"True\",\"True\",\"True\",\"Fake\",\"Maybe\",\"Maybe\",\"True\",\"True\",\"True\",\"True\",\"True\",\"True\",\"Maybe\",\"True\",\"True\",\"True\",\"True\",\"Maybe\",\"True\",\"True\",\"True\",\"True\",\"True\",\"True\",\"True\",\"Fake\",\"Maybe\",\"Maybe\",\"True\",\"True\",\"True\",\"True\",\"True\",\"True\",\"True\",\"Fake\",\"Maybe\",\"Maybe\",\"Maybe\",\"Maybe\",\"True\",\"True\",\"Maybe\",\"Maybe\",\"True\",\"True\",\"True\",\"Maybe\",\"Maybe\",\"True\",\"Fake\",\"True\",\"Fake\",\"Maybe\",\"True\",\"True\",\"True\",\"Maybe\",\"True\",\"True\",\"True\",\"Fake\",\"Maybe\",\"True\",\"True\",\"True\",\"True\",\"True\",\"Maybe\",\"Maybe\",\"True\",\"True\",\"Maybe\",\"True\",\"Maybe\",\"Maybe\",\"Maybe\",\"True\",\"True\",\"True\",\"Fake\",\"True\",\"Maybe\",\"True\",\"True\",\"True\",\"True\",\"True\",\"Maybe\",\"True\",\"True\",\"Maybe\",\"True\",\"True\",\"True\",\"Maybe\",\"True\",\"True\",\"True\",\"True\",\"Maybe\",\"True\",\"True\",\"True\",\"True\",\"Maybe\",\"True\",\"True\",\"True\",\"True\",\"Maybe\",\"True\",\"True\",\"True\",\"True\",\"True\",\"True\",\"True\",\"True\",\"True\",\"True\",\"Maybe\",\"Maybe\",\"True\",\"True\",\"True\",\"True\",\"Fake\",\"True\",\"True\",\"True\",\"True\",\"Fake\",\"True\",\"True\",\"Fake\",\"True\",\"Fake\",\"True\",\"True\",\"True\",\"True\",\"True\",\"Maybe\",\"Maybe\",\"Maybe\",\"True\",\"True\",\"True\",\"True\",\"Maybe\",\"Maybe\",\"True\",\"True\",\"True\",\"Maybe\",\"True\",\"True\",\"True\",\"True\",\"Maybe\",\"True\",\"Maybe\",\"True\",\"True\",\"True\",\"True\",\"Maybe\",\"True\",\"Maybe\",\"True\",\"True\",\"True\",\"Maybe\",\"True\",\"Maybe\",\"True\",\"True\",\"True\",\"True\",\"Maybe\",\"Maybe\",\"True\",\"Fake\",\"True\",\"True\",\"Maybe\",\"True\",\"True\",\"Maybe\",\"True\",\"True\",\"True\",\"True\",\"True\",\"True\",\"True\",\"True\",\"True\",\"True\",\"Maybe\",\"True\",\"True\",\"True\",\"True\",\"Fake\",\"True\",\"True\",\"True\",\"True\",\"True\",\"True\",\"Maybe\",\"True\",\"True\",\"True\",\"True\",\"True\",\"True\",\"True\",\"True\",\"True\",\"True\",\"True\",\"True\",\"Fake\",\"True\",\"True\",\"True\",\"True\",\"True\",\"True\",\"True\",\"True\",\"True\",\"Maybe\",\"Maybe\",\"Maybe\",\"True\",\"Maybe\",\"True\",\"True\",\"True\",\"Maybe\",\"True\",\"True\",\"Maybe\",\"True\",\"True\",\"True\",\"Maybe\",\"True\",\"True\",\"True\",\"True\",\"Fake\",\"True\",\"True\",\"True\",\"True\",\"True\",\"True\",\"Maybe\",\"True\",\"True\",\"Maybe\",\"Maybe\",\"True\",\"True\",\"True\",\"True\",\"True\",\"Maybe\",\"Maybe\",\"True\",\"True\",\"True\",\"Maybe\",\"Fake\",\"True\",\"True\",\"True\",\"True\",\"True\",\"True\",\"True\",\"Maybe\",\"True\",\"True\",\"True\",\"True\",\"True\",\"True\",\"True\",\"True\",\"True\",\"True\",\"True\",\"True\",\"True\",\"True\",\"True\",\"True\",\"True\",\"Maybe\",\"True\",\"True\",\"True\",\"True\",\"True\",\"True\",\"Maybe\",\"Fake\",\"True\",\"True\",\"True\",\"True\",\"True\",\"Maybe\",\"True\",\"True\",\"True\",\"True\",\"True\",\"True\",\"True\",\"True\",\"Maybe\",\"True\",\"True\",\"Maybe\",\"Maybe\",\"Fake\",\"True\",\"True\",\"True\",\"True\",\"True\",\"True\",\"True\",\"True\",\"Maybe\",\"True\",\"True\",\"True\",\"True\",\"Maybe\",\"Maybe\",\"Fake\",\"True\",\"True\",\"Maybe\",\"True\",\"Maybe\",\"True\",\"Fake\",\"True\",\"Maybe\",\"True\",\"True\",\"True\",\"True\",\"True\",\"True\",\"Maybe\",\"True\",\"True\",\"Fake\",\"True\",\"True\",\"True\",\"True\",\"Maybe\",\"True\",\"True\",\"True\",\"True\",\"Maybe\",\"True\",\"True\",\"True\",\"Fake\",\"Maybe\",\"True\",\"True\",\"True\",\"True\",\"True\",\"True\",\"True\",\"True\",\"True\",\"Maybe\",\"True\",\"True\",\"True\",\"True\",\"True\",\"Maybe\",\"True\",\"True\",\"Maybe\",\"Maybe\",\"True\",\"True\",\"True\",\"True\",\"True\",\"True\",\"True\",\"True\",\"True\",\"True\",\"True\",\"True\",\"True\",\"True\",\"True\",\"True\",\"True\",\"True\",\"Fake\",\"True\",\"True\",\"True\",\"Maybe\",\"Maybe\",\"True\",\"Maybe\",\"True\",\"True\",\"True\",\"True\",\"True\",\"True\",\"True\",\"True\",\"True\",\"True\",\"True\",\"True\",\"True\",\"True\",\"True\",\"True\",\"True\",\"True\",\"True\",\"Fake\",\"True\",\"True\",\"True\",\"Maybe\",\"True\",\"True\",\"True\",\"Maybe\",\"Maybe\",\"True\",\"Fake\",\"Maybe\",\"True\",\"True\",\"True\",\"True\",\"True\",\"True\",\"True\",\"True\",\"True\",\"True\",\"True\",\"True\",\"Maybe\",\"True\",\"Maybe\",\"True\",\"True\",\"True\",\"True\",\"True\",\"True\",\"True\",\"True\",\"True\",\"True\",\"True\",\"True\",\"True\",\"True\",\"True\",\"Maybe\",\"True\",\"True\",\"True\",\"True\",\"True\",\"True\",\"True\",\"True\",\"Fake\",\"True\",\"True\",\"True\",\"Maybe\",\"True\",\"True\",\"True\",\"True\",\"True\",\"True\",\"True\",\"Maybe\",\"Maybe\",\"True\",\"True\",\"Maybe\",\"Maybe\",\"True\",\"True\",\"True\",\"True\",\"True\",\"Fake\",\"True\",\"Maybe\",\"True\",\"Maybe\",\"True\",\"True\",\"True\",\"Maybe\",\"True\",\"True\",\"True\",\"True\",\"True\",\"True\",\"Fake\",\"True\",\"True\",\"True\",\"True\",\"True\",\"True\",\"True\",\"True\",\"True\",\"True\",\"True\",\"True\",\"True\",\"True\",\"Maybe\",\"True\",\"True\",\"True\",\"True\",\"True\",\"Maybe\"],\"y\":[1800.0,1802.0,1802.0,1802.0,1802.0,1802.0,1802.0,1802.0,1804.0,1804.0,1804.0,1804.0,1804.0,1805.0,1805.0,1805.0,1806.0,1806.0,1806.0,1806.0,1808.0,1808.0,1808.0,1809.0,1809.0,1809.0,1809.0,1810.0,1810.0,1810.0,1810.0,1810.0,1811.0,1811.0,1811.0,1812.0,1812.0,1812.0,1812.0,1812.0,1812.0,1812.0,1813.0,1813.0,1814.0,1815.0,1815.0,1815.0,1816.0,1816.0,1816.0,1817.0,1817.0,1817.0,1817.0,1818.0,1818.0,1818.0,1818.0,1818.0,1818.0,1819.0,1819.0,1819.0,1819.0,1819.0,1820.0,1820.0,1820.0,1820.0,1820.0,1820.0,1820.0,1820.0,1821.0,1821.0,1821.0,1821.0,1821.0,1822.0,1822.0,1822.0,1822.0,1822.0,1823.0,1823.0,1823.0,1823.0,1823.0,1823.0,1824.0,1824.0,1824.0,1825.0,1825.0,1825.0,1825.0,1825.0,1825.0,1826.0,1826.0,1826.0,1826.0,1827.0,1827.0,1827.0,1827.0,1827.0,1828.0,1828.0,1828.0,1828.0,1828.0,1828.0,1829.0,1829.0,1830.0,1830.0,1830.0,1831.0,1831.0,1831.0,1831.0,1832.0,1833.0,1833.0,1833.0,1833.0,1833.0,1833.0,1834.0,1834.0,1835.0,1835.0,1835.0,1835.0,1836.0,1836.0,1836.0,1836.0,1836.0,1836.0,1837.0,1837.0,1837.0,1837.0,1837.0,1837.0,1837.0,1837.0,1838.0,1838.0,1839.0,1839.0,1839.0,1839.0,1840.0,1840.0,1840.0,1840.0,1840.0,1840.0,1840.0,1840.0,1840.0,1841.0,1841.0,1841.0,1841.0,1842.0,1842.0,1842.0,1843.0,1843.0,1843.0,1843.0,1843.0,1843.0,1843.0,1843.0,1843.0,1844.0,1844.0,1844.0,1844.0,1845.0,1845.0,1845.0,1845.0,1845.0,1845.0,1845.0,1845.0,1846.0,1846.0,1846.0,1846.0,1846.0,1846.0,1846.0,1846.0,1846.0,1846.0,1846.0,1846.0,1846.0,1846.0,1846.0,1846.0,1847.0,1847.0,1847.0,1847.0,1847.0,1847.0,1847.0,1847.0,1847.0,1848.0,1848.0,1848.0,1848.0,1848.0,1848.0,1849.0,1849.0,1849.0,1850.0,1850.0,1850.0,1850.0,1850.0,1851.0,1851.0,1851.0,1851.0,1851.0,1851.0,1851.0,1851.0,1851.0,1851.0,1851.0,1851.0,1852.0,1852.0,1852.0,1852.0,1852.0,1852.0,1852.0,1852.0,1852.0,1852.0,1852.0,1852.0,1852.0,1852.0,1852.0,1852.0,1852.0,1852.0,1852.0,1852.0,1853.0,1853.0,1853.0,1853.0,1853.0,1853.0,1853.0,1853.0,1853.0,1854.0,1854.0,1854.0,1854.0,1854.0,1854.0,1854.0,1854.0,1854.0,1854.0,1854.0,1854.0,1854.0,1854.0,1854.0,1854.0,1854.0,1854.0,1854.0,1854.0,1854.0,1855.0,1855.0,1855.0,1855.0,1855.0,1855.0,1855.0,1855.0,1855.0,1855.0,1855.0,1855.0,1855.0,1855.0,1855.0,1855.0,1856.0,1856.0,1856.0,1856.0,1856.0,1856.0,1856.0,1856.0,1856.0,1856.0,1856.0,1856.0,1856.0,1857.0,1857.0,1857.0,1857.0,1857.0,1857.0,1857.0,1857.0,1858.0,1858.0,1858.0,1858.0,1858.0,1858.0,1858.0,1858.0,1859.0,1859.0,1859.0,1859.0,1859.0,1859.0,1859.0,1859.0,1859.0,1859.0,1859.0,1859.0,1859.0,1859.0,1859.0,1859.0,1860.0,1860.0,1860.0,1860.0,1860.0,1860.0,1860.0,1861.0,1861.0,1861.0,1861.0,1861.0,1861.0,1861.0,1861.0,1861.0,1861.0,1861.0,1861.0,1861.0,1862.0,1862.0,1862.0,1862.0,1862.0,1862.0,1862.0,1862.0,1863.0,1863.0,1863.0,1863.0,1863.0,1863.0,1864.0,1864.0,1864.0,1864.0,1865.0,1865.0,1865.0,1865.0,1865.0,1865.0,1865.0,1865.0,1865.0,1865.0,1866.0,1866.0,1866.0,1866.0,1866.0,1866.0,1866.0,1866.0,1866.0,1866.0,1866.0,1866.0,1866.0,1866.0,1866.0,1867.0,1867.0,1867.0,1867.0,1867.0,1867.0,1867.0,1867.0,1867.0,1867.0,1867.0,1867.0,1867.0,1868.0,1868.0,1868.0,1868.0,1868.0,1868.0,1868.0,1868.0,1868.0,1868.0,1868.0,1868.0,1868.0,1868.0,1868.0,1868.0,1868.0,1868.0,1868.0,1868.0,1868.0,1868.0,1868.0,1869.0,1869.0,1869.0,1869.0,1869.0,1869.0,1869.0,1869.0,1869.0,1869.0,1869.0,1869.0,1869.0,1869.0,1869.0,1869.0,1869.0,1869.0,1869.0,1869.0,1870.0,1870.0,1870.0,1870.0,1870.0,1870.0,1870.0,1870.0,1870.0,1870.0,1870.0,1870.0,1871.0,1871.0,1871.0,1871.0,1871.0,1871.0,1871.0,1871.0,1871.0,1871.0,1871.0,1871.0,1871.0,1871.0,1871.0,1871.0,1871.0,1871.0,1872.0,1872.0,1872.0,1872.0,1872.0,1872.0,1872.0,1872.0,1872.0,1872.0,1872.0,1872.0,1872.0,1872.0,1873.0,1873.0,1873.0,1873.0,1873.0,1873.0,1874.0,1874.0,1874.0,1874.0,1874.0,1875.0,1875.0,1875.0,1875.0,1875.0,1875.0,1876.0,1876.0,1876.0,1876.0,1877.0,1877.0,1877.0,1877.0,1877.0,1877.0,1877.0,1877.0,1877.0,1877.0,1877.0,1877.0,1877.0,1877.0,1878.0,1878.0,1878.0,1878.0,1878.0,1878.0,1878.0,1878.0,1878.0,1878.0,1878.0,1878.0,1878.0,1878.0,1878.0,1878.0,1878.0,1878.0,1878.0,1878.0,1878.0,1878.0,1878.0,1879.0,1879.0,1879.0,1879.0,1879.0,1879.0,1879.0,1880.0,1880.0,1880.0,1880.0,1880.0,1880.0,1880.0,1880.0,1880.0,1880.0,1881.0,1881.0,1881.0,1881.0,1881.0,1881.0,1881.0,1881.0,1881.0,1881.0,1881.0,1882.0,1882.0,1882.0,1882.0,1882.0,1882.0,1882.0,1882.0,1882.0,1883.0,1883.0,1883.0,1883.0,1883.0,1883.0,1883.0,1883.0,1883.0,1884.0,1884.0,1884.0,1884.0,1884.0,1884.0,1884.0,1884.0,1884.0,1884.0,1884.0,1885.0,1885.0,1885.0,1885.0,1885.0,1885.0,1885.0,1885.0,1885.0,1886.0,1886.0,1886.0,1886.0,1886.0,1886.0,1886.0,1887.0,1887.0,1887.0,1887.0,1887.0,1887.0,1887.0,1887.0,1888.0,1888.0,1888.0,1888.0,1888.0,1888.0,1888.0,1889.0,1889.0,1889.0,1889.0,1889.0,1889.0,1889.0,1889.0,1889.0,1890.0,1891.0,1891.0,1891.0,1891.0,1891.0,1891.0,1891.0,1891.0,1891.0,1892.0,1892.0,1892.0,1892.0,1892.0,1892.0,1892.0,1892.0,1892.0,1892.0,1892.0,1893.0,1893.0,1893.0,1893.0,1893.0,1893.0,1893.0,1893.0,1893.0,1893.0,1894.0,1894.0,1894.0,1894.0,1894.0,1894.0,1894.0,1894.0,1894.0,1895.0,1895.0,1895.0,1895.0,1895.0,1895.0,1895.0,1895.0,1895.0,1895.0,1895.0,1895.0,1895.0,1896.0,1896.0,1896.0,1896.0,1896.0,1896.0,1896.0,1896.0,1897.0,1897.0,1897.0,1897.0,1897.0,1897.0,1897.0,1897.0,1897.0,1897.0,1897.0,1897.0,1897.0,1897.0,1897.0,1898.0,1898.0,1898.0,1898.0,1898.0,1899.0,1899.0,1899.0,1899.0,1899.0,1899.0,1899.0,1899.0,1899.0,1899.0,1899.0,1899.0,1899.0,1899.0,1900.0,1900.0,1900.0,1900.0,1900.0,1900.0,1901.0,1901.0,1901.0,1901.0,1901.0,1901.0,1901.0,1901.0,1901.0,1901.0,1901.0,1902.0,1902.0,1902.0,1902.0,1902.0,1902.0,1902.0,1902.0,1902.0,1902.0,1902.0,1902.0,1902.0,1902.0,1903.0,1903.0,1903.0,1903.0,1903.0,1903.0,1903.0,1903.0,1903.0,1903.0,1903.0,1903.0,1903.0,1903.0,1904.0,1904.0,1904.0,1904.0,1904.0,1904.0,1904.0,1904.0,1904.0,1904.0,1904.0,1905.0,1905.0,1905.0,1905.0,1905.0,1905.0,1905.0,1905.0,1905.0,1905.0,1905.0,1905.0,1905.0,1905.0,1905.0,1905.0,1905.0,1905.0,1905.0,1906.0,1906.0,1906.0,1906.0,1906.0,1906.0,1906.0,1906.0,1906.0,1906.0,1906.0,1906.0,1906.0,1906.0,1906.0,1906.0,1906.0,1906.0,1907.0,1907.0,1907.0,1907.0,1907.0,1907.0,1907.0,1907.0,1907.0,1907.0,1907.0,1907.0,1907.0,1907.0,1908.0,1908.0,1908.0,1908.0,1908.0,1908.0,1908.0,1908.0,1908.0,1909.0,1909.0,1909.0,1909.0,1909.0,1909.0,1909.0,1909.0,1909.0,1909.0,1909.0,1910.0,1910.0,1910.0,1910.0,1910.0,1910.0,1910.0,1911.0,1911.0,1911.0,1911.0,1911.0,1911.0,1911.0,1911.0,1911.0,1912.0,1912.0,1912.0,1912.0,1912.0,1912.0,1913.0,1913.0,1913.0,1913.0,1913.0,1913.0,1913.0,1913.0,1914.0,1914.0,1914.0,1914.0,1914.0,1914.0,1914.0,1914.0,1914.0,1914.0,1914.0,1915.0,1915.0,1915.0,1915.0,1915.0,1915.0,1915.0,1915.0,1915.0,1916.0,1916.0,1916.0,1916.0,1916.0,1916.0,1917.0,1917.0,1917.0,1917.0,1917.0,1917.0,1917.0,1917.0,1917.0,1917.0,1917.0,1917.0,1917.0,1917.0,1917.0,1917.0,1918.0,1918.0,1918.0,1918.0,1918.0,1918.0,1918.0,1918.0,1918.0,1918.0,1918.0,1919.0,1919.0,1919.0,1919.0,1919.0,1919.0,1919.0,1919.0,1919.0,1919.0,1919.0,1919.0,1919.0,1919.0,1919.0,1919.0,1920.0,1920.0,1920.0,1920.0,1920.0,1920.0,1920.0,1921.0,1921.0,1921.0,1921.0,1921.0,1922.0,1922.0,1922.0,1922.0,1922.0,1922.0,1922.0,1922.0,1922.0,1922.0,1922.0,1922.0,1922.0,1922.0,1923.0,1923.0,1923.0,1923.0,1923.0,1923.0,1923.0,1923.0,1923.0,1923.0,1923.0,1923.0,1923.0,1923.0,1923.0,1923.0,1923.0,1923.0,1923.0,1924.0,1924.0,1924.0,1924.0,1924.0,1924.0,1924.0,1924.0,1924.0,1924.0,1924.0,1924.0,1925.0,1925.0,1925.0,1925.0,1925.0,1925.0,1925.0,1925.0,1925.0,1925.0,1925.0,1925.0,1926.0,1926.0,1926.0,1926.0,1926.0,1926.0,1926.0,1926.0,1926.0,1926.0,1926.0,1926.0,1926.0,1926.0,1927.0,1927.0,1927.0,1927.0,1927.0,1927.0,1927.0,1927.0,1927.0,1927.0,1927.0,1927.0,1927.0,1927.0,1927.0,1928.0,1928.0,1928.0,1928.0,1928.0,1928.0,1928.0,1928.0,1928.0,1928.0,1928.0,1928.0,1928.0,1928.0,1928.0,1928.0,1928.0,1928.0,1928.0,1928.0,1928.0,1928.0,1928.0,1928.0,1928.0,1929.0,1929.0,1929.0,1929.0,1929.0,1929.0,1929.0,1929.0,1929.0,1929.0,1930.0,1930.0,1930.0,1930.0,1930.0,1930.0,1930.0,1930.0,1930.0,1930.0,1930.0,1930.0,1930.0,1930.0,1930.0,1930.0,1930.0,1931.0,1931.0,1931.0,1931.0,1931.0,1931.0,1931.0,1931.0,1931.0,1931.0,1931.0,1931.0,1931.0,1932.0,1932.0,1932.0,1932.0,1932.0,1932.0,1932.0,1932.0,1932.0,1932.0,1932.0,1933.0,1933.0,1933.0,1933.0,1933.0,1933.0,1933.0,1933.0,1933.0,1933.0,1934.0,1934.0,1934.0,1934.0,1934.0,1934.0,1934.0,1934.0,1934.0,1934.0,1934.0,1935.0,1935.0,1935.0,1935.0,1935.0,1935.0,1935.0,1935.0,1935.0,1935.0,1935.0,1936.0,1936.0,1936.0,1936.0,1936.0,1936.0,1936.0,1936.0,1936.0,1936.0,1937.0,1937.0,1937.0,1937.0,1937.0,1937.0,1938.0,1938.0,1938.0,1938.0,1938.0,1938.0,1938.0,1938.0,1938.0,1938.0,1938.0,1938.0,1938.0,1938.0,1938.0,1938.0,1938.0,1938.0,1938.0,1938.0,1938.0,1938.0,1938.0,1939.0,1939.0,1939.0,1939.0,1939.0,1939.0,1939.0,1939.0,1939.0,1939.0,1939.0,1939.0,1939.0,1939.0,1940.0,1940.0,1940.0,1940.0,1940.0,1940.0,1941.0,1941.0,1941.0,1941.0,1941.0,1941.0,1941.0,1941.0,1941.0,1941.0,1942.0,1942.0,1942.0,1943.0,1943.0,1944.0,1944.0,1944.0,1944.0,1944.0,1944.0,1945.0,1945.0,1945.0,1946.0,1946.0,1946.0,1946.0,1946.0,1946.0,1946.0,1946.0,1946.0,1947.0,1947.0,1947.0,1947.0,1947.0,1948.0,1948.0,1948.0,1948.0,1948.0,1948.0,1948.0,1948.0,1948.0,1949.0,1949.0,1949.0,1949.0,1949.0,1949.0,1949.0,1949.0,1949.0,1949.0,1949.0,1949.0,1949.0,1949.0,1949.0,1950.0,1950.0,1950.0,1950.0,1950.0,1950.0,1950.0,1950.0,1950.0,1950.0,1950.0,1950.0,1950.0,1951.0,1951.0,1951.0,1951.0,1951.0,1951.0,1951.0,1952.0,1952.0,1952.0,1952.0,1952.0,1952.0,1952.0,1952.0,1952.0,1952.0,1952.0,1952.0,1952.0,1952.0,1952.0,1952.0,1953.0,1953.0,1953.0,1953.0,1953.0,1953.0,1953.0,1953.0,1953.0,1953.0,1953.0,1953.0,1953.0,1953.0,1953.0,1953.0,1953.0,1954.0,1954.0,1954.0,1954.0,1954.0,1954.0,1954.0,1955.0,1955.0,1955.0,1955.0,1955.0,1955.0,1955.0,1956.0,1956.0,1956.0,1956.0,1956.0,1956.0,1956.0,1956.0,1956.0,1957.0,1957.0,1957.0,1957.0,1957.0,1957.0,1957.0,1957.0,1958.0,1958.0,1958.0,1958.0,1958.0,1958.0,1958.0,1958.0,1958.0,1958.0,1959.0,1959.0,1959.0,1959.0,1959.0,1959.0,1959.0,1959.0,1959.0,1960.0,1960.0,1960.0,1960.0,1960.0,1960.0,1960.0,1960.0,1960.0,1960.0,1960.0,1961.0,1961.0,1961.0,1961.0,1961.0,1961.0,1961.0,1961.0,1961.0,1961.0,1961.0,1961.0,1961.0,1961.0,1961.0,1961.0,1962.0,1962.0,1962.0,1962.0,1962.0,1962.0,1962.0,1962.0,1962.0,1963.0,1963.0,1963.0,1963.0,1963.0,1963.0,1963.0,1963.0,1963.0,1963.0,1963.0,1963.0,1964.0,1964.0,1964.0,1964.0,1964.0,1964.0,1964.0,1964.0,1964.0,1964.0,1965.0,1965.0,1965.0,1965.0,1965.0,1965.0,1965.0,1965.0,1965.0,1965.0,1965.0,1965.0,1965.0,1965.0,1965.0,1965.0,1965.0,1966.0,1966.0,1966.0,1966.0,1966.0,1966.0,1966.0,1966.0,1966.0,1966.0,1967.0,1967.0,1967.0,1967.0,1967.0,1967.0,1967.0,1967.0,1967.0,1967.0,1967.0,1968.0,1968.0,1968.0,1968.0,1968.0,1968.0,1968.0,1968.0,1968.0,1968.0,1968.0,1968.0,1968.0,1968.0,1968.0,1968.0,1969.0,1969.0,1969.0,1969.0,1969.0,1969.0,1969.0,1969.0,1969.0,1969.0,1969.0,1969.0,1969.0,1970.0,1970.0,1970.0,1970.0,1970.0,1970.0,1970.0,1970.0,1970.0,1970.0,1970.0,1970.0,1970.0,1971.0,1971.0,1971.0,1971.0,1971.0,1971.0,1971.0,1971.0,1971.0,1971.0,1971.0,1971.0,1971.0,1971.0,1971.0,1972.0,1972.0,1972.0,1972.0,1972.0,1972.0,1972.0,1972.0,1972.0,1972.0,1972.0,1973.0,1973.0,1973.0,1973.0,1973.0,1973.0,1973.0,1973.0,1974.0,1974.0,1974.0,1974.0,1974.0,1974.0,1974.0,1974.0,1974.0,1975.0,1975.0,1975.0,1975.0,1975.0,1975.0,1975.0,1975.0,1975.0,1975.0,1976.0,1976.0,1976.0,1976.0,1976.0,1977.0,1977.0,1977.0,1977.0,1977.0,1977.0,1977.0,1977.0,1977.0,1978.0,1978.0,1978.0,1978.0,1978.0,1978.0,1978.0,1978.0,1978.0,1978.0,1978.0,1978.0,1978.0,1978.0,1978.0,1978.0,1979.0,1979.0,1979.0,1979.0,1979.0,1979.0,1979.0,1979.0,1979.0,1979.0,1979.0,1979.0,1979.0,1979.0,1979.0,1980.0,1980.0,1980.0,1980.0,1980.0,1980.0,1980.0,1981.0,1981.0,1981.0,1981.0,1981.0,1981.0,1981.0,1981.0,1982.0,1982.0,1982.0,1982.0,1982.0,1982.0,1982.0,1982.0,1983.0,1983.0,1983.0,1983.0,1983.0,1983.0,1983.0,1983.0,1983.0,1983.0,1983.0,1983.0,1983.0,1984.0,1984.0,1984.0,1984.0,1984.0,1984.0,1984.0,1984.0,1985.0,1985.0,1985.0,1985.0,1985.0,1985.0,1986.0,1986.0,1986.0,1986.0,1986.0,1987.0,1987.0,1987.0,1987.0,1987.0,1987.0,1987.0,1987.0,1987.0,1987.0,1987.0,1987.0,1987.0,1987.0,1987.0,1988.0,1988.0,1988.0,1988.0,1988.0,1988.0,1988.0,1988.0,1988.0,1989.0,1989.0,1989.0,1989.0,1989.0,1989.0,1989.0,1989.0,1990.0,1990.0,1990.0,1990.0,1990.0,1990.0,1990.0,1990.0,1990.0,1991.0,1991.0,1991.0,1991.0,1991.0,1991.0,1991.0,1991.0,1992.0,1992.0,1992.0,1992.0,1992.0,1992.0,1992.0,1992.0,1992.0,1993.0,1993.0,1993.0,1993.0,1993.0,1993.0,1993.0,1993.0,1994.0,1994.0,1994.0,1994.0,1994.0,1994.0,1994.0,1994.0,1994.0,1994.0,1994.0,1994.0,1994.0,1994.0,1994.0,1994.0,1994.0,1994.0,1994.0,1994.0,1994.0,1995.0,1995.0,1995.0,1995.0,1995.0,1995.0,1995.0,1995.0,1995.0,1995.0,1995.0,1995.0,1995.0,1995.0,1995.0,1995.0,1995.0,1995.0,1996.0,1996.0,1996.0,1996.0,1996.0,1996.0,1996.0,1996.0,1996.0,1996.0,1996.0,1996.0,1996.0,1996.0,1996.0,1996.0,1997.0,1997.0,1997.0,1997.0,1997.0,1997.0,1997.0,1997.0,1997.0,1997.0,1998.0,1998.0,1998.0,1998.0,1998.0,1998.0,1999.0,1999.0,1999.0,1999.0,2000.0,2000.0,2000.0,2000.0,2000.0,2000.0,2000.0,2000.0,2000.0,2000.0,2000.0,2001.0,2001.0,2001.0,2001.0,2002.0,2002.0,2002.0,2002.0,2002.0,2002.0,2002.0,2002.0,2002.0,2002.0,2003.0,2003.0,2003.0,2003.0,2003.0,2003.0,2003.0,2003.0,2003.0,2003.0,2003.0,2003.0,2004.0,2004.0,2004.0,2004.0,2004.0,2004.0,2004.0,2004.0,2004.0,2004.0,2004.0,2005.0,2005.0,2005.0,2005.0,2005.0,2005.0,2005.0,2005.0,2006.0,2006.0,2006.0,2006.0,2006.0,2006.0,2006.0,2006.0,2006.0,2006.0,2006.0,2006.0,2006.0,2007.0,2007.0,2007.0,2007.0,2007.0,2007.0,2007.0,2007.0,2007.0,2007.0,2007.0,2007.0,2007.0,2007.0,2007.0,2007.0,2007.0,2007.0,2007.0,2007.0,2008.0,2008.0,2008.0,2008.0,2008.0,2008.0,2008.0,2008.0,2008.0,2008.0,2008.0,2008.0,2009.0,2009.0,2009.0,2009.0,2009.0,2009.0,2009.0,2009.0,2009.0,2009.0,2009.0,2009.0,2009.0,2009.0,2009.0,2009.0,2010.0,2010.0,2010.0,2010.0,2010.0,2010.0,2010.0,2010.0,2010.0,2010.0,2010.0,2010.0,2010.0,2010.0,2010.0,2010.0,2010.0,2010.0,2011.0,2011.0,2011.0,2011.0,2011.0,2011.0,2011.0,2011.0,2011.0,2011.0,2011.0,2011.0,2011.0,2011.0,2011.0,2011.0,2011.0,2012.0,2012.0,2012.0,2012.0,2012.0,2012.0,2012.0,2012.0,2012.0,2012.0,2012.0,2012.0,2012.0,2012.0,2012.0,2013.0,2013.0,2013.0,2013.0,2013.0,2013.0,2013.0,2013.0,2013.0,2013.0,2013.0,2013.0,2013.0,2014.0,2014.0,2014.0,2014.0,2014.0,2014.0,2014.0,2014.0,2014.0,2014.0,2014.0,2014.0,2014.0,2014.0,2014.0,2014.0,2014.0,2014.0,2015.0,2015.0,2015.0,2015.0,2015.0,2015.0,2015.0,2015.0,2015.0,2015.0,2015.0,2015.0,2015.0,2015.0,2015.0,2015.0,2015.0,2016.0,2016.0,2016.0,2016.0,2016.0,2016.0,2016.0,2016.0,2016.0,2016.0,2016.0,2016.0,2016.0,2016.0,2016.0,2017.0,2017.0,2017.0,2017.0,2017.0,2017.0,2017.0,2017.0,2017.0,2017.0,2017.0,2017.0,2017.0,2017.0,2017.0,2017.0,2017.0,2017.0,2017.0,2017.0,2018.0,2018.0,2018.0,2018.0,2018.0,2018.0,2018.0,2018.0,2018.0,2018.0,2018.0,2018.0,2018.0,2018.0,2018.0,2018.0,2018.0,2018.0,2018.0,2018.0,2019.0,2019.0,2019.0,2019.0,2019.0,2019.0,2019.0,2019.0,2020.0,2020.0,2020.0,2020.0,2020.0,2020.0,2020.0,2020.0,2020.0,2020.0,2020.0,2020.0,2020.0,2020.0,2021.0,2021.0,2021.0,2021.0,2021.0,2021.0,2021.0,2021.0,2021.0,2021.0,2021.0,2021.0,2021.0],\"type\":\"violin\",\"xaxis\":\"x\",\"yaxis\":\"y\"},{\"marker\":{\"color\":\"rgb(237,187,138)\",\"opacity\":0.8,\"size\":4},\"name\":\"Effect\",\"x\":[\"None\",\"None\",\"None\",\"None\",\"None\",\"None\",\"None\",\"None\",\"None\",\"None\",\"None\",\"None\",\"None\",\"None\",\"None\",\"None\",\"None\",\"None\",\"None\",\"None\",\"None\",\"None\",\"None\",\"None\",\"None\",\"None\",\"None\",\"None\",\"None\",\"None\",\"None\",\"None\",\"None\",\"None\",\"None\",\"None\",\"None\",\"None\",\"None\",\"None\",\"None\",\"None\",\"None\",\"None\",\"None\",\"Once\",\"None\",\"None\",\"None\",\"None\",\"None\",\"None\",\"None\",\"None\",\"None\",\"None\",\"None\",\"None\",\"None\",\"None\",\"None\",\"None\",\"None\",\"None\",\"None\",\"None\",\"None\",\"None\",\"None\",\"None\",\"None\",\"None\",\"None\",\"None\",\"Once\",\"None\",\"None\",\"None\",\"None\",\"None\",\"None\",\"None\",\"None\",\"None\",\"None\",\"None\",\"None\",\"None\",\"None\",\"None\",\"None\",\"None\",\"None\",\"None\",\"None\",\"None\",\"None\",\"None\",\"None\",\"None\",\"None\",\"None\",\"Once\",\"None\",\"None\",\"Once\",\"None\",\"None\",\"None\",\"None\",\"None\",\"None\",\"None\",\"None\",\"None\",\"None\",\"None\",\"None\",\"None\",\"None\",\"None\",\"None\",\"None\",\"None\",\"None\",\"None\",\"None\",\"None\",\"None\",\"Once\",\"None\",\"None\",\"Once\",\"None\",\"None\",\"None\",\"None\",\"None\",\"None\",\"None\",\"None\",\"None\",\"None\",\"None\",\"None\",\"None\",\"None\",\"None\",\"None\",\"Once\",\"None\",\"None\",\"None\",\"None\",\"None\",\"None\",\"None\",\"None\",\"None\",\"None\",\"None\",\"None\",\"None\",\"None\",\"None\",\"Once\",\"None\",\"None\",\"None\",\"None\",\"None\",\"None\",\"None\",\"None\",\"None\",\"None\",\"Several\",\"None\",\"None\",\"None\",\"None\",\"None\",\"None\",\"None\",\"None\",\"Once\",\"None\",\"None\",\"None\",\"None\",\"None\",\"None\",\"None\",\"None\",\"None\",\"None\",\"None\",\"None\",\"None\",\"None\",\"None\",\"None\",\"None\",\"None\",\"None\",\"None\",\"None\",\"None\",\"None\",\"None\",\"None\",\"None\",\"None\",\"None\",\"None\",\"None\",\"None\",\"None\",\"None\",\"None\",\"None\",\"None\",\"None\",\"None\",\"None\",\"None\",\"None\",\"None\",\"None\",\"None\",\"None\",\"None\",\"None\",\"None\",\"None\",\"None\",\"None\",\"None\",\"None\",\"None\",\"None\",\"None\",\"None\",\"None\",\"None\",\"None\",\"None\",\"None\",\"None\",\"None\",\"None\",\"None\",\"None\",\"None\",\"None\",\"None\",\"None\",\"None\",\"None\",\"None\",\"None\",\"None\",\"None\",\"None\",\"None\",\"None\",\"None\",\"None\",\"None\",\"None\",\"None\",\"Once\",\"None\",\"None\",\"None\",\"None\",\"None\",\"None\",\"None\",\"None\",\"None\",\"None\",\"None\",\"None\",\"None\",\"None\",\"None\",\"None\",\"None\",\"None\",\"None\",\"Once\",\"None\",\"None\",\"Several\",\"None\",\"None\",\"None\",\"None\",\"None\",\"None\",\"None\",\"None\",\"None\",\"None\",\"None\",\"None\",\"None\",\"None\",\"None\",\"None\",\"None\",\"Once\",\"None\",\"None\",\"None\",\"Once\",\"None\",\"None\",\"Once\",\"None\",\"None\",\"None\",\"None\",\"None\",\"None\",\"None\",\"None\",\"None\",\"None\",\"None\",\"None\",\"None\",\"None\",\"None\",\"None\",\"None\",\"None\",\"None\",\"None\",\"None\",\"None\",\"None\",\"None\",\"None\",\"None\",\"None\",\"None\",\"None\",\"None\",\"None\",\"None\",\"None\",\"None\",\"None\",\"None\",\"None\",\"None\",\"None\",\"None\",\"None\",\"None\",\"None\",\"None\",\"None\",\"None\",\"None\",\"None\",\"None\",\"None\",\"None\",\"None\",\"None\",\"None\",\"None\",\"None\",\"None\",\"None\",\"None\",\"None\",\"None\",\"None\",\"None\",\"None\",\"None\",\"None\",\"None\",\"None\",\"None\",\"None\",\"None\",\"None\",\"None\",\"None\",\"None\",\"None\",\"None\",\"None\",\"None\",\"None\",\"None\",\"None\",\"None\",\"None\",\"None\",\"None\",\"None\",\"None\",\"None\",\"None\",\"None\",\"None\",\"None\",\"None\",\"None\",\"None\",\"None\",\"None\",\"None\",\"None\",\"None\",\"None\",\"None\",\"None\",\"None\",\"None\",\"None\",\"None\",\"Several\",\"None\",\"Once\",\"None\",\"Once\",\"None\",\"None\",\"None\",\"None\",\"None\",\"None\",\"None\",\"None\",\"None\",\"None\",\"Once\",\"None\",\"None\",\"None\",\"None\",\"None\",\"None\",\"None\",\"None\",\"None\",\"None\",\"None\",\"None\",\"None\",\"None\",\"None\",\"None\",\"None\",\"None\",\"None\",\"None\",\"None\",\"None\",\"None\",\"None\",\"None\",\"None\",\"None\",\"None\",\"None\",\"None\",\"None\",\"None\",\"None\",\"None\",\"None\",\"None\",\"None\",\"None\",\"None\",\"None\",\"None\",\"None\",\"None\",\"None\",\"None\",\"None\",\"None\",\"Once\",\"None\",\"None\",\"None\",\"None\",\"None\",\"None\",\"None\",\"None\",\"None\",\"None\",\"None\",\"None\",\"None\",\"None\",\"None\",\"None\",\"None\",\"Once\",\"None\",\"None\",\"None\",\"None\",\"None\",\"None\",\"None\",\"None\",\"None\",\"None\",\"None\",\"None\",\"None\",\"None\",\"None\",\"None\",\"None\",\"None\",\"None\",\"None\",\"None\",\"None\",\"None\",\"None\",\"None\",\"None\",\"None\",\"None\",\"None\",\"None\",\"None\",\"None\",\"None\",\"None\",\"None\",\"None\",\"None\",\"None\",\"None\",\"None\",\"None\",\"None\",\"None\",\"Several\",\"None\",\"None\",\"None\",\"None\",\"None\",\"None\",\"Once\",\"None\",\"None\",\"None\",\"None\",\"None\",\"None\",\"None\",\"None\",\"Once\",\"None\",\"None\",\"None\",\"None\",\"None\",\"None\",\"None\",\"None\",\"None\",\"None\",\"None\",\"None\",\"None\",\"None\",\"None\",\"None\",\"None\",\"None\",\"None\",\"None\",\"None\",\"None\",\"None\",\"None\",\"None\",\"None\",\"None\",\"None\",\"None\",\"None\",\"None\",\"None\",\"None\",\"Once\",\"None\",\"None\",\"None\",\"Once\",\"None\",\"None\",\"None\",\"None\",\"None\",\"None\",\"None\",\"None\",\"None\",\"None\",\"Dozens\",\"Several\",\"None\",\"None\",\"None\",\"None\",\"None\",\"None\",\"None\",\"None\",\"None\",\"None\",\"None\",\"None\",\"None\",\"None\",\"None\",\"None\",\"None\",\"None\",\"None\",\"None\",\"None\",\"None\",\"None\",\"None\",\"None\",\"None\",\"None\",\"None\",\"None\",\"None\",\"None\",\"None\",\"None\",\"None\",\"None\",\"None\",\"None\",\"Once\",\"None\",\"None\",\"None\",\"None\",\"None\",\"None\",\"None\",\"None\",\"None\",\"None\",\"Once\",\"None\",\"None\",\"None\",\"None\",\"None\",\"None\",\"None\",\"None\",\"None\",\"None\",\"None\",\"None\",\"None\",\"Several\",\"None\",\"None\",\"None\",\"None\",\"None\",\"None\",\"None\",\"None\",\"None\",\"None\",\"None\",\"None\",\"None\",\"None\",\"None\",\"None\",\"None\",\"None\",\"None\",\"None\",\"None\",\"None\",\"Once\",\"None\",\"None\",\"None\",\"None\",\"None\",\"None\",\"None\",\"None\",\"None\",\"None\",\"None\",\"None\",\"None\",\"None\",\"None\",\"None\",\"None\",\"None\",\"None\",\"None\",\"None\",\"None\",\"Several\",\"None\",\"None\",\"None\",\"None\",\"None\",\"None\",\"None\",\"None\",\"None\",\"None\",\"None\",\"None\",\"None\",\"None\",\"None\",\"None\",\"None\",\"None\",\"None\",\"None\",\"None\",\"None\",\"None\",\"None\",\"None\",\"None\",\"None\",\"None\",\"None\",\"None\",\"Once\",\"None\",\"None\",\"None\",\"None\",\"None\",\"None\",\"None\",\"None\",\"None\",\"None\",\"None\",\"None\",\"None\",\"None\",\"None\",\"None\",\"None\",\"None\",\"None\",\"None\",\"None\",\"None\",\"None\",\"None\",\"None\",\"None\",\"None\",\"None\",\"Once\",\"Once\",\"None\",\"None\",\"None\",\"None\",\"None\",\"None\",\"None\",\"None\",\"None\",\"None\",\"None\",\"None\",\"None\",\"None\",\"None\",\"None\",\"None\",\"None\",\"None\",\"None\",\"None\",\"None\",\"None\",\"None\",\"None\",\"None\",\"None\",\"None\",\"None\",\"None\",\"None\",\"None\",\"None\",\"None\",\"None\",\"None\",\"None\",\"None\",\"None\",\"None\",\"None\",\"None\",\"None\",\"None\",\"None\",\"None\",\"None\",\"None\",\"None\",\"None\",\"None\",\"None\",\"None\",\"None\",\"None\",\"None\",\"None\",\"None\",\"None\",\"None\",\"None\",\"None\",\"None\",\"None\",\"None\",\"None\",\"None\",\"None\",\"None\",\"None\",\"None\",\"None\",\"None\",\"None\",\"None\",\"None\",\"None\",\"None\",\"None\",\"None\",\"None\",\"None\",\"None\",\"None\",\"None\",\"None\",\"None\",\"None\",\"None\",\"None\",\"None\",\"None\",\"None\",\"Several\",\"None\",\"None\",\"None\",\"None\",\"None\",\"None\",\"None\",\"None\",\"None\",\"None\",\"None\",\"None\",\"None\",\"None\",\"None\",\"None\",\"None\",\"None\",\"Several\",\"None\",\"None\",\"None\",\"None\",\"None\",\"None\",\"None\",\"None\",\"None\",\"None\",\"None\",\"None\",\"None\",\"None\",\"None\",\"None\",\"None\",\"None\",\"None\",\"None\",\"None\",\"None\",\"Several\",\"None\",\"None\",\"None\",\"None\",\"None\",\"None\",\"None\",\"None\",\"None\",\"None\",\"None\",\"None\",\"None\",\"None\",\"None\",\"None\",\"None\",\"None\",\"None\",\"None\",\"None\",\"None\",\"None\",\"None\",\"None\",\"None\",\"None\",\"None\",\"None\",\"None\",\"None\",\"None\",\"None\",\"None\",\"Once\",\"None\",\"None\",\"None\",\"None\",\"None\",\"None\",\"None\",\"None\",\"None\",\"None\",\"None\",\"None\",\"Several\",\"None\",\"None\",\"None\",\"None\",\"None\",\"None\",\"None\",\"None\",\"None\",\"None\",\"None\",\"Once\",\"None\",\"None\",\"None\",\"None\",\"None\",\"None\",\"None\",\"None\",\"None\",\"None\",\"None\",\"None\",\"None\",\"None\",\"None\",\"None\",\"None\",\"None\",\"None\",\"None\",\"None\",\"None\",\"None\",\"None\",\"None\",\"None\",\"None\",\"None\",\"None\",\"None\",\"None\",\"None\",\"None\",\"None\",\"None\",\"Once\",\"None\",\"None\",\"None\",\"Once\",\"None\",\"None\",\"None\",\"None\",\"None\",\"None\",\"None\",\"Once\",\"None\",\"None\",\"None\",\"None\",\"None\",\"None\",\"None\",\"None\",\"None\",\"None\",\"None\",\"None\",\"None\",\"Once\",\"None\",\"None\",\"None\",\"None\",\"None\",\"None\",\"None\",\"None\",\"None\",\"None\",\"None\",\"None\",\"None\",\"None\",\"None\",\"None\",\"None\",\"None\",\"None\",\"None\",\"None\",\"None\",\"None\",\"None\",\"None\",\"None\",\"None\",\"None\",\"None\",\"None\",\"None\",\"None\",\"None\",\"Once\",\"None\",\"None\",\"None\",\"None\",\"None\",\"None\",\"None\",\"None\",\"None\",\"None\",\"None\",\"None\",\"Once\",\"None\",\"None\",\"None\",\"None\",\"None\",\"None\",\"None\",\"None\",\"None\",\"None\",\"None\",\"None\",\"None\",\"None\",\"None\",\"None\",\"Once\",\"None\",\"None\",\"None\",\"None\",\"None\",\"None\",\"None\",\"None\",\"None\",\"None\",\"None\",\"None\",\"None\",\"None\",\"Dozens\",\"None\",\"None\",\"None\",\"None\",\"None\",\"None\",\"None\",\"None\",\"None\",\"None\",\"Once\",\"None\",\"None\",\"None\",\"None\",\"None\",\"None\",\"Several\",\"None\",\"None\",\"None\",\"None\",\"None\",\"None\",\"None\",\"None\",\"None\",\"None\",\"None\",\"None\",\"None\",\"None\",\"Once\",\"None\",\"Once\",\"None\",\"None\",\"None\",\"None\",\"None\",\"None\",\"Once\",\"None\",\"Several\",\"None\",\"None\",\"None\",\"None\",\"None\",\"None\",\"None\",\"None\",\"None\",\"Once\",\"None\",\"None\",\"None\",\"None\",\"None\",\"None\",\"None\",\"None\",\"None\",\"None\",\"None\",\"None\",\"None\",\"None\",\"None\",\"None\",\"None\",\"None\",\"None\",\"None\",\"None\",\"None\",\"None\",\"None\",\"None\",\"None\",\"None\",\"None\",\"None\",\"Once\",\"None\",\"None\",\"None\",\"None\",\"None\",\"None\",\"None\",\"None\",\"None\",\"None\",\"None\",\"None\",\"None\",\"None\",\"None\",\"None\",\"None\",\"None\",\"None\",\"None\",\"None\",\"None\",\"None\",\"None\",\"None\",\"None\",\"None\",\"None\",\"None\",\"None\",\"None\",\"None\",\"None\",\"None\",\"None\",\"None\",\"None\",\"None\",\"None\",\"None\",\"None\",\"None\",\"None\",\"None\",\"Once\",\"None\",\"None\",\"None\",\"None\",\"None\",\"None\",\"None\",\"None\",\"None\",\"None\",\"None\",\"None\",\"None\",\"None\",\"None\",\"None\",\"None\",\"None\",\"None\",\"None\",\"None\",\"None\",\"None\",\"None\",\"None\",\"None\",\"Several\",\"Dozens\",\"Once\",\"None\",\"None\",\"None\",\"None\",\"None\",\"None\",\"Once\",\"None\",\"None\",\"None\",\"None\",\"None\",\"None\",\"None\",\"None\",\"None\",\"None\",\"None\",\"None\",\"None\",\"None\",\"None\",\"None\",\"None\",\"None\",\"None\",\"None\",\"None\",\"None\",\"None\",\"None\",\"None\",\"None\",\"None\",\"None\",\"None\",\"None\",\"None\",\"None\",\"None\",\"None\",\"None\",\"None\",\"None\",\"None\",\"None\",\"None\",\"None\",\"None\",\"None\",\"None\",\"None\",\"None\",\"None\",\"None\",\"None\",\"None\",\"None\",\"None\",\"None\",\"None\",\"None\",\"None\",\"None\",\"None\",\"Once\",\"Once\",\"Once\",\"Once\",\"None\",\"Several\",\"None\",\"None\",\"None\",\"None\",\"Several\",\"None\",\"Once\",\"None\",\"None\",\"None\",\"Once\",\"None\",\"None\",\"None\",\"Several\",\"None\",\"None\",\"None\",\"None\",\"None\",\"None\",\"None\",\"None\",\"None\",\"None\",\"None\",\"None\",\"None\",\"None\",\"None\",\"None\",\"None\",\"None\",\"None\",\"None\",\"Once\",\"Several\",\"None\",\"None\",\"None\",\"None\",\"Several\",\"None\",\"None\",\"None\",\"None\",\"None\",\"None\",\"None\",\"None\",\"None\",\"None\",\"None\",\"Several\",\"None\",\"None\",\"None\",\"None\",\"None\",\"None\",\"None\",\"None\",\"None\",\"None\",\"None\",\"None\",\"None\",\"None\",\"None\",\"None\",\"None\",\"None\",\"None\",\"Dozens\",\"None\",\"None\",\"None\",\"None\",\"None\",\"None\",\"None\",\"None\",\"None\",\"None\",\"None\",\"None\",\"None\",\"None\",\"None\",\"None\",\"None\",\"None\",\"None\",\"None\",\"None\",\"None\",\"None\",\"None\",\"None\",\"None\",\"None\",\"None\",\"Once\",\"None\",\"None\",\"None\",\"None\",\"None\",\"None\",\"None\",\"None\",\"None\",\"None\",\"None\",\"None\",\"None\",\"None\",\"Dozens\",\"None\",\"None\",\"None\",\"None\",\"Once\",\"None\",\"None\",\"None\",\"None\",\"None\",\"None\",\"None\",\"None\",\"None\",\"None\",\"None\",\"None\",\"None\",\"None\",\"None\",\"None\",\"None\",\"Once\",\"None\",\"None\",\"None\",\"None\",\"None\",\"None\",\"None\",\"None\",\"None\",\"None\",\"None\",\"None\",\"None\",\"None\",\"None\",\"None\",\"None\",\"None\",\"None\",\"None\",\"None\",\"None\",\"None\",\"None\",\"None\",\"None\",\"None\",\"None\",\"Once\",\"None\",\"None\",\"None\",\"None\",\"None\",\"None\",\"None\",\"None\",\"None\",\"None\",\"None\",\"Once\",\"Once\",\"None\",\"None\",\"None\",\"None\",\"None\",\"None\",\"None\",\"None\",\"Several\",\"None\",\"None\",\"None\",\"None\",\"None\",\"None\",\"None\",\"None\",\"None\",\"None\",\"None\",\"None\",\"None\",\"None\",\"None\",\"None\",\"None\",\"None\",\"None\",\"None\",\"None\",\"None\",\"Once\",\"None\",\"None\",\"None\",\"None\",\"None\",\"Several\",\"None\",\"None\",\"None\",\"None\",\"None\",\"None\",\"None\",\"Once\",\"None\",\"None\",\"None\",\"None\",\"None\",\"None\",\"None\",\"None\",\"None\",\"None\",\"None\",\"None\",\"None\",\"None\",\"None\",\"None\",\"None\",\"None\",\"Once\",\"None\",\"None\",\"None\",\"None\",\"None\",\"None\",\"None\",\"None\",\"Once\",\"None\",\"None\",\"None\",\"None\",\"None\",\"None\",\"None\",\"None\",\"None\",\"None\",\"None\",\"None\",\"None\",\"None\",\"None\",\"None\",\"None\",\"None\",\"None\",\"None\",\"None\",\"None\",\"None\",\"None\",\"None\",\"None\",\"None\",\"None\",\"None\",\"None\",\"None\",\"None\",\"None\",\"None\",\"None\",\"None\",\"None\",\"None\",\"None\",\"Once\",\"None\",\"None\",\"None\",\"None\",\"Several\",\"None\",\"Once\",\"None\",\"None\",\"None\",\"None\",\"None\",\"None\",\"None\",\"None\",\"None\",\"None\",\"None\",\"None\",\"None\",\"None\",\"None\",\"None\",\"None\",\"None\",\"None\",\"None\",\"None\",\"None\",\"None\",\"None\",\"None\",\"None\",\"Several\",\"None\",\"None\",\"None\",\"None\",\"None\",\"None\",\"None\",\"None\",\"None\",\"None\",\"None\",\"None\",\"None\",\"None\",\"None\",\"None\",\"None\",\"None\",\"None\",\"None\",\"None\",\"Once\",\"None\",\"None\",\"None\",\"None\",\"None\",\"None\",\"None\",\"None\",\"None\",\"None\",\"None\",\"None\",\"None\",\"None\",\"None\",\"None\",\"None\",\"None\",\"None\",\"None\",\"None\",\"None\",\"None\",\"None\",\"None\",\"None\",\"None\",\"None\",\"None\",\"None\",\"None\",\"None\",\"None\",\"None\",\"None\",\"None\",\"None\",\"None\",\"None\",\"None\",\"None\",\"None\",\"None\",\"None\",\"None\",\"None\",\"None\",\"None\",\"None\",\"None\",\"None\",\"None\",\"None\",\"None\",\"None\",\"None\",\"None\",\"Once\",\"None\",\"None\",\"None\",\"None\",\"Several\",\"Several\",\"None\",\"None\",\"None\",\"None\",\"Dozens\",\"None\",\"None\",\"None\",\"None\",\"None\",\"None\",\"None\",\"None\",\"None\",\"None\",\"Several\",\"None\",\"None\",\"None\",\"None\",\"None\",\"None\",\"Several\",\"None\",\"None\",\"None\",\"Several\",\"None\",\"None\",\"None\",\"None\",\"None\",\"None\",\"None\",\"None\",\"None\",\"None\",\"Once\",\"Several\",\"None\",\"None\",\"Once\",\"None\",\"None\",\"None\",\"None\",\"None\",\"None\",\"None\",\"Several\",\"Once\",\"Once\",\"None\",\"Once\",\"None\",\"None\",\"None\",\"None\",\"None\",\"None\",\"None\",\"None\",\"None\",\"None\",\"None\",\"None\",\"None\",\"None\",\"None\",\"None\",\"None\",\"None\",\"None\",\"None\",\"None\",\"None\",\"None\",\"Dozens\",\"None\",\"Once\",\"Several\",\"Once\",\"None\",\"None\",\"None\",\"None\",\"None\",\"Once\",\"None\",\"None\",\"None\",\"None\",\"Once\",\"None\",\"None\",\"Several\",\"None\",\"None\",\"None\",\"None\",\"None\",\"None\",\"None\",\"None\",\"None\",\"None\",\"None\",\"Dozens\",\"None\",\"Once\",\"Once\",\"None\",\"Several\",\"None\",\"None\",\"None\",\"Once\",\"None\",\"None\",\"None\",\"None\",\"Once\",\"None\",\"None\",\"None\",\"None\",\"Once\",\"None\",\"None\",\"None\",\"Dozens\",\"None\",\"None\",\"Once\",\"None\",\"None\",\"None\",\"None\",\"None\",\"None\",\"None\",\"None\",\"None\",\"None\",\"None\",\"Several\",\"None\",\"None\",\"None\",\"None\",\"Several\",\"None\",\"Once\",\"None\",\"None\",\"None\",\"None\",\"None\",\"None\",\"None\",\"None\",\"None\",\"None\",\"None\",\"None\",\"None\",\"None\",\"None\",\"None\",\"None\",\"None\",\"None\",\"None\",\"None\",\"None\",\"None\",\"None\",\"None\",\"None\",\"None\",\"None\",\"None\",\"None\",\"None\",\"None\",\"None\",\"None\",\"None\",\"None\",\"None\",\"None\",\"Once\",\"None\",\"None\",\"None\",\"None\",\"None\",\"Several\",\"None\",\"None\",\"None\",\"None\",\"None\",\"None\",\"None\",\"None\",\"Several\",\"None\",\"None\",\"None\",\"Once\",\"None\",\"None\",\"None\",\"None\",\"None\",\"None\",\"None\",\"None\",\"None\",\"None\",\"None\",\"Several\",\"None\",\"None\",\"None\",\"None\",\"None\",\"None\",\"None\",\"None\",\"None\",\"None\",\"None\",\"None\",\"None\",\"None\",\"None\",\"None\",\"None\",\"None\",\"None\",\"None\",\"None\",\"None\",\"None\",\"None\",\"None\",\"None\",\"None\",\"None\",\"None\",\"None\",\"None\",\"None\",\"None\",\"None\",\"None\",\"None\",\"None\",\"None\",\"None\",\"None\",\"None\",\"None\",\"None\",\"None\",\"None\",\"None\",\"None\",\"None\",\"None\",\"None\",\"None\",\"None\",\"None\",\"None\",\"None\",\"None\",\"None\",\"None\",\"None\",\"None\",\"None\",\"None\",\"None\",\"None\",\"None\",\"None\",\"None\",\"None\",\"None\",\"Once\",\"Once\",\"None\",\"None\",\"None\",\"None\",\"None\",\"None\",\"None\",\"None\",\"None\",\"None\",\"None\",\"None\",\"Once\",\"None\",\"None\",\"None\",\"None\",\"None\",\"None\",\"None\",\"None\",\"None\",\"None\",\"None\",\"None\",\"None\",\"None\",\"None\",\"None\",\"None\",\"None\",\"Once\",\"None\",\"None\",\"None\",\"None\",\"None\",\"None\",\"None\",\"None\",\"None\",\"None\",\"None\",\"None\",\"None\",\"None\",\"None\",\"None\",\"None\",\"None\",\"None\",\"None\",\"None\",\"Once\",\"None\",\"None\",\"None\",\"None\",\"Several\",\"None\",\"None\",\"None\",\"None\",\"None\",\"None\",\"None\",\"None\",\"None\",\"None\",\"None\",\"None\",\"None\",\"None\",\"None\",\"None\",\"None\",\"None\",\"None\",\"None\",\"None\",\"None\",\"None\",\"None\",\"None\",\"None\",\"None\",\"None\",\"None\",\"None\",\"None\",\"None\",\"None\",\"None\",\"None\"],\"y\":[1800.0,1802.0,1802.0,1802.0,1802.0,1802.0,1802.0,1802.0,1804.0,1804.0,1804.0,1804.0,1804.0,1805.0,1805.0,1805.0,1806.0,1806.0,1806.0,1806.0,1808.0,1808.0,1808.0,1809.0,1809.0,1809.0,1809.0,1810.0,1810.0,1810.0,1810.0,1810.0,1811.0,1811.0,1811.0,1812.0,1812.0,1812.0,1812.0,1812.0,1812.0,1812.0,1813.0,1813.0,1814.0,1815.0,1815.0,1815.0,1816.0,1816.0,1816.0,1817.0,1817.0,1817.0,1817.0,1818.0,1818.0,1818.0,1818.0,1818.0,1818.0,1819.0,1819.0,1819.0,1819.0,1819.0,1820.0,1820.0,1820.0,1820.0,1820.0,1820.0,1820.0,1820.0,1821.0,1821.0,1821.0,1821.0,1821.0,1822.0,1822.0,1822.0,1822.0,1822.0,1823.0,1823.0,1823.0,1823.0,1823.0,1823.0,1824.0,1824.0,1824.0,1825.0,1825.0,1825.0,1825.0,1825.0,1825.0,1826.0,1826.0,1826.0,1826.0,1827.0,1827.0,1827.0,1827.0,1827.0,1828.0,1828.0,1828.0,1828.0,1828.0,1828.0,1829.0,1829.0,1830.0,1830.0,1830.0,1831.0,1831.0,1831.0,1831.0,1832.0,1833.0,1833.0,1833.0,1833.0,1833.0,1833.0,1834.0,1834.0,1835.0,1835.0,1835.0,1835.0,1836.0,1836.0,1836.0,1836.0,1836.0,1836.0,1837.0,1837.0,1837.0,1837.0,1837.0,1837.0,1837.0,1837.0,1838.0,1838.0,1839.0,1839.0,1839.0,1839.0,1840.0,1840.0,1840.0,1840.0,1840.0,1840.0,1840.0,1840.0,1840.0,1841.0,1841.0,1841.0,1841.0,1842.0,1842.0,1842.0,1843.0,1843.0,1843.0,1843.0,1843.0,1843.0,1843.0,1843.0,1843.0,1844.0,1844.0,1844.0,1844.0,1845.0,1845.0,1845.0,1845.0,1845.0,1845.0,1845.0,1845.0,1846.0,1846.0,1846.0,1846.0,1846.0,1846.0,1846.0,1846.0,1846.0,1846.0,1846.0,1846.0,1846.0,1846.0,1846.0,1846.0,1847.0,1847.0,1847.0,1847.0,1847.0,1847.0,1847.0,1847.0,1847.0,1848.0,1848.0,1848.0,1848.0,1848.0,1848.0,1849.0,1849.0,1849.0,1850.0,1850.0,1850.0,1850.0,1850.0,1851.0,1851.0,1851.0,1851.0,1851.0,1851.0,1851.0,1851.0,1851.0,1851.0,1851.0,1851.0,1852.0,1852.0,1852.0,1852.0,1852.0,1852.0,1852.0,1852.0,1852.0,1852.0,1852.0,1852.0,1852.0,1852.0,1852.0,1852.0,1852.0,1852.0,1852.0,1852.0,1853.0,1853.0,1853.0,1853.0,1853.0,1853.0,1853.0,1853.0,1853.0,1854.0,1854.0,1854.0,1854.0,1854.0,1854.0,1854.0,1854.0,1854.0,1854.0,1854.0,1854.0,1854.0,1854.0,1854.0,1854.0,1854.0,1854.0,1854.0,1854.0,1854.0,1855.0,1855.0,1855.0,1855.0,1855.0,1855.0,1855.0,1855.0,1855.0,1855.0,1855.0,1855.0,1855.0,1855.0,1855.0,1855.0,1856.0,1856.0,1856.0,1856.0,1856.0,1856.0,1856.0,1856.0,1856.0,1856.0,1856.0,1856.0,1856.0,1857.0,1857.0,1857.0,1857.0,1857.0,1857.0,1857.0,1857.0,1858.0,1858.0,1858.0,1858.0,1858.0,1858.0,1858.0,1858.0,1859.0,1859.0,1859.0,1859.0,1859.0,1859.0,1859.0,1859.0,1859.0,1859.0,1859.0,1859.0,1859.0,1859.0,1859.0,1859.0,1860.0,1860.0,1860.0,1860.0,1860.0,1860.0,1860.0,1861.0,1861.0,1861.0,1861.0,1861.0,1861.0,1861.0,1861.0,1861.0,1861.0,1861.0,1861.0,1861.0,1862.0,1862.0,1862.0,1862.0,1862.0,1862.0,1862.0,1862.0,1863.0,1863.0,1863.0,1863.0,1863.0,1863.0,1864.0,1864.0,1864.0,1864.0,1865.0,1865.0,1865.0,1865.0,1865.0,1865.0,1865.0,1865.0,1865.0,1865.0,1866.0,1866.0,1866.0,1866.0,1866.0,1866.0,1866.0,1866.0,1866.0,1866.0,1866.0,1866.0,1866.0,1866.0,1866.0,1867.0,1867.0,1867.0,1867.0,1867.0,1867.0,1867.0,1867.0,1867.0,1867.0,1867.0,1867.0,1867.0,1868.0,1868.0,1868.0,1868.0,1868.0,1868.0,1868.0,1868.0,1868.0,1868.0,1868.0,1868.0,1868.0,1868.0,1868.0,1868.0,1868.0,1868.0,1868.0,1868.0,1868.0,1868.0,1868.0,1869.0,1869.0,1869.0,1869.0,1869.0,1869.0,1869.0,1869.0,1869.0,1869.0,1869.0,1869.0,1869.0,1869.0,1869.0,1869.0,1869.0,1869.0,1869.0,1869.0,1870.0,1870.0,1870.0,1870.0,1870.0,1870.0,1870.0,1870.0,1870.0,1870.0,1870.0,1870.0,1871.0,1871.0,1871.0,1871.0,1871.0,1871.0,1871.0,1871.0,1871.0,1871.0,1871.0,1871.0,1871.0,1871.0,1871.0,1871.0,1871.0,1871.0,1872.0,1872.0,1872.0,1872.0,1872.0,1872.0,1872.0,1872.0,1872.0,1872.0,1872.0,1872.0,1872.0,1872.0,1873.0,1873.0,1873.0,1873.0,1873.0,1873.0,1874.0,1874.0,1874.0,1874.0,1874.0,1875.0,1875.0,1875.0,1875.0,1875.0,1875.0,1876.0,1876.0,1876.0,1876.0,1877.0,1877.0,1877.0,1877.0,1877.0,1877.0,1877.0,1877.0,1877.0,1877.0,1877.0,1877.0,1877.0,1877.0,1878.0,1878.0,1878.0,1878.0,1878.0,1878.0,1878.0,1878.0,1878.0,1878.0,1878.0,1878.0,1878.0,1878.0,1878.0,1878.0,1878.0,1878.0,1878.0,1878.0,1878.0,1878.0,1878.0,1879.0,1879.0,1879.0,1879.0,1879.0,1879.0,1879.0,1880.0,1880.0,1880.0,1880.0,1880.0,1880.0,1880.0,1880.0,1880.0,1880.0,1881.0,1881.0,1881.0,1881.0,1881.0,1881.0,1881.0,1881.0,1881.0,1881.0,1881.0,1882.0,1882.0,1882.0,1882.0,1882.0,1882.0,1882.0,1882.0,1882.0,1883.0,1883.0,1883.0,1883.0,1883.0,1883.0,1883.0,1883.0,1883.0,1884.0,1884.0,1884.0,1884.0,1884.0,1884.0,1884.0,1884.0,1884.0,1884.0,1884.0,1885.0,1885.0,1885.0,1885.0,1885.0,1885.0,1885.0,1885.0,1885.0,1886.0,1886.0,1886.0,1886.0,1886.0,1886.0,1886.0,1887.0,1887.0,1887.0,1887.0,1887.0,1887.0,1887.0,1887.0,1888.0,1888.0,1888.0,1888.0,1888.0,1888.0,1888.0,1889.0,1889.0,1889.0,1889.0,1889.0,1889.0,1889.0,1889.0,1889.0,1890.0,1891.0,1891.0,1891.0,1891.0,1891.0,1891.0,1891.0,1891.0,1891.0,1892.0,1892.0,1892.0,1892.0,1892.0,1892.0,1892.0,1892.0,1892.0,1892.0,1892.0,1893.0,1893.0,1893.0,1893.0,1893.0,1893.0,1893.0,1893.0,1893.0,1893.0,1894.0,1894.0,1894.0,1894.0,1894.0,1894.0,1894.0,1894.0,1894.0,1895.0,1895.0,1895.0,1895.0,1895.0,1895.0,1895.0,1895.0,1895.0,1895.0,1895.0,1895.0,1895.0,1896.0,1896.0,1896.0,1896.0,1896.0,1896.0,1896.0,1896.0,1897.0,1897.0,1897.0,1897.0,1897.0,1897.0,1897.0,1897.0,1897.0,1897.0,1897.0,1897.0,1897.0,1897.0,1897.0,1898.0,1898.0,1898.0,1898.0,1898.0,1899.0,1899.0,1899.0,1899.0,1899.0,1899.0,1899.0,1899.0,1899.0,1899.0,1899.0,1899.0,1899.0,1899.0,1900.0,1900.0,1900.0,1900.0,1900.0,1900.0,1901.0,1901.0,1901.0,1901.0,1901.0,1901.0,1901.0,1901.0,1901.0,1901.0,1901.0,1902.0,1902.0,1902.0,1902.0,1902.0,1902.0,1902.0,1902.0,1902.0,1902.0,1902.0,1902.0,1902.0,1902.0,1903.0,1903.0,1903.0,1903.0,1903.0,1903.0,1903.0,1903.0,1903.0,1903.0,1903.0,1903.0,1903.0,1903.0,1904.0,1904.0,1904.0,1904.0,1904.0,1904.0,1904.0,1904.0,1904.0,1904.0,1904.0,1905.0,1905.0,1905.0,1905.0,1905.0,1905.0,1905.0,1905.0,1905.0,1905.0,1905.0,1905.0,1905.0,1905.0,1905.0,1905.0,1905.0,1905.0,1905.0,1906.0,1906.0,1906.0,1906.0,1906.0,1906.0,1906.0,1906.0,1906.0,1906.0,1906.0,1906.0,1906.0,1906.0,1906.0,1906.0,1906.0,1906.0,1907.0,1907.0,1907.0,1907.0,1907.0,1907.0,1907.0,1907.0,1907.0,1907.0,1907.0,1907.0,1907.0,1907.0,1908.0,1908.0,1908.0,1908.0,1908.0,1908.0,1908.0,1908.0,1908.0,1909.0,1909.0,1909.0,1909.0,1909.0,1909.0,1909.0,1909.0,1909.0,1909.0,1909.0,1910.0,1910.0,1910.0,1910.0,1910.0,1910.0,1910.0,1911.0,1911.0,1911.0,1911.0,1911.0,1911.0,1911.0,1911.0,1911.0,1912.0,1912.0,1912.0,1912.0,1912.0,1912.0,1913.0,1913.0,1913.0,1913.0,1913.0,1913.0,1913.0,1913.0,1914.0,1914.0,1914.0,1914.0,1914.0,1914.0,1914.0,1914.0,1914.0,1914.0,1914.0,1915.0,1915.0,1915.0,1915.0,1915.0,1915.0,1915.0,1915.0,1915.0,1916.0,1916.0,1916.0,1916.0,1916.0,1916.0,1917.0,1917.0,1917.0,1917.0,1917.0,1917.0,1917.0,1917.0,1917.0,1917.0,1917.0,1917.0,1917.0,1917.0,1917.0,1917.0,1918.0,1918.0,1918.0,1918.0,1918.0,1918.0,1918.0,1918.0,1918.0,1918.0,1918.0,1919.0,1919.0,1919.0,1919.0,1919.0,1919.0,1919.0,1919.0,1919.0,1919.0,1919.0,1919.0,1919.0,1919.0,1919.0,1919.0,1920.0,1920.0,1920.0,1920.0,1920.0,1920.0,1920.0,1921.0,1921.0,1921.0,1921.0,1921.0,1922.0,1922.0,1922.0,1922.0,1922.0,1922.0,1922.0,1922.0,1922.0,1922.0,1922.0,1922.0,1922.0,1922.0,1923.0,1923.0,1923.0,1923.0,1923.0,1923.0,1923.0,1923.0,1923.0,1923.0,1923.0,1923.0,1923.0,1923.0,1923.0,1923.0,1923.0,1923.0,1923.0,1924.0,1924.0,1924.0,1924.0,1924.0,1924.0,1924.0,1924.0,1924.0,1924.0,1924.0,1924.0,1925.0,1925.0,1925.0,1925.0,1925.0,1925.0,1925.0,1925.0,1925.0,1925.0,1925.0,1925.0,1926.0,1926.0,1926.0,1926.0,1926.0,1926.0,1926.0,1926.0,1926.0,1926.0,1926.0,1926.0,1926.0,1926.0,1927.0,1927.0,1927.0,1927.0,1927.0,1927.0,1927.0,1927.0,1927.0,1927.0,1927.0,1927.0,1927.0,1927.0,1927.0,1928.0,1928.0,1928.0,1928.0,1928.0,1928.0,1928.0,1928.0,1928.0,1928.0,1928.0,1928.0,1928.0,1928.0,1928.0,1928.0,1928.0,1928.0,1928.0,1928.0,1928.0,1928.0,1928.0,1928.0,1928.0,1929.0,1929.0,1929.0,1929.0,1929.0,1929.0,1929.0,1929.0,1929.0,1929.0,1930.0,1930.0,1930.0,1930.0,1930.0,1930.0,1930.0,1930.0,1930.0,1930.0,1930.0,1930.0,1930.0,1930.0,1930.0,1930.0,1930.0,1931.0,1931.0,1931.0,1931.0,1931.0,1931.0,1931.0,1931.0,1931.0,1931.0,1931.0,1931.0,1931.0,1932.0,1932.0,1932.0,1932.0,1932.0,1932.0,1932.0,1932.0,1932.0,1932.0,1932.0,1933.0,1933.0,1933.0,1933.0,1933.0,1933.0,1933.0,1933.0,1933.0,1933.0,1934.0,1934.0,1934.0,1934.0,1934.0,1934.0,1934.0,1934.0,1934.0,1934.0,1934.0,1935.0,1935.0,1935.0,1935.0,1935.0,1935.0,1935.0,1935.0,1935.0,1935.0,1935.0,1936.0,1936.0,1936.0,1936.0,1936.0,1936.0,1936.0,1936.0,1936.0,1936.0,1937.0,1937.0,1937.0,1937.0,1937.0,1937.0,1938.0,1938.0,1938.0,1938.0,1938.0,1938.0,1938.0,1938.0,1938.0,1938.0,1938.0,1938.0,1938.0,1938.0,1938.0,1938.0,1938.0,1938.0,1938.0,1938.0,1938.0,1938.0,1938.0,1939.0,1939.0,1939.0,1939.0,1939.0,1939.0,1939.0,1939.0,1939.0,1939.0,1939.0,1939.0,1939.0,1939.0,1940.0,1940.0,1940.0,1940.0,1940.0,1940.0,1941.0,1941.0,1941.0,1941.0,1941.0,1941.0,1941.0,1941.0,1941.0,1941.0,1942.0,1942.0,1942.0,1943.0,1943.0,1944.0,1944.0,1944.0,1944.0,1944.0,1944.0,1945.0,1945.0,1945.0,1946.0,1946.0,1946.0,1946.0,1946.0,1946.0,1946.0,1946.0,1946.0,1947.0,1947.0,1947.0,1947.0,1947.0,1948.0,1948.0,1948.0,1948.0,1948.0,1948.0,1948.0,1948.0,1948.0,1949.0,1949.0,1949.0,1949.0,1949.0,1949.0,1949.0,1949.0,1949.0,1949.0,1949.0,1949.0,1949.0,1949.0,1949.0,1950.0,1950.0,1950.0,1950.0,1950.0,1950.0,1950.0,1950.0,1950.0,1950.0,1950.0,1950.0,1950.0,1951.0,1951.0,1951.0,1951.0,1951.0,1951.0,1951.0,1952.0,1952.0,1952.0,1952.0,1952.0,1952.0,1952.0,1952.0,1952.0,1952.0,1952.0,1952.0,1952.0,1952.0,1952.0,1952.0,1953.0,1953.0,1953.0,1953.0,1953.0,1953.0,1953.0,1953.0,1953.0,1953.0,1953.0,1953.0,1953.0,1953.0,1953.0,1953.0,1953.0,1954.0,1954.0,1954.0,1954.0,1954.0,1954.0,1954.0,1955.0,1955.0,1955.0,1955.0,1955.0,1955.0,1955.0,1956.0,1956.0,1956.0,1956.0,1956.0,1956.0,1956.0,1956.0,1956.0,1957.0,1957.0,1957.0,1957.0,1957.0,1957.0,1957.0,1957.0,1958.0,1958.0,1958.0,1958.0,1958.0,1958.0,1958.0,1958.0,1958.0,1958.0,1959.0,1959.0,1959.0,1959.0,1959.0,1959.0,1959.0,1959.0,1959.0,1960.0,1960.0,1960.0,1960.0,1960.0,1960.0,1960.0,1960.0,1960.0,1960.0,1960.0,1961.0,1961.0,1961.0,1961.0,1961.0,1961.0,1961.0,1961.0,1961.0,1961.0,1961.0,1961.0,1961.0,1961.0,1961.0,1961.0,1962.0,1962.0,1962.0,1962.0,1962.0,1962.0,1962.0,1962.0,1962.0,1963.0,1963.0,1963.0,1963.0,1963.0,1963.0,1963.0,1963.0,1963.0,1963.0,1963.0,1963.0,1964.0,1964.0,1964.0,1964.0,1964.0,1964.0,1964.0,1964.0,1964.0,1964.0,1965.0,1965.0,1965.0,1965.0,1965.0,1965.0,1965.0,1965.0,1965.0,1965.0,1965.0,1965.0,1965.0,1965.0,1965.0,1965.0,1965.0,1966.0,1966.0,1966.0,1966.0,1966.0,1966.0,1966.0,1966.0,1966.0,1966.0,1967.0,1967.0,1967.0,1967.0,1967.0,1967.0,1967.0,1967.0,1967.0,1967.0,1967.0,1968.0,1968.0,1968.0,1968.0,1968.0,1968.0,1968.0,1968.0,1968.0,1968.0,1968.0,1968.0,1968.0,1968.0,1968.0,1968.0,1969.0,1969.0,1969.0,1969.0,1969.0,1969.0,1969.0,1969.0,1969.0,1969.0,1969.0,1969.0,1969.0,1970.0,1970.0,1970.0,1970.0,1970.0,1970.0,1970.0,1970.0,1970.0,1970.0,1970.0,1970.0,1970.0,1971.0,1971.0,1971.0,1971.0,1971.0,1971.0,1971.0,1971.0,1971.0,1971.0,1971.0,1971.0,1971.0,1971.0,1971.0,1972.0,1972.0,1972.0,1972.0,1972.0,1972.0,1972.0,1972.0,1972.0,1972.0,1972.0,1973.0,1973.0,1973.0,1973.0,1973.0,1973.0,1973.0,1973.0,1974.0,1974.0,1974.0,1974.0,1974.0,1974.0,1974.0,1974.0,1974.0,1975.0,1975.0,1975.0,1975.0,1975.0,1975.0,1975.0,1975.0,1975.0,1975.0,1976.0,1976.0,1976.0,1976.0,1976.0,1977.0,1977.0,1977.0,1977.0,1977.0,1977.0,1977.0,1977.0,1977.0,1978.0,1978.0,1978.0,1978.0,1978.0,1978.0,1978.0,1978.0,1978.0,1978.0,1978.0,1978.0,1978.0,1978.0,1978.0,1978.0,1979.0,1979.0,1979.0,1979.0,1979.0,1979.0,1979.0,1979.0,1979.0,1979.0,1979.0,1979.0,1979.0,1979.0,1979.0,1980.0,1980.0,1980.0,1980.0,1980.0,1980.0,1980.0,1981.0,1981.0,1981.0,1981.0,1981.0,1981.0,1981.0,1981.0,1982.0,1982.0,1982.0,1982.0,1982.0,1982.0,1982.0,1982.0,1983.0,1983.0,1983.0,1983.0,1983.0,1983.0,1983.0,1983.0,1983.0,1983.0,1983.0,1983.0,1983.0,1984.0,1984.0,1984.0,1984.0,1984.0,1984.0,1984.0,1984.0,1985.0,1985.0,1985.0,1985.0,1985.0,1985.0,1986.0,1986.0,1986.0,1986.0,1986.0,1987.0,1987.0,1987.0,1987.0,1987.0,1987.0,1987.0,1987.0,1987.0,1987.0,1987.0,1987.0,1987.0,1987.0,1987.0,1988.0,1988.0,1988.0,1988.0,1988.0,1988.0,1988.0,1988.0,1988.0,1989.0,1989.0,1989.0,1989.0,1989.0,1989.0,1989.0,1989.0,1990.0,1990.0,1990.0,1990.0,1990.0,1990.0,1990.0,1990.0,1990.0,1991.0,1991.0,1991.0,1991.0,1991.0,1991.0,1991.0,1991.0,1992.0,1992.0,1992.0,1992.0,1992.0,1992.0,1992.0,1992.0,1992.0,1993.0,1993.0,1993.0,1993.0,1993.0,1993.0,1993.0,1993.0,1994.0,1994.0,1994.0,1994.0,1994.0,1994.0,1994.0,1994.0,1994.0,1994.0,1994.0,1994.0,1994.0,1994.0,1994.0,1994.0,1994.0,1994.0,1994.0,1994.0,1994.0,1995.0,1995.0,1995.0,1995.0,1995.0,1995.0,1995.0,1995.0,1995.0,1995.0,1995.0,1995.0,1995.0,1995.0,1995.0,1995.0,1995.0,1995.0,1996.0,1996.0,1996.0,1996.0,1996.0,1996.0,1996.0,1996.0,1996.0,1996.0,1996.0,1996.0,1996.0,1996.0,1996.0,1996.0,1997.0,1997.0,1997.0,1997.0,1997.0,1997.0,1997.0,1997.0,1997.0,1997.0,1998.0,1998.0,1998.0,1998.0,1998.0,1998.0,1999.0,1999.0,1999.0,1999.0,2000.0,2000.0,2000.0,2000.0,2000.0,2000.0,2000.0,2000.0,2000.0,2000.0,2000.0,2001.0,2001.0,2001.0,2001.0,2002.0,2002.0,2002.0,2002.0,2002.0,2002.0,2002.0,2002.0,2002.0,2002.0,2003.0,2003.0,2003.0,2003.0,2003.0,2003.0,2003.0,2003.0,2003.0,2003.0,2003.0,2003.0,2004.0,2004.0,2004.0,2004.0,2004.0,2004.0,2004.0,2004.0,2004.0,2004.0,2004.0,2005.0,2005.0,2005.0,2005.0,2005.0,2005.0,2005.0,2005.0,2006.0,2006.0,2006.0,2006.0,2006.0,2006.0,2006.0,2006.0,2006.0,2006.0,2006.0,2006.0,2006.0,2007.0,2007.0,2007.0,2007.0,2007.0,2007.0,2007.0,2007.0,2007.0,2007.0,2007.0,2007.0,2007.0,2007.0,2007.0,2007.0,2007.0,2007.0,2007.0,2007.0,2008.0,2008.0,2008.0,2008.0,2008.0,2008.0,2008.0,2008.0,2008.0,2008.0,2008.0,2008.0,2009.0,2009.0,2009.0,2009.0,2009.0,2009.0,2009.0,2009.0,2009.0,2009.0,2009.0,2009.0,2009.0,2009.0,2009.0,2009.0,2010.0,2010.0,2010.0,2010.0,2010.0,2010.0,2010.0,2010.0,2010.0,2010.0,2010.0,2010.0,2010.0,2010.0,2010.0,2010.0,2010.0,2010.0,2011.0,2011.0,2011.0,2011.0,2011.0,2011.0,2011.0,2011.0,2011.0,2011.0,2011.0,2011.0,2011.0,2011.0,2011.0,2011.0,2011.0,2012.0,2012.0,2012.0,2012.0,2012.0,2012.0,2012.0,2012.0,2012.0,2012.0,2012.0,2012.0,2012.0,2012.0,2012.0,2013.0,2013.0,2013.0,2013.0,2013.0,2013.0,2013.0,2013.0,2013.0,2013.0,2013.0,2013.0,2013.0,2014.0,2014.0,2014.0,2014.0,2014.0,2014.0,2014.0,2014.0,2014.0,2014.0,2014.0,2014.0,2014.0,2014.0,2014.0,2014.0,2014.0,2014.0,2015.0,2015.0,2015.0,2015.0,2015.0,2015.0,2015.0,2015.0,2015.0,2015.0,2015.0,2015.0,2015.0,2015.0,2015.0,2015.0,2015.0,2016.0,2016.0,2016.0,2016.0,2016.0,2016.0,2016.0,2016.0,2016.0,2016.0,2016.0,2016.0,2016.0,2016.0,2016.0,2017.0,2017.0,2017.0,2017.0,2017.0,2017.0,2017.0,2017.0,2017.0,2017.0,2017.0,2017.0,2017.0,2017.0,2017.0,2017.0,2017.0,2017.0,2017.0,2017.0,2018.0,2018.0,2018.0,2018.0,2018.0,2018.0,2018.0,2018.0,2018.0,2018.0,2018.0,2018.0,2018.0,2018.0,2018.0,2018.0,2018.0,2018.0,2018.0,2018.0,2019.0,2019.0,2019.0,2019.0,2019.0,2019.0,2019.0,2019.0,2020.0,2020.0,2020.0,2020.0,2020.0,2020.0,2020.0,2020.0,2020.0,2020.0,2020.0,2020.0,2020.0,2020.0,2021.0,2021.0,2021.0,2021.0,2021.0,2021.0,2021.0,2021.0,2021.0,2021.0,2021.0,2021.0,2021.0],\"type\":\"violin\",\"xaxis\":\"x2\",\"yaxis\":\"y2\"}],                        {\"template\":{\"data\":{\"pie\":[{\"automargin\":true,\"type\":\"pie\"}]},\"layout\":{\"xaxis\":{\"showgrid\":true,\"title\":{\"standoff\":15}},\"yaxis\":{\"showgrid\":true,\"title\":{\"standoff\":15}}}},\"xaxis\":{\"anchor\":\"y\",\"domain\":[0.0,0.45]},\"yaxis\":{\"anchor\":\"x\",\"domain\":[0.0,1.0]},\"xaxis2\":{\"anchor\":\"y2\",\"domain\":[0.55,1.0]},\"yaxis2\":{\"anchor\":\"x2\",\"domain\":[0.0,1.0],\"matches\":\"y\",\"showticklabels\":false},\"annotations\":[{\"font\":{\"size\":16},\"showarrow\":false,\"text\":\"a) Tsunami Authenticity\",\"x\":0.225,\"xanchor\":\"center\",\"xref\":\"paper\",\"y\":1.0,\"yanchor\":\"bottom\",\"yref\":\"paper\"},{\"font\":{\"size\":16},\"showarrow\":false,\"text\":\"b) Tsunami Damage Level\",\"x\":0.775,\"xanchor\":\"center\",\"xref\":\"paper\",\"y\":1.0,\"yanchor\":\"bottom\",\"yref\":\"paper\"}],\"title\":{\"text\":\"<b>Fig.8 Development of Tsunami Detection Technology\",\"x\":0.5},\"height\":400,\"width\":1000},                        {\"responsive\": true}                    ).then(function(){\n",
       "                            \n",
       "var gd = document.getElementById('09ba4812-68d3-4b84-8f69-cbbebd8666b4');\n",
       "var x = new MutationObserver(function (mutations, observer) {{\n",
       "        var display = window.getComputedStyle(gd).display;\n",
       "        if (!display || display === 'none') {{\n",
       "            console.log([gd, 'removed!']);\n",
       "            Plotly.purge(gd);\n",
       "            observer.disconnect();\n",
       "        }}\n",
       "}});\n",
       "\n",
       "// Listen for the removal of the full notebook cells\n",
       "var notebookContainer = gd.closest('#notebook-container');\n",
       "if (notebookContainer) {{\n",
       "    x.observe(notebookContainer, {childList: true});\n",
       "}}\n",
       "\n",
       "// Listen for the clearing of the current output cell\n",
       "var outputEl = gd.closest('.output');\n",
       "if (outputEl) {{\n",
       "    x.observe(outputEl, {childList: true});\n",
       "}}\n",
       "\n",
       "                        })                };                });            </script>        </div>"
      ]
     },
     "metadata": {},
     "output_type": "display_data"
    }
   ],
   "source": [
    "fig = make_subplots(\n",
    "                    rows=1,\n",
    "                    cols=2,\n",
    "                    subplot_titles = ['a) Tsunami Authenticity','b) Tsunami Damage Level'],\n",
    "                    shared_yaxes=True\n",
    "                   )\n",
    "\n",
    "fig.add_trace(\n",
    "    go.Violin(\n",
    "                y=data.Year, \n",
    "                x=data.Kind,\n",
    "                name='Kind',\n",
    "                marker=dict(color=\"teal\", size=4, opacity=0.8)\n",
    "                #legendgroup='Kind'\n",
    "                ),\n",
    "                row=1,\n",
    "                col=1\n",
    "                )\n",
    "\n",
    "fig.add_trace(\n",
    "    go.Violin( \n",
    "                y=data.Year, \n",
    "                x=data.Effect,\n",
    "                name='Effect',\n",
    "                marker=dict(color='rgb(237,187,138)', size=4, opacity=0.8)\n",
    "                ),\n",
    "                row=1,\n",
    "                col=2\n",
    "                )\n",
    "\n",
    "fig.update_layout(\n",
    "                  height=400,\n",
    "                  width=1000, \n",
    "                  title_text=\"<b>Fig.8 Development of Tsunami Detection Technology\",\n",
    "                  title_x=0.5,\n",
    "                  template='gridon',\n",
    "                  #yaxis=dict(range=[1750,2090])\n",
    "                 )\n",
    "\n",
    "fig.show()"
   ]
  },
  {
   "cell_type": "markdown",
   "id": "47d1d442",
   "metadata": {
    "papermill": {
     "duration": 0.017556,
     "end_time": "2023-04-17T15:44:33.085530",
     "exception": false,
     "start_time": "2023-04-17T15:44:33.067974",
     "status": "completed"
    },
    "tags": []
   },
   "source": [
    "**According to `Fig.8`, our conjectures:**   \n",
    "- **a)**\n",
    "    - As times change, we are increasingly certain that whether a tsunami will occur or not.\n",
    "- **b)**\n",
    "    - At the same time, the danger posed by tsunamis to us is increasing."
   ]
  },
  {
   "cell_type": "markdown",
   "id": "fc2e5037",
   "metadata": {
    "papermill": {
     "duration": 0.01759,
     "end_time": "2023-04-17T15:44:33.121070",
     "exception": false,
     "start_time": "2023-04-17T15:44:33.103480",
     "status": "completed"
    },
    "tags": []
   },
   "source": [
    "# GeoPlot: Analysis for Selected Country\n",
    "The location distribution of tsunamis in the following three countries:\n",
    "- Japan\n",
    "- USA\n",
    "- Indonesia"
   ]
  },
  {
   "cell_type": "code",
   "execution_count": 29,
   "id": "6e4e1d7a",
   "metadata": {
    "execution": {
     "iopub.execute_input": "2023-04-17T15:44:33.159048Z",
     "iopub.status.busy": "2023-04-17T15:44:33.158259Z",
     "iopub.status.idle": "2023-04-17T15:44:33.166085Z",
     "shell.execute_reply": "2023-04-17T15:44:33.165199Z"
    },
    "papermill": {
     "duration": 0.029521,
     "end_time": "2023-04-17T15:44:33.168521",
     "exception": false,
     "start_time": "2023-04-17T15:44:33.139000",
     "status": "completed"
    },
    "tags": []
   },
   "outputs": [],
   "source": [
    "Japan = data[data['Country']== 'JAPAN']\n",
    "Japan.loc[Japan['Deposits']==0, 'Deposits'] =0.05 # make the data points visiable on the plot"
   ]
  },
  {
   "cell_type": "code",
   "execution_count": 30,
   "id": "cd53372e",
   "metadata": {
    "execution": {
     "iopub.execute_input": "2023-04-17T15:44:33.207704Z",
     "iopub.status.busy": "2023-04-17T15:44:33.207034Z",
     "iopub.status.idle": "2023-04-17T15:44:33.304075Z",
     "shell.execute_reply": "2023-04-17T15:44:33.302637Z"
    },
    "papermill": {
     "duration": 0.120277,
     "end_time": "2023-04-17T15:44:33.307096",
     "exception": false,
     "start_time": "2023-04-17T15:44:33.186819",
     "status": "completed"
    },
    "tags": []
   },
   "outputs": [
    {
     "data": {
      "text/html": [
       "<div>                            <div id=\"e8a7ea54-060c-4e01-80cc-aba7db62601a\" class=\"plotly-graph-div\" style=\"height:550px; width:1000px;\"></div>            <script type=\"text/javascript\">                require([\"plotly\"], function(Plotly) {                    window.PLOTLYENV=window.PLOTLYENV || {};                                    if (document.getElementById(\"e8a7ea54-060c-4e01-80cc-aba7db62601a\")) {                    Plotly.newPlot(                        \"e8a7ea54-060c-4e01-80cc-aba7db62601a\",                        [{\"customdata\":[[1802.0,\"True\",19.0],[1804.0,\"True\",450.0],[1808.0,\"True\",null],[1808.0,\"Maybe\",null],[1810.0,\"True\",57.0],[1816.0,\"Fake\",null],[1826.0,\"Maybe\",null],[1828.0,\"True\",null],[1828.0,\"Fake\",1443.0],[1833.0,\"True\",85.0],[1834.0,\"True\",null],[1835.0,\"True\",null],[1835.0,\"Fake\",null],[1836.0,\"Fake\",null],[1839.0,\"Maybe\",null],[1843.0,\"True\",45.0],[1844.0,\"Fake\",null],[1845.0,\"Fake\",null],[1846.0,\"True\",null],[1847.0,\"Maybe\",335.0],[1850.0,\"Maybe\",null],[1853.0,\"Maybe\",null],[1854.0,\"True\",1000.0],[1854.0,\"True\",3000.0],[1855.0,\"True\",null],[1855.0,\"True\",6757.0],[1855.0,\"Maybe\",null],[1856.0,\"True\",26.0],[1856.0,\"Maybe\",null],[1857.0,\"True\",null],[1858.0,\"Maybe\",null],[1861.0,\"True\",null],[1863.0,\"Maybe\",null],[1865.0,\"Maybe\",null],[1872.0,\"True\",804.0],[1872.0,\"Maybe\",null],[1876.0,\"Maybe\",null],[1880.0,\"Maybe\",null],[1881.0,\"Maybe\",null],[1884.0,\"Fake\",null],[1892.0,\"True\",1.0],[1893.0,\"True\",null],[1894.0,\"True\",1.0],[1894.0,\"True\",726.0],[1895.0,\"Maybe\",null],[1896.0,\"True\",null],[1896.0,\"True\",27122.0],[1897.0,\"True\",null],[1897.0,\"True\",null],[1898.0,\"True\",null],[1899.0,\"Maybe\",null],[1899.0,\"True\",null],[1899.0,\"True\",null],[1901.0,\"True\",null],[1901.0,\"True\",null],[1901.0,\"True\",null],[1901.0,\"True\",18.0],[1901.0,\"True\",null],[1905.0,\"Maybe\",57.0],[1909.0,\"True\",null],[1909.0,\"True\",null],[1909.0,\"True\",41.0],[1911.0,\"True\",12.0],[1912.0,\"Maybe\",null],[1914.0,\"True\",63.0],[1915.0,\"True\",null],[1923.0,\"True\",null],[1923.0,\"True\",142807.0],[1923.0,\"True\",null],[1927.0,\"True\",3022.0],[1927.0,\"True\",null],[1927.0,\"True\",null],[1928.0,\"True\",null],[1928.0,\"Fake\",null],[1929.0,\"True\",null],[1931.0,\"True\",null],[1931.0,\"True\",1.0],[1933.0,\"True\",3022.0],[1933.0,\"True\",null],[1935.0,\"True\",null],[1935.0,\"True\",null],[1935.0,\"True\",null],[1936.0,\"True\",null],[1938.0,\"True\",null],[1938.0,\"True\",1.0],[1938.0,\"True\",null],[1938.0,\"True\",1.0],[1938.0,\"True\",null],[1938.0,\"True\",null],[1938.0,\"True\",null],[1938.0,\"Fake\",null],[1938.0,\"True\",null],[1938.0,\"Fake\",null],[1938.0,\"True\",null],[1938.0,\"True\",null],[1939.0,\"True\",1.0],[1939.0,\"True\",27.0],[1940.0,\"True\",10.0],[1941.0,\"True\",2.0],[1943.0,\"True\",null],[1944.0,\"True\",1223.0],[1945.0,\"True\",2306.0],[1945.0,\"True\",2.0],[1946.0,\"True\",1362.0],[1947.0,\"True\",null],[1948.0,\"True\",null],[1952.0,\"True\",33.0],[1952.0,\"True\",null],[1952.0,\"True\",null],[1952.0,\"True\",null],[1952.0,\"True\",31.0],[1952.0,\"True\",null],[1953.0,\"True\",null],[1953.0,\"True\",null],[1953.0,\"True\",1.0],[1954.0,\"True\",null],[1956.0,\"True\",null],[1956.0,\"Fake\",null],[1959.0,\"True\",null],[1959.0,\"True\",null],[1960.0,\"True\",null],[1960.0,\"True\",null],[1960.0,\"True\",null],[1961.0,\"True\",null],[1961.0,\"True\",null],[1961.0,\"True\",null],[1961.0,\"True\",2.0],[1961.0,\"True\",null],[1961.0,\"True\",null],[1961.0,\"True\",null],[1962.0,\"True\",null],[1962.0,\"True\",null],[1962.0,\"Maybe\",null],[1964.0,\"True\",null],[1964.0,\"Maybe\",null],[1964.0,\"True\",26.0],[1964.0,\"True\",null],[1965.0,\"Fake\",null],[1968.0,\"True\",1.0],[1968.0,\"True\",52.0],[1968.0,\"True\",null],[1968.0,\"True\",null],[1968.0,\"Maybe\",null],[1969.0,\"True\",null],[1970.0,\"True\",null],[1971.0,\"True\",null],[1972.0,\"True\",null],[1972.0,\"Fake\",null],[1972.0,\"True\",null],[1973.0,\"True\",null],[1974.0,\"True\",30.0],[1978.0,\"True\",25.0],[1978.0,\"True\",28.0],[1979.0,\"True\",null],[1979.0,\"Maybe\",3.0],[1980.0,\"True\",null],[1981.0,\"True\",null],[1982.0,\"True\",110.0],[1982.0,\"True\",null],[1982.0,\"True\",null],[1983.0,\"True\",104.0],[1983.0,\"True\",null],[1983.0,\"True\",null],[1984.0,\"True\",null],[1984.0,\"True\",null],[1984.0,\"True\",null],[1987.0,\"True\",null],[1987.0,\"True\",2.0],[1987.0,\"True\",null],[1989.0,\"True\",null],[1989.0,\"Maybe\",null],[1990.0,\"True\",null],[1990.0,\"True\",null],[1992.0,\"True\",null],[1992.0,\"Maybe\",null],[1993.0,\"True\",null],[1993.0,\"True\",231.0],[1993.0,\"True\",null],[1994.0,\"True\",null],[1994.0,\"True\",3.0],[1995.0,\"True\",5502.0],[1995.0,\"True\",null],[1995.0,\"True\",null],[1996.0,\"True\",null],[1996.0,\"True\",null],[1996.0,\"True\",null],[1996.0,\"True\",null],[1997.0,\"True\",null],[1998.0,\"True\",null],[2000.0,\"True\",1.0],[2000.0,\"True\",null],[2000.0,\"True\",null],[2002.0,\"Maybe\",null],[2003.0,\"True\",2.0],[2003.0,\"True\",null],[2004.0,\"True\",null],[2004.0,\"True\",null],[2004.0,\"True\",null],[2005.0,\"True\",null],[2005.0,\"True\",null],[2005.0,\"True\",null],[2006.0,\"Maybe\",null],[2007.0,\"True\",1.0],[2007.0,\"True\",9.0],[2008.0,\"True\",null],[2008.0,\"True\",6.0],[2009.0,\"True\",1.0],[2010.0,\"Maybe\",null],[2010.0,\"True\",null],[2011.0,\"True\",null],[2011.0,\"True\",18429.0],[2011.0,\"True\",3.0],[2011.0,\"True\",null],[2012.0,\"True\",null],[2012.0,\"True\",null],[2013.0,\"True\",null],[2014.0,\"True\",null],[2015.0,\"True\",null],[2015.0,\"Maybe\",null],[2015.0,\"True\",null],[2016.0,\"True\",null],[2016.0,\"True\",null],[2018.0,\"True\",null],[2019.0,\"Maybe\",null],[2019.0,\"True\",null]],\"hovertemplate\":\"<b>%{hovertext}</b><br><br>Deposits=%{marker.color}<br>Latitude=%{lat}<br>Longitude=%{lon}<br>Year=%{customdata[0]}<br>Kind=%{customdata[1]}<br>Death=%{customdata[2]}<extra></extra>\",\"hovertext\":[\"NW. HONSHU ISLAND\",\"NW. HONSHU ISLAND\",\"E. AWA, TOKUSHIMA PREFECTURE\",\"TOKAIDO\",\"NW. HONSHU ISLAND\",\"W. IZU PENIN., JAPAN\",\"CHICHI JIMA\",\"AMAKUSA SEA\",\"NW. HONSHU ISLAND\",\"NW. HONSHU ISLAND\",\"W. HOKKAIDO ISLAND\",\"SANRIKU\",\"MIYAGI, JAPAN\",\"SANRIKU\",\"SE. HOKKAIDO ISLAND\",\"SE. HOKKAIDO ISLAND\",\"IAMACHI, JAPAN\",\"NAGASAKI, JAPAN\",\"SANRIKU\",\"SANRIKU\",\"SANRIKU\",\"OKINAWA ISLAND\",\"ENSHUNADA SEA\",\"NANKAIDO\",\"ENSHUNADA\",\"TOKAIDO\",\"NANKAIDO\",\"SE. HOKKAIDO ISLAND\",\"TOKYO BAY\",\"TOKAIDO\",\"RYUKYU ISLANDS\",\"OFF MIYAGI\",\"NW. HOKKAIDO ISLAND\",\"RYUKYU ISLANDS\",\"SW. HONSHU ISLAND\",\"BONIN ISLANDS [CHICHIJIMA ISLAND]\",\"RYUKYU ISLANDS\",\"TOYAMA PREF., JAPAN\",\"HOKKAIDO ISLAND\",\"OKAYAMA PREFECTURE\",\"SW. HONSHU ISLAND\",\"NEMURO, JAPAN\",\"SE. HOKKAIDO ISLAND\",\"YAMAGATA, JAPAN\",\"W. KYUSHU ISLAND\",\"KASHIMA, JAPAN\",\"SANRIKU\",\"SANRIKU\",\"SANRIKU\",\"HONSHU ISLAND\",\"TAGONOURA\",\"SEIKAIDO\",\"SEIKAIDO\",\"IWATE, JAPAN\",\"RYUKYU ISLANDS\",\"OFF NORTHEAST COAST HONSHU\",\"OFF NORTHEAST COAST HONSHU\",\"OFF NORTHEAST COAST HONSHU\",\"JAPAN:  OFF FUKUSHIMA\",\"OFF BOSO PENINSULA\",\"OFF BOSO PENINSULA\",\"ANEGAWA, JAPAN\",\"RYUKYU ISLANDS\",\"SANRIKU\",\"SEIKAIDO\",\"SANRIKU\",\"KASHIMA, JAPAN\",\"SAGAMI BAY\",\"RYUKYU ISLANDS\",\"SW. HONSHU ISLAND\",\"SANRIKU\",\"KASHIMA, JAPAN\",\"SANRIKU\",\"SAPPORO\",\"HIUGANADA\",\"SANRIKU\",\"SEIKAIDO\",\"SANRIKU\",\"SANRIKU\",\"JAPAN\",\"SANRIKU\",\"SANRIKU\",\"SANRIKU\",\"JAPAN TRENCH\",\"E. HOKKAIDO ISLAND\",\"RYUKYU ISLANDS\",\"SANRIKU\",\"SANRIKU\",\"OFF FUKUSHIMA PREFECTURE\",\"OFF FUKUSHIMA PREFECTURE\",\"SANRIKU\",\"SANRIKU\",\"SANRIKU\",\"SANRIKU\",\"SANRIKU\",\"SEIKAIDO\",\"NW. HONSHU ISLAND\",\"W. HOKKAIDO ISLAND\",\"SEIKAIDO\",\"SE. HOKKAIDO ISLAND\",\"OFF SOUTHEAST COAST KII PENINSULA\",\"TOKAIDO\",\"SANRIKU\",\"HONSHU: S COAST\",\"W. HOKKAIDO ISLAND\",\"TOKAIDO\",\"SE. HOKKAIDO ISLAND\",\"SE. HOKKAIDO ISLAND\",\"MYOJINSHO SUBMARINE VOLCANO\",\"MYOJINSHO SUBMARINE VOLCANO\",\"MYOJINSHO SUBMARINE VOLCANO\",\"MYOJINSHO SUBMARINE VOLCANO\",\"MYOJINSHO SUBMARINE VOLCANO\",\"MYOJINSHO SUBMARINE VOLCANO\",\"KASHIMA, JAPAN\",\"MIYAGI, JAPAN\",\"NE. HOKKAIDO ISLAND\",\"IZU PENINSULA\",\"SANRIKU\",\"SANRIKU\",\"SANRIKU\",\"SANRIKU\",\"SANRIKU\",\"KASHIMA, JAPAN\",\"KASHIMA, JAPAN\",\"KASHIMA, JAPAN\",\"SEIKAIDO\",\"RYUKYU ISLANDS\",\"SE. HOKKAIDO ISLAND\",\"SE. HOKKAIDO ISLAND\",\"SANRIKU\",\"SE. HOKKAIDO ISLAND\",\"OFF COAST OF HONSHU ISLAND\",\"NW. HONSHU ISLAND\",\"NW. HONSHU ISLAND\",\"NW. HONSHU ISLAND\",\"NW. HONSHU ISLAND\",\"AICHI PREFECTURE\",\"SEIKAIDO\",\"OFF EAST COAST OF HONSHU ISLAND\",\"OFF COAST OF HONSHU ISLAND\",\"SANRIKU\",\"SEIKAIDO-NANKAIDO\",\"RYUKYU ISLANDS\",\"SEIKAIDO\",\"JAPAN TRENCH\",\"EAST OFF HACHIJO ISLAND\",\"JAPAN\",\"CHICHI JIMA\",\"HOKKAIDO ISLAND\",\"TOKAIDO\",\"TOKAIDO\",\"SANRIKU\",\"IWATE, JAPAN\",\"NAGASAKI, JAPAN\",\"HONSHU ISLAND\",\"E. HONSHU ISLAND\",\"HOKKAIDO ISLAND\",\"IBARAKI, JAPAN\",\"S. OF HONSHU ISLAND\",\"NOSHIRO, JAPAN\",\"NOSHIRO, JAPAN\",\"N. HONSHU ISLAND\",\"TORI SHIMA, OKINAWA\",\"KYUSHU, JAPAN\",\"HONSHU ISLAND\",\"E. HONSHU ISLAND\",\"KYUSHU ISLAND\",\"HONSHU ISLAND\",\"N. HONSHU ISLAND\",\"JAPAN\",\"JAPAN\",\"W. OF BONIN ISLANDS, IZU IS., JAPAN\",\"HONSHU ISLAND\",\"HONSHU\",\"HONSHU ISLAND\",\"SEA OF JAPAN\",\"JAPAN\",\"HOKKAIDO ISLAND\",\"TOHUKU, JAPAN\",\"KOBE, JAPAN\",\"RYUKYU ISLANDS\",\"RYUKYU ISLANDS\",\"HONSHU ISLAND\",\"KYUSHU ISLAND\",\"KYUSHU ISLAND\",\"SEA OF JAPAN\",\"S. OF HONSHU ISLAND\",\"SANRIKU\",\"KOZU-SHIMA ISLAND, HONSHU\",\"HONSHU: S COAST\",\"HONSHU: S COAST\",\"JAPAN\",\"HOKKAIDO ISLAND\",\"E. HONSHU ISLAND\",\"SOUTH COAST HONSHU ISLAND\",\"SOUTH COAST HONSHU ISLAND\",\"HOKKAIDO ISLAND\",\"E. HONSHU ISLAND\",\"E. COAST HONSHU ISLAND\",\"E. COAST HONSHU ISLAND\",\"S. OF HONSHU ISLAND\",\"HONSHU: W COAST\",\"HONSHU: W COAST\",\"OFF EAST COAST OF HONSHU ISLAND\",\"HOKKAIDO ISLAND\",\"HONSHU: S COAST\",\"RYUKYU ISLANDS\",\"BONIN ISLANDS\",\"HONSHU ISLAND\",\"HONSHU ISLAND\",\"E. COAST HONSHU ISLAND\",\"OFF EAST COAST OF HONSHU ISLAND\",\"HOKKAIDO ISLAND\",\"OFF EAST COAST OF HONSHU ISLAND\",\"E. COAST HONSHU ISLAND\",\"SANRIKU\",\"HONSHU\",\"S. OF HONSHU ISLAND\",\"JAPAN\",\"SANRIKU\",\"E. COAST HONSHU ISLAND\",\"S. OF HONSHU ISLAND\",\"NAGASAKI, JAPAN\",\"NIIGATA\"],\"lat\":[37.7,39.05,33.9,null,39.9,null,27.07,32.6,null,38.9,43.3,37.9,null,37.7,42.5,42.0,null,null,39.5,null,39.5,26.2,34.0,33.1,34.5,35.65,32.5,40.5,35.6,34.8,26.2,38.5,44.6,26.2,34.9,27.07,null,36.7,43.3,null,37.0,42.5,42.5,38.9,33.0,36.5,39.5,38.1,38.0,38.6,35.1,31.9,32.7,39.0,28.0,40.5,40.6,40.5,37.4,34.5,34.5,35.4,28.0,40.5,31.58,38.3,35.4,35.1,34.9,35.6,37.9,34.2,40.0,43.062,31.7,41.2,32.2,39.224,38.1,36.6,39.9,40.7,38.2,36.7,43.6,25.321,37.1,37.2,37.5,37.0,37.6,37.0,37.4,36.7,37.0,32.3,40.1,44.2,32.0,41.2,34.0,34.7,40.9,33.0,43.8,33.1,42.15,41.7,32.1,32.1,32.1,32.1,32.1,32.1,34.0,38.9,44.3,33.8,37.5,37.5,39.8,39.4,40.3,36.0,36.0,36.2,31.6,29.6,42.9,42.7,38.073,42.2,41.8,40.3,40.4,38.65,40.4,34.9,32.3,40.8,41.5,39.4,33.3,32.2,32.2,41.4,33.3,32.9,33.3,43.2,34.6,34.809,38.19,40.232,null,34.808,38.64,42.158,36.194,33.826,40.462,40.249,41.346,31.448,32.386,34.006,36.988,32.034,37.447,39.571,39.837,34.706,33.267,39.419,32.536,37.634,42.851,41.985,40.608,40.525,34.583,27.929,28.094,31.555,30.568,31.885,31.789,31.959,39.027,34.221,34.319,33.901,23.346,41.815,37.812,33.07,33.184,43.006,34.064,38.276,38.107,31.394,37.336,37.57,37.552,41.892,34.743,25.93,26.901,38.435,38.297,38.276,38.034,40.887,37.89,37.2,37.005,39.856,31.529,31.001,40.394,37.393,31.444,null,38.646],\"legendgroup\":\"\",\"lon\":[138.3,139.95,134.8,null,139.9,null,142.21,129.9,null,139.15,141.4,141.9,null,142.0,145.0,146.0,null,null,142.5,null,142.0,127.6,137.9,135.0,137.6,139.8,134.5,143.5,139.7,138.3,127.5,142.0,141.5,127.5,132.0,142.21,null,137.3,147.3,null,136.8,145.5,146.0,139.8,130.0,141.0,144.0,141.9,143.7,142.0,138.75,132.0,132.3,143.0,130.3,142.5,142.3,142.5,142.6,141.5,141.5,136.3,130.0,142.0,130.67,142.9,141.8,139.5,140.2,135.1,142.0,142.0,143.2,141.354,132.2,142.5,132.1,144.622,142.4,141.4,143.7,144.3,142.2,141.4,144.3,125.115,141.7,141.7,141.8,141.7,141.2,141.5,141.6,142.1,142.2,132.0,139.5,139.5,132.1,143.3,137.1,137.2,142.1,135.6,141.0,135.6,143.85,143.6,139.85,139.85,139.85,139.85,139.85,139.85,141.7,142.2,144.1,138.8,142.2,143.2,143.4,143.7,142.5,142.3,141.9,141.9,131.8,131.8,145.6,145.7,142.741,143.9,142.4,139.0,139.0,139.2,138.9,139.0,132.5,143.2,142.7,143.1,132.2,132.1,131.7,143.5,140.8,130.3,140.7,145.8,138.7,139.259,142.03,143.703,null,139.181,142.75,142.361,141.702,139.434,139.102,138.948,139.099,140.036,131.945,141.5,141.689,131.837,137.865,143.333,142.76,139.252,138.643,143.33,141.641,137.245,139.197,139.839,143.683,143.419,135.018,130.175,130.148,139.931,131.093,131.468,131.314,141.878,143.441,139.131,139.26,139.376,124.09,143.91,142.619,136.618,137.071,145.119,141.491,142.039,144.896,140.131,136.588,138.478,142.214,143.754,138.264,128.425,143.698,142.842,142.372,141.588,143.264,144.944,143.949,144.6,142.453,142.881,140.213,128.873,143.68,141.387,140.193,null,139.472],\"marker\":{\"color\":[0.05,0.05,0.05,0.05,0.05,0.05,0.05,0.05,0.05,1.0,0.05,0.05,0.05,0.05,0.05,3.0,0.05,0.05,0.05,0.05,0.05,0.05,1.0,0.05,0.05,0.05,0.05,1.0,0.05,0.05,0.05,0.05,0.05,0.05,0.05,0.05,0.05,0.05,0.05,0.05,0.05,0.05,0.05,0.05,0.05,0.05,4.0,0.05,0.05,0.05,0.05,0.05,0.05,0.05,0.05,0.05,0.05,0.05,0.05,0.05,0.05,0.05,0.05,0.05,2.0,0.05,0.05,1.0,0.05,0.05,0.05,0.05,0.05,0.05,0.05,0.05,0.05,2.0,0.05,0.05,0.05,0.05,0.05,0.05,0.05,0.05,0.05,0.05,0.05,0.05,0.05,0.05,0.05,0.05,0.05,0.05,0.05,1.0,0.05,0.05,0.05,0.05,0.05,1.0,0.05,0.05,0.05,0.05,1.0,1.0,1.0,1.0,2.0,1.0,0.05,0.05,0.05,0.05,0.05,0.05,0.05,0.05,0.05,0.05,0.05,0.05,0.05,0.05,0.05,0.05,0.05,0.05,0.05,0.05,0.05,1.0,0.05,0.05,0.05,1.0,0.05,0.05,0.05,0.05,0.05,0.05,0.05,0.05,0.05,0.05,0.05,0.05,0.05,0.05,0.05,0.05,0.05,0.05,0.05,0.05,6.0,0.05,0.05,0.05,0.05,0.05,0.05,0.05,0.05,0.05,0.05,0.05,0.05,0.05,0.05,0.05,19.0,0.05,0.05,0.05,0.05,0.05,0.05,0.05,0.05,0.05,0.05,0.05,0.05,1.0,0.05,0.05,0.05,1.0,0.05,0.05,0.05,0.05,0.05,0.05,0.05,0.05,0.05,0.05,0.05,0.05,0.05,0.05,0.05,0.05,7.0,0.05,0.05,0.05,0.05,0.05,0.05,0.05,0.05,0.05,0.05,0.05,0.05,0.05,0.05],\"coloraxis\":\"coloraxis\",\"size\":[0.05,0.05,0.05,0.05,0.05,0.05,0.05,0.05,0.05,1.0,0.05,0.05,0.05,0.05,0.05,3.0,0.05,0.05,0.05,0.05,0.05,0.05,1.0,0.05,0.05,0.05,0.05,1.0,0.05,0.05,0.05,0.05,0.05,0.05,0.05,0.05,0.05,0.05,0.05,0.05,0.05,0.05,0.05,0.05,0.05,0.05,4.0,0.05,0.05,0.05,0.05,0.05,0.05,0.05,0.05,0.05,0.05,0.05,0.05,0.05,0.05,0.05,0.05,0.05,2.0,0.05,0.05,1.0,0.05,0.05,0.05,0.05,0.05,0.05,0.05,0.05,0.05,2.0,0.05,0.05,0.05,0.05,0.05,0.05,0.05,0.05,0.05,0.05,0.05,0.05,0.05,0.05,0.05,0.05,0.05,0.05,0.05,1.0,0.05,0.05,0.05,0.05,0.05,1.0,0.05,0.05,0.05,0.05,1.0,1.0,1.0,1.0,2.0,1.0,0.05,0.05,0.05,0.05,0.05,0.05,0.05,0.05,0.05,0.05,0.05,0.05,0.05,0.05,0.05,0.05,0.05,0.05,0.05,0.05,0.05,1.0,0.05,0.05,0.05,1.0,0.05,0.05,0.05,0.05,0.05,0.05,0.05,0.05,0.05,0.05,0.05,0.05,0.05,0.05,0.05,0.05,0.05,0.05,0.05,0.05,6.0,0.05,0.05,0.05,0.05,0.05,0.05,0.05,0.05,0.05,0.05,0.05,0.05,0.05,0.05,0.05,19.0,0.05,0.05,0.05,0.05,0.05,0.05,0.05,0.05,0.05,0.05,0.05,0.05,1.0,0.05,0.05,0.05,1.0,0.05,0.05,0.05,0.05,0.05,0.05,0.05,0.05,0.05,0.05,0.05,0.05,0.05,0.05,0.05,0.05,7.0,0.05,0.05,0.05,0.05,0.05,0.05,0.05,0.05,0.05,0.05,0.05,0.05,0.05,0.05],\"sizemode\":\"area\",\"sizeref\":0.017447199265381085},\"mode\":\"markers\",\"name\":\"\",\"showlegend\":false,\"subplot\":\"mapbox\",\"type\":\"scattermapbox\"}],                        {\"template\":{\"data\":{\"histogram2dcontour\":[{\"type\":\"histogram2dcontour\",\"colorbar\":{\"outlinewidth\":0,\"ticks\":\"\"},\"colorscale\":[[0.0,\"#0d0887\"],[0.1111111111111111,\"#46039f\"],[0.2222222222222222,\"#7201a8\"],[0.3333333333333333,\"#9c179e\"],[0.4444444444444444,\"#bd3786\"],[0.5555555555555556,\"#d8576b\"],[0.6666666666666666,\"#ed7953\"],[0.7777777777777778,\"#fb9f3a\"],[0.8888888888888888,\"#fdca26\"],[1.0,\"#f0f921\"]]}],\"choropleth\":[{\"type\":\"choropleth\",\"colorbar\":{\"outlinewidth\":0,\"ticks\":\"\"}}],\"histogram2d\":[{\"type\":\"histogram2d\",\"colorbar\":{\"outlinewidth\":0,\"ticks\":\"\"},\"colorscale\":[[0.0,\"#0d0887\"],[0.1111111111111111,\"#46039f\"],[0.2222222222222222,\"#7201a8\"],[0.3333333333333333,\"#9c179e\"],[0.4444444444444444,\"#bd3786\"],[0.5555555555555556,\"#d8576b\"],[0.6666666666666666,\"#ed7953\"],[0.7777777777777778,\"#fb9f3a\"],[0.8888888888888888,\"#fdca26\"],[1.0,\"#f0f921\"]]}],\"heatmap\":[{\"type\":\"heatmap\",\"colorbar\":{\"outlinewidth\":0,\"ticks\":\"\"},\"colorscale\":[[0.0,\"#0d0887\"],[0.1111111111111111,\"#46039f\"],[0.2222222222222222,\"#7201a8\"],[0.3333333333333333,\"#9c179e\"],[0.4444444444444444,\"#bd3786\"],[0.5555555555555556,\"#d8576b\"],[0.6666666666666666,\"#ed7953\"],[0.7777777777777778,\"#fb9f3a\"],[0.8888888888888888,\"#fdca26\"],[1.0,\"#f0f921\"]]}],\"heatmapgl\":[{\"type\":\"heatmapgl\",\"colorbar\":{\"outlinewidth\":0,\"ticks\":\"\"},\"colorscale\":[[0.0,\"#0d0887\"],[0.1111111111111111,\"#46039f\"],[0.2222222222222222,\"#7201a8\"],[0.3333333333333333,\"#9c179e\"],[0.4444444444444444,\"#bd3786\"],[0.5555555555555556,\"#d8576b\"],[0.6666666666666666,\"#ed7953\"],[0.7777777777777778,\"#fb9f3a\"],[0.8888888888888888,\"#fdca26\"],[1.0,\"#f0f921\"]]}],\"contourcarpet\":[{\"type\":\"contourcarpet\",\"colorbar\":{\"outlinewidth\":0,\"ticks\":\"\"}}],\"contour\":[{\"type\":\"contour\",\"colorbar\":{\"outlinewidth\":0,\"ticks\":\"\"},\"colorscale\":[[0.0,\"#0d0887\"],[0.1111111111111111,\"#46039f\"],[0.2222222222222222,\"#7201a8\"],[0.3333333333333333,\"#9c179e\"],[0.4444444444444444,\"#bd3786\"],[0.5555555555555556,\"#d8576b\"],[0.6666666666666666,\"#ed7953\"],[0.7777777777777778,\"#fb9f3a\"],[0.8888888888888888,\"#fdca26\"],[1.0,\"#f0f921\"]]}],\"surface\":[{\"type\":\"surface\",\"colorbar\":{\"outlinewidth\":0,\"ticks\":\"\"},\"colorscale\":[[0.0,\"#0d0887\"],[0.1111111111111111,\"#46039f\"],[0.2222222222222222,\"#7201a8\"],[0.3333333333333333,\"#9c179e\"],[0.4444444444444444,\"#bd3786\"],[0.5555555555555556,\"#d8576b\"],[0.6666666666666666,\"#ed7953\"],[0.7777777777777778,\"#fb9f3a\"],[0.8888888888888888,\"#fdca26\"],[1.0,\"#f0f921\"]]}],\"mesh3d\":[{\"type\":\"mesh3d\",\"colorbar\":{\"outlinewidth\":0,\"ticks\":\"\"}}],\"scatter\":[{\"fillpattern\":{\"fillmode\":\"overlay\",\"size\":10,\"solidity\":0.2},\"type\":\"scatter\"}],\"parcoords\":[{\"type\":\"parcoords\",\"line\":{\"colorbar\":{\"outlinewidth\":0,\"ticks\":\"\"}}}],\"scatterpolargl\":[{\"type\":\"scatterpolargl\",\"marker\":{\"colorbar\":{\"outlinewidth\":0,\"ticks\":\"\"}}}],\"bar\":[{\"error_x\":{\"color\":\"#2a3f5f\"},\"error_y\":{\"color\":\"#2a3f5f\"},\"marker\":{\"line\":{\"color\":\"#E5ECF6\",\"width\":0.5},\"pattern\":{\"fillmode\":\"overlay\",\"size\":10,\"solidity\":0.2}},\"type\":\"bar\"}],\"scattergeo\":[{\"type\":\"scattergeo\",\"marker\":{\"colorbar\":{\"outlinewidth\":0,\"ticks\":\"\"}}}],\"scatterpolar\":[{\"type\":\"scatterpolar\",\"marker\":{\"colorbar\":{\"outlinewidth\":0,\"ticks\":\"\"}}}],\"histogram\":[{\"marker\":{\"pattern\":{\"fillmode\":\"overlay\",\"size\":10,\"solidity\":0.2}},\"type\":\"histogram\"}],\"scattergl\":[{\"type\":\"scattergl\",\"marker\":{\"colorbar\":{\"outlinewidth\":0,\"ticks\":\"\"}}}],\"scatter3d\":[{\"type\":\"scatter3d\",\"line\":{\"colorbar\":{\"outlinewidth\":0,\"ticks\":\"\"}},\"marker\":{\"colorbar\":{\"outlinewidth\":0,\"ticks\":\"\"}}}],\"scattermapbox\":[{\"type\":\"scattermapbox\",\"marker\":{\"colorbar\":{\"outlinewidth\":0,\"ticks\":\"\"}}}],\"scatterternary\":[{\"type\":\"scatterternary\",\"marker\":{\"colorbar\":{\"outlinewidth\":0,\"ticks\":\"\"}}}],\"scattercarpet\":[{\"type\":\"scattercarpet\",\"marker\":{\"colorbar\":{\"outlinewidth\":0,\"ticks\":\"\"}}}],\"carpet\":[{\"aaxis\":{\"endlinecolor\":\"#2a3f5f\",\"gridcolor\":\"white\",\"linecolor\":\"white\",\"minorgridcolor\":\"white\",\"startlinecolor\":\"#2a3f5f\"},\"baxis\":{\"endlinecolor\":\"#2a3f5f\",\"gridcolor\":\"white\",\"linecolor\":\"white\",\"minorgridcolor\":\"white\",\"startlinecolor\":\"#2a3f5f\"},\"type\":\"carpet\"}],\"table\":[{\"cells\":{\"fill\":{\"color\":\"#EBF0F8\"},\"line\":{\"color\":\"white\"}},\"header\":{\"fill\":{\"color\":\"#C8D4E3\"},\"line\":{\"color\":\"white\"}},\"type\":\"table\"}],\"barpolar\":[{\"marker\":{\"line\":{\"color\":\"#E5ECF6\",\"width\":0.5},\"pattern\":{\"fillmode\":\"overlay\",\"size\":10,\"solidity\":0.2}},\"type\":\"barpolar\"}],\"pie\":[{\"automargin\":true,\"type\":\"pie\"}]},\"layout\":{\"autotypenumbers\":\"strict\",\"colorway\":[\"#636efa\",\"#EF553B\",\"#00cc96\",\"#ab63fa\",\"#FFA15A\",\"#19d3f3\",\"#FF6692\",\"#B6E880\",\"#FF97FF\",\"#FECB52\"],\"font\":{\"color\":\"#2a3f5f\"},\"hovermode\":\"closest\",\"hoverlabel\":{\"align\":\"left\"},\"paper_bgcolor\":\"white\",\"plot_bgcolor\":\"#E5ECF6\",\"polar\":{\"bgcolor\":\"#E5ECF6\",\"angularaxis\":{\"gridcolor\":\"white\",\"linecolor\":\"white\",\"ticks\":\"\"},\"radialaxis\":{\"gridcolor\":\"white\",\"linecolor\":\"white\",\"ticks\":\"\"}},\"ternary\":{\"bgcolor\":\"#E5ECF6\",\"aaxis\":{\"gridcolor\":\"white\",\"linecolor\":\"white\",\"ticks\":\"\"},\"baxis\":{\"gridcolor\":\"white\",\"linecolor\":\"white\",\"ticks\":\"\"},\"caxis\":{\"gridcolor\":\"white\",\"linecolor\":\"white\",\"ticks\":\"\"}},\"coloraxis\":{\"colorbar\":{\"outlinewidth\":0,\"ticks\":\"\"}},\"colorscale\":{\"sequential\":[[0.0,\"#0d0887\"],[0.1111111111111111,\"#46039f\"],[0.2222222222222222,\"#7201a8\"],[0.3333333333333333,\"#9c179e\"],[0.4444444444444444,\"#bd3786\"],[0.5555555555555556,\"#d8576b\"],[0.6666666666666666,\"#ed7953\"],[0.7777777777777778,\"#fb9f3a\"],[0.8888888888888888,\"#fdca26\"],[1.0,\"#f0f921\"]],\"sequentialminus\":[[0.0,\"#0d0887\"],[0.1111111111111111,\"#46039f\"],[0.2222222222222222,\"#7201a8\"],[0.3333333333333333,\"#9c179e\"],[0.4444444444444444,\"#bd3786\"],[0.5555555555555556,\"#d8576b\"],[0.6666666666666666,\"#ed7953\"],[0.7777777777777778,\"#fb9f3a\"],[0.8888888888888888,\"#fdca26\"],[1.0,\"#f0f921\"]],\"diverging\":[[0,\"#8e0152\"],[0.1,\"#c51b7d\"],[0.2,\"#de77ae\"],[0.3,\"#f1b6da\"],[0.4,\"#fde0ef\"],[0.5,\"#f7f7f7\"],[0.6,\"#e6f5d0\"],[0.7,\"#b8e186\"],[0.8,\"#7fbc41\"],[0.9,\"#4d9221\"],[1,\"#276419\"]]},\"xaxis\":{\"gridcolor\":\"white\",\"linecolor\":\"white\",\"ticks\":\"\",\"title\":{\"standoff\":15},\"zerolinecolor\":\"white\",\"automargin\":true,\"zerolinewidth\":2},\"yaxis\":{\"gridcolor\":\"white\",\"linecolor\":\"white\",\"ticks\":\"\",\"title\":{\"standoff\":15},\"zerolinecolor\":\"white\",\"automargin\":true,\"zerolinewidth\":2},\"scene\":{\"xaxis\":{\"backgroundcolor\":\"#E5ECF6\",\"gridcolor\":\"white\",\"linecolor\":\"white\",\"showbackground\":true,\"ticks\":\"\",\"zerolinecolor\":\"white\",\"gridwidth\":2},\"yaxis\":{\"backgroundcolor\":\"#E5ECF6\",\"gridcolor\":\"white\",\"linecolor\":\"white\",\"showbackground\":true,\"ticks\":\"\",\"zerolinecolor\":\"white\",\"gridwidth\":2},\"zaxis\":{\"backgroundcolor\":\"#E5ECF6\",\"gridcolor\":\"white\",\"linecolor\":\"white\",\"showbackground\":true,\"ticks\":\"\",\"zerolinecolor\":\"white\",\"gridwidth\":2}},\"shapedefaults\":{\"line\":{\"color\":\"#2a3f5f\"}},\"annotationdefaults\":{\"arrowcolor\":\"#2a3f5f\",\"arrowhead\":0,\"arrowwidth\":1},\"geo\":{\"bgcolor\":\"white\",\"landcolor\":\"#E5ECF6\",\"subunitcolor\":\"white\",\"showland\":true,\"showlakes\":true,\"lakecolor\":\"white\"},\"title\":{\"x\":0.05},\"mapbox\":{\"style\":\"light\"}}},\"mapbox\":{\"domain\":{\"x\":[0.0,1.0],\"y\":[0.0,1.0]},\"center\":{\"lat\":38,\"lon\":139},\"zoom\":3.8,\"style\":\"carto-positron\"},\"coloraxis\":{\"colorbar\":{\"title\":{\"text\":\"Deposits\"}},\"colorscale\":[[0.0,\"rgb(0, 147, 146)\"],[0.16666666666666666,\"rgb(114, 170, 161)\"],[0.3333333333333333,\"rgb(177, 199, 179)\"],[0.5,\"rgb(241, 234, 200)\"],[0.6666666666666666,\"rgb(229, 185, 173)\"],[0.8333333333333334,\"rgb(217, 137, 148)\"],[1.0,\"rgb(208, 88, 126)\"]]},\"legend\":{\"tracegroupgap\":0,\"itemsizing\":\"constant\"},\"title\":{\"text\":\"<b>Fig.9 Japan Tsunami Distribution with Deposit Numbers\",\"x\":0.5},\"width\":1000,\"height\":550},                        {\"responsive\": true}                    ).then(function(){\n",
       "                            \n",
       "var gd = document.getElementById('e8a7ea54-060c-4e01-80cc-aba7db62601a');\n",
       "var x = new MutationObserver(function (mutations, observer) {{\n",
       "        var display = window.getComputedStyle(gd).display;\n",
       "        if (!display || display === 'none') {{\n",
       "            console.log([gd, 'removed!']);\n",
       "            Plotly.purge(gd);\n",
       "            observer.disconnect();\n",
       "        }}\n",
       "}});\n",
       "\n",
       "// Listen for the removal of the full notebook cells\n",
       "var notebookContainer = gd.closest('#notebook-container');\n",
       "if (notebookContainer) {{\n",
       "    x.observe(notebookContainer, {childList: true});\n",
       "}}\n",
       "\n",
       "// Listen for the clearing of the current output cell\n",
       "var outputEl = gd.closest('.output');\n",
       "if (outputEl) {{\n",
       "    x.observe(outputEl, {childList: true});\n",
       "}}\n",
       "\n",
       "                        })                };                });            </script>        </div>"
      ]
     },
     "metadata": {},
     "output_type": "display_data"
    }
   ],
   "source": [
    "fig = px.scatter_mapbox(\n",
    "                        Japan,\n",
    "                        lat='Latitude',\n",
    "                        lon='Longitude', \n",
    "                        color=\"Deposits\", \n",
    "                        size=\"Deposits\",\n",
    "                        color_continuous_scale=px.colors.carto.Tealrose, \n",
    "                        hover_name='Location',\n",
    "                        hover_data=['Year','Kind','Death'],\n",
    "                        size_max=33, \n",
    "                        zoom=3.8,\n",
    "                        center=dict(lat=38, lon=139),\n",
    "                        title = '<b>Fig.9 Japan Tsunami Distribution with Deposit Numbers'\n",
    "                        )\n",
    "\n",
    "fig.update_layout(\n",
    "                  mapbox_style=\"carto-positron\",\n",
    "                  width=1000,\n",
    "                  height=550,\n",
    "                  title_x=0.5,\n",
    "                  )\n",
    "\n",
    "fig.show()"
   ]
  },
  {
   "cell_type": "markdown",
   "id": "2d14b449",
   "metadata": {
    "papermill": {
     "duration": 0.019764,
     "end_time": "2023-04-17T15:44:33.345633",
     "exception": false,
     "start_time": "2023-04-17T15:44:33.325869",
     "status": "completed"
    },
    "tags": []
   },
   "source": [
    "**According to `Fig.9`,**\n",
    "1. **More dangerous tsunamis hit northern Japan than southern Japan.**\n",
    "2. **Three dangerous Tsunamis hit Japan in 1983/1993/2011 respectively, and caused a total death of 18,764 people.**\n",
    "3. **The terrible tsunami occurred on Honshu Island caused the death of 18,429 in 2011.**\n",
    "\n",
    "We can zoom in to check more detailed information related to tsunamis, like cities and date...\n"
   ]
  },
  {
   "cell_type": "code",
   "execution_count": 31,
   "id": "3bff47dc",
   "metadata": {
    "execution": {
     "iopub.execute_input": "2023-04-17T15:44:33.387402Z",
     "iopub.status.busy": "2023-04-17T15:44:33.386230Z",
     "iopub.status.idle": "2023-04-17T15:44:33.394317Z",
     "shell.execute_reply": "2023-04-17T15:44:33.393382Z"
    },
    "papermill": {
     "duration": 0.031617,
     "end_time": "2023-04-17T15:44:33.396849",
     "exception": false,
     "start_time": "2023-04-17T15:44:33.365232",
     "status": "completed"
    },
    "tags": []
   },
   "outputs": [],
   "source": [
    "USA = data[data['Country']== 'USA']\n",
    "USA.loc[USA['Deposits']==0, 'Deposits'] =0.05"
   ]
  },
  {
   "cell_type": "code",
   "execution_count": 32,
   "id": "a03e12f4",
   "metadata": {
    "execution": {
     "iopub.execute_input": "2023-04-17T15:44:33.438799Z",
     "iopub.status.busy": "2023-04-17T15:44:33.438000Z",
     "iopub.status.idle": "2023-04-17T15:44:33.517437Z",
     "shell.execute_reply": "2023-04-17T15:44:33.515989Z"
    },
    "papermill": {
     "duration": 0.103857,
     "end_time": "2023-04-17T15:44:33.520332",
     "exception": false,
     "start_time": "2023-04-17T15:44:33.416475",
     "status": "completed"
    },
    "tags": []
   },
   "outputs": [
    {
     "data": {
      "text/html": [
       "<div>                            <div id=\"08e9bbfc-ba94-4021-866a-5ca7c6ba4613\" class=\"plotly-graph-div\" style=\"height:550px; width:1000px;\"></div>            <script type=\"text/javascript\">                require([\"plotly\"], function(Plotly) {                    window.PLOTLYENV=window.PLOTLYENV || {};                                    if (document.getElementById(\"08e9bbfc-ba94-4021-866a-5ca7c6ba4613\")) {                    Plotly.newPlot(                        \"08e9bbfc-ba94-4021-866a-5ca7c6ba4613\",                        [{\"customdata\":[[1806.0,\"Maybe\",null],[1811.0,\"Fake\",null],[1811.0,\"Fake\",null],[1812.0,\"Fake\",null],[1812.0,\"Fake\",null],[1812.0,\"True\",1.0],[1812.0,\"Maybe\",null],[1813.0,\"Fake\",null],[1817.0,\"Fake\",null],[1820.0,\"Maybe\",null],[1820.0,\"Maybe\",null],[1821.0,\"Maybe\",null],[1823.0,\"Fake\",null],[1825.0,\"Fake\",null],[1826.0,\"Fake\",null],[1827.0,\"Maybe\",null],[1827.0,\"Fake\",null],[1827.0,\"Fake\",null],[1839.0,\"Maybe\",null],[1840.0,\"Fake\",null],[1840.0,\"Fake\",null],[1840.0,\"Fake\",null],[1845.0,\"Maybe\",100.0],[1851.0,\"Maybe\",null],[1851.0,\"Maybe\",null],[1852.0,\"Maybe\",null],[1853.0,\"True\",null],[1854.0,\"Maybe\",null],[1854.0,\"Maybe\",null],[1854.0,\"Maybe\",null],[1854.0,\"Maybe\",null],[1854.0,\"Maybe\",null],[1854.0,\"Maybe\",null],[1854.0,\"Fake\",null],[1854.0,\"Fake\",null],[1854.0,\"Fake\",null],[1855.0,\"Maybe\",null],[1855.0,\"Maybe\",null],[1855.0,\"Maybe\",null],[1856.0,\"Maybe\",null],[1856.0,\"Maybe\",null],[1859.0,\"Maybe\",null],[1860.0,\"Maybe\",null],[1861.0,\"Fake\",null],[1861.0,\"Fake\",null],[1862.0,\"Maybe\",null],[1862.0,\"True\",null],[1865.0,\"Maybe\",null],[1865.0,\"Fake\",null],[1865.0,\"Maybe\",null],[1866.0,\"Maybe\",null],[1866.0,\"Fake\",null],[1868.0,\"True\",77.0],[1868.0,\"Fake\",null],[1868.0,\"Fake\",null],[1868.0,\"Fake\",null],[1868.0,\"Maybe\",null],[1868.0,\"Fake\",null],[1868.0,\"Maybe\",null],[1868.0,\"Maybe\",30.0],[1869.0,\"Maybe\",null],[1869.0,\"Maybe\",null],[1869.0,\"Maybe\",null],[1869.0,\"Maybe\",null],[1871.0,\"Fake\",null],[1871.0,\"Maybe\",null],[1871.0,\"Maybe\",null],[1872.0,\"Fake\",null],[1872.0,\"Fake\",null],[1872.0,\"Fake\",null],[1872.0,\"Maybe\",null],[1872.0,\"True\",null],[1872.0,\"Fake\",null],[1872.0,\"Maybe\",null],[1872.0,\"Maybe\",null],[1873.0,\"Maybe\",null],[1874.0,\"Maybe\",null],[1875.0,\"Fake\",null],[1877.0,\"Fake\",null],[1877.0,\"Maybe\",null],[1877.0,\"Maybe\",null],[1877.0,\"Maybe\",null],[1878.0,\"Fake\",null],[1878.0,\"Maybe\",null],[1878.0,\"Maybe\",null],[1878.0,\"Maybe\",1.0],[1879.0,\"Maybe\",null],[1879.0,\"Maybe\",null],[1880.0,\"Maybe\",null],[1880.0,\"Maybe\",null],[1883.0,\"True\",8.0],[1883.0,\"Maybe\",null],[1884.0,\"Fake\",null],[1884.0,\"Maybe\",null],[1884.0,\"Fake\",null],[1884.0,\"Maybe\",null],[1884.0,\"Maybe\",null],[1885.0,\"Maybe\",null],[1885.0,\"Fake\",null],[1886.0,\"True\",null],[1887.0,\"Fake\",null],[1887.0,\"Maybe\",null],[1889.0,\"Maybe\",null],[1889.0,\"Fake\",null],[1891.0,\"Maybe\",null],[1894.0,\"Maybe\",2.0],[1895.0,\"Fake\",null],[1895.0,\"Maybe\",null],[1895.0,\"Maybe\",null],[1895.0,\"Maybe\",null],[1895.0,\"Fake\",null],[1895.0,\"Fake\",null],[1896.0,\"Fake\",null],[1897.0,\"Maybe\",null],[1898.0,\"Maybe\",null],[1899.0,\"True\",null],[1899.0,\"True\",null],[1899.0,\"Maybe\",null],[1900.0,\"True\",5.0],[1901.0,\"Maybe\",null],[1901.0,\"Maybe\",null],[1903.0,\"Maybe\",null],[1903.0,\"Fake\",null],[1903.0,\"Fake\",null],[1903.0,\"Maybe\",null],[1903.0,\"True\",null],[1903.0,\"Fake\",null],[1904.0,\"Fake\",null],[1905.0,\"True\",null],[1906.0,\"True\",null],[1906.0,\"Maybe\",null],[1906.0,\"Fake\",null],[1907.0,\"Maybe\",null],[1908.0,\"Maybe\",null],[1908.0,\"True\",null],[1909.0,\"Fake\",300.0],[1909.0,\"Fake\",null],[1910.0,\"Maybe\",null],[1910.0,\"Fake\",null],[1911.0,\"Maybe\",null],[1912.0,\"Fake\",null],[1913.0,\"Maybe\",null],[1913.0,\"Maybe\",null],[1917.0,\"Maybe\",1.0],[1919.0,\"Fake\",null],[1919.0,\"Fake\",null],[1919.0,\"True\",null],[1921.0,\"Fake\",null],[1922.0,\"Maybe\",null],[1923.0,\"Fake\",null],[1923.0,\"Maybe\",2.0],[1923.0,\"Fake\",null],[1924.0,\"Fake\",null],[1924.0,\"Maybe\",null],[1925.0,\"Maybe\",null],[1925.0,\"True\",null],[1926.0,\"Maybe\",null],[1926.0,\"Maybe\",null],[1927.0,\"Maybe\",1.0],[1927.0,\"Maybe\",null],[1927.0,\"Maybe\",null],[1927.0,\"True\",null],[1929.0,\"True\",null],[1929.0,\"Fake\",null],[1930.0,\"Fake\",null],[1930.0,\"Maybe\",1.0],[1931.0,\"Maybe\",4.0],[1932.0,\"Fake\",null],[1933.0,\"Maybe\",120.0],[1934.0,\"Fake\",null],[1935.0,\"Maybe\",null],[1936.0,\"True\",null],[1937.0,\"Fake\",null],[1938.0,\"Maybe\",null],[1938.0,\"True\",null],[1941.0,\"Fake\",null],[1944.0,\"Fake\",null],[1944.0,\"Maybe\",null],[1944.0,\"Maybe\",null],[1946.0,\"True\",168.0],[1946.0,\"Maybe\",null],[1947.0,\"Fake\",null],[1949.0,\"Maybe\",8.0],[1949.0,\"True\",null],[1949.0,\"Fake\",null],[1949.0,\"Fake\",null],[1951.0,\"Fake\",null],[1951.0,\"True\",null],[1952.0,\"True\",null],[1952.0,\"Fake\",null],[1952.0,\"Fake\",null],[1952.0,\"Fake\",null],[1953.0,\"Fake\",null],[1953.0,\"Fake\",null],[1953.0,\"Fake\",null],[1954.0,\"Fake\",7.0],[1957.0,\"True\",2.0],[1957.0,\"Fake\",null],[1958.0,\"True\",5.0],[1959.0,\"Fake\",28.0],[1962.0,\"Maybe\",null],[1964.0,\"Maybe\",null],[1964.0,\"True\",139.0],[1964.0,\"Maybe\",null],[1965.0,\"True\",null],[1965.0,\"True\",null],[1965.0,\"True\",null],[1967.0,\"Fake\",null],[1970.0,\"True\",null],[1971.0,\"True\",null],[1971.0,\"Maybe\",null],[1972.0,\"True\",null],[1975.0,\"True\",2.0],[1979.0,\"True\",null],[1980.0,\"Fake\",61.0],[1986.0,\"True\",null],[1986.0,\"Maybe\",null],[1987.0,\"True\",null],[1987.0,\"True\",null],[1988.0,\"True\",null],[1988.0,\"Fake\",null],[1989.0,\"True\",null],[1989.0,\"True\",null],[1989.0,\"True\",62.0],[1991.0,\"True\",null],[1992.0,\"True\",null],[1992.0,\"Maybe\",null],[1994.0,\"Maybe\",null],[1994.0,\"Maybe\",60.0],[1994.0,\"True\",null],[1994.0,\"True\",1.0],[1996.0,\"True\",null],[1996.0,\"True\",null],[2000.0,\"Maybe\",null],[2003.0,\"True\",null],[2005.0,\"True\",null],[2006.0,\"Fake\",null],[2006.0,\"True\",null],[2007.0,\"True\",null],[2008.0,\"True\",null],[2008.0,\"Maybe\",null],[2009.0,\"Fake\",null],[2011.0,\"True\",null],[2011.0,\"True\",null],[2013.0,\"True\",null],[2013.0,\"True\",null],[2014.0,\"True\",null],[2014.0,\"True\",null],[2015.0,\"True\",null],[2015.0,\"True\",null],[2017.0,\"True\",null],[2018.0,\"True\",null],[2018.0,\"True\",null],[2018.0,\"True\",null],[2019.0,\"True\",null],[2020.0,\"True\",null],[2020.0,\"True\",null],[2020.0,\"True\",null],[2020.0,\"True\",null],[2021.0,\"True\",null]],\"hovertemplate\":\"<b>%{hovertext}</b><br><br>Deposits=%{marker.color}<br>Latitude=%{lat}<br>Longitude=%{lon}<br>Year=%{customdata[0]}<br>Kind=%{customdata[1]}<br>Death=%{customdata[2]}<extra></extra>\",\"hovertext\":[\"SANTA BARBARA, S. CALIFORNIA\",\"AR: NE -  NEW MADRID EARTHQUAKES\",\"AR: NE  - NEW MADRID EARTHQUAKES\",\"NEW MADRID, MO\",\"NEW MADRID, MO\",\"S. CALIFORNIA\",\"SAN FRANCISCO, N. CALIFORNIA\",\"HAWAII\",\"PHILADELPHIA, PENNSYLVANIA\",\"E. ALEUTIAN ISLANDS, AK\",\"CAMANO ISLAND, WA\",\"ASSATEAGUE ISLAND, VA\",\"LAKE ERIE\",\"UNIMAK ISLAND, AK\",\"UNIMAK ISLAND, AK\",\"N. CALIFORNIA\",\"ALASKA PENINSULA, AK\",\"E. ALEUTIAN ISLANDS, AK\",\"HAWAII\",\"S. CALIFORNIA\",\"PHILADELPHIA, PENNSYLVANIA\",\"HAWAII\",\"SE. ALASKA, AK\",\"N. CALIFORNIA\",\"SAN FRANCISCO BAY, N. CALIFORNIA\",\"SAN FRANCISCO, N. CALIFORNIA\",\"LITUYA BAY, AK\",\"KODIAK ISLAND, AK\",\"S. CALIFORNIA\",\"S. CALIFORNIA\",\"S. CALIFORNIA\",\"N. CALIFORNIA\",\"N. CALIFORNIA\",\"N. CALIFORNIA\",\"N. CALIFORNIA\",\"N. CALIFORNIA\",\"N. CALIFORNIA\",\"S. CALIFORNIA\",\"N. CALIFORNIA\",\"N. CALIFORNIA\",\"UNIMAK ISLAND, AK\",\"HALF MOON BAY, N. CALIFORNIA\",\"HAWAII\",\"N. CALIFORNIA\",\"N. CALIFORNIA\",\"HAWAII\",\"S. CALIFORNIA\",\"UNALASKA ISLAND, AK\",\"SAN FRANCISCO, CA\",\"N. CALIFORNIA\",\"KODIAK ISLAND, AK\",\"PORT TOWNSEND, WA\",\"HAWAII\",\"HAWAII\",\"HAWAII\",\"HAWAII\",\"SHUMAGIN ISLANDS, AK\",\"S. CALIFORNIA\",\"HAWAII\",\"N. CALIFORNIA\",\"N. CALIFORNIA\",\"N. CALIFORNIA\",\"N. CALIFORNIA\",\"OFF N COAST OF OAHU, HAWAII\",\"HAWAII\",\"HAWAII\",\"LONG ISLAND, NEW YORK\",\"HAWAII\",\"HAWAII\",\"S. CALIFORNIA\",\"LAKE ONTARIO\",\"FOX ISLANDS, ALEUTIAN ISLANDS, AK\",\"HAWAII\",\"SAN FRANCISCO, N. CALIFORNIA\",\"PENOBSCOT BAY, MAINE\",\"N. CALIFORNIA\",\"LITUYA BAY, AK\",\"N. CALIFORNIA\",\"S.W. COAST OF HAWAII\",\"S.W. COAST OF HAWAII\",\"N. TO S. CALIFORNIA\",\"HAWAII\",\"CALIFORNIA\",\"ALEUTIAN ISLANDS, AK\",\"UNALASKA ISLAND, AK\",\"S. CALIFORNIA\",\"S. CALIFORNIA\",\"OFF COAST NANTUCKET, MASSACHUSETTS\",\"CHIRIKOF ISLAND, AK\",\"SITKA, AK\",\"COOK INLET, AK\",\"PUUNALUU, HAWAII\",\"N. CALIFORNIA\",\"ROCKAWAY BEACH, NEW YORK\",\"IN THE DETROIT RIVER, MI\",\"N. CALIFORNIA\",\"NEW HAVEN, CT\",\"N. CALIFORNIA\",\"N. CALIFORNIA\",\"CHARLESTON, SC\",\"HAWAII\",\"N. CALIFORNIA\",\"HAWAII\",\"ASBURY PARK, NJ\",\"WASHINGTON\",\"PUYALLUP RIVER DELTA, TACOMA, WA\",\"HAWAII\",\"S. CALIFORNIA\",\"S. CALIFORNIA\",\"HIGH BRIDGE, NJ\",\"N. CALIFORNIA\",\"CHARLESTON, MO\",\"SANTA BARBARA, CA\",\"GULF OF ALASKA, AK\",\"OAKLAND, N. CALIFORNIA\",\"CAPE YAKATAGA, AK\",\"YAKUTAT BAY, AK\",\"S. CALIFORNIA\",\"LITUYA BAY, AK\",\"MONTEREY BAY, N. CALIFORNIA\",\"FOX ISLANDS, ALEUTIAN ISLANDS, AK\",\"COOK INLET, AK\",\"HAWAII\",\"HAWAII\",\"HAWAII\",\"HAWAII\",\"HAWAII\",\"WASHINGTON-OREGON\",\"DISENCHANTMENT BAY, AK\",\"N. CALIFORNIA\",\"S. CALIFORNIA\",\"WASHINGTON-OREGON\",\"SKAGWAY, AK\",\"PRINCE WILLIAM SOUND, AK\",\"HAWAII\",\"LOUISIANA: GRAND ISLE\",\"UTAH\",\"NOME, AK\",\"SAN FRANCISCO, CA\",\"PRINCE WILLIAM SOUND, AK\",\"SOUTHERN SHORE, LAKE ERIE (OHIO)\",\"LONGPORT, NJ\",\"SANTA BARBARA, S. CALIFORNIA\",\"TAKU INLET, JUNEAU, AK\",\"HAWAII\",\"HAWAII\",\"ALIKA, HAWAII\",\"HAWAII\",\"GULF OF MEXICO\",\"N. CALIFORNIA\",\"ROCKAWAY BEACH, NY\",\"N. CALIFORNIA\",\"HAWAII\",\"CONEY ISLAND, NY\",\"GULF OF ALASKA, AK\",\"CALIFORNIA\",\"BERNARD, ME\",\"HAWAII\",\"S. CALIFORNIA\",\"SE. ALASKA, AK\",\"SE. ALASKA, AK\",\"S. CALIFORNIA\",\"FOX ISLANDS, ALEUTIAN ISLANDS, AK\",\"ATTICA, NEW YORK\",\"HAWAII\",\"S. CALIFORNIA\",\"ATLANTIC CITY, NJ\",\"WILLETTS POINT, NEW YORK\",\"S. CALIFORNIA\",\"S. CALIFORNIA\",\"HAWAII\",\"LITUYA BAY, AK\",\"BERING SEA, AK\",\"NEW JERSEY COAST\",\"SHUMAGIN ISLANDS, AK\",\"NORTHERN CALIFORNIA\",\"COLUMBIA RIVER VALLEY, WA\",\"NEW JERSEY COAST\",\"CONEY ISLAND, NY\",\"UNIMAK ISLAND, AK\",\"ANDREANOF ISLANDS, AK\",\"HAWAII\",\"PUGET SOUND, WA\",\"PUGET SOUND, WA\",\"COLUMBIA RIVER VALLEY, WA\",\"GULF OF ALASKA, AK\",\"COLUMBIA RIVER VALLEY, WA\",\"HAWAII\",\"HAWAII\",\"COLUMBIA RIVER VALLEY, WA\",\"LAKE HURON, MI\",\"COLUMBIA RIVER VALLEY, WA\",\"COLUMBIA RIVER VALLEY, WA\",\"COLUMBIA RIVER VALLEY, WA\",\"COLUMBIA RIVER VALLEY, WA\",\"MICHIGAN CITY, IN (LAKE MICHIGAN)\",\"ANDREANOF ISLANDS, AK\",\"HAWAII\",\"SE. ALASKA, AK\",\"HEGBEN LAKE, MONTANA\",\"FOX ISLANDS, ALEUTIAN ISLANDS, AK\",\"GULF OF ALASKA, AK\",\"PRINCE WILLIAM SOUND, AK\",\"LONG ISLAND, NY\",\"RAT ISLANDS, ALEUTIAN ISLANDS, AK\",\"RAT ISLANDS, ALEUTIAN ISLANDS, AK\",\"FOX ISLANDS, ALEUTIAN ISLANDS, AK\",\"GREWINGK, AK\",\"ANDREANOF ISLANDS, AK\",\"ANDREANOF ISLANDS, AK\",\"RAT ISLANDS, ALEUTIAN ISLANDS, AK\",\"SE. ALASKA, AK\",\"HAWAII\",\"SE. ALASKA, AK\",\"WASHINGTON\",\"ANDREANOF ISLANDS, AK\",\"ANDREANOF ISLANDS, AK\",\"GULF OF ALASKA, AK\",\"GULF OF ALASKA, AK\",\"GULF OF ALASKA, AK\",\"S. CALIFORNIA\",\"HAWAII\",\"SEMIDI ISLANDS, AK\",\"N. CALIFORNIA\",\"BERING SEA, AK\",\"CAPE MENDOCINO, N. CALIFORNIA\",\"DAYTONA BEACH, FL\",\"COREA HARBOR, MAINE\",\"WEST COAST, USA\",\"N. CALIFORNIA\",\"SKAGWAY, AK\",\"ANDREANOF ISLANDS, AK\",\"ANDREANOF ISLANDS, AK\",\"POINT ARGUELLO, S. CALIFORNIA\",\"RAT ISLANDS, ALEUTIAN ISLANDS, AK\",\"N. CALIFORNIA\",\"COLUMBIA RIVER VALLEY, WA\",\"HAWAII\",\"ALEUTIAN ISLANDS, AK\",\"KASATOCHI VOLCANO, ALEUTIAN IS, AK\",\"MAINE\",\"COLUMBIA RIVER VALLEY, WA\",\"ATKA, ALEUTIAN ISLANDS, AK\",\"FOX ISLANDS, ALEUTIAN ISLANDS, AK\",\"SE. ALASKA, AK\",\"NORTHWEST ATLANTIC OCEAN\",\"ALEUTIAN ISLANDS, AK\",\"PALMA BAY, AK\",\"FOX ISLANDS, ALEUTIAN ISLANDS, AK\",\"ICY BAY, AK\",\"SKAGWAY, AK\",\"KODIAK ISLAND, AK\",\"HAWAII\",\"NORTHEAST U.S.A.\",\"LAKE ERIE\",\"GULF OF MEXICO\",\"GULF OF MEXICO\",\"SHUMAGIN ISLANDS, AK\",\"SHUMAGIN ISLANDS, AK\",\"KODIAK ISLAND, AK\"],\"lat\":[34.4,35.6,35.6,36.3,36.5,34.2,null,null,39.95,54.52,48.06,38.083,42.7,54.77,55.0,null,null,null,null,null,39.8,null,null,37.8,null,null,58.63,57.0,34.4,null,null,null,37.8,null,null,null,40.75,34.1,37.8,37.5,54.6,null,null,null,null,null,32.7,54.0,37.0,37.2,58.0,null,19.0,null,null,null,55.0,null,null,37.7,null,null,null,20.0,null,20.7,40.5,null,null,36.7,43.5,52.2,null,null,44.183,42.0,58.64,null,null,19.475,35.0,19.475,null,null,54.0,35.18,34.227,41.28,55.8,57.0,59.4,19.133,38.0,40.6,42.35,40.0,41.31,null,null,32.9,19.0,null,null,null,48.0,47.286,null,null,null,40.667,null,37.0,null,null,38.2,60.0,60.0,33.8,58.6,36.0,51.45,null,null,null,null,null,null,null,60.0,37.7,33.9,null,59.5,61.0,19.0,null,41.8,64.0,null,60.5,42.0,39.314,null,58.204,null,null,19.23,null,null,40.8,40.6,null,null,40.567,60.0,null,44.233,20.5,32.5,null,57.69,34.813,50.88,42.9,null,34.03,39.35,null,33.616,33.7,19.5,58.6,58.0,39.95,55.48,40.5,null,38.933,40.3,53.492,51.5,null,47.167,null,null,59.75,null,19.5,19.1,null,43.1,null,null,null,null,41.7,51.292,null,58.37,44.712,52.47,null,61.017,40.8,51.29,50.32,53.03,59.621,57.5,51.228,51.5,56.82,19.451,60.691,46.2,51.52,52.327,58.586,58.679,57.262,null,19.362,55.543,37.036,58.427,40.368,null,44.4,34.213,40.402,59.5,51.564,51.478,34.5,51.146,41.301,null,19.878,51.307,52.18,43.8,null,52.05,52.171,55.393,null,51.849,58.306,52.214,60.08,59.852,56.004,19.313,null,null,null,null,55.03,54.608,55.325],\"legendgroup\":\"\",\"lon\":[-119.7,-90.4,-90.4,-89.6,-89.6,-119.9,null,null,-75.1,-164.65,-122.36,-75.208,-79.0,-164.18,-165.0,null,null,null,null,null,-75.2,null,null,-122.4,null,null,-137.57,-152.0,-119.7,null,null,null,-122.4,null,null,null,-124.2,-118.1,-122.4,-122.3,-165.0,null,null,null,null,null,-117.2,-167.0,-122.0,-121.9,-152.0,null,-155.5,null,null,null,-161.0,null,null,-122.1,null,null,null,-155.0,null,-157.0,-73.9,null,null,-118.1,-78.0,-168.5,null,null,-68.917,-124.0,-137.57,null,null,-155.608,-120.0,-155.608,null,null,-167.0,-120.731,-118.433,-70.08,-155.6,-136.0,-153.4,-155.505,-122.0,-73.75,-82.95,-122.0,-72.92,null,null,-80.0,-155.0,null,null,null,-123.5,-122.445,null,null,null,-74.883,null,-89.4,null,null,-122.4,-142.0,-140.0,-118.5,-137.5,-120.5,-171.02,null,null,null,null,null,null,null,-139.58,-122.5,-117.0,null,-135.5,-146.2,-155.0,null,-112.7,-165.0,null,-149.0,-81.0,-74.525,null,-134.147,null,null,-155.9,null,null,-124.5,-73.5,null,null,-73.983,-146.0,null,-68.35,-155.5,-115.5,null,-136.07,-120.774,-169.71,-78.3,null,-118.643,-74.417,null,-117.966,-118.2,-155.5,-137.1,-165.0,-74.12,-158.37,-125.25,null,-74.9,-74.0,-162.832,-174.5,null,-122.617,null,null,-149.0,null,-156.0,-155.0,null,-82.4,null,null,null,null,-86.883,-175.629,null,-136.665,-111.215,-168.54,null,-147.648,-73.1,178.55,177.93,-167.55,-151.106,-153.9,-177.173,179.1,-135.685,-155.033,-141.671,-122.18,-174.776,-174.504,-143.27,-142.786,-142.747,null,-155.083,-156.835,-121.883,-175.45,-124.316,null,-67.97,-118.537,-125.68,-135.3,-177.632,-176.847,-120.65,178.65,-125.97,null,-155.935,-179.971,-175.5,-69.7,null,-171.836,-171.708,-134.652,null,178.735,-136.96,-169.399,-141.3,-136.677,-149.166,-154.998,null,null,null,null,-158.522,-159.655,-157.841],\"marker\":{\"color\":[0.05,0.05,0.05,0.05,0.05,0.05,0.05,0.05,0.05,0.05,0.05,0.05,0.05,0.05,0.05,0.05,0.05,0.05,0.05,0.05,0.05,0.05,0.05,0.05,0.05,0.05,0.05,0.05,0.05,0.05,0.05,0.05,0.05,0.05,0.05,0.05,0.05,0.05,0.05,0.05,0.05,0.05,0.05,0.05,0.05,0.05,0.05,0.05,0.05,0.05,0.05,0.05,1.0,0.05,0.05,0.05,0.05,0.05,0.05,0.05,0.05,0.05,0.05,0.05,0.05,0.05,0.05,0.05,0.05,1.0,0.05,0.05,0.05,0.05,0.05,0.05,0.05,0.05,0.05,0.05,0.05,0.05,0.05,0.05,1.0,0.05,0.05,0.05,0.05,0.05,8.0,0.05,0.05,0.05,0.05,0.05,0.05,0.05,0.05,0.05,0.05,0.05,0.05,0.05,4.0,0.05,0.05,0.05,0.05,0.05,0.05,0.05,0.05,0.05,0.05,1.0,0.05,0.05,0.05,0.05,0.05,0.05,0.05,0.05,0.05,0.05,0.05,0.05,0.05,0.05,0.05,0.05,0.05,0.05,0.05,0.05,0.05,0.05,0.05,0.05,0.05,0.05,0.05,0.05,0.05,0.05,0.05,0.05,0.05,0.05,0.05,0.05,0.05,0.05,0.05,0.05,0.05,0.05,0.05,0.05,0.05,0.05,0.05,0.05,0.05,0.05,0.05,0.05,0.05,0.05,0.05,0.05,0.05,0.05,0.05,0.05,0.05,0.05,0.05,11.0,0.05,0.05,0.05,0.05,0.05,0.05,0.05,0.05,0.05,0.05,0.05,0.05,0.05,0.05,0.05,0.05,6.0,0.05,2.0,0.05,0.05,0.05,20.0,0.05,0.05,0.05,0.05,0.05,0.05,0.05,0.05,0.05,1.0,0.05,0.05,0.05,0.05,0.05,0.05,0.05,0.05,0.05,0.05,0.05,0.05,0.05,0.05,0.05,0.05,0.05,0.05,0.05,0.05,0.05,0.05,0.05,0.05,0.05,0.05,0.05,0.05,0.05,0.05,0.05,0.05,0.05,0.05,0.05,0.05,1.0,0.05,0.05,0.05,0.05,0.05,0.05,0.05,0.05,0.05,0.05],\"coloraxis\":\"coloraxis\",\"size\":[0.05,0.05,0.05,0.05,0.05,0.05,0.05,0.05,0.05,0.05,0.05,0.05,0.05,0.05,0.05,0.05,0.05,0.05,0.05,0.05,0.05,0.05,0.05,0.05,0.05,0.05,0.05,0.05,0.05,0.05,0.05,0.05,0.05,0.05,0.05,0.05,0.05,0.05,0.05,0.05,0.05,0.05,0.05,0.05,0.05,0.05,0.05,0.05,0.05,0.05,0.05,0.05,1.0,0.05,0.05,0.05,0.05,0.05,0.05,0.05,0.05,0.05,0.05,0.05,0.05,0.05,0.05,0.05,0.05,1.0,0.05,0.05,0.05,0.05,0.05,0.05,0.05,0.05,0.05,0.05,0.05,0.05,0.05,0.05,1.0,0.05,0.05,0.05,0.05,0.05,8.0,0.05,0.05,0.05,0.05,0.05,0.05,0.05,0.05,0.05,0.05,0.05,0.05,0.05,4.0,0.05,0.05,0.05,0.05,0.05,0.05,0.05,0.05,0.05,0.05,1.0,0.05,0.05,0.05,0.05,0.05,0.05,0.05,0.05,0.05,0.05,0.05,0.05,0.05,0.05,0.05,0.05,0.05,0.05,0.05,0.05,0.05,0.05,0.05,0.05,0.05,0.05,0.05,0.05,0.05,0.05,0.05,0.05,0.05,0.05,0.05,0.05,0.05,0.05,0.05,0.05,0.05,0.05,0.05,0.05,0.05,0.05,0.05,0.05,0.05,0.05,0.05,0.05,0.05,0.05,0.05,0.05,0.05,0.05,0.05,0.05,0.05,0.05,0.05,11.0,0.05,0.05,0.05,0.05,0.05,0.05,0.05,0.05,0.05,0.05,0.05,0.05,0.05,0.05,0.05,0.05,6.0,0.05,2.0,0.05,0.05,0.05,20.0,0.05,0.05,0.05,0.05,0.05,0.05,0.05,0.05,0.05,1.0,0.05,0.05,0.05,0.05,0.05,0.05,0.05,0.05,0.05,0.05,0.05,0.05,0.05,0.05,0.05,0.05,0.05,0.05,0.05,0.05,0.05,0.05,0.05,0.05,0.05,0.05,0.05,0.05,0.05,0.05,0.05,0.05,0.05,0.05,0.05,0.05,1.0,0.05,0.05,0.05,0.05,0.05,0.05,0.05,0.05,0.05,0.05],\"sizemode\":\"area\",\"sizeref\":0.0163265306122449},\"mode\":\"markers\",\"name\":\"\",\"showlegend\":false,\"subplot\":\"mapbox\",\"type\":\"scattermapbox\"}],                        {\"template\":{\"data\":{\"histogram2dcontour\":[{\"type\":\"histogram2dcontour\",\"colorbar\":{\"outlinewidth\":0,\"ticks\":\"\"},\"colorscale\":[[0.0,\"#0d0887\"],[0.1111111111111111,\"#46039f\"],[0.2222222222222222,\"#7201a8\"],[0.3333333333333333,\"#9c179e\"],[0.4444444444444444,\"#bd3786\"],[0.5555555555555556,\"#d8576b\"],[0.6666666666666666,\"#ed7953\"],[0.7777777777777778,\"#fb9f3a\"],[0.8888888888888888,\"#fdca26\"],[1.0,\"#f0f921\"]]}],\"choropleth\":[{\"type\":\"choropleth\",\"colorbar\":{\"outlinewidth\":0,\"ticks\":\"\"}}],\"histogram2d\":[{\"type\":\"histogram2d\",\"colorbar\":{\"outlinewidth\":0,\"ticks\":\"\"},\"colorscale\":[[0.0,\"#0d0887\"],[0.1111111111111111,\"#46039f\"],[0.2222222222222222,\"#7201a8\"],[0.3333333333333333,\"#9c179e\"],[0.4444444444444444,\"#bd3786\"],[0.5555555555555556,\"#d8576b\"],[0.6666666666666666,\"#ed7953\"],[0.7777777777777778,\"#fb9f3a\"],[0.8888888888888888,\"#fdca26\"],[1.0,\"#f0f921\"]]}],\"heatmap\":[{\"type\":\"heatmap\",\"colorbar\":{\"outlinewidth\":0,\"ticks\":\"\"},\"colorscale\":[[0.0,\"#0d0887\"],[0.1111111111111111,\"#46039f\"],[0.2222222222222222,\"#7201a8\"],[0.3333333333333333,\"#9c179e\"],[0.4444444444444444,\"#bd3786\"],[0.5555555555555556,\"#d8576b\"],[0.6666666666666666,\"#ed7953\"],[0.7777777777777778,\"#fb9f3a\"],[0.8888888888888888,\"#fdca26\"],[1.0,\"#f0f921\"]]}],\"heatmapgl\":[{\"type\":\"heatmapgl\",\"colorbar\":{\"outlinewidth\":0,\"ticks\":\"\"},\"colorscale\":[[0.0,\"#0d0887\"],[0.1111111111111111,\"#46039f\"],[0.2222222222222222,\"#7201a8\"],[0.3333333333333333,\"#9c179e\"],[0.4444444444444444,\"#bd3786\"],[0.5555555555555556,\"#d8576b\"],[0.6666666666666666,\"#ed7953\"],[0.7777777777777778,\"#fb9f3a\"],[0.8888888888888888,\"#fdca26\"],[1.0,\"#f0f921\"]]}],\"contourcarpet\":[{\"type\":\"contourcarpet\",\"colorbar\":{\"outlinewidth\":0,\"ticks\":\"\"}}],\"contour\":[{\"type\":\"contour\",\"colorbar\":{\"outlinewidth\":0,\"ticks\":\"\"},\"colorscale\":[[0.0,\"#0d0887\"],[0.1111111111111111,\"#46039f\"],[0.2222222222222222,\"#7201a8\"],[0.3333333333333333,\"#9c179e\"],[0.4444444444444444,\"#bd3786\"],[0.5555555555555556,\"#d8576b\"],[0.6666666666666666,\"#ed7953\"],[0.7777777777777778,\"#fb9f3a\"],[0.8888888888888888,\"#fdca26\"],[1.0,\"#f0f921\"]]}],\"surface\":[{\"type\":\"surface\",\"colorbar\":{\"outlinewidth\":0,\"ticks\":\"\"},\"colorscale\":[[0.0,\"#0d0887\"],[0.1111111111111111,\"#46039f\"],[0.2222222222222222,\"#7201a8\"],[0.3333333333333333,\"#9c179e\"],[0.4444444444444444,\"#bd3786\"],[0.5555555555555556,\"#d8576b\"],[0.6666666666666666,\"#ed7953\"],[0.7777777777777778,\"#fb9f3a\"],[0.8888888888888888,\"#fdca26\"],[1.0,\"#f0f921\"]]}],\"mesh3d\":[{\"type\":\"mesh3d\",\"colorbar\":{\"outlinewidth\":0,\"ticks\":\"\"}}],\"scatter\":[{\"fillpattern\":{\"fillmode\":\"overlay\",\"size\":10,\"solidity\":0.2},\"type\":\"scatter\"}],\"parcoords\":[{\"type\":\"parcoords\",\"line\":{\"colorbar\":{\"outlinewidth\":0,\"ticks\":\"\"}}}],\"scatterpolargl\":[{\"type\":\"scatterpolargl\",\"marker\":{\"colorbar\":{\"outlinewidth\":0,\"ticks\":\"\"}}}],\"bar\":[{\"error_x\":{\"color\":\"#2a3f5f\"},\"error_y\":{\"color\":\"#2a3f5f\"},\"marker\":{\"line\":{\"color\":\"#E5ECF6\",\"width\":0.5},\"pattern\":{\"fillmode\":\"overlay\",\"size\":10,\"solidity\":0.2}},\"type\":\"bar\"}],\"scattergeo\":[{\"type\":\"scattergeo\",\"marker\":{\"colorbar\":{\"outlinewidth\":0,\"ticks\":\"\"}}}],\"scatterpolar\":[{\"type\":\"scatterpolar\",\"marker\":{\"colorbar\":{\"outlinewidth\":0,\"ticks\":\"\"}}}],\"histogram\":[{\"marker\":{\"pattern\":{\"fillmode\":\"overlay\",\"size\":10,\"solidity\":0.2}},\"type\":\"histogram\"}],\"scattergl\":[{\"type\":\"scattergl\",\"marker\":{\"colorbar\":{\"outlinewidth\":0,\"ticks\":\"\"}}}],\"scatter3d\":[{\"type\":\"scatter3d\",\"line\":{\"colorbar\":{\"outlinewidth\":0,\"ticks\":\"\"}},\"marker\":{\"colorbar\":{\"outlinewidth\":0,\"ticks\":\"\"}}}],\"scattermapbox\":[{\"type\":\"scattermapbox\",\"marker\":{\"colorbar\":{\"outlinewidth\":0,\"ticks\":\"\"}}}],\"scatterternary\":[{\"type\":\"scatterternary\",\"marker\":{\"colorbar\":{\"outlinewidth\":0,\"ticks\":\"\"}}}],\"scattercarpet\":[{\"type\":\"scattercarpet\",\"marker\":{\"colorbar\":{\"outlinewidth\":0,\"ticks\":\"\"}}}],\"carpet\":[{\"aaxis\":{\"endlinecolor\":\"#2a3f5f\",\"gridcolor\":\"white\",\"linecolor\":\"white\",\"minorgridcolor\":\"white\",\"startlinecolor\":\"#2a3f5f\"},\"baxis\":{\"endlinecolor\":\"#2a3f5f\",\"gridcolor\":\"white\",\"linecolor\":\"white\",\"minorgridcolor\":\"white\",\"startlinecolor\":\"#2a3f5f\"},\"type\":\"carpet\"}],\"table\":[{\"cells\":{\"fill\":{\"color\":\"#EBF0F8\"},\"line\":{\"color\":\"white\"}},\"header\":{\"fill\":{\"color\":\"#C8D4E3\"},\"line\":{\"color\":\"white\"}},\"type\":\"table\"}],\"barpolar\":[{\"marker\":{\"line\":{\"color\":\"#E5ECF6\",\"width\":0.5},\"pattern\":{\"fillmode\":\"overlay\",\"size\":10,\"solidity\":0.2}},\"type\":\"barpolar\"}],\"pie\":[{\"automargin\":true,\"type\":\"pie\"}]},\"layout\":{\"autotypenumbers\":\"strict\",\"colorway\":[\"#636efa\",\"#EF553B\",\"#00cc96\",\"#ab63fa\",\"#FFA15A\",\"#19d3f3\",\"#FF6692\",\"#B6E880\",\"#FF97FF\",\"#FECB52\"],\"font\":{\"color\":\"#2a3f5f\"},\"hovermode\":\"closest\",\"hoverlabel\":{\"align\":\"left\"},\"paper_bgcolor\":\"white\",\"plot_bgcolor\":\"#E5ECF6\",\"polar\":{\"bgcolor\":\"#E5ECF6\",\"angularaxis\":{\"gridcolor\":\"white\",\"linecolor\":\"white\",\"ticks\":\"\"},\"radialaxis\":{\"gridcolor\":\"white\",\"linecolor\":\"white\",\"ticks\":\"\"}},\"ternary\":{\"bgcolor\":\"#E5ECF6\",\"aaxis\":{\"gridcolor\":\"white\",\"linecolor\":\"white\",\"ticks\":\"\"},\"baxis\":{\"gridcolor\":\"white\",\"linecolor\":\"white\",\"ticks\":\"\"},\"caxis\":{\"gridcolor\":\"white\",\"linecolor\":\"white\",\"ticks\":\"\"}},\"coloraxis\":{\"colorbar\":{\"outlinewidth\":0,\"ticks\":\"\"}},\"colorscale\":{\"sequential\":[[0.0,\"#0d0887\"],[0.1111111111111111,\"#46039f\"],[0.2222222222222222,\"#7201a8\"],[0.3333333333333333,\"#9c179e\"],[0.4444444444444444,\"#bd3786\"],[0.5555555555555556,\"#d8576b\"],[0.6666666666666666,\"#ed7953\"],[0.7777777777777778,\"#fb9f3a\"],[0.8888888888888888,\"#fdca26\"],[1.0,\"#f0f921\"]],\"sequentialminus\":[[0.0,\"#0d0887\"],[0.1111111111111111,\"#46039f\"],[0.2222222222222222,\"#7201a8\"],[0.3333333333333333,\"#9c179e\"],[0.4444444444444444,\"#bd3786\"],[0.5555555555555556,\"#d8576b\"],[0.6666666666666666,\"#ed7953\"],[0.7777777777777778,\"#fb9f3a\"],[0.8888888888888888,\"#fdca26\"],[1.0,\"#f0f921\"]],\"diverging\":[[0,\"#8e0152\"],[0.1,\"#c51b7d\"],[0.2,\"#de77ae\"],[0.3,\"#f1b6da\"],[0.4,\"#fde0ef\"],[0.5,\"#f7f7f7\"],[0.6,\"#e6f5d0\"],[0.7,\"#b8e186\"],[0.8,\"#7fbc41\"],[0.9,\"#4d9221\"],[1,\"#276419\"]]},\"xaxis\":{\"gridcolor\":\"white\",\"linecolor\":\"white\",\"ticks\":\"\",\"title\":{\"standoff\":15},\"zerolinecolor\":\"white\",\"automargin\":true,\"zerolinewidth\":2},\"yaxis\":{\"gridcolor\":\"white\",\"linecolor\":\"white\",\"ticks\":\"\",\"title\":{\"standoff\":15},\"zerolinecolor\":\"white\",\"automargin\":true,\"zerolinewidth\":2},\"scene\":{\"xaxis\":{\"backgroundcolor\":\"#E5ECF6\",\"gridcolor\":\"white\",\"linecolor\":\"white\",\"showbackground\":true,\"ticks\":\"\",\"zerolinecolor\":\"white\",\"gridwidth\":2},\"yaxis\":{\"backgroundcolor\":\"#E5ECF6\",\"gridcolor\":\"white\",\"linecolor\":\"white\",\"showbackground\":true,\"ticks\":\"\",\"zerolinecolor\":\"white\",\"gridwidth\":2},\"zaxis\":{\"backgroundcolor\":\"#E5ECF6\",\"gridcolor\":\"white\",\"linecolor\":\"white\",\"showbackground\":true,\"ticks\":\"\",\"zerolinecolor\":\"white\",\"gridwidth\":2}},\"shapedefaults\":{\"line\":{\"color\":\"#2a3f5f\"}},\"annotationdefaults\":{\"arrowcolor\":\"#2a3f5f\",\"arrowhead\":0,\"arrowwidth\":1},\"geo\":{\"bgcolor\":\"white\",\"landcolor\":\"#E5ECF6\",\"subunitcolor\":\"white\",\"showland\":true,\"showlakes\":true,\"lakecolor\":\"white\"},\"title\":{\"x\":0.05},\"mapbox\":{\"style\":\"light\"}}},\"mapbox\":{\"domain\":{\"x\":[0.0,1.0],\"y\":[0.0,1.0]},\"center\":{\"lat\":44,\"lon\":-125},\"zoom\":1.9,\"style\":\"carto-positron\"},\"coloraxis\":{\"colorbar\":{\"title\":{\"text\":\"Deposits\"}},\"colorscale\":[[0.0,\"rgb(0, 147, 146)\"],[0.16666666666666666,\"rgb(114, 170, 161)\"],[0.3333333333333333,\"rgb(177, 199, 179)\"],[0.5,\"rgb(241, 234, 200)\"],[0.6666666666666666,\"rgb(229, 185, 173)\"],[0.8333333333333334,\"rgb(217, 137, 148)\"],[1.0,\"rgb(208, 88, 126)\"]]},\"legend\":{\"tracegroupgap\":0,\"itemsizing\":\"constant\"},\"title\":{\"text\":\"<b>Fig.10 USA Tsunami Distribution with Deposit Numbers\",\"x\":0.5},\"width\":1000,\"height\":550},                        {\"responsive\": true}                    ).then(function(){\n",
       "                            \n",
       "var gd = document.getElementById('08e9bbfc-ba94-4021-866a-5ca7c6ba4613');\n",
       "var x = new MutationObserver(function (mutations, observer) {{\n",
       "        var display = window.getComputedStyle(gd).display;\n",
       "        if (!display || display === 'none') {{\n",
       "            console.log([gd, 'removed!']);\n",
       "            Plotly.purge(gd);\n",
       "            observer.disconnect();\n",
       "        }}\n",
       "}});\n",
       "\n",
       "// Listen for the removal of the full notebook cells\n",
       "var notebookContainer = gd.closest('#notebook-container');\n",
       "if (notebookContainer) {{\n",
       "    x.observe(notebookContainer, {childList: true});\n",
       "}}\n",
       "\n",
       "// Listen for the clearing of the current output cell\n",
       "var outputEl = gd.closest('.output');\n",
       "if (outputEl) {{\n",
       "    x.observe(outputEl, {childList: true});\n",
       "}}\n",
       "\n",
       "                        })                };                });            </script>        </div>"
      ]
     },
     "metadata": {},
     "output_type": "display_data"
    }
   ],
   "source": [
    "fig = px.scatter_mapbox(\n",
    "                        USA,\n",
    "                        lat='Latitude',\n",
    "                        lon='Longitude', \n",
    "                        color=\"Deposits\", \n",
    "                        size=\"Deposits\",\n",
    "                        color_continuous_scale=px.colors.carto.Tealrose, \n",
    "                        hover_name='Location',\n",
    "                        hover_data=['Year','Kind','Death'],\n",
    "                        size_max=35, \n",
    "                        zoom=1.9,\n",
    "                        center=dict(lat=44, lon=-125),\n",
    "                        title = '<b>Fig.10 USA Tsunami Distribution with Deposit Numbers'\n",
    "                       )\n",
    "\n",
    "fig.update_layout(\n",
    "                  mapbox_style=\"carto-positron\",\n",
    "                  width=1000,\n",
    "                  height=550,\n",
    "                  title_x=0.5\n",
    "                 )\n",
    "\n",
    "fig.show()"
   ]
  },
  {
   "cell_type": "markdown",
   "id": "c2a6624a",
   "metadata": {
    "papermill": {
     "duration": 0.020618,
     "end_time": "2023-04-17T15:44:33.562325",
     "exception": false,
     "start_time": "2023-04-17T15:44:33.541707",
     "status": "completed"
    },
    "tags": []
   },
   "source": [
    "**According to `Fig.10`,**\n",
    "1. **The most dangerous tsunamis hit the USA around the Gulf of Alaska.**\n",
    "2. **Western USA is more vulnerable to tsunamis than eastern USA.**\n",
    "3. **The five most dangerous tsunamis happened over 50 years ago, in 1964/1946/1883/1957/1891 respectively, and caused a total death of 301 people.**   \n",
    "\n",
    "We can zoom in to check more detailed information related to tsunamis, like cities and date...\n"
   ]
  },
  {
   "cell_type": "code",
   "execution_count": 33,
   "id": "9291d006",
   "metadata": {
    "execution": {
     "iopub.execute_input": "2023-04-17T15:44:33.607227Z",
     "iopub.status.busy": "2023-04-17T15:44:33.606687Z",
     "iopub.status.idle": "2023-04-17T15:44:33.614812Z",
     "shell.execute_reply": "2023-04-17T15:44:33.613520Z"
    },
    "papermill": {
     "duration": 0.033675,
     "end_time": "2023-04-17T15:44:33.617318",
     "exception": false,
     "start_time": "2023-04-17T15:44:33.583643",
     "status": "completed"
    },
    "tags": []
   },
   "outputs": [],
   "source": [
    "Indonesia = data[data['Country']== 'INDONESIA']\n",
    "Indonesia.loc[Indonesia['Deposits']==0, 'Deposits'] =0.05"
   ]
  },
  {
   "cell_type": "code",
   "execution_count": 34,
   "id": "f89cc09e",
   "metadata": {
    "execution": {
     "iopub.execute_input": "2023-04-17T15:44:33.661285Z",
     "iopub.status.busy": "2023-04-17T15:44:33.660768Z",
     "iopub.status.idle": "2023-04-17T15:44:33.875059Z",
     "shell.execute_reply": "2023-04-17T15:44:33.873856Z"
    },
    "papermill": {
     "duration": 0.239324,
     "end_time": "2023-04-17T15:44:33.877755",
     "exception": false,
     "start_time": "2023-04-17T15:44:33.638431",
     "status": "completed"
    },
    "tags": []
   },
   "outputs": [
    {
     "data": {
      "text/html": [
       "<div>                            <div id=\"69803a61-e526-4fde-b76f-8745e7d089ff\" class=\"plotly-graph-div\" style=\"height:550px; width:1000px;\"></div>            <script type=\"text/javascript\">                require([\"plotly\"], function(Plotly) {                    window.PLOTLYENV=window.PLOTLYENV || {};                                    if (document.getElementById(\"69803a61-e526-4fde-b76f-8745e7d089ff\")) {                    Plotly.newPlot(                        \"69803a61-e526-4fde-b76f-8745e7d089ff\",                        [{\"customdata\":[[1802.0,\"Maybe\",null],[1814.0,\"Maybe\",null],[1815.0,\"True\",60000.0],[1815.0,\"Maybe\",null],[1815.0,\"Maybe\",11453.0],[1816.0,\"Maybe\",null],[1818.0,\"Maybe\",null],[1818.0,\"Maybe\",null],[1820.0,\"True\",500.0],[1821.0,\"Fake\",null],[1823.0,\"Maybe\",null],[1828.0,\"Fake\",null],[1833.0,\"True\",null],[1836.0,\"Maybe\",null],[1836.0,\"Maybe\",null],[1837.0,\"Maybe\",null],[1840.0,\"Maybe\",null],[1840.0,\"Maybe\",null],[1841.0,\"Maybe\",null],[1841.0,\"Maybe\",null],[1843.0,\"True\",null],[1843.0,\"Maybe\",null],[1845.0,\"Maybe\",118.0],[1846.0,\"True\",null],[1851.0,\"Maybe\",null],[1852.0,\"Maybe\",null],[1852.0,\"Fake\",null],[1852.0,\"Maybe\",null],[1852.0,\"Fake\",null],[1852.0,\"Maybe\",null],[1852.0,\"Fake\",null],[1852.0,\"True\",60.0],[1852.0,\"Maybe\",null],[1854.0,\"Maybe\",null],[1854.0,\"Maybe\",null],[1855.0,\"Maybe\",null],[1856.0,\"True\",2806.0],[1856.0,\"Maybe\",null],[1857.0,\"True\",36.0],[1857.0,\"Maybe\",null],[1857.0,\"Maybe\",null],[1858.0,\"Maybe\",null],[1859.0,\"True\",null],[1859.0,\"Maybe\",null],[1859.0,\"True\",null],[1859.0,\"Maybe\",null],[1859.0,\"Maybe\",2.0],[1859.0,\"Fake\",null],[1859.0,\"Maybe\",null],[1859.0,\"Maybe\",null],[1860.0,\"Maybe\",null],[1860.0,\"Maybe\",null],[1861.0,\"True\",1105.0],[1861.0,\"Fake\",null],[1861.0,\"True\",950.0],[1861.0,\"Maybe\",null],[1861.0,\"True\",null],[1861.0,\"Maybe\",null],[1861.0,\"Maybe\",null],[1861.0,\"Maybe\",null],[1862.0,\"Fake\",null],[1863.0,\"Maybe\",null],[1864.0,\"Fake\",null],[1864.0,\"Maybe\",250.0],[1867.0,\"Maybe\",5.0],[1871.0,\"True\",400.0],[1871.0,\"Maybe\",null],[1874.0,\"Fake\",null],[1876.0,\"Maybe\",null],[1878.0,\"Maybe\",null],[1882.0,\"Maybe\",null],[1883.0,\"Maybe\",null],[1883.0,\"Maybe\",null],[1883.0,\"True\",36417.0],[1883.0,\"Maybe\",null],[1884.0,\"Maybe\",null],[1885.0,\"Maybe\",null],[1885.0,\"Maybe\",null],[1885.0,\"Maybe\",null],[1885.0,\"Maybe\",null],[1886.0,\"Maybe\",null],[1887.0,\"Maybe\",null],[1888.0,\"Maybe\",null],[1889.0,\"Maybe\",null],[1889.0,\"True\",null],[1889.0,\"Fake\",null],[1889.0,\"Maybe\",null],[1891.0,\"Maybe\",null],[1891.0,\"Maybe\",null],[1891.0,\"Maybe\",null],[1891.0,\"Maybe\",null],[1892.0,\"Fake\",null],[1892.0,\"Maybe\",null],[1892.0,\"True\",1532.0],[1892.0,\"Maybe\",null],[1896.0,\"Maybe\",null],[1897.0,\"Maybe\",null],[1899.0,\"True\",2460.0],[1900.0,\"Maybe\",null],[1900.0,\"Maybe\",5.0],[1903.0,\"Maybe\",null],[1904.0,\"Maybe\",null],[1904.0,\"Maybe\",null],[1904.0,\"Maybe\",null],[1907.0,\"True\",2188.0],[1907.0,\"Maybe\",null],[1908.0,\"Maybe\",null],[1908.0,\"Fake\",null],[1909.0,\"Maybe\",null],[1910.0,\"Maybe\",null],[1913.0,\"Fake\",138.0],[1914.0,\"Fake\",null],[1914.0,\"True\",null],[1914.0,\"Maybe\",20.0],[1914.0,\"Maybe\",null],[1915.0,\"Maybe\",null],[1915.0,\"Maybe\",null],[1917.0,\"Maybe\",null],[1917.0,\"Maybe\",1500.0],[1917.0,\"Maybe\",null],[1917.0,\"Maybe\",null],[1917.0,\"Maybe\",null],[1918.0,\"Maybe\",null],[1919.0,\"Maybe\",null],[1919.0,\"Maybe\",null],[1919.0,\"Maybe\",null],[1920.0,\"Maybe\",null],[1921.0,\"Maybe\",null],[1921.0,\"True\",null],[1922.0,\"Maybe\",null],[1922.0,\"Maybe\",null],[1922.0,\"Maybe\",null],[1925.0,\"Maybe\",null],[1926.0,\"Fake\",null],[1927.0,\"Maybe\",50.0],[1928.0,\"Maybe\",null],[1928.0,\"True\",226.0],[1929.0,\"Maybe\",6.0],[1930.0,\"Maybe\",null],[1930.0,\"Maybe\",null],[1930.0,\"Maybe\",null],[1930.0,\"Maybe\",null],[1931.0,\"Maybe\",null],[1932.0,\"Maybe\",null],[1935.0,\"Maybe\",null],[1935.0,\"Maybe\",null],[1936.0,\"True\",null],[1936.0,\"Maybe\",9.0],[1937.0,\"Maybe\",null],[1938.0,\"True\",null],[1938.0,\"Maybe\",null],[1938.0,\"True\",17.0],[1939.0,\"Maybe\",null],[1948.0,\"Maybe\",null],[1949.0,\"Maybe\",null],[1950.0,\"Maybe\",1.0],[1957.0,\"Maybe\",null],[1957.0,\"Maybe\",null],[1957.0,\"Maybe\",null],[1958.0,\"Maybe\",null],[1963.0,\"Maybe\",1028.0],[1963.0,\"Maybe\",null],[1964.0,\"Maybe\",null],[1965.0,\"True\",71.0],[1967.0,\"Maybe\",71.0],[1967.0,\"Maybe\",14.0],[1968.0,\"True\",null],[1968.0,\"True\",200.0],[1969.0,\"True\",664.0],[1973.0,\"Maybe\",2.0],[1975.0,\"Maybe\",null],[1977.0,\"True\",189.0],[1979.0,\"True\",1239.0],[1979.0,\"Fake\",null],[1979.0,\"True\",115.0],[1981.0,\"Maybe\",null],[1982.0,\"Maybe\",null],[1982.0,\"Maybe\",null],[1982.0,\"Fake\",13.0],[1983.0,\"True\",null],[1983.0,\"Maybe\",null],[1984.0,\"Maybe\",2.0],[1985.0,\"Maybe\",null],[1987.0,\"Fake\",null],[1992.0,\"True\",2500.0],[1994.0,\"True\",9.0],[1994.0,\"Fake\",null],[1994.0,\"True\",238.0],[1994.0,\"True\",null],[1994.0,\"Maybe\",null],[1994.0,\"True\",null],[1994.0,\"True\",1.0],[1995.0,\"True\",11.0],[1996.0,\"True\",9.0],[1996.0,\"True\",164.0],[1998.0,\"Maybe\",41.0],[2000.0,\"True\",46.0],[2002.0,\"Maybe\",8.0],[2004.0,\"True\",null],[2004.0,\"True\",34.0],[2004.0,\"True\",227899.0],[2005.0,\"True\",1313.0],[2005.0,\"True\",null],[2006.0,\"True\",4.0],[2006.0,\"True\",802.0],[2007.0,\"True\",25.0],[2008.0,\"True\",null],[2008.0,\"True\",6.0],[2009.0,\"True\",5.0],[2009.0,\"Maybe\",null],[2009.0,\"True\",null],[2009.0,\"True\",null],[2009.0,\"True\",81.0],[2009.0,\"True\",1117.0],[2010.0,\"True\",null],[2010.0,\"True\",431.0],[2012.0,\"True\",10.0],[2012.0,\"True\",null],[2014.0,\"Maybe\",null],[2016.0,\"True\",null],[2018.0,\"Maybe\",17.0],[2018.0,\"True\",560.0],[2018.0,\"Maybe\",2.0],[2018.0,\"True\",4340.0],[2018.0,\"True\",437.0],[2019.0,\"True\",1.0],[2020.0,\"Fake\",1.0],[2021.0,\"Maybe\",null]],\"hovertemplate\":\"<b>%{hovertext}</b><br><br>Deposits=%{marker.color}<br>Latitude=%{lat}<br>Longitude=%{lon}<br>Year=%{customdata[0]}<br>Kind=%{customdata[1]}<br>Death=%{customdata[2]}<extra></extra>\",\"hovertext\":[\"BANDA SEA\",\"TIMOR ISLAND\",\"TAMBORA\",\"AMBON ISLAND\",\"BALI SEA\",\"MALACCA STRAIT\",\"BENGKULU, SUMATRA\",\"BALI SEA\",\"FLORES SEA\",\"FLORES SEA: BIMA\",\"JAVA\",\"FLORES SEA\",\"SW. SUMATRA\",\"FLORES SEA\",\"FLORES SEA\",\"BANDA ACEH\",\"JAVA\",\"N. MOLUCCAS ISLANDS\",\"MOLUCCAS ISLANDS\",\"BANDA SEA\",\"SW. SUMATRA\",\"BALI SEA\",\"CELEBES SEA\",\"TERNATE ISLAND, N. MOLUCCAS ISLANDS\",\"LAMPUNG BAY\",\"JAVA\",\"BANDA SEA\",\"SIBOLGA, SUMATRA\",\"BANDA SEA\",\"AMBON ISLAND, BANDA SEA\",\"BANDA SEA\",\"BANDA SEA\",\"BANDANEIRA\",\"BANDA SEA\",\"N. MOLUCCAS ISLANDS\",\"FLORES ISLAND\",\"SANGIHE ISLAND\",\"JAVA-FLORES SEA\",\"BALI SEA\",\"KEMA, SULAWESI I, N. MOLUCCAS IS\",\"KEMA, SULAWESI I, N. MOLUCCAS IS\",\"N. MOLUCCAS ISLANDS\",\"N. MOLUCCAS ISLANDS\",\"LONTOR ISLAND, BANDA SEA\",\"N. MOLUCCAS ISLANDS\",\"BANDA SEA\",\"SOUTH OF JAVA\",\"N. MOLUCCAS ISLANDS\",\"N. MOLUCCAS ISLANDS\",\"N. MOLUCCAS ISLANDS\",\"SULAWESI-N. MOLUCCAS ISLANDS\",\"CERAM SEA\",\"SW. SUMATRA\",\"WANAIDJAS\",\"SW. SUMATRA\",\"BANDA SEA\",\"SW. SUMATRA\",\"JAVA\",\"SW. SUMATRA\",\"SW. SUMATRA\",\"CHERIBON DISTRICT, JAVA\",\"JAVA\",\"SW. SUMATRA\",\"NW. IRIAN JAYA\",\"JAVA\",\"RUANG\",\"N. MOLUCCAS ISLANDS\",\"N. MOLUCCAS ISLANDS\",\"CERAM SEA\",\"TAGRILAND ISLAND\",\"BANDA SEA\",\"HORN ISLAND [AYER ISLAND], JAKARTA\",\"BANKA ISLAND\",\"KRAKATAU\",\"JAVA-S. JAVA\",\"KRAKATAU\",\"MOLUCCAS ISLANDS\",\"AJERBANGIS, SUMATRA\",\"SULAWESI ISLAND\",\"BANDA ACEH\",\"BANDA ACEH\",\"SIGLI, ACEH, SUMATRA\",\"BREUEH ISLAND\",\"JAVA-S. JAVA\",\"N. MOLUCCAS ISLANDS\",\"MOLUCCAS ISLANDS\",\"JAVA\",\"SIGLI, ACEH, SUMATRA\",\"N. MOLUCCAS ISLANDS\",\"BANDA SEA\",\"TIMOR SEA\",\"AURI, HALMAHERA\",\"NORTHEAST SUMATRA\",\"AWU VOLCANO, SANGIHE ISLAND\",\"SERAM ISLAND\",\"SW. SUMATRA\",\"FLORES SEA\",\"BANDA SEA\",\"GALELA, HALMAHERA ISLAND\",\"BISMARCK SEA\",\"BANDA SEA\",\"CELEBES SEA\",\"BANDA SEA\",\"S. JAVA\",\"NW. SUMATRA\",\"KARAKELONG, TALAUD ISLANDS\",\"SW. SUMATRA\",\"TIMOR SEA\",\"SUMATRA\",\"SULAWESI\",\"SANGIHE ISLAND\",\"INDONESIA\",\"NW. IRIAN JAYA\",\"INDONESIA\",\"AMBON ISLAND\",\"KAIMANA\",\"NW. IRIAN JAYA\",\"CELEBES SEA\",\"BALI SEA\",\"LINGA ARCHIPELAGO\",\"JAVA SEA\",\"BANDA SEA\",\"SULAWESI\",\"TIMOR SEA\",\"SULAWESI\",\"NW. IRIAN JAYA\",\"N. MOLUCCAS ISLANDS\",\"MAKASSAR STRAIT\",\"JAVA\",\"BANDA SEA\",\"SW. SUMATRA\",\"LHOKNGA, ACEH\",\"BANDA SEA\",\"SW. SUMATRA\",\"SULAWESI\",\"KRAKATAU\",\"FLORES SEA\",\"TJALANG, N.W. SUMATRA\",\"KRAKATAU\",\"SOUTH OF JAVA\",\"SOUTH OF JAVA\",\"CELEBES SEA\",\"SW. SUMATRA\",\"BANDA SEA\",\"CELEBES SEA\",\"SW. SUMATRA\",\"SULAWESI\",\"OFF NORTHWEST COAST\",\"BANDA SEA\",\"BANDA SEA\",\"BANDA SEA\",\"MAKASSAR STRAIT\",\"N. MOLUCCAS ISLANDS\",\"OFF NORTHWEST COAST\",\"BANDA ACEH\",\"BANDA SEA\",\"NW. IRIAN JAYA\",\"SOUTH OF JAVA\",\"MAKASSAR STRAIT\",\"BENGKULU, SUMATRA\",\"LESSER SUNDA: BALI: AGUNG VOLCANO\",\"JAVA\",\"OFF NORTHWEST COAST OF INDONESIA\",\"SANANA ISLAND\",\"MAKASSAR STRAIT\",\"NORTHEAST SUMATRA\",\"N. MOLUCCAS ISLANDS\",\"BANDA SEA\",\"MAKASSAR STRAIT\",\"LESSER SUNDA ISLANDS\",\"BANDA SEA\",\"SUNDA ISLANDS\",\"LOMBLEN ISLAND [LEMBATA]\",\"LOMBLEN ISLAND [LEMBATA]\",\"IRIAN JAYA\",\"KRAKATAU\",\"JAVA TRENCH\",\"SUMBAWA ISLAND\",\"FLORES SEA\",\"BANDA SEA\",\"LESSER SUNDA ISLANDS\",\"SULAWESI\",\"BALI ISLAND\",\"TIMOR SEA\",\"FLORES SEA\",\"HALMAHERA\",\"SOUTHERN SUMATRA\",\"SOUTH OF JAVA\",\"SOUTH OF JAVA\",\"SOUTH OF JAVA\",\"SOUTH OF JAVA\",\"HALMAHERA\",\"TIMOR SEA\",\"SULAWESI\",\"IRIAN JAYA\",\"TALIABU ISLAND\",\"SULAWESI\",\"IRIAN JAYA\",\"SERAM ISLAND\",\"KEPULAUAN ALOR\",\"OFF W. COAST OF SUMATRA\",\"INDONESIA\",\"KEPULAUAN MENTAWAI\",\"SERAM ISLAND\",\"SOUTH OF JAVA\",\"SUMATRA\",\"SUMATRA\",\"SULAWESI\",\"NEAR NORTH COAST\",\"NEAR NORTH COAST\",\"CELEBES SEA\",\"SUMATRA\",\"JAVA SEA\",\"SUMATRA\",\"SUMATRA\",\"SUMATRA\",\"OFF W. COAST OF N SUMATRA\",\"OFF W. COAST OF N SUMATRA\",\"N. MOLUCCAS ISLANDS\",\"SW. SUMATRA\",\"BALI SEA\",\"BALI SEA\",\"BALI SEA\",\"SULAWESI\",\"KRAKATAU\",\"N. MOLUCCAS ISLANDS\",\"LESSER SUNDA: BALI: IJEN VOLCANO\",\"BANDA SEA\"],\"lat\":[-3.7,-10.217,-8.2,-3.7,-8.0,5.0,-4.0,-7.0,-7.0,-8.456,-6.5,null,-2.5,-8.3,-8.3,5.5,-8.0,0.8,-5.0,-4.0,1.5,-7.2,1.5,2.0,-5.0,-6.5,null,1.5,null,-3.7,null,-5.25,-5.0,-3.5,0.8,-9.0,3.67,-8.5,-8.0,1.35,1.35,1.0,1.0,-4.6,0.009,-5.5,-9.0,null,0.9,1.37,1.3,-1.25,-1.0,null,0.009,-3.7,1.0,-6.3,1.0,-1.5,-6.7,-6.1,null,-1.0,-7.8,2.28,0.5,null,-3.0,null,-4.5,-6.004,-2.25,-6.102,-6.102,-6.102,-2.5,0.0,1.1,5.55,5.6,5.4,5.8,-6.05,1.0,null,-7.0,5.4,-0.5,-4.0,-9.0,null,2.5,3.67,-3.0,-3.5,-6.8,-3.0,1.82,-4.0,-3.0,1.5,-3.6,-7.7,2.681,3.0,-2.0,-10.0,-2.0,4.0,5.354,null,-1.829,-3.924,-3.7,-3.644,-1.0,1.57,-7.0,-0.25,-3.7,-3.6,3.138,-9.0,3.138,-2.55,0.87,0.7,-11.0,-3.3,-1.0,5.5,-8.0,-0.7,-0.7,-6.102,-8.32,4.633,-6.102,-5.6,-9.3,1.2,-5.0,-3.57,5.5,0.001,4.5,6.1,-3.0,-5.25,-3.0,-1.0,0.0,6.0,5.0,-3.8,-1.5,-8.2,-2.0,-4.5,-8.342,-6.4,5.8,-2.4,-3.7,5.5,1.4,0.2,-3.1,-8.54,-5.0,-11.085,-8.6,-8.5,-1.679,-6.102,4.374,-9.265,-8.405,-4.056,-8.54,-2.823,-9.245,-8.247,-8.48,1.015,-4.967,-10.477,-10.362,-10.777,-10.341,-1.258,-8.452,0.729,-0.891,-2.071,-1.105,-1.757,-3.12,-8.152,3.316,2.085,-1.644,-3.595,-9.254,-4.438,-2.486,1.271,-0.414,-0.691,3.884,-1.479,-7.782,-0.72,2.383,-3.487,2.327,0.802,1.893,-4.952,-8.24,-8.258,-8.337,-0.256,-6.102,1.6,-8.058,-3.593],\"legendgroup\":\"\",\"lon\":[128.2,123.633,118.0,128.4,115.0,96.5,101.5,117.0,119.0,118.723,108.5,null,100.5,118.7,118.7,96.0,110.5,127.325,130.0,127.5,98.0,114.0,124.85,126.5,105.0,105.5,null,98.0,null,128.2,null,129.75,130.5,128.6,127.4,121.0,125.5,116.0,115.5,125.2,125.2,126.0,126.5,129.9,125.5,130.5,111.0,null,124.9,125.1,121.0,128.5,97.5,null,98.0,128.2,97.5,107.3,97.5,100.0,108.57,106.7,null,135.0,110.4,125.425,123.0,null,127.25,null,129.9,106.781,106.0,105.423,105.423,105.423,127.5,99.5,124.3,95.3,95.3,96.0,95.0,105.92,126.25,null,113.5,96.0,127.5,129.0,124.0,null,99.5,125.5,127.75,102.5,120.8,128.5,127.85,140.0,127.5,120.8,128.7,109.0,95.53,122.0,100.0,129.0,101.0,127.0,126.121,null,136.943,101.82,128.2,133.695,136.0,122.72,116.0,104.5,116.6,128.7,125.491,124.85,125.491,140.75,122.92,117.9,111.0,128.9,100.35,95.2,115.0,100.6,119.7,105.423,121.708,95.567,105.423,105.3,114.3,124.57,102.75,128.35,94.0,98.25,126.5,94.7,132.3,130.5,132.3,120.0,123.0,95.0,95.0,128.3,137.0,107.3,116.0,104.0,115.508,105.4,95.4,126.1,119.3,97.3,126.2,119.8,118.9,123.59,130.0,118.464,123.5,123.5,136.04,105.423,97.755,118.479,123.08,127.924,123.59,118.806,114.185,124.155,121.896,127.733,104.302,112.835,112.892,113.366,113.369,127.98,125.049,119.931,136.952,124.891,123.573,134.297,127.4,124.868,95.854,97.108,99.607,127.214,107.411,101.367,99.972,122.091,132.885,133.305,126.397,99.49,107.297,99.867,97.048,100.082,93.063,92.463,126.522,94.33,116.508,116.438,116.599,119.846,105.423,126.416,114.242,129.503],\"marker\":{\"color\":[0.05,0.05,1.0,0.05,0.05,0.05,0.05,0.05,0.05,0.05,0.05,0.05,0.05,0.05,0.05,0.05,0.05,0.05,0.05,0.05,0.05,0.05,1.0,0.05,0.05,0.05,0.05,0.05,0.05,0.05,0.05,0.05,0.05,0.05,0.05,0.05,1.0,0.05,0.05,0.05,0.05,0.05,0.05,0.05,0.05,0.05,0.05,0.05,0.05,0.05,0.05,0.05,0.05,0.05,0.05,0.05,0.05,0.05,0.05,0.05,0.05,0.05,0.05,0.05,0.05,1.0,0.05,0.05,0.05,0.05,0.05,0.05,0.05,14.0,0.05,0.05,0.05,0.05,0.05,0.05,0.05,0.05,0.05,0.05,1.0,0.05,0.05,0.05,0.05,0.05,0.05,0.05,0.05,0.05,0.05,0.05,0.05,0.05,0.05,0.05,0.05,0.05,0.05,0.05,0.05,0.05,0.05,0.05,0.05,0.05,0.05,0.05,0.05,0.05,0.05,0.05,0.05,0.05,0.05,0.05,0.05,0.05,0.05,0.05,0.05,0.05,0.05,0.05,0.05,0.05,0.05,0.05,0.05,0.05,0.05,1.0,1.0,0.05,0.05,0.05,0.05,0.05,0.05,0.05,0.05,0.05,0.05,0.05,0.05,0.05,0.05,0.05,0.05,0.05,0.05,0.05,0.05,0.05,0.05,0.05,0.05,0.05,0.05,0.05,0.05,0.05,0.05,0.05,0.05,0.05,0.05,0.05,1.0,0.05,0.05,0.05,0.05,0.05,0.05,0.05,0.05,0.05,0.05,0.05,9.0,0.05,0.05,5.0,0.05,0.05,0.05,0.05,0.05,0.05,1.0,0.05,0.05,0.05,0.05,0.05,144.0,1.0,0.05,0.05,3.0,0.05,0.05,0.05,0.05,0.05,0.05,0.05,0.05,0.05,0.05,0.05,0.05,0.05,0.05,0.05,0.05,0.05,0.05,1.0,2.0,0.05,0.05,0.05],\"coloraxis\":\"coloraxis\",\"size\":[0.05,0.05,1.0,0.05,0.05,0.05,0.05,0.05,0.05,0.05,0.05,0.05,0.05,0.05,0.05,0.05,0.05,0.05,0.05,0.05,0.05,0.05,1.0,0.05,0.05,0.05,0.05,0.05,0.05,0.05,0.05,0.05,0.05,0.05,0.05,0.05,1.0,0.05,0.05,0.05,0.05,0.05,0.05,0.05,0.05,0.05,0.05,0.05,0.05,0.05,0.05,0.05,0.05,0.05,0.05,0.05,0.05,0.05,0.05,0.05,0.05,0.05,0.05,0.05,0.05,1.0,0.05,0.05,0.05,0.05,0.05,0.05,0.05,14.0,0.05,0.05,0.05,0.05,0.05,0.05,0.05,0.05,0.05,0.05,1.0,0.05,0.05,0.05,0.05,0.05,0.05,0.05,0.05,0.05,0.05,0.05,0.05,0.05,0.05,0.05,0.05,0.05,0.05,0.05,0.05,0.05,0.05,0.05,0.05,0.05,0.05,0.05,0.05,0.05,0.05,0.05,0.05,0.05,0.05,0.05,0.05,0.05,0.05,0.05,0.05,0.05,0.05,0.05,0.05,0.05,0.05,0.05,0.05,0.05,0.05,1.0,1.0,0.05,0.05,0.05,0.05,0.05,0.05,0.05,0.05,0.05,0.05,0.05,0.05,0.05,0.05,0.05,0.05,0.05,0.05,0.05,0.05,0.05,0.05,0.05,0.05,0.05,0.05,0.05,0.05,0.05,0.05,0.05,0.05,0.05,0.05,0.05,1.0,0.05,0.05,0.05,0.05,0.05,0.05,0.05,0.05,0.05,0.05,0.05,9.0,0.05,0.05,5.0,0.05,0.05,0.05,0.05,0.05,0.05,1.0,0.05,0.05,0.05,0.05,0.05,144.0,1.0,0.05,0.05,3.0,0.05,0.05,0.05,0.05,0.05,0.05,0.05,0.05,0.05,0.05,0.05,0.05,0.05,0.05,0.05,0.05,0.05,0.05,1.0,2.0,0.05,0.05,0.05],\"sizemode\":\"area\",\"sizeref\":0.006944444444444444},\"mode\":\"markers\",\"name\":\"\",\"showlegend\":false,\"subplot\":\"mapbox\",\"type\":\"scattermapbox\"}],                        {\"template\":{\"data\":{\"histogram2dcontour\":[{\"type\":\"histogram2dcontour\",\"colorbar\":{\"outlinewidth\":0,\"ticks\":\"\"},\"colorscale\":[[0.0,\"#0d0887\"],[0.1111111111111111,\"#46039f\"],[0.2222222222222222,\"#7201a8\"],[0.3333333333333333,\"#9c179e\"],[0.4444444444444444,\"#bd3786\"],[0.5555555555555556,\"#d8576b\"],[0.6666666666666666,\"#ed7953\"],[0.7777777777777778,\"#fb9f3a\"],[0.8888888888888888,\"#fdca26\"],[1.0,\"#f0f921\"]]}],\"choropleth\":[{\"type\":\"choropleth\",\"colorbar\":{\"outlinewidth\":0,\"ticks\":\"\"}}],\"histogram2d\":[{\"type\":\"histogram2d\",\"colorbar\":{\"outlinewidth\":0,\"ticks\":\"\"},\"colorscale\":[[0.0,\"#0d0887\"],[0.1111111111111111,\"#46039f\"],[0.2222222222222222,\"#7201a8\"],[0.3333333333333333,\"#9c179e\"],[0.4444444444444444,\"#bd3786\"],[0.5555555555555556,\"#d8576b\"],[0.6666666666666666,\"#ed7953\"],[0.7777777777777778,\"#fb9f3a\"],[0.8888888888888888,\"#fdca26\"],[1.0,\"#f0f921\"]]}],\"heatmap\":[{\"type\":\"heatmap\",\"colorbar\":{\"outlinewidth\":0,\"ticks\":\"\"},\"colorscale\":[[0.0,\"#0d0887\"],[0.1111111111111111,\"#46039f\"],[0.2222222222222222,\"#7201a8\"],[0.3333333333333333,\"#9c179e\"],[0.4444444444444444,\"#bd3786\"],[0.5555555555555556,\"#d8576b\"],[0.6666666666666666,\"#ed7953\"],[0.7777777777777778,\"#fb9f3a\"],[0.8888888888888888,\"#fdca26\"],[1.0,\"#f0f921\"]]}],\"heatmapgl\":[{\"type\":\"heatmapgl\",\"colorbar\":{\"outlinewidth\":0,\"ticks\":\"\"},\"colorscale\":[[0.0,\"#0d0887\"],[0.1111111111111111,\"#46039f\"],[0.2222222222222222,\"#7201a8\"],[0.3333333333333333,\"#9c179e\"],[0.4444444444444444,\"#bd3786\"],[0.5555555555555556,\"#d8576b\"],[0.6666666666666666,\"#ed7953\"],[0.7777777777777778,\"#fb9f3a\"],[0.8888888888888888,\"#fdca26\"],[1.0,\"#f0f921\"]]}],\"contourcarpet\":[{\"type\":\"contourcarpet\",\"colorbar\":{\"outlinewidth\":0,\"ticks\":\"\"}}],\"contour\":[{\"type\":\"contour\",\"colorbar\":{\"outlinewidth\":0,\"ticks\":\"\"},\"colorscale\":[[0.0,\"#0d0887\"],[0.1111111111111111,\"#46039f\"],[0.2222222222222222,\"#7201a8\"],[0.3333333333333333,\"#9c179e\"],[0.4444444444444444,\"#bd3786\"],[0.5555555555555556,\"#d8576b\"],[0.6666666666666666,\"#ed7953\"],[0.7777777777777778,\"#fb9f3a\"],[0.8888888888888888,\"#fdca26\"],[1.0,\"#f0f921\"]]}],\"surface\":[{\"type\":\"surface\",\"colorbar\":{\"outlinewidth\":0,\"ticks\":\"\"},\"colorscale\":[[0.0,\"#0d0887\"],[0.1111111111111111,\"#46039f\"],[0.2222222222222222,\"#7201a8\"],[0.3333333333333333,\"#9c179e\"],[0.4444444444444444,\"#bd3786\"],[0.5555555555555556,\"#d8576b\"],[0.6666666666666666,\"#ed7953\"],[0.7777777777777778,\"#fb9f3a\"],[0.8888888888888888,\"#fdca26\"],[1.0,\"#f0f921\"]]}],\"mesh3d\":[{\"type\":\"mesh3d\",\"colorbar\":{\"outlinewidth\":0,\"ticks\":\"\"}}],\"scatter\":[{\"fillpattern\":{\"fillmode\":\"overlay\",\"size\":10,\"solidity\":0.2},\"type\":\"scatter\"}],\"parcoords\":[{\"type\":\"parcoords\",\"line\":{\"colorbar\":{\"outlinewidth\":0,\"ticks\":\"\"}}}],\"scatterpolargl\":[{\"type\":\"scatterpolargl\",\"marker\":{\"colorbar\":{\"outlinewidth\":0,\"ticks\":\"\"}}}],\"bar\":[{\"error_x\":{\"color\":\"#2a3f5f\"},\"error_y\":{\"color\":\"#2a3f5f\"},\"marker\":{\"line\":{\"color\":\"#E5ECF6\",\"width\":0.5},\"pattern\":{\"fillmode\":\"overlay\",\"size\":10,\"solidity\":0.2}},\"type\":\"bar\"}],\"scattergeo\":[{\"type\":\"scattergeo\",\"marker\":{\"colorbar\":{\"outlinewidth\":0,\"ticks\":\"\"}}}],\"scatterpolar\":[{\"type\":\"scatterpolar\",\"marker\":{\"colorbar\":{\"outlinewidth\":0,\"ticks\":\"\"}}}],\"histogram\":[{\"marker\":{\"pattern\":{\"fillmode\":\"overlay\",\"size\":10,\"solidity\":0.2}},\"type\":\"histogram\"}],\"scattergl\":[{\"type\":\"scattergl\",\"marker\":{\"colorbar\":{\"outlinewidth\":0,\"ticks\":\"\"}}}],\"scatter3d\":[{\"type\":\"scatter3d\",\"line\":{\"colorbar\":{\"outlinewidth\":0,\"ticks\":\"\"}},\"marker\":{\"colorbar\":{\"outlinewidth\":0,\"ticks\":\"\"}}}],\"scattermapbox\":[{\"type\":\"scattermapbox\",\"marker\":{\"colorbar\":{\"outlinewidth\":0,\"ticks\":\"\"}}}],\"scatterternary\":[{\"type\":\"scatterternary\",\"marker\":{\"colorbar\":{\"outlinewidth\":0,\"ticks\":\"\"}}}],\"scattercarpet\":[{\"type\":\"scattercarpet\",\"marker\":{\"colorbar\":{\"outlinewidth\":0,\"ticks\":\"\"}}}],\"carpet\":[{\"aaxis\":{\"endlinecolor\":\"#2a3f5f\",\"gridcolor\":\"white\",\"linecolor\":\"white\",\"minorgridcolor\":\"white\",\"startlinecolor\":\"#2a3f5f\"},\"baxis\":{\"endlinecolor\":\"#2a3f5f\",\"gridcolor\":\"white\",\"linecolor\":\"white\",\"minorgridcolor\":\"white\",\"startlinecolor\":\"#2a3f5f\"},\"type\":\"carpet\"}],\"table\":[{\"cells\":{\"fill\":{\"color\":\"#EBF0F8\"},\"line\":{\"color\":\"white\"}},\"header\":{\"fill\":{\"color\":\"#C8D4E3\"},\"line\":{\"color\":\"white\"}},\"type\":\"table\"}],\"barpolar\":[{\"marker\":{\"line\":{\"color\":\"#E5ECF6\",\"width\":0.5},\"pattern\":{\"fillmode\":\"overlay\",\"size\":10,\"solidity\":0.2}},\"type\":\"barpolar\"}],\"pie\":[{\"automargin\":true,\"type\":\"pie\"}]},\"layout\":{\"autotypenumbers\":\"strict\",\"colorway\":[\"#636efa\",\"#EF553B\",\"#00cc96\",\"#ab63fa\",\"#FFA15A\",\"#19d3f3\",\"#FF6692\",\"#B6E880\",\"#FF97FF\",\"#FECB52\"],\"font\":{\"color\":\"#2a3f5f\"},\"hovermode\":\"closest\",\"hoverlabel\":{\"align\":\"left\"},\"paper_bgcolor\":\"white\",\"plot_bgcolor\":\"#E5ECF6\",\"polar\":{\"bgcolor\":\"#E5ECF6\",\"angularaxis\":{\"gridcolor\":\"white\",\"linecolor\":\"white\",\"ticks\":\"\"},\"radialaxis\":{\"gridcolor\":\"white\",\"linecolor\":\"white\",\"ticks\":\"\"}},\"ternary\":{\"bgcolor\":\"#E5ECF6\",\"aaxis\":{\"gridcolor\":\"white\",\"linecolor\":\"white\",\"ticks\":\"\"},\"baxis\":{\"gridcolor\":\"white\",\"linecolor\":\"white\",\"ticks\":\"\"},\"caxis\":{\"gridcolor\":\"white\",\"linecolor\":\"white\",\"ticks\":\"\"}},\"coloraxis\":{\"colorbar\":{\"outlinewidth\":0,\"ticks\":\"\"}},\"colorscale\":{\"sequential\":[[0.0,\"#0d0887\"],[0.1111111111111111,\"#46039f\"],[0.2222222222222222,\"#7201a8\"],[0.3333333333333333,\"#9c179e\"],[0.4444444444444444,\"#bd3786\"],[0.5555555555555556,\"#d8576b\"],[0.6666666666666666,\"#ed7953\"],[0.7777777777777778,\"#fb9f3a\"],[0.8888888888888888,\"#fdca26\"],[1.0,\"#f0f921\"]],\"sequentialminus\":[[0.0,\"#0d0887\"],[0.1111111111111111,\"#46039f\"],[0.2222222222222222,\"#7201a8\"],[0.3333333333333333,\"#9c179e\"],[0.4444444444444444,\"#bd3786\"],[0.5555555555555556,\"#d8576b\"],[0.6666666666666666,\"#ed7953\"],[0.7777777777777778,\"#fb9f3a\"],[0.8888888888888888,\"#fdca26\"],[1.0,\"#f0f921\"]],\"diverging\":[[0,\"#8e0152\"],[0.1,\"#c51b7d\"],[0.2,\"#de77ae\"],[0.3,\"#f1b6da\"],[0.4,\"#fde0ef\"],[0.5,\"#f7f7f7\"],[0.6,\"#e6f5d0\"],[0.7,\"#b8e186\"],[0.8,\"#7fbc41\"],[0.9,\"#4d9221\"],[1,\"#276419\"]]},\"xaxis\":{\"gridcolor\":\"white\",\"linecolor\":\"white\",\"ticks\":\"\",\"title\":{\"standoff\":15},\"zerolinecolor\":\"white\",\"automargin\":true,\"zerolinewidth\":2},\"yaxis\":{\"gridcolor\":\"white\",\"linecolor\":\"white\",\"ticks\":\"\",\"title\":{\"standoff\":15},\"zerolinecolor\":\"white\",\"automargin\":true,\"zerolinewidth\":2},\"scene\":{\"xaxis\":{\"backgroundcolor\":\"#E5ECF6\",\"gridcolor\":\"white\",\"linecolor\":\"white\",\"showbackground\":true,\"ticks\":\"\",\"zerolinecolor\":\"white\",\"gridwidth\":2},\"yaxis\":{\"backgroundcolor\":\"#E5ECF6\",\"gridcolor\":\"white\",\"linecolor\":\"white\",\"showbackground\":true,\"ticks\":\"\",\"zerolinecolor\":\"white\",\"gridwidth\":2},\"zaxis\":{\"backgroundcolor\":\"#E5ECF6\",\"gridcolor\":\"white\",\"linecolor\":\"white\",\"showbackground\":true,\"ticks\":\"\",\"zerolinecolor\":\"white\",\"gridwidth\":2}},\"shapedefaults\":{\"line\":{\"color\":\"#2a3f5f\"}},\"annotationdefaults\":{\"arrowcolor\":\"#2a3f5f\",\"arrowhead\":0,\"arrowwidth\":1},\"geo\":{\"bgcolor\":\"white\",\"landcolor\":\"#E5ECF6\",\"subunitcolor\":\"white\",\"showland\":true,\"showlakes\":true,\"lakecolor\":\"white\"},\"title\":{\"x\":0.05},\"mapbox\":{\"style\":\"light\"}}},\"mapbox\":{\"domain\":{\"x\":[0.0,1.0],\"y\":[0.0,1.0]},\"center\":{\"lat\":-1,\"lon\":114},\"zoom\":3,\"style\":\"carto-positron\"},\"coloraxis\":{\"colorbar\":{\"title\":{\"text\":\"Deposits\"}},\"colorscale\":[[0.0,\"rgb(0, 147, 146)\"],[0.16666666666666666,\"rgb(114, 170, 161)\"],[0.3333333333333333,\"rgb(177, 199, 179)\"],[0.5,\"rgb(241, 234, 200)\"],[0.6666666666666666,\"rgb(229, 185, 173)\"],[0.8333333333333334,\"rgb(217, 137, 148)\"],[1.0,\"rgb(208, 88, 126)\"]]},\"legend\":{\"tracegroupgap\":0,\"itemsizing\":\"constant\"},\"title\":{\"text\":\"<b>Fig.11 Indonesia Tsunami Distribution with Deposit Numbers\",\"x\":0.5},\"width\":1000,\"height\":550},                        {\"responsive\": true}                    ).then(function(){\n",
       "                            \n",
       "var gd = document.getElementById('69803a61-e526-4fde-b76f-8745e7d089ff');\n",
       "var x = new MutationObserver(function (mutations, observer) {{\n",
       "        var display = window.getComputedStyle(gd).display;\n",
       "        if (!display || display === 'none') {{\n",
       "            console.log([gd, 'removed!']);\n",
       "            Plotly.purge(gd);\n",
       "            observer.disconnect();\n",
       "        }}\n",
       "}});\n",
       "\n",
       "// Listen for the removal of the full notebook cells\n",
       "var notebookContainer = gd.closest('#notebook-container');\n",
       "if (notebookContainer) {{\n",
       "    x.observe(notebookContainer, {childList: true});\n",
       "}}\n",
       "\n",
       "// Listen for the clearing of the current output cell\n",
       "var outputEl = gd.closest('.output');\n",
       "if (outputEl) {{\n",
       "    x.observe(outputEl, {childList: true});\n",
       "}}\n",
       "\n",
       "                        })                };                });            </script>        </div>"
      ]
     },
     "metadata": {},
     "output_type": "display_data"
    }
   ],
   "source": [
    "fig = px.scatter_mapbox(\n",
    "                        Indonesia,\n",
    "                        lat='Latitude',\n",
    "                        lon='Longitude', \n",
    "                        color=\"Deposits\", \n",
    "                        size=\"Deposits\",\n",
    "                        color_continuous_scale=px.colors.carto.Tealrose, \n",
    "                        hover_name='Location',\n",
    "                        hover_data=['Year','Kind','Death'],\n",
    "                        size_max=144,   #set the size as the deposits numbers\n",
    "                        zoom=3,\n",
    "                        center=dict(lat=-1, lon=114),\n",
    "                        title = '<b>Fig.11 Indonesia Tsunami Distribution with Deposit Numbers'\n",
    "                       )\n",
    "\n",
    "fig.update_layout(\n",
    "                  mapbox_style=\"carto-positron\",\n",
    "                  width=1000,\n",
    "                  height=550,\n",
    "                  title_x=0.5,\n",
    "                 )\n",
    "\n",
    "fig.show()"
   ]
  },
  {
   "cell_type": "markdown",
   "id": "3c44c782",
   "metadata": {
    "papermill": {
     "duration": 0.020185,
     "end_time": "2023-04-17T15:44:33.918924",
     "exception": false,
     "start_time": "2023-04-17T15:44:33.898739",
     "status": "completed"
    },
    "tags": []
   },
   "source": [
    "**According to `Fig.11`,**\n",
    "1. **The tsunami hit Indonesia on the coast of Sumatra in 2004 is the most devastating and deadliest tsunami ever, it caused a total death of 227,899 people.**\n",
    "2. **The five most dangerous tsunamis in Indonesia caused a total death of 267,856 people, they occurred in 2004/1883/1992/1994/2006 respectively.**   \n",
    "\n",
    "We can zoom in to check more detailed information related to tsunamis, like cities and date...\n"
   ]
  },
  {
   "cell_type": "markdown",
   "id": "d505684a",
   "metadata": {
    "papermill": {
     "duration": 0.020326,
     "end_time": "2023-04-17T15:44:33.959788",
     "exception": false,
     "start_time": "2023-04-17T15:44:33.939462",
     "status": "completed"
    },
    "tags": []
   },
   "source": [
    "# Off Topic\n",
    "Check the color for different models in `Plotly` package.   \n",
    "Find the favourite one to use in plotting figures~"
   ]
  },
  {
   "cell_type": "code",
   "execution_count": 35,
   "id": "cb404820",
   "metadata": {
    "execution": {
     "iopub.execute_input": "2023-04-17T15:44:34.003755Z",
     "iopub.status.busy": "2023-04-17T15:44:34.002906Z",
     "iopub.status.idle": "2023-04-17T15:44:34.077775Z",
     "shell.execute_reply": "2023-04-17T15:44:34.076514Z"
    },
    "papermill": {
     "duration": 0.100315,
     "end_time": "2023-04-17T15:44:34.080716",
     "exception": false,
     "start_time": "2023-04-17T15:44:33.980401",
     "status": "completed"
    },
    "tags": []
   },
   "outputs": [
    {
     "data": {
      "text/html": [
       "<div>                            <div id=\"3bf52de8-52db-4b56-ae56-0cf43c5a0e49\" class=\"plotly-graph-div\" style=\"height:1360px; width:100%;\"></div>            <script type=\"text/javascript\">                require([\"plotly\"], function(Plotly) {                    window.PLOTLYENV=window.PLOTLYENV || {};                                    if (document.getElementById(\"3bf52de8-52db-4b56-ae56-0cf43c5a0e49\")) {                    Plotly.newPlot(                        \"3bf52de8-52db-4b56-ae56-0cf43c5a0e49\",                        [{\"customdata\":[0,1,2,3,4,5,6,7,8,9,10],\"hovertemplate\":\"%{y}[%{customdata}] = %{marker.color}<extra></extra>\",\"marker\":{\"color\":[\"rgb(229, 134, 6)\",\"rgb(93, 105, 177)\",\"rgb(82, 188, 163)\",\"rgb(153, 201, 69)\",\"rgb(204, 97, 176)\",\"rgb(36, 121, 108)\",\"rgb(218, 165, 27)\",\"rgb(47, 138, 196)\",\"rgb(118, 78, 159)\",\"rgb(237, 100, 90)\",\"rgb(165, 170, 153)\"]},\"orientation\":\"h\",\"x\":[1,1,1,1,1,1,1,1,1,1,1],\"y\":[\"Vivid\",\"Vivid\",\"Vivid\",\"Vivid\",\"Vivid\",\"Vivid\",\"Vivid\",\"Vivid\",\"Vivid\",\"Vivid\",\"Vivid\"],\"type\":\"bar\"},{\"customdata\":[0,1,2,3,4,5,6,7,8,9,10],\"hovertemplate\":\"%{y}[%{customdata}] = %{marker.color}<extra></extra>\",\"marker\":{\"color\":[\"rgb(136, 204, 238)\",\"rgb(204, 102, 119)\",\"rgb(221, 204, 119)\",\"rgb(17, 119, 51)\",\"rgb(51, 34, 136)\",\"rgb(170, 68, 153)\",\"rgb(68, 170, 153)\",\"rgb(153, 153, 51)\",\"rgb(136, 34, 85)\",\"rgb(102, 17, 0)\",\"rgb(136, 136, 136)\"]},\"orientation\":\"h\",\"x\":[1,1,1,1,1,1,1,1,1,1,1],\"y\":[\"Safe\",\"Safe\",\"Safe\",\"Safe\",\"Safe\",\"Safe\",\"Safe\",\"Safe\",\"Safe\",\"Safe\",\"Safe\"],\"type\":\"bar\"},{\"customdata\":[0,1,2,3,4,5,6,7,8,9,10],\"hovertemplate\":\"%{y}[%{customdata}] = %{marker.color}<extra></extra>\",\"marker\":{\"color\":[\"rgb(95, 70, 144)\",\"rgb(29, 105, 150)\",\"rgb(56, 166, 165)\",\"rgb(15, 133, 84)\",\"rgb(115, 175, 72)\",\"rgb(237, 173, 8)\",\"rgb(225, 124, 5)\",\"rgb(204, 80, 62)\",\"rgb(148, 52, 110)\",\"rgb(111, 64, 112)\",\"rgb(102, 102, 102)\"]},\"orientation\":\"h\",\"x\":[1,1,1,1,1,1,1,1,1,1,1],\"y\":[\"Prism\",\"Prism\",\"Prism\",\"Prism\",\"Prism\",\"Prism\",\"Prism\",\"Prism\",\"Prism\",\"Prism\",\"Prism\"],\"type\":\"bar\"},{\"customdata\":[0,1,2,3,4,5,6,7,8,9,10],\"hovertemplate\":\"%{y}[%{customdata}] = %{marker.color}<extra></extra>\",\"marker\":{\"color\":[\"rgb(102, 197, 204)\",\"rgb(246, 207, 113)\",\"rgb(248, 156, 116)\",\"rgb(220, 176, 242)\",\"rgb(135, 197, 95)\",\"rgb(158, 185, 243)\",\"rgb(254, 136, 177)\",\"rgb(201, 219, 116)\",\"rgb(139, 224, 164)\",\"rgb(180, 151, 231)\",\"rgb(179, 179, 179)\"]},\"orientation\":\"h\",\"x\":[1,1,1,1,1,1,1,1,1,1,1],\"y\":[\"Pastel\",\"Pastel\",\"Pastel\",\"Pastel\",\"Pastel\",\"Pastel\",\"Pastel\",\"Pastel\",\"Pastel\",\"Pastel\",\"Pastel\"],\"type\":\"bar\"},{\"customdata\":[0,1,2,3,4,5,6,7,8,9,10],\"hovertemplate\":\"%{y}[%{customdata}] = %{marker.color}<extra></extra>\",\"marker\":{\"color\":[\"rgb(127, 60, 141)\",\"rgb(17, 165, 121)\",\"rgb(57, 105, 172)\",\"rgb(242, 183, 1)\",\"rgb(231, 63, 116)\",\"rgb(128, 186, 90)\",\"rgb(230, 131, 16)\",\"rgb(0, 134, 149)\",\"rgb(207, 28, 144)\",\"rgb(249, 123, 114)\",\"rgb(165, 170, 153)\"]},\"orientation\":\"h\",\"x\":[1,1,1,1,1,1,1,1,1,1,1],\"y\":[\"Bold\",\"Bold\",\"Bold\",\"Bold\",\"Bold\",\"Bold\",\"Bold\",\"Bold\",\"Bold\",\"Bold\",\"Bold\"],\"type\":\"bar\"},{\"customdata\":[0,1,2,3,4,5,6,7,8,9,10],\"hovertemplate\":\"%{y}[%{customdata}] = %{marker.color}<extra></extra>\",\"marker\":{\"color\":[\"rgb(133, 92, 117)\",\"rgb(217, 175, 107)\",\"rgb(175, 100, 88)\",\"rgb(115, 111, 76)\",\"rgb(82, 106, 131)\",\"rgb(98, 83, 119)\",\"rgb(104, 133, 92)\",\"rgb(156, 156, 94)\",\"rgb(160, 97, 119)\",\"rgb(140, 120, 93)\",\"rgb(124, 124, 124)\"]},\"orientation\":\"h\",\"x\":[1,1,1,1,1,1,1,1,1,1,1],\"y\":[\"Antique\",\"Antique\",\"Antique\",\"Antique\",\"Antique\",\"Antique\",\"Antique\",\"Antique\",\"Antique\",\"Antique\",\"Antique\"],\"type\":\"bar\"},{\"customdata\":[0,1,2,3,4,5,6],\"hovertemplate\":\"%{y}[%{customdata}] = %{marker.color}<extra></extra>\",\"marker\":{\"color\":[\"rgb(161, 105, 40)\",\"rgb(189, 146, 90)\",\"rgb(214, 189, 141)\",\"rgb(237, 234, 194)\",\"rgb(181, 200, 184)\",\"rgb(121, 167, 172)\",\"rgb(40, 135, 161)\"]},\"orientation\":\"h\",\"x\":[1,1,1,1,1,1,1],\"y\":[\"Earth\",\"Earth\",\"Earth\",\"Earth\",\"Earth\",\"Earth\",\"Earth\"],\"type\":\"bar\"},{\"customdata\":[0,1,2,3,4,5,6],\"hovertemplate\":\"%{y}[%{customdata}] = %{marker.color}<extra></extra>\",\"marker\":{\"color\":[\"rgb(0, 155, 158)\",\"rgb(66, 183, 185)\",\"rgb(167, 211, 212)\",\"rgb(241, 241, 241)\",\"rgb(228, 193, 217)\",\"rgb(214, 145, 193)\",\"rgb(199, 93, 171)\"]},\"orientation\":\"h\",\"x\":[1,1,1,1,1,1,1],\"y\":[\"Tropic\",\"Tropic\",\"Tropic\",\"Tropic\",\"Tropic\",\"Tropic\",\"Tropic\"],\"type\":\"bar\"},{\"customdata\":[0,1,2,3,4,5,6],\"hovertemplate\":\"%{y}[%{customdata}] = %{marker.color}<extra></extra>\",\"marker\":{\"color\":[\"rgb(0, 147, 146)\",\"rgb(114, 170, 161)\",\"rgb(177, 199, 179)\",\"rgb(241, 234, 200)\",\"rgb(229, 185, 173)\",\"rgb(217, 137, 148)\",\"rgb(208, 88, 126)\"]},\"orientation\":\"h\",\"x\":[1,1,1,1,1,1,1],\"y\":[\"Tealrose\",\"Tealrose\",\"Tealrose\",\"Tealrose\",\"Tealrose\",\"Tealrose\",\"Tealrose\"],\"type\":\"bar\"},{\"customdata\":[0,1,2,3,4,5,6],\"hovertemplate\":\"%{y}[%{customdata}] = %{marker.color}<extra></extra>\",\"marker\":{\"color\":[\"rgb(0, 147, 146)\",\"rgb(57, 177, 133)\",\"rgb(156, 203, 134)\",\"rgb(233, 226, 156)\",\"rgb(238, 180, 121)\",\"rgb(232, 132, 113)\",\"rgb(207, 89, 126)\"]},\"orientation\":\"h\",\"x\":[1,1,1,1,1,1,1],\"y\":[\"Temps\",\"Temps\",\"Temps\",\"Temps\",\"Temps\",\"Temps\",\"Temps\"],\"type\":\"bar\"},{\"customdata\":[0,1,2,3,4,5,6],\"hovertemplate\":\"%{y}[%{customdata}] = %{marker.color}<extra></extra>\",\"marker\":{\"color\":[\"rgb(0, 128, 128)\",\"rgb(112, 164, 148)\",\"rgb(180, 200, 168)\",\"rgb(246, 237, 189)\",\"rgb(237, 187, 138)\",\"rgb(222, 138, 90)\",\"rgb(202, 86, 44)\"]},\"orientation\":\"h\",\"x\":[1,1,1,1,1,1,1],\"y\":[\"Geyser\",\"Geyser\",\"Geyser\",\"Geyser\",\"Geyser\",\"Geyser\",\"Geyser\"],\"type\":\"bar\"},{\"customdata\":[0,1,2,3,4,5,6],\"hovertemplate\":\"%{y}[%{customdata}] = %{marker.color}<extra></extra>\",\"marker\":{\"color\":[\"rgb(61, 89, 65)\",\"rgb(119, 136, 104)\",\"rgb(181, 185, 145)\",\"rgb(246, 237, 189)\",\"rgb(237, 187, 138)\",\"rgb(222, 138, 90)\",\"rgb(202, 86, 44)\"]},\"orientation\":\"h\",\"x\":[1,1,1,1,1,1,1],\"y\":[\"Fall\",\"Fall\",\"Fall\",\"Fall\",\"Fall\",\"Fall\",\"Fall\"],\"type\":\"bar\"},{\"customdata\":[0,1,2,3,4,5,6],\"hovertemplate\":\"%{y}[%{customdata}] = %{marker.color}<extra></extra>\",\"marker\":{\"color\":[\"rgb(121, 130, 52)\",\"rgb(163, 173, 98)\",\"rgb(208, 211, 162)\",\"rgb(253, 251, 228)\",\"rgb(240, 198, 195)\",\"rgb(223, 145, 163)\",\"rgb(212, 103, 128)\"]},\"orientation\":\"h\",\"x\":[1,1,1,1,1,1,1],\"y\":[\"Armyrose\",\"Armyrose\",\"Armyrose\",\"Armyrose\",\"Armyrose\",\"Armyrose\",\"Armyrose\"],\"type\":\"bar\"},{\"customdata\":[0,1,2,3,4,5,6],\"hovertemplate\":\"%{y}[%{customdata}] = %{marker.color}<extra></extra>\",\"marker\":{\"color\":[\"rgb(237, 229, 207)\",\"rgb(224, 194, 162)\",\"rgb(211, 156, 131)\",\"rgb(193, 118, 111)\",\"rgb(166, 84, 97)\",\"rgb(129, 55, 83)\",\"rgb(84, 31, 63)\"]},\"orientation\":\"h\",\"x\":[1,1,1,1,1,1,1],\"y\":[\"Brwnyl\",\"Brwnyl\",\"Brwnyl\",\"Brwnyl\",\"Brwnyl\",\"Brwnyl\",\"Brwnyl\"],\"type\":\"bar\"},{\"customdata\":[0,1,2,3,4,5,6],\"hovertemplate\":\"%{y}[%{customdata}] = %{marker.color}<extra></extra>\",\"marker\":{\"color\":[\"rgb(75, 41, 145)\",\"rgb(135, 44, 162)\",\"rgb(192, 54, 157)\",\"rgb(234, 79, 136)\",\"rgb(250, 120, 118)\",\"rgb(246, 169, 122)\",\"rgb(237, 217, 163)\"]},\"orientation\":\"h\",\"x\":[1,1,1,1,1,1,1],\"y\":[\"Agsunset\",\"Agsunset\",\"Agsunset\",\"Agsunset\",\"Agsunset\",\"Agsunset\",\"Agsunset\"],\"type\":\"bar\"},{\"customdata\":[0,1,2,3,4,5,6],\"hovertemplate\":\"%{y}[%{customdata}] = %{marker.color}<extra></extra>\",\"marker\":{\"color\":[\"rgb(252, 222, 156)\",\"rgb(250, 164, 118)\",\"rgb(240, 116, 110)\",\"rgb(227, 79, 111)\",\"rgb(220, 57, 119)\",\"rgb(185, 37, 122)\",\"rgb(124, 29, 111)\"]},\"orientation\":\"h\",\"x\":[1,1,1,1,1,1,1],\"y\":[\"Sunsetdark\",\"Sunsetdark\",\"Sunsetdark\",\"Sunsetdark\",\"Sunsetdark\",\"Sunsetdark\",\"Sunsetdark\"],\"type\":\"bar\"},{\"customdata\":[0,1,2,3,4,5,6],\"hovertemplate\":\"%{y}[%{customdata}] = %{marker.color}<extra></extra>\",\"marker\":{\"color\":[\"rgb(243, 203, 211)\",\"rgb(234, 169, 189)\",\"rgb(221, 136, 172)\",\"rgb(202, 105, 157)\",\"rgb(177, 77, 142)\",\"rgb(145, 53, 125)\",\"rgb(108, 33, 103)\"]},\"orientation\":\"h\",\"x\":[1,1,1,1,1,1,1],\"y\":[\"Magenta\",\"Magenta\",\"Magenta\",\"Magenta\",\"Magenta\",\"Magenta\",\"Magenta\"],\"type\":\"bar\"},{\"customdata\":[0,1,2,3,4,5,6],\"hovertemplate\":\"%{y}[%{customdata}] = %{marker.color}<extra></extra>\",\"marker\":{\"color\":[\"rgb(243, 231, 155)\",\"rgb(250, 196, 132)\",\"rgb(248, 160, 126)\",\"rgb(235, 127, 134)\",\"rgb(206, 102, 147)\",\"rgb(160, 89, 160)\",\"rgb(92, 83, 165)\"]},\"orientation\":\"h\",\"x\":[1,1,1,1,1,1,1],\"y\":[\"Sunset\",\"Sunset\",\"Sunset\",\"Sunset\",\"Sunset\",\"Sunset\",\"Sunset\"],\"type\":\"bar\"},{\"customdata\":[0,1,2,3,4,5,6],\"hovertemplate\":\"%{y}[%{customdata}] = %{marker.color}<extra></extra>\",\"marker\":{\"color\":[\"rgb(249, 221, 218)\",\"rgb(242, 185, 196)\",\"rgb(229, 151, 185)\",\"rgb(206, 120, 179)\",\"rgb(173, 95, 173)\",\"rgb(131, 75, 160)\",\"rgb(87, 59, 136)\"]},\"orientation\":\"h\",\"x\":[1,1,1,1,1,1,1],\"y\":[\"Purpor\",\"Purpor\",\"Purpor\",\"Purpor\",\"Purpor\",\"Purpor\",\"Purpor\"],\"type\":\"bar\"},{\"customdata\":[0,1,2,3,4,5,6],\"hovertemplate\":\"%{y}[%{customdata}] = %{marker.color}<extra></extra>\",\"marker\":{\"color\":[\"rgb(243, 224, 247)\",\"rgb(228, 199, 241)\",\"rgb(209, 175, 232)\",\"rgb(185, 152, 221)\",\"rgb(159, 130, 206)\",\"rgb(130, 109, 186)\",\"rgb(99, 88, 159)\"]},\"orientation\":\"h\",\"x\":[1,1,1,1,1,1,1],\"y\":[\"Purp\",\"Purp\",\"Purp\",\"Purp\",\"Purp\",\"Purp\",\"Purp\"],\"type\":\"bar\"},{\"customdata\":[0,1,2,3,4,5,6],\"hovertemplate\":\"%{y}[%{customdata}] = %{marker.color}<extra></extra>\",\"marker\":{\"color\":[\"rgb(176, 242, 188)\",\"rgb(137, 232, 172)\",\"rgb(103, 219, 165)\",\"rgb(76, 200, 163)\",\"rgb(56, 178, 163)\",\"rgb(44, 152, 160)\",\"rgb(37, 125, 152)\"]},\"orientation\":\"h\",\"x\":[1,1,1,1,1,1,1],\"y\":[\"Tealgrn\",\"Tealgrn\",\"Tealgrn\",\"Tealgrn\",\"Tealgrn\",\"Tealgrn\",\"Tealgrn\"],\"type\":\"bar\"},{\"customdata\":[0,1,2,3,4,5,6],\"hovertemplate\":\"%{y}[%{customdata}] = %{marker.color}<extra></extra>\",\"marker\":{\"color\":[\"rgb(209, 238, 234)\",\"rgb(168, 219, 217)\",\"rgb(133, 196, 201)\",\"rgb(104, 171, 184)\",\"rgb(79, 144, 166)\",\"rgb(59, 115, 143)\",\"rgb(42, 86, 116)\"]},\"orientation\":\"h\",\"x\":[1,1,1,1,1,1,1],\"y\":[\"Teal\",\"Teal\",\"Teal\",\"Teal\",\"Teal\",\"Teal\",\"Teal\"],\"type\":\"bar\"},{\"customdata\":[0,1,2,3,4,5,6],\"hovertemplate\":\"%{y}[%{customdata}] = %{marker.color}<extra></extra>\",\"marker\":{\"color\":[\"rgb(247, 254, 174)\",\"rgb(183, 230, 165)\",\"rgb(124, 203, 162)\",\"rgb(70, 174, 160)\",\"rgb(8, 144, 153)\",\"rgb(0, 113, 139)\",\"rgb(4, 82, 117)\"]},\"orientation\":\"h\",\"x\":[1,1,1,1,1,1,1],\"y\":[\"Bluyl\",\"Bluyl\",\"Bluyl\",\"Bluyl\",\"Bluyl\",\"Bluyl\",\"Bluyl\"],\"type\":\"bar\"},{\"customdata\":[0,1,2,3,4,5,6],\"hovertemplate\":\"%{y}[%{customdata}] = %{marker.color}<extra></extra>\",\"marker\":{\"color\":[\"rgb(36, 86, 104)\",\"rgb(15, 114, 121)\",\"rgb(13, 143, 129)\",\"rgb(57, 171, 126)\",\"rgb(110, 197, 116)\",\"rgb(169, 220, 103)\",\"rgb(237, 239, 93)\"]},\"orientation\":\"h\",\"x\":[1,1,1,1,1,1,1],\"y\":[\"Aggrnyl\",\"Aggrnyl\",\"Aggrnyl\",\"Aggrnyl\",\"Aggrnyl\",\"Aggrnyl\",\"Aggrnyl\"],\"type\":\"bar\"},{\"customdata\":[0,1,2,3,4,5,6],\"hovertemplate\":\"%{y}[%{customdata}] = %{marker.color}<extra></extra>\",\"marker\":{\"color\":[\"rgb(211, 242, 163)\",\"rgb(151, 225, 150)\",\"rgb(108, 192, 139)\",\"rgb(76, 155, 130)\",\"rgb(33, 122, 121)\",\"rgb(16, 89, 101)\",\"rgb(7, 64, 80)\"]},\"orientation\":\"h\",\"x\":[1,1,1,1,1,1,1],\"y\":[\"Emrld\",\"Emrld\",\"Emrld\",\"Emrld\",\"Emrld\",\"Emrld\",\"Emrld\"],\"type\":\"bar\"},{\"customdata\":[0,1,2,3,4,5,6],\"hovertemplate\":\"%{y}[%{customdata}] = %{marker.color}<extra></extra>\",\"marker\":{\"color\":[\"rgb(210, 251, 212)\",\"rgb(165, 219, 194)\",\"rgb(123, 188, 176)\",\"rgb(85, 156, 158)\",\"rgb(58, 124, 137)\",\"rgb(35, 93, 114)\",\"rgb(18, 63, 90)\"]},\"orientation\":\"h\",\"x\":[1,1,1,1,1,1,1],\"y\":[\"Darkmint\",\"Darkmint\",\"Darkmint\",\"Darkmint\",\"Darkmint\",\"Darkmint\",\"Darkmint\"],\"type\":\"bar\"},{\"customdata\":[0,1,2,3,4,5,6],\"hovertemplate\":\"%{y}[%{customdata}] = %{marker.color}<extra></extra>\",\"marker\":{\"color\":[\"rgb(196, 230, 195)\",\"rgb(150, 210, 164)\",\"rgb(109, 188, 144)\",\"rgb(77, 162, 132)\",\"rgb(54, 135, 122)\",\"rgb(38, 107, 110)\",\"rgb(29, 79, 96)\"]},\"orientation\":\"h\",\"x\":[1,1,1,1,1,1,1],\"y\":[\"Blugrn\",\"Blugrn\",\"Blugrn\",\"Blugrn\",\"Blugrn\",\"Blugrn\",\"Blugrn\"],\"type\":\"bar\"},{\"customdata\":[0,1,2,3,4,5,6],\"hovertemplate\":\"%{y}[%{customdata}] = %{marker.color}<extra></extra>\",\"marker\":{\"color\":[\"rgb(228, 241, 225)\",\"rgb(180, 217, 204)\",\"rgb(137, 192, 182)\",\"rgb(99, 166, 160)\",\"rgb(68, 140, 138)\",\"rgb(40, 114, 116)\",\"rgb(13, 88, 95)\"]},\"orientation\":\"h\",\"x\":[1,1,1,1,1,1,1],\"y\":[\"Mint\",\"Mint\",\"Mint\",\"Mint\",\"Mint\",\"Mint\",\"Mint\"],\"type\":\"bar\"},{\"customdata\":[0,1,2,3,4,5,6],\"hovertemplate\":\"%{y}[%{customdata}] = %{marker.color}<extra></extra>\",\"marker\":{\"color\":[\"rgb(254, 246, 181)\",\"rgb(255, 221, 154)\",\"rgb(255, 194, 133)\",\"rgb(255, 166, 121)\",\"rgb(250, 138, 118)\",\"rgb(241, 109, 122)\",\"rgb(225, 83, 131)\"]},\"orientation\":\"h\",\"x\":[1,1,1,1,1,1,1],\"y\":[\"Pinkyl\",\"Pinkyl\",\"Pinkyl\",\"Pinkyl\",\"Pinkyl\",\"Pinkyl\",\"Pinkyl\"],\"type\":\"bar\"},{\"customdata\":[0,1,2,3,4,5,6],\"hovertemplate\":\"%{y}[%{customdata}] = %{marker.color}<extra></extra>\",\"marker\":{\"color\":[\"rgb(253, 224, 197)\",\"rgb(250, 203, 166)\",\"rgb(248, 181, 139)\",\"rgb(245, 158, 114)\",\"rgb(242, 133, 93)\",\"rgb(239, 106, 76)\",\"rgb(235, 74, 64)\"]},\"orientation\":\"h\",\"x\":[1,1,1,1,1,1,1],\"y\":[\"Peach\",\"Peach\",\"Peach\",\"Peach\",\"Peach\",\"Peach\",\"Peach\"],\"type\":\"bar\"},{\"customdata\":[0,1,2,3,4,5,6],\"hovertemplate\":\"%{y}[%{customdata}] = %{marker.color}<extra></extra>\",\"marker\":{\"color\":[\"rgb(236, 218, 154)\",\"rgb(239, 196, 126)\",\"rgb(243, 173, 106)\",\"rgb(247, 148, 93)\",\"rgb(249, 123, 87)\",\"rgb(246, 99, 86)\",\"rgb(238, 77, 90)\"]},\"orientation\":\"h\",\"x\":[1,1,1,1,1,1,1],\"y\":[\"Oryel\",\"Oryel\",\"Oryel\",\"Oryel\",\"Oryel\",\"Oryel\",\"Oryel\"],\"type\":\"bar\"},{\"customdata\":[0,1,2,3,4,5,6],\"hovertemplate\":\"%{y}[%{customdata}] = %{marker.color}<extra></extra>\",\"marker\":{\"color\":[\"rgb(246, 210, 169)\",\"rgb(245, 183, 142)\",\"rgb(241, 156, 124)\",\"rgb(234, 129, 113)\",\"rgb(221, 104, 108)\",\"rgb(202, 82, 104)\",\"rgb(177, 63, 100)\"]},\"orientation\":\"h\",\"x\":[1,1,1,1,1,1,1],\"y\":[\"Redor\",\"Redor\",\"Redor\",\"Redor\",\"Redor\",\"Redor\",\"Redor\"],\"type\":\"bar\"},{\"customdata\":[0,1,2,3,4,5,6],\"hovertemplate\":\"%{y}[%{customdata}] = %{marker.color}<extra></extra>\",\"marker\":{\"color\":[\"rgb(251, 230, 197)\",\"rgb(245, 186, 152)\",\"rgb(238, 138, 130)\",\"rgb(220, 113, 118)\",\"rgb(200, 88, 108)\",\"rgb(156, 63, 93)\",\"rgb(112, 40, 74)\"]},\"orientation\":\"h\",\"x\":[1,1,1,1,1,1,1],\"y\":[\"Burgyl\",\"Burgyl\",\"Burgyl\",\"Burgyl\",\"Burgyl\",\"Burgyl\",\"Burgyl\"],\"type\":\"bar\"},{\"customdata\":[0,1,2,3,4,5,6],\"hovertemplate\":\"%{y}[%{customdata}] = %{marker.color}<extra></extra>\",\"marker\":{\"color\":[\"rgb(255, 198, 196)\",\"rgb(244, 163, 168)\",\"rgb(227, 129, 145)\",\"rgb(204, 96, 125)\",\"rgb(173, 70, 108)\",\"rgb(139, 48, 88)\",\"rgb(103, 32, 68)\"]},\"orientation\":\"h\",\"x\":[1,1,1,1,1,1,1],\"y\":[\"Burg\",\"Burg\",\"Burg\",\"Burg\",\"Burg\",\"Burg\",\"Burg\"],\"type\":\"bar\"}],                        {\"bargap\":0.5,\"barmode\":\"stack\",\"barnorm\":\"fraction\",\"height\":1360,\"margin\":{\"b\":10},\"showlegend\":false,\"template\":{\"data\":{\"barpolar\":[{\"marker\":{\"line\":{\"color\":\"#E5ECF6\",\"width\":0.5},\"pattern\":{\"fillmode\":\"overlay\",\"size\":10,\"solidity\":0.2}},\"type\":\"barpolar\"}],\"bar\":[{\"error_x\":{\"color\":\"#2a3f5f\"},\"error_y\":{\"color\":\"#2a3f5f\"},\"marker\":{\"line\":{\"color\":\"#E5ECF6\",\"width\":0.5},\"pattern\":{\"fillmode\":\"overlay\",\"size\":10,\"solidity\":0.2}},\"type\":\"bar\"}],\"carpet\":[{\"aaxis\":{\"endlinecolor\":\"#2a3f5f\",\"gridcolor\":\"white\",\"linecolor\":\"white\",\"minorgridcolor\":\"white\",\"startlinecolor\":\"#2a3f5f\"},\"baxis\":{\"endlinecolor\":\"#2a3f5f\",\"gridcolor\":\"white\",\"linecolor\":\"white\",\"minorgridcolor\":\"white\",\"startlinecolor\":\"#2a3f5f\"},\"type\":\"carpet\"}],\"choropleth\":[{\"colorbar\":{\"outlinewidth\":0,\"ticks\":\"\"},\"type\":\"choropleth\"}],\"contourcarpet\":[{\"colorbar\":{\"outlinewidth\":0,\"ticks\":\"\"},\"type\":\"contourcarpet\"}],\"contour\":[{\"colorbar\":{\"outlinewidth\":0,\"ticks\":\"\"},\"colorscale\":[[0.0,\"#0d0887\"],[0.1111111111111111,\"#46039f\"],[0.2222222222222222,\"#7201a8\"],[0.3333333333333333,\"#9c179e\"],[0.4444444444444444,\"#bd3786\"],[0.5555555555555556,\"#d8576b\"],[0.6666666666666666,\"#ed7953\"],[0.7777777777777778,\"#fb9f3a\"],[0.8888888888888888,\"#fdca26\"],[1.0,\"#f0f921\"]],\"type\":\"contour\"}],\"heatmapgl\":[{\"colorbar\":{\"outlinewidth\":0,\"ticks\":\"\"},\"colorscale\":[[0.0,\"#0d0887\"],[0.1111111111111111,\"#46039f\"],[0.2222222222222222,\"#7201a8\"],[0.3333333333333333,\"#9c179e\"],[0.4444444444444444,\"#bd3786\"],[0.5555555555555556,\"#d8576b\"],[0.6666666666666666,\"#ed7953\"],[0.7777777777777778,\"#fb9f3a\"],[0.8888888888888888,\"#fdca26\"],[1.0,\"#f0f921\"]],\"type\":\"heatmapgl\"}],\"heatmap\":[{\"colorbar\":{\"outlinewidth\":0,\"ticks\":\"\"},\"colorscale\":[[0.0,\"#0d0887\"],[0.1111111111111111,\"#46039f\"],[0.2222222222222222,\"#7201a8\"],[0.3333333333333333,\"#9c179e\"],[0.4444444444444444,\"#bd3786\"],[0.5555555555555556,\"#d8576b\"],[0.6666666666666666,\"#ed7953\"],[0.7777777777777778,\"#fb9f3a\"],[0.8888888888888888,\"#fdca26\"],[1.0,\"#f0f921\"]],\"type\":\"heatmap\"}],\"histogram2dcontour\":[{\"colorbar\":{\"outlinewidth\":0,\"ticks\":\"\"},\"colorscale\":[[0.0,\"#0d0887\"],[0.1111111111111111,\"#46039f\"],[0.2222222222222222,\"#7201a8\"],[0.3333333333333333,\"#9c179e\"],[0.4444444444444444,\"#bd3786\"],[0.5555555555555556,\"#d8576b\"],[0.6666666666666666,\"#ed7953\"],[0.7777777777777778,\"#fb9f3a\"],[0.8888888888888888,\"#fdca26\"],[1.0,\"#f0f921\"]],\"type\":\"histogram2dcontour\"}],\"histogram2d\":[{\"colorbar\":{\"outlinewidth\":0,\"ticks\":\"\"},\"colorscale\":[[0.0,\"#0d0887\"],[0.1111111111111111,\"#46039f\"],[0.2222222222222222,\"#7201a8\"],[0.3333333333333333,\"#9c179e\"],[0.4444444444444444,\"#bd3786\"],[0.5555555555555556,\"#d8576b\"],[0.6666666666666666,\"#ed7953\"],[0.7777777777777778,\"#fb9f3a\"],[0.8888888888888888,\"#fdca26\"],[1.0,\"#f0f921\"]],\"type\":\"histogram2d\"}],\"histogram\":[{\"marker\":{\"pattern\":{\"fillmode\":\"overlay\",\"size\":10,\"solidity\":0.2}},\"type\":\"histogram\"}],\"mesh3d\":[{\"colorbar\":{\"outlinewidth\":0,\"ticks\":\"\"},\"type\":\"mesh3d\"}],\"parcoords\":[{\"line\":{\"colorbar\":{\"outlinewidth\":0,\"ticks\":\"\"}},\"type\":\"parcoords\"}],\"pie\":[{\"automargin\":true,\"type\":\"pie\"}],\"scatter3d\":[{\"line\":{\"colorbar\":{\"outlinewidth\":0,\"ticks\":\"\"}},\"marker\":{\"colorbar\":{\"outlinewidth\":0,\"ticks\":\"\"}},\"type\":\"scatter3d\"}],\"scattercarpet\":[{\"marker\":{\"colorbar\":{\"outlinewidth\":0,\"ticks\":\"\"}},\"type\":\"scattercarpet\"}],\"scattergeo\":[{\"marker\":{\"colorbar\":{\"outlinewidth\":0,\"ticks\":\"\"}},\"type\":\"scattergeo\"}],\"scattergl\":[{\"marker\":{\"colorbar\":{\"outlinewidth\":0,\"ticks\":\"\"}},\"type\":\"scattergl\"}],\"scattermapbox\":[{\"marker\":{\"colorbar\":{\"outlinewidth\":0,\"ticks\":\"\"}},\"type\":\"scattermapbox\"}],\"scatterpolargl\":[{\"marker\":{\"colorbar\":{\"outlinewidth\":0,\"ticks\":\"\"}},\"type\":\"scatterpolargl\"}],\"scatterpolar\":[{\"marker\":{\"colorbar\":{\"outlinewidth\":0,\"ticks\":\"\"}},\"type\":\"scatterpolar\"}],\"scatter\":[{\"fillpattern\":{\"fillmode\":\"overlay\",\"size\":10,\"solidity\":0.2},\"type\":\"scatter\"}],\"scatterternary\":[{\"marker\":{\"colorbar\":{\"outlinewidth\":0,\"ticks\":\"\"}},\"type\":\"scatterternary\"}],\"surface\":[{\"colorbar\":{\"outlinewidth\":0,\"ticks\":\"\"},\"colorscale\":[[0.0,\"#0d0887\"],[0.1111111111111111,\"#46039f\"],[0.2222222222222222,\"#7201a8\"],[0.3333333333333333,\"#9c179e\"],[0.4444444444444444,\"#bd3786\"],[0.5555555555555556,\"#d8576b\"],[0.6666666666666666,\"#ed7953\"],[0.7777777777777778,\"#fb9f3a\"],[0.8888888888888888,\"#fdca26\"],[1.0,\"#f0f921\"]],\"type\":\"surface\"}],\"table\":[{\"cells\":{\"fill\":{\"color\":\"#EBF0F8\"},\"line\":{\"color\":\"white\"}},\"header\":{\"fill\":{\"color\":\"#C8D4E3\"},\"line\":{\"color\":\"white\"}},\"type\":\"table\"}]},\"layout\":{\"annotationdefaults\":{\"arrowcolor\":\"#2a3f5f\",\"arrowhead\":0,\"arrowwidth\":1},\"autotypenumbers\":\"strict\",\"coloraxis\":{\"colorbar\":{\"outlinewidth\":0,\"ticks\":\"\"}},\"colorscale\":{\"diverging\":[[0,\"#8e0152\"],[0.1,\"#c51b7d\"],[0.2,\"#de77ae\"],[0.3,\"#f1b6da\"],[0.4,\"#fde0ef\"],[0.5,\"#f7f7f7\"],[0.6,\"#e6f5d0\"],[0.7,\"#b8e186\"],[0.8,\"#7fbc41\"],[0.9,\"#4d9221\"],[1,\"#276419\"]],\"sequential\":[[0.0,\"#0d0887\"],[0.1111111111111111,\"#46039f\"],[0.2222222222222222,\"#7201a8\"],[0.3333333333333333,\"#9c179e\"],[0.4444444444444444,\"#bd3786\"],[0.5555555555555556,\"#d8576b\"],[0.6666666666666666,\"#ed7953\"],[0.7777777777777778,\"#fb9f3a\"],[0.8888888888888888,\"#fdca26\"],[1.0,\"#f0f921\"]],\"sequentialminus\":[[0.0,\"#0d0887\"],[0.1111111111111111,\"#46039f\"],[0.2222222222222222,\"#7201a8\"],[0.3333333333333333,\"#9c179e\"],[0.4444444444444444,\"#bd3786\"],[0.5555555555555556,\"#d8576b\"],[0.6666666666666666,\"#ed7953\"],[0.7777777777777778,\"#fb9f3a\"],[0.8888888888888888,\"#fdca26\"],[1.0,\"#f0f921\"]]},\"colorway\":[\"#636efa\",\"#EF553B\",\"#00cc96\",\"#ab63fa\",\"#FFA15A\",\"#19d3f3\",\"#FF6692\",\"#B6E880\",\"#FF97FF\",\"#FECB52\"],\"font\":{\"color\":\"#2a3f5f\"},\"geo\":{\"bgcolor\":\"white\",\"lakecolor\":\"white\",\"landcolor\":\"#E5ECF6\",\"showlakes\":true,\"showland\":true,\"subunitcolor\":\"white\"},\"hoverlabel\":{\"align\":\"left\"},\"hovermode\":\"closest\",\"mapbox\":{\"style\":\"light\"},\"paper_bgcolor\":\"white\",\"plot_bgcolor\":\"#E5ECF6\",\"polar\":{\"angularaxis\":{\"gridcolor\":\"white\",\"linecolor\":\"white\",\"ticks\":\"\"},\"bgcolor\":\"#E5ECF6\",\"radialaxis\":{\"gridcolor\":\"white\",\"linecolor\":\"white\",\"ticks\":\"\"}},\"scene\":{\"xaxis\":{\"backgroundcolor\":\"#E5ECF6\",\"gridcolor\":\"white\",\"gridwidth\":2,\"linecolor\":\"white\",\"showbackground\":true,\"ticks\":\"\",\"zerolinecolor\":\"white\"},\"yaxis\":{\"backgroundcolor\":\"#E5ECF6\",\"gridcolor\":\"white\",\"gridwidth\":2,\"linecolor\":\"white\",\"showbackground\":true,\"ticks\":\"\",\"zerolinecolor\":\"white\"},\"zaxis\":{\"backgroundcolor\":\"#E5ECF6\",\"gridcolor\":\"white\",\"gridwidth\":2,\"linecolor\":\"white\",\"showbackground\":true,\"ticks\":\"\",\"zerolinecolor\":\"white\"}},\"shapedefaults\":{\"line\":{\"color\":\"#2a3f5f\"}},\"ternary\":{\"aaxis\":{\"gridcolor\":\"white\",\"linecolor\":\"white\",\"ticks\":\"\"},\"baxis\":{\"gridcolor\":\"white\",\"linecolor\":\"white\",\"ticks\":\"\"},\"bgcolor\":\"#E5ECF6\",\"caxis\":{\"gridcolor\":\"white\",\"linecolor\":\"white\",\"ticks\":\"\"}},\"title\":{\"x\":0.05},\"xaxis\":{\"automargin\":true,\"gridcolor\":\"white\",\"linecolor\":\"white\",\"ticks\":\"\",\"title\":{\"standoff\":15},\"zerolinecolor\":\"white\",\"zerolinewidth\":2},\"yaxis\":{\"automargin\":true,\"gridcolor\":\"white\",\"linecolor\":\"white\",\"ticks\":\"\",\"title\":{\"standoff\":15},\"zerolinecolor\":\"white\",\"zerolinewidth\":2}}},\"title\":{\"text\":\"plotly.colors.carto\"},\"xaxis\":{\"range\":[-0.02,1.02],\"showgrid\":false,\"showticklabels\":false}},                        {\"responsive\": true}                    ).then(function(){\n",
       "                            \n",
       "var gd = document.getElementById('3bf52de8-52db-4b56-ae56-0cf43c5a0e49');\n",
       "var x = new MutationObserver(function (mutations, observer) {{\n",
       "        var display = window.getComputedStyle(gd).display;\n",
       "        if (!display || display === 'none') {{\n",
       "            console.log([gd, 'removed!']);\n",
       "            Plotly.purge(gd);\n",
       "            observer.disconnect();\n",
       "        }}\n",
       "}});\n",
       "\n",
       "// Listen for the removal of the full notebook cells\n",
       "var notebookContainer = gd.closest('#notebook-container');\n",
       "if (notebookContainer) {{\n",
       "    x.observe(notebookContainer, {childList: true});\n",
       "}}\n",
       "\n",
       "// Listen for the clearing of the current output cell\n",
       "var outputEl = gd.closest('.output');\n",
       "if (outputEl) {{\n",
       "    x.observe(outputEl, {childList: true});\n",
       "}}\n",
       "\n",
       "                        })                };                });            </script>        </div>"
      ]
     },
     "metadata": {},
     "output_type": "display_data"
    }
   ],
   "source": [
    "# Choose 'carto' as an example\n",
    "fig = px.colors.carto.swatches()\n",
    "fig.show()"
   ]
  }
 ],
 "metadata": {
  "kernelspec": {
   "display_name": "Python 3",
   "language": "python",
   "name": "python3"
  },
  "language_info": {
   "codemirror_mode": {
    "name": "ipython",
    "version": 3
   },
   "file_extension": ".py",
   "mimetype": "text/x-python",
   "name": "python",
   "nbconvert_exporter": "python",
   "pygments_lexer": "ipython3",
   "version": "3.7.12"
  },
  "papermill": {
   "default_parameters": {},
   "duration": 18.004576,
   "end_time": "2023-04-17T15:44:35.026127",
   "environment_variables": {},
   "exception": null,
   "input_path": "__notebook__.ipynb",
   "output_path": "__notebook__.ipynb",
   "parameters": {},
   "start_time": "2023-04-17T15:44:17.021551",
   "version": "2.3.4"
  }
 },
 "nbformat": 4,
 "nbformat_minor": 5
}
