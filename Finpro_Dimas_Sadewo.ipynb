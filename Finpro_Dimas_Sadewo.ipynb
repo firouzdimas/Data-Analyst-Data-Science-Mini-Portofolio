{
  "cells": [
    {
      "cell_type": "markdown",
      "metadata": {
        "id": "view-in-github",
        "colab_type": "text"
      },
      "source": [
        "<a href=\"https://colab.research.google.com/github/firouzdimas/Data-Analyst-Data-Science-Mini-Portofolio/blob/main/Finpro_Dimas_Sadewo.ipynb\" target=\"_parent\"><img src=\"https://colab.research.google.com/assets/colab-badge.svg\" alt=\"Open In Colab\"/></a>"
      ]
    },
    {
      "cell_type": "markdown",
      "id": "cb2375a9",
      "metadata": {
        "id": "cb2375a9"
      },
      "source": [
        "# Medical Cost Personal Prediction"
      ]
    },
    {
      "cell_type": "markdown",
      "id": "f1758301",
      "metadata": {
        "id": "f1758301"
      },
      "source": [
        "## Background & Objective\n",
        "### Background\n",
        "Medical insurance is a type of insurance that covers the whole or a part of the risk of a person incurring medical expenses. As with other types of insurance, risk is shared among many individuals. By estimating the overall risk of health risk and health system expenses over the risk pool, an insurer can develop a routine finance structure, such as a monthly premium or payroll tax, to provide the money to pay for the health care benefits specified in the insurance agreement. \n",
        "A health insurance company can only make money if it collects more than it spends on the medical care of its beneficiaries. On the other hand, even though some conditions are more prevalent for certain segments of the population, medical costs are difficult to predict since most money comes from rare conditions of the patients.\n",
        "### Objective\n",
        "- To determine the most appropriate model to predict insurance costs based on people’s data, including age, Body Mass Index, smoking or not, etc.\n",
        "-  Determine what the most important variable influencing insurance costs is."
      ]
    },
    {
      "cell_type": "markdown",
      "id": "d49a78a4",
      "metadata": {
        "id": "d49a78a4"
      },
      "source": [
        "### Data Understanding"
      ]
    },
    {
      "cell_type": "markdown",
      "id": "971f6dee",
      "metadata": {
        "id": "971f6dee"
      },
      "source": [
        "#### Import Library"
      ]
    },
    {
      "cell_type": "code",
      "execution_count": null,
      "id": "0522f3dd",
      "metadata": {
        "id": "0522f3dd"
      },
      "outputs": [],
      "source": [
        "import pandas as pd\n",
        "import numpy as np\n",
        "import matplotlib.pyplot as plt\n",
        "import seaborn as sns\n",
        "import xgboost as xgb\n",
        "from xgboost import XGBRegressor\n",
        "from sklearn.ensemble import RandomForestRegressor\n",
        "from sklearn.linear_model import LinearRegression\n",
        "from sklearn.preprocessing import StandardScaler\n",
        "from sklearn import preprocessing\n",
        "from sklearn.preprocessing import LabelEncoder\n",
        "from sklearn.model_selection import train_test_split\n",
        "from sklearn import metrics\n",
        "from sklearn.metrics import r2_score\n",
        "from sklearn.model_selection import cross_val_score, GridSearchCV\n",
        "from sklearn.model_selection import cross_val_score\n",
        "import warnings\n",
        "warnings.filterwarnings('ignore')"
      ]
    },
    {
      "cell_type": "markdown",
      "id": "b12dd362",
      "metadata": {
        "id": "b12dd362"
      },
      "source": [
        "#### Import Dataset"
      ]
    },
    {
      "cell_type": "code",
      "execution_count": null,
      "id": "10cfab51",
      "metadata": {
        "colab": {
          "base_uri": "https://localhost:8080/",
          "height": 363
        },
        "id": "10cfab51",
        "outputId": "8f1e0191-436d-4784-adec-9e03a853209d"
      },
      "outputs": [
        {
          "output_type": "execute_result",
          "data": {
            "text/plain": [
              "      age     sex     bmi  children smoker     region      charges\n",
              "407    47  female  23.600         1     no  southwest   8539.67100\n",
              "1175   22  female  27.100         0     no  southwest   2154.36100\n",
              "824    60    male  24.320         0     no  northwest  12523.60480\n",
              "735    49  female  34.770         1     no  northwest   9583.89330\n",
              "773    19  female  28.880         0    yes  northwest  17748.50620\n",
              "830    63    male  33.100         0     no  southwest  13393.75600\n",
              "262    52    male  24.320         3    yes  northeast  24869.83680\n",
              "793    53    male  20.900         0    yes  southeast  21195.81800\n",
              "692    20    male  32.395         1     no  northwest   2362.22905\n",
              "169    27    male  18.905         3     no  northeast   4827.90495"
            ],
            "text/html": [
              "\n",
              "  <div id=\"df-71b47a66-41ae-4c2c-81dd-484b4ef38981\">\n",
              "    <div class=\"colab-df-container\">\n",
              "      <div>\n",
              "<style scoped>\n",
              "    .dataframe tbody tr th:only-of-type {\n",
              "        vertical-align: middle;\n",
              "    }\n",
              "\n",
              "    .dataframe tbody tr th {\n",
              "        vertical-align: top;\n",
              "    }\n",
              "\n",
              "    .dataframe thead th {\n",
              "        text-align: right;\n",
              "    }\n",
              "</style>\n",
              "<table border=\"1\" class=\"dataframe\">\n",
              "  <thead>\n",
              "    <tr style=\"text-align: right;\">\n",
              "      <th></th>\n",
              "      <th>age</th>\n",
              "      <th>sex</th>\n",
              "      <th>bmi</th>\n",
              "      <th>children</th>\n",
              "      <th>smoker</th>\n",
              "      <th>region</th>\n",
              "      <th>charges</th>\n",
              "    </tr>\n",
              "  </thead>\n",
              "  <tbody>\n",
              "    <tr>\n",
              "      <th>407</th>\n",
              "      <td>47</td>\n",
              "      <td>female</td>\n",
              "      <td>23.600</td>\n",
              "      <td>1</td>\n",
              "      <td>no</td>\n",
              "      <td>southwest</td>\n",
              "      <td>8539.67100</td>\n",
              "    </tr>\n",
              "    <tr>\n",
              "      <th>1175</th>\n",
              "      <td>22</td>\n",
              "      <td>female</td>\n",
              "      <td>27.100</td>\n",
              "      <td>0</td>\n",
              "      <td>no</td>\n",
              "      <td>southwest</td>\n",
              "      <td>2154.36100</td>\n",
              "    </tr>\n",
              "    <tr>\n",
              "      <th>824</th>\n",
              "      <td>60</td>\n",
              "      <td>male</td>\n",
              "      <td>24.320</td>\n",
              "      <td>0</td>\n",
              "      <td>no</td>\n",
              "      <td>northwest</td>\n",
              "      <td>12523.60480</td>\n",
              "    </tr>\n",
              "    <tr>\n",
              "      <th>735</th>\n",
              "      <td>49</td>\n",
              "      <td>female</td>\n",
              "      <td>34.770</td>\n",
              "      <td>1</td>\n",
              "      <td>no</td>\n",
              "      <td>northwest</td>\n",
              "      <td>9583.89330</td>\n",
              "    </tr>\n",
              "    <tr>\n",
              "      <th>773</th>\n",
              "      <td>19</td>\n",
              "      <td>female</td>\n",
              "      <td>28.880</td>\n",
              "      <td>0</td>\n",
              "      <td>yes</td>\n",
              "      <td>northwest</td>\n",
              "      <td>17748.50620</td>\n",
              "    </tr>\n",
              "    <tr>\n",
              "      <th>830</th>\n",
              "      <td>63</td>\n",
              "      <td>male</td>\n",
              "      <td>33.100</td>\n",
              "      <td>0</td>\n",
              "      <td>no</td>\n",
              "      <td>southwest</td>\n",
              "      <td>13393.75600</td>\n",
              "    </tr>\n",
              "    <tr>\n",
              "      <th>262</th>\n",
              "      <td>52</td>\n",
              "      <td>male</td>\n",
              "      <td>24.320</td>\n",
              "      <td>3</td>\n",
              "      <td>yes</td>\n",
              "      <td>northeast</td>\n",
              "      <td>24869.83680</td>\n",
              "    </tr>\n",
              "    <tr>\n",
              "      <th>793</th>\n",
              "      <td>53</td>\n",
              "      <td>male</td>\n",
              "      <td>20.900</td>\n",
              "      <td>0</td>\n",
              "      <td>yes</td>\n",
              "      <td>southeast</td>\n",
              "      <td>21195.81800</td>\n",
              "    </tr>\n",
              "    <tr>\n",
              "      <th>692</th>\n",
              "      <td>20</td>\n",
              "      <td>male</td>\n",
              "      <td>32.395</td>\n",
              "      <td>1</td>\n",
              "      <td>no</td>\n",
              "      <td>northwest</td>\n",
              "      <td>2362.22905</td>\n",
              "    </tr>\n",
              "    <tr>\n",
              "      <th>169</th>\n",
              "      <td>27</td>\n",
              "      <td>male</td>\n",
              "      <td>18.905</td>\n",
              "      <td>3</td>\n",
              "      <td>no</td>\n",
              "      <td>northeast</td>\n",
              "      <td>4827.90495</td>\n",
              "    </tr>\n",
              "  </tbody>\n",
              "</table>\n",
              "</div>\n",
              "      <button class=\"colab-df-convert\" onclick=\"convertToInteractive('df-71b47a66-41ae-4c2c-81dd-484b4ef38981')\"\n",
              "              title=\"Convert this dataframe to an interactive table.\"\n",
              "              style=\"display:none;\">\n",
              "        \n",
              "  <svg xmlns=\"http://www.w3.org/2000/svg\" height=\"24px\"viewBox=\"0 0 24 24\"\n",
              "       width=\"24px\">\n",
              "    <path d=\"M0 0h24v24H0V0z\" fill=\"none\"/>\n",
              "    <path d=\"M18.56 5.44l.94 2.06.94-2.06 2.06-.94-2.06-.94-.94-2.06-.94 2.06-2.06.94zm-11 1L8.5 8.5l.94-2.06 2.06-.94-2.06-.94L8.5 2.5l-.94 2.06-2.06.94zm10 10l.94 2.06.94-2.06 2.06-.94-2.06-.94-.94-2.06-.94 2.06-2.06.94z\"/><path d=\"M17.41 7.96l-1.37-1.37c-.4-.4-.92-.59-1.43-.59-.52 0-1.04.2-1.43.59L10.3 9.45l-7.72 7.72c-.78.78-.78 2.05 0 2.83L4 21.41c.39.39.9.59 1.41.59.51 0 1.02-.2 1.41-.59l7.78-7.78 2.81-2.81c.8-.78.8-2.07 0-2.86zM5.41 20L4 18.59l7.72-7.72 1.47 1.35L5.41 20z\"/>\n",
              "  </svg>\n",
              "      </button>\n",
              "      \n",
              "  <style>\n",
              "    .colab-df-container {\n",
              "      display:flex;\n",
              "      flex-wrap:wrap;\n",
              "      gap: 12px;\n",
              "    }\n",
              "\n",
              "    .colab-df-convert {\n",
              "      background-color: #E8F0FE;\n",
              "      border: none;\n",
              "      border-radius: 50%;\n",
              "      cursor: pointer;\n",
              "      display: none;\n",
              "      fill: #1967D2;\n",
              "      height: 32px;\n",
              "      padding: 0 0 0 0;\n",
              "      width: 32px;\n",
              "    }\n",
              "\n",
              "    .colab-df-convert:hover {\n",
              "      background-color: #E2EBFA;\n",
              "      box-shadow: 0px 1px 2px rgba(60, 64, 67, 0.3), 0px 1px 3px 1px rgba(60, 64, 67, 0.15);\n",
              "      fill: #174EA6;\n",
              "    }\n",
              "\n",
              "    [theme=dark] .colab-df-convert {\n",
              "      background-color: #3B4455;\n",
              "      fill: #D2E3FC;\n",
              "    }\n",
              "\n",
              "    [theme=dark] .colab-df-convert:hover {\n",
              "      background-color: #434B5C;\n",
              "      box-shadow: 0px 1px 3px 1px rgba(0, 0, 0, 0.15);\n",
              "      filter: drop-shadow(0px 1px 2px rgba(0, 0, 0, 0.3));\n",
              "      fill: #FFFFFF;\n",
              "    }\n",
              "  </style>\n",
              "\n",
              "      <script>\n",
              "        const buttonEl =\n",
              "          document.querySelector('#df-71b47a66-41ae-4c2c-81dd-484b4ef38981 button.colab-df-convert');\n",
              "        buttonEl.style.display =\n",
              "          google.colab.kernel.accessAllowed ? 'block' : 'none';\n",
              "\n",
              "        async function convertToInteractive(key) {\n",
              "          const element = document.querySelector('#df-71b47a66-41ae-4c2c-81dd-484b4ef38981');\n",
              "          const dataTable =\n",
              "            await google.colab.kernel.invokeFunction('convertToInteractive',\n",
              "                                                     [key], {});\n",
              "          if (!dataTable) return;\n",
              "\n",
              "          const docLinkHtml = 'Like what you see? Visit the ' +\n",
              "            '<a target=\"_blank\" href=https://colab.research.google.com/notebooks/data_table.ipynb>data table notebook</a>'\n",
              "            + ' to learn more about interactive tables.';\n",
              "          element.innerHTML = '';\n",
              "          dataTable['output_type'] = 'display_data';\n",
              "          await google.colab.output.renderOutput(dataTable, element);\n",
              "          const docLink = document.createElement('div');\n",
              "          docLink.innerHTML = docLinkHtml;\n",
              "          element.appendChild(docLink);\n",
              "        }\n",
              "      </script>\n",
              "    </div>\n",
              "  </div>\n",
              "  "
            ]
          },
          "metadata": {},
          "execution_count": 4
        }
      ],
      "source": [
        "df = pd.read_csv('/content/insurance.csv')\n",
        "df.sample(10)"
      ]
    },
    {
      "cell_type": "markdown",
      "id": "f16b3e24",
      "metadata": {
        "id": "f16b3e24"
      },
      "source": [
        "Description\n",
        "- age: age of primary beneficiary\n",
        "\n",
        "- sex: insurance contractor gender, female, male\n",
        "\n",
        "- bmi: Body mass index, providing an understanding of body, weights that are relatively high or low relative to height,\n",
        "objective index of body weight (kg / m ^ 2) using the ratio of height to weight, ideally 18.5 to 24.9\n",
        "\n",
        "- children: Number of children covered by health insurance / Number of dependents\n",
        "\n",
        "- smoker: Smoking\n",
        "\n",
        "- region: the beneficiary's residential area in the US, northeast, southeast, southwest, northwest.\n",
        "\n",
        "- charges: Individual medical costs billed by health insurance for a calender year"
      ]
    },
    {
      "cell_type": "markdown",
      "id": "e74422c6",
      "metadata": {
        "id": "e74422c6"
      },
      "source": [
        "#### Data Cleaning"
      ]
    },
    {
      "cell_type": "markdown",
      "id": "51dcb265",
      "metadata": {
        "id": "51dcb265"
      },
      "source": [
        "##### Checking Missing and Duplicate Values"
      ]
    },
    {
      "cell_type": "code",
      "execution_count": null,
      "id": "ac7b6fac",
      "metadata": {
        "id": "ac7b6fac",
        "outputId": "fcbaf61c-c5f0-45cb-c475-2c3a9b21eaae",
        "colab": {
          "base_uri": "https://localhost:8080/"
        }
      },
      "outputs": [
        {
          "output_type": "execute_result",
          "data": {
            "text/plain": [
              "age         0\n",
              "sex         0\n",
              "bmi         0\n",
              "children    0\n",
              "smoker      0\n",
              "region      0\n",
              "charges     0\n",
              "dtype: int64"
            ]
          },
          "metadata": {},
          "execution_count": 5
        }
      ],
      "source": [
        "# Checking missing values\n",
        "df.isnull().sum()"
      ]
    },
    {
      "cell_type": "markdown",
      "id": "486b05b2",
      "metadata": {
        "id": "486b05b2"
      },
      "source": [
        "No missing values"
      ]
    },
    {
      "cell_type": "code",
      "execution_count": null,
      "id": "f00c8f0d",
      "metadata": {
        "id": "f00c8f0d",
        "outputId": "be115c2a-cf55-405b-c130-54290c0cd299",
        "colab": {
          "base_uri": "https://localhost:8080/"
        }
      },
      "outputs": [
        {
          "output_type": "execute_result",
          "data": {
            "text/plain": [
              "1"
            ]
          },
          "metadata": {},
          "execution_count": 6
        }
      ],
      "source": [
        "# Checking duplicated values\n",
        "df.duplicated().sum()"
      ]
    },
    {
      "cell_type": "markdown",
      "id": "ebec13a5",
      "metadata": {
        "id": "ebec13a5"
      },
      "source": [
        "There is one duplicated values and we can drop this duplicated row."
      ]
    },
    {
      "cell_type": "code",
      "execution_count": null,
      "id": "5ee5a775",
      "metadata": {
        "id": "5ee5a775",
        "outputId": "77f970f0-b079-4a87-8da0-3ff200576851",
        "colab": {
          "base_uri": "https://localhost:8080/"
        }
      },
      "outputs": [
        {
          "output_type": "execute_result",
          "data": {
            "text/plain": [
              "0"
            ]
          },
          "metadata": {},
          "execution_count": 7
        }
      ],
      "source": [
        "# drop duplicated rows\n",
        "df = df.drop_duplicates()\n",
        "# sanity check\n",
        "df.duplicated().sum()"
      ]
    },
    {
      "cell_type": "markdown",
      "id": "727349c9",
      "metadata": {
        "id": "727349c9"
      },
      "source": [
        "Now we didn't have duplicate value"
      ]
    },
    {
      "cell_type": "markdown",
      "id": "51c19382",
      "metadata": {
        "id": "51c19382"
      },
      "source": [
        "### Exploratory Data Analysis"
      ]
    },
    {
      "cell_type": "code",
      "execution_count": null,
      "id": "c6f48d96",
      "metadata": {
        "id": "c6f48d96",
        "outputId": "09d3a667-fcf7-4982-fd5c-17427c9a61c9",
        "colab": {
          "base_uri": "https://localhost:8080/"
        }
      },
      "outputs": [
        {
          "output_type": "stream",
          "name": "stdout",
          "text": [
            "<class 'pandas.core.frame.DataFrame'>\n",
            "Int64Index: 1337 entries, 0 to 1337\n",
            "Data columns (total 7 columns):\n",
            " #   Column    Non-Null Count  Dtype  \n",
            "---  ------    --------------  -----  \n",
            " 0   age       1337 non-null   int64  \n",
            " 1   sex       1337 non-null   object \n",
            " 2   bmi       1337 non-null   float64\n",
            " 3   children  1337 non-null   int64  \n",
            " 4   smoker    1337 non-null   object \n",
            " 5   region    1337 non-null   object \n",
            " 6   charges   1337 non-null   float64\n",
            "dtypes: float64(2), int64(2), object(3)\n",
            "memory usage: 83.6+ KB\n"
          ]
        }
      ],
      "source": [
        "df.info()"
      ]
    },
    {
      "cell_type": "code",
      "execution_count": null,
      "id": "bf2c9790",
      "metadata": {
        "id": "bf2c9790",
        "outputId": "faa2f988-2fbb-4dc0-f94a-9103b9cdb4e2",
        "colab": {
          "base_uri": "https://localhost:8080/",
          "height": 300
        }
      },
      "outputs": [
        {
          "output_type": "execute_result",
          "data": {
            "text/plain": [
              "               age          bmi     children       charges\n",
              "count  1337.000000  1337.000000  1337.000000   1337.000000\n",
              "mean     39.222139    30.663452     1.095737  13279.121487\n",
              "std      14.044333     6.100468     1.205571  12110.359656\n",
              "min      18.000000    15.960000     0.000000   1121.873900\n",
              "25%      27.000000    26.290000     0.000000   4746.344000\n",
              "50%      39.000000    30.400000     1.000000   9386.161300\n",
              "75%      51.000000    34.700000     2.000000  16657.717450\n",
              "max      64.000000    53.130000     5.000000  63770.428010"
            ],
            "text/html": [
              "\n",
              "  <div id=\"df-d7b16465-d69b-4c75-949f-8beed4112ac5\">\n",
              "    <div class=\"colab-df-container\">\n",
              "      <div>\n",
              "<style scoped>\n",
              "    .dataframe tbody tr th:only-of-type {\n",
              "        vertical-align: middle;\n",
              "    }\n",
              "\n",
              "    .dataframe tbody tr th {\n",
              "        vertical-align: top;\n",
              "    }\n",
              "\n",
              "    .dataframe thead th {\n",
              "        text-align: right;\n",
              "    }\n",
              "</style>\n",
              "<table border=\"1\" class=\"dataframe\">\n",
              "  <thead>\n",
              "    <tr style=\"text-align: right;\">\n",
              "      <th></th>\n",
              "      <th>age</th>\n",
              "      <th>bmi</th>\n",
              "      <th>children</th>\n",
              "      <th>charges</th>\n",
              "    </tr>\n",
              "  </thead>\n",
              "  <tbody>\n",
              "    <tr>\n",
              "      <th>count</th>\n",
              "      <td>1337.000000</td>\n",
              "      <td>1337.000000</td>\n",
              "      <td>1337.000000</td>\n",
              "      <td>1337.000000</td>\n",
              "    </tr>\n",
              "    <tr>\n",
              "      <th>mean</th>\n",
              "      <td>39.222139</td>\n",
              "      <td>30.663452</td>\n",
              "      <td>1.095737</td>\n",
              "      <td>13279.121487</td>\n",
              "    </tr>\n",
              "    <tr>\n",
              "      <th>std</th>\n",
              "      <td>14.044333</td>\n",
              "      <td>6.100468</td>\n",
              "      <td>1.205571</td>\n",
              "      <td>12110.359656</td>\n",
              "    </tr>\n",
              "    <tr>\n",
              "      <th>min</th>\n",
              "      <td>18.000000</td>\n",
              "      <td>15.960000</td>\n",
              "      <td>0.000000</td>\n",
              "      <td>1121.873900</td>\n",
              "    </tr>\n",
              "    <tr>\n",
              "      <th>25%</th>\n",
              "      <td>27.000000</td>\n",
              "      <td>26.290000</td>\n",
              "      <td>0.000000</td>\n",
              "      <td>4746.344000</td>\n",
              "    </tr>\n",
              "    <tr>\n",
              "      <th>50%</th>\n",
              "      <td>39.000000</td>\n",
              "      <td>30.400000</td>\n",
              "      <td>1.000000</td>\n",
              "      <td>9386.161300</td>\n",
              "    </tr>\n",
              "    <tr>\n",
              "      <th>75%</th>\n",
              "      <td>51.000000</td>\n",
              "      <td>34.700000</td>\n",
              "      <td>2.000000</td>\n",
              "      <td>16657.717450</td>\n",
              "    </tr>\n",
              "    <tr>\n",
              "      <th>max</th>\n",
              "      <td>64.000000</td>\n",
              "      <td>53.130000</td>\n",
              "      <td>5.000000</td>\n",
              "      <td>63770.428010</td>\n",
              "    </tr>\n",
              "  </tbody>\n",
              "</table>\n",
              "</div>\n",
              "      <button class=\"colab-df-convert\" onclick=\"convertToInteractive('df-d7b16465-d69b-4c75-949f-8beed4112ac5')\"\n",
              "              title=\"Convert this dataframe to an interactive table.\"\n",
              "              style=\"display:none;\">\n",
              "        \n",
              "  <svg xmlns=\"http://www.w3.org/2000/svg\" height=\"24px\"viewBox=\"0 0 24 24\"\n",
              "       width=\"24px\">\n",
              "    <path d=\"M0 0h24v24H0V0z\" fill=\"none\"/>\n",
              "    <path d=\"M18.56 5.44l.94 2.06.94-2.06 2.06-.94-2.06-.94-.94-2.06-.94 2.06-2.06.94zm-11 1L8.5 8.5l.94-2.06 2.06-.94-2.06-.94L8.5 2.5l-.94 2.06-2.06.94zm10 10l.94 2.06.94-2.06 2.06-.94-2.06-.94-.94-2.06-.94 2.06-2.06.94z\"/><path d=\"M17.41 7.96l-1.37-1.37c-.4-.4-.92-.59-1.43-.59-.52 0-1.04.2-1.43.59L10.3 9.45l-7.72 7.72c-.78.78-.78 2.05 0 2.83L4 21.41c.39.39.9.59 1.41.59.51 0 1.02-.2 1.41-.59l7.78-7.78 2.81-2.81c.8-.78.8-2.07 0-2.86zM5.41 20L4 18.59l7.72-7.72 1.47 1.35L5.41 20z\"/>\n",
              "  </svg>\n",
              "      </button>\n",
              "      \n",
              "  <style>\n",
              "    .colab-df-container {\n",
              "      display:flex;\n",
              "      flex-wrap:wrap;\n",
              "      gap: 12px;\n",
              "    }\n",
              "\n",
              "    .colab-df-convert {\n",
              "      background-color: #E8F0FE;\n",
              "      border: none;\n",
              "      border-radius: 50%;\n",
              "      cursor: pointer;\n",
              "      display: none;\n",
              "      fill: #1967D2;\n",
              "      height: 32px;\n",
              "      padding: 0 0 0 0;\n",
              "      width: 32px;\n",
              "    }\n",
              "\n",
              "    .colab-df-convert:hover {\n",
              "      background-color: #E2EBFA;\n",
              "      box-shadow: 0px 1px 2px rgba(60, 64, 67, 0.3), 0px 1px 3px 1px rgba(60, 64, 67, 0.15);\n",
              "      fill: #174EA6;\n",
              "    }\n",
              "\n",
              "    [theme=dark] .colab-df-convert {\n",
              "      background-color: #3B4455;\n",
              "      fill: #D2E3FC;\n",
              "    }\n",
              "\n",
              "    [theme=dark] .colab-df-convert:hover {\n",
              "      background-color: #434B5C;\n",
              "      box-shadow: 0px 1px 3px 1px rgba(0, 0, 0, 0.15);\n",
              "      filter: drop-shadow(0px 1px 2px rgba(0, 0, 0, 0.3));\n",
              "      fill: #FFFFFF;\n",
              "    }\n",
              "  </style>\n",
              "\n",
              "      <script>\n",
              "        const buttonEl =\n",
              "          document.querySelector('#df-d7b16465-d69b-4c75-949f-8beed4112ac5 button.colab-df-convert');\n",
              "        buttonEl.style.display =\n",
              "          google.colab.kernel.accessAllowed ? 'block' : 'none';\n",
              "\n",
              "        async function convertToInteractive(key) {\n",
              "          const element = document.querySelector('#df-d7b16465-d69b-4c75-949f-8beed4112ac5');\n",
              "          const dataTable =\n",
              "            await google.colab.kernel.invokeFunction('convertToInteractive',\n",
              "                                                     [key], {});\n",
              "          if (!dataTable) return;\n",
              "\n",
              "          const docLinkHtml = 'Like what you see? Visit the ' +\n",
              "            '<a target=\"_blank\" href=https://colab.research.google.com/notebooks/data_table.ipynb>data table notebook</a>'\n",
              "            + ' to learn more about interactive tables.';\n",
              "          element.innerHTML = '';\n",
              "          dataTable['output_type'] = 'display_data';\n",
              "          await google.colab.output.renderOutput(dataTable, element);\n",
              "          const docLink = document.createElement('div');\n",
              "          docLink.innerHTML = docLinkHtml;\n",
              "          element.appendChild(docLink);\n",
              "        }\n",
              "      </script>\n",
              "    </div>\n",
              "  </div>\n",
              "  "
            ]
          },
          "metadata": {},
          "execution_count": 9
        }
      ],
      "source": [
        "df.describe()"
      ]
    },
    {
      "cell_type": "markdown",
      "id": "6ef9c597",
      "metadata": {
        "id": "6ef9c597"
      },
      "source": [
        "Observation:\n",
        "- Average age of the primary beneficiary is 39.2 and maximum age is 64.\n",
        "- Average BMI is 30.66, that is out of normal BMI range, Maximum BMI is 53.13\n",
        "- Average medical costs billed to health insurance is 13279, median is 9386 and maximum is 63770\n",
        "- Median is less than mean in charges , indicating distrubution is postively skewed .\n",
        "- Customer on an average has 1 child.\n",
        "- For Age, BMI, children , mean is almost equal to median , suggesting data is normally distrubuted"
      ]
    },
    {
      "cell_type": "markdown",
      "id": "e943e230",
      "metadata": {
        "id": "e943e230"
      },
      "source": [
        "##### Numerical Features"
      ]
    },
    {
      "cell_type": "code",
      "execution_count": null,
      "id": "0348d196",
      "metadata": {
        "id": "0348d196",
        "outputId": "9a7259ba-fcda-4090-b572-9a76ec27ddf6",
        "colab": {
          "base_uri": "https://localhost:8080/",
          "height": 385
        }
      },
      "outputs": [
        {
          "output_type": "display_data",
          "data": {
            "text/plain": [
              "<Figure size 360x360 with 1 Axes>"
            ],
            "image/png": "[encoded data removed]"
          },
          "metadata": {
            "needs_background": "light"
          }
        }
      ],
      "source": [
        "#Checking Distribution plot for column age\n",
        "sns.displot(df['age'])\n",
        "plt.title('Age distribution')\n",
        "plt.ylabel('count')\n",
        "plt.xlabel('age')\n",
        "plt.show()"
      ]
    },
    {
      "cell_type": "markdown",
      "id": "c7bc4a5c",
      "metadata": {
        "id": "c7bc4a5c"
      },
      "source": [
        "customers of age 20 showing highest contribution in comarision with higher ages shows slighly less contribution also data is quite uniformely distributed over ages."
      ]
    },
    {
      "cell_type": "code",
      "execution_count": null,
      "id": "d4013b49",
      "metadata": {
        "id": "d4013b49",
        "outputId": "690043e3-c5db-4705-801d-c5a865c39002",
        "colab": {
          "base_uri": "https://localhost:8080/",
          "height": 385
        }
      },
      "outputs": [
        {
          "output_type": "display_data",
          "data": {
            "text/plain": [
              "<Figure size 360x360 with 1 Axes>"
            ],
            "image/png": "[encoded data removed]"
          },
          "metadata": {
            "needs_background": "light"
          }
        }
      ],
      "source": [
        "#Checking Distribution plot for column bmi\n",
        "sns.displot(df['bmi'])\n",
        "plt.title('bmi distribution')\n",
        "plt.ylabel('count')\n",
        "plt.xlabel('bmi')\n",
        "plt.show()"
      ]
    },
    {
      "cell_type": "markdown",
      "id": "837a6821",
      "metadata": {
        "id": "837a6821"
      },
      "source": [
        "bmi is normally distribued."
      ]
    },
    {
      "cell_type": "code",
      "execution_count": null,
      "id": "6d2d8290",
      "metadata": {
        "id": "6d2d8290",
        "outputId": "6f89a671-a2e7-4f1e-82b7-311b25481738",
        "colab": {
          "base_uri": "https://localhost:8080/",
          "height": 385
        }
      },
      "outputs": [
        {
          "output_type": "display_data",
          "data": {
            "text/plain": [
              "<Figure size 360x360 with 1 Axes>"
            ],
            "image/png": "[encoded data removed]"
          },
          "metadata": {
            "needs_background": "light"
          }
        }
      ],
      "source": [
        "#Checking Distribution plot for column charges\n",
        "sns.displot(df['charges'])\n",
        "plt.title('charges distribution')\n",
        "plt.ylabel('count')\n",
        "plt.xlabel('charges')\n",
        "plt.show()"
      ]
    },
    {
      "cell_type": "markdown",
      "id": "7c30c29c",
      "metadata": {
        "id": "7c30c29c"
      },
      "source": [
        "The distribution is right-skewed with a long tail to the right. There’s a bump at around $40,000, perhaps another hidden distribution."
      ]
    },
    {
      "cell_type": "markdown",
      "id": "37df8c48",
      "metadata": {
        "id": "37df8c48"
      },
      "source": [
        "##### Categorical Features"
      ]
    },
    {
      "cell_type": "code",
      "execution_count": null,
      "id": "1bd7d859",
      "metadata": {
        "id": "1bd7d859",
        "outputId": "763d3555-e601-4fc2-cbc6-a99c1ff3e093",
        "colab": {
          "base_uri": "https://localhost:8080/",
          "height": 327
        }
      },
      "outputs": [
        {
          "output_type": "execute_result",
          "data": {
            "text/plain": [
              "<matplotlib.axes._subplots.AxesSubplot at 0x7f303c419c50>"
            ]
          },
          "metadata": {},
          "execution_count": 13
        },
        {
          "output_type": "display_data",
          "data": {
            "text/plain": [
              "<Figure size 864x720 with 2 Axes>"
            ],
            "image/png": "[encoded data removed]"
          },
          "metadata": {
            "needs_background": "light"
          }
        }
      ],
      "source": [
        "#sex\n",
        "\n",
        "plt.figure(figsize= (12,10))\n",
        "\n",
        "plt.subplot(2,2,1)\n",
        "sns.countplot(df['sex'])\n",
        "\n",
        "plt.subplot(2,2,2)\n",
        "sns.boxplot(x='sex', y='charges', data= df)"
      ]
    },
    {
      "cell_type": "markdown",
      "id": "1f61fb1a",
      "metadata": {
        "id": "1f61fb1a"
      },
      "source": [
        "sex don’t have noticeable differences for each category in terms of charges given."
      ]
    },
    {
      "cell_type": "code",
      "execution_count": null,
      "id": "0a7cae2c",
      "metadata": {
        "id": "0a7cae2c",
        "outputId": "fd8b9f82-85e2-4209-ea88-0a33ab5e81c0",
        "colab": {
          "base_uri": "https://localhost:8080/",
          "height": 329
        }
      },
      "outputs": [
        {
          "output_type": "execute_result",
          "data": {
            "text/plain": [
              "<matplotlib.axes._subplots.AxesSubplot at 0x7f303c2c1d90>"
            ]
          },
          "metadata": {},
          "execution_count": 14
        },
        {
          "output_type": "display_data",
          "data": {
            "text/plain": [
              "<Figure size 864x720 with 2 Axes>"
            ],
            "image/png": "[encoded data removed]"
          },
          "metadata": {
            "needs_background": "light"
          }
        }
      ],
      "source": [
        "#children\n",
        "\n",
        "plt.figure(figsize= (12,10))\n",
        "\n",
        "plt.subplot(2,2,1)\n",
        "sns.countplot(df['children'])\n",
        "\n",
        "plt.subplot(2,2,2)\n",
        "sns.boxplot(x='children', y='charges', data= df)"
      ]
    },
    {
      "cell_type": "markdown",
      "id": "65ec0887",
      "metadata": {
        "id": "65ec0887"
      },
      "source": [
        "We can see that there is an increasing trend in charges as the children increases."
      ]
    },
    {
      "cell_type": "code",
      "execution_count": null,
      "id": "a50da79a",
      "metadata": {
        "id": "a50da79a",
        "outputId": "6a17961d-de2d-4f77-cb17-0194e08e2b1b",
        "colab": {
          "base_uri": "https://localhost:8080/",
          "height": 326
        }
      },
      "outputs": [
        {
          "output_type": "execute_result",
          "data": {
            "text/plain": [
              "<matplotlib.axes._subplots.AxesSubplot at 0x7f303c177c90>"
            ]
          },
          "metadata": {},
          "execution_count": 15
        },
        {
          "output_type": "display_data",
          "data": {
            "text/plain": [
              "<Figure size 864x720 with 2 Axes>"
            ],
            "image/png": "[encoded data removed]"
          },
          "metadata": {
            "needs_background": "light"
          }
        }
      ],
      "source": [
        "#region\n",
        "\n",
        "plt.figure(figsize= (12,10))\n",
        "\n",
        "plt.subplot(2,2,1)\n",
        "sns.countplot(df['region'])\n",
        "\n",
        "plt.subplot(2,2,2)\n",
        "sns.boxplot(x='region', y='charges', data= df)"
      ]
    },
    {
      "cell_type": "markdown",
      "id": "e270a9b9",
      "metadata": {
        "id": "e270a9b9"
      },
      "source": [
        "There is no significant impact of region on charges attribute, it is evenly distributed"
      ]
    },
    {
      "cell_type": "code",
      "execution_count": null,
      "id": "3570ff91",
      "metadata": {
        "id": "3570ff91",
        "outputId": "3b696d1c-2a0d-4cb1-cc8b-e885f631925e",
        "colab": {
          "base_uri": "https://localhost:8080/",
          "height": 326
        }
      },
      "outputs": [
        {
          "output_type": "execute_result",
          "data": {
            "text/plain": [
              "<matplotlib.axes._subplots.AxesSubplot at 0x7f303c29fa50>"
            ]
          },
          "metadata": {},
          "execution_count": 16
        },
        {
          "output_type": "display_data",
          "data": {
            "text/plain": [
              "<Figure size 864x720 with 2 Axes>"
            ],
            "image/png": "[encoded data removed]"
          },
          "metadata": {
            "needs_background": "light"
          }
        }
      ],
      "source": [
        "#smoker\n",
        "\n",
        "plt.figure(figsize= (12,10))\n",
        "\n",
        "plt.subplot(2,2,1)\n",
        "sns.countplot(df['smoker'],hue = df['sex'])\n",
        "\n",
        "plt.subplot(2,2,2)\n",
        "sns.boxplot(x='smoker', y='charges', data= df)"
      ]
    },
    {
      "cell_type": "markdown",
      "id": "83de83ba",
      "metadata": {
        "id": "83de83ba"
      },
      "source": [
        "smoker seems to make a significant difference to charges given by health insurance."
      ]
    },
    {
      "cell_type": "markdown",
      "id": "73867534",
      "metadata": {
        "id": "73867534"
      },
      "source": [
        "Because smokers definitely have more charges than non-smokers. we will analyze the medical charges by age, bmi and children according to the smoker factor."
      ]
    },
    {
      "cell_type": "markdown",
      "id": "2ad7f4fc",
      "metadata": {
        "id": "2ad7f4fc"
      },
      "source": [
        "##### More than one features"
      ]
    },
    {
      "cell_type": "code",
      "execution_count": null,
      "id": "d39e4740",
      "metadata": {
        "id": "d39e4740",
        "outputId": "52c829b3-b36c-4ba2-adbe-9a35551976fc",
        "colab": {
          "base_uri": "https://localhost:8080/",
          "height": 296
        }
      },
      "outputs": [
        {
          "output_type": "execute_result",
          "data": {
            "text/plain": [
              "<matplotlib.axes._subplots.AxesSubplot at 0x7f303c39a9d0>"
            ]
          },
          "metadata": {},
          "execution_count": 17
        },
        {
          "output_type": "display_data",
          "data": {
            "text/plain": [
              "<Figure size 432x288 with 1 Axes>"
            ],
            "image/png": "[encoded data removed]"
          },
          "metadata": {
            "needs_background": "light"
          }
        }
      ],
      "source": [
        "# Charges and age\n",
        "sns.scatterplot(x='age', y='charges', hue=\"smoker\", data=df)"
      ]
    },
    {
      "cell_type": "code",
      "execution_count": null,
      "id": "e488483b",
      "metadata": {
        "id": "e488483b",
        "outputId": "b6dd851c-1887-4004-9bb1-17feb5c3755b",
        "colab": {
          "base_uri": "https://localhost:8080/",
          "height": 296
        }
      },
      "outputs": [
        {
          "output_type": "execute_result",
          "data": {
            "text/plain": [
              "<matplotlib.axes._subplots.AxesSubplot at 0x7f303c54f590>"
            ]
          },
          "metadata": {},
          "execution_count": 18
        },
        {
          "output_type": "display_data",
          "data": {
            "text/plain": [
              "<Figure size 432x288 with 1 Axes>"
            ],
            "image/png": "[encoded data removed]"
          },
          "metadata": {
            "needs_background": "light"
          }
        }
      ],
      "source": [
        "# Charges and bmi\n",
        "sns.scatterplot(x='bmi', y='charges', hue=\"smoker\", data=df)"
      ]
    },
    {
      "cell_type": "code",
      "execution_count": null,
      "id": "c65a3476",
      "metadata": {
        "id": "c65a3476",
        "outputId": "69335b88-b45a-44a1-8504-5fd326bad4dd",
        "colab": {
          "base_uri": "https://localhost:8080/",
          "height": 296
        }
      },
      "outputs": [
        {
          "output_type": "execute_result",
          "data": {
            "text/plain": [
              "<matplotlib.axes._subplots.AxesSubplot at 0x7f303c421410>"
            ]
          },
          "metadata": {},
          "execution_count": 19
        },
        {
          "output_type": "display_data",
          "data": {
            "text/plain": [
              "<Figure size 432x288 with 1 Axes>"
            ],
            "image/png": "[encoded data removed]"
          },
          "metadata": {
            "needs_background": "light"
          }
        }
      ],
      "source": [
        "# Charges and children\n",
        "sns.scatterplot(x='children', y='charges', hue=\"smoker\", data=df)"
      ]
    },
    {
      "cell_type": "markdown",
      "id": "6c14c57f",
      "metadata": {
        "id": "6c14c57f"
      },
      "source": [
        "smoker seems to have the highest impact on medical charges, even though the charges are growing with age, bmi, and children. Also, people who have more children generally smoke less."
      ]
    },
    {
      "cell_type": "markdown",
      "id": "41280341",
      "metadata": {
        "id": "41280341"
      },
      "source": [
        "#### Encode"
      ]
    },
    {
      "cell_type": "markdown",
      "id": "84ddec81",
      "metadata": {
        "id": "84ddec81"
      },
      "source": [
        "##### Label Encoding"
      ]
    },
    {
      "cell_type": "code",
      "execution_count": null,
      "id": "1c0363a9",
      "metadata": {
        "id": "1c0363a9"
      },
      "outputs": [],
      "source": [
        "def label_encoding(column_name):\n",
        "  label_encoder = LabelEncoder()\n",
        "  df[column_name] = label_encoder.fit_transform(df[column_name])"
      ]
    },
    {
      "cell_type": "code",
      "execution_count": null,
      "id": "456f9aa0",
      "metadata": {
        "id": "456f9aa0"
      },
      "outputs": [],
      "source": [
        "label_encoding('smoker')\n",
        "label_encoding('sex')"
      ]
    },
    {
      "cell_type": "markdown",
      "id": "bdaf05e5",
      "metadata": {
        "id": "bdaf05e5"
      },
      "source": [
        "##### One Hot Encoding"
      ]
    },
    {
      "cell_type": "code",
      "execution_count": null,
      "id": "ae3f8340",
      "metadata": {
        "id": "ae3f8340",
        "outputId": "8fffe233-7ad1-4821-8e65-055865314a35",
        "colab": {
          "base_uri": "https://localhost:8080/"
        }
      },
      "outputs": [
        {
          "output_type": "execute_result",
          "data": {
            "text/plain": [
              "   age  sex     bmi  children  smoker      charges  region_northeast  \\\n",
              "0   19    0  27.900         0       1  16884.92400                 0   \n",
              "1   18    1  33.770         1       0   1725.55230                 0   \n",
              "2   28    1  33.000         3       0   4449.46200                 0   \n",
              "3   33    1  22.705         0       0  21984.47061                 0   \n",
              "4   32    1  28.880         0       0   3866.85520                 0   \n",
              "\n",
              "   region_northwest  region_southeast  region_southwest  \n",
              "0                 0                 0                 1  \n",
              "1                 0                 1                 0  \n",
              "2                 0                 1                 0  \n",
              "3                 1                 0                 0  \n",
              "4                 1                 0                 0  "
            ],
            "text/html": [
              "\n",
              "  <div id=\"df-51bbc046-2b2a-4b0f-ac82-303075bcec26\">\n",
              "    <div class=\"colab-df-container\">\n",
              "      <div>\n",
              "<style scoped>\n",
              "    .dataframe tbody tr th:only-of-type {\n",
              "        vertical-align: middle;\n",
              "    }\n",
              "\n",
              "    .dataframe tbody tr th {\n",
              "        vertical-align: top;\n",
              "    }\n",
              "\n",
              "    .dataframe thead th {\n",
              "        text-align: right;\n",
              "    }\n",
              "</style>\n",
              "<table border=\"1\" class=\"dataframe\">\n",
              "  <thead>\n",
              "    <tr style=\"text-align: right;\">\n",
              "      <th></th>\n",
              "      <th>age</th>\n",
              "      <th>sex</th>\n",
              "      <th>bmi</th>\n",
              "      <th>children</th>\n",
              "      <th>smoker</th>\n",
              "      <th>charges</th>\n",
              "      <th>region_northeast</th>\n",
              "      <th>region_northwest</th>\n",
              "      <th>region_southeast</th>\n",
              "      <th>region_southwest</th>\n",
              "    </tr>\n",
              "  </thead>\n",
              "  <tbody>\n",
              "    <tr>\n",
              "      <th>0</th>\n",
              "      <td>19</td>\n",
              "      <td>0</td>\n",
              "      <td>27.900</td>\n",
              "      <td>0</td>\n",
              "      <td>1</td>\n",
              "      <td>16884.92400</td>\n",
              "      <td>0</td>\n",
              "      <td>0</td>\n",
              "      <td>0</td>\n",
              "      <td>1</td>\n",
              "    </tr>\n",
              "    <tr>\n",
              "      <th>1</th>\n",
              "      <td>18</td>\n",
              "      <td>1</td>\n",
              "      <td>33.770</td>\n",
              "      <td>1</td>\n",
              "      <td>0</td>\n",
              "      <td>1725.55230</td>\n",
              "      <td>0</td>\n",
              "      <td>0</td>\n",
              "      <td>1</td>\n",
              "      <td>0</td>\n",
              "    </tr>\n",
              "    <tr>\n",
              "      <th>2</th>\n",
              "      <td>28</td>\n",
              "      <td>1</td>\n",
              "      <td>33.000</td>\n",
              "      <td>3</td>\n",
              "      <td>0</td>\n",
              "      <td>4449.46200</td>\n",
              "      <td>0</td>\n",
              "      <td>0</td>\n",
              "      <td>1</td>\n",
              "      <td>0</td>\n",
              "    </tr>\n",
              "    <tr>\n",
              "      <th>3</th>\n",
              "      <td>33</td>\n",
              "      <td>1</td>\n",
              "      <td>22.705</td>\n",
              "      <td>0</td>\n",
              "      <td>0</td>\n",
              "      <td>21984.47061</td>\n",
              "      <td>0</td>\n",
              "      <td>1</td>\n",
              "      <td>0</td>\n",
              "      <td>0</td>\n",
              "    </tr>\n",
              "    <tr>\n",
              "      <th>4</th>\n",
              "      <td>32</td>\n",
              "      <td>1</td>\n",
              "      <td>28.880</td>\n",
              "      <td>0</td>\n",
              "      <td>0</td>\n",
              "      <td>3866.85520</td>\n",
              "      <td>0</td>\n",
              "      <td>1</td>\n",
              "      <td>0</td>\n",
              "      <td>0</td>\n",
              "    </tr>\n",
              "  </tbody>\n",
              "</table>\n",
              "</div>\n",
              "      <button class=\"colab-df-convert\" onclick=\"convertToInteractive('df-51bbc046-2b2a-4b0f-ac82-303075bcec26')\"\n",
              "              title=\"Convert this dataframe to an interactive table.\"\n",
              "              style=\"display:none;\">\n",
              "        \n",
              "  <svg xmlns=\"http://www.w3.org/2000/svg\" height=\"24px\"viewBox=\"0 0 24 24\"\n",
              "       width=\"24px\">\n",
              "    <path d=\"M0 0h24v24H0V0z\" fill=\"none\"/>\n",
              "    <path d=\"M18.56 5.44l.94 2.06.94-2.06 2.06-.94-2.06-.94-.94-2.06-.94 2.06-2.06.94zm-11 1L8.5 8.5l.94-2.06 2.06-.94-2.06-.94L8.5 2.5l-.94 2.06-2.06.94zm10 10l.94 2.06.94-2.06 2.06-.94-2.06-.94-.94-2.06-.94 2.06-2.06.94z\"/><path d=\"M17.41 7.96l-1.37-1.37c-.4-.4-.92-.59-1.43-.59-.52 0-1.04.2-1.43.59L10.3 9.45l-7.72 7.72c-.78.78-.78 2.05 0 2.83L4 21.41c.39.39.9.59 1.41.59.51 0 1.02-.2 1.41-.59l7.78-7.78 2.81-2.81c.8-.78.8-2.07 0-2.86zM5.41 20L4 18.59l7.72-7.72 1.47 1.35L5.41 20z\"/>\n",
              "  </svg>\n",
              "      </button>\n",
              "      \n",
              "  <style>\n",
              "    .colab-df-container {\n",
              "      display:flex;\n",
              "      flex-wrap:wrap;\n",
              "      gap: 12px;\n",
              "    }\n",
              "\n",
              "    .colab-df-convert {\n",
              "      background-color: #E8F0FE;\n",
              "      border: none;\n",
              "      border-radius: 50%;\n",
              "      cursor: pointer;\n",
              "      display: none;\n",
              "      fill: #1967D2;\n",
              "      height: 32px;\n",
              "      padding: 0 0 0 0;\n",
              "      width: 32px;\n",
              "    }\n",
              "\n",
              "    .colab-df-convert:hover {\n",
              "      background-color: #E2EBFA;\n",
              "      box-shadow: 0px 1px 2px rgba(60, 64, 67, 0.3), 0px 1px 3px 1px rgba(60, 64, 67, 0.15);\n",
              "      fill: #174EA6;\n",
              "    }\n",
              "\n",
              "    [theme=dark] .colab-df-convert {\n",
              "      background-color: #3B4455;\n",
              "      fill: #D2E3FC;\n",
              "    }\n",
              "\n",
              "    [theme=dark] .colab-df-convert:hover {\n",
              "      background-color: #434B5C;\n",
              "      box-shadow: 0px 1px 3px 1px rgba(0, 0, 0, 0.15);\n",
              "      filter: drop-shadow(0px 1px 2px rgba(0, 0, 0, 0.3));\n",
              "      fill: #FFFFFF;\n",
              "    }\n",
              "  </style>\n",
              "\n",
              "      <script>\n",
              "        const buttonEl =\n",
              "          document.querySelector('#df-51bbc046-2b2a-4b0f-ac82-303075bcec26 button.colab-df-convert');\n",
              "        buttonEl.style.display =\n",
              "          google.colab.kernel.accessAllowed ? 'block' : 'none';\n",
              "\n",
              "        async function convertToInteractive(key) {\n",
              "          const element = document.querySelector('#df-51bbc046-2b2a-4b0f-ac82-303075bcec26');\n",
              "          const dataTable =\n",
              "            await google.colab.kernel.invokeFunction('convertToInteractive',\n",
              "                                                     [key], {});\n",
              "          if (!dataTable) return;\n",
              "\n",
              "          const docLinkHtml = 'Like what you see? Visit the ' +\n",
              "            '<a target=\"_blank\" href=https://colab.research.google.com/notebooks/data_table.ipynb>data table notebook</a>'\n",
              "            + ' to learn more about interactive tables.';\n",
              "          element.innerHTML = '';\n",
              "          dataTable['output_type'] = 'display_data';\n",
              "          await google.colab.output.renderOutput(dataTable, element);\n",
              "          const docLink = document.createElement('div');\n",
              "          docLink.innerHTML = docLinkHtml;\n",
              "          element.appendChild(docLink);\n",
              "        }\n",
              "      </script>\n",
              "    </div>\n",
              "  </div>\n",
              "  "
            ]
          },
          "metadata": {},
          "execution_count": 22
        }
      ],
      "source": [
        "df =pd.get_dummies(data=df,columns=['region'])\n",
        "df.head()"
      ]
    },
    {
      "cell_type": "markdown",
      "id": "ce499fea",
      "metadata": {
        "id": "ce499fea"
      },
      "source": [
        "now all category features are encoded. now let's see the correlation between features"
      ]
    },
    {
      "cell_type": "markdown",
      "id": "c5dbb9c9",
      "metadata": {
        "id": "c5dbb9c9"
      },
      "source": [
        "##### Correlation"
      ]
    },
    {
      "cell_type": "code",
      "execution_count": null,
      "id": "5493e71b",
      "metadata": {
        "id": "5493e71b",
        "outputId": "324e82f1-fe6b-4f2e-cf92-4490b10f0ca3",
        "colab": {
          "base_uri": "https://localhost:8080/"
        }
      },
      "outputs": [
        {
          "output_type": "execute_result",
          "data": {
            "text/plain": [
              "<matplotlib.axes._subplots.AxesSubplot at 0x7f303a78df90>"
            ]
          },
          "metadata": {},
          "execution_count": 23
        },
        {
          "output_type": "display_data",
          "data": {
            "text/plain": [
              "<Figure size 432x288 with 2 Axes>"
            ],
            "image/png": "[encoded data removed]"
          },
          "metadata": {
            "needs_background": "light"
          }
        }
      ],
      "source": [
        "# correlation heatmap\n",
        "correlation = df.corr()\n",
        "sns.heatmap(correlation, annot=True, fmt='.2f')"
      ]
    },
    {
      "cell_type": "markdown",
      "id": "405ee396",
      "metadata": {
        "id": "405ee396"
      },
      "source": [
        "As we can see, smoker has a high correlation compared to other features"
      ]
    },
    {
      "cell_type": "markdown",
      "id": "cf87f525",
      "metadata": {
        "id": "cf87f525"
      },
      "source": [
        "## Modelling"
      ]
    },
    {
      "cell_type": "markdown",
      "id": "70d66be7",
      "metadata": {
        "id": "70d66be7"
      },
      "source": [
        "Train and  Test Split"
      ]
    },
    {
      "cell_type": "code",
      "execution_count": null,
      "id": "ee93bbb8",
      "metadata": {
        "id": "ee93bbb8"
      },
      "outputs": [],
      "source": [
        "X = df.drop('charges', axis = 1)\n",
        "y = df['charges']\n",
        "X_train, X_test, y_train, y_test= train_test_split(X, y, test_size=0.25, random_state=42)"
      ]
    },
    {
      "cell_type": "markdown",
      "id": "4f529029",
      "metadata": {
        "id": "4f529029"
      },
      "source": [
        "We divide train and test in 75:25"
      ]
    },
    {
      "cell_type": "markdown",
      "id": "23c28831",
      "metadata": {
        "id": "23c28831"
      },
      "source": [
        "#### Scalling Data"
      ]
    },
    {
      "cell_type": "code",
      "execution_count": null,
      "id": "8f7c14bd",
      "metadata": {
        "id": "8f7c14bd"
      },
      "outputs": [],
      "source": [
        "scaler= StandardScaler()\n",
        "scaler.fit(X_train)\n",
        "X_train_scaled= scaler.transform(X_train)\n",
        "X_test_scaled= scaler.transform(X_test)"
      ]
    },
    {
      "cell_type": "markdown",
      "id": "65613466",
      "metadata": {
        "id": "65613466"
      },
      "source": [
        "### Linear Regression"
      ]
    },
    {
      "cell_type": "code",
      "execution_count": null,
      "id": "2408168d",
      "metadata": {
        "id": "2408168d",
        "outputId": "478305a2-bee0-4ee5-e6c1-4ed3a5669282",
        "colab": {
          "base_uri": "https://localhost:8080/"
        }
      },
      "outputs": [
        {
          "output_type": "execute_result",
          "data": {
            "text/plain": [
              "LinearRegression()"
            ]
          },
          "metadata": {},
          "execution_count": 26
        }
      ],
      "source": [
        "linear_reg_model= LinearRegression()\n",
        "linear_reg_model.fit(X_train_scaled, y_train)"
      ]
    },
    {
      "cell_type": "code",
      "execution_count": null,
      "id": "9fa21ae5",
      "metadata": {
        "id": "9fa21ae5",
        "outputId": "756d0fa7-6c48-4202-b54f-d0ef77f8df38",
        "colab": {
          "base_uri": "https://localhost:8080/",
          "height": 143
        }
      },
      "outputs": [
        {
          "output_type": "execute_result",
          "data": {
            "text/plain": [
              "                  Metrics\n",
              "MAE_linreg   4.069039e+03\n",
              "MSE_linreg   3.528392e+07\n",
              "RMSE_linreg  5.940027e+03"
            ],
            "text/html": [
              "\n",
              "  <div id=\"df-5581c477-771f-4f77-b4bf-63749c4d6a09\">\n",
              "    <div class=\"colab-df-container\">\n",
              "      <div>\n",
              "<style scoped>\n",
              "    .dataframe tbody tr th:only-of-type {\n",
              "        vertical-align: middle;\n",
              "    }\n",
              "\n",
              "    .dataframe tbody tr th {\n",
              "        vertical-align: top;\n",
              "    }\n",
              "\n",
              "    .dataframe thead th {\n",
              "        text-align: right;\n",
              "    }\n",
              "</style>\n",
              "<table border=\"1\" class=\"dataframe\">\n",
              "  <thead>\n",
              "    <tr style=\"text-align: right;\">\n",
              "      <th></th>\n",
              "      <th>Metrics</th>\n",
              "    </tr>\n",
              "  </thead>\n",
              "  <tbody>\n",
              "    <tr>\n",
              "      <th>MAE_linreg</th>\n",
              "      <td>4.069039e+03</td>\n",
              "    </tr>\n",
              "    <tr>\n",
              "      <th>MSE_linreg</th>\n",
              "      <td>3.528392e+07</td>\n",
              "    </tr>\n",
              "    <tr>\n",
              "      <th>RMSE_linreg</th>\n",
              "      <td>5.940027e+03</td>\n",
              "    </tr>\n",
              "  </tbody>\n",
              "</table>\n",
              "</div>\n",
              "      <button class=\"colab-df-convert\" onclick=\"convertToInteractive('df-5581c477-771f-4f77-b4bf-63749c4d6a09')\"\n",
              "              title=\"Convert this dataframe to an interactive table.\"\n",
              "              style=\"display:none;\">\n",
              "        \n",
              "  <svg xmlns=\"http://www.w3.org/2000/svg\" height=\"24px\"viewBox=\"0 0 24 24\"\n",
              "       width=\"24px\">\n",
              "    <path d=\"M0 0h24v24H0V0z\" fill=\"none\"/>\n",
              "    <path d=\"M18.56 5.44l.94 2.06.94-2.06 2.06-.94-2.06-.94-.94-2.06-.94 2.06-2.06.94zm-11 1L8.5 8.5l.94-2.06 2.06-.94-2.06-.94L8.5 2.5l-.94 2.06-2.06.94zm10 10l.94 2.06.94-2.06 2.06-.94-2.06-.94-.94-2.06-.94 2.06-2.06.94z\"/><path d=\"M17.41 7.96l-1.37-1.37c-.4-.4-.92-.59-1.43-.59-.52 0-1.04.2-1.43.59L10.3 9.45l-7.72 7.72c-.78.78-.78 2.05 0 2.83L4 21.41c.39.39.9.59 1.41.59.51 0 1.02-.2 1.41-.59l7.78-7.78 2.81-2.81c.8-.78.8-2.07 0-2.86zM5.41 20L4 18.59l7.72-7.72 1.47 1.35L5.41 20z\"/>\n",
              "  </svg>\n",
              "      </button>\n",
              "      \n",
              "  <style>\n",
              "    .colab-df-container {\n",
              "      display:flex;\n",
              "      flex-wrap:wrap;\n",
              "      gap: 12px;\n",
              "    }\n",
              "\n",
              "    .colab-df-convert {\n",
              "      background-color: #E8F0FE;\n",
              "      border: none;\n",
              "      border-radius: 50%;\n",
              "      cursor: pointer;\n",
              "      display: none;\n",
              "      fill: #1967D2;\n",
              "      height: 32px;\n",
              "      padding: 0 0 0 0;\n",
              "      width: 32px;\n",
              "    }\n",
              "\n",
              "    .colab-df-convert:hover {\n",
              "      background-color: #E2EBFA;\n",
              "      box-shadow: 0px 1px 2px rgba(60, 64, 67, 0.3), 0px 1px 3px 1px rgba(60, 64, 67, 0.15);\n",
              "      fill: #174EA6;\n",
              "    }\n",
              "\n",
              "    [theme=dark] .colab-df-convert {\n",
              "      background-color: #3B4455;\n",
              "      fill: #D2E3FC;\n",
              "    }\n",
              "\n",
              "    [theme=dark] .colab-df-convert:hover {\n",
              "      background-color: #434B5C;\n",
              "      box-shadow: 0px 1px 3px 1px rgba(0, 0, 0, 0.15);\n",
              "      filter: drop-shadow(0px 1px 2px rgba(0, 0, 0, 0.3));\n",
              "      fill: #FFFFFF;\n",
              "    }\n",
              "  </style>\n",
              "\n",
              "      <script>\n",
              "        const buttonEl =\n",
              "          document.querySelector('#df-5581c477-771f-4f77-b4bf-63749c4d6a09 button.colab-df-convert');\n",
              "        buttonEl.style.display =\n",
              "          google.colab.kernel.accessAllowed ? 'block' : 'none';\n",
              "\n",
              "        async function convertToInteractive(key) {\n",
              "          const element = document.querySelector('#df-5581c477-771f-4f77-b4bf-63749c4d6a09');\n",
              "          const dataTable =\n",
              "            await google.colab.kernel.invokeFunction('convertToInteractive',\n",
              "                                                     [key], {});\n",
              "          if (!dataTable) return;\n",
              "\n",
              "          const docLinkHtml = 'Like what you see? Visit the ' +\n",
              "            '<a target=\"_blank\" href=https://colab.research.google.com/notebooks/data_table.ipynb>data table notebook</a>'\n",
              "            + ' to learn more about interactive tables.';\n",
              "          element.innerHTML = '';\n",
              "          dataTable['output_type'] = 'display_data';\n",
              "          await google.colab.output.renderOutput(dataTable, element);\n",
              "          const docLink = document.createElement('div');\n",
              "          docLink.innerHTML = docLinkHtml;\n",
              "          element.appendChild(docLink);\n",
              "        }\n",
              "      </script>\n",
              "    </div>\n",
              "  </div>\n",
              "  "
            ]
          },
          "metadata": {},
          "execution_count": 27
        }
      ],
      "source": [
        "y_pred = linear_reg_model.predict(X_test_scaled)\n",
        "y_pred = pd.DataFrame(y_pred)\n",
        "MAE_linreg= metrics.mean_absolute_error(y_test, y_pred)\n",
        "MSE_linreg = metrics.mean_squared_error(y_test, y_pred)\n",
        "RMSE_linreg =np.sqrt(MSE_linreg)\n",
        "pd.DataFrame([MAE_linreg, MSE_linreg, RMSE_linreg], index=['MAE_linreg', 'MSE_linreg', 'RMSE_linreg'], columns=['Metrics'])"
      ]
    },
    {
      "cell_type": "code",
      "execution_count": null,
      "id": "08822730",
      "metadata": {
        "id": "08822730",
        "outputId": "6fffaa95-6c4a-4cdb-d9e8-084097360015",
        "colab": {
          "base_uri": "https://localhost:8080/"
        }
      },
      "outputs": [
        {
          "output_type": "stream",
          "name": "stdout",
          "text": [
            "[0.8387175  0.87219033 0.84020719 0.84997814 0.8562711 ]\n"
          ]
        }
      ],
      "source": [
        "scores = cross_val_score(linear_reg_model, X_train_scaled, y_train, cv=5)\n",
        "print(np.sqrt(scores))"
      ]
    },
    {
      "cell_type": "code",
      "execution_count": null,
      "id": "a5d0b99f",
      "metadata": {
        "id": "a5d0b99f",
        "outputId": "ec0774ae-9d66-4d38-f014-b54b66cf51a3",
        "colab": {
          "base_uri": "https://localhost:8080/"
        }
      },
      "outputs": [
        {
          "output_type": "execute_result",
          "data": {
            "text/plain": [
              "0.7959403124253075"
            ]
          },
          "metadata": {},
          "execution_count": 29
        }
      ],
      "source": [
        "r2_score(y_test, linear_reg_model.predict(X_test_scaled))"
      ]
    },
    {
      "cell_type": "markdown",
      "id": "5d7e0bec",
      "metadata": {
        "id": "5d7e0bec"
      },
      "source": [
        "### XGBoost Regressor"
      ]
    },
    {
      "cell_type": "code",
      "execution_count": null,
      "id": "aea5cabf",
      "metadata": {
        "id": "aea5cabf",
        "colab": {
          "base_uri": "https://localhost:8080/"
        },
        "outputId": "10ea3677-d555-4351-a49b-734af4159381"
      },
      "outputs": [
        {
          "output_type": "stream",
          "name": "stdout",
          "text": [
            "[01:27:04] WARNING: /workspace/src/objective/regression_obj.cu:152: reg:linear is now deprecated in favor of reg:squarederror.\n"
          ]
        }
      ],
      "source": [
        "XGB_model =XGBRegressor()\n",
        "XGB_model.fit(X_train_scaled, y_train);"
      ]
    },
    {
      "cell_type": "code",
      "execution_count": null,
      "id": "c7e7e6c3",
      "metadata": {
        "id": "c7e7e6c3",
        "outputId": "cd756657-3c8e-4e3d-e49d-b25a0d62989d",
        "colab": {
          "base_uri": "https://localhost:8080/",
          "height": 143
        }
      },
      "outputs": [
        {
          "output_type": "execute_result",
          "data": {
            "text/plain": [
              "               Metrics\n",
              "MAE_XGB   2.552820e+03\n",
              "MSE_XGB   1.945883e+07\n",
              "RMSE_XGB  4.411216e+03"
            ],
            "text/html": [
              "\n",
              "  <div id=\"df-df1289bc-a557-4c2f-8575-5fb19840d6f3\">\n",
              "    <div class=\"colab-df-container\">\n",
              "      <div>\n",
              "<style scoped>\n",
              "    .dataframe tbody tr th:only-of-type {\n",
              "        vertical-align: middle;\n",
              "    }\n",
              "\n",
              "    .dataframe tbody tr th {\n",
              "        vertical-align: top;\n",
              "    }\n",
              "\n",
              "    .dataframe thead th {\n",
              "        text-align: right;\n",
              "    }\n",
              "</style>\n",
              "<table border=\"1\" class=\"dataframe\">\n",
              "  <thead>\n",
              "    <tr style=\"text-align: right;\">\n",
              "      <th></th>\n",
              "      <th>Metrics</th>\n",
              "    </tr>\n",
              "  </thead>\n",
              "  <tbody>\n",
              "    <tr>\n",
              "      <th>MAE_XGB</th>\n",
              "      <td>2.552820e+03</td>\n",
              "    </tr>\n",
              "    <tr>\n",
              "      <th>MSE_XGB</th>\n",
              "      <td>1.945883e+07</td>\n",
              "    </tr>\n",
              "    <tr>\n",
              "      <th>RMSE_XGB</th>\n",
              "      <td>4.411216e+03</td>\n",
              "    </tr>\n",
              "  </tbody>\n",
              "</table>\n",
              "</div>\n",
              "      <button class=\"colab-df-convert\" onclick=\"convertToInteractive('df-df1289bc-a557-4c2f-8575-5fb19840d6f3')\"\n",
              "              title=\"Convert this dataframe to an interactive table.\"\n",
              "              style=\"display:none;\">\n",
              "        \n",
              "  <svg xmlns=\"http://www.w3.org/2000/svg\" height=\"24px\"viewBox=\"0 0 24 24\"\n",
              "       width=\"24px\">\n",
              "    <path d=\"M0 0h24v24H0V0z\" fill=\"none\"/>\n",
              "    <path d=\"M18.56 5.44l.94 2.06.94-2.06 2.06-.94-2.06-.94-.94-2.06-.94 2.06-2.06.94zm-11 1L8.5 8.5l.94-2.06 2.06-.94-2.06-.94L8.5 2.5l-.94 2.06-2.06.94zm10 10l.94 2.06.94-2.06 2.06-.94-2.06-.94-.94-2.06-.94 2.06-2.06.94z\"/><path d=\"M17.41 7.96l-1.37-1.37c-.4-.4-.92-.59-1.43-.59-.52 0-1.04.2-1.43.59L10.3 9.45l-7.72 7.72c-.78.78-.78 2.05 0 2.83L4 21.41c.39.39.9.59 1.41.59.51 0 1.02-.2 1.41-.59l7.78-7.78 2.81-2.81c.8-.78.8-2.07 0-2.86zM5.41 20L4 18.59l7.72-7.72 1.47 1.35L5.41 20z\"/>\n",
              "  </svg>\n",
              "      </button>\n",
              "      \n",
              "  <style>\n",
              "    .colab-df-container {\n",
              "      display:flex;\n",
              "      flex-wrap:wrap;\n",
              "      gap: 12px;\n",
              "    }\n",
              "\n",
              "    .colab-df-convert {\n",
              "      background-color: #E8F0FE;\n",
              "      border: none;\n",
              "      border-radius: 50%;\n",
              "      cursor: pointer;\n",
              "      display: none;\n",
              "      fill: #1967D2;\n",
              "      height: 32px;\n",
              "      padding: 0 0 0 0;\n",
              "      width: 32px;\n",
              "    }\n",
              "\n",
              "    .colab-df-convert:hover {\n",
              "      background-color: #E2EBFA;\n",
              "      box-shadow: 0px 1px 2px rgba(60, 64, 67, 0.3), 0px 1px 3px 1px rgba(60, 64, 67, 0.15);\n",
              "      fill: #174EA6;\n",
              "    }\n",
              "\n",
              "    [theme=dark] .colab-df-convert {\n",
              "      background-color: #3B4455;\n",
              "      fill: #D2E3FC;\n",
              "    }\n",
              "\n",
              "    [theme=dark] .colab-df-convert:hover {\n",
              "      background-color: #434B5C;\n",
              "      box-shadow: 0px 1px 3px 1px rgba(0, 0, 0, 0.15);\n",
              "      filter: drop-shadow(0px 1px 2px rgba(0, 0, 0, 0.3));\n",
              "      fill: #FFFFFF;\n",
              "    }\n",
              "  </style>\n",
              "\n",
              "      <script>\n",
              "        const buttonEl =\n",
              "          document.querySelector('#df-df1289bc-a557-4c2f-8575-5fb19840d6f3 button.colab-df-convert');\n",
              "        buttonEl.style.display =\n",
              "          google.colab.kernel.accessAllowed ? 'block' : 'none';\n",
              "\n",
              "        async function convertToInteractive(key) {\n",
              "          const element = document.querySelector('#df-df1289bc-a557-4c2f-8575-5fb19840d6f3');\n",
              "          const dataTable =\n",
              "            await google.colab.kernel.invokeFunction('convertToInteractive',\n",
              "                                                     [key], {});\n",
              "          if (!dataTable) return;\n",
              "\n",
              "          const docLinkHtml = 'Like what you see? Visit the ' +\n",
              "            '<a target=\"_blank\" href=https://colab.research.google.com/notebooks/data_table.ipynb>data table notebook</a>'\n",
              "            + ' to learn more about interactive tables.';\n",
              "          element.innerHTML = '';\n",
              "          dataTable['output_type'] = 'display_data';\n",
              "          await google.colab.output.renderOutput(dataTable, element);\n",
              "          const docLink = document.createElement('div');\n",
              "          docLink.innerHTML = docLinkHtml;\n",
              "          element.appendChild(docLink);\n",
              "        }\n",
              "      </script>\n",
              "    </div>\n",
              "  </div>\n",
              "  "
            ]
          },
          "metadata": {},
          "execution_count": 31
        }
      ],
      "source": [
        "y_pred = XGB_model.predict(X_test_scaled)\n",
        "y_pred = pd.DataFrame(y_pred)\n",
        "MAE_XGB= metrics.mean_absolute_error(y_test, y_pred)\n",
        "MSE_XGB = metrics.mean_squared_error(y_test, y_pred)\n",
        "RMSE_XGB =np.sqrt(MSE_XGB)\n",
        "pd.DataFrame([MAE_XGB, MSE_XGB, RMSE_XGB], index=['MAE_XGB', 'MSE_XGB', 'RMSE_XGB'], columns=['Metrics'])"
      ]
    },
    {
      "cell_type": "code",
      "execution_count": null,
      "id": "3c335e77",
      "metadata": {
        "id": "3c335e77",
        "outputId": "bc7b4fd6-bc2d-428e-8921-44502d5b834a",
        "colab": {
          "base_uri": "https://localhost:8080/"
        }
      },
      "outputs": [
        {
          "output_type": "stream",
          "name": "stdout",
          "text": [
            "[01:27:04] WARNING: /workspace/src/objective/regression_obj.cu:152: reg:linear is now deprecated in favor of reg:squarederror.\n",
            "[01:27:04] WARNING: /workspace/src/objective/regression_obj.cu:152: reg:linear is now deprecated in favor of reg:squarederror.\n",
            "[01:27:04] WARNING: /workspace/src/objective/regression_obj.cu:152: reg:linear is now deprecated in favor of reg:squarederror.\n",
            "[01:27:04] WARNING: /workspace/src/objective/regression_obj.cu:152: reg:linear is now deprecated in favor of reg:squarederror.\n",
            "[01:27:04] WARNING: /workspace/src/objective/regression_obj.cu:152: reg:linear is now deprecated in favor of reg:squarederror.\n",
            "[0.90695144 0.92137294 0.91881022 0.91617358 0.91957468]\n"
          ]
        }
      ],
      "source": [
        "scores = cross_val_score(XGB_model, X_train_scaled, y_train, cv=5)\n",
        "print(np.sqrt(scores))"
      ]
    },
    {
      "cell_type": "code",
      "execution_count": null,
      "id": "6290c986",
      "metadata": {
        "id": "6290c986",
        "outputId": "27f011c6-c99d-4696-ddc0-541faabfde26",
        "colab": {
          "base_uri": "https://localhost:8080/"
        }
      },
      "outputs": [
        {
          "output_type": "execute_result",
          "data": {
            "text/plain": [
              "0.8874625580399547"
            ]
          },
          "metadata": {},
          "execution_count": 33
        }
      ],
      "source": [
        "r2_score(y_test, XGB_model.predict(X_test_scaled))"
      ]
    },
    {
      "cell_type": "markdown",
      "id": "6a749ea5",
      "metadata": {
        "id": "6a749ea5"
      },
      "source": [
        "### Random Forest Regressor"
      ]
    },
    {
      "cell_type": "code",
      "execution_count": null,
      "id": "088ee09a",
      "metadata": {
        "id": "088ee09a"
      },
      "outputs": [],
      "source": [
        "forest_reg_model =RandomForestRegressor()\n",
        "forest_reg_model.fit(X_train_scaled, y_train);"
      ]
    },
    {
      "cell_type": "code",
      "execution_count": null,
      "id": "73dc89eb",
      "metadata": {
        "id": "73dc89eb",
        "outputId": "039b411e-ec45-4692-c399-e0ff68439c6d",
        "colab": {
          "base_uri": "https://localhost:8080/",
          "height": 143
        }
      },
      "outputs": [
        {
          "output_type": "execute_result",
          "data": {
            "text/plain": [
              "                      Metrics\n",
              "MAE_forest_reg   2.576532e+03\n",
              "MSE_forest_reg   2.211980e+07\n",
              "RMSE_forest_reg  4.703169e+03"
            ],
            "text/html": [
              "\n",
              "  <div id=\"df-3514b14a-d286-4a6f-9710-b3002e70c706\">\n",
              "    <div class=\"colab-df-container\">\n",
              "      <div>\n",
              "<style scoped>\n",
              "    .dataframe tbody tr th:only-of-type {\n",
              "        vertical-align: middle;\n",
              "    }\n",
              "\n",
              "    .dataframe tbody tr th {\n",
              "        vertical-align: top;\n",
              "    }\n",
              "\n",
              "    .dataframe thead th {\n",
              "        text-align: right;\n",
              "    }\n",
              "</style>\n",
              "<table border=\"1\" class=\"dataframe\">\n",
              "  <thead>\n",
              "    <tr style=\"text-align: right;\">\n",
              "      <th></th>\n",
              "      <th>Metrics</th>\n",
              "    </tr>\n",
              "  </thead>\n",
              "  <tbody>\n",
              "    <tr>\n",
              "      <th>MAE_forest_reg</th>\n",
              "      <td>2.576532e+03</td>\n",
              "    </tr>\n",
              "    <tr>\n",
              "      <th>MSE_forest_reg</th>\n",
              "      <td>2.211980e+07</td>\n",
              "    </tr>\n",
              "    <tr>\n",
              "      <th>RMSE_forest_reg</th>\n",
              "      <td>4.703169e+03</td>\n",
              "    </tr>\n",
              "  </tbody>\n",
              "</table>\n",
              "</div>\n",
              "      <button class=\"colab-df-convert\" onclick=\"convertToInteractive('df-3514b14a-d286-4a6f-9710-b3002e70c706')\"\n",
              "              title=\"Convert this dataframe to an interactive table.\"\n",
              "              style=\"display:none;\">\n",
              "        \n",
              "  <svg xmlns=\"http://www.w3.org/2000/svg\" height=\"24px\"viewBox=\"0 0 24 24\"\n",
              "       width=\"24px\">\n",
              "    <path d=\"M0 0h24v24H0V0z\" fill=\"none\"/>\n",
              "    <path d=\"M18.56 5.44l.94 2.06.94-2.06 2.06-.94-2.06-.94-.94-2.06-.94 2.06-2.06.94zm-11 1L8.5 8.5l.94-2.06 2.06-.94-2.06-.94L8.5 2.5l-.94 2.06-2.06.94zm10 10l.94 2.06.94-2.06 2.06-.94-2.06-.94-.94-2.06-.94 2.06-2.06.94z\"/><path d=\"M17.41 7.96l-1.37-1.37c-.4-.4-.92-.59-1.43-.59-.52 0-1.04.2-1.43.59L10.3 9.45l-7.72 7.72c-.78.78-.78 2.05 0 2.83L4 21.41c.39.39.9.59 1.41.59.51 0 1.02-.2 1.41-.59l7.78-7.78 2.81-2.81c.8-.78.8-2.07 0-2.86zM5.41 20L4 18.59l7.72-7.72 1.47 1.35L5.41 20z\"/>\n",
              "  </svg>\n",
              "      </button>\n",
              "      \n",
              "  <style>\n",
              "    .colab-df-container {\n",
              "      display:flex;\n",
              "      flex-wrap:wrap;\n",
              "      gap: 12px;\n",
              "    }\n",
              "\n",
              "    .colab-df-convert {\n",
              "      background-color: #E8F0FE;\n",
              "      border: none;\n",
              "      border-radius: 50%;\n",
              "      cursor: pointer;\n",
              "      display: none;\n",
              "      fill: #1967D2;\n",
              "      height: 32px;\n",
              "      padding: 0 0 0 0;\n",
              "      width: 32px;\n",
              "    }\n",
              "\n",
              "    .colab-df-convert:hover {\n",
              "      background-color: #E2EBFA;\n",
              "      box-shadow: 0px 1px 2px rgba(60, 64, 67, 0.3), 0px 1px 3px 1px rgba(60, 64, 67, 0.15);\n",
              "      fill: #174EA6;\n",
              "    }\n",
              "\n",
              "    [theme=dark] .colab-df-convert {\n",
              "      background-color: #3B4455;\n",
              "      fill: #D2E3FC;\n",
              "    }\n",
              "\n",
              "    [theme=dark] .colab-df-convert:hover {\n",
              "      background-color: #434B5C;\n",
              "      box-shadow: 0px 1px 3px 1px rgba(0, 0, 0, 0.15);\n",
              "      filter: drop-shadow(0px 1px 2px rgba(0, 0, 0, 0.3));\n",
              "      fill: #FFFFFF;\n",
              "    }\n",
              "  </style>\n",
              "\n",
              "      <script>\n",
              "        const buttonEl =\n",
              "          document.querySelector('#df-3514b14a-d286-4a6f-9710-b3002e70c706 button.colab-df-convert');\n",
              "        buttonEl.style.display =\n",
              "          google.colab.kernel.accessAllowed ? 'block' : 'none';\n",
              "\n",
              "        async function convertToInteractive(key) {\n",
              "          const element = document.querySelector('#df-3514b14a-d286-4a6f-9710-b3002e70c706');\n",
              "          const dataTable =\n",
              "            await google.colab.kernel.invokeFunction('convertToInteractive',\n",
              "                                                     [key], {});\n",
              "          if (!dataTable) return;\n",
              "\n",
              "          const docLinkHtml = 'Like what you see? Visit the ' +\n",
              "            '<a target=\"_blank\" href=https://colab.research.google.com/notebooks/data_table.ipynb>data table notebook</a>'\n",
              "            + ' to learn more about interactive tables.';\n",
              "          element.innerHTML = '';\n",
              "          dataTable['output_type'] = 'display_data';\n",
              "          await google.colab.output.renderOutput(dataTable, element);\n",
              "          const docLink = document.createElement('div');\n",
              "          docLink.innerHTML = docLinkHtml;\n",
              "          element.appendChild(docLink);\n",
              "        }\n",
              "      </script>\n",
              "    </div>\n",
              "  </div>\n",
              "  "
            ]
          },
          "metadata": {},
          "execution_count": 35
        }
      ],
      "source": [
        "y_pred = forest_reg_model.predict(X_test_scaled)\n",
        "y_pred = pd.DataFrame(y_pred)\n",
        "MAE_forest_reg= metrics.mean_absolute_error(y_test, y_pred)\n",
        "MSE_forest_reg = metrics.mean_squared_error(y_test, y_pred)\n",
        "RMSE_forest_reg =np.sqrt(MSE_forest_reg)\n",
        "pd.DataFrame([MAE_forest_reg, MSE_forest_reg, RMSE_forest_reg], index=['MAE_forest_reg', 'MSE_forest_reg', 'RMSE_forest_reg'], columns=['Metrics'])"
      ]
    },
    {
      "cell_type": "code",
      "execution_count": null,
      "id": "cd1a3419",
      "metadata": {
        "id": "cd1a3419",
        "outputId": "0257c7ca-ade1-4d97-d208-12f7ddd34177",
        "colab": {
          "base_uri": "https://localhost:8080/"
        }
      },
      "outputs": [
        {
          "output_type": "stream",
          "name": "stdout",
          "text": [
            "[0.90420681 0.90871542 0.90036462 0.90825436 0.90774568]\n"
          ]
        }
      ],
      "source": [
        "scores = cross_val_score(forest_reg_model, X_train_scaled, y_train, cv=5)\n",
        "print(np.sqrt(scores))"
      ]
    },
    {
      "cell_type": "code",
      "execution_count": null,
      "id": "cd3a923e",
      "metadata": {
        "id": "cd3a923e",
        "outputId": "6c34ab75-0813-4da3-dbd0-2313fc9449ea",
        "colab": {
          "base_uri": "https://localhost:8080/"
        }
      },
      "outputs": [
        {
          "output_type": "execute_result",
          "data": {
            "text/plain": [
              "0.8720732048497581"
            ]
          },
          "metadata": {},
          "execution_count": 37
        }
      ],
      "source": [
        "r2_score(y_test, forest_reg_model.predict(X_test_scaled))"
      ]
    },
    {
      "cell_type": "markdown",
      "id": "c4745464",
      "metadata": {
        "id": "c4745464"
      },
      "source": [
        "## Conclussion"
      ]
    },
    {
      "cell_type": "markdown",
      "id": "5f219150",
      "metadata": {
        "id": "5f219150"
      },
      "source": [
        "- In general, smokers spend more on medical cost than non-smokers. As smokers get older, have children, and gain weight, their medical costs increase even more.\n",
        "- The medical insurance company should focus more on promoting its insurance services to non-smokers, as they are the ones who are more likely to be pressured by medical bills, which is where the company's services come in handy\n",
        "- The best model of the three models that have been tested to predict the charges to be paid is Random Forest Regressor\n",
        "- By being able to predict costs well we can determine the best price that competes with other companies but makes our company more profitable"
      ]
    },
    {
      "cell_type": "code",
      "execution_count": null,
      "id": "85ab6bcb",
      "metadata": {
        "id": "85ab6bcb"
      },
      "outputs": [],
      "source": []
    }
  ],
  "metadata": {
    "kernelspec": {
      "display_name": "Python 3 (ipykernel)",
      "language": "python",
      "name": "python3"
    },
    "language_info": {
      "codemirror_mode": {
        "name": "ipython",
        "version": 3
      },
      "file_extension": ".py",
      "mimetype": "text/x-python",
      "name": "python",
      "nbconvert_exporter": "python",
      "pygments_lexer": "ipython3",
      "version": "3.9.12"
    },
    "colab": {
      "provenance": [],
      "collapsed_sections": [
        "41280341",
        "70d66be7",
        "23c28831"
      ],
      "include_colab_link": true
    }
  },
  "nbformat": 4,
  "nbformat_minor": 5
}