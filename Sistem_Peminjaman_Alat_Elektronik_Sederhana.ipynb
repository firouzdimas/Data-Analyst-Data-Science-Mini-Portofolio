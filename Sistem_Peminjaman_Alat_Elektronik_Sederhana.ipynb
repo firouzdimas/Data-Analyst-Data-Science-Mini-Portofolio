{
  "nbformat": 4,
  "nbformat_minor": 0,
  "metadata": {
    "colab": {
      "provenance": [],
      "include_colab_link": true
    },
    "kernelspec": {
      "name": "python3",
      "display_name": "Python 3"
    },
    "language_info": {
      "name": "python"
    }
  },
  "cells": [
    {
      "cell_type": "markdown",
      "metadata": {
        "id": "view-in-github",
        "colab_type": "text"
      },
      "source": [
        "<a href=\"https://colab.research.google.com/github/firouzdimas/Data-Analyst-Data-Science-Mini-Portofolio/blob/main/Sistem_Peminjaman_Alat_Elektronik_Sederhana.ipynb\" target=\"_parent\"><img src=\"https://colab.research.google.com/assets/colab-badge.svg\" alt=\"Open In Colab\"/></a>"
      ]
    },
    {
      "cell_type": "code",
      "source": [
        "def returning_product(products, search_query):\n",
        "    for product in stock:\n",
        "        if search_query.lower() in product[0].lower():\n",
        "            print(\"Product: \", product[0])\n",
        "            print(\"Price: Rp.\", product[1])\n",
        "            print(\"Stock: \", product[2])\n",
        "            print()\n",
        "            konfirmasi_pengembalian = input('Apakah barang ingin dikembalikan? (Ya/Tidak): ')\n",
        "            jumlah_unit2 = int(input('Jumlah Unit: '))\n",
        "            print('Terima kasih telah bertransaksi di studentplaza')\n",
        "            if konfirmasi_pengembalian.lower() == 'ya':\n",
        "                product_index = stock.index(product)  # sistem akan menjadi product berdasarkan index nya\n",
        "                remaining_stock = product[2] + jumlah_unit2  # stok akan berkurang sesuai jumlah unit yang dipesan\n",
        "                stock[product_index] = (product[0], product[1], remaining_stock)  # Update the stock with added availability\n",
        "\n",
        "def search_product(products, search_query):\n",
        "    for product in stock:\n",
        "        if search_query.lower() in product[0].lower():\n",
        "            print(\"Product: \", product[0])\n",
        "            print(\"Price: Rp.\", product[1])\n",
        "            print(\"Stock: \", product[2])\n",
        "            print()\n",
        "            konfirmasi = input('Apakah Anda Ingin merentalnya? (Ya/Tidak): ')\n",
        "            jumlah_unit = int(input('Jumlah Unit: '))\n",
        "            Bayar = int(input('Jumlah Pembayaran: Rp. '))\n",
        "            print(Bayar, 'telah diterima')\n",
        "            print('Terima kasih telah bertransaksi di studentplazamks')\n",
        "            if konfirmasi.lower() == 'ya':\n",
        "                product_index = stock.index(product)  # sistem akan menjadi product berdasarkan index nya\n",
        "                remaining_stock = product[2] - jumlah_unit  # stok akan berkurang sesuai jumlah unit yang dipesan\n",
        "\n",
        "                if remaining_stock >= 0:\n",
        "                    stock[product_index] = (product[0], product[1], remaining_stock)  # Update the stock with reduced availability\n",
        "                    print(\"Barang bisa diambil di kasir.\")\n",
        "                else:\n",
        "                    print(\"Maaf, stok produk habis.\")\n",
        "            else:\n",
        "                print(\"Terima kasih!\")\n",
        "\n",
        "            break  # Exit the loop after processing a matching product\n",
        "\n",
        "stock = [\n",
        "    ('Gopro', 10000, 2),\n",
        "    ('Kipas Angin', 2000, 4),\n",
        "    ('Speaker', 1200, 2),\n",
        "    ('Laptop', 4560, 10),\n",
        "    ('Sepeda Listrik', 3210, 8)\n",
        "]"
      ],
      "metadata": {
        "id": "CoEj2rxOdPCX"
      },
      "execution_count": 1,
      "outputs": []
    },
    {
      "cell_type": "code",
      "source": [
        "def homepage():\n",
        "  print('Meminjam press 1')\n",
        "  print('Mengembalikan press 2')\n",
        "  Main_Activity = int(input('masukan pilihan: '))\n",
        "\n",
        "  if Main_Activity == 1:\n",
        "    print('Nama Barang, Harga, dan Stock sebagai berikut')\n",
        "    print(stock)\n",
        "    pinjam = str(input('Mau Pinjam Apa: '))\n",
        "    search_product(stock, pinjam)\n",
        "\n",
        "  elif Main_Activity == 2:\n",
        "    print('Nama Barang, Harga, dan Stock sebagai berikut')\n",
        "    print(stock)\n",
        "    kembali = str(input('Mau mengembalikan apa: '))\n",
        "    returning_product(stock, kembali)\n",
        "\n",
        "  else:\n",
        "    print('Inputan Anda Tidak Dikenali')"
      ],
      "metadata": {
        "id": "wyGkWNE5aOvj"
      },
      "execution_count": 2,
      "outputs": []
    },
    {
      "cell_type": "code",
      "source": [
        "Old_Customer = ['Lina', 'Syahbandi', 'Anna', 'Adel', 'Ida', 'Agung', 'Enggar', 'Hilman']\n",
        "HP = []\n",
        "City = []"
      ],
      "metadata": {
        "id": "4BU9PnDs_VKz"
      },
      "execution_count": 3,
      "outputs": []
    },
    {
      "cell_type": "code",
      "execution_count": null,
      "metadata": {
        "colab": {
          "base_uri": "https://localhost:8080/"
        },
        "id": "pl7I6CQC4bpX",
        "outputId": "5ad4b6d8-c03d-428c-eb9c-197e08286a4e"
      },
      "outputs": [
        {
          "output_type": "stream",
          "name": "stdout",
          "text": [
            "\n",
            "---------------------------------\n",
            "Selamat Datang di StudentPlaza\n",
            "---------------------------------\n",
            "Customer Baru? Tekan 1\n",
            "Customer Lama? Tekan 2\n",
            "\n"
          ]
        }
      ],
      "source": [
        "print('''\n",
        "---------------------------------\n",
        "Selamat Datang di StudentPlaza\n",
        "---------------------------------\n",
        "Customer Baru? Tekan 1\n",
        "Customer Lama? Tekan 2\n",
        "''')\n",
        "\n",
        "Splash_Screen = int(input('masukan pilihan: '))\n",
        "if Splash_Screen == 1:\n",
        "  Nama = (str(input('Nama: ')))\n",
        "  Old_Customer.append(Nama)\n",
        "  Mobile = int(input('No. HP: '))\n",
        "  HP.append(Mobile)\n",
        "  Kota = str(input('Kota Asal: '))\n",
        "  City.append(Kota)\n",
        "  print('Selamat', Nama, 'Pendaftaran Kamu diterima')\n",
        "\n",
        "  print('Kamu mau meminjam atau mengembalikan?')\n",
        "  homepage()\n",
        "\n",
        "elif Splash_Screen == 2:\n",
        "  Cari_Customer = (str(input('Nama: ')))\n",
        "\n",
        "  if Cari_Customer in Old_Customer:\n",
        "    print('Selamat Datang Kembali,', Cari_Customer)\n",
        "\n",
        "    print('Kamu mau meminjam atau mengembalikan?')\n",
        "    homepage()\n",
        "\n",
        "  else:\n",
        "    print('Data tidak ditemukan silahkan register')\n",
        "\n",
        "else:\n",
        "  print('input tidak dikenali')"
      ]
    },
    {
      "cell_type": "code",
      "source": [
        "stock"
      ],
      "metadata": {
        "id": "T9KOQrhKFyQc"
      },
      "execution_count": null,
      "outputs": []
    }
  ]
}